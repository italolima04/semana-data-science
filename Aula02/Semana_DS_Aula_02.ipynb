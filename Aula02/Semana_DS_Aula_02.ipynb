{
  "nbformat": 4,
  "nbformat_minor": 0,
  "metadata": {
    "colab": {
      "name": "Semana_DS_Aula_02.ipynb",
      "provenance": [],
      "collapsed_sections": [
        "dgz0jQFmtjfB",
        "SXQdaCnutzi-",
        "QkFZRI_Gth5j",
        "rs929z6KzEXb",
        "iU-wCSJ1VS6O",
        "ryCYB0DQWe0g",
        "AL3GEVJgZlTM",
        "eO4cElMvpQsa"
      ],
      "authorship_tag": "ABX9TyM9QM2Z4As/plqMOrnsx2LM",
      "include_colab_link": true
    },
    "kernelspec": {
      "name": "python3",
      "display_name": "Python 3"
    }
  },
  "cells": [
    {
      "cell_type": "markdown",
      "metadata": {
        "id": "view-in-github",
        "colab_type": "text"
      },
      "source": [
        "<a href=\"https://colab.research.google.com/github/italolima04/semana-data-science/blob/master/Aula02/Semana_DS_Aula_02.ipynb\" target=\"_parent\"><img src=\"https://colab.research.google.com/assets/colab-badge.svg\" alt=\"Open In Colab\"/></a>"
      ]
    },
    {
      "cell_type": "markdown",
      "metadata": {
        "id": "dgz0jQFmtjfB",
        "colab_type": "text"
      },
      "source": [
        "# Importando Bibliotecas e Descrevendo os Dados"
      ]
    },
    {
      "cell_type": "markdown",
      "metadata": {
        "id": "votmddZqo69z",
        "colab_type": "text"
      },
      "source": [
        "**Conectando o Drive ao Colab, fornecendo permissão ao acesso de arquivos**"
      ]
    },
    {
      "cell_type": "code",
      "metadata": {
        "id": "z7pN01LYidAh",
        "colab_type": "code",
        "colab": {}
      },
      "source": [
        "#from google.colab import drive\n",
        "#drive.mount('/content/drive')"
      ],
      "execution_count": 0,
      "outputs": []
    },
    {
      "cell_type": "markdown",
      "metadata": {
        "id": "h6C9F7DEpCnA",
        "colab_type": "text"
      },
      "source": [
        "**Importando as bibliotecas utilizadas**"
      ]
    },
    {
      "cell_type": "code",
      "metadata": {
        "id": "wywhdj8zlYw0",
        "colab_type": "code",
        "outputId": "8daa15bb-965a-4d05-8bac-00e1cd6800e6",
        "colab": {
          "base_uri": "https://localhost:8080/",
          "height": 71
        }
      },
      "source": [
        "import pandas as pd\n",
        "import numpy as np\n",
        "import matplotlib.pyplot as plt\n",
        "import seaborn as sns"
      ],
      "execution_count": 0,
      "outputs": [
        {
          "output_type": "stream",
          "text": [
            "/usr/local/lib/python3.6/dist-packages/statsmodels/tools/_testing.py:19: FutureWarning: pandas.util.testing is deprecated. Use the functions in the public API at pandas.testing instead.\n",
            "  import pandas.util.testing as tm\n"
          ],
          "name": "stderr"
        }
      ]
    },
    {
      "cell_type": "markdown",
      "metadata": {
        "id": "xhx3wrtZpGH4",
        "colab_type": "text"
      },
      "source": [
        "**Importando e carregando os dados da base de dados da biblioteca Skelearn**"
      ]
    },
    {
      "cell_type": "code",
      "metadata": {
        "id": "B-F71xBaluUo",
        "colab_type": "code",
        "colab": {}
      },
      "source": [
        "from sklearn.datasets import load_boston\n",
        "boston = load_boston()"
      ],
      "execution_count": 0,
      "outputs": []
    },
    {
      "cell_type": "markdown",
      "metadata": {
        "id": "--3qGGLCpNLP",
        "colab_type": "text"
      },
      "source": [
        "**Apresentar uma breve descrição sobre os dados**"
      ]
    },
    {
      "cell_type": "code",
      "metadata": {
        "id": "p1a9l6ovnR2T",
        "colab_type": "code",
        "outputId": "a4a987a1-92ad-4541-f9f2-f7aeee1bbf2a",
        "colab": {
          "base_uri": "https://localhost:8080/",
          "height": 904
        }
      },
      "source": [
        "print(boston.DESCR)"
      ],
      "execution_count": 0,
      "outputs": [
        {
          "output_type": "stream",
          "text": [
            ".. _boston_dataset:\n",
            "\n",
            "Boston house prices dataset\n",
            "---------------------------\n",
            "\n",
            "**Data Set Characteristics:**  \n",
            "\n",
            "    :Number of Instances: 506 \n",
            "\n",
            "    :Number of Attributes: 13 numeric/categorical predictive. Median Value (attribute 14) is usually the target.\n",
            "\n",
            "    :Attribute Information (in order):\n",
            "        - CRIM     per capita crime rate by town\n",
            "        - ZN       proportion of residential land zoned for lots over 25,000 sq.ft.\n",
            "        - INDUS    proportion of non-retail business acres per town\n",
            "        - CHAS     Charles River dummy variable (= 1 if tract bounds river; 0 otherwise)\n",
            "        - NOX      nitric oxides concentration (parts per 10 million)\n",
            "        - RM       average number of rooms per dwelling\n",
            "        - AGE      proportion of owner-occupied units built prior to 1940\n",
            "        - DIS      weighted distances to five Boston employment centres\n",
            "        - RAD      index of accessibility to radial highways\n",
            "        - TAX      full-value property-tax rate per $10,000\n",
            "        - PTRATIO  pupil-teacher ratio by town\n",
            "        - B        1000(Bk - 0.63)^2 where Bk is the proportion of blacks by town\n",
            "        - LSTAT    % lower status of the population\n",
            "        - MEDV     Median value of owner-occupied homes in $1000's\n",
            "\n",
            "    :Missing Attribute Values: None\n",
            "\n",
            "    :Creator: Harrison, D. and Rubinfeld, D.L.\n",
            "\n",
            "This is a copy of UCI ML housing dataset.\n",
            "https://archive.ics.uci.edu/ml/machine-learning-databases/housing/\n",
            "\n",
            "\n",
            "This dataset was taken from the StatLib library which is maintained at Carnegie Mellon University.\n",
            "\n",
            "The Boston house-price data of Harrison, D. and Rubinfeld, D.L. 'Hedonic\n",
            "prices and the demand for clean air', J. Environ. Economics & Management,\n",
            "vol.5, 81-102, 1978.   Used in Belsley, Kuh & Welsch, 'Regression diagnostics\n",
            "...', Wiley, 1980.   N.B. Various transformations are used in the table on\n",
            "pages 244-261 of the latter.\n",
            "\n",
            "The Boston house-price data has been used in many machine learning papers that address regression\n",
            "problems.   \n",
            "     \n",
            ".. topic:: References\n",
            "\n",
            "   - Belsley, Kuh & Welsch, 'Regression diagnostics: Identifying Influential Data and Sources of Collinearity', Wiley, 1980. 244-261.\n",
            "   - Quinlan,R. (1993). Combining Instance-Based and Model-Based Learning. In Proceedings on the Tenth International Conference of Machine Learning, 236-243, University of Massachusetts, Amherst. Morgan Kaufmann.\n",
            "\n"
          ],
          "name": "stdout"
        }
      ]
    },
    {
      "cell_type": "markdown",
      "metadata": {
        "id": "ogyFj06zpSRG",
        "colab_type": "text"
      },
      "source": [
        "**Criando um Data Frame a partir dos dados importados**"
      ]
    },
    {
      "cell_type": "code",
      "metadata": {
        "id": "vfm8NvT3l8NT",
        "colab_type": "code",
        "colab": {}
      },
      "source": [
        "dados = pd.DataFrame(boston.data, columns=boston.feature_names)"
      ],
      "execution_count": 0,
      "outputs": []
    },
    {
      "cell_type": "markdown",
      "metadata": {
        "id": "02EPFWHcpWCa",
        "colab_type": "text"
      },
      "source": [
        "**Visualizando os dados**"
      ]
    },
    {
      "cell_type": "code",
      "metadata": {
        "id": "aibAkGyOmGv5",
        "colab_type": "code",
        "outputId": "be62e411-a47a-4192-e6f2-678629e25f50",
        "colab": {
          "base_uri": "https://localhost:8080/",
          "height": 359
        }
      },
      "source": [
        "dados.head(10)"
      ],
      "execution_count": 0,
      "outputs": [
        {
          "output_type": "execute_result",
          "data": {
            "text/html": [
              "<div>\n",
              "<style scoped>\n",
              "    .dataframe tbody tr th:only-of-type {\n",
              "        vertical-align: middle;\n",
              "    }\n",
              "\n",
              "    .dataframe tbody tr th {\n",
              "        vertical-align: top;\n",
              "    }\n",
              "\n",
              "    .dataframe thead th {\n",
              "        text-align: right;\n",
              "    }\n",
              "</style>\n",
              "<table border=\"1\" class=\"dataframe\">\n",
              "  <thead>\n",
              "    <tr style=\"text-align: right;\">\n",
              "      <th></th>\n",
              "      <th>CRIM</th>\n",
              "      <th>ZN</th>\n",
              "      <th>INDUS</th>\n",
              "      <th>CHAS</th>\n",
              "      <th>NOX</th>\n",
              "      <th>RM</th>\n",
              "      <th>AGE</th>\n",
              "      <th>DIS</th>\n",
              "      <th>RAD</th>\n",
              "      <th>TAX</th>\n",
              "      <th>PTRATIO</th>\n",
              "      <th>B</th>\n",
              "      <th>LSTAT</th>\n",
              "    </tr>\n",
              "  </thead>\n",
              "  <tbody>\n",
              "    <tr>\n",
              "      <th>0</th>\n",
              "      <td>0.00632</td>\n",
              "      <td>18.0</td>\n",
              "      <td>2.31</td>\n",
              "      <td>0.0</td>\n",
              "      <td>0.538</td>\n",
              "      <td>6.575</td>\n",
              "      <td>65.2</td>\n",
              "      <td>4.0900</td>\n",
              "      <td>1.0</td>\n",
              "      <td>296.0</td>\n",
              "      <td>15.3</td>\n",
              "      <td>396.90</td>\n",
              "      <td>4.98</td>\n",
              "    </tr>\n",
              "    <tr>\n",
              "      <th>1</th>\n",
              "      <td>0.02731</td>\n",
              "      <td>0.0</td>\n",
              "      <td>7.07</td>\n",
              "      <td>0.0</td>\n",
              "      <td>0.469</td>\n",
              "      <td>6.421</td>\n",
              "      <td>78.9</td>\n",
              "      <td>4.9671</td>\n",
              "      <td>2.0</td>\n",
              "      <td>242.0</td>\n",
              "      <td>17.8</td>\n",
              "      <td>396.90</td>\n",
              "      <td>9.14</td>\n",
              "    </tr>\n",
              "    <tr>\n",
              "      <th>2</th>\n",
              "      <td>0.02729</td>\n",
              "      <td>0.0</td>\n",
              "      <td>7.07</td>\n",
              "      <td>0.0</td>\n",
              "      <td>0.469</td>\n",
              "      <td>7.185</td>\n",
              "      <td>61.1</td>\n",
              "      <td>4.9671</td>\n",
              "      <td>2.0</td>\n",
              "      <td>242.0</td>\n",
              "      <td>17.8</td>\n",
              "      <td>392.83</td>\n",
              "      <td>4.03</td>\n",
              "    </tr>\n",
              "    <tr>\n",
              "      <th>3</th>\n",
              "      <td>0.03237</td>\n",
              "      <td>0.0</td>\n",
              "      <td>2.18</td>\n",
              "      <td>0.0</td>\n",
              "      <td>0.458</td>\n",
              "      <td>6.998</td>\n",
              "      <td>45.8</td>\n",
              "      <td>6.0622</td>\n",
              "      <td>3.0</td>\n",
              "      <td>222.0</td>\n",
              "      <td>18.7</td>\n",
              "      <td>394.63</td>\n",
              "      <td>2.94</td>\n",
              "    </tr>\n",
              "    <tr>\n",
              "      <th>4</th>\n",
              "      <td>0.06905</td>\n",
              "      <td>0.0</td>\n",
              "      <td>2.18</td>\n",
              "      <td>0.0</td>\n",
              "      <td>0.458</td>\n",
              "      <td>7.147</td>\n",
              "      <td>54.2</td>\n",
              "      <td>6.0622</td>\n",
              "      <td>3.0</td>\n",
              "      <td>222.0</td>\n",
              "      <td>18.7</td>\n",
              "      <td>396.90</td>\n",
              "      <td>5.33</td>\n",
              "    </tr>\n",
              "    <tr>\n",
              "      <th>5</th>\n",
              "      <td>0.02985</td>\n",
              "      <td>0.0</td>\n",
              "      <td>2.18</td>\n",
              "      <td>0.0</td>\n",
              "      <td>0.458</td>\n",
              "      <td>6.430</td>\n",
              "      <td>58.7</td>\n",
              "      <td>6.0622</td>\n",
              "      <td>3.0</td>\n",
              "      <td>222.0</td>\n",
              "      <td>18.7</td>\n",
              "      <td>394.12</td>\n",
              "      <td>5.21</td>\n",
              "    </tr>\n",
              "    <tr>\n",
              "      <th>6</th>\n",
              "      <td>0.08829</td>\n",
              "      <td>12.5</td>\n",
              "      <td>7.87</td>\n",
              "      <td>0.0</td>\n",
              "      <td>0.524</td>\n",
              "      <td>6.012</td>\n",
              "      <td>66.6</td>\n",
              "      <td>5.5605</td>\n",
              "      <td>5.0</td>\n",
              "      <td>311.0</td>\n",
              "      <td>15.2</td>\n",
              "      <td>395.60</td>\n",
              "      <td>12.43</td>\n",
              "    </tr>\n",
              "    <tr>\n",
              "      <th>7</th>\n",
              "      <td>0.14455</td>\n",
              "      <td>12.5</td>\n",
              "      <td>7.87</td>\n",
              "      <td>0.0</td>\n",
              "      <td>0.524</td>\n",
              "      <td>6.172</td>\n",
              "      <td>96.1</td>\n",
              "      <td>5.9505</td>\n",
              "      <td>5.0</td>\n",
              "      <td>311.0</td>\n",
              "      <td>15.2</td>\n",
              "      <td>396.90</td>\n",
              "      <td>19.15</td>\n",
              "    </tr>\n",
              "    <tr>\n",
              "      <th>8</th>\n",
              "      <td>0.21124</td>\n",
              "      <td>12.5</td>\n",
              "      <td>7.87</td>\n",
              "      <td>0.0</td>\n",
              "      <td>0.524</td>\n",
              "      <td>5.631</td>\n",
              "      <td>100.0</td>\n",
              "      <td>6.0821</td>\n",
              "      <td>5.0</td>\n",
              "      <td>311.0</td>\n",
              "      <td>15.2</td>\n",
              "      <td>386.63</td>\n",
              "      <td>29.93</td>\n",
              "    </tr>\n",
              "    <tr>\n",
              "      <th>9</th>\n",
              "      <td>0.17004</td>\n",
              "      <td>12.5</td>\n",
              "      <td>7.87</td>\n",
              "      <td>0.0</td>\n",
              "      <td>0.524</td>\n",
              "      <td>6.004</td>\n",
              "      <td>85.9</td>\n",
              "      <td>6.5921</td>\n",
              "      <td>5.0</td>\n",
              "      <td>311.0</td>\n",
              "      <td>15.2</td>\n",
              "      <td>386.71</td>\n",
              "      <td>17.10</td>\n",
              "    </tr>\n",
              "  </tbody>\n",
              "</table>\n",
              "</div>"
            ],
            "text/plain": [
              "      CRIM    ZN  INDUS  CHAS    NOX  ...  RAD    TAX  PTRATIO       B  LSTAT\n",
              "0  0.00632  18.0   2.31   0.0  0.538  ...  1.0  296.0     15.3  396.90   4.98\n",
              "1  0.02731   0.0   7.07   0.0  0.469  ...  2.0  242.0     17.8  396.90   9.14\n",
              "2  0.02729   0.0   7.07   0.0  0.469  ...  2.0  242.0     17.8  392.83   4.03\n",
              "3  0.03237   0.0   2.18   0.0  0.458  ...  3.0  222.0     18.7  394.63   2.94\n",
              "4  0.06905   0.0   2.18   0.0  0.458  ...  3.0  222.0     18.7  396.90   5.33\n",
              "5  0.02985   0.0   2.18   0.0  0.458  ...  3.0  222.0     18.7  394.12   5.21\n",
              "6  0.08829  12.5   7.87   0.0  0.524  ...  5.0  311.0     15.2  395.60  12.43\n",
              "7  0.14455  12.5   7.87   0.0  0.524  ...  5.0  311.0     15.2  396.90  19.15\n",
              "8  0.21124  12.5   7.87   0.0  0.524  ...  5.0  311.0     15.2  386.63  29.93\n",
              "9  0.17004  12.5   7.87   0.0  0.524  ...  5.0  311.0     15.2  386.71  17.10\n",
              "\n",
              "[10 rows x 13 columns]"
            ]
          },
          "metadata": {
            "tags": []
          },
          "execution_count": 8
        }
      ]
    },
    {
      "cell_type": "markdown",
      "metadata": {
        "id": "Gfg6quHGmfw9",
        "colab_type": "text"
      },
      "source": [
        "**Verificando se existem valores nulos dentre os nossos dados**"
      ]
    },
    {
      "cell_type": "code",
      "metadata": {
        "id": "CLABh3m0mL-4",
        "colab_type": "code",
        "outputId": "0fd2c65e-717c-4eb4-ce3c-9130b890e97e",
        "colab": {
          "base_uri": "https://localhost:8080/",
          "height": 255
        }
      },
      "source": [
        "dados.isnull().sum()"
      ],
      "execution_count": 0,
      "outputs": [
        {
          "output_type": "execute_result",
          "data": {
            "text/plain": [
              "CRIM       0\n",
              "ZN         0\n",
              "INDUS      0\n",
              "CHAS       0\n",
              "NOX        0\n",
              "RM         0\n",
              "AGE        0\n",
              "DIS        0\n",
              "RAD        0\n",
              "TAX        0\n",
              "PTRATIO    0\n",
              "B          0\n",
              "LSTAT      0\n",
              "dtype: int64"
            ]
          },
          "metadata": {
            "tags": []
          },
          "execution_count": 9
        }
      ]
    },
    {
      "cell_type": "markdown",
      "metadata": {
        "id": "1L2SaUqgmnxX",
        "colab_type": "text"
      },
      "source": [
        "**Verificando a descrição estatística dos dados através do método describe() do Pandas**"
      ]
    },
    {
      "cell_type": "code",
      "metadata": {
        "id": "9Hqrtdw9mKbF",
        "colab_type": "code",
        "outputId": "29d23c33-667f-430d-8b82-d31d31b6663c",
        "colab": {
          "base_uri": "https://localhost:8080/",
          "height": 297
        }
      },
      "source": [
        "dados.describe()"
      ],
      "execution_count": 0,
      "outputs": [
        {
          "output_type": "execute_result",
          "data": {
            "text/html": [
              "<div>\n",
              "<style scoped>\n",
              "    .dataframe tbody tr th:only-of-type {\n",
              "        vertical-align: middle;\n",
              "    }\n",
              "\n",
              "    .dataframe tbody tr th {\n",
              "        vertical-align: top;\n",
              "    }\n",
              "\n",
              "    .dataframe thead th {\n",
              "        text-align: right;\n",
              "    }\n",
              "</style>\n",
              "<table border=\"1\" class=\"dataframe\">\n",
              "  <thead>\n",
              "    <tr style=\"text-align: right;\">\n",
              "      <th></th>\n",
              "      <th>CRIM</th>\n",
              "      <th>ZN</th>\n",
              "      <th>INDUS</th>\n",
              "      <th>CHAS</th>\n",
              "      <th>NOX</th>\n",
              "      <th>RM</th>\n",
              "      <th>AGE</th>\n",
              "      <th>DIS</th>\n",
              "      <th>RAD</th>\n",
              "      <th>TAX</th>\n",
              "      <th>PTRATIO</th>\n",
              "      <th>B</th>\n",
              "      <th>LSTAT</th>\n",
              "    </tr>\n",
              "  </thead>\n",
              "  <tbody>\n",
              "    <tr>\n",
              "      <th>count</th>\n",
              "      <td>506.000000</td>\n",
              "      <td>506.000000</td>\n",
              "      <td>506.000000</td>\n",
              "      <td>506.000000</td>\n",
              "      <td>506.000000</td>\n",
              "      <td>506.000000</td>\n",
              "      <td>506.000000</td>\n",
              "      <td>506.000000</td>\n",
              "      <td>506.000000</td>\n",
              "      <td>506.000000</td>\n",
              "      <td>506.000000</td>\n",
              "      <td>506.000000</td>\n",
              "      <td>506.000000</td>\n",
              "    </tr>\n",
              "    <tr>\n",
              "      <th>mean</th>\n",
              "      <td>3.613524</td>\n",
              "      <td>11.363636</td>\n",
              "      <td>11.136779</td>\n",
              "      <td>0.069170</td>\n",
              "      <td>0.554695</td>\n",
              "      <td>6.284634</td>\n",
              "      <td>68.574901</td>\n",
              "      <td>3.795043</td>\n",
              "      <td>9.549407</td>\n",
              "      <td>408.237154</td>\n",
              "      <td>18.455534</td>\n",
              "      <td>356.674032</td>\n",
              "      <td>12.653063</td>\n",
              "    </tr>\n",
              "    <tr>\n",
              "      <th>std</th>\n",
              "      <td>8.601545</td>\n",
              "      <td>23.322453</td>\n",
              "      <td>6.860353</td>\n",
              "      <td>0.253994</td>\n",
              "      <td>0.115878</td>\n",
              "      <td>0.702617</td>\n",
              "      <td>28.148861</td>\n",
              "      <td>2.105710</td>\n",
              "      <td>8.707259</td>\n",
              "      <td>168.537116</td>\n",
              "      <td>2.164946</td>\n",
              "      <td>91.294864</td>\n",
              "      <td>7.141062</td>\n",
              "    </tr>\n",
              "    <tr>\n",
              "      <th>min</th>\n",
              "      <td>0.006320</td>\n",
              "      <td>0.000000</td>\n",
              "      <td>0.460000</td>\n",
              "      <td>0.000000</td>\n",
              "      <td>0.385000</td>\n",
              "      <td>3.561000</td>\n",
              "      <td>2.900000</td>\n",
              "      <td>1.129600</td>\n",
              "      <td>1.000000</td>\n",
              "      <td>187.000000</td>\n",
              "      <td>12.600000</td>\n",
              "      <td>0.320000</td>\n",
              "      <td>1.730000</td>\n",
              "    </tr>\n",
              "    <tr>\n",
              "      <th>25%</th>\n",
              "      <td>0.082045</td>\n",
              "      <td>0.000000</td>\n",
              "      <td>5.190000</td>\n",
              "      <td>0.000000</td>\n",
              "      <td>0.449000</td>\n",
              "      <td>5.885500</td>\n",
              "      <td>45.025000</td>\n",
              "      <td>2.100175</td>\n",
              "      <td>4.000000</td>\n",
              "      <td>279.000000</td>\n",
              "      <td>17.400000</td>\n",
              "      <td>375.377500</td>\n",
              "      <td>6.950000</td>\n",
              "    </tr>\n",
              "    <tr>\n",
              "      <th>50%</th>\n",
              "      <td>0.256510</td>\n",
              "      <td>0.000000</td>\n",
              "      <td>9.690000</td>\n",
              "      <td>0.000000</td>\n",
              "      <td>0.538000</td>\n",
              "      <td>6.208500</td>\n",
              "      <td>77.500000</td>\n",
              "      <td>3.207450</td>\n",
              "      <td>5.000000</td>\n",
              "      <td>330.000000</td>\n",
              "      <td>19.050000</td>\n",
              "      <td>391.440000</td>\n",
              "      <td>11.360000</td>\n",
              "    </tr>\n",
              "    <tr>\n",
              "      <th>75%</th>\n",
              "      <td>3.677083</td>\n",
              "      <td>12.500000</td>\n",
              "      <td>18.100000</td>\n",
              "      <td>0.000000</td>\n",
              "      <td>0.624000</td>\n",
              "      <td>6.623500</td>\n",
              "      <td>94.075000</td>\n",
              "      <td>5.188425</td>\n",
              "      <td>24.000000</td>\n",
              "      <td>666.000000</td>\n",
              "      <td>20.200000</td>\n",
              "      <td>396.225000</td>\n",
              "      <td>16.955000</td>\n",
              "    </tr>\n",
              "    <tr>\n",
              "      <th>max</th>\n",
              "      <td>88.976200</td>\n",
              "      <td>100.000000</td>\n",
              "      <td>27.740000</td>\n",
              "      <td>1.000000</td>\n",
              "      <td>0.871000</td>\n",
              "      <td>8.780000</td>\n",
              "      <td>100.000000</td>\n",
              "      <td>12.126500</td>\n",
              "      <td>24.000000</td>\n",
              "      <td>711.000000</td>\n",
              "      <td>22.000000</td>\n",
              "      <td>396.900000</td>\n",
              "      <td>37.970000</td>\n",
              "    </tr>\n",
              "  </tbody>\n",
              "</table>\n",
              "</div>"
            ],
            "text/plain": [
              "             CRIM          ZN       INDUS  ...     PTRATIO           B       LSTAT\n",
              "count  506.000000  506.000000  506.000000  ...  506.000000  506.000000  506.000000\n",
              "mean     3.613524   11.363636   11.136779  ...   18.455534  356.674032   12.653063\n",
              "std      8.601545   23.322453    6.860353  ...    2.164946   91.294864    7.141062\n",
              "min      0.006320    0.000000    0.460000  ...   12.600000    0.320000    1.730000\n",
              "25%      0.082045    0.000000    5.190000  ...   17.400000  375.377500    6.950000\n",
              "50%      0.256510    0.000000    9.690000  ...   19.050000  391.440000   11.360000\n",
              "75%      3.677083   12.500000   18.100000  ...   20.200000  396.225000   16.955000\n",
              "max     88.976200  100.000000   27.740000  ...   22.000000  396.900000   37.970000\n",
              "\n",
              "[8 rows x 13 columns]"
            ]
          },
          "metadata": {
            "tags": []
          },
          "execution_count": 10
        }
      ]
    },
    {
      "cell_type": "markdown",
      "metadata": {
        "id": "SXQdaCnutzi-",
        "colab_type": "text"
      },
      "source": [
        "# Observando a correlação nos dados"
      ]
    },
    {
      "cell_type": "markdown",
      "metadata": {
        "id": "jxEaM6udm27O",
        "colab_type": "text"
      },
      "source": [
        "**Verificando a correlação através do modelo coeficiente de correlação de Pearson**"
      ]
    },
    {
      "cell_type": "code",
      "metadata": {
        "id": "XUPMDec2mbVa",
        "colab_type": "code",
        "outputId": "e86c0176-7d23-4ec5-f99b-8227631d1987",
        "colab": {
          "base_uri": "https://localhost:8080/",
          "height": 452
        }
      },
      "source": [
        "correlacoes = dados.corr(method='pearson')\n",
        "correlacoes"
      ],
      "execution_count": 0,
      "outputs": [
        {
          "output_type": "execute_result",
          "data": {
            "text/html": [
              "<div>\n",
              "<style scoped>\n",
              "    .dataframe tbody tr th:only-of-type {\n",
              "        vertical-align: middle;\n",
              "    }\n",
              "\n",
              "    .dataframe tbody tr th {\n",
              "        vertical-align: top;\n",
              "    }\n",
              "\n",
              "    .dataframe thead th {\n",
              "        text-align: right;\n",
              "    }\n",
              "</style>\n",
              "<table border=\"1\" class=\"dataframe\">\n",
              "  <thead>\n",
              "    <tr style=\"text-align: right;\">\n",
              "      <th></th>\n",
              "      <th>CRIM</th>\n",
              "      <th>ZN</th>\n",
              "      <th>INDUS</th>\n",
              "      <th>CHAS</th>\n",
              "      <th>NOX</th>\n",
              "      <th>RM</th>\n",
              "      <th>AGE</th>\n",
              "      <th>DIS</th>\n",
              "      <th>RAD</th>\n",
              "      <th>TAX</th>\n",
              "      <th>PTRATIO</th>\n",
              "      <th>B</th>\n",
              "      <th>LSTAT</th>\n",
              "    </tr>\n",
              "  </thead>\n",
              "  <tbody>\n",
              "    <tr>\n",
              "      <th>CRIM</th>\n",
              "      <td>1.000000</td>\n",
              "      <td>-0.200469</td>\n",
              "      <td>0.406583</td>\n",
              "      <td>-0.055892</td>\n",
              "      <td>0.420972</td>\n",
              "      <td>-0.219247</td>\n",
              "      <td>0.352734</td>\n",
              "      <td>-0.379670</td>\n",
              "      <td>0.625505</td>\n",
              "      <td>0.582764</td>\n",
              "      <td>0.289946</td>\n",
              "      <td>-0.385064</td>\n",
              "      <td>0.455621</td>\n",
              "    </tr>\n",
              "    <tr>\n",
              "      <th>ZN</th>\n",
              "      <td>-0.200469</td>\n",
              "      <td>1.000000</td>\n",
              "      <td>-0.533828</td>\n",
              "      <td>-0.042697</td>\n",
              "      <td>-0.516604</td>\n",
              "      <td>0.311991</td>\n",
              "      <td>-0.569537</td>\n",
              "      <td>0.664408</td>\n",
              "      <td>-0.311948</td>\n",
              "      <td>-0.314563</td>\n",
              "      <td>-0.391679</td>\n",
              "      <td>0.175520</td>\n",
              "      <td>-0.412995</td>\n",
              "    </tr>\n",
              "    <tr>\n",
              "      <th>INDUS</th>\n",
              "      <td>0.406583</td>\n",
              "      <td>-0.533828</td>\n",
              "      <td>1.000000</td>\n",
              "      <td>0.062938</td>\n",
              "      <td>0.763651</td>\n",
              "      <td>-0.391676</td>\n",
              "      <td>0.644779</td>\n",
              "      <td>-0.708027</td>\n",
              "      <td>0.595129</td>\n",
              "      <td>0.720760</td>\n",
              "      <td>0.383248</td>\n",
              "      <td>-0.356977</td>\n",
              "      <td>0.603800</td>\n",
              "    </tr>\n",
              "    <tr>\n",
              "      <th>CHAS</th>\n",
              "      <td>-0.055892</td>\n",
              "      <td>-0.042697</td>\n",
              "      <td>0.062938</td>\n",
              "      <td>1.000000</td>\n",
              "      <td>0.091203</td>\n",
              "      <td>0.091251</td>\n",
              "      <td>0.086518</td>\n",
              "      <td>-0.099176</td>\n",
              "      <td>-0.007368</td>\n",
              "      <td>-0.035587</td>\n",
              "      <td>-0.121515</td>\n",
              "      <td>0.048788</td>\n",
              "      <td>-0.053929</td>\n",
              "    </tr>\n",
              "    <tr>\n",
              "      <th>NOX</th>\n",
              "      <td>0.420972</td>\n",
              "      <td>-0.516604</td>\n",
              "      <td>0.763651</td>\n",
              "      <td>0.091203</td>\n",
              "      <td>1.000000</td>\n",
              "      <td>-0.302188</td>\n",
              "      <td>0.731470</td>\n",
              "      <td>-0.769230</td>\n",
              "      <td>0.611441</td>\n",
              "      <td>0.668023</td>\n",
              "      <td>0.188933</td>\n",
              "      <td>-0.380051</td>\n",
              "      <td>0.590879</td>\n",
              "    </tr>\n",
              "    <tr>\n",
              "      <th>RM</th>\n",
              "      <td>-0.219247</td>\n",
              "      <td>0.311991</td>\n",
              "      <td>-0.391676</td>\n",
              "      <td>0.091251</td>\n",
              "      <td>-0.302188</td>\n",
              "      <td>1.000000</td>\n",
              "      <td>-0.240265</td>\n",
              "      <td>0.205246</td>\n",
              "      <td>-0.209847</td>\n",
              "      <td>-0.292048</td>\n",
              "      <td>-0.355501</td>\n",
              "      <td>0.128069</td>\n",
              "      <td>-0.613808</td>\n",
              "    </tr>\n",
              "    <tr>\n",
              "      <th>AGE</th>\n",
              "      <td>0.352734</td>\n",
              "      <td>-0.569537</td>\n",
              "      <td>0.644779</td>\n",
              "      <td>0.086518</td>\n",
              "      <td>0.731470</td>\n",
              "      <td>-0.240265</td>\n",
              "      <td>1.000000</td>\n",
              "      <td>-0.747881</td>\n",
              "      <td>0.456022</td>\n",
              "      <td>0.506456</td>\n",
              "      <td>0.261515</td>\n",
              "      <td>-0.273534</td>\n",
              "      <td>0.602339</td>\n",
              "    </tr>\n",
              "    <tr>\n",
              "      <th>DIS</th>\n",
              "      <td>-0.379670</td>\n",
              "      <td>0.664408</td>\n",
              "      <td>-0.708027</td>\n",
              "      <td>-0.099176</td>\n",
              "      <td>-0.769230</td>\n",
              "      <td>0.205246</td>\n",
              "      <td>-0.747881</td>\n",
              "      <td>1.000000</td>\n",
              "      <td>-0.494588</td>\n",
              "      <td>-0.534432</td>\n",
              "      <td>-0.232471</td>\n",
              "      <td>0.291512</td>\n",
              "      <td>-0.496996</td>\n",
              "    </tr>\n",
              "    <tr>\n",
              "      <th>RAD</th>\n",
              "      <td>0.625505</td>\n",
              "      <td>-0.311948</td>\n",
              "      <td>0.595129</td>\n",
              "      <td>-0.007368</td>\n",
              "      <td>0.611441</td>\n",
              "      <td>-0.209847</td>\n",
              "      <td>0.456022</td>\n",
              "      <td>-0.494588</td>\n",
              "      <td>1.000000</td>\n",
              "      <td>0.910228</td>\n",
              "      <td>0.464741</td>\n",
              "      <td>-0.444413</td>\n",
              "      <td>0.488676</td>\n",
              "    </tr>\n",
              "    <tr>\n",
              "      <th>TAX</th>\n",
              "      <td>0.582764</td>\n",
              "      <td>-0.314563</td>\n",
              "      <td>0.720760</td>\n",
              "      <td>-0.035587</td>\n",
              "      <td>0.668023</td>\n",
              "      <td>-0.292048</td>\n",
              "      <td>0.506456</td>\n",
              "      <td>-0.534432</td>\n",
              "      <td>0.910228</td>\n",
              "      <td>1.000000</td>\n",
              "      <td>0.460853</td>\n",
              "      <td>-0.441808</td>\n",
              "      <td>0.543993</td>\n",
              "    </tr>\n",
              "    <tr>\n",
              "      <th>PTRATIO</th>\n",
              "      <td>0.289946</td>\n",
              "      <td>-0.391679</td>\n",
              "      <td>0.383248</td>\n",
              "      <td>-0.121515</td>\n",
              "      <td>0.188933</td>\n",
              "      <td>-0.355501</td>\n",
              "      <td>0.261515</td>\n",
              "      <td>-0.232471</td>\n",
              "      <td>0.464741</td>\n",
              "      <td>0.460853</td>\n",
              "      <td>1.000000</td>\n",
              "      <td>-0.177383</td>\n",
              "      <td>0.374044</td>\n",
              "    </tr>\n",
              "    <tr>\n",
              "      <th>B</th>\n",
              "      <td>-0.385064</td>\n",
              "      <td>0.175520</td>\n",
              "      <td>-0.356977</td>\n",
              "      <td>0.048788</td>\n",
              "      <td>-0.380051</td>\n",
              "      <td>0.128069</td>\n",
              "      <td>-0.273534</td>\n",
              "      <td>0.291512</td>\n",
              "      <td>-0.444413</td>\n",
              "      <td>-0.441808</td>\n",
              "      <td>-0.177383</td>\n",
              "      <td>1.000000</td>\n",
              "      <td>-0.366087</td>\n",
              "    </tr>\n",
              "    <tr>\n",
              "      <th>LSTAT</th>\n",
              "      <td>0.455621</td>\n",
              "      <td>-0.412995</td>\n",
              "      <td>0.603800</td>\n",
              "      <td>-0.053929</td>\n",
              "      <td>0.590879</td>\n",
              "      <td>-0.613808</td>\n",
              "      <td>0.602339</td>\n",
              "      <td>-0.496996</td>\n",
              "      <td>0.488676</td>\n",
              "      <td>0.543993</td>\n",
              "      <td>0.374044</td>\n",
              "      <td>-0.366087</td>\n",
              "      <td>1.000000</td>\n",
              "    </tr>\n",
              "  </tbody>\n",
              "</table>\n",
              "</div>"
            ],
            "text/plain": [
              "             CRIM        ZN     INDUS  ...   PTRATIO         B     LSTAT\n",
              "CRIM     1.000000 -0.200469  0.406583  ...  0.289946 -0.385064  0.455621\n",
              "ZN      -0.200469  1.000000 -0.533828  ... -0.391679  0.175520 -0.412995\n",
              "INDUS    0.406583 -0.533828  1.000000  ...  0.383248 -0.356977  0.603800\n",
              "CHAS    -0.055892 -0.042697  0.062938  ... -0.121515  0.048788 -0.053929\n",
              "NOX      0.420972 -0.516604  0.763651  ...  0.188933 -0.380051  0.590879\n",
              "RM      -0.219247  0.311991 -0.391676  ... -0.355501  0.128069 -0.613808\n",
              "AGE      0.352734 -0.569537  0.644779  ...  0.261515 -0.273534  0.602339\n",
              "DIS     -0.379670  0.664408 -0.708027  ... -0.232471  0.291512 -0.496996\n",
              "RAD      0.625505 -0.311948  0.595129  ...  0.464741 -0.444413  0.488676\n",
              "TAX      0.582764 -0.314563  0.720760  ...  0.460853 -0.441808  0.543993\n",
              "PTRATIO  0.289946 -0.391679  0.383248  ...  1.000000 -0.177383  0.374044\n",
              "B       -0.385064  0.175520 -0.356977  ... -0.177383  1.000000 -0.366087\n",
              "LSTAT    0.455621 -0.412995  0.603800  ...  0.374044 -0.366087  1.000000\n",
              "\n",
              "[13 rows x 13 columns]"
            ]
          },
          "metadata": {
            "tags": []
          },
          "execution_count": 11
        }
      ]
    },
    {
      "cell_type": "markdown",
      "metadata": {
        "id": "Rn-m9SNKpj5s",
        "colab_type": "text"
      },
      "source": [
        "**Plotando um mapa de calor para verificar as correlações de forma fácil e visual**"
      ]
    },
    {
      "cell_type": "code",
      "metadata": {
        "id": "-vZxyFZHm0Fq",
        "colab_type": "code",
        "outputId": "5be86d22-53a7-4871-a1b3-858372125b94",
        "colab": {
          "base_uri": "https://localhost:8080/",
          "height": 487
        }
      },
      "source": [
        "plt.figure(figsize=(16,8))\n",
        "sns.heatmap(data=correlacoes, annot=True)\n",
        "plt.show()"
      ],
      "execution_count": 0,
      "outputs": [
        {
          "output_type": "display_data",
          "data": {
            "image/png": "[encoded data removed]",
            "text/plain": [
              "<Figure size 1152x576 with 2 Axes>"
            ]
          },
          "metadata": {
            "tags": [],
            "needs_background": "light"
          }
        }
      ]
    },
    {
      "cell_type": "markdown",
      "metadata": {
        "id": "mkKhedHGpo91",
        "colab_type": "text"
      },
      "source": [
        "**Importando uma outra biblioteca que permite a visualização de dados**"
      ]
    },
    {
      "cell_type": "code",
      "metadata": {
        "id": "P_SrysjqoR6_",
        "colab_type": "code",
        "colab": {}
      },
      "source": [
        " import plotly.express as px"
      ],
      "execution_count": 0,
      "outputs": []
    },
    {
      "cell_type": "markdown",
      "metadata": {
        "id": "ZKFTvx5Eqfir",
        "colab_type": "text"
      },
      "source": [
        "**Adicionar como coluna o target (o que queremos prever) da nossa base de dados original**"
      ]
    },
    {
      "cell_type": "code",
      "metadata": {
        "id": "mZ4Lqr3Ho39a",
        "colab_type": "code",
        "outputId": "d1ecf53c-0e75-4908-ed5a-9bebe8922d6d",
        "colab": {
          "base_uri": "https://localhost:8080/",
          "height": 204
        }
      },
      "source": [
        "dados['MEDV'] = boston.target\n",
        "dados.head()"
      ],
      "execution_count": 0,
      "outputs": [
        {
          "output_type": "execute_result",
          "data": {
            "text/html": [
              "<div>\n",
              "<style scoped>\n",
              "    .dataframe tbody tr th:only-of-type {\n",
              "        vertical-align: middle;\n",
              "    }\n",
              "\n",
              "    .dataframe tbody tr th {\n",
              "        vertical-align: top;\n",
              "    }\n",
              "\n",
              "    .dataframe thead th {\n",
              "        text-align: right;\n",
              "    }\n",
              "</style>\n",
              "<table border=\"1\" class=\"dataframe\">\n",
              "  <thead>\n",
              "    <tr style=\"text-align: right;\">\n",
              "      <th></th>\n",
              "      <th>CRIM</th>\n",
              "      <th>ZN</th>\n",
              "      <th>INDUS</th>\n",
              "      <th>CHAS</th>\n",
              "      <th>NOX</th>\n",
              "      <th>RM</th>\n",
              "      <th>AGE</th>\n",
              "      <th>DIS</th>\n",
              "      <th>RAD</th>\n",
              "      <th>TAX</th>\n",
              "      <th>PTRATIO</th>\n",
              "      <th>B</th>\n",
              "      <th>LSTAT</th>\n",
              "      <th>MEDV</th>\n",
              "    </tr>\n",
              "  </thead>\n",
              "  <tbody>\n",
              "    <tr>\n",
              "      <th>0</th>\n",
              "      <td>0.00632</td>\n",
              "      <td>18.0</td>\n",
              "      <td>2.31</td>\n",
              "      <td>0.0</td>\n",
              "      <td>0.538</td>\n",
              "      <td>6.575</td>\n",
              "      <td>65.2</td>\n",
              "      <td>4.0900</td>\n",
              "      <td>1.0</td>\n",
              "      <td>296.0</td>\n",
              "      <td>15.3</td>\n",
              "      <td>396.90</td>\n",
              "      <td>4.98</td>\n",
              "      <td>24.0</td>\n",
              "    </tr>\n",
              "    <tr>\n",
              "      <th>1</th>\n",
              "      <td>0.02731</td>\n",
              "      <td>0.0</td>\n",
              "      <td>7.07</td>\n",
              "      <td>0.0</td>\n",
              "      <td>0.469</td>\n",
              "      <td>6.421</td>\n",
              "      <td>78.9</td>\n",
              "      <td>4.9671</td>\n",
              "      <td>2.0</td>\n",
              "      <td>242.0</td>\n",
              "      <td>17.8</td>\n",
              "      <td>396.90</td>\n",
              "      <td>9.14</td>\n",
              "      <td>21.6</td>\n",
              "    </tr>\n",
              "    <tr>\n",
              "      <th>2</th>\n",
              "      <td>0.02729</td>\n",
              "      <td>0.0</td>\n",
              "      <td>7.07</td>\n",
              "      <td>0.0</td>\n",
              "      <td>0.469</td>\n",
              "      <td>7.185</td>\n",
              "      <td>61.1</td>\n",
              "      <td>4.9671</td>\n",
              "      <td>2.0</td>\n",
              "      <td>242.0</td>\n",
              "      <td>17.8</td>\n",
              "      <td>392.83</td>\n",
              "      <td>4.03</td>\n",
              "      <td>34.7</td>\n",
              "    </tr>\n",
              "    <tr>\n",
              "      <th>3</th>\n",
              "      <td>0.03237</td>\n",
              "      <td>0.0</td>\n",
              "      <td>2.18</td>\n",
              "      <td>0.0</td>\n",
              "      <td>0.458</td>\n",
              "      <td>6.998</td>\n",
              "      <td>45.8</td>\n",
              "      <td>6.0622</td>\n",
              "      <td>3.0</td>\n",
              "      <td>222.0</td>\n",
              "      <td>18.7</td>\n",
              "      <td>394.63</td>\n",
              "      <td>2.94</td>\n",
              "      <td>33.4</td>\n",
              "    </tr>\n",
              "    <tr>\n",
              "      <th>4</th>\n",
              "      <td>0.06905</td>\n",
              "      <td>0.0</td>\n",
              "      <td>2.18</td>\n",
              "      <td>0.0</td>\n",
              "      <td>0.458</td>\n",
              "      <td>7.147</td>\n",
              "      <td>54.2</td>\n",
              "      <td>6.0622</td>\n",
              "      <td>3.0</td>\n",
              "      <td>222.0</td>\n",
              "      <td>18.7</td>\n",
              "      <td>396.90</td>\n",
              "      <td>5.33</td>\n",
              "      <td>36.2</td>\n",
              "    </tr>\n",
              "  </tbody>\n",
              "</table>\n",
              "</div>"
            ],
            "text/plain": [
              "      CRIM    ZN  INDUS  CHAS    NOX  ...    TAX  PTRATIO       B  LSTAT  MEDV\n",
              "0  0.00632  18.0   2.31   0.0  0.538  ...  296.0     15.3  396.90   4.98  24.0\n",
              "1  0.02731   0.0   7.07   0.0  0.469  ...  242.0     17.8  396.90   9.14  21.6\n",
              "2  0.02729   0.0   7.07   0.0  0.469  ...  242.0     17.8  392.83   4.03  34.7\n",
              "3  0.03237   0.0   2.18   0.0  0.458  ...  222.0     18.7  394.63   2.94  33.4\n",
              "4  0.06905   0.0   2.18   0.0  0.458  ...  222.0     18.7  396.90   5.33  36.2\n",
              "\n",
              "[5 rows x 14 columns]"
            ]
          },
          "metadata": {
            "tags": []
          },
          "execution_count": 44
        }
      ]
    },
    {
      "cell_type": "markdown",
      "metadata": {
        "id": "sLpPdThoql0j",
        "colab_type": "text"
      },
      "source": [
        "**Verificar novamente a correlação, com ênfase para o nosso label**"
      ]
    },
    {
      "cell_type": "code",
      "metadata": {
        "id": "hDvzJkuqp511",
        "colab_type": "code",
        "outputId": "b4cbdf29-5461-4081-fc1b-50f1f2f7a3d7",
        "colab": {
          "base_uri": "https://localhost:8080/",
          "height": 483
        }
      },
      "source": [
        "correlacoes = dados.corr(method='pearson')\n",
        "correlacoes"
      ],
      "execution_count": 0,
      "outputs": [
        {
          "output_type": "execute_result",
          "data": {
            "text/html": [
              "<div>\n",
              "<style scoped>\n",
              "    .dataframe tbody tr th:only-of-type {\n",
              "        vertical-align: middle;\n",
              "    }\n",
              "\n",
              "    .dataframe tbody tr th {\n",
              "        vertical-align: top;\n",
              "    }\n",
              "\n",
              "    .dataframe thead th {\n",
              "        text-align: right;\n",
              "    }\n",
              "</style>\n",
              "<table border=\"1\" class=\"dataframe\">\n",
              "  <thead>\n",
              "    <tr style=\"text-align: right;\">\n",
              "      <th></th>\n",
              "      <th>CRIM</th>\n",
              "      <th>ZN</th>\n",
              "      <th>INDUS</th>\n",
              "      <th>CHAS</th>\n",
              "      <th>NOX</th>\n",
              "      <th>RM</th>\n",
              "      <th>AGE</th>\n",
              "      <th>DIS</th>\n",
              "      <th>RAD</th>\n",
              "      <th>TAX</th>\n",
              "      <th>PTRATIO</th>\n",
              "      <th>B</th>\n",
              "      <th>LSTAT</th>\n",
              "      <th>MEDV</th>\n",
              "    </tr>\n",
              "  </thead>\n",
              "  <tbody>\n",
              "    <tr>\n",
              "      <th>CRIM</th>\n",
              "      <td>1.000000</td>\n",
              "      <td>-0.200469</td>\n",
              "      <td>0.406583</td>\n",
              "      <td>-0.055892</td>\n",
              "      <td>0.420972</td>\n",
              "      <td>-0.219247</td>\n",
              "      <td>0.352734</td>\n",
              "      <td>-0.379670</td>\n",
              "      <td>0.625505</td>\n",
              "      <td>0.582764</td>\n",
              "      <td>0.289946</td>\n",
              "      <td>-0.385064</td>\n",
              "      <td>0.455621</td>\n",
              "      <td>-0.388305</td>\n",
              "    </tr>\n",
              "    <tr>\n",
              "      <th>ZN</th>\n",
              "      <td>-0.200469</td>\n",
              "      <td>1.000000</td>\n",
              "      <td>-0.533828</td>\n",
              "      <td>-0.042697</td>\n",
              "      <td>-0.516604</td>\n",
              "      <td>0.311991</td>\n",
              "      <td>-0.569537</td>\n",
              "      <td>0.664408</td>\n",
              "      <td>-0.311948</td>\n",
              "      <td>-0.314563</td>\n",
              "      <td>-0.391679</td>\n",
              "      <td>0.175520</td>\n",
              "      <td>-0.412995</td>\n",
              "      <td>0.360445</td>\n",
              "    </tr>\n",
              "    <tr>\n",
              "      <th>INDUS</th>\n",
              "      <td>0.406583</td>\n",
              "      <td>-0.533828</td>\n",
              "      <td>1.000000</td>\n",
              "      <td>0.062938</td>\n",
              "      <td>0.763651</td>\n",
              "      <td>-0.391676</td>\n",
              "      <td>0.644779</td>\n",
              "      <td>-0.708027</td>\n",
              "      <td>0.595129</td>\n",
              "      <td>0.720760</td>\n",
              "      <td>0.383248</td>\n",
              "      <td>-0.356977</td>\n",
              "      <td>0.603800</td>\n",
              "      <td>-0.483725</td>\n",
              "    </tr>\n",
              "    <tr>\n",
              "      <th>CHAS</th>\n",
              "      <td>-0.055892</td>\n",
              "      <td>-0.042697</td>\n",
              "      <td>0.062938</td>\n",
              "      <td>1.000000</td>\n",
              "      <td>0.091203</td>\n",
              "      <td>0.091251</td>\n",
              "      <td>0.086518</td>\n",
              "      <td>-0.099176</td>\n",
              "      <td>-0.007368</td>\n",
              "      <td>-0.035587</td>\n",
              "      <td>-0.121515</td>\n",
              "      <td>0.048788</td>\n",
              "      <td>-0.053929</td>\n",
              "      <td>0.175260</td>\n",
              "    </tr>\n",
              "    <tr>\n",
              "      <th>NOX</th>\n",
              "      <td>0.420972</td>\n",
              "      <td>-0.516604</td>\n",
              "      <td>0.763651</td>\n",
              "      <td>0.091203</td>\n",
              "      <td>1.000000</td>\n",
              "      <td>-0.302188</td>\n",
              "      <td>0.731470</td>\n",
              "      <td>-0.769230</td>\n",
              "      <td>0.611441</td>\n",
              "      <td>0.668023</td>\n",
              "      <td>0.188933</td>\n",
              "      <td>-0.380051</td>\n",
              "      <td>0.590879</td>\n",
              "      <td>-0.427321</td>\n",
              "    </tr>\n",
              "    <tr>\n",
              "      <th>RM</th>\n",
              "      <td>-0.219247</td>\n",
              "      <td>0.311991</td>\n",
              "      <td>-0.391676</td>\n",
              "      <td>0.091251</td>\n",
              "      <td>-0.302188</td>\n",
              "      <td>1.000000</td>\n",
              "      <td>-0.240265</td>\n",
              "      <td>0.205246</td>\n",
              "      <td>-0.209847</td>\n",
              "      <td>-0.292048</td>\n",
              "      <td>-0.355501</td>\n",
              "      <td>0.128069</td>\n",
              "      <td>-0.613808</td>\n",
              "      <td>0.695360</td>\n",
              "    </tr>\n",
              "    <tr>\n",
              "      <th>AGE</th>\n",
              "      <td>0.352734</td>\n",
              "      <td>-0.569537</td>\n",
              "      <td>0.644779</td>\n",
              "      <td>0.086518</td>\n",
              "      <td>0.731470</td>\n",
              "      <td>-0.240265</td>\n",
              "      <td>1.000000</td>\n",
              "      <td>-0.747881</td>\n",
              "      <td>0.456022</td>\n",
              "      <td>0.506456</td>\n",
              "      <td>0.261515</td>\n",
              "      <td>-0.273534</td>\n",
              "      <td>0.602339</td>\n",
              "      <td>-0.376955</td>\n",
              "    </tr>\n",
              "    <tr>\n",
              "      <th>DIS</th>\n",
              "      <td>-0.379670</td>\n",
              "      <td>0.664408</td>\n",
              "      <td>-0.708027</td>\n",
              "      <td>-0.099176</td>\n",
              "      <td>-0.769230</td>\n",
              "      <td>0.205246</td>\n",
              "      <td>-0.747881</td>\n",
              "      <td>1.000000</td>\n",
              "      <td>-0.494588</td>\n",
              "      <td>-0.534432</td>\n",
              "      <td>-0.232471</td>\n",
              "      <td>0.291512</td>\n",
              "      <td>-0.496996</td>\n",
              "      <td>0.249929</td>\n",
              "    </tr>\n",
              "    <tr>\n",
              "      <th>RAD</th>\n",
              "      <td>0.625505</td>\n",
              "      <td>-0.311948</td>\n",
              "      <td>0.595129</td>\n",
              "      <td>-0.007368</td>\n",
              "      <td>0.611441</td>\n",
              "      <td>-0.209847</td>\n",
              "      <td>0.456022</td>\n",
              "      <td>-0.494588</td>\n",
              "      <td>1.000000</td>\n",
              "      <td>0.910228</td>\n",
              "      <td>0.464741</td>\n",
              "      <td>-0.444413</td>\n",
              "      <td>0.488676</td>\n",
              "      <td>-0.381626</td>\n",
              "    </tr>\n",
              "    <tr>\n",
              "      <th>TAX</th>\n",
              "      <td>0.582764</td>\n",
              "      <td>-0.314563</td>\n",
              "      <td>0.720760</td>\n",
              "      <td>-0.035587</td>\n",
              "      <td>0.668023</td>\n",
              "      <td>-0.292048</td>\n",
              "      <td>0.506456</td>\n",
              "      <td>-0.534432</td>\n",
              "      <td>0.910228</td>\n",
              "      <td>1.000000</td>\n",
              "      <td>0.460853</td>\n",
              "      <td>-0.441808</td>\n",
              "      <td>0.543993</td>\n",
              "      <td>-0.468536</td>\n",
              "    </tr>\n",
              "    <tr>\n",
              "      <th>PTRATIO</th>\n",
              "      <td>0.289946</td>\n",
              "      <td>-0.391679</td>\n",
              "      <td>0.383248</td>\n",
              "      <td>-0.121515</td>\n",
              "      <td>0.188933</td>\n",
              "      <td>-0.355501</td>\n",
              "      <td>0.261515</td>\n",
              "      <td>-0.232471</td>\n",
              "      <td>0.464741</td>\n",
              "      <td>0.460853</td>\n",
              "      <td>1.000000</td>\n",
              "      <td>-0.177383</td>\n",
              "      <td>0.374044</td>\n",
              "      <td>-0.507787</td>\n",
              "    </tr>\n",
              "    <tr>\n",
              "      <th>B</th>\n",
              "      <td>-0.385064</td>\n",
              "      <td>0.175520</td>\n",
              "      <td>-0.356977</td>\n",
              "      <td>0.048788</td>\n",
              "      <td>-0.380051</td>\n",
              "      <td>0.128069</td>\n",
              "      <td>-0.273534</td>\n",
              "      <td>0.291512</td>\n",
              "      <td>-0.444413</td>\n",
              "      <td>-0.441808</td>\n",
              "      <td>-0.177383</td>\n",
              "      <td>1.000000</td>\n",
              "      <td>-0.366087</td>\n",
              "      <td>0.333461</td>\n",
              "    </tr>\n",
              "    <tr>\n",
              "      <th>LSTAT</th>\n",
              "      <td>0.455621</td>\n",
              "      <td>-0.412995</td>\n",
              "      <td>0.603800</td>\n",
              "      <td>-0.053929</td>\n",
              "      <td>0.590879</td>\n",
              "      <td>-0.613808</td>\n",
              "      <td>0.602339</td>\n",
              "      <td>-0.496996</td>\n",
              "      <td>0.488676</td>\n",
              "      <td>0.543993</td>\n",
              "      <td>0.374044</td>\n",
              "      <td>-0.366087</td>\n",
              "      <td>1.000000</td>\n",
              "      <td>-0.737663</td>\n",
              "    </tr>\n",
              "    <tr>\n",
              "      <th>MEDV</th>\n",
              "      <td>-0.388305</td>\n",
              "      <td>0.360445</td>\n",
              "      <td>-0.483725</td>\n",
              "      <td>0.175260</td>\n",
              "      <td>-0.427321</td>\n",
              "      <td>0.695360</td>\n",
              "      <td>-0.376955</td>\n",
              "      <td>0.249929</td>\n",
              "      <td>-0.381626</td>\n",
              "      <td>-0.468536</td>\n",
              "      <td>-0.507787</td>\n",
              "      <td>0.333461</td>\n",
              "      <td>-0.737663</td>\n",
              "      <td>1.000000</td>\n",
              "    </tr>\n",
              "  </tbody>\n",
              "</table>\n",
              "</div>"
            ],
            "text/plain": [
              "             CRIM        ZN     INDUS  ...         B     LSTAT      MEDV\n",
              "CRIM     1.000000 -0.200469  0.406583  ... -0.385064  0.455621 -0.388305\n",
              "ZN      -0.200469  1.000000 -0.533828  ...  0.175520 -0.412995  0.360445\n",
              "INDUS    0.406583 -0.533828  1.000000  ... -0.356977  0.603800 -0.483725\n",
              "CHAS    -0.055892 -0.042697  0.062938  ...  0.048788 -0.053929  0.175260\n",
              "NOX      0.420972 -0.516604  0.763651  ... -0.380051  0.590879 -0.427321\n",
              "RM      -0.219247  0.311991 -0.391676  ...  0.128069 -0.613808  0.695360\n",
              "AGE      0.352734 -0.569537  0.644779  ... -0.273534  0.602339 -0.376955\n",
              "DIS     -0.379670  0.664408 -0.708027  ...  0.291512 -0.496996  0.249929\n",
              "RAD      0.625505 -0.311948  0.595129  ... -0.444413  0.488676 -0.381626\n",
              "TAX      0.582764 -0.314563  0.720760  ... -0.441808  0.543993 -0.468536\n",
              "PTRATIO  0.289946 -0.391679  0.383248  ... -0.177383  0.374044 -0.507787\n",
              "B       -0.385064  0.175520 -0.356977  ...  1.000000 -0.366087  0.333461\n",
              "LSTAT    0.455621 -0.412995  0.603800  ... -0.366087  1.000000 -0.737663\n",
              "MEDV    -0.388305  0.360445 -0.483725  ...  0.333461 -0.737663  1.000000\n",
              "\n",
              "[14 rows x 14 columns]"
            ]
          },
          "metadata": {
            "tags": []
          },
          "execution_count": 15
        }
      ]
    },
    {
      "cell_type": "markdown",
      "metadata": {
        "id": "TboCm9Hnq2F5",
        "colab_type": "text"
      },
      "source": [
        "**Visualizando o mapa de calor, com ênfase em observar a correlação das demais colunas com o label.**"
      ]
    },
    {
      "cell_type": "code",
      "metadata": {
        "id": "D0ZcnPkDqK69",
        "colab_type": "code",
        "outputId": "87194b60-1cbe-47b3-efee-7fbc873de197",
        "colab": {
          "base_uri": "https://localhost:8080/",
          "height": 487
        }
      },
      "source": [
        "plt.figure(figsize=(16,8))\n",
        "sns.heatmap(data=correlacoes, annot=True)\n",
        "plt.show()"
      ],
      "execution_count": 0,
      "outputs": [
        {
          "output_type": "display_data",
          "data": {
            "image/png": "[encoded data removed]",
            "text/plain": [
              "<Figure size 1152x576 with 2 Axes>"
            ]
          },
          "metadata": {
            "tags": [],
            "needs_background": "light"
          }
        }
      ]
    },
    {
      "cell_type": "markdown",
      "metadata": {
        "id": "x1SqKf7vrAjL",
        "colab_type": "text"
      },
      "source": [
        "**A coluna RN tem uma correlação positiva considerável com o label**\n",
        "\n",
        "**A coluna LSTAT tem uma correlação negativa considerável com o label**\n",
        "\n",
        "**A coluna CHAS não possui uma correlação significativa com o label**\n"
      ]
    },
    {
      "cell_type": "markdown",
      "metadata": {
        "id": "xdztlgs8rwWE",
        "colab_type": "text"
      },
      "source": [
        "**Plotar um scatterplot para observar o comportamento dos dados em relação ao número de quartos e o preço do imóvel**"
      ]
    },
    {
      "cell_type": "code",
      "metadata": {
        "id": "e3rG8ONdqQBA",
        "colab_type": "code",
        "outputId": "3fca80fd-a55f-4fd9-cec5-879453cdea05",
        "colab": {
          "base_uri": "https://localhost:8080/",
          "height": 542
        }
      },
      "source": [
        "fig = px.scatter(dados, x=dados.RM, y=dados.MEDV)\n",
        "fig.show()"
      ],
      "execution_count": 0,
      "outputs": [
        {
          "output_type": "display_data",
          "data": {
            "text/html": [
              "<html>\n",
              "<head><meta charset=\"utf-8\" /></head>\n",
              "<body>\n",
              "    <div>\n",
              "            <script src=\"https://cdnjs.cloudflare.com/ajax/libs/mathjax/2.7.5/MathJax.js?config=TeX-AMS-MML_SVG\"></script><script type=\"text/javascript\">if (window.MathJax) {MathJax.Hub.Config({SVG: {font: \"STIX-Web\"}});}</script>\n",
              "                <script type=\"text/javascript\">window.PlotlyConfig = {MathJaxConfig: 'local'};</script>\n",
              "        <script src=\"https://cdn.plot.ly/plotly-latest.min.js\"></script>    \n",
              "            <div id=\"d6392ed2-317c-4a90-a25a-3b326e6c7cba\" class=\"plotly-graph-div\" style=\"height:525px; width:100%;\"></div>\n",
              "            <script type=\"text/javascript\">\n",
              "                \n",
              "                    window.PLOTLYENV=window.PLOTLYENV || {};\n",
              "                    \n",
              "                if (document.getElementById(\"d6392ed2-317c-4a90-a25a-3b326e6c7cba\")) {\n",
              "                    Plotly.newPlot(\n",
              "                        'd6392ed2-317c-4a90-a25a-3b326e6c7cba',\n",
              "                        [{\"hoverlabel\": {\"namelength\": 0}, \"hovertemplate\": \"RM=%{x}<br>MEDV=%{y}\", \"legendgroup\": \"\", \"marker\": {\"color\": \"#636efa\", \"symbol\": \"circle\"}, \"mode\": \"markers\", \"name\": \"\", \"showlegend\": false, \"type\": \"scatter\", \"x\": [6.575, 6.421, 7.185, 6.998, 7.147, 6.43, 6.012, 6.172, 5.631, 6.004, 6.377, 6.009, 5.889, 5.949, 6.096, 5.834, 5.935, 5.99, 5.456, 5.727, 5.57, 5.965, 6.142, 5.813, 5.924, 5.599, 5.813, 6.047, 6.495, 6.674, 5.713, 6.072, 5.95, 5.701, 6.096, 5.933, 5.841, 5.85, 5.966, 6.595, 7.024, 6.77, 6.169, 6.211, 6.069, 5.682, 5.786, 6.03, 5.399, 5.602, 5.963, 6.115, 6.511, 5.998, 5.888, 7.249, 6.383, 6.816, 6.145, 5.927, 5.741, 5.966, 6.456, 6.762, 7.104, 6.29, 5.787, 5.878, 5.594, 5.885, 6.417, 5.961, 6.065, 6.245, 6.273, 6.286, 6.279, 6.14, 6.232, 5.874, 6.727, 6.619, 6.302, 6.167, 6.389, 6.63, 6.015, 6.121, 7.007, 7.079, 6.417, 6.405, 6.442, 6.211, 6.249, 6.625, 6.163, 8.069, 7.82, 7.416, 6.727, 6.781, 6.405, 6.137, 6.167, 5.851, 5.836, 6.127, 6.474, 6.229, 6.195, 6.715, 5.913, 6.092, 6.254, 5.928, 6.176, 6.021, 5.872, 5.731, 5.87, 6.004, 5.961, 5.856, 5.879, 5.986, 5.613, 5.693, 6.431, 5.637, 6.458, 6.326, 6.372, 5.822, 5.757, 6.335, 5.942, 6.454, 5.857, 6.151, 6.174, 5.019, 5.403, 5.468, 4.903, 6.13, 5.628, 4.926, 5.186, 5.597, 6.122, 5.404, 5.012, 5.709, 6.129, 6.152, 5.272, 6.943, 6.066, 6.51, 6.25, 7.489, 7.802, 8.375, 5.854, 6.101, 7.929, 5.877, 6.319, 6.402, 5.875, 5.88, 5.572, 6.416, 5.859, 6.546, 6.02, 6.315, 6.86, 6.98, 7.765, 6.144, 7.155, 6.563, 5.604, 6.153, 7.831, 6.782, 6.556, 7.185, 6.951, 6.739, 7.178, 6.8, 6.604, 7.875, 7.287, 7.107, 7.274, 6.975, 7.135, 6.162, 7.61, 7.853, 8.034, 5.891, 6.326, 5.783, 6.064, 5.344, 5.96, 5.404, 5.807, 6.375, 5.412, 6.182, 5.888, 6.642, 5.951, 6.373, 6.951, 6.164, 6.879, 6.618, 8.266, 8.725, 8.04, 7.163, 7.686, 6.552, 5.981, 7.412, 8.337, 8.247, 6.726, 6.086, 6.631, 7.358, 6.481, 6.606, 6.897, 6.095, 6.358, 6.393, 5.593, 5.605, 6.108, 6.226, 6.433, 6.718, 6.487, 6.438, 6.957, 8.259, 6.108, 5.876, 7.454, 8.704, 7.333, 6.842, 7.203, 7.52, 8.398, 7.327, 7.206, 5.56, 7.014, 8.297, 7.47, 5.92, 5.856, 6.24, 6.538, 7.691, 6.758, 6.854, 7.267, 6.826, 6.482, 6.812, 7.82, 6.968, 7.645, 7.923, 7.088, 6.453, 6.23, 6.209, 6.315, 6.565, 6.861, 7.148, 6.63, 6.127, 6.009, 6.678, 6.549, 5.79, 6.345, 7.041, 6.871, 6.59, 6.495, 6.982, 7.236, 6.616, 7.42, 6.849, 6.635, 5.972, 4.973, 6.122, 6.023, 6.266, 6.567, 5.705, 5.914, 5.782, 6.382, 6.113, 6.426, 6.376, 6.041, 5.708, 6.415, 6.431, 6.312, 6.083, 5.868, 6.333, 6.144, 5.706, 6.031, 6.316, 6.31, 6.037, 5.869, 5.895, 6.059, 5.985, 5.968, 7.241, 6.54, 6.696, 6.874, 6.014, 5.898, 6.516, 6.635, 6.939, 6.49, 6.579, 5.884, 6.728, 5.663, 5.936, 6.212, 6.395, 6.127, 6.112, 6.398, 6.251, 5.362, 5.803, 8.78, 3.561, 4.963, 3.863, 4.97, 6.683, 7.016, 6.216, 5.875, 4.906, 4.138, 7.313, 6.649, 6.794, 6.38, 6.223, 6.968, 6.545, 5.536, 5.52, 4.368, 5.277, 4.652, 5.0, 4.88, 5.39, 5.713, 6.051, 5.036, 6.193, 5.887, 6.471, 6.405, 5.747, 5.453, 5.852, 5.987, 6.343, 6.404, 5.349, 5.531, 5.683, 4.138, 5.608, 5.617, 6.852, 5.757, 6.657, 4.628, 5.155, 4.519, 6.434, 6.782, 5.304, 5.957, 6.824, 6.411, 6.006, 5.648, 6.103, 5.565, 5.896, 5.837, 6.202, 6.193, 6.38, 6.348, 6.833, 6.425, 6.436, 6.208, 6.629, 6.461, 6.152, 5.935, 5.627, 5.818, 6.406, 6.219, 6.485, 5.854, 6.459, 6.341, 6.251, 6.185, 6.417, 6.749, 6.655, 6.297, 7.393, 6.728, 6.525, 5.976, 5.936, 6.301, 6.081, 6.701, 6.376, 6.317, 6.513, 6.209, 5.759, 5.952, 6.003, 5.926, 5.713, 6.167, 6.229, 6.437, 6.98, 5.427, 6.162, 6.484, 5.304, 6.185, 6.229, 6.242, 6.75, 7.061, 5.762, 5.871, 6.312, 6.114, 5.905, 5.454, 5.414, 5.093, 5.983, 5.983, 5.707, 5.926, 5.67, 5.39, 5.794, 6.019, 5.569, 6.027, 6.593, 6.12, 6.976, 6.794, 6.03], \"xaxis\": \"x\", \"y\": [24.0, 21.6, 34.7, 33.4, 36.2, 28.7, 22.9, 27.1, 16.5, 18.9, 15.0, 18.9, 21.7, 20.4, 18.2, 19.9, 23.1, 17.5, 20.2, 18.2, 13.6, 19.6, 15.2, 14.5, 15.6, 13.9, 16.6, 14.8, 18.4, 21.0, 12.7, 14.5, 13.2, 13.1, 13.5, 18.9, 20.0, 21.0, 24.7, 30.8, 34.9, 26.6, 25.3, 24.7, 21.2, 19.3, 20.0, 16.6, 14.4, 19.4, 19.7, 20.5, 25.0, 23.4, 18.9, 35.4, 24.7, 31.6, 23.3, 19.6, 18.7, 16.0, 22.2, 25.0, 33.0, 23.5, 19.4, 22.0, 17.4, 20.9, 24.2, 21.7, 22.8, 23.4, 24.1, 21.4, 20.0, 20.8, 21.2, 20.3, 28.0, 23.9, 24.8, 22.9, 23.9, 26.6, 22.5, 22.2, 23.6, 28.7, 22.6, 22.0, 22.9, 25.0, 20.6, 28.4, 21.4, 38.7, 43.8, 33.2, 27.5, 26.5, 18.6, 19.3, 20.1, 19.5, 19.5, 20.4, 19.8, 19.4, 21.7, 22.8, 18.8, 18.7, 18.5, 18.3, 21.2, 19.2, 20.4, 19.3, 22.0, 20.3, 20.5, 17.3, 18.8, 21.4, 15.7, 16.2, 18.0, 14.3, 19.2, 19.6, 23.0, 18.4, 15.6, 18.1, 17.4, 17.1, 13.3, 17.8, 14.0, 14.4, 13.4, 15.6, 11.8, 13.8, 15.6, 14.6, 17.8, 15.4, 21.5, 19.6, 15.3, 19.4, 17.0, 15.6, 13.1, 41.3, 24.3, 23.3, 27.0, 50.0, 50.0, 50.0, 22.7, 25.0, 50.0, 23.8, 23.8, 22.3, 17.4, 19.1, 23.1, 23.6, 22.6, 29.4, 23.2, 24.6, 29.9, 37.2, 39.8, 36.2, 37.9, 32.5, 26.4, 29.6, 50.0, 32.0, 29.8, 34.9, 37.0, 30.5, 36.4, 31.1, 29.1, 50.0, 33.3, 30.3, 34.6, 34.9, 32.9, 24.1, 42.3, 48.5, 50.0, 22.6, 24.4, 22.5, 24.4, 20.0, 21.7, 19.3, 22.4, 28.1, 23.7, 25.0, 23.3, 28.7, 21.5, 23.0, 26.7, 21.7, 27.5, 30.1, 44.8, 50.0, 37.6, 31.6, 46.7, 31.5, 24.3, 31.7, 41.7, 48.3, 29.0, 24.0, 25.1, 31.5, 23.7, 23.3, 22.0, 20.1, 22.2, 23.7, 17.6, 18.5, 24.3, 20.5, 24.5, 26.2, 24.4, 24.8, 29.6, 42.8, 21.9, 20.9, 44.0, 50.0, 36.0, 30.1, 33.8, 43.1, 48.8, 31.0, 36.5, 22.8, 30.7, 50.0, 43.5, 20.7, 21.1, 25.2, 24.4, 35.2, 32.4, 32.0, 33.2, 33.1, 29.1, 35.1, 45.4, 35.4, 46.0, 50.0, 32.2, 22.0, 20.1, 23.2, 22.3, 24.8, 28.5, 37.3, 27.9, 23.9, 21.7, 28.6, 27.1, 20.3, 22.5, 29.0, 24.8, 22.0, 26.4, 33.1, 36.1, 28.4, 33.4, 28.2, 22.8, 20.3, 16.1, 22.1, 19.4, 21.6, 23.8, 16.2, 17.8, 19.8, 23.1, 21.0, 23.8, 23.1, 20.4, 18.5, 25.0, 24.6, 23.0, 22.2, 19.3, 22.6, 19.8, 17.1, 19.4, 22.2, 20.7, 21.1, 19.5, 18.5, 20.6, 19.0, 18.7, 32.7, 16.5, 23.9, 31.2, 17.5, 17.2, 23.1, 24.5, 26.6, 22.9, 24.1, 18.6, 30.1, 18.2, 20.6, 17.8, 21.7, 22.7, 22.6, 25.0, 19.9, 20.8, 16.8, 21.9, 27.5, 21.9, 23.1, 50.0, 50.0, 50.0, 50.0, 50.0, 13.8, 13.8, 15.0, 13.9, 13.3, 13.1, 10.2, 10.4, 10.9, 11.3, 12.3, 8.8, 7.2, 10.5, 7.4, 10.2, 11.5, 15.1, 23.2, 9.7, 13.8, 12.7, 13.1, 12.5, 8.5, 5.0, 6.3, 5.6, 7.2, 12.1, 8.3, 8.5, 5.0, 11.9, 27.9, 17.2, 27.5, 15.0, 17.2, 17.9, 16.3, 7.0, 7.2, 7.5, 10.4, 8.8, 8.4, 16.7, 14.2, 20.8, 13.4, 11.7, 8.3, 10.2, 10.9, 11.0, 9.5, 14.5, 14.1, 16.1, 14.3, 11.7, 13.4, 9.6, 8.7, 8.4, 12.8, 10.5, 17.1, 18.4, 15.4, 10.8, 11.8, 14.9, 12.6, 14.1, 13.0, 13.4, 15.2, 16.1, 17.8, 14.9, 14.1, 12.7, 13.5, 14.9, 20.0, 16.4, 17.7, 19.5, 20.2, 21.4, 19.9, 19.0, 19.1, 19.1, 20.1, 19.9, 19.6, 23.2, 29.8, 13.8, 13.3, 16.7, 12.0, 14.6, 21.4, 23.0, 23.7, 25.0, 21.8, 20.6, 21.2, 19.1, 20.6, 15.2, 7.0, 8.1, 13.6, 20.1, 21.8, 24.5, 23.1, 19.7, 18.3, 21.2, 17.5, 16.8, 22.4, 20.6, 23.9, 22.0, 11.9], \"yaxis\": \"y\"}],\n",
              "                        {\"legend\": {\"tracegroupgap\": 0}, \"margin\": {\"t\": 60}, \"template\": {\"data\": {\"bar\": [{\"error_x\": {\"color\": \"#2a3f5f\"}, \"error_y\": {\"color\": \"#2a3f5f\"}, \"marker\": {\"line\": {\"color\": \"#E5ECF6\", \"width\": 0.5}}, \"type\": \"bar\"}], \"barpolar\": [{\"marker\": {\"line\": {\"color\": \"#E5ECF6\", \"width\": 0.5}}, \"type\": \"barpolar\"}], \"carpet\": [{\"aaxis\": {\"endlinecolor\": \"#2a3f5f\", \"gridcolor\": \"white\", \"linecolor\": \"white\", \"minorgridcolor\": \"white\", \"startlinecolor\": \"#2a3f5f\"}, \"baxis\": {\"endlinecolor\": \"#2a3f5f\", \"gridcolor\": \"white\", \"linecolor\": \"white\", \"minorgridcolor\": \"white\", \"startlinecolor\": \"#2a3f5f\"}, \"type\": \"carpet\"}], \"choropleth\": [{\"colorbar\": {\"outlinewidth\": 0, \"ticks\": \"\"}, \"type\": \"choropleth\"}], \"contour\": [{\"colorbar\": {\"outlinewidth\": 0, \"ticks\": \"\"}, \"colorscale\": [[0.0, \"#0d0887\"], [0.1111111111111111, \"#46039f\"], [0.2222222222222222, \"#7201a8\"], [0.3333333333333333, \"#9c179e\"], [0.4444444444444444, \"#bd3786\"], [0.5555555555555556, \"#d8576b\"], [0.6666666666666666, \"#ed7953\"], [0.7777777777777778, \"#fb9f3a\"], [0.8888888888888888, \"#fdca26\"], [1.0, \"#f0f921\"]], \"type\": \"contour\"}], \"contourcarpet\": [{\"colorbar\": {\"outlinewidth\": 0, \"ticks\": \"\"}, \"type\": \"contourcarpet\"}], \"heatmap\": [{\"colorbar\": {\"outlinewidth\": 0, \"ticks\": \"\"}, \"colorscale\": [[0.0, \"#0d0887\"], [0.1111111111111111, \"#46039f\"], [0.2222222222222222, \"#7201a8\"], [0.3333333333333333, \"#9c179e\"], [0.4444444444444444, \"#bd3786\"], [0.5555555555555556, \"#d8576b\"], [0.6666666666666666, \"#ed7953\"], [0.7777777777777778, \"#fb9f3a\"], [0.8888888888888888, \"#fdca26\"], [1.0, \"#f0f921\"]], \"type\": \"heatmap\"}], \"heatmapgl\": [{\"colorbar\": {\"outlinewidth\": 0, \"ticks\": \"\"}, \"colorscale\": [[0.0, \"#0d0887\"], [0.1111111111111111, \"#46039f\"], [0.2222222222222222, \"#7201a8\"], [0.3333333333333333, \"#9c179e\"], [0.4444444444444444, \"#bd3786\"], [0.5555555555555556, \"#d8576b\"], [0.6666666666666666, \"#ed7953\"], [0.7777777777777778, \"#fb9f3a\"], [0.8888888888888888, \"#fdca26\"], [1.0, \"#f0f921\"]], \"type\": \"heatmapgl\"}], \"histogram\": [{\"marker\": {\"colorbar\": {\"outlinewidth\": 0, \"ticks\": \"\"}}, \"type\": \"histogram\"}], \"histogram2d\": [{\"colorbar\": {\"outlinewidth\": 0, \"ticks\": \"\"}, \"colorscale\": [[0.0, \"#0d0887\"], [0.1111111111111111, \"#46039f\"], [0.2222222222222222, \"#7201a8\"], [0.3333333333333333, \"#9c179e\"], [0.4444444444444444, \"#bd3786\"], [0.5555555555555556, \"#d8576b\"], [0.6666666666666666, \"#ed7953\"], [0.7777777777777778, \"#fb9f3a\"], [0.8888888888888888, \"#fdca26\"], [1.0, \"#f0f921\"]], \"type\": \"histogram2d\"}], \"histogram2dcontour\": [{\"colorbar\": {\"outlinewidth\": 0, \"ticks\": \"\"}, \"colorscale\": [[0.0, \"#0d0887\"], [0.1111111111111111, \"#46039f\"], [0.2222222222222222, \"#7201a8\"], [0.3333333333333333, \"#9c179e\"], [0.4444444444444444, \"#bd3786\"], [0.5555555555555556, \"#d8576b\"], [0.6666666666666666, \"#ed7953\"], [0.7777777777777778, \"#fb9f3a\"], [0.8888888888888888, \"#fdca26\"], [1.0, \"#f0f921\"]], \"type\": \"histogram2dcontour\"}], \"mesh3d\": [{\"colorbar\": {\"outlinewidth\": 0, \"ticks\": \"\"}, \"type\": \"mesh3d\"}], \"parcoords\": [{\"line\": {\"colorbar\": {\"outlinewidth\": 0, \"ticks\": \"\"}}, \"type\": \"parcoords\"}], \"pie\": [{\"automargin\": true, \"type\": \"pie\"}], \"scatter\": [{\"marker\": {\"colorbar\": {\"outlinewidth\": 0, \"ticks\": \"\"}}, \"type\": \"scatter\"}], \"scatter3d\": [{\"line\": {\"colorbar\": {\"outlinewidth\": 0, \"ticks\": \"\"}}, \"marker\": {\"colorbar\": {\"outlinewidth\": 0, \"ticks\": \"\"}}, \"type\": \"scatter3d\"}], \"scattercarpet\": [{\"marker\": {\"colorbar\": {\"outlinewidth\": 0, \"ticks\": \"\"}}, \"type\": \"scattercarpet\"}], \"scattergeo\": [{\"marker\": {\"colorbar\": {\"outlinewidth\": 0, \"ticks\": \"\"}}, \"type\": \"scattergeo\"}], \"scattergl\": [{\"marker\": {\"colorbar\": {\"outlinewidth\": 0, \"ticks\": \"\"}}, \"type\": \"scattergl\"}], \"scattermapbox\": [{\"marker\": {\"colorbar\": {\"outlinewidth\": 0, \"ticks\": \"\"}}, \"type\": \"scattermapbox\"}], \"scatterpolar\": [{\"marker\": {\"colorbar\": {\"outlinewidth\": 0, \"ticks\": \"\"}}, \"type\": \"scatterpolar\"}], \"scatterpolargl\": [{\"marker\": {\"colorbar\": {\"outlinewidth\": 0, \"ticks\": \"\"}}, \"type\": \"scatterpolargl\"}], \"scatterternary\": [{\"marker\": {\"colorbar\": {\"outlinewidth\": 0, \"ticks\": \"\"}}, \"type\": \"scatterternary\"}], \"surface\": [{\"colorbar\": {\"outlinewidth\": 0, \"ticks\": \"\"}, \"colorscale\": [[0.0, \"#0d0887\"], [0.1111111111111111, \"#46039f\"], [0.2222222222222222, \"#7201a8\"], [0.3333333333333333, \"#9c179e\"], [0.4444444444444444, \"#bd3786\"], [0.5555555555555556, \"#d8576b\"], [0.6666666666666666, \"#ed7953\"], [0.7777777777777778, \"#fb9f3a\"], [0.8888888888888888, \"#fdca26\"], [1.0, \"#f0f921\"]], \"type\": \"surface\"}], \"table\": [{\"cells\": {\"fill\": {\"color\": \"#EBF0F8\"}, \"line\": {\"color\": \"white\"}}, \"header\": {\"fill\": {\"color\": \"#C8D4E3\"}, \"line\": {\"color\": \"white\"}}, \"type\": \"table\"}]}, \"layout\": {\"annotationdefaults\": {\"arrowcolor\": \"#2a3f5f\", \"arrowhead\": 0, \"arrowwidth\": 1}, \"coloraxis\": {\"colorbar\": {\"outlinewidth\": 0, \"ticks\": \"\"}}, \"colorscale\": {\"diverging\": [[0, \"#8e0152\"], [0.1, \"#c51b7d\"], [0.2, \"#de77ae\"], [0.3, \"#f1b6da\"], [0.4, \"#fde0ef\"], [0.5, \"#f7f7f7\"], [0.6, \"#e6f5d0\"], [0.7, \"#b8e186\"], [0.8, \"#7fbc41\"], [0.9, \"#4d9221\"], [1, \"#276419\"]], \"sequential\": [[0.0, \"#0d0887\"], [0.1111111111111111, \"#46039f\"], [0.2222222222222222, \"#7201a8\"], [0.3333333333333333, \"#9c179e\"], [0.4444444444444444, \"#bd3786\"], [0.5555555555555556, \"#d8576b\"], [0.6666666666666666, \"#ed7953\"], [0.7777777777777778, \"#fb9f3a\"], [0.8888888888888888, \"#fdca26\"], [1.0, \"#f0f921\"]], \"sequentialminus\": [[0.0, \"#0d0887\"], [0.1111111111111111, \"#46039f\"], [0.2222222222222222, \"#7201a8\"], [0.3333333333333333, \"#9c179e\"], [0.4444444444444444, \"#bd3786\"], [0.5555555555555556, \"#d8576b\"], [0.6666666666666666, \"#ed7953\"], [0.7777777777777778, \"#fb9f3a\"], [0.8888888888888888, \"#fdca26\"], [1.0, \"#f0f921\"]]}, \"colorway\": [\"#636efa\", \"#EF553B\", \"#00cc96\", \"#ab63fa\", \"#FFA15A\", \"#19d3f3\", \"#FF6692\", \"#B6E880\", \"#FF97FF\", \"#FECB52\"], \"font\": {\"color\": \"#2a3f5f\"}, \"geo\": {\"bgcolor\": \"white\", \"lakecolor\": \"white\", \"landcolor\": \"#E5ECF6\", \"showlakes\": true, \"showland\": true, \"subunitcolor\": \"white\"}, \"hoverlabel\": {\"align\": \"left\"}, \"hovermode\": \"closest\", \"mapbox\": {\"style\": \"light\"}, \"paper_bgcolor\": \"white\", \"plot_bgcolor\": \"#E5ECF6\", \"polar\": {\"angularaxis\": {\"gridcolor\": \"white\", \"linecolor\": \"white\", \"ticks\": \"\"}, \"bgcolor\": \"#E5ECF6\", \"radialaxis\": {\"gridcolor\": \"white\", \"linecolor\": \"white\", \"ticks\": \"\"}}, \"scene\": {\"xaxis\": {\"backgroundcolor\": \"#E5ECF6\", \"gridcolor\": \"white\", \"gridwidth\": 2, \"linecolor\": \"white\", \"showbackground\": true, \"ticks\": \"\", \"zerolinecolor\": \"white\"}, \"yaxis\": {\"backgroundcolor\": \"#E5ECF6\", \"gridcolor\": \"white\", \"gridwidth\": 2, \"linecolor\": \"white\", \"showbackground\": true, \"ticks\": \"\", \"zerolinecolor\": \"white\"}, \"zaxis\": {\"backgroundcolor\": \"#E5ECF6\", \"gridcolor\": \"white\", \"gridwidth\": 2, \"linecolor\": \"white\", \"showbackground\": true, \"ticks\": \"\", \"zerolinecolor\": \"white\"}}, \"shapedefaults\": {\"line\": {\"color\": \"#2a3f5f\"}}, \"ternary\": {\"aaxis\": {\"gridcolor\": \"white\", \"linecolor\": \"white\", \"ticks\": \"\"}, \"baxis\": {\"gridcolor\": \"white\", \"linecolor\": \"white\", \"ticks\": \"\"}, \"bgcolor\": \"#E5ECF6\", \"caxis\": {\"gridcolor\": \"white\", \"linecolor\": \"white\", \"ticks\": \"\"}}, \"title\": {\"x\": 0.05}, \"xaxis\": {\"automargin\": true, \"gridcolor\": \"white\", \"linecolor\": \"white\", \"ticks\": \"\", \"title\": {\"standoff\": 15}, \"zerolinecolor\": \"white\", \"zerolinewidth\": 2}, \"yaxis\": {\"automargin\": true, \"gridcolor\": \"white\", \"linecolor\": \"white\", \"ticks\": \"\", \"title\": {\"standoff\": 15}, \"zerolinecolor\": \"white\", \"zerolinewidth\": 2}}}, \"xaxis\": {\"anchor\": \"y\", \"domain\": [0.0, 1.0], \"title\": {\"text\": \"RM\"}}, \"yaxis\": {\"anchor\": \"x\", \"domain\": [0.0, 1.0], \"title\": {\"text\": \"MEDV\"}}},\n",
              "                        {\"responsive\": true}\n",
              "                    ).then(function(){\n",
              "                            \n",
              "var gd = document.getElementById('d6392ed2-317c-4a90-a25a-3b326e6c7cba');\n",
              "var x = new MutationObserver(function (mutations, observer) {{\n",
              "        var display = window.getComputedStyle(gd).display;\n",
              "        if (!display || display === 'none') {{\n",
              "            console.log([gd, 'removed!']);\n",
              "            Plotly.purge(gd);\n",
              "            observer.disconnect();\n",
              "        }}\n",
              "}});\n",
              "\n",
              "// Listen for the removal of the full notebook cells\n",
              "var notebookContainer = gd.closest('#notebook-container');\n",
              "if (notebookContainer) {{\n",
              "    x.observe(notebookContainer, {childList: true});\n",
              "}}\n",
              "\n",
              "// Listen for the clearing of the current output cell\n",
              "var outputEl = gd.closest('.output');\n",
              "if (outputEl) {{\n",
              "    x.observe(outputEl, {childList: true});\n",
              "}}\n",
              "\n",
              "                        })\n",
              "                };\n",
              "                \n",
              "            </script>\n",
              "        </div>\n",
              "</body>\n",
              "</html>"
            ]
          },
          "metadata": {
            "tags": []
          }
        }
      ]
    },
    {
      "cell_type": "markdown",
      "metadata": {
        "id": "ughIBiors-LV",
        "colab_type": "text"
      },
      "source": [
        "**Plotar um scatterplot para observar o comportamento dos dados em relação a proporção da população \"carente\" e o preço do imóvel**"
      ]
    },
    {
      "cell_type": "code",
      "metadata": {
        "id": "SwGH9wV4rqMH",
        "colab_type": "code",
        "outputId": "bbdbe022-ec62-49bb-8f04-b5cf7ddcd0da",
        "colab": {
          "base_uri": "https://localhost:8080/",
          "height": 542
        }
      },
      "source": [
        "fig = px.scatter(dados, x=dados.LSTAT, y=dados.MEDV)\n",
        "fig.show()"
      ],
      "execution_count": 0,
      "outputs": [
        {
          "output_type": "display_data",
          "data": {
            "text/html": [
              "<html>\n",
              "<head><meta charset=\"utf-8\" /></head>\n",
              "<body>\n",
              "    <div>\n",
              "            <script src=\"https://cdnjs.cloudflare.com/ajax/libs/mathjax/2.7.5/MathJax.js?config=TeX-AMS-MML_SVG\"></script><script type=\"text/javascript\">if (window.MathJax) {MathJax.Hub.Config({SVG: {font: \"STIX-Web\"}});}</script>\n",
              "                <script type=\"text/javascript\">window.PlotlyConfig = {MathJaxConfig: 'local'};</script>\n",
              "        <script src=\"https://cdn.plot.ly/plotly-latest.min.js\"></script>    \n",
              "            <div id=\"41733ee6-3eae-44f1-8658-78fa811898c1\" class=\"plotly-graph-div\" style=\"height:525px; width:100%;\"></div>\n",
              "            <script type=\"text/javascript\">\n",
              "                \n",
              "                    window.PLOTLYENV=window.PLOTLYENV || {};\n",
              "                    \n",
              "                if (document.getElementById(\"41733ee6-3eae-44f1-8658-78fa811898c1\")) {\n",
              "                    Plotly.newPlot(\n",
              "                        '41733ee6-3eae-44f1-8658-78fa811898c1',\n",
              "                        [{\"hoverlabel\": {\"namelength\": 0}, \"hovertemplate\": \"LSTAT=%{x}<br>MEDV=%{y}\", \"legendgroup\": \"\", \"marker\": {\"color\": \"#636efa\", \"symbol\": \"circle\"}, \"mode\": \"markers\", \"name\": \"\", \"showlegend\": false, \"type\": \"scatter\", \"x\": [4.98, 9.14, 4.03, 2.94, 5.33, 5.21, 12.43, 19.15, 29.93, 17.1, 20.45, 13.27, 15.71, 8.26, 10.26, 8.47, 6.58, 14.67, 11.69, 11.28, 21.02, 13.83, 18.72, 19.88, 16.3, 16.51, 14.81, 17.28, 12.8, 11.98, 22.6, 13.04, 27.71, 18.35, 20.34, 9.68, 11.41, 8.77, 10.13, 4.32, 1.98, 4.84, 5.81, 7.44, 9.55, 10.21, 14.15, 18.8, 30.81, 16.2, 13.45, 9.43, 5.28, 8.43, 14.8, 4.81, 5.77, 3.95, 6.86, 9.22, 13.15, 14.44, 6.73, 9.5, 8.05, 4.67, 10.24, 8.1, 13.09, 8.79, 6.72, 9.88, 5.52, 7.54, 6.78, 8.94, 11.97, 10.27, 12.34, 9.1, 5.29, 7.22, 6.72, 7.51, 9.62, 6.53, 12.86, 8.44, 5.5, 5.7, 8.81, 8.2, 8.16, 6.21, 10.59, 6.65, 11.34, 4.21, 3.57, 6.19, 9.42, 7.67, 10.63, 13.44, 12.33, 16.47, 18.66, 14.09, 12.27, 15.55, 13.0, 10.16, 16.21, 17.09, 10.45, 15.76, 12.04, 10.3, 15.37, 13.61, 14.37, 14.27, 17.93, 25.41, 17.58, 14.81, 27.26, 17.19, 15.39, 18.34, 12.6, 12.26, 11.12, 15.03, 17.31, 16.96, 16.9, 14.59, 21.32, 18.46, 24.16, 34.41, 26.82, 26.42, 29.29, 27.8, 16.65, 29.53, 28.32, 21.45, 14.1, 13.28, 12.12, 15.79, 15.12, 15.02, 16.14, 4.59, 6.43, 7.39, 5.5, 1.73, 1.92, 3.32, 11.64, 9.81, 3.7, 12.14, 11.1, 11.32, 14.43, 12.03, 14.69, 9.04, 9.64, 5.33, 10.11, 6.29, 6.92, 5.04, 7.56, 9.45, 4.82, 5.68, 13.98, 13.15, 4.45, 6.68, 4.56, 5.39, 5.1, 4.69, 2.87, 5.03, 4.38, 2.97, 4.08, 8.61, 6.62, 4.56, 4.45, 7.43, 3.11, 3.81, 2.88, 10.87, 10.97, 18.06, 14.66, 23.09, 17.27, 23.98, 16.03, 9.38, 29.55, 9.47, 13.51, 9.69, 17.92, 10.5, 9.71, 21.46, 9.93, 7.6, 4.14, 4.63, 3.13, 6.36, 3.92, 3.76, 11.65, 5.25, 2.47, 3.95, 8.05, 10.88, 9.54, 4.73, 6.36, 7.37, 11.38, 12.4, 11.22, 5.19, 12.5, 18.46, 9.16, 10.15, 9.52, 6.56, 5.9, 3.59, 3.53, 3.54, 6.57, 9.25, 3.11, 5.12, 7.79, 6.9, 9.59, 7.26, 5.91, 11.25, 8.1, 10.45, 14.79, 7.44, 3.16, 13.65, 13.0, 6.59, 7.73, 6.58, 3.53, 2.98, 6.05, 4.16, 7.19, 4.85, 3.76, 4.59, 3.01, 3.16, 7.85, 8.23, 12.93, 7.14, 7.6, 9.51, 3.33, 3.56, 4.7, 8.58, 10.4, 6.27, 7.39, 15.84, 4.97, 4.74, 6.07, 9.5, 8.67, 4.86, 6.93, 8.93, 6.47, 7.53, 4.54, 9.97, 12.64, 5.98, 11.72, 7.9, 9.28, 11.5, 18.33, 15.94, 10.36, 12.73, 7.2, 6.87, 7.7, 11.74, 6.12, 5.08, 6.15, 12.79, 9.97, 7.34, 9.09, 12.43, 7.83, 5.68, 6.75, 8.01, 9.8, 10.56, 8.51, 9.74, 9.29, 5.49, 8.65, 7.18, 4.61, 10.53, 12.67, 6.36, 5.99, 5.89, 5.98, 5.49, 7.79, 4.5, 8.05, 5.57, 17.6, 13.27, 11.48, 12.67, 7.79, 14.19, 10.19, 14.64, 5.29, 7.12, 14.0, 13.33, 3.26, 3.73, 2.96, 9.53, 8.88, 34.77, 37.97, 13.44, 23.24, 21.24, 23.69, 21.78, 17.21, 21.08, 23.6, 24.56, 30.63, 30.81, 28.28, 31.99, 30.62, 20.85, 17.11, 18.76, 25.68, 15.17, 16.35, 17.12, 19.37, 19.92, 30.59, 29.97, 26.77, 20.32, 20.31, 19.77, 27.38, 22.98, 23.34, 12.13, 26.4, 19.78, 10.11, 21.22, 34.37, 20.08, 36.98, 29.05, 25.79, 26.64, 20.62, 22.74, 15.02, 15.7, 14.1, 23.29, 17.16, 24.39, 15.69, 14.52, 21.52, 24.08, 17.64, 19.69, 12.03, 16.22, 15.17, 23.27, 18.05, 26.45, 34.02, 22.88, 22.11, 19.52, 16.59, 18.85, 23.79, 23.98, 17.79, 16.44, 18.13, 19.31, 17.44, 17.73, 17.27, 16.74, 18.71, 18.13, 19.01, 16.94, 16.23, 14.7, 16.42, 14.65, 13.99, 10.29, 13.22, 14.13, 17.15, 21.32, 18.13, 14.76, 16.29, 12.87, 14.36, 11.66, 18.14, 24.1, 18.68, 24.91, 18.03, 13.11, 10.74, 7.74, 7.01, 10.42, 13.34, 10.58, 14.98, 11.45, 18.06, 23.97, 29.68, 18.07, 13.35, 12.01, 13.59, 17.6, 21.14, 14.1, 12.92, 15.1, 14.33, 9.67, 9.08, 5.64, 6.48, 7.88], \"xaxis\": \"x\", \"y\": [24.0, 21.6, 34.7, 33.4, 36.2, 28.7, 22.9, 27.1, 16.5, 18.9, 15.0, 18.9, 21.7, 20.4, 18.2, 19.9, 23.1, 17.5, 20.2, 18.2, 13.6, 19.6, 15.2, 14.5, 15.6, 13.9, 16.6, 14.8, 18.4, 21.0, 12.7, 14.5, 13.2, 13.1, 13.5, 18.9, 20.0, 21.0, 24.7, 30.8, 34.9, 26.6, 25.3, 24.7, 21.2, 19.3, 20.0, 16.6, 14.4, 19.4, 19.7, 20.5, 25.0, 23.4, 18.9, 35.4, 24.7, 31.6, 23.3, 19.6, 18.7, 16.0, 22.2, 25.0, 33.0, 23.5, 19.4, 22.0, 17.4, 20.9, 24.2, 21.7, 22.8, 23.4, 24.1, 21.4, 20.0, 20.8, 21.2, 20.3, 28.0, 23.9, 24.8, 22.9, 23.9, 26.6, 22.5, 22.2, 23.6, 28.7, 22.6, 22.0, 22.9, 25.0, 20.6, 28.4, 21.4, 38.7, 43.8, 33.2, 27.5, 26.5, 18.6, 19.3, 20.1, 19.5, 19.5, 20.4, 19.8, 19.4, 21.7, 22.8, 18.8, 18.7, 18.5, 18.3, 21.2, 19.2, 20.4, 19.3, 22.0, 20.3, 20.5, 17.3, 18.8, 21.4, 15.7, 16.2, 18.0, 14.3, 19.2, 19.6, 23.0, 18.4, 15.6, 18.1, 17.4, 17.1, 13.3, 17.8, 14.0, 14.4, 13.4, 15.6, 11.8, 13.8, 15.6, 14.6, 17.8, 15.4, 21.5, 19.6, 15.3, 19.4, 17.0, 15.6, 13.1, 41.3, 24.3, 23.3, 27.0, 50.0, 50.0, 50.0, 22.7, 25.0, 50.0, 23.8, 23.8, 22.3, 17.4, 19.1, 23.1, 23.6, 22.6, 29.4, 23.2, 24.6, 29.9, 37.2, 39.8, 36.2, 37.9, 32.5, 26.4, 29.6, 50.0, 32.0, 29.8, 34.9, 37.0, 30.5, 36.4, 31.1, 29.1, 50.0, 33.3, 30.3, 34.6, 34.9, 32.9, 24.1, 42.3, 48.5, 50.0, 22.6, 24.4, 22.5, 24.4, 20.0, 21.7, 19.3, 22.4, 28.1, 23.7, 25.0, 23.3, 28.7, 21.5, 23.0, 26.7, 21.7, 27.5, 30.1, 44.8, 50.0, 37.6, 31.6, 46.7, 31.5, 24.3, 31.7, 41.7, 48.3, 29.0, 24.0, 25.1, 31.5, 23.7, 23.3, 22.0, 20.1, 22.2, 23.7, 17.6, 18.5, 24.3, 20.5, 24.5, 26.2, 24.4, 24.8, 29.6, 42.8, 21.9, 20.9, 44.0, 50.0, 36.0, 30.1, 33.8, 43.1, 48.8, 31.0, 36.5, 22.8, 30.7, 50.0, 43.5, 20.7, 21.1, 25.2, 24.4, 35.2, 32.4, 32.0, 33.2, 33.1, 29.1, 35.1, 45.4, 35.4, 46.0, 50.0, 32.2, 22.0, 20.1, 23.2, 22.3, 24.8, 28.5, 37.3, 27.9, 23.9, 21.7, 28.6, 27.1, 20.3, 22.5, 29.0, 24.8, 22.0, 26.4, 33.1, 36.1, 28.4, 33.4, 28.2, 22.8, 20.3, 16.1, 22.1, 19.4, 21.6, 23.8, 16.2, 17.8, 19.8, 23.1, 21.0, 23.8, 23.1, 20.4, 18.5, 25.0, 24.6, 23.0, 22.2, 19.3, 22.6, 19.8, 17.1, 19.4, 22.2, 20.7, 21.1, 19.5, 18.5, 20.6, 19.0, 18.7, 32.7, 16.5, 23.9, 31.2, 17.5, 17.2, 23.1, 24.5, 26.6, 22.9, 24.1, 18.6, 30.1, 18.2, 20.6, 17.8, 21.7, 22.7, 22.6, 25.0, 19.9, 20.8, 16.8, 21.9, 27.5, 21.9, 23.1, 50.0, 50.0, 50.0, 50.0, 50.0, 13.8, 13.8, 15.0, 13.9, 13.3, 13.1, 10.2, 10.4, 10.9, 11.3, 12.3, 8.8, 7.2, 10.5, 7.4, 10.2, 11.5, 15.1, 23.2, 9.7, 13.8, 12.7, 13.1, 12.5, 8.5, 5.0, 6.3, 5.6, 7.2, 12.1, 8.3, 8.5, 5.0, 11.9, 27.9, 17.2, 27.5, 15.0, 17.2, 17.9, 16.3, 7.0, 7.2, 7.5, 10.4, 8.8, 8.4, 16.7, 14.2, 20.8, 13.4, 11.7, 8.3, 10.2, 10.9, 11.0, 9.5, 14.5, 14.1, 16.1, 14.3, 11.7, 13.4, 9.6, 8.7, 8.4, 12.8, 10.5, 17.1, 18.4, 15.4, 10.8, 11.8, 14.9, 12.6, 14.1, 13.0, 13.4, 15.2, 16.1, 17.8, 14.9, 14.1, 12.7, 13.5, 14.9, 20.0, 16.4, 17.7, 19.5, 20.2, 21.4, 19.9, 19.0, 19.1, 19.1, 20.1, 19.9, 19.6, 23.2, 29.8, 13.8, 13.3, 16.7, 12.0, 14.6, 21.4, 23.0, 23.7, 25.0, 21.8, 20.6, 21.2, 19.1, 20.6, 15.2, 7.0, 8.1, 13.6, 20.1, 21.8, 24.5, 23.1, 19.7, 18.3, 21.2, 17.5, 16.8, 22.4, 20.6, 23.9, 22.0, 11.9], \"yaxis\": \"y\"}],\n",
              "                        {\"legend\": {\"tracegroupgap\": 0}, \"margin\": {\"t\": 60}, \"template\": {\"data\": {\"bar\": [{\"error_x\": {\"color\": \"#2a3f5f\"}, \"error_y\": {\"color\": \"#2a3f5f\"}, \"marker\": {\"line\": {\"color\": \"#E5ECF6\", \"width\": 0.5}}, \"type\": \"bar\"}], \"barpolar\": [{\"marker\": {\"line\": {\"color\": \"#E5ECF6\", \"width\": 0.5}}, \"type\": \"barpolar\"}], \"carpet\": [{\"aaxis\": {\"endlinecolor\": \"#2a3f5f\", \"gridcolor\": \"white\", \"linecolor\": \"white\", \"minorgridcolor\": \"white\", \"startlinecolor\": \"#2a3f5f\"}, \"baxis\": {\"endlinecolor\": \"#2a3f5f\", \"gridcolor\": \"white\", \"linecolor\": \"white\", \"minorgridcolor\": \"white\", \"startlinecolor\": \"#2a3f5f\"}, \"type\": \"carpet\"}], \"choropleth\": [{\"colorbar\": {\"outlinewidth\": 0, \"ticks\": \"\"}, \"type\": \"choropleth\"}], \"contour\": [{\"colorbar\": {\"outlinewidth\": 0, \"ticks\": \"\"}, \"colorscale\": [[0.0, \"#0d0887\"], [0.1111111111111111, \"#46039f\"], [0.2222222222222222, \"#7201a8\"], [0.3333333333333333, \"#9c179e\"], [0.4444444444444444, \"#bd3786\"], [0.5555555555555556, \"#d8576b\"], [0.6666666666666666, \"#ed7953\"], [0.7777777777777778, \"#fb9f3a\"], [0.8888888888888888, \"#fdca26\"], [1.0, \"#f0f921\"]], \"type\": \"contour\"}], \"contourcarpet\": [{\"colorbar\": {\"outlinewidth\": 0, \"ticks\": \"\"}, \"type\": \"contourcarpet\"}], \"heatmap\": [{\"colorbar\": {\"outlinewidth\": 0, \"ticks\": \"\"}, \"colorscale\": [[0.0, \"#0d0887\"], [0.1111111111111111, \"#46039f\"], [0.2222222222222222, \"#7201a8\"], [0.3333333333333333, \"#9c179e\"], [0.4444444444444444, \"#bd3786\"], [0.5555555555555556, \"#d8576b\"], [0.6666666666666666, \"#ed7953\"], [0.7777777777777778, \"#fb9f3a\"], [0.8888888888888888, \"#fdca26\"], [1.0, \"#f0f921\"]], \"type\": \"heatmap\"}], \"heatmapgl\": [{\"colorbar\": {\"outlinewidth\": 0, \"ticks\": \"\"}, \"colorscale\": [[0.0, \"#0d0887\"], [0.1111111111111111, \"#46039f\"], [0.2222222222222222, \"#7201a8\"], [0.3333333333333333, \"#9c179e\"], [0.4444444444444444, \"#bd3786\"], [0.5555555555555556, \"#d8576b\"], [0.6666666666666666, \"#ed7953\"], [0.7777777777777778, \"#fb9f3a\"], [0.8888888888888888, \"#fdca26\"], [1.0, \"#f0f921\"]], \"type\": \"heatmapgl\"}], \"histogram\": [{\"marker\": {\"colorbar\": {\"outlinewidth\": 0, \"ticks\": \"\"}}, \"type\": \"histogram\"}], \"histogram2d\": [{\"colorbar\": {\"outlinewidth\": 0, \"ticks\": \"\"}, \"colorscale\": [[0.0, \"#0d0887\"], [0.1111111111111111, \"#46039f\"], [0.2222222222222222, \"#7201a8\"], [0.3333333333333333, \"#9c179e\"], [0.4444444444444444, \"#bd3786\"], [0.5555555555555556, \"#d8576b\"], [0.6666666666666666, \"#ed7953\"], [0.7777777777777778, \"#fb9f3a\"], [0.8888888888888888, \"#fdca26\"], [1.0, \"#f0f921\"]], \"type\": \"histogram2d\"}], \"histogram2dcontour\": [{\"colorbar\": {\"outlinewidth\": 0, \"ticks\": \"\"}, \"colorscale\": [[0.0, \"#0d0887\"], [0.1111111111111111, \"#46039f\"], [0.2222222222222222, \"#7201a8\"], [0.3333333333333333, \"#9c179e\"], [0.4444444444444444, \"#bd3786\"], [0.5555555555555556, \"#d8576b\"], [0.6666666666666666, \"#ed7953\"], [0.7777777777777778, \"#fb9f3a\"], [0.8888888888888888, \"#fdca26\"], [1.0, \"#f0f921\"]], \"type\": \"histogram2dcontour\"}], \"mesh3d\": [{\"colorbar\": {\"outlinewidth\": 0, \"ticks\": \"\"}, \"type\": \"mesh3d\"}], \"parcoords\": [{\"line\": {\"colorbar\": {\"outlinewidth\": 0, \"ticks\": \"\"}}, \"type\": \"parcoords\"}], \"pie\": [{\"automargin\": true, \"type\": \"pie\"}], \"scatter\": [{\"marker\": {\"colorbar\": {\"outlinewidth\": 0, \"ticks\": \"\"}}, \"type\": \"scatter\"}], \"scatter3d\": [{\"line\": {\"colorbar\": {\"outlinewidth\": 0, \"ticks\": \"\"}}, \"marker\": {\"colorbar\": {\"outlinewidth\": 0, \"ticks\": \"\"}}, \"type\": \"scatter3d\"}], \"scattercarpet\": [{\"marker\": {\"colorbar\": {\"outlinewidth\": 0, \"ticks\": \"\"}}, \"type\": \"scattercarpet\"}], \"scattergeo\": [{\"marker\": {\"colorbar\": {\"outlinewidth\": 0, \"ticks\": \"\"}}, \"type\": \"scattergeo\"}], \"scattergl\": [{\"marker\": {\"colorbar\": {\"outlinewidth\": 0, \"ticks\": \"\"}}, \"type\": \"scattergl\"}], \"scattermapbox\": [{\"marker\": {\"colorbar\": {\"outlinewidth\": 0, \"ticks\": \"\"}}, \"type\": \"scattermapbox\"}], \"scatterpolar\": [{\"marker\": {\"colorbar\": {\"outlinewidth\": 0, \"ticks\": \"\"}}, \"type\": \"scatterpolar\"}], \"scatterpolargl\": [{\"marker\": {\"colorbar\": {\"outlinewidth\": 0, \"ticks\": \"\"}}, \"type\": \"scatterpolargl\"}], \"scatterternary\": [{\"marker\": {\"colorbar\": {\"outlinewidth\": 0, \"ticks\": \"\"}}, \"type\": \"scatterternary\"}], \"surface\": [{\"colorbar\": {\"outlinewidth\": 0, \"ticks\": \"\"}, \"colorscale\": [[0.0, \"#0d0887\"], [0.1111111111111111, \"#46039f\"], [0.2222222222222222, \"#7201a8\"], [0.3333333333333333, \"#9c179e\"], [0.4444444444444444, \"#bd3786\"], [0.5555555555555556, \"#d8576b\"], [0.6666666666666666, \"#ed7953\"], [0.7777777777777778, \"#fb9f3a\"], [0.8888888888888888, \"#fdca26\"], [1.0, \"#f0f921\"]], \"type\": \"surface\"}], \"table\": [{\"cells\": {\"fill\": {\"color\": \"#EBF0F8\"}, \"line\": {\"color\": \"white\"}}, \"header\": {\"fill\": {\"color\": \"#C8D4E3\"}, \"line\": {\"color\": \"white\"}}, \"type\": \"table\"}]}, \"layout\": {\"annotationdefaults\": {\"arrowcolor\": \"#2a3f5f\", \"arrowhead\": 0, \"arrowwidth\": 1}, \"coloraxis\": {\"colorbar\": {\"outlinewidth\": 0, \"ticks\": \"\"}}, \"colorscale\": {\"diverging\": [[0, \"#8e0152\"], [0.1, \"#c51b7d\"], [0.2, \"#de77ae\"], [0.3, \"#f1b6da\"], [0.4, \"#fde0ef\"], [0.5, \"#f7f7f7\"], [0.6, \"#e6f5d0\"], [0.7, \"#b8e186\"], [0.8, \"#7fbc41\"], [0.9, \"#4d9221\"], [1, \"#276419\"]], \"sequential\": [[0.0, \"#0d0887\"], [0.1111111111111111, \"#46039f\"], [0.2222222222222222, \"#7201a8\"], [0.3333333333333333, \"#9c179e\"], [0.4444444444444444, \"#bd3786\"], [0.5555555555555556, \"#d8576b\"], [0.6666666666666666, \"#ed7953\"], [0.7777777777777778, \"#fb9f3a\"], [0.8888888888888888, \"#fdca26\"], [1.0, \"#f0f921\"]], \"sequentialminus\": [[0.0, \"#0d0887\"], [0.1111111111111111, \"#46039f\"], [0.2222222222222222, \"#7201a8\"], [0.3333333333333333, \"#9c179e\"], [0.4444444444444444, \"#bd3786\"], [0.5555555555555556, \"#d8576b\"], [0.6666666666666666, \"#ed7953\"], [0.7777777777777778, \"#fb9f3a\"], [0.8888888888888888, \"#fdca26\"], [1.0, \"#f0f921\"]]}, \"colorway\": [\"#636efa\", \"#EF553B\", \"#00cc96\", \"#ab63fa\", \"#FFA15A\", \"#19d3f3\", \"#FF6692\", \"#B6E880\", \"#FF97FF\", \"#FECB52\"], \"font\": {\"color\": \"#2a3f5f\"}, \"geo\": {\"bgcolor\": \"white\", \"lakecolor\": \"white\", \"landcolor\": \"#E5ECF6\", \"showlakes\": true, \"showland\": true, \"subunitcolor\": \"white\"}, \"hoverlabel\": {\"align\": \"left\"}, \"hovermode\": \"closest\", \"mapbox\": {\"style\": \"light\"}, \"paper_bgcolor\": \"white\", \"plot_bgcolor\": \"#E5ECF6\", \"polar\": {\"angularaxis\": {\"gridcolor\": \"white\", \"linecolor\": \"white\", \"ticks\": \"\"}, \"bgcolor\": \"#E5ECF6\", \"radialaxis\": {\"gridcolor\": \"white\", \"linecolor\": \"white\", \"ticks\": \"\"}}, \"scene\": {\"xaxis\": {\"backgroundcolor\": \"#E5ECF6\", \"gridcolor\": \"white\", \"gridwidth\": 2, \"linecolor\": \"white\", \"showbackground\": true, \"ticks\": \"\", \"zerolinecolor\": \"white\"}, \"yaxis\": {\"backgroundcolor\": \"#E5ECF6\", \"gridcolor\": \"white\", \"gridwidth\": 2, \"linecolor\": \"white\", \"showbackground\": true, \"ticks\": \"\", \"zerolinecolor\": \"white\"}, \"zaxis\": {\"backgroundcolor\": \"#E5ECF6\", \"gridcolor\": \"white\", \"gridwidth\": 2, \"linecolor\": \"white\", \"showbackground\": true, \"ticks\": \"\", \"zerolinecolor\": \"white\"}}, \"shapedefaults\": {\"line\": {\"color\": \"#2a3f5f\"}}, \"ternary\": {\"aaxis\": {\"gridcolor\": \"white\", \"linecolor\": \"white\", \"ticks\": \"\"}, \"baxis\": {\"gridcolor\": \"white\", \"linecolor\": \"white\", \"ticks\": \"\"}, \"bgcolor\": \"#E5ECF6\", \"caxis\": {\"gridcolor\": \"white\", \"linecolor\": \"white\", \"ticks\": \"\"}}, \"title\": {\"x\": 0.05}, \"xaxis\": {\"automargin\": true, \"gridcolor\": \"white\", \"linecolor\": \"white\", \"ticks\": \"\", \"title\": {\"standoff\": 15}, \"zerolinecolor\": \"white\", \"zerolinewidth\": 2}, \"yaxis\": {\"automargin\": true, \"gridcolor\": \"white\", \"linecolor\": \"white\", \"ticks\": \"\", \"title\": {\"standoff\": 15}, \"zerolinecolor\": \"white\", \"zerolinewidth\": 2}}}, \"xaxis\": {\"anchor\": \"y\", \"domain\": [0.0, 1.0], \"title\": {\"text\": \"LSTAT\"}}, \"yaxis\": {\"anchor\": \"x\", \"domain\": [0.0, 1.0], \"title\": {\"text\": \"MEDV\"}}},\n",
              "                        {\"responsive\": true}\n",
              "                    ).then(function(){\n",
              "                            \n",
              "var gd = document.getElementById('41733ee6-3eae-44f1-8658-78fa811898c1');\n",
              "var x = new MutationObserver(function (mutations, observer) {{\n",
              "        var display = window.getComputedStyle(gd).display;\n",
              "        if (!display || display === 'none') {{\n",
              "            console.log([gd, 'removed!']);\n",
              "            Plotly.purge(gd);\n",
              "            observer.disconnect();\n",
              "        }}\n",
              "}});\n",
              "\n",
              "// Listen for the removal of the full notebook cells\n",
              "var notebookContainer = gd.closest('#notebook-container');\n",
              "if (notebookContainer) {{\n",
              "    x.observe(notebookContainer, {childList: true});\n",
              "}}\n",
              "\n",
              "// Listen for the clearing of the current output cell\n",
              "var outputEl = gd.closest('.output');\n",
              "if (outputEl) {{\n",
              "    x.observe(outputEl, {childList: true});\n",
              "}}\n",
              "\n",
              "                        })\n",
              "                };\n",
              "                \n",
              "            </script>\n",
              "        </div>\n",
              "</body>\n",
              "</html>"
            ]
          },
          "metadata": {
            "tags": []
          }
        }
      ]
    },
    {
      "cell_type": "markdown",
      "metadata": {
        "id": "ThDyYJeLtV5R",
        "colab_type": "text"
      },
      "source": [
        "**Plotar um scatterplot para observar o comportamento dos dados em relação ao percentual de alunos da região e o preço do imóvel**"
      ]
    },
    {
      "cell_type": "code",
      "metadata": {
        "id": "upcwL-XJsQON",
        "colab_type": "code",
        "outputId": "bcd2ece6-6eb6-4d90-f8ac-e511a468fbd2",
        "colab": {
          "base_uri": "https://localhost:8080/",
          "height": 542
        }
      },
      "source": [
        "fig = px.scatter(dados, x=dados.PTRATIO, y=dados.MEDV)\n",
        "fig.show()"
      ],
      "execution_count": 0,
      "outputs": [
        {
          "output_type": "display_data",
          "data": {
            "text/html": [
              "<html>\n",
              "<head><meta charset=\"utf-8\" /></head>\n",
              "<body>\n",
              "    <div>\n",
              "            <script src=\"https://cdnjs.cloudflare.com/ajax/libs/mathjax/2.7.5/MathJax.js?config=TeX-AMS-MML_SVG\"></script><script type=\"text/javascript\">if (window.MathJax) {MathJax.Hub.Config({SVG: {font: \"STIX-Web\"}});}</script>\n",
              "                <script type=\"text/javascript\">window.PlotlyConfig = {MathJaxConfig: 'local'};</script>\n",
              "        <script src=\"https://cdn.plot.ly/plotly-latest.min.js\"></script>    \n",
              "            <div id=\"e802340b-69cb-405a-b841-1b372a0fac74\" class=\"plotly-graph-div\" style=\"height:525px; width:100%;\"></div>\n",
              "            <script type=\"text/javascript\">\n",
              "                \n",
              "                    window.PLOTLYENV=window.PLOTLYENV || {};\n",
              "                    \n",
              "                if (document.getElementById(\"e802340b-69cb-405a-b841-1b372a0fac74\")) {\n",
              "                    Plotly.newPlot(\n",
              "                        'e802340b-69cb-405a-b841-1b372a0fac74',\n",
              "                        [{\"hoverlabel\": {\"namelength\": 0}, \"hovertemplate\": \"PTRATIO=%{x}<br>MEDV=%{y}\", \"legendgroup\": \"\", \"marker\": {\"color\": \"#636efa\", \"symbol\": \"circle\"}, \"mode\": \"markers\", \"name\": \"\", \"showlegend\": false, \"type\": \"scatter\", \"x\": [15.3, 17.8, 17.8, 18.7, 18.7, 18.7, 15.2, 15.2, 15.2, 15.2, 15.2, 15.2, 15.2, 21.0, 21.0, 21.0, 21.0, 21.0, 21.0, 21.0, 21.0, 21.0, 21.0, 21.0, 21.0, 21.0, 21.0, 21.0, 21.0, 21.0, 21.0, 21.0, 21.0, 21.0, 21.0, 19.2, 19.2, 19.2, 19.2, 18.3, 18.3, 17.9, 17.9, 17.9, 17.9, 17.9, 17.9, 17.9, 17.9, 17.9, 16.8, 16.8, 16.8, 16.8, 21.1, 17.9, 17.3, 15.1, 19.7, 19.7, 19.7, 19.7, 19.7, 19.7, 18.6, 16.1, 16.1, 18.9, 18.9, 18.9, 19.2, 19.2, 19.2, 19.2, 18.7, 18.7, 18.7, 18.7, 18.7, 18.7, 19.0, 19.0, 19.0, 19.0, 18.5, 18.5, 18.5, 18.5, 17.8, 17.8, 17.8, 17.8, 18.2, 18.2, 18.2, 18.0, 18.0, 18.0, 18.0, 18.0, 20.9, 20.9, 20.9, 20.9, 20.9, 20.9, 20.9, 20.9, 20.9, 20.9, 20.9, 17.8, 17.8, 17.8, 17.8, 17.8, 17.8, 17.8, 17.8, 17.8, 19.1, 19.1, 19.1, 19.1, 19.1, 19.1, 19.1, 21.2, 21.2, 21.2, 21.2, 21.2, 21.2, 21.2, 21.2, 21.2, 21.2, 21.2, 21.2, 21.2, 21.2, 21.2, 14.7, 14.7, 14.7, 14.7, 14.7, 14.7, 14.7, 14.7, 14.7, 14.7, 14.7, 14.7, 14.7, 14.7, 14.7, 14.7, 14.7, 14.7, 14.7, 14.7, 14.7, 14.7, 14.7, 14.7, 14.7, 14.7, 14.7, 14.7, 14.7, 14.7, 16.6, 16.6, 16.6, 16.6, 16.6, 16.6, 16.6, 17.8, 17.8, 17.8, 17.8, 17.8, 17.8, 17.8, 17.8, 15.2, 15.2, 15.2, 15.2, 15.2, 15.2, 15.6, 15.6, 14.4, 12.6, 12.6, 12.6, 17.0, 17.0, 14.7, 14.7, 14.7, 14.7, 18.6, 18.6, 18.6, 18.6, 18.6, 18.6, 18.6, 18.6, 18.6, 18.6, 18.6, 16.4, 16.4, 16.4, 16.4, 17.4, 17.4, 17.4, 17.4, 17.4, 17.4, 17.4, 17.4, 17.4, 17.4, 17.4, 17.4, 17.4, 17.4, 17.4, 17.4, 17.4, 17.4, 16.6, 16.6, 16.6, 16.6, 16.6, 16.6, 19.1, 19.1, 19.1, 19.1, 19.1, 19.1, 19.1, 19.1, 19.1, 19.1, 16.4, 16.4, 15.9, 13.0, 13.0, 13.0, 13.0, 13.0, 13.0, 13.0, 13.0, 13.0, 13.0, 13.0, 13.0, 18.6, 18.6, 18.6, 18.6, 18.6, 17.6, 17.6, 17.6, 17.6, 17.6, 14.9, 14.9, 14.9, 14.9, 13.6, 15.3, 15.3, 18.2, 16.6, 16.6, 16.6, 19.2, 19.2, 19.2, 16.0, 16.0, 16.0, 16.0, 16.0, 14.8, 14.8, 14.8, 16.1, 16.1, 16.1, 18.4, 18.4, 18.4, 18.4, 18.4, 18.4, 18.4, 18.4, 18.4, 18.4, 18.4, 18.4, 18.4, 18.4, 18.4, 18.4, 19.6, 19.6, 19.6, 19.6, 19.6, 19.6, 19.6, 19.6, 16.9, 16.9, 16.9, 16.9, 16.9, 20.2, 20.2, 20.2, 20.2, 20.2, 20.2, 20.2, 20.2, 15.5, 15.9, 17.6, 17.6, 18.8, 18.8, 17.9, 17.0, 19.7, 19.7, 18.3, 18.3, 17.0, 22.0, 22.0, 20.2, 20.2, 20.2, 20.2, 20.2, 20.2, 20.2, 20.2, 20.2, 20.2, 20.2, 20.2, 20.2, 20.2, 20.2, 20.2, 20.2, 20.2, 20.2, 20.2, 20.2, 20.2, 20.2, 20.2, 20.2, 20.2, 20.2, 20.2, 20.2, 20.2, 20.2, 20.2, 20.2, 20.2, 20.2, 20.2, 20.2, 20.2, 20.2, 20.2, 20.2, 20.2, 20.2, 20.2, 20.2, 20.2, 20.2, 20.2, 20.2, 20.2, 20.2, 20.2, 20.2, 20.2, 20.2, 20.2, 20.2, 20.2, 20.2, 20.2, 20.2, 20.2, 20.2, 20.2, 20.2, 20.2, 20.2, 20.2, 20.2, 20.2, 20.2, 20.2, 20.2, 20.2, 20.2, 20.2, 20.2, 20.2, 20.2, 20.2, 20.2, 20.2, 20.2, 20.2, 20.2, 20.2, 20.2, 20.2, 20.2, 20.2, 20.2, 20.2, 20.2, 20.2, 20.2, 20.2, 20.2, 20.2, 20.2, 20.2, 20.2, 20.2, 20.2, 20.2, 20.2, 20.2, 20.2, 20.2, 20.2, 20.2, 20.2, 20.2, 20.2, 20.2, 20.2, 20.2, 20.2, 20.2, 20.2, 20.2, 20.2, 20.2, 20.2, 20.2, 20.2, 20.2, 20.2, 20.2, 20.2, 20.2, 20.2, 20.2, 20.1, 20.1, 20.1, 20.1, 20.1, 19.2, 19.2, 19.2, 19.2, 19.2, 19.2, 19.2, 19.2, 21.0, 21.0, 21.0, 21.0, 21.0], \"xaxis\": \"x\", \"y\": [24.0, 21.6, 34.7, 33.4, 36.2, 28.7, 22.9, 27.1, 16.5, 18.9, 15.0, 18.9, 21.7, 20.4, 18.2, 19.9, 23.1, 17.5, 20.2, 18.2, 13.6, 19.6, 15.2, 14.5, 15.6, 13.9, 16.6, 14.8, 18.4, 21.0, 12.7, 14.5, 13.2, 13.1, 13.5, 18.9, 20.0, 21.0, 24.7, 30.8, 34.9, 26.6, 25.3, 24.7, 21.2, 19.3, 20.0, 16.6, 14.4, 19.4, 19.7, 20.5, 25.0, 23.4, 18.9, 35.4, 24.7, 31.6, 23.3, 19.6, 18.7, 16.0, 22.2, 25.0, 33.0, 23.5, 19.4, 22.0, 17.4, 20.9, 24.2, 21.7, 22.8, 23.4, 24.1, 21.4, 20.0, 20.8, 21.2, 20.3, 28.0, 23.9, 24.8, 22.9, 23.9, 26.6, 22.5, 22.2, 23.6, 28.7, 22.6, 22.0, 22.9, 25.0, 20.6, 28.4, 21.4, 38.7, 43.8, 33.2, 27.5, 26.5, 18.6, 19.3, 20.1, 19.5, 19.5, 20.4, 19.8, 19.4, 21.7, 22.8, 18.8, 18.7, 18.5, 18.3, 21.2, 19.2, 20.4, 19.3, 22.0, 20.3, 20.5, 17.3, 18.8, 21.4, 15.7, 16.2, 18.0, 14.3, 19.2, 19.6, 23.0, 18.4, 15.6, 18.1, 17.4, 17.1, 13.3, 17.8, 14.0, 14.4, 13.4, 15.6, 11.8, 13.8, 15.6, 14.6, 17.8, 15.4, 21.5, 19.6, 15.3, 19.4, 17.0, 15.6, 13.1, 41.3, 24.3, 23.3, 27.0, 50.0, 50.0, 50.0, 22.7, 25.0, 50.0, 23.8, 23.8, 22.3, 17.4, 19.1, 23.1, 23.6, 22.6, 29.4, 23.2, 24.6, 29.9, 37.2, 39.8, 36.2, 37.9, 32.5, 26.4, 29.6, 50.0, 32.0, 29.8, 34.9, 37.0, 30.5, 36.4, 31.1, 29.1, 50.0, 33.3, 30.3, 34.6, 34.9, 32.9, 24.1, 42.3, 48.5, 50.0, 22.6, 24.4, 22.5, 24.4, 20.0, 21.7, 19.3, 22.4, 28.1, 23.7, 25.0, 23.3, 28.7, 21.5, 23.0, 26.7, 21.7, 27.5, 30.1, 44.8, 50.0, 37.6, 31.6, 46.7, 31.5, 24.3, 31.7, 41.7, 48.3, 29.0, 24.0, 25.1, 31.5, 23.7, 23.3, 22.0, 20.1, 22.2, 23.7, 17.6, 18.5, 24.3, 20.5, 24.5, 26.2, 24.4, 24.8, 29.6, 42.8, 21.9, 20.9, 44.0, 50.0, 36.0, 30.1, 33.8, 43.1, 48.8, 31.0, 36.5, 22.8, 30.7, 50.0, 43.5, 20.7, 21.1, 25.2, 24.4, 35.2, 32.4, 32.0, 33.2, 33.1, 29.1, 35.1, 45.4, 35.4, 46.0, 50.0, 32.2, 22.0, 20.1, 23.2, 22.3, 24.8, 28.5, 37.3, 27.9, 23.9, 21.7, 28.6, 27.1, 20.3, 22.5, 29.0, 24.8, 22.0, 26.4, 33.1, 36.1, 28.4, 33.4, 28.2, 22.8, 20.3, 16.1, 22.1, 19.4, 21.6, 23.8, 16.2, 17.8, 19.8, 23.1, 21.0, 23.8, 23.1, 20.4, 18.5, 25.0, 24.6, 23.0, 22.2, 19.3, 22.6, 19.8, 17.1, 19.4, 22.2, 20.7, 21.1, 19.5, 18.5, 20.6, 19.0, 18.7, 32.7, 16.5, 23.9, 31.2, 17.5, 17.2, 23.1, 24.5, 26.6, 22.9, 24.1, 18.6, 30.1, 18.2, 20.6, 17.8, 21.7, 22.7, 22.6, 25.0, 19.9, 20.8, 16.8, 21.9, 27.5, 21.9, 23.1, 50.0, 50.0, 50.0, 50.0, 50.0, 13.8, 13.8, 15.0, 13.9, 13.3, 13.1, 10.2, 10.4, 10.9, 11.3, 12.3, 8.8, 7.2, 10.5, 7.4, 10.2, 11.5, 15.1, 23.2, 9.7, 13.8, 12.7, 13.1, 12.5, 8.5, 5.0, 6.3, 5.6, 7.2, 12.1, 8.3, 8.5, 5.0, 11.9, 27.9, 17.2, 27.5, 15.0, 17.2, 17.9, 16.3, 7.0, 7.2, 7.5, 10.4, 8.8, 8.4, 16.7, 14.2, 20.8, 13.4, 11.7, 8.3, 10.2, 10.9, 11.0, 9.5, 14.5, 14.1, 16.1, 14.3, 11.7, 13.4, 9.6, 8.7, 8.4, 12.8, 10.5, 17.1, 18.4, 15.4, 10.8, 11.8, 14.9, 12.6, 14.1, 13.0, 13.4, 15.2, 16.1, 17.8, 14.9, 14.1, 12.7, 13.5, 14.9, 20.0, 16.4, 17.7, 19.5, 20.2, 21.4, 19.9, 19.0, 19.1, 19.1, 20.1, 19.9, 19.6, 23.2, 29.8, 13.8, 13.3, 16.7, 12.0, 14.6, 21.4, 23.0, 23.7, 25.0, 21.8, 20.6, 21.2, 19.1, 20.6, 15.2, 7.0, 8.1, 13.6, 20.1, 21.8, 24.5, 23.1, 19.7, 18.3, 21.2, 17.5, 16.8, 22.4, 20.6, 23.9, 22.0, 11.9], \"yaxis\": \"y\"}],\n",
              "                        {\"legend\": {\"tracegroupgap\": 0}, \"margin\": {\"t\": 60}, \"template\": {\"data\": {\"bar\": [{\"error_x\": {\"color\": \"#2a3f5f\"}, \"error_y\": {\"color\": \"#2a3f5f\"}, \"marker\": {\"line\": {\"color\": \"#E5ECF6\", \"width\": 0.5}}, \"type\": \"bar\"}], \"barpolar\": [{\"marker\": {\"line\": {\"color\": \"#E5ECF6\", \"width\": 0.5}}, \"type\": \"barpolar\"}], \"carpet\": [{\"aaxis\": {\"endlinecolor\": \"#2a3f5f\", \"gridcolor\": \"white\", \"linecolor\": \"white\", \"minorgridcolor\": \"white\", \"startlinecolor\": \"#2a3f5f\"}, \"baxis\": {\"endlinecolor\": \"#2a3f5f\", \"gridcolor\": \"white\", \"linecolor\": \"white\", \"minorgridcolor\": \"white\", \"startlinecolor\": \"#2a3f5f\"}, \"type\": \"carpet\"}], \"choropleth\": [{\"colorbar\": {\"outlinewidth\": 0, \"ticks\": \"\"}, \"type\": \"choropleth\"}], \"contour\": [{\"colorbar\": {\"outlinewidth\": 0, \"ticks\": \"\"}, \"colorscale\": [[0.0, \"#0d0887\"], [0.1111111111111111, \"#46039f\"], [0.2222222222222222, \"#7201a8\"], [0.3333333333333333, \"#9c179e\"], [0.4444444444444444, \"#bd3786\"], [0.5555555555555556, \"#d8576b\"], [0.6666666666666666, \"#ed7953\"], [0.7777777777777778, \"#fb9f3a\"], [0.8888888888888888, \"#fdca26\"], [1.0, \"#f0f921\"]], \"type\": \"contour\"}], \"contourcarpet\": [{\"colorbar\": {\"outlinewidth\": 0, \"ticks\": \"\"}, \"type\": \"contourcarpet\"}], \"heatmap\": [{\"colorbar\": {\"outlinewidth\": 0, \"ticks\": \"\"}, \"colorscale\": [[0.0, \"#0d0887\"], [0.1111111111111111, \"#46039f\"], [0.2222222222222222, \"#7201a8\"], [0.3333333333333333, \"#9c179e\"], [0.4444444444444444, \"#bd3786\"], [0.5555555555555556, \"#d8576b\"], [0.6666666666666666, \"#ed7953\"], [0.7777777777777778, \"#fb9f3a\"], [0.8888888888888888, \"#fdca26\"], [1.0, \"#f0f921\"]], \"type\": \"heatmap\"}], \"heatmapgl\": [{\"colorbar\": {\"outlinewidth\": 0, \"ticks\": \"\"}, \"colorscale\": [[0.0, \"#0d0887\"], [0.1111111111111111, \"#46039f\"], [0.2222222222222222, \"#7201a8\"], [0.3333333333333333, \"#9c179e\"], [0.4444444444444444, \"#bd3786\"], [0.5555555555555556, \"#d8576b\"], [0.6666666666666666, \"#ed7953\"], [0.7777777777777778, \"#fb9f3a\"], [0.8888888888888888, \"#fdca26\"], [1.0, \"#f0f921\"]], \"type\": \"heatmapgl\"}], \"histogram\": [{\"marker\": {\"colorbar\": {\"outlinewidth\": 0, \"ticks\": \"\"}}, \"type\": \"histogram\"}], \"histogram2d\": [{\"colorbar\": {\"outlinewidth\": 0, \"ticks\": \"\"}, \"colorscale\": [[0.0, \"#0d0887\"], [0.1111111111111111, \"#46039f\"], [0.2222222222222222, \"#7201a8\"], [0.3333333333333333, \"#9c179e\"], [0.4444444444444444, \"#bd3786\"], [0.5555555555555556, \"#d8576b\"], [0.6666666666666666, \"#ed7953\"], [0.7777777777777778, \"#fb9f3a\"], [0.8888888888888888, \"#fdca26\"], [1.0, \"#f0f921\"]], \"type\": \"histogram2d\"}], \"histogram2dcontour\": [{\"colorbar\": {\"outlinewidth\": 0, \"ticks\": \"\"}, \"colorscale\": [[0.0, \"#0d0887\"], [0.1111111111111111, \"#46039f\"], [0.2222222222222222, \"#7201a8\"], [0.3333333333333333, \"#9c179e\"], [0.4444444444444444, \"#bd3786\"], [0.5555555555555556, \"#d8576b\"], [0.6666666666666666, \"#ed7953\"], [0.7777777777777778, \"#fb9f3a\"], [0.8888888888888888, \"#fdca26\"], [1.0, \"#f0f921\"]], \"type\": \"histogram2dcontour\"}], \"mesh3d\": [{\"colorbar\": {\"outlinewidth\": 0, \"ticks\": \"\"}, \"type\": \"mesh3d\"}], \"parcoords\": [{\"line\": {\"colorbar\": {\"outlinewidth\": 0, \"ticks\": \"\"}}, \"type\": \"parcoords\"}], \"pie\": [{\"automargin\": true, \"type\": \"pie\"}], \"scatter\": [{\"marker\": {\"colorbar\": {\"outlinewidth\": 0, \"ticks\": \"\"}}, \"type\": \"scatter\"}], \"scatter3d\": [{\"line\": {\"colorbar\": {\"outlinewidth\": 0, \"ticks\": \"\"}}, \"marker\": {\"colorbar\": {\"outlinewidth\": 0, \"ticks\": \"\"}}, \"type\": \"scatter3d\"}], \"scattercarpet\": [{\"marker\": {\"colorbar\": {\"outlinewidth\": 0, \"ticks\": \"\"}}, \"type\": \"scattercarpet\"}], \"scattergeo\": [{\"marker\": {\"colorbar\": {\"outlinewidth\": 0, \"ticks\": \"\"}}, \"type\": \"scattergeo\"}], \"scattergl\": [{\"marker\": {\"colorbar\": {\"outlinewidth\": 0, \"ticks\": \"\"}}, \"type\": \"scattergl\"}], \"scattermapbox\": [{\"marker\": {\"colorbar\": {\"outlinewidth\": 0, \"ticks\": \"\"}}, \"type\": \"scattermapbox\"}], \"scatterpolar\": [{\"marker\": {\"colorbar\": {\"outlinewidth\": 0, \"ticks\": \"\"}}, \"type\": \"scatterpolar\"}], \"scatterpolargl\": [{\"marker\": {\"colorbar\": {\"outlinewidth\": 0, \"ticks\": \"\"}}, \"type\": \"scatterpolargl\"}], \"scatterternary\": [{\"marker\": {\"colorbar\": {\"outlinewidth\": 0, \"ticks\": \"\"}}, \"type\": \"scatterternary\"}], \"surface\": [{\"colorbar\": {\"outlinewidth\": 0, \"ticks\": \"\"}, \"colorscale\": [[0.0, \"#0d0887\"], [0.1111111111111111, \"#46039f\"], [0.2222222222222222, \"#7201a8\"], [0.3333333333333333, \"#9c179e\"], [0.4444444444444444, \"#bd3786\"], [0.5555555555555556, \"#d8576b\"], [0.6666666666666666, \"#ed7953\"], [0.7777777777777778, \"#fb9f3a\"], [0.8888888888888888, \"#fdca26\"], [1.0, \"#f0f921\"]], \"type\": \"surface\"}], \"table\": [{\"cells\": {\"fill\": {\"color\": \"#EBF0F8\"}, \"line\": {\"color\": \"white\"}}, \"header\": {\"fill\": {\"color\": \"#C8D4E3\"}, \"line\": {\"color\": \"white\"}}, \"type\": \"table\"}]}, \"layout\": {\"annotationdefaults\": {\"arrowcolor\": \"#2a3f5f\", \"arrowhead\": 0, \"arrowwidth\": 1}, \"coloraxis\": {\"colorbar\": {\"outlinewidth\": 0, \"ticks\": \"\"}}, \"colorscale\": {\"diverging\": [[0, \"#8e0152\"], [0.1, \"#c51b7d\"], [0.2, \"#de77ae\"], [0.3, \"#f1b6da\"], [0.4, \"#fde0ef\"], [0.5, \"#f7f7f7\"], [0.6, \"#e6f5d0\"], [0.7, \"#b8e186\"], [0.8, \"#7fbc41\"], [0.9, \"#4d9221\"], [1, \"#276419\"]], \"sequential\": [[0.0, \"#0d0887\"], [0.1111111111111111, \"#46039f\"], [0.2222222222222222, \"#7201a8\"], [0.3333333333333333, \"#9c179e\"], [0.4444444444444444, \"#bd3786\"], [0.5555555555555556, \"#d8576b\"], [0.6666666666666666, \"#ed7953\"], [0.7777777777777778, \"#fb9f3a\"], [0.8888888888888888, \"#fdca26\"], [1.0, \"#f0f921\"]], \"sequentialminus\": [[0.0, \"#0d0887\"], [0.1111111111111111, \"#46039f\"], [0.2222222222222222, \"#7201a8\"], [0.3333333333333333, \"#9c179e\"], [0.4444444444444444, \"#bd3786\"], [0.5555555555555556, \"#d8576b\"], [0.6666666666666666, \"#ed7953\"], [0.7777777777777778, \"#fb9f3a\"], [0.8888888888888888, \"#fdca26\"], [1.0, \"#f0f921\"]]}, \"colorway\": [\"#636efa\", \"#EF553B\", \"#00cc96\", \"#ab63fa\", \"#FFA15A\", \"#19d3f3\", \"#FF6692\", \"#B6E880\", \"#FF97FF\", \"#FECB52\"], \"font\": {\"color\": \"#2a3f5f\"}, \"geo\": {\"bgcolor\": \"white\", \"lakecolor\": \"white\", \"landcolor\": \"#E5ECF6\", \"showlakes\": true, \"showland\": true, \"subunitcolor\": \"white\"}, \"hoverlabel\": {\"align\": \"left\"}, \"hovermode\": \"closest\", \"mapbox\": {\"style\": \"light\"}, \"paper_bgcolor\": \"white\", \"plot_bgcolor\": \"#E5ECF6\", \"polar\": {\"angularaxis\": {\"gridcolor\": \"white\", \"linecolor\": \"white\", \"ticks\": \"\"}, \"bgcolor\": \"#E5ECF6\", \"radialaxis\": {\"gridcolor\": \"white\", \"linecolor\": \"white\", \"ticks\": \"\"}}, \"scene\": {\"xaxis\": {\"backgroundcolor\": \"#E5ECF6\", \"gridcolor\": \"white\", \"gridwidth\": 2, \"linecolor\": \"white\", \"showbackground\": true, \"ticks\": \"\", \"zerolinecolor\": \"white\"}, \"yaxis\": {\"backgroundcolor\": \"#E5ECF6\", \"gridcolor\": \"white\", \"gridwidth\": 2, \"linecolor\": \"white\", \"showbackground\": true, \"ticks\": \"\", \"zerolinecolor\": \"white\"}, \"zaxis\": {\"backgroundcolor\": \"#E5ECF6\", \"gridcolor\": \"white\", \"gridwidth\": 2, \"linecolor\": \"white\", \"showbackground\": true, \"ticks\": \"\", \"zerolinecolor\": \"white\"}}, \"shapedefaults\": {\"line\": {\"color\": \"#2a3f5f\"}}, \"ternary\": {\"aaxis\": {\"gridcolor\": \"white\", \"linecolor\": \"white\", \"ticks\": \"\"}, \"baxis\": {\"gridcolor\": \"white\", \"linecolor\": \"white\", \"ticks\": \"\"}, \"bgcolor\": \"#E5ECF6\", \"caxis\": {\"gridcolor\": \"white\", \"linecolor\": \"white\", \"ticks\": \"\"}}, \"title\": {\"x\": 0.05}, \"xaxis\": {\"automargin\": true, \"gridcolor\": \"white\", \"linecolor\": \"white\", \"ticks\": \"\", \"title\": {\"standoff\": 15}, \"zerolinecolor\": \"white\", \"zerolinewidth\": 2}, \"yaxis\": {\"automargin\": true, \"gridcolor\": \"white\", \"linecolor\": \"white\", \"ticks\": \"\", \"title\": {\"standoff\": 15}, \"zerolinecolor\": \"white\", \"zerolinewidth\": 2}}}, \"xaxis\": {\"anchor\": \"y\", \"domain\": [0.0, 1.0], \"title\": {\"text\": \"PTRATIO\"}}, \"yaxis\": {\"anchor\": \"x\", \"domain\": [0.0, 1.0], \"title\": {\"text\": \"MEDV\"}}},\n",
              "                        {\"responsive\": true}\n",
              "                    ).then(function(){\n",
              "                            \n",
              "var gd = document.getElementById('e802340b-69cb-405a-b841-1b372a0fac74');\n",
              "var x = new MutationObserver(function (mutations, observer) {{\n",
              "        var display = window.getComputedStyle(gd).display;\n",
              "        if (!display || display === 'none') {{\n",
              "            console.log([gd, 'removed!']);\n",
              "            Plotly.purge(gd);\n",
              "            observer.disconnect();\n",
              "        }}\n",
              "}});\n",
              "\n",
              "// Listen for the removal of the full notebook cells\n",
              "var notebookContainer = gd.closest('#notebook-container');\n",
              "if (notebookContainer) {{\n",
              "    x.observe(notebookContainer, {childList: true});\n",
              "}}\n",
              "\n",
              "// Listen for the clearing of the current output cell\n",
              "var outputEl = gd.closest('.output');\n",
              "if (outputEl) {{\n",
              "    x.observe(outputEl, {childList: true});\n",
              "}}\n",
              "\n",
              "                        })\n",
              "                };\n",
              "                \n",
              "            </script>\n",
              "        </div>\n",
              "</body>\n",
              "</html>"
            ]
          },
          "metadata": {
            "tags": []
          }
        }
      ]
    },
    {
      "cell_type": "markdown",
      "metadata": {
        "id": "QkFZRI_Gth5j",
        "colab_type": "text"
      },
      "source": [
        "# Analisando Outliers"
      ]
    },
    {
      "cell_type": "markdown",
      "metadata": {
        "id": "idQoCTz8to7C",
        "colab_type": "text"
      },
      "source": [
        "**Descrição estatística dos dados para a coluna RM (Número médio de quartos dos imóveis do bairro)**"
      ]
    },
    {
      "cell_type": "code",
      "metadata": {
        "id": "5CXuSTzftdTS",
        "colab_type": "code",
        "outputId": "60fe0ad3-fa24-46bc-b02c-928035efd936",
        "colab": {
          "base_uri": "https://localhost:8080/",
          "height": 170
        }
      },
      "source": [
        "dados.RM.describe()"
      ],
      "execution_count": 0,
      "outputs": [
        {
          "output_type": "execute_result",
          "data": {
            "text/plain": [
              "count    506.000000\n",
              "mean       6.284634\n",
              "std        0.702617\n",
              "min        3.561000\n",
              "25%        5.885500\n",
              "50%        6.208500\n",
              "75%        6.623500\n",
              "max        8.780000\n",
              "Name: RM, dtype: float64"
            ]
          },
          "metadata": {
            "tags": []
          },
          "execution_count": 20
        }
      ]
    },
    {
      "cell_type": "code",
      "metadata": {
        "id": "8MDmkq5EtoPf",
        "colab_type": "code",
        "outputId": "eb633480-4915-461a-a89f-0f95af150f62",
        "colab": {
          "base_uri": "https://localhost:8080/",
          "height": 542
        }
      },
      "source": [
        "import plotly.figure_factory as ff\n",
        "label = ['Distribuição da variável RM (Número médio de quartos para os imóveis do bairro)']\n",
        "fig = ff.create_distplot([dados.RM], label, bin_size=.2)\n",
        "fig.show()"
      ],
      "execution_count": 0,
      "outputs": [
        {
          "output_type": "display_data",
          "data": {
            "text/html": [
              "<html>\n",
              "<head><meta charset=\"utf-8\" /></head>\n",
              "<body>\n",
              "    <div>\n",
              "            <script src=\"https://cdnjs.cloudflare.com/ajax/libs/mathjax/2.7.5/MathJax.js?config=TeX-AMS-MML_SVG\"></script><script type=\"text/javascript\">if (window.MathJax) {MathJax.Hub.Config({SVG: {font: \"STIX-Web\"}});}</script>\n",
              "                <script type=\"text/javascript\">window.PlotlyConfig = {MathJaxConfig: 'local'};</script>\n",
              "        <script src=\"https://cdn.plot.ly/plotly-latest.min.js\"></script>    \n",
              "            <div id=\"022447a9-ecc5-468a-bc9c-e6983cfd1e3c\" class=\"plotly-graph-div\" style=\"height:525px; width:100%;\"></div>\n",
              "            <script type=\"text/javascript\">\n",
              "                \n",
              "                    window.PLOTLYENV=window.PLOTLYENV || {};\n",
              "                    \n",
              "                if (document.getElementById(\"022447a9-ecc5-468a-bc9c-e6983cfd1e3c\")) {\n",
              "                    Plotly.newPlot(\n",
              "                        '022447a9-ecc5-468a-bc9c-e6983cfd1e3c',\n",
              "                        [{\"autobinx\": false, \"histnorm\": \"probability density\", \"legendgroup\": \"Distribui\\u00e7\\u00e3o da vari\\u00e1vel RM (N\\u00famero m\\u00e9dio de quartos para os im\\u00f3veis do bairro)\", \"marker\": {\"color\": \"rgb(31, 119, 180)\"}, \"name\": \"Distribui\\u00e7\\u00e3o da vari\\u00e1vel RM (N\\u00famero m\\u00e9dio de quartos para os im\\u00f3veis do bairro)\", \"opacity\": 0.7, \"type\": \"histogram\", \"x\": [6.575, 6.421, 7.185, 6.998, 7.147, 6.43, 6.012, 6.172, 5.631, 6.004, 6.377, 6.009, 5.889, 5.949, 6.096, 5.834, 5.935, 5.99, 5.456, 5.727, 5.57, 5.965, 6.142, 5.813, 5.924, 5.599, 5.813, 6.047, 6.495, 6.674, 5.713, 6.072, 5.95, 5.701, 6.096, 5.933, 5.841, 5.85, 5.966, 6.595, 7.024, 6.77, 6.169, 6.211, 6.069, 5.682, 5.786, 6.03, 5.399, 5.602, 5.963, 6.115, 6.511, 5.998, 5.888, 7.249, 6.383, 6.816, 6.145, 5.927, 5.741, 5.966, 6.456, 6.762, 7.104, 6.29, 5.787, 5.878, 5.594, 5.885, 6.417, 5.961, 6.065, 6.245, 6.273, 6.286, 6.279, 6.14, 6.232, 5.874, 6.727, 6.619, 6.302, 6.167, 6.389, 6.63, 6.015, 6.121, 7.007, 7.079, 6.417, 6.405, 6.442, 6.211, 6.249, 6.625, 6.163, 8.069, 7.82, 7.416, 6.727, 6.781, 6.405, 6.137, 6.167, 5.851, 5.836, 6.127, 6.474, 6.229, 6.195, 6.715, 5.913, 6.092, 6.254, 5.928, 6.176, 6.021, 5.872, 5.731, 5.87, 6.004, 5.961, 5.856, 5.879, 5.986, 5.613, 5.693, 6.431, 5.637, 6.458, 6.326, 6.372, 5.822, 5.757, 6.335, 5.942, 6.454, 5.857, 6.151, 6.174, 5.019, 5.403, 5.468, 4.903, 6.13, 5.628, 4.926, 5.186, 5.597, 6.122, 5.404, 5.012, 5.709, 6.129, 6.152, 5.272, 6.943, 6.066, 6.51, 6.25, 7.489, 7.802, 8.375, 5.854, 6.101, 7.929, 5.877, 6.319, 6.402, 5.875, 5.88, 5.572, 6.416, 5.859, 6.546, 6.02, 6.315, 6.86, 6.98, 7.765, 6.144, 7.155, 6.563, 5.604, 6.153, 7.831, 6.782, 6.556, 7.185, 6.951, 6.739, 7.178, 6.8, 6.604, 7.875, 7.287, 7.107, 7.274, 6.975, 7.135, 6.162, 7.61, 7.853, 8.034, 5.891, 6.326, 5.783, 6.064, 5.344, 5.96, 5.404, 5.807, 6.375, 5.412, 6.182, 5.888, 6.642, 5.951, 6.373, 6.951, 6.164, 6.879, 6.618, 8.266, 8.725, 8.04, 7.163, 7.686, 6.552, 5.981, 7.412, 8.337, 8.247, 6.726, 6.086, 6.631, 7.358, 6.481, 6.606, 6.897, 6.095, 6.358, 6.393, 5.593, 5.605, 6.108, 6.226, 6.433, 6.718, 6.487, 6.438, 6.957, 8.259, 6.108, 5.876, 7.454, 8.704, 7.333, 6.842, 7.203, 7.52, 8.398, 7.327, 7.206, 5.56, 7.014, 8.297, 7.47, 5.92, 5.856, 6.24, 6.538, 7.691, 6.758, 6.854, 7.267, 6.826, 6.482, 6.812, 7.82, 6.968, 7.645, 7.923, 7.088, 6.453, 6.23, 6.209, 6.315, 6.565, 6.861, 7.148, 6.63, 6.127, 6.009, 6.678, 6.549, 5.79, 6.345, 7.041, 6.871, 6.59, 6.495, 6.982, 7.236, 6.616, 7.42, 6.849, 6.635, 5.972, 4.973, 6.122, 6.023, 6.266, 6.567, 5.705, 5.914, 5.782, 6.382, 6.113, 6.426, 6.376, 6.041, 5.708, 6.415, 6.431, 6.312, 6.083, 5.868, 6.333, 6.144, 5.706, 6.031, 6.316, 6.31, 6.037, 5.869, 5.895, 6.059, 5.985, 5.968, 7.241, 6.54, 6.696, 6.874, 6.014, 5.898, 6.516, 6.635, 6.939, 6.49, 6.579, 5.884, 6.728, 5.663, 5.936, 6.212, 6.395, 6.127, 6.112, 6.398, 6.251, 5.362, 5.803, 8.78, 3.561, 4.963, 3.863, 4.97, 6.683, 7.016, 6.216, 5.875, 4.906, 4.138, 7.313, 6.649, 6.794, 6.38, 6.223, 6.968, 6.545, 5.536, 5.52, 4.368, 5.277, 4.652, 5.0, 4.88, 5.39, 5.713, 6.051, 5.036, 6.193, 5.887, 6.471, 6.405, 5.747, 5.453, 5.852, 5.987, 6.343, 6.404, 5.349, 5.531, 5.683, 4.138, 5.608, 5.617, 6.852, 5.757, 6.657, 4.628, 5.155, 4.519, 6.434, 6.782, 5.304, 5.957, 6.824, 6.411, 6.006, 5.648, 6.103, 5.565, 5.896, 5.837, 6.202, 6.193, 6.38, 6.348, 6.833, 6.425, 6.436, 6.208, 6.629, 6.461, 6.152, 5.935, 5.627, 5.818, 6.406, 6.219, 6.485, 5.854, 6.459, 6.341, 6.251, 6.185, 6.417, 6.749, 6.655, 6.297, 7.393, 6.728, 6.525, 5.976, 5.936, 6.301, 6.081, 6.701, 6.376, 6.317, 6.513, 6.209, 5.759, 5.952, 6.003, 5.926, 5.713, 6.167, 6.229, 6.437, 6.98, 5.427, 6.162, 6.484, 5.304, 6.185, 6.229, 6.242, 6.75, 7.061, 5.762, 5.871, 6.312, 6.114, 5.905, 5.454, 5.414, 5.093, 5.983, 5.983, 5.707, 5.926, 5.67, 5.39, 5.794, 6.019, 5.569, 6.027, 6.593, 6.12, 6.976, 6.794, 6.03], \"xaxis\": \"x\", \"xbins\": {\"end\": 8.78, \"size\": 0.2, \"start\": 3.561}, \"yaxis\": \"y\"}, {\"legendgroup\": \"Distribui\\u00e7\\u00e3o da vari\\u00e1vel RM (N\\u00famero m\\u00e9dio de quartos para os im\\u00f3veis do bairro)\", \"marker\": {\"color\": \"rgb(31, 119, 180)\"}, \"mode\": \"lines\", \"name\": \"Distribui\\u00e7\\u00e3o da vari\\u00e1vel RM (N\\u00famero m\\u00e9dio de quartos para os im\\u00f3veis do bairro)\", \"showlegend\": false, \"type\": \"scatter\", \"x\": [3.561, 3.571438, 3.581876, 3.592314, 3.6027519999999997, 3.61319, 3.623628, 3.634066, 3.644504, 3.654942, 3.66538, 3.675818, 3.6862559999999998, 3.696694, 3.707132, 3.71757, 3.728008, 3.7384459999999997, 3.748884, 3.759322, 3.7697599999999998, 3.780198, 3.790636, 3.801074, 3.811512, 3.82195, 3.832388, 3.842826, 3.853264, 3.863702, 3.8741399999999997, 3.884578, 3.895016, 3.9054539999999998, 3.915892, 3.92633, 3.936768, 3.947206, 3.9576439999999997, 3.968082, 3.97852, 3.988958, 3.999396, 4.009834, 4.020272, 4.03071, 4.041148, 4.051586, 4.062024, 4.072462, 4.0829, 4.093338, 4.103776, 4.114214, 4.124652, 4.13509, 4.145528, 4.155965999999999, 4.166404, 4.176842, 4.1872799999999994, 4.197718, 4.208156, 4.2185939999999995, 4.229032, 4.23947, 4.249908, 4.260346, 4.270784, 4.281222, 4.29166, 4.302098, 4.312536, 4.322974, 4.333412, 4.34385, 4.3542879999999995, 4.364726, 4.375164, 4.385602, 4.39604, 4.406478, 4.416916, 4.427354, 4.437792, 4.44823, 4.458667999999999, 4.469106, 4.479544, 4.4899819999999995, 4.50042, 4.510858, 4.5212959999999995, 4.531734, 4.542172, 4.55261, 4.563048, 4.573486, 4.583924, 4.594362, 4.6048, 4.615238, 4.625676, 4.636114, 4.646552, 4.6569899999999995, 4.667428, 4.677866, 4.688304, 4.698742, 4.70918, 4.719618, 4.730055999999999, 4.740494, 4.750932, 4.761369999999999, 4.771808, 4.782246, 4.7926839999999995, 4.803122, 4.81356, 4.823998, 4.834436, 4.844874, 4.855312, 4.86575, 4.876188, 4.886626, 4.897064, 4.907502, 4.91794, 4.928378, 4.938815999999999, 4.949254, 4.9596919999999995, 4.970129999999999, 4.980568, 4.991006, 5.001443999999999, 5.011882, 5.02232, 5.032757999999999, 5.043196, 5.053634, 5.0640719999999995, 5.07451, 5.084948, 5.0953859999999995, 5.105824, 5.116262, 5.1267, 5.137138, 5.147576, 5.158014, 5.168452, 5.17889, 5.189328, 5.199766, 5.210203999999999, 5.220642, 5.23108, 5.241517999999999, 5.251956, 5.262394, 5.272831999999999, 5.28327, 5.293708, 5.304145999999999, 5.314584, 5.325022, 5.335459999999999, 5.345898, 5.356336, 5.3667739999999995, 5.377212, 5.38765, 5.3980879999999996, 5.408526, 5.418964, 5.429402, 5.439839999999999, 5.450278, 5.460716, 5.471153999999999, 5.481592, 5.49203, 5.5024679999999995, 5.512905999999999, 5.523344, 5.5337819999999995, 5.544219999999999, 5.554658, 5.565096, 5.575533999999999, 5.585972, 5.59641, 5.606847999999999, 5.617286, 5.627724, 5.6381619999999995, 5.6486, 5.659037999999999, 5.6694759999999995, 5.679914, 5.690352, 5.70079, 5.711228, 5.721665999999999, 5.732104, 5.742542, 5.752979999999999, 5.763418, 5.773856, 5.784293999999999, 5.794732, 5.8051699999999995, 5.815607999999999, 5.826046, 5.8364840000000004, 5.846921999999999, 5.85736, 5.867798, 5.878235999999999, 5.888674, 5.899112, 5.909549999999999, 5.919988, 5.930426, 5.9408639999999995, 5.951302, 5.96174, 5.9721779999999995, 5.982615999999999, 5.993053999999999, 6.003492, 6.01393, 6.024368, 6.034806, 6.045244, 6.055681999999999, 6.06612, 6.0765579999999995, 6.086995999999999, 6.097434, 6.107872, 6.118309999999999, 6.128748, 6.139186, 6.149623999999999, 6.160062, 6.1705, 6.180937999999999, 6.191376, 6.201814, 6.212251999999999, 6.22269, 6.233128, 6.2435659999999995, 6.254004, 6.264441999999999, 6.27488, 6.285318, 6.295756, 6.306194, 6.316631999999999, 6.327069999999999, 6.337508, 6.347946, 6.358383999999999, 6.368822, 6.3792599999999995, 6.389697999999999, 6.400136, 6.4105739999999996, 6.421011999999999, 6.43145, 6.441888, 6.452325999999999, 6.462764, 6.473202, 6.483639999999999, 6.494078, 6.504516, 6.5149539999999995, 6.525392, 6.535829999999999, 6.5462679999999995, 6.556706, 6.567144, 6.577582, 6.588019999999999, 6.598457999999999, 6.608896, 6.619334, 6.629771999999999, 6.64021, 6.6506479999999994, 6.661085999999999, 6.671524, 6.6819619999999995, 6.692399999999999, 6.702838, 6.713276, 6.723713999999999, 6.734152, 6.74459, 6.755027999999999, 6.765466, 6.775904, 6.786341999999999, 6.79678, 6.807218, 6.8176559999999995, 6.828094, 6.838532, 6.84897, 6.859407999999999, 6.869845999999999, 6.880284, 6.890722, 6.90116, 6.911598, 6.922035999999999, 6.932473999999999, 6.942912, 6.9533499999999995, 6.963787999999999, 6.974226, 6.9846639999999995, 6.995101999999999, 7.00554, 7.015978, 7.026415999999999, 7.036854, 7.047291999999999, 7.057729999999999, 7.068168, 7.078606, 7.0890439999999995, 7.099482, 7.109919999999999, 7.1203579999999995, 7.130796, 7.141233999999999, 7.151672, 7.16211, 7.172548, 7.182986, 7.193423999999999, 7.203861999999999, 7.2143, 7.224737999999999, 7.235175999999999, 7.245614, 7.2560519999999995, 7.266489999999999, 7.276928, 7.287366, 7.297803999999999, 7.308242, 7.318679999999999, 7.329117999999999, 7.339556, 7.349994, 7.360431999999999, 7.37087, 7.381307999999999, 7.3917459999999995, 7.402184, 7.412621999999999, 7.4230599999999995, 7.433498, 7.443935999999999, 7.454374, 7.464811999999999, 7.475249999999999, 7.485688, 7.496126, 7.506563999999999, 7.517002, 7.5274399999999995, 7.537877999999999, 7.548316, 7.5587539999999995, 7.569191999999999, 7.57963, 7.590068, 7.600505999999999, 7.610943999999999, 7.621382, 7.631819999999999, 7.642257999999999, 7.652696, 7.6631339999999994, 7.673571999999999, 7.684009999999999, 7.6944479999999995, 7.704885999999999, 7.715324, 7.725762, 7.7362, 7.746638, 7.757075999999999, 7.767513999999999, 7.777951999999999, 7.78839, 7.798827999999999, 7.809265999999999, 7.819704, 7.8301419999999995, 7.84058, 7.851017999999999, 7.8614559999999996, 7.871893999999999, 7.882331999999999, 7.89277, 7.903207999999999, 7.913646, 7.924084, 7.934522, 7.944959999999999, 7.955397999999999, 7.9658359999999995, 7.976273999999999, 7.986712, 7.9971499999999995, 8.007587999999998, 8.018025999999999, 8.028464, 8.038902, 8.049339999999999, 8.059778, 8.070215999999999, 8.080654, 8.091092, 8.10153, 8.111968000000001, 8.122405999999998, 8.132843999999999, 8.143282, 8.15372, 8.164158, 8.174596, 8.185034, 8.195471999999999, 8.20591, 8.216348, 8.226785999999999, 8.237224, 8.247661999999998, 8.258099999999999, 8.268538, 8.278976, 8.289414, 8.299852, 8.310289999999998, 8.320727999999999, 8.331166, 8.341604, 8.352041999999999, 8.36248, 8.372917999999999, 8.383356, 8.393794, 8.404231999999999, 8.41467, 8.425107999999998, 8.435545999999999, 8.445984, 8.456422, 8.46686, 8.477298, 8.487736, 8.498173999999999, 8.508612, 8.51905, 8.529488, 8.539926, 8.550363999999998, 8.560801999999999, 8.57124, 8.581678, 8.592115999999999, 8.602553999999998, 8.612991999999998, 8.623429999999999, 8.633868, 8.644306, 8.654744, 8.665182, 8.675619999999999, 8.686058, 8.696496, 8.706934, 8.717372, 8.72781, 8.738247999999999, 8.748686, 8.759124, 8.769561999999999], \"xaxis\": \"x\", \"y\": [0.005311409187177656, 0.005428056001875272, 0.0055412058304871266, 0.00565101543619811, 0.005757692039482319, 0.005861490052469539, 0.005962707164097594, 0.0060616798500851285, 0.006158778389700189, 0.006254401476954018, 0.0063489705171729, 0.006442923700934874, 0.006536709946227863, 0.00663078279659241, 0.006725594358221726, 0.006821589352826069, 0.0069191993558824615, 0.007018837282064626, 0.007120892171560252, 0.0072257243229982985, 0.00733366081115917, 0.007444991420807075, 0.007559965022087576, 0.007678786408120961, 0.007801613611763039, 0.007928555715984323, 0.008059671170844633, 0.008194966629441032, 0.00833439631525136, 0.008477861933694509, 0.008625213141159889, 0.008776248584881177, 0.008930717526501392, 0.009088322060682275, 0.009248719937367826, 0.009411527992104362, 0.00957632618299856, 0.009742662225401637, 0.009910056806277408, 0.010078009349575623, 0.010246004292021658, 0.010413517815870717, 0.010580024971764782, 0.010745007111344917, 0.010907959536234375, 0.011068399257968963, 0.011225872752970342, 0.011379963588274021, 0.011530299787937723, 0.011676560807301738, 0.011818483982900476, 0.01195587033008203, 0.012088589568409296, 0.01221658426669447, 0.01233987301493091, 0.012458552549168085, 0.012572798777140022, 0.01268286667669361, 0.01278908906516287, 0.012891874265095755, 0.012991702719400717, 0.013089122636232426, 0.013184744769958224, 0.013279236468522995, 0.013373315138678763, 0.013467741298144782, 0.013563311397169852, 0.013660850600640496, 0.013761205725393025, 0.013865238525452302, 0.01397381951038617, 0.01408782246883185, 0.014208119850671008, 0.014335579137604597, 0.014471060303458103, 0.014615414433018548, 0.014769483532282924, 0.014934101524515318, 0.015110096386393643, 0.015298293337788897, 0.015499518958426018, 0.015714606065936016, 0.01594439915374389, 0.016189760154956625, 0.016451574270997846, 0.01673075558219079, 0.017028252142743932, 0.01734505025545229, 0.0176821776225579, 0.018040705079114736, 0.018421746634186092, 0.018826457573367046, 0.019256030413340626, 0.01971168854507488, 0.020194677456230607, 0.020706253484504764, 0.02124767012085969, 0.021820161953529368, 0.022424926418770856, 0.02306310360076823, 0.023735754398970292, 0.0244438374543968, 0.025188185294955933, 0.025969480221444914, 0.026788230508546104, 0.027644747536789836, 0.028539124500303575, 0.029471217349595208, 0.030440628627323066, 0.03144669483701278, 0.03248847794942752, 0.033564761598651106, 0.03467405245022646, 0.03581458713773733, 0.03698434506332174, 0.0381810672435511, 0.03940228125712813, 0.04064533221759701, 0.04190741955572115, 0.043185639255639015, 0.04447703104986447, 0.04577862994424317, 0.04708752131873322, 0.04840089873688565, 0.04971612349949631, 0.05103078489913314, 0.05234276007479009, 0.05365027233195017, 0.054951946784498606, 0.05624686219223213, 0.05753459791150975, 0.05881527494655142, 0.060089590183980524, 0.061358843011708505, 0.06262495366277429, 0.06389047278234677, 0.06515858188820796, 0.06643308457775284, 0.0677183885235424, 0.06901947849020952, 0.0703418807934079, 0.07169161980189176, 0.07307516725222797, 0.0744993852978769, 0.07597146434658726, 0.07749885684889442, 0.0790892082832327, 0.08075028663766082, 0.08248991171306168, 0.08431588556729276, 0.08623592538424418, 0.0882575999870147, 0.09038827112207129, 0.09263504052363213, 0.09500470362753222, 0.09750371064497866, 0.10013813553278426, 0.1029136532120755, 0.10583552519660168, 0.1089085935990818, 0.11213728329401686, 0.11552561183241657, 0.11907720653194437, 0.12279532800879447, 0.12668289927844117, 0.13074253943387873, 0.1349766008143383, 0.13938720850620134, 0.1439763009718609, 0.14874567058195196, 0.15369700283138826, 0.15883191304918262, 0.16415197946485827, 0.1696587715686002, 0.1753538727961464, 0.1812388966804707, 0.1873154957380713, 0.19358536249555222, 0.20005022220959826, 0.20671181698780675, 0.21357188117662737, 0.22063210804359923, 0.22789410794187276, 0.2353593583036884, 0.24302914596412037, 0.25090450246531387, 0.2589861331330171, 0.2672743408499087, 0.27576894557272574, 0.2844692007509611, 0.2933737079026971, 0.30248033068644853, 0.3117861098753886, 0.32128718069054124, 0.3309786939809666, 0.3408547427503466, 0.3509082955191999, 0.361131137979091, 0.37151382433861174, 0.38204563967981786, 0.39271457453779196, 0.40350731278512264, 0.4144092337478809, 0.42540442930108635, 0.4364757364916389, 0.44760478601730674, 0.4587720666548028, 0.4699570054817778, 0.4811380634809285, 0.4922928458539945, 0.503398226114513, 0.5144304827759152, 0.525365447211671, 0.536178661042167, 0.5468455412040817, 0.5573415506873153, 0.5676423727865167, 0.5777240866125636, 0.5875633415472603, 0.5971375283038887, 0.6064249442783057, 0.6154049509400322, 0.6240581211192997, 0.6323663741921471, 0.6403130973485436, 0.6478832513441996, 0.655063459380532, 0.6618420780240292, 0.6682092493601999, 0.6741569338724575, 0.6796789238365826, 0.6847708373208232, 0.6894300931744062, 0.6936558676679481, 0.6974490337129671, 0.700812083830246, 0.7037490382545036, 0.7062653397528809, 0.7083677368949483, 0.7100641576409231, 0.7113635752117425, 0.7122758682694791, 0.712811677469728, 0.7129822604498621, 0.7127993472897696, 0.7122749984263099, 0.7114214669210761, 0.7102510668749689, 0.7087760496546002, 0.7070084894466862, 0.7049601794894526, 0.7026425401468006, 0.7000665397937372, 0.6972426292726366, 0.6941806904615839, 0.6908899992709465, 0.6873792031549533, 0.6836563129944281, 0.6797287089778841, 0.6756031598842394, 0.6712858549548687, 0.666782447339201, 0.6620981079101235, 0.6572375880768866, 0.6522052900774188, 0.6470053431123669, 0.6416416835928105, 0.6361181377149914, 0.6304385045505939, 0.6246066378514377, 0.6186265248135328, 0.6125023601269329, 0.6062386137537562, 0.5998400910249212, 0.5933119838237786, 0.5866599118281438, 0.5798899530067184, 0.5730086628064559, 0.5660230817184171, 0.5589407311650404, 0.5517695979054544, 0.5445181074012374, 0.5371950868170342, 0.5298097185429559, 0.5223714853139217, 0.514890108160483, 0.5073754785529252, 0.49983758619289637, 0.49228644396297444, 0.4847320115638577, 0.47718411935188537, 0.4696523938376389, 0.46214618622209586, 0.45467450523325936, 0.447245955387356, 0.4398686816391407, 0.43255032121035775, 0.42529796319915264, 0.4181181163815283, 0.41101668542372216, 0.4039989555367331, 0.3970695854255743, 0.3902326082202708, 0.3834914399265879, 0.3768488948048819, 0.3703072069773605, 0.36386805747887924, 0.3575326059050037, 0.3513015257733062, 0.34517504269929783, 0.3391529744957824, 0.3332347723321079, 0.32741956213567514, 0.32170618547982605, 0.316093239277067, 0.310579113681888, 0.30516202770026857, 0.29984006210050823, 0.2946111893196327, 0.289473300158728, 0.2844242271567637, 0.2794617646238226, 0.2745836853992613, 0.26978775447670966, 0.2650717397048835, 0.2604334198299667, 0.25587059019130026, 0.2513810664170477, 0.2469626864903287, 0.24261331156926552, 0.23833082594700192, 0.2341131365305236, 0.22995817220095507, 0.2258638833937713, 0.22182824220608505, 0.2178492433009115, 0.21392490583625307, 0.21005327660102627, 0.20623243449152143, 0.20246049641229105, 0.1987356246351686, 0.19505603560057705, 0.19142001009731535, 0.18782590471143656, 0.18427216439248612, 0.1807573359468678, 0.1772800822340059, 0.1738391968117988, 0.17043361875392235, 0.16706244734310582, 0.16372495633176223, 0.16042060745437986, 0.15714906287482355, 0.15391019625616975, 0.15070410215064767, 0.14753110342257375, 0.14439175643753946, 0.14128685377627362, 0.13821742426118971, 0.13518473011733756, 0.13219026112681972, 0.12923572567637953, 0.12632303864132444, 0.12345430609469439, 0.12063180687822336, 0.11785797112049937, 0.11513535583732275, 0.11246661779892975, 0.10985448389784357, 0.10730171929895183, 0.10481109369923537, 0.10238534606767695, 0.10002714827539082, 0.09773906806125227, 0.09552353180837711, 0.09338278763097442, 0.09131886928865734, 0.08933356145550174, 0.08742836687345575, 0.08560447591357695, 0.08386273905368392, 0.08220364275705296, 0.08062728920380459, 0.07913338028461056, 0.07772120621570454, 0.07638963907534964, 0.07513713149561209, 0.07396172067041572, 0.07286103776247611, 0.07183232270908459, 0.07087244434122728, 0.06997792564369813, 0.06914497389730144, 0.06836951535960543, 0.06764723405967611, 0.06697361420646161, 0.06634398564159667, 0.06575357170686591, 0.06519753884576181, 0.06467104721869693, 0.06416930158346158, 0.06368760167723889, 0.06322139133440172, 0.06276630558569139, 0.06231821500919354, 0.06187326664150488, 0.061427920808081106, 0.06097898329415778, 0.0605236323508175, 0.06005944011346688, 0.059584388100755205, 0.05909687655920076, 0.05859572752076295, 0.05808018154549523, 0.057549888227344144, 0.057004890646246, 0.0564456040520213, 0.05587278916335391, 0.05528752055662135, 0.05469115070287236, 0.05408527028533803, 0.053471665493172234, 0.05285227303850585, 0.052229133682403554, 0.05160434508021661, 0.050980014767613546, 0.05035821410497534, 0.04974093397984245, 0.04913004303490097, 0.04852724914305926, 0.04793406479218825, 0.04735177697100488, 0.04678142206551251, 0.04622376618373732, 0.045679291226758775, 0.045148186917935665, 0.04463034889165823, 0.04412538282986876, 0.043632614521083225, 0.043151105604818454, 0.042679674656332815, 0.04221692316453311, 0.041761265861838585, 0.041310964780652354, 0.04086416633867434, 0.04041894069616621, 0.03997332258382336, 0.03952535277118863, 0.0390731193333389, 0.03861479787833845, 0.0381486899197572, 0.03767325861714708, 0.037187161162084884, 0.03668927715723879, 0.03617873241952663, 0.035654917734119294, 0.03511750219183215, 0.034566440856091965, 0.0340019766247366, 0.03342463627381349, 0.032835220792597854, 0.03223479023857361, 0.03162464345541764, 0.031006293103579313, 0.030381436549428306, 0.029751923243037076, 0.029119719284568836, 0.028486869933433207, 0.027855460851691764, 0.027227578892853693, 0.026605273248889894, 0.025990517752061508, 0.02538517509454907, 0.024790963678780066, 0.024209427746112903, 0.023641911352799538, 0.02308953667188283, 0.022553187000129524, 0.02203349474265723, 0.02153083453716652, 0.0210453215672437, 0.020576815002699252, 0.020124926396915533, 0.019689032769122174, 0.019268294005666813, 0.018861674130691574, 0.01846796592490242, 0.018085818312709084, 0.017713765893971195, 0.01735025996756679, 0.016993700380298182, 0.01664246753616085, 0.016294953917261407, 0.015949594497867394, 0.015604895476066164, 0.015259460801895086, 0.014912016044926545, 0.014561429216311494, 0.014206728238244573, 0.013847114835647474], \"yaxis\": \"y\"}, {\"legendgroup\": \"Distribui\\u00e7\\u00e3o da vari\\u00e1vel RM (N\\u00famero m\\u00e9dio de quartos para os im\\u00f3veis do bairro)\", \"marker\": {\"color\": \"rgb(31, 119, 180)\", \"symbol\": \"line-ns-open\"}, \"mode\": \"markers\", \"name\": \"Distribui\\u00e7\\u00e3o da vari\\u00e1vel RM (N\\u00famero m\\u00e9dio de quartos para os im\\u00f3veis do bairro)\", \"showlegend\": false, \"type\": \"scatter\", \"x\": [6.575, 6.421, 7.185, 6.998, 7.147, 6.43, 6.012, 6.172, 5.631, 6.004, 6.377, 6.009, 5.889, 5.949, 6.096, 5.834, 5.935, 5.99, 5.456, 5.727, 5.57, 5.965, 6.142, 5.813, 5.924, 5.599, 5.813, 6.047, 6.495, 6.674, 5.713, 6.072, 5.95, 5.701, 6.096, 5.933, 5.841, 5.85, 5.966, 6.595, 7.024, 6.77, 6.169, 6.211, 6.069, 5.682, 5.786, 6.03, 5.399, 5.602, 5.963, 6.115, 6.511, 5.998, 5.888, 7.249, 6.383, 6.816, 6.145, 5.927, 5.741, 5.966, 6.456, 6.762, 7.104, 6.29, 5.787, 5.878, 5.594, 5.885, 6.417, 5.961, 6.065, 6.245, 6.273, 6.286, 6.279, 6.14, 6.232, 5.874, 6.727, 6.619, 6.302, 6.167, 6.389, 6.63, 6.015, 6.121, 7.007, 7.079, 6.417, 6.405, 6.442, 6.211, 6.249, 6.625, 6.163, 8.069, 7.82, 7.416, 6.727, 6.781, 6.405, 6.137, 6.167, 5.851, 5.836, 6.127, 6.474, 6.229, 6.195, 6.715, 5.913, 6.092, 6.254, 5.928, 6.176, 6.021, 5.872, 5.731, 5.87, 6.004, 5.961, 5.856, 5.879, 5.986, 5.613, 5.693, 6.431, 5.637, 6.458, 6.326, 6.372, 5.822, 5.757, 6.335, 5.942, 6.454, 5.857, 6.151, 6.174, 5.019, 5.403, 5.468, 4.903, 6.13, 5.628, 4.926, 5.186, 5.597, 6.122, 5.404, 5.012, 5.709, 6.129, 6.152, 5.272, 6.943, 6.066, 6.51, 6.25, 7.489, 7.802, 8.375, 5.854, 6.101, 7.929, 5.877, 6.319, 6.402, 5.875, 5.88, 5.572, 6.416, 5.859, 6.546, 6.02, 6.315, 6.86, 6.98, 7.765, 6.144, 7.155, 6.563, 5.604, 6.153, 7.831, 6.782, 6.556, 7.185, 6.951, 6.739, 7.178, 6.8, 6.604, 7.875, 7.287, 7.107, 7.274, 6.975, 7.135, 6.162, 7.61, 7.853, 8.034, 5.891, 6.326, 5.783, 6.064, 5.344, 5.96, 5.404, 5.807, 6.375, 5.412, 6.182, 5.888, 6.642, 5.951, 6.373, 6.951, 6.164, 6.879, 6.618, 8.266, 8.725, 8.04, 7.163, 7.686, 6.552, 5.981, 7.412, 8.337, 8.247, 6.726, 6.086, 6.631, 7.358, 6.481, 6.606, 6.897, 6.095, 6.358, 6.393, 5.593, 5.605, 6.108, 6.226, 6.433, 6.718, 6.487, 6.438, 6.957, 8.259, 6.108, 5.876, 7.454, 8.704, 7.333, 6.842, 7.203, 7.52, 8.398, 7.327, 7.206, 5.56, 7.014, 8.297, 7.47, 5.92, 5.856, 6.24, 6.538, 7.691, 6.758, 6.854, 7.267, 6.826, 6.482, 6.812, 7.82, 6.968, 7.645, 7.923, 7.088, 6.453, 6.23, 6.209, 6.315, 6.565, 6.861, 7.148, 6.63, 6.127, 6.009, 6.678, 6.549, 5.79, 6.345, 7.041, 6.871, 6.59, 6.495, 6.982, 7.236, 6.616, 7.42, 6.849, 6.635, 5.972, 4.973, 6.122, 6.023, 6.266, 6.567, 5.705, 5.914, 5.782, 6.382, 6.113, 6.426, 6.376, 6.041, 5.708, 6.415, 6.431, 6.312, 6.083, 5.868, 6.333, 6.144, 5.706, 6.031, 6.316, 6.31, 6.037, 5.869, 5.895, 6.059, 5.985, 5.968, 7.241, 6.54, 6.696, 6.874, 6.014, 5.898, 6.516, 6.635, 6.939, 6.49, 6.579, 5.884, 6.728, 5.663, 5.936, 6.212, 6.395, 6.127, 6.112, 6.398, 6.251, 5.362, 5.803, 8.78, 3.561, 4.963, 3.863, 4.97, 6.683, 7.016, 6.216, 5.875, 4.906, 4.138, 7.313, 6.649, 6.794, 6.38, 6.223, 6.968, 6.545, 5.536, 5.52, 4.368, 5.277, 4.652, 5.0, 4.88, 5.39, 5.713, 6.051, 5.036, 6.193, 5.887, 6.471, 6.405, 5.747, 5.453, 5.852, 5.987, 6.343, 6.404, 5.349, 5.531, 5.683, 4.138, 5.608, 5.617, 6.852, 5.757, 6.657, 4.628, 5.155, 4.519, 6.434, 6.782, 5.304, 5.957, 6.824, 6.411, 6.006, 5.648, 6.103, 5.565, 5.896, 5.837, 6.202, 6.193, 6.38, 6.348, 6.833, 6.425, 6.436, 6.208, 6.629, 6.461, 6.152, 5.935, 5.627, 5.818, 6.406, 6.219, 6.485, 5.854, 6.459, 6.341, 6.251, 6.185, 6.417, 6.749, 6.655, 6.297, 7.393, 6.728, 6.525, 5.976, 5.936, 6.301, 6.081, 6.701, 6.376, 6.317, 6.513, 6.209, 5.759, 5.952, 6.003, 5.926, 5.713, 6.167, 6.229, 6.437, 6.98, 5.427, 6.162, 6.484, 5.304, 6.185, 6.229, 6.242, 6.75, 7.061, 5.762, 5.871, 6.312, 6.114, 5.905, 5.454, 5.414, 5.093, 5.983, 5.983, 5.707, 5.926, 5.67, 5.39, 5.794, 6.019, 5.569, 6.027, 6.593, 6.12, 6.976, 6.794, 6.03], \"xaxis\": \"x\", \"y\": [\"Distribui\\u00e7\\u00e3o da vari\\u00e1vel RM (N\\u00famero m\\u00e9dio de quartos para os im\\u00f3veis do bairro)\", \"Distribui\\u00e7\\u00e3o da vari\\u00e1vel RM (N\\u00famero m\\u00e9dio de quartos para os im\\u00f3veis do bairro)\", \"Distribui\\u00e7\\u00e3o da vari\\u00e1vel RM (N\\u00famero m\\u00e9dio de quartos para os im\\u00f3veis do bairro)\", \"Distribui\\u00e7\\u00e3o da vari\\u00e1vel RM (N\\u00famero m\\u00e9dio de quartos para os im\\u00f3veis do bairro)\", \"Distribui\\u00e7\\u00e3o da vari\\u00e1vel RM (N\\u00famero m\\u00e9dio de quartos para os im\\u00f3veis do bairro)\", \"Distribui\\u00e7\\u00e3o da vari\\u00e1vel RM (N\\u00famero m\\u00e9dio de quartos para os im\\u00f3veis do bairro)\", \"Distribui\\u00e7\\u00e3o da vari\\u00e1vel RM (N\\u00famero m\\u00e9dio de quartos para os im\\u00f3veis do bairro)\", \"Distribui\\u00e7\\u00e3o da vari\\u00e1vel RM (N\\u00famero m\\u00e9dio de quartos para os im\\u00f3veis do bairro)\", \"Distribui\\u00e7\\u00e3o da vari\\u00e1vel RM (N\\u00famero m\\u00e9dio de quartos para os im\\u00f3veis do bairro)\", \"Distribui\\u00e7\\u00e3o da vari\\u00e1vel RM (N\\u00famero m\\u00e9dio de quartos para os im\\u00f3veis do bairro)\", \"Distribui\\u00e7\\u00e3o da vari\\u00e1vel RM (N\\u00famero m\\u00e9dio de quartos para os im\\u00f3veis do bairro)\", \"Distribui\\u00e7\\u00e3o da vari\\u00e1vel RM (N\\u00famero m\\u00e9dio de quartos para os im\\u00f3veis do bairro)\", \"Distribui\\u00e7\\u00e3o da vari\\u00e1vel RM (N\\u00famero m\\u00e9dio de quartos para os im\\u00f3veis do bairro)\", \"Distribui\\u00e7\\u00e3o da vari\\u00e1vel RM (N\\u00famero m\\u00e9dio de quartos para os im\\u00f3veis do bairro)\", \"Distribui\\u00e7\\u00e3o da vari\\u00e1vel RM (N\\u00famero m\\u00e9dio de quartos para os im\\u00f3veis do bairro)\", \"Distribui\\u00e7\\u00e3o da vari\\u00e1vel RM (N\\u00famero m\\u00e9dio de quartos para os im\\u00f3veis do bairro)\", \"Distribui\\u00e7\\u00e3o da vari\\u00e1vel RM (N\\u00famero m\\u00e9dio de quartos para os im\\u00f3veis do bairro)\", \"Distribui\\u00e7\\u00e3o da vari\\u00e1vel RM (N\\u00famero m\\u00e9dio de quartos para os im\\u00f3veis do bairro)\", \"Distribui\\u00e7\\u00e3o da vari\\u00e1vel RM (N\\u00famero m\\u00e9dio de quartos para os im\\u00f3veis do bairro)\", \"Distribui\\u00e7\\u00e3o da vari\\u00e1vel RM (N\\u00famero m\\u00e9dio de quartos para os im\\u00f3veis do bairro)\", \"Distribui\\u00e7\\u00e3o da vari\\u00e1vel RM (N\\u00famero m\\u00e9dio de quartos para os im\\u00f3veis do bairro)\", \"Distribui\\u00e7\\u00e3o da vari\\u00e1vel RM (N\\u00famero m\\u00e9dio de quartos para os im\\u00f3veis do bairro)\", \"Distribui\\u00e7\\u00e3o da vari\\u00e1vel RM (N\\u00famero m\\u00e9dio de quartos para os im\\u00f3veis do bairro)\", \"Distribui\\u00e7\\u00e3o da vari\\u00e1vel RM (N\\u00famero m\\u00e9dio de quartos para os im\\u00f3veis do bairro)\", \"Distribui\\u00e7\\u00e3o da vari\\u00e1vel RM (N\\u00famero m\\u00e9dio de quartos para os im\\u00f3veis do bairro)\", \"Distribui\\u00e7\\u00e3o da vari\\u00e1vel RM (N\\u00famero m\\u00e9dio de quartos para os im\\u00f3veis do bairro)\", \"Distribui\\u00e7\\u00e3o da vari\\u00e1vel RM (N\\u00famero m\\u00e9dio de quartos para os im\\u00f3veis do bairro)\", \"Distribui\\u00e7\\u00e3o da vari\\u00e1vel RM (N\\u00famero m\\u00e9dio de quartos para os im\\u00f3veis do bairro)\", \"Distribui\\u00e7\\u00e3o da vari\\u00e1vel RM (N\\u00famero m\\u00e9dio de quartos para os im\\u00f3veis do bairro)\", \"Distribui\\u00e7\\u00e3o da vari\\u00e1vel RM (N\\u00famero m\\u00e9dio de quartos para os im\\u00f3veis do bairro)\", \"Distribui\\u00e7\\u00e3o da vari\\u00e1vel RM (N\\u00famero m\\u00e9dio de quartos para os im\\u00f3veis do bairro)\", \"Distribui\\u00e7\\u00e3o da vari\\u00e1vel RM (N\\u00famero m\\u00e9dio de quartos para os im\\u00f3veis do bairro)\", \"Distribui\\u00e7\\u00e3o da vari\\u00e1vel RM (N\\u00famero m\\u00e9dio de quartos para os im\\u00f3veis do bairro)\", \"Distribui\\u00e7\\u00e3o da vari\\u00e1vel RM (N\\u00famero m\\u00e9dio de quartos para os im\\u00f3veis do bairro)\", \"Distribui\\u00e7\\u00e3o da vari\\u00e1vel RM (N\\u00famero m\\u00e9dio de quartos para os im\\u00f3veis do bairro)\", \"Distribui\\u00e7\\u00e3o da vari\\u00e1vel RM (N\\u00famero m\\u00e9dio de quartos para os im\\u00f3veis do bairro)\", \"Distribui\\u00e7\\u00e3o da vari\\u00e1vel RM (N\\u00famero m\\u00e9dio de quartos para os im\\u00f3veis do bairro)\", \"Distribui\\u00e7\\u00e3o da vari\\u00e1vel RM (N\\u00famero m\\u00e9dio de quartos para os im\\u00f3veis do bairro)\", \"Distribui\\u00e7\\u00e3o da vari\\u00e1vel RM (N\\u00famero m\\u00e9dio de quartos para os im\\u00f3veis do bairro)\", \"Distribui\\u00e7\\u00e3o da vari\\u00e1vel RM (N\\u00famero m\\u00e9dio de quartos para os im\\u00f3veis do bairro)\", \"Distribui\\u00e7\\u00e3o da vari\\u00e1vel RM (N\\u00famero m\\u00e9dio de quartos para os im\\u00f3veis do bairro)\", \"Distribui\\u00e7\\u00e3o da vari\\u00e1vel RM (N\\u00famero m\\u00e9dio de quartos para os im\\u00f3veis do bairro)\", \"Distribui\\u00e7\\u00e3o da vari\\u00e1vel RM (N\\u00famero m\\u00e9dio de quartos para os im\\u00f3veis do bairro)\", \"Distribui\\u00e7\\u00e3o da vari\\u00e1vel RM (N\\u00famero m\\u00e9dio de quartos para os im\\u00f3veis do bairro)\", \"Distribui\\u00e7\\u00e3o da vari\\u00e1vel RM (N\\u00famero m\\u00e9dio de quartos para os im\\u00f3veis do bairro)\", \"Distribui\\u00e7\\u00e3o da vari\\u00e1vel RM (N\\u00famero m\\u00e9dio de quartos para os im\\u00f3veis do bairro)\", \"Distribui\\u00e7\\u00e3o da vari\\u00e1vel RM (N\\u00famero m\\u00e9dio de quartos para os im\\u00f3veis do bairro)\", \"Distribui\\u00e7\\u00e3o da vari\\u00e1vel RM (N\\u00famero m\\u00e9dio de quartos para os im\\u00f3veis do bairro)\", \"Distribui\\u00e7\\u00e3o da vari\\u00e1vel RM (N\\u00famero m\\u00e9dio de quartos para os im\\u00f3veis do bairro)\", \"Distribui\\u00e7\\u00e3o da vari\\u00e1vel RM (N\\u00famero m\\u00e9dio de quartos para os im\\u00f3veis do bairro)\", \"Distribui\\u00e7\\u00e3o da vari\\u00e1vel RM (N\\u00famero m\\u00e9dio de quartos para os im\\u00f3veis do bairro)\", \"Distribui\\u00e7\\u00e3o da vari\\u00e1vel RM (N\\u00famero m\\u00e9dio de quartos para os im\\u00f3veis do bairro)\", \"Distribui\\u00e7\\u00e3o da vari\\u00e1vel RM (N\\u00famero m\\u00e9dio de quartos para os im\\u00f3veis do bairro)\", \"Distribui\\u00e7\\u00e3o da vari\\u00e1vel RM (N\\u00famero m\\u00e9dio de quartos para os im\\u00f3veis do bairro)\", \"Distribui\\u00e7\\u00e3o da vari\\u00e1vel RM (N\\u00famero m\\u00e9dio de quartos para os im\\u00f3veis do bairro)\", \"Distribui\\u00e7\\u00e3o da vari\\u00e1vel RM (N\\u00famero m\\u00e9dio de quartos para os im\\u00f3veis do bairro)\", \"Distribui\\u00e7\\u00e3o da vari\\u00e1vel RM (N\\u00famero m\\u00e9dio de quartos para os im\\u00f3veis do bairro)\", \"Distribui\\u00e7\\u00e3o da vari\\u00e1vel RM (N\\u00famero m\\u00e9dio de quartos para os im\\u00f3veis do bairro)\", \"Distribui\\u00e7\\u00e3o da vari\\u00e1vel RM (N\\u00famero m\\u00e9dio de quartos para os im\\u00f3veis do bairro)\", \"Distribui\\u00e7\\u00e3o da vari\\u00e1vel RM (N\\u00famero m\\u00e9dio de quartos para os im\\u00f3veis do bairro)\", \"Distribui\\u00e7\\u00e3o da vari\\u00e1vel RM (N\\u00famero m\\u00e9dio de quartos para os im\\u00f3veis do bairro)\", \"Distribui\\u00e7\\u00e3o da vari\\u00e1vel RM (N\\u00famero m\\u00e9dio de quartos para os im\\u00f3veis do bairro)\", \"Distribui\\u00e7\\u00e3o da vari\\u00e1vel RM (N\\u00famero m\\u00e9dio de quartos para os im\\u00f3veis do bairro)\", \"Distribui\\u00e7\\u00e3o da vari\\u00e1vel RM (N\\u00famero m\\u00e9dio de quartos para os im\\u00f3veis do bairro)\", \"Distribui\\u00e7\\u00e3o da vari\\u00e1vel RM (N\\u00famero m\\u00e9dio de quartos para os im\\u00f3veis do bairro)\", \"Distribui\\u00e7\\u00e3o da vari\\u00e1vel RM (N\\u00famero m\\u00e9dio de quartos para os im\\u00f3veis do bairro)\", \"Distribui\\u00e7\\u00e3o da vari\\u00e1vel RM (N\\u00famero m\\u00e9dio de quartos para os im\\u00f3veis do bairro)\", \"Distribui\\u00e7\\u00e3o da vari\\u00e1vel RM (N\\u00famero m\\u00e9dio de quartos para os im\\u00f3veis do bairro)\", \"Distribui\\u00e7\\u00e3o da vari\\u00e1vel RM (N\\u00famero m\\u00e9dio de quartos para os im\\u00f3veis do bairro)\", \"Distribui\\u00e7\\u00e3o da vari\\u00e1vel RM (N\\u00famero m\\u00e9dio de quartos para os im\\u00f3veis do bairro)\", \"Distribui\\u00e7\\u00e3o da vari\\u00e1vel RM (N\\u00famero m\\u00e9dio de quartos para os im\\u00f3veis do bairro)\", \"Distribui\\u00e7\\u00e3o da vari\\u00e1vel RM (N\\u00famero m\\u00e9dio de quartos para os im\\u00f3veis do bairro)\", \"Distribui\\u00e7\\u00e3o da vari\\u00e1vel RM (N\\u00famero m\\u00e9dio de quartos para os im\\u00f3veis do bairro)\", \"Distribui\\u00e7\\u00e3o da vari\\u00e1vel RM (N\\u00famero m\\u00e9dio de quartos para os im\\u00f3veis do bairro)\", \"Distribui\\u00e7\\u00e3o da vari\\u00e1vel RM (N\\u00famero m\\u00e9dio de quartos para os im\\u00f3veis do bairro)\", \"Distribui\\u00e7\\u00e3o da vari\\u00e1vel RM (N\\u00famero m\\u00e9dio de quartos para os im\\u00f3veis do bairro)\", \"Distribui\\u00e7\\u00e3o da vari\\u00e1vel RM (N\\u00famero m\\u00e9dio de quartos para os im\\u00f3veis do bairro)\", \"Distribui\\u00e7\\u00e3o da vari\\u00e1vel RM (N\\u00famero m\\u00e9dio de quartos para os im\\u00f3veis do bairro)\", \"Distribui\\u00e7\\u00e3o da vari\\u00e1vel RM (N\\u00famero m\\u00e9dio de quartos para os im\\u00f3veis do bairro)\", \"Distribui\\u00e7\\u00e3o da vari\\u00e1vel RM (N\\u00famero m\\u00e9dio de quartos para os im\\u00f3veis do bairro)\", \"Distribui\\u00e7\\u00e3o da vari\\u00e1vel RM (N\\u00famero m\\u00e9dio de quartos para os im\\u00f3veis do bairro)\", \"Distribui\\u00e7\\u00e3o da vari\\u00e1vel RM (N\\u00famero m\\u00e9dio de quartos para os im\\u00f3veis do bairro)\", \"Distribui\\u00e7\\u00e3o da vari\\u00e1vel RM (N\\u00famero m\\u00e9dio de quartos para os im\\u00f3veis do bairro)\", \"Distribui\\u00e7\\u00e3o da vari\\u00e1vel RM (N\\u00famero m\\u00e9dio de quartos para os im\\u00f3veis do bairro)\", \"Distribui\\u00e7\\u00e3o da vari\\u00e1vel RM (N\\u00famero m\\u00e9dio de quartos para os im\\u00f3veis do bairro)\", \"Distribui\\u00e7\\u00e3o da vari\\u00e1vel RM (N\\u00famero m\\u00e9dio de quartos para os im\\u00f3veis do bairro)\", \"Distribui\\u00e7\\u00e3o da vari\\u00e1vel RM (N\\u00famero m\\u00e9dio de quartos para os im\\u00f3veis do bairro)\", \"Distribui\\u00e7\\u00e3o da vari\\u00e1vel RM (N\\u00famero m\\u00e9dio de quartos para os im\\u00f3veis do bairro)\", \"Distribui\\u00e7\\u00e3o da vari\\u00e1vel RM (N\\u00famero m\\u00e9dio de quartos para os im\\u00f3veis do bairro)\", \"Distribui\\u00e7\\u00e3o da vari\\u00e1vel RM (N\\u00famero m\\u00e9dio de quartos para os im\\u00f3veis do bairro)\", \"Distribui\\u00e7\\u00e3o da vari\\u00e1vel RM (N\\u00famero m\\u00e9dio de quartos para os im\\u00f3veis do bairro)\", \"Distribui\\u00e7\\u00e3o da vari\\u00e1vel RM (N\\u00famero m\\u00e9dio de quartos para os im\\u00f3veis do bairro)\", \"Distribui\\u00e7\\u00e3o da vari\\u00e1vel RM (N\\u00famero m\\u00e9dio de quartos para os im\\u00f3veis do bairro)\", \"Distribui\\u00e7\\u00e3o da vari\\u00e1vel RM (N\\u00famero m\\u00e9dio de quartos para os im\\u00f3veis do bairro)\", \"Distribui\\u00e7\\u00e3o da vari\\u00e1vel RM (N\\u00famero m\\u00e9dio de quartos para os im\\u00f3veis do bairro)\", \"Distribui\\u00e7\\u00e3o da vari\\u00e1vel RM (N\\u00famero m\\u00e9dio de quartos para os im\\u00f3veis do bairro)\", \"Distribui\\u00e7\\u00e3o da vari\\u00e1vel RM (N\\u00famero m\\u00e9dio de quartos para os im\\u00f3veis do bairro)\", \"Distribui\\u00e7\\u00e3o da vari\\u00e1vel RM (N\\u00famero m\\u00e9dio de quartos para os im\\u00f3veis do bairro)\", \"Distribui\\u00e7\\u00e3o da vari\\u00e1vel RM (N\\u00famero m\\u00e9dio de quartos para os im\\u00f3veis do bairro)\", \"Distribui\\u00e7\\u00e3o da vari\\u00e1vel RM (N\\u00famero m\\u00e9dio de quartos para os im\\u00f3veis do bairro)\", \"Distribui\\u00e7\\u00e3o da vari\\u00e1vel RM (N\\u00famero m\\u00e9dio de quartos para os im\\u00f3veis do bairro)\", \"Distribui\\u00e7\\u00e3o da vari\\u00e1vel RM (N\\u00famero m\\u00e9dio de quartos para os im\\u00f3veis do bairro)\", \"Distribui\\u00e7\\u00e3o da vari\\u00e1vel RM (N\\u00famero m\\u00e9dio de quartos para os im\\u00f3veis do bairro)\", \"Distribui\\u00e7\\u00e3o da vari\\u00e1vel RM (N\\u00famero m\\u00e9dio de quartos para os im\\u00f3veis do bairro)\", \"Distribui\\u00e7\\u00e3o da vari\\u00e1vel RM (N\\u00famero m\\u00e9dio de quartos para os im\\u00f3veis do bairro)\", \"Distribui\\u00e7\\u00e3o da vari\\u00e1vel RM (N\\u00famero m\\u00e9dio de quartos para os im\\u00f3veis do bairro)\", \"Distribui\\u00e7\\u00e3o da vari\\u00e1vel RM (N\\u00famero m\\u00e9dio de quartos para os im\\u00f3veis do bairro)\", \"Distribui\\u00e7\\u00e3o da vari\\u00e1vel RM (N\\u00famero m\\u00e9dio de quartos para os im\\u00f3veis do bairro)\", \"Distribui\\u00e7\\u00e3o da vari\\u00e1vel RM (N\\u00famero m\\u00e9dio de quartos para os im\\u00f3veis do bairro)\", \"Distribui\\u00e7\\u00e3o da vari\\u00e1vel RM (N\\u00famero m\\u00e9dio de quartos para os im\\u00f3veis do bairro)\", \"Distribui\\u00e7\\u00e3o da vari\\u00e1vel RM (N\\u00famero m\\u00e9dio de quartos para os im\\u00f3veis do bairro)\", \"Distribui\\u00e7\\u00e3o da vari\\u00e1vel RM (N\\u00famero m\\u00e9dio de quartos para os im\\u00f3veis do bairro)\", \"Distribui\\u00e7\\u00e3o da vari\\u00e1vel RM (N\\u00famero m\\u00e9dio de quartos para os im\\u00f3veis do bairro)\", \"Distribui\\u00e7\\u00e3o da vari\\u00e1vel RM (N\\u00famero m\\u00e9dio de quartos para os im\\u00f3veis do bairro)\", \"Distribui\\u00e7\\u00e3o da vari\\u00e1vel RM (N\\u00famero m\\u00e9dio de quartos para os im\\u00f3veis do bairro)\", \"Distribui\\u00e7\\u00e3o da vari\\u00e1vel RM (N\\u00famero m\\u00e9dio de quartos para os im\\u00f3veis do bairro)\", \"Distribui\\u00e7\\u00e3o da vari\\u00e1vel RM (N\\u00famero m\\u00e9dio de quartos para os im\\u00f3veis do bairro)\", \"Distribui\\u00e7\\u00e3o da vari\\u00e1vel RM (N\\u00famero m\\u00e9dio de quartos para os im\\u00f3veis do bairro)\", \"Distribui\\u00e7\\u00e3o da vari\\u00e1vel RM (N\\u00famero m\\u00e9dio de quartos para os im\\u00f3veis do bairro)\", \"Distribui\\u00e7\\u00e3o da vari\\u00e1vel RM (N\\u00famero m\\u00e9dio de quartos para os im\\u00f3veis do bairro)\", \"Distribui\\u00e7\\u00e3o da vari\\u00e1vel RM (N\\u00famero m\\u00e9dio de quartos para os im\\u00f3veis do bairro)\", \"Distribui\\u00e7\\u00e3o da vari\\u00e1vel RM (N\\u00famero m\\u00e9dio de quartos para os im\\u00f3veis do bairro)\", \"Distribui\\u00e7\\u00e3o da vari\\u00e1vel RM (N\\u00famero m\\u00e9dio de quartos para os im\\u00f3veis do bairro)\", \"Distribui\\u00e7\\u00e3o da vari\\u00e1vel RM (N\\u00famero m\\u00e9dio de quartos para os im\\u00f3veis do bairro)\", \"Distribui\\u00e7\\u00e3o da vari\\u00e1vel RM (N\\u00famero m\\u00e9dio de quartos para os im\\u00f3veis do bairro)\", \"Distribui\\u00e7\\u00e3o da vari\\u00e1vel RM (N\\u00famero m\\u00e9dio de quartos para os im\\u00f3veis do bairro)\", \"Distribui\\u00e7\\u00e3o da vari\\u00e1vel RM (N\\u00famero m\\u00e9dio de quartos para os im\\u00f3veis do bairro)\", \"Distribui\\u00e7\\u00e3o da vari\\u00e1vel RM (N\\u00famero m\\u00e9dio de quartos para os im\\u00f3veis do bairro)\", \"Distribui\\u00e7\\u00e3o da vari\\u00e1vel RM (N\\u00famero m\\u00e9dio de quartos para os im\\u00f3veis do bairro)\", \"Distribui\\u00e7\\u00e3o da vari\\u00e1vel RM (N\\u00famero m\\u00e9dio de quartos para os im\\u00f3veis do bairro)\", \"Distribui\\u00e7\\u00e3o da vari\\u00e1vel RM (N\\u00famero m\\u00e9dio de quartos para os im\\u00f3veis do bairro)\", \"Distribui\\u00e7\\u00e3o da vari\\u00e1vel RM (N\\u00famero m\\u00e9dio de quartos para os im\\u00f3veis do bairro)\", \"Distribui\\u00e7\\u00e3o da vari\\u00e1vel RM (N\\u00famero m\\u00e9dio de quartos para os im\\u00f3veis do bairro)\", \"Distribui\\u00e7\\u00e3o da vari\\u00e1vel RM (N\\u00famero m\\u00e9dio de quartos para os im\\u00f3veis do bairro)\", \"Distribui\\u00e7\\u00e3o da vari\\u00e1vel RM (N\\u00famero m\\u00e9dio de quartos para os im\\u00f3veis do bairro)\", \"Distribui\\u00e7\\u00e3o da vari\\u00e1vel RM (N\\u00famero m\\u00e9dio de quartos para os im\\u00f3veis do bairro)\", \"Distribui\\u00e7\\u00e3o da vari\\u00e1vel RM (N\\u00famero m\\u00e9dio de quartos para os im\\u00f3veis do bairro)\", \"Distribui\\u00e7\\u00e3o da vari\\u00e1vel RM (N\\u00famero m\\u00e9dio de quartos para os im\\u00f3veis do bairro)\", \"Distribui\\u00e7\\u00e3o da vari\\u00e1vel RM (N\\u00famero m\\u00e9dio de quartos para os im\\u00f3veis do bairro)\", \"Distribui\\u00e7\\u00e3o da vari\\u00e1vel RM (N\\u00famero m\\u00e9dio de quartos para os im\\u00f3veis do bairro)\", \"Distribui\\u00e7\\u00e3o da vari\\u00e1vel RM (N\\u00famero m\\u00e9dio de quartos para os im\\u00f3veis do bairro)\", \"Distribui\\u00e7\\u00e3o da vari\\u00e1vel RM (N\\u00famero m\\u00e9dio de quartos para os im\\u00f3veis do bairro)\", \"Distribui\\u00e7\\u00e3o da vari\\u00e1vel RM (N\\u00famero m\\u00e9dio de quartos para os im\\u00f3veis do bairro)\", \"Distribui\\u00e7\\u00e3o da vari\\u00e1vel RM (N\\u00famero m\\u00e9dio de quartos para os im\\u00f3veis do bairro)\", \"Distribui\\u00e7\\u00e3o da vari\\u00e1vel RM (N\\u00famero m\\u00e9dio de quartos para os im\\u00f3veis do bairro)\", \"Distribui\\u00e7\\u00e3o da vari\\u00e1vel RM (N\\u00famero m\\u00e9dio de quartos para os im\\u00f3veis do bairro)\", \"Distribui\\u00e7\\u00e3o da vari\\u00e1vel RM (N\\u00famero m\\u00e9dio de quartos para os im\\u00f3veis do bairro)\", \"Distribui\\u00e7\\u00e3o da vari\\u00e1vel RM (N\\u00famero m\\u00e9dio de quartos para os im\\u00f3veis do bairro)\", \"Distribui\\u00e7\\u00e3o da vari\\u00e1vel RM (N\\u00famero m\\u00e9dio de quartos para os im\\u00f3veis do bairro)\", \"Distribui\\u00e7\\u00e3o da vari\\u00e1vel RM (N\\u00famero m\\u00e9dio de quartos para os im\\u00f3veis do bairro)\", \"Distribui\\u00e7\\u00e3o da vari\\u00e1vel RM (N\\u00famero m\\u00e9dio de quartos para os im\\u00f3veis do bairro)\", \"Distribui\\u00e7\\u00e3o da vari\\u00e1vel RM (N\\u00famero m\\u00e9dio de quartos para os im\\u00f3veis do bairro)\", \"Distribui\\u00e7\\u00e3o da vari\\u00e1vel RM (N\\u00famero m\\u00e9dio de quartos para os im\\u00f3veis do bairro)\", \"Distribui\\u00e7\\u00e3o da vari\\u00e1vel RM (N\\u00famero m\\u00e9dio de quartos para os im\\u00f3veis do bairro)\", \"Distribui\\u00e7\\u00e3o da vari\\u00e1vel RM (N\\u00famero m\\u00e9dio de quartos para os im\\u00f3veis do bairro)\", \"Distribui\\u00e7\\u00e3o da vari\\u00e1vel RM (N\\u00famero m\\u00e9dio de quartos para os im\\u00f3veis do bairro)\", \"Distribui\\u00e7\\u00e3o da vari\\u00e1vel RM (N\\u00famero m\\u00e9dio de quartos para os im\\u00f3veis do bairro)\", \"Distribui\\u00e7\\u00e3o da vari\\u00e1vel RM (N\\u00famero m\\u00e9dio de quartos para os im\\u00f3veis do bairro)\", \"Distribui\\u00e7\\u00e3o da vari\\u00e1vel RM (N\\u00famero m\\u00e9dio de quartos para os im\\u00f3veis do bairro)\", \"Distribui\\u00e7\\u00e3o da vari\\u00e1vel RM (N\\u00famero m\\u00e9dio de quartos para os im\\u00f3veis do bairro)\", \"Distribui\\u00e7\\u00e3o da vari\\u00e1vel RM (N\\u00famero m\\u00e9dio de quartos para os im\\u00f3veis do bairro)\", \"Distribui\\u00e7\\u00e3o da vari\\u00e1vel RM (N\\u00famero m\\u00e9dio de quartos para os im\\u00f3veis do bairro)\", \"Distribui\\u00e7\\u00e3o da vari\\u00e1vel RM (N\\u00famero m\\u00e9dio de quartos para os im\\u00f3veis do bairro)\", \"Distribui\\u00e7\\u00e3o da vari\\u00e1vel RM (N\\u00famero m\\u00e9dio de quartos para os im\\u00f3veis do bairro)\", \"Distribui\\u00e7\\u00e3o da vari\\u00e1vel RM (N\\u00famero m\\u00e9dio de quartos para os im\\u00f3veis do bairro)\", \"Distribui\\u00e7\\u00e3o da vari\\u00e1vel RM (N\\u00famero m\\u00e9dio de quartos para os im\\u00f3veis do bairro)\", \"Distribui\\u00e7\\u00e3o da vari\\u00e1vel RM (N\\u00famero m\\u00e9dio de quartos para os im\\u00f3veis do bairro)\", \"Distribui\\u00e7\\u00e3o da vari\\u00e1vel RM (N\\u00famero m\\u00e9dio de quartos para os im\\u00f3veis do bairro)\", \"Distribui\\u00e7\\u00e3o da vari\\u00e1vel RM (N\\u00famero m\\u00e9dio de quartos para os im\\u00f3veis do bairro)\", \"Distribui\\u00e7\\u00e3o da vari\\u00e1vel RM (N\\u00famero m\\u00e9dio de quartos para os im\\u00f3veis do bairro)\", \"Distribui\\u00e7\\u00e3o da vari\\u00e1vel RM (N\\u00famero m\\u00e9dio de quartos para os im\\u00f3veis do bairro)\", \"Distribui\\u00e7\\u00e3o da vari\\u00e1vel RM (N\\u00famero m\\u00e9dio de quartos para os im\\u00f3veis do bairro)\", \"Distribui\\u00e7\\u00e3o da vari\\u00e1vel RM (N\\u00famero m\\u00e9dio de quartos para os im\\u00f3veis do bairro)\", \"Distribui\\u00e7\\u00e3o da vari\\u00e1vel RM (N\\u00famero m\\u00e9dio de quartos para os im\\u00f3veis do bairro)\", \"Distribui\\u00e7\\u00e3o da vari\\u00e1vel RM (N\\u00famero m\\u00e9dio de quartos para os im\\u00f3veis do bairro)\", \"Distribui\\u00e7\\u00e3o da vari\\u00e1vel RM (N\\u00famero m\\u00e9dio de quartos para os im\\u00f3veis do bairro)\", \"Distribui\\u00e7\\u00e3o da vari\\u00e1vel RM (N\\u00famero m\\u00e9dio de quartos para os im\\u00f3veis do bairro)\", \"Distribui\\u00e7\\u00e3o da vari\\u00e1vel RM (N\\u00famero m\\u00e9dio de quartos para os im\\u00f3veis do bairro)\", \"Distribui\\u00e7\\u00e3o da vari\\u00e1vel RM (N\\u00famero m\\u00e9dio de quartos para os im\\u00f3veis do bairro)\", \"Distribui\\u00e7\\u00e3o da vari\\u00e1vel RM (N\\u00famero m\\u00e9dio de quartos para os im\\u00f3veis do bairro)\", \"Distribui\\u00e7\\u00e3o da vari\\u00e1vel RM (N\\u00famero m\\u00e9dio de quartos para os im\\u00f3veis do bairro)\", \"Distribui\\u00e7\\u00e3o da vari\\u00e1vel RM (N\\u00famero m\\u00e9dio de quartos para os im\\u00f3veis do bairro)\", \"Distribui\\u00e7\\u00e3o da vari\\u00e1vel RM (N\\u00famero m\\u00e9dio de quartos para os im\\u00f3veis do bairro)\", \"Distribui\\u00e7\\u00e3o da vari\\u00e1vel RM (N\\u00famero m\\u00e9dio de quartos para os im\\u00f3veis do bairro)\", \"Distribui\\u00e7\\u00e3o da vari\\u00e1vel RM (N\\u00famero m\\u00e9dio de quartos para os im\\u00f3veis do bairro)\", \"Distribui\\u00e7\\u00e3o da vari\\u00e1vel RM (N\\u00famero m\\u00e9dio de quartos para os im\\u00f3veis do bairro)\", \"Distribui\\u00e7\\u00e3o da vari\\u00e1vel RM (N\\u00famero m\\u00e9dio de quartos para os im\\u00f3veis do bairro)\", \"Distribui\\u00e7\\u00e3o da vari\\u00e1vel RM (N\\u00famero m\\u00e9dio de quartos para os im\\u00f3veis do bairro)\", \"Distribui\\u00e7\\u00e3o da vari\\u00e1vel RM (N\\u00famero m\\u00e9dio de quartos para os im\\u00f3veis do bairro)\", \"Distribui\\u00e7\\u00e3o da vari\\u00e1vel RM (N\\u00famero m\\u00e9dio de quartos para os im\\u00f3veis do bairro)\", \"Distribui\\u00e7\\u00e3o da vari\\u00e1vel RM (N\\u00famero m\\u00e9dio de quartos para os im\\u00f3veis do bairro)\", \"Distribui\\u00e7\\u00e3o da vari\\u00e1vel RM (N\\u00famero m\\u00e9dio de quartos para os im\\u00f3veis do bairro)\", \"Distribui\\u00e7\\u00e3o da vari\\u00e1vel RM (N\\u00famero m\\u00e9dio de quartos para os im\\u00f3veis do bairro)\", \"Distribui\\u00e7\\u00e3o da vari\\u00e1vel RM (N\\u00famero m\\u00e9dio de quartos para os im\\u00f3veis do bairro)\", \"Distribui\\u00e7\\u00e3o da vari\\u00e1vel RM (N\\u00famero m\\u00e9dio de quartos para os im\\u00f3veis do bairro)\", \"Distribui\\u00e7\\u00e3o da vari\\u00e1vel RM (N\\u00famero m\\u00e9dio de quartos para os im\\u00f3veis do bairro)\", \"Distribui\\u00e7\\u00e3o da vari\\u00e1vel RM (N\\u00famero m\\u00e9dio de quartos para os im\\u00f3veis do bairro)\", \"Distribui\\u00e7\\u00e3o da vari\\u00e1vel RM (N\\u00famero m\\u00e9dio de quartos para os im\\u00f3veis do bairro)\", \"Distribui\\u00e7\\u00e3o da vari\\u00e1vel RM (N\\u00famero m\\u00e9dio de quartos para os im\\u00f3veis do bairro)\", \"Distribui\\u00e7\\u00e3o da vari\\u00e1vel RM (N\\u00famero m\\u00e9dio de quartos para os im\\u00f3veis do bairro)\", \"Distribui\\u00e7\\u00e3o da vari\\u00e1vel RM (N\\u00famero m\\u00e9dio de quartos para os im\\u00f3veis do bairro)\", \"Distribui\\u00e7\\u00e3o da vari\\u00e1vel RM (N\\u00famero m\\u00e9dio de quartos para os im\\u00f3veis do bairro)\", \"Distribui\\u00e7\\u00e3o da vari\\u00e1vel RM (N\\u00famero m\\u00e9dio de quartos para os im\\u00f3veis do bairro)\", \"Distribui\\u00e7\\u00e3o da vari\\u00e1vel RM (N\\u00famero m\\u00e9dio de quartos para os im\\u00f3veis do bairro)\", \"Distribui\\u00e7\\u00e3o da vari\\u00e1vel RM (N\\u00famero m\\u00e9dio de quartos para os im\\u00f3veis do bairro)\", \"Distribui\\u00e7\\u00e3o da vari\\u00e1vel RM (N\\u00famero m\\u00e9dio de quartos para os im\\u00f3veis do bairro)\", \"Distribui\\u00e7\\u00e3o da vari\\u00e1vel RM (N\\u00famero m\\u00e9dio de quartos para os im\\u00f3veis do bairro)\", \"Distribui\\u00e7\\u00e3o da vari\\u00e1vel RM (N\\u00famero m\\u00e9dio de quartos para os im\\u00f3veis do bairro)\", \"Distribui\\u00e7\\u00e3o da vari\\u00e1vel RM (N\\u00famero m\\u00e9dio de quartos para os im\\u00f3veis do bairro)\", \"Distribui\\u00e7\\u00e3o da vari\\u00e1vel RM (N\\u00famero m\\u00e9dio de quartos para os im\\u00f3veis do bairro)\", \"Distribui\\u00e7\\u00e3o da vari\\u00e1vel RM (N\\u00famero m\\u00e9dio de quartos para os im\\u00f3veis do bairro)\", \"Distribui\\u00e7\\u00e3o da vari\\u00e1vel RM (N\\u00famero m\\u00e9dio de quartos para os im\\u00f3veis do bairro)\", \"Distribui\\u00e7\\u00e3o da vari\\u00e1vel RM (N\\u00famero m\\u00e9dio de quartos para os im\\u00f3veis do bairro)\", \"Distribui\\u00e7\\u00e3o da vari\\u00e1vel RM (N\\u00famero m\\u00e9dio de quartos para os im\\u00f3veis do bairro)\", \"Distribui\\u00e7\\u00e3o da vari\\u00e1vel RM (N\\u00famero m\\u00e9dio de quartos para os im\\u00f3veis do bairro)\", \"Distribui\\u00e7\\u00e3o da vari\\u00e1vel RM (N\\u00famero m\\u00e9dio de quartos para os im\\u00f3veis do bairro)\", \"Distribui\\u00e7\\u00e3o da vari\\u00e1vel RM (N\\u00famero m\\u00e9dio de quartos para os im\\u00f3veis do bairro)\", \"Distribui\\u00e7\\u00e3o da vari\\u00e1vel RM (N\\u00famero m\\u00e9dio de quartos para os im\\u00f3veis do bairro)\", \"Distribui\\u00e7\\u00e3o da vari\\u00e1vel RM (N\\u00famero m\\u00e9dio de quartos para os im\\u00f3veis do bairro)\", \"Distribui\\u00e7\\u00e3o da vari\\u00e1vel RM (N\\u00famero m\\u00e9dio de quartos para os im\\u00f3veis do bairro)\", \"Distribui\\u00e7\\u00e3o da vari\\u00e1vel RM (N\\u00famero m\\u00e9dio de quartos para os im\\u00f3veis do bairro)\", \"Distribui\\u00e7\\u00e3o da vari\\u00e1vel RM (N\\u00famero m\\u00e9dio de quartos para os im\\u00f3veis do bairro)\", \"Distribui\\u00e7\\u00e3o da vari\\u00e1vel RM (N\\u00famero m\\u00e9dio de quartos para os im\\u00f3veis do bairro)\", \"Distribui\\u00e7\\u00e3o da vari\\u00e1vel RM (N\\u00famero m\\u00e9dio de quartos para os im\\u00f3veis do bairro)\", \"Distribui\\u00e7\\u00e3o da vari\\u00e1vel RM (N\\u00famero m\\u00e9dio de quartos para os im\\u00f3veis do bairro)\", \"Distribui\\u00e7\\u00e3o da vari\\u00e1vel RM (N\\u00famero m\\u00e9dio de quartos para os im\\u00f3veis do bairro)\", \"Distribui\\u00e7\\u00e3o da vari\\u00e1vel RM (N\\u00famero m\\u00e9dio de quartos para os im\\u00f3veis do bairro)\", \"Distribui\\u00e7\\u00e3o da vari\\u00e1vel RM (N\\u00famero m\\u00e9dio de quartos para os im\\u00f3veis do bairro)\", \"Distribui\\u00e7\\u00e3o da vari\\u00e1vel RM (N\\u00famero m\\u00e9dio de quartos para os im\\u00f3veis do bairro)\", \"Distribui\\u00e7\\u00e3o da vari\\u00e1vel RM (N\\u00famero m\\u00e9dio de quartos para os im\\u00f3veis do bairro)\", \"Distribui\\u00e7\\u00e3o da vari\\u00e1vel RM (N\\u00famero m\\u00e9dio de quartos para os im\\u00f3veis do bairro)\", \"Distribui\\u00e7\\u00e3o da vari\\u00e1vel RM (N\\u00famero m\\u00e9dio de quartos para os im\\u00f3veis do bairro)\", \"Distribui\\u00e7\\u00e3o da vari\\u00e1vel RM (N\\u00famero m\\u00e9dio de quartos para os im\\u00f3veis do bairro)\", \"Distribui\\u00e7\\u00e3o da vari\\u00e1vel RM (N\\u00famero m\\u00e9dio de quartos para os im\\u00f3veis do bairro)\", \"Distribui\\u00e7\\u00e3o da vari\\u00e1vel RM (N\\u00famero m\\u00e9dio de quartos para os im\\u00f3veis do bairro)\", \"Distribui\\u00e7\\u00e3o da vari\\u00e1vel RM (N\\u00famero m\\u00e9dio de quartos para os im\\u00f3veis do bairro)\", \"Distribui\\u00e7\\u00e3o da vari\\u00e1vel RM (N\\u00famero m\\u00e9dio de quartos para os im\\u00f3veis do bairro)\", \"Distribui\\u00e7\\u00e3o da vari\\u00e1vel RM (N\\u00famero m\\u00e9dio de quartos para os im\\u00f3veis do bairro)\", \"Distribui\\u00e7\\u00e3o da vari\\u00e1vel RM (N\\u00famero m\\u00e9dio de quartos para os im\\u00f3veis do bairro)\", \"Distribui\\u00e7\\u00e3o da vari\\u00e1vel RM (N\\u00famero m\\u00e9dio de quartos para os im\\u00f3veis do bairro)\", \"Distribui\\u00e7\\u00e3o da vari\\u00e1vel RM (N\\u00famero m\\u00e9dio de quartos para os im\\u00f3veis do bairro)\", \"Distribui\\u00e7\\u00e3o da vari\\u00e1vel RM (N\\u00famero m\\u00e9dio de quartos para os im\\u00f3veis do bairro)\", \"Distribui\\u00e7\\u00e3o da vari\\u00e1vel RM (N\\u00famero m\\u00e9dio de quartos para os im\\u00f3veis do bairro)\", \"Distribui\\u00e7\\u00e3o da vari\\u00e1vel RM (N\\u00famero m\\u00e9dio de quartos para os im\\u00f3veis do bairro)\", \"Distribui\\u00e7\\u00e3o da vari\\u00e1vel RM (N\\u00famero m\\u00e9dio de quartos para os im\\u00f3veis do bairro)\", \"Distribui\\u00e7\\u00e3o da vari\\u00e1vel RM (N\\u00famero m\\u00e9dio de quartos para os im\\u00f3veis do bairro)\", \"Distribui\\u00e7\\u00e3o da vari\\u00e1vel RM (N\\u00famero m\\u00e9dio de quartos para os im\\u00f3veis do bairro)\", \"Distribui\\u00e7\\u00e3o da vari\\u00e1vel RM (N\\u00famero m\\u00e9dio de quartos para os im\\u00f3veis do bairro)\", \"Distribui\\u00e7\\u00e3o da vari\\u00e1vel RM (N\\u00famero m\\u00e9dio de quartos para os im\\u00f3veis do bairro)\", \"Distribui\\u00e7\\u00e3o da vari\\u00e1vel RM (N\\u00famero m\\u00e9dio de quartos para os im\\u00f3veis do bairro)\", \"Distribui\\u00e7\\u00e3o da vari\\u00e1vel RM (N\\u00famero m\\u00e9dio de quartos para os im\\u00f3veis do bairro)\", \"Distribui\\u00e7\\u00e3o da vari\\u00e1vel RM (N\\u00famero m\\u00e9dio de quartos para os im\\u00f3veis do bairro)\", \"Distribui\\u00e7\\u00e3o da vari\\u00e1vel RM (N\\u00famero m\\u00e9dio de quartos para os im\\u00f3veis do bairro)\", \"Distribui\\u00e7\\u00e3o da vari\\u00e1vel RM (N\\u00famero m\\u00e9dio de quartos para os im\\u00f3veis do bairro)\", \"Distribui\\u00e7\\u00e3o da vari\\u00e1vel RM (N\\u00famero m\\u00e9dio de quartos para os im\\u00f3veis do bairro)\", \"Distribui\\u00e7\\u00e3o da vari\\u00e1vel RM (N\\u00famero m\\u00e9dio de quartos para os im\\u00f3veis do bairro)\", \"Distribui\\u00e7\\u00e3o da vari\\u00e1vel RM (N\\u00famero m\\u00e9dio de quartos para os im\\u00f3veis do bairro)\", \"Distribui\\u00e7\\u00e3o da vari\\u00e1vel RM (N\\u00famero m\\u00e9dio de quartos para os im\\u00f3veis do bairro)\", \"Distribui\\u00e7\\u00e3o da vari\\u00e1vel RM (N\\u00famero m\\u00e9dio de quartos para os im\\u00f3veis do bairro)\", \"Distribui\\u00e7\\u00e3o da vari\\u00e1vel RM (N\\u00famero m\\u00e9dio de quartos para os im\\u00f3veis do bairro)\", \"Distribui\\u00e7\\u00e3o da vari\\u00e1vel RM (N\\u00famero m\\u00e9dio de quartos para os im\\u00f3veis do bairro)\", \"Distribui\\u00e7\\u00e3o da vari\\u00e1vel RM (N\\u00famero m\\u00e9dio de quartos para os im\\u00f3veis do bairro)\", \"Distribui\\u00e7\\u00e3o da vari\\u00e1vel RM (N\\u00famero m\\u00e9dio de quartos para os im\\u00f3veis do bairro)\", \"Distribui\\u00e7\\u00e3o da vari\\u00e1vel RM (N\\u00famero m\\u00e9dio de quartos para os im\\u00f3veis do bairro)\", \"Distribui\\u00e7\\u00e3o da vari\\u00e1vel RM (N\\u00famero m\\u00e9dio de quartos para os im\\u00f3veis do bairro)\", \"Distribui\\u00e7\\u00e3o da vari\\u00e1vel RM (N\\u00famero m\\u00e9dio de quartos para os im\\u00f3veis do bairro)\", \"Distribui\\u00e7\\u00e3o da vari\\u00e1vel RM (N\\u00famero m\\u00e9dio de quartos para os im\\u00f3veis do bairro)\", \"Distribui\\u00e7\\u00e3o da vari\\u00e1vel RM (N\\u00famero m\\u00e9dio de quartos para os im\\u00f3veis do bairro)\", \"Distribui\\u00e7\\u00e3o da vari\\u00e1vel RM (N\\u00famero m\\u00e9dio de quartos para os im\\u00f3veis do bairro)\", \"Distribui\\u00e7\\u00e3o da vari\\u00e1vel RM (N\\u00famero m\\u00e9dio de quartos para os im\\u00f3veis do bairro)\", \"Distribui\\u00e7\\u00e3o da vari\\u00e1vel RM (N\\u00famero m\\u00e9dio de quartos para os im\\u00f3veis do bairro)\", \"Distribui\\u00e7\\u00e3o da vari\\u00e1vel RM (N\\u00famero m\\u00e9dio de quartos para os im\\u00f3veis do bairro)\", \"Distribui\\u00e7\\u00e3o da vari\\u00e1vel RM (N\\u00famero m\\u00e9dio de quartos para os im\\u00f3veis do bairro)\", \"Distribui\\u00e7\\u00e3o da vari\\u00e1vel RM (N\\u00famero m\\u00e9dio de quartos para os im\\u00f3veis do bairro)\", \"Distribui\\u00e7\\u00e3o da vari\\u00e1vel RM (N\\u00famero m\\u00e9dio de quartos para os im\\u00f3veis do bairro)\", \"Distribui\\u00e7\\u00e3o da vari\\u00e1vel RM (N\\u00famero m\\u00e9dio de quartos para os im\\u00f3veis do bairro)\", \"Distribui\\u00e7\\u00e3o da vari\\u00e1vel RM (N\\u00famero m\\u00e9dio de quartos para os im\\u00f3veis do bairro)\", \"Distribui\\u00e7\\u00e3o da vari\\u00e1vel RM (N\\u00famero m\\u00e9dio de quartos para os im\\u00f3veis do bairro)\", \"Distribui\\u00e7\\u00e3o da vari\\u00e1vel RM (N\\u00famero m\\u00e9dio de quartos para os im\\u00f3veis do bairro)\", \"Distribui\\u00e7\\u00e3o da vari\\u00e1vel RM (N\\u00famero m\\u00e9dio de quartos para os im\\u00f3veis do bairro)\", \"Distribui\\u00e7\\u00e3o da vari\\u00e1vel RM (N\\u00famero m\\u00e9dio de quartos para os im\\u00f3veis do bairro)\", \"Distribui\\u00e7\\u00e3o da vari\\u00e1vel RM (N\\u00famero m\\u00e9dio de quartos para os im\\u00f3veis do bairro)\", \"Distribui\\u00e7\\u00e3o da vari\\u00e1vel RM (N\\u00famero m\\u00e9dio de quartos para os im\\u00f3veis do bairro)\", \"Distribui\\u00e7\\u00e3o da vari\\u00e1vel RM (N\\u00famero m\\u00e9dio de quartos para os im\\u00f3veis do bairro)\", \"Distribui\\u00e7\\u00e3o da vari\\u00e1vel RM (N\\u00famero m\\u00e9dio de quartos para os im\\u00f3veis do bairro)\", \"Distribui\\u00e7\\u00e3o da vari\\u00e1vel RM (N\\u00famero m\\u00e9dio de quartos para os im\\u00f3veis do bairro)\", \"Distribui\\u00e7\\u00e3o da vari\\u00e1vel RM (N\\u00famero m\\u00e9dio de quartos para os im\\u00f3veis do bairro)\", \"Distribui\\u00e7\\u00e3o da vari\\u00e1vel RM (N\\u00famero m\\u00e9dio de quartos para os im\\u00f3veis do bairro)\", \"Distribui\\u00e7\\u00e3o da vari\\u00e1vel RM (N\\u00famero m\\u00e9dio de quartos para os im\\u00f3veis do bairro)\", \"Distribui\\u00e7\\u00e3o da vari\\u00e1vel RM (N\\u00famero m\\u00e9dio de quartos para os im\\u00f3veis do bairro)\", \"Distribui\\u00e7\\u00e3o da vari\\u00e1vel RM (N\\u00famero m\\u00e9dio de quartos para os im\\u00f3veis do bairro)\", \"Distribui\\u00e7\\u00e3o da vari\\u00e1vel RM (N\\u00famero m\\u00e9dio de quartos para os im\\u00f3veis do bairro)\", \"Distribui\\u00e7\\u00e3o da vari\\u00e1vel RM (N\\u00famero m\\u00e9dio de quartos para os im\\u00f3veis do bairro)\", \"Distribui\\u00e7\\u00e3o da vari\\u00e1vel RM (N\\u00famero m\\u00e9dio de quartos para os im\\u00f3veis do bairro)\", \"Distribui\\u00e7\\u00e3o da vari\\u00e1vel RM (N\\u00famero m\\u00e9dio de quartos para os im\\u00f3veis do bairro)\", \"Distribui\\u00e7\\u00e3o da vari\\u00e1vel RM (N\\u00famero m\\u00e9dio de quartos para os im\\u00f3veis do bairro)\", \"Distribui\\u00e7\\u00e3o da vari\\u00e1vel RM (N\\u00famero m\\u00e9dio de quartos para os im\\u00f3veis do bairro)\", \"Distribui\\u00e7\\u00e3o da vari\\u00e1vel RM (N\\u00famero m\\u00e9dio de quartos para os im\\u00f3veis do bairro)\", \"Distribui\\u00e7\\u00e3o da vari\\u00e1vel RM (N\\u00famero m\\u00e9dio de quartos para os im\\u00f3veis do bairro)\", \"Distribui\\u00e7\\u00e3o da vari\\u00e1vel RM (N\\u00famero m\\u00e9dio de quartos para os im\\u00f3veis do bairro)\", \"Distribui\\u00e7\\u00e3o da vari\\u00e1vel RM (N\\u00famero m\\u00e9dio de quartos para os im\\u00f3veis do bairro)\", \"Distribui\\u00e7\\u00e3o da vari\\u00e1vel RM (N\\u00famero m\\u00e9dio de quartos para os im\\u00f3veis do bairro)\", \"Distribui\\u00e7\\u00e3o da vari\\u00e1vel RM (N\\u00famero m\\u00e9dio de quartos para os im\\u00f3veis do bairro)\", \"Distribui\\u00e7\\u00e3o da vari\\u00e1vel RM (N\\u00famero m\\u00e9dio de quartos para os im\\u00f3veis do bairro)\", \"Distribui\\u00e7\\u00e3o da vari\\u00e1vel RM (N\\u00famero m\\u00e9dio de quartos para os im\\u00f3veis do bairro)\", \"Distribui\\u00e7\\u00e3o da vari\\u00e1vel RM (N\\u00famero m\\u00e9dio de quartos para os im\\u00f3veis do bairro)\", \"Distribui\\u00e7\\u00e3o da vari\\u00e1vel RM (N\\u00famero m\\u00e9dio de quartos para os im\\u00f3veis do bairro)\", \"Distribui\\u00e7\\u00e3o da vari\\u00e1vel RM (N\\u00famero m\\u00e9dio de quartos para os im\\u00f3veis do bairro)\", \"Distribui\\u00e7\\u00e3o da vari\\u00e1vel RM (N\\u00famero m\\u00e9dio de quartos para os im\\u00f3veis do bairro)\", \"Distribui\\u00e7\\u00e3o da vari\\u00e1vel RM (N\\u00famero m\\u00e9dio de quartos para os im\\u00f3veis do bairro)\", \"Distribui\\u00e7\\u00e3o da vari\\u00e1vel RM (N\\u00famero m\\u00e9dio de quartos para os im\\u00f3veis do bairro)\", \"Distribui\\u00e7\\u00e3o da vari\\u00e1vel RM (N\\u00famero m\\u00e9dio de quartos para os im\\u00f3veis do bairro)\", \"Distribui\\u00e7\\u00e3o da vari\\u00e1vel RM (N\\u00famero m\\u00e9dio de quartos para os im\\u00f3veis do bairro)\", \"Distribui\\u00e7\\u00e3o da vari\\u00e1vel RM (N\\u00famero m\\u00e9dio de quartos para os im\\u00f3veis do bairro)\", \"Distribui\\u00e7\\u00e3o da vari\\u00e1vel RM (N\\u00famero m\\u00e9dio de quartos para os im\\u00f3veis do bairro)\", \"Distribui\\u00e7\\u00e3o da vari\\u00e1vel RM (N\\u00famero m\\u00e9dio de quartos para os im\\u00f3veis do bairro)\", \"Distribui\\u00e7\\u00e3o da vari\\u00e1vel RM (N\\u00famero m\\u00e9dio de quartos para os im\\u00f3veis do bairro)\", \"Distribui\\u00e7\\u00e3o da vari\\u00e1vel RM (N\\u00famero m\\u00e9dio de quartos para os im\\u00f3veis do bairro)\", \"Distribui\\u00e7\\u00e3o da vari\\u00e1vel RM (N\\u00famero m\\u00e9dio de quartos para os im\\u00f3veis do bairro)\", \"Distribui\\u00e7\\u00e3o da vari\\u00e1vel RM (N\\u00famero m\\u00e9dio de quartos para os im\\u00f3veis do bairro)\", \"Distribui\\u00e7\\u00e3o da vari\\u00e1vel RM (N\\u00famero m\\u00e9dio de quartos para os im\\u00f3veis do bairro)\", \"Distribui\\u00e7\\u00e3o da vari\\u00e1vel RM (N\\u00famero m\\u00e9dio de quartos para os im\\u00f3veis do bairro)\", \"Distribui\\u00e7\\u00e3o da vari\\u00e1vel RM (N\\u00famero m\\u00e9dio de quartos para os im\\u00f3veis do bairro)\", \"Distribui\\u00e7\\u00e3o da vari\\u00e1vel RM (N\\u00famero m\\u00e9dio de quartos para os im\\u00f3veis do bairro)\", \"Distribui\\u00e7\\u00e3o da vari\\u00e1vel RM (N\\u00famero m\\u00e9dio de quartos para os im\\u00f3veis do bairro)\", \"Distribui\\u00e7\\u00e3o da vari\\u00e1vel RM (N\\u00famero m\\u00e9dio de quartos para os im\\u00f3veis do bairro)\", \"Distribui\\u00e7\\u00e3o da vari\\u00e1vel RM (N\\u00famero m\\u00e9dio de quartos para os im\\u00f3veis do bairro)\", \"Distribui\\u00e7\\u00e3o da vari\\u00e1vel RM (N\\u00famero m\\u00e9dio de quartos para os im\\u00f3veis do bairro)\", \"Distribui\\u00e7\\u00e3o da vari\\u00e1vel RM (N\\u00famero m\\u00e9dio de quartos para os im\\u00f3veis do bairro)\", \"Distribui\\u00e7\\u00e3o da vari\\u00e1vel RM (N\\u00famero m\\u00e9dio de quartos para os im\\u00f3veis do bairro)\", \"Distribui\\u00e7\\u00e3o da vari\\u00e1vel RM (N\\u00famero m\\u00e9dio de quartos para os im\\u00f3veis do bairro)\", \"Distribui\\u00e7\\u00e3o da vari\\u00e1vel RM (N\\u00famero m\\u00e9dio de quartos para os im\\u00f3veis do bairro)\", \"Distribui\\u00e7\\u00e3o da vari\\u00e1vel RM (N\\u00famero m\\u00e9dio de quartos para os im\\u00f3veis do bairro)\", \"Distribui\\u00e7\\u00e3o da vari\\u00e1vel RM (N\\u00famero m\\u00e9dio de quartos para os im\\u00f3veis do bairro)\", \"Distribui\\u00e7\\u00e3o da vari\\u00e1vel RM (N\\u00famero m\\u00e9dio de quartos para os im\\u00f3veis do bairro)\", \"Distribui\\u00e7\\u00e3o da vari\\u00e1vel RM (N\\u00famero m\\u00e9dio de quartos para os im\\u00f3veis do bairro)\", \"Distribui\\u00e7\\u00e3o da vari\\u00e1vel RM (N\\u00famero m\\u00e9dio de quartos para os im\\u00f3veis do bairro)\", \"Distribui\\u00e7\\u00e3o da vari\\u00e1vel RM (N\\u00famero m\\u00e9dio de quartos para os im\\u00f3veis do bairro)\", \"Distribui\\u00e7\\u00e3o da vari\\u00e1vel RM (N\\u00famero m\\u00e9dio de quartos para os im\\u00f3veis do bairro)\", \"Distribui\\u00e7\\u00e3o da vari\\u00e1vel RM (N\\u00famero m\\u00e9dio de quartos para os im\\u00f3veis do bairro)\", \"Distribui\\u00e7\\u00e3o da vari\\u00e1vel RM (N\\u00famero m\\u00e9dio de quartos para os im\\u00f3veis do bairro)\", \"Distribui\\u00e7\\u00e3o da vari\\u00e1vel RM (N\\u00famero m\\u00e9dio de quartos para os im\\u00f3veis do bairro)\", \"Distribui\\u00e7\\u00e3o da vari\\u00e1vel RM (N\\u00famero m\\u00e9dio de quartos para os im\\u00f3veis do bairro)\", \"Distribui\\u00e7\\u00e3o da vari\\u00e1vel RM (N\\u00famero m\\u00e9dio de quartos para os im\\u00f3veis do bairro)\", \"Distribui\\u00e7\\u00e3o da vari\\u00e1vel RM (N\\u00famero m\\u00e9dio de quartos para os im\\u00f3veis do bairro)\", \"Distribui\\u00e7\\u00e3o da vari\\u00e1vel RM (N\\u00famero m\\u00e9dio de quartos para os im\\u00f3veis do bairro)\", \"Distribui\\u00e7\\u00e3o da vari\\u00e1vel RM (N\\u00famero m\\u00e9dio de quartos para os im\\u00f3veis do bairro)\", \"Distribui\\u00e7\\u00e3o da vari\\u00e1vel RM (N\\u00famero m\\u00e9dio de quartos para os im\\u00f3veis do bairro)\", \"Distribui\\u00e7\\u00e3o da vari\\u00e1vel RM (N\\u00famero m\\u00e9dio de quartos para os im\\u00f3veis do bairro)\", \"Distribui\\u00e7\\u00e3o da vari\\u00e1vel RM (N\\u00famero m\\u00e9dio de quartos para os im\\u00f3veis do bairro)\", \"Distribui\\u00e7\\u00e3o da vari\\u00e1vel RM (N\\u00famero m\\u00e9dio de quartos para os im\\u00f3veis do bairro)\", \"Distribui\\u00e7\\u00e3o da vari\\u00e1vel RM (N\\u00famero m\\u00e9dio de quartos para os im\\u00f3veis do bairro)\", \"Distribui\\u00e7\\u00e3o da vari\\u00e1vel RM (N\\u00famero m\\u00e9dio de quartos para os im\\u00f3veis do bairro)\", \"Distribui\\u00e7\\u00e3o da vari\\u00e1vel RM (N\\u00famero m\\u00e9dio de quartos para os im\\u00f3veis do bairro)\", \"Distribui\\u00e7\\u00e3o da vari\\u00e1vel RM (N\\u00famero m\\u00e9dio de quartos para os im\\u00f3veis do bairro)\", \"Distribui\\u00e7\\u00e3o da vari\\u00e1vel RM (N\\u00famero m\\u00e9dio de quartos para os im\\u00f3veis do bairro)\", \"Distribui\\u00e7\\u00e3o da vari\\u00e1vel RM (N\\u00famero m\\u00e9dio de quartos para os im\\u00f3veis do bairro)\", \"Distribui\\u00e7\\u00e3o da vari\\u00e1vel RM (N\\u00famero m\\u00e9dio de quartos para os im\\u00f3veis do bairro)\", \"Distribui\\u00e7\\u00e3o da vari\\u00e1vel RM (N\\u00famero m\\u00e9dio de quartos para os im\\u00f3veis do bairro)\", \"Distribui\\u00e7\\u00e3o da vari\\u00e1vel RM (N\\u00famero m\\u00e9dio de quartos para os im\\u00f3veis do bairro)\", \"Distribui\\u00e7\\u00e3o da vari\\u00e1vel RM (N\\u00famero m\\u00e9dio de quartos para os im\\u00f3veis do bairro)\", \"Distribui\\u00e7\\u00e3o da vari\\u00e1vel RM (N\\u00famero m\\u00e9dio de quartos para os im\\u00f3veis do bairro)\", \"Distribui\\u00e7\\u00e3o da vari\\u00e1vel RM (N\\u00famero m\\u00e9dio de quartos para os im\\u00f3veis do bairro)\", \"Distribui\\u00e7\\u00e3o da vari\\u00e1vel RM (N\\u00famero m\\u00e9dio de quartos para os im\\u00f3veis do bairro)\", \"Distribui\\u00e7\\u00e3o da vari\\u00e1vel RM (N\\u00famero m\\u00e9dio de quartos para os im\\u00f3veis do bairro)\", \"Distribui\\u00e7\\u00e3o da vari\\u00e1vel RM (N\\u00famero m\\u00e9dio de quartos para os im\\u00f3veis do bairro)\", \"Distribui\\u00e7\\u00e3o da vari\\u00e1vel RM (N\\u00famero m\\u00e9dio de quartos para os im\\u00f3veis do bairro)\", \"Distribui\\u00e7\\u00e3o da vari\\u00e1vel RM (N\\u00famero m\\u00e9dio de quartos para os im\\u00f3veis do bairro)\", \"Distribui\\u00e7\\u00e3o da vari\\u00e1vel RM (N\\u00famero m\\u00e9dio de quartos para os im\\u00f3veis do bairro)\", \"Distribui\\u00e7\\u00e3o da vari\\u00e1vel RM (N\\u00famero m\\u00e9dio de quartos para os im\\u00f3veis do bairro)\", \"Distribui\\u00e7\\u00e3o da vari\\u00e1vel RM (N\\u00famero m\\u00e9dio de quartos para os im\\u00f3veis do bairro)\", \"Distribui\\u00e7\\u00e3o da vari\\u00e1vel RM (N\\u00famero m\\u00e9dio de quartos para os im\\u00f3veis do bairro)\", \"Distribui\\u00e7\\u00e3o da vari\\u00e1vel RM (N\\u00famero m\\u00e9dio de quartos para os im\\u00f3veis do bairro)\", \"Distribui\\u00e7\\u00e3o da vari\\u00e1vel RM (N\\u00famero m\\u00e9dio de quartos para os im\\u00f3veis do bairro)\", \"Distribui\\u00e7\\u00e3o da vari\\u00e1vel RM (N\\u00famero m\\u00e9dio de quartos para os im\\u00f3veis do bairro)\", \"Distribui\\u00e7\\u00e3o da vari\\u00e1vel RM (N\\u00famero m\\u00e9dio de quartos para os im\\u00f3veis do bairro)\", \"Distribui\\u00e7\\u00e3o da vari\\u00e1vel RM (N\\u00famero m\\u00e9dio de quartos para os im\\u00f3veis do bairro)\", \"Distribui\\u00e7\\u00e3o da vari\\u00e1vel RM (N\\u00famero m\\u00e9dio de quartos para os im\\u00f3veis do bairro)\", \"Distribui\\u00e7\\u00e3o da vari\\u00e1vel RM (N\\u00famero m\\u00e9dio de quartos para os im\\u00f3veis do bairro)\", \"Distribui\\u00e7\\u00e3o da vari\\u00e1vel RM (N\\u00famero m\\u00e9dio de quartos para os im\\u00f3veis do bairro)\", \"Distribui\\u00e7\\u00e3o da vari\\u00e1vel RM (N\\u00famero m\\u00e9dio de quartos para os im\\u00f3veis do bairro)\", \"Distribui\\u00e7\\u00e3o da vari\\u00e1vel RM (N\\u00famero m\\u00e9dio de quartos para os im\\u00f3veis do bairro)\", \"Distribui\\u00e7\\u00e3o da vari\\u00e1vel RM (N\\u00famero m\\u00e9dio de quartos para os im\\u00f3veis do bairro)\", \"Distribui\\u00e7\\u00e3o da vari\\u00e1vel RM (N\\u00famero m\\u00e9dio de quartos para os im\\u00f3veis do bairro)\", \"Distribui\\u00e7\\u00e3o da vari\\u00e1vel RM (N\\u00famero m\\u00e9dio de quartos para os im\\u00f3veis do bairro)\", \"Distribui\\u00e7\\u00e3o da vari\\u00e1vel RM (N\\u00famero m\\u00e9dio de quartos para os im\\u00f3veis do bairro)\", \"Distribui\\u00e7\\u00e3o da vari\\u00e1vel RM (N\\u00famero m\\u00e9dio de quartos para os im\\u00f3veis do bairro)\", \"Distribui\\u00e7\\u00e3o da vari\\u00e1vel RM (N\\u00famero m\\u00e9dio de quartos para os im\\u00f3veis do bairro)\", \"Distribui\\u00e7\\u00e3o da vari\\u00e1vel RM (N\\u00famero m\\u00e9dio de quartos para os im\\u00f3veis do bairro)\", \"Distribui\\u00e7\\u00e3o da vari\\u00e1vel RM (N\\u00famero m\\u00e9dio de quartos para os im\\u00f3veis do bairro)\", \"Distribui\\u00e7\\u00e3o da vari\\u00e1vel RM (N\\u00famero m\\u00e9dio de quartos para os im\\u00f3veis do bairro)\", \"Distribui\\u00e7\\u00e3o da vari\\u00e1vel RM (N\\u00famero m\\u00e9dio de quartos para os im\\u00f3veis do bairro)\", \"Distribui\\u00e7\\u00e3o da vari\\u00e1vel RM (N\\u00famero m\\u00e9dio de quartos para os im\\u00f3veis do bairro)\", \"Distribui\\u00e7\\u00e3o da vari\\u00e1vel RM (N\\u00famero m\\u00e9dio de quartos para os im\\u00f3veis do bairro)\", \"Distribui\\u00e7\\u00e3o da vari\\u00e1vel RM (N\\u00famero m\\u00e9dio de quartos para os im\\u00f3veis do bairro)\", \"Distribui\\u00e7\\u00e3o da vari\\u00e1vel RM (N\\u00famero m\\u00e9dio de quartos para os im\\u00f3veis do bairro)\", \"Distribui\\u00e7\\u00e3o da vari\\u00e1vel RM (N\\u00famero m\\u00e9dio de quartos para os im\\u00f3veis do bairro)\", \"Distribui\\u00e7\\u00e3o da vari\\u00e1vel RM (N\\u00famero m\\u00e9dio de quartos para os im\\u00f3veis do bairro)\", \"Distribui\\u00e7\\u00e3o da vari\\u00e1vel RM (N\\u00famero m\\u00e9dio de quartos para os im\\u00f3veis do bairro)\", \"Distribui\\u00e7\\u00e3o da vari\\u00e1vel RM (N\\u00famero m\\u00e9dio de quartos para os im\\u00f3veis do bairro)\", \"Distribui\\u00e7\\u00e3o da vari\\u00e1vel RM (N\\u00famero m\\u00e9dio de quartos para os im\\u00f3veis do bairro)\", \"Distribui\\u00e7\\u00e3o da vari\\u00e1vel RM (N\\u00famero m\\u00e9dio de quartos para os im\\u00f3veis do bairro)\", \"Distribui\\u00e7\\u00e3o da vari\\u00e1vel RM (N\\u00famero m\\u00e9dio de quartos para os im\\u00f3veis do bairro)\", \"Distribui\\u00e7\\u00e3o da vari\\u00e1vel RM (N\\u00famero m\\u00e9dio de quartos para os im\\u00f3veis do bairro)\", \"Distribui\\u00e7\\u00e3o da vari\\u00e1vel RM (N\\u00famero m\\u00e9dio de quartos para os im\\u00f3veis do bairro)\", \"Distribui\\u00e7\\u00e3o da vari\\u00e1vel RM (N\\u00famero m\\u00e9dio de quartos para os im\\u00f3veis do bairro)\", \"Distribui\\u00e7\\u00e3o da vari\\u00e1vel RM (N\\u00famero m\\u00e9dio de quartos para os im\\u00f3veis do bairro)\", \"Distribui\\u00e7\\u00e3o da vari\\u00e1vel RM (N\\u00famero m\\u00e9dio de quartos para os im\\u00f3veis do bairro)\", \"Distribui\\u00e7\\u00e3o da vari\\u00e1vel RM (N\\u00famero m\\u00e9dio de quartos para os im\\u00f3veis do bairro)\", \"Distribui\\u00e7\\u00e3o da vari\\u00e1vel RM (N\\u00famero m\\u00e9dio de quartos para os im\\u00f3veis do bairro)\", \"Distribui\\u00e7\\u00e3o da vari\\u00e1vel RM (N\\u00famero m\\u00e9dio de quartos para os im\\u00f3veis do bairro)\", \"Distribui\\u00e7\\u00e3o da vari\\u00e1vel RM (N\\u00famero m\\u00e9dio de quartos para os im\\u00f3veis do bairro)\", \"Distribui\\u00e7\\u00e3o da vari\\u00e1vel RM (N\\u00famero m\\u00e9dio de quartos para os im\\u00f3veis do bairro)\", \"Distribui\\u00e7\\u00e3o da vari\\u00e1vel RM (N\\u00famero m\\u00e9dio de quartos para os im\\u00f3veis do bairro)\", \"Distribui\\u00e7\\u00e3o da vari\\u00e1vel RM (N\\u00famero m\\u00e9dio de quartos para os im\\u00f3veis do bairro)\", \"Distribui\\u00e7\\u00e3o da vari\\u00e1vel RM (N\\u00famero m\\u00e9dio de quartos para os im\\u00f3veis do bairro)\", \"Distribui\\u00e7\\u00e3o da vari\\u00e1vel RM (N\\u00famero m\\u00e9dio de quartos para os im\\u00f3veis do bairro)\", \"Distribui\\u00e7\\u00e3o da vari\\u00e1vel RM (N\\u00famero m\\u00e9dio de quartos para os im\\u00f3veis do bairro)\", \"Distribui\\u00e7\\u00e3o da vari\\u00e1vel RM (N\\u00famero m\\u00e9dio de quartos para os im\\u00f3veis do bairro)\", \"Distribui\\u00e7\\u00e3o da vari\\u00e1vel RM (N\\u00famero m\\u00e9dio de quartos para os im\\u00f3veis do bairro)\", \"Distribui\\u00e7\\u00e3o da vari\\u00e1vel RM (N\\u00famero m\\u00e9dio de quartos para os im\\u00f3veis do bairro)\", \"Distribui\\u00e7\\u00e3o da vari\\u00e1vel RM (N\\u00famero m\\u00e9dio de quartos para os im\\u00f3veis do bairro)\", \"Distribui\\u00e7\\u00e3o da vari\\u00e1vel RM (N\\u00famero m\\u00e9dio de quartos para os im\\u00f3veis do bairro)\", \"Distribui\\u00e7\\u00e3o da vari\\u00e1vel RM (N\\u00famero m\\u00e9dio de quartos para os im\\u00f3veis do bairro)\", \"Distribui\\u00e7\\u00e3o da vari\\u00e1vel RM (N\\u00famero m\\u00e9dio de quartos para os im\\u00f3veis do bairro)\", \"Distribui\\u00e7\\u00e3o da vari\\u00e1vel RM (N\\u00famero m\\u00e9dio de quartos para os im\\u00f3veis do bairro)\", \"Distribui\\u00e7\\u00e3o da vari\\u00e1vel RM (N\\u00famero m\\u00e9dio de quartos para os im\\u00f3veis do bairro)\", \"Distribui\\u00e7\\u00e3o da vari\\u00e1vel RM (N\\u00famero m\\u00e9dio de quartos para os im\\u00f3veis do bairro)\", \"Distribui\\u00e7\\u00e3o da vari\\u00e1vel RM (N\\u00famero m\\u00e9dio de quartos para os im\\u00f3veis do bairro)\", \"Distribui\\u00e7\\u00e3o da vari\\u00e1vel RM (N\\u00famero m\\u00e9dio de quartos para os im\\u00f3veis do bairro)\", \"Distribui\\u00e7\\u00e3o da vari\\u00e1vel RM (N\\u00famero m\\u00e9dio de quartos para os im\\u00f3veis do bairro)\", \"Distribui\\u00e7\\u00e3o da vari\\u00e1vel RM (N\\u00famero m\\u00e9dio de quartos para os im\\u00f3veis do bairro)\", \"Distribui\\u00e7\\u00e3o da vari\\u00e1vel RM (N\\u00famero m\\u00e9dio de quartos para os im\\u00f3veis do bairro)\", \"Distribui\\u00e7\\u00e3o da vari\\u00e1vel RM (N\\u00famero m\\u00e9dio de quartos para os im\\u00f3veis do bairro)\", \"Distribui\\u00e7\\u00e3o da vari\\u00e1vel RM (N\\u00famero m\\u00e9dio de quartos para os im\\u00f3veis do bairro)\", \"Distribui\\u00e7\\u00e3o da vari\\u00e1vel RM (N\\u00famero m\\u00e9dio de quartos para os im\\u00f3veis do bairro)\", \"Distribui\\u00e7\\u00e3o da vari\\u00e1vel RM (N\\u00famero m\\u00e9dio de quartos para os im\\u00f3veis do bairro)\", \"Distribui\\u00e7\\u00e3o da vari\\u00e1vel RM (N\\u00famero m\\u00e9dio de quartos para os im\\u00f3veis do bairro)\", \"Distribui\\u00e7\\u00e3o da vari\\u00e1vel RM (N\\u00famero m\\u00e9dio de quartos para os im\\u00f3veis do bairro)\", \"Distribui\\u00e7\\u00e3o da vari\\u00e1vel RM (N\\u00famero m\\u00e9dio de quartos para os im\\u00f3veis do bairro)\", \"Distribui\\u00e7\\u00e3o da vari\\u00e1vel RM (N\\u00famero m\\u00e9dio de quartos para os im\\u00f3veis do bairro)\", \"Distribui\\u00e7\\u00e3o da vari\\u00e1vel RM (N\\u00famero m\\u00e9dio de quartos para os im\\u00f3veis do bairro)\", \"Distribui\\u00e7\\u00e3o da vari\\u00e1vel RM (N\\u00famero m\\u00e9dio de quartos para os im\\u00f3veis do bairro)\", \"Distribui\\u00e7\\u00e3o da vari\\u00e1vel RM (N\\u00famero m\\u00e9dio de quartos para os im\\u00f3veis do bairro)\", \"Distribui\\u00e7\\u00e3o da vari\\u00e1vel RM (N\\u00famero m\\u00e9dio de quartos para os im\\u00f3veis do bairro)\", \"Distribui\\u00e7\\u00e3o da vari\\u00e1vel RM (N\\u00famero m\\u00e9dio de quartos para os im\\u00f3veis do bairro)\", \"Distribui\\u00e7\\u00e3o da vari\\u00e1vel RM (N\\u00famero m\\u00e9dio de quartos para os im\\u00f3veis do bairro)\", \"Distribui\\u00e7\\u00e3o da vari\\u00e1vel RM (N\\u00famero m\\u00e9dio de quartos para os im\\u00f3veis do bairro)\", \"Distribui\\u00e7\\u00e3o da vari\\u00e1vel RM (N\\u00famero m\\u00e9dio de quartos para os im\\u00f3veis do bairro)\", \"Distribui\\u00e7\\u00e3o da vari\\u00e1vel RM (N\\u00famero m\\u00e9dio de quartos para os im\\u00f3veis do bairro)\", \"Distribui\\u00e7\\u00e3o da vari\\u00e1vel RM (N\\u00famero m\\u00e9dio de quartos para os im\\u00f3veis do bairro)\", \"Distribui\\u00e7\\u00e3o da vari\\u00e1vel RM (N\\u00famero m\\u00e9dio de quartos para os im\\u00f3veis do bairro)\", \"Distribui\\u00e7\\u00e3o da vari\\u00e1vel RM (N\\u00famero m\\u00e9dio de quartos para os im\\u00f3veis do bairro)\", \"Distribui\\u00e7\\u00e3o da vari\\u00e1vel RM (N\\u00famero m\\u00e9dio de quartos para os im\\u00f3veis do bairro)\", \"Distribui\\u00e7\\u00e3o da vari\\u00e1vel RM (N\\u00famero m\\u00e9dio de quartos para os im\\u00f3veis do bairro)\", \"Distribui\\u00e7\\u00e3o da vari\\u00e1vel RM (N\\u00famero m\\u00e9dio de quartos para os im\\u00f3veis do bairro)\", \"Distribui\\u00e7\\u00e3o da vari\\u00e1vel RM (N\\u00famero m\\u00e9dio de quartos para os im\\u00f3veis do bairro)\", \"Distribui\\u00e7\\u00e3o da vari\\u00e1vel RM (N\\u00famero m\\u00e9dio de quartos para os im\\u00f3veis do bairro)\", \"Distribui\\u00e7\\u00e3o da vari\\u00e1vel RM (N\\u00famero m\\u00e9dio de quartos para os im\\u00f3veis do bairro)\", \"Distribui\\u00e7\\u00e3o da vari\\u00e1vel RM (N\\u00famero m\\u00e9dio de quartos para os im\\u00f3veis do bairro)\", \"Distribui\\u00e7\\u00e3o da vari\\u00e1vel RM (N\\u00famero m\\u00e9dio de quartos para os im\\u00f3veis do bairro)\", \"Distribui\\u00e7\\u00e3o da vari\\u00e1vel RM (N\\u00famero m\\u00e9dio de quartos para os im\\u00f3veis do bairro)\", \"Distribui\\u00e7\\u00e3o da vari\\u00e1vel RM (N\\u00famero m\\u00e9dio de quartos para os im\\u00f3veis do bairro)\", \"Distribui\\u00e7\\u00e3o da vari\\u00e1vel RM (N\\u00famero m\\u00e9dio de quartos para os im\\u00f3veis do bairro)\", \"Distribui\\u00e7\\u00e3o da vari\\u00e1vel RM (N\\u00famero m\\u00e9dio de quartos para os im\\u00f3veis do bairro)\", \"Distribui\\u00e7\\u00e3o da vari\\u00e1vel RM (N\\u00famero m\\u00e9dio de quartos para os im\\u00f3veis do bairro)\", \"Distribui\\u00e7\\u00e3o da vari\\u00e1vel RM (N\\u00famero m\\u00e9dio de quartos para os im\\u00f3veis do bairro)\", \"Distribui\\u00e7\\u00e3o da vari\\u00e1vel RM (N\\u00famero m\\u00e9dio de quartos para os im\\u00f3veis do bairro)\", \"Distribui\\u00e7\\u00e3o da vari\\u00e1vel RM (N\\u00famero m\\u00e9dio de quartos para os im\\u00f3veis do bairro)\", \"Distribui\\u00e7\\u00e3o da vari\\u00e1vel RM (N\\u00famero m\\u00e9dio de quartos para os im\\u00f3veis do bairro)\", \"Distribui\\u00e7\\u00e3o da vari\\u00e1vel RM (N\\u00famero m\\u00e9dio de quartos para os im\\u00f3veis do bairro)\", \"Distribui\\u00e7\\u00e3o da vari\\u00e1vel RM (N\\u00famero m\\u00e9dio de quartos para os im\\u00f3veis do bairro)\", \"Distribui\\u00e7\\u00e3o da vari\\u00e1vel RM (N\\u00famero m\\u00e9dio de quartos para os im\\u00f3veis do bairro)\", \"Distribui\\u00e7\\u00e3o da vari\\u00e1vel RM (N\\u00famero m\\u00e9dio de quartos para os im\\u00f3veis do bairro)\", \"Distribui\\u00e7\\u00e3o da vari\\u00e1vel RM (N\\u00famero m\\u00e9dio de quartos para os im\\u00f3veis do bairro)\", \"Distribui\\u00e7\\u00e3o da vari\\u00e1vel RM (N\\u00famero m\\u00e9dio de quartos para os im\\u00f3veis do bairro)\", \"Distribui\\u00e7\\u00e3o da vari\\u00e1vel RM (N\\u00famero m\\u00e9dio de quartos para os im\\u00f3veis do bairro)\", \"Distribui\\u00e7\\u00e3o da vari\\u00e1vel RM (N\\u00famero m\\u00e9dio de quartos para os im\\u00f3veis do bairro)\", \"Distribui\\u00e7\\u00e3o da vari\\u00e1vel RM (N\\u00famero m\\u00e9dio de quartos para os im\\u00f3veis do bairro)\", \"Distribui\\u00e7\\u00e3o da vari\\u00e1vel RM (N\\u00famero m\\u00e9dio de quartos para os im\\u00f3veis do bairro)\", \"Distribui\\u00e7\\u00e3o da vari\\u00e1vel RM (N\\u00famero m\\u00e9dio de quartos para os im\\u00f3veis do bairro)\", \"Distribui\\u00e7\\u00e3o da vari\\u00e1vel RM (N\\u00famero m\\u00e9dio de quartos para os im\\u00f3veis do bairro)\", \"Distribui\\u00e7\\u00e3o da vari\\u00e1vel RM (N\\u00famero m\\u00e9dio de quartos para os im\\u00f3veis do bairro)\", \"Distribui\\u00e7\\u00e3o da vari\\u00e1vel RM (N\\u00famero m\\u00e9dio de quartos para os im\\u00f3veis do bairro)\", \"Distribui\\u00e7\\u00e3o da vari\\u00e1vel RM (N\\u00famero m\\u00e9dio de quartos para os im\\u00f3veis do bairro)\", \"Distribui\\u00e7\\u00e3o da vari\\u00e1vel RM (N\\u00famero m\\u00e9dio de quartos para os im\\u00f3veis do bairro)\", \"Distribui\\u00e7\\u00e3o da vari\\u00e1vel RM (N\\u00famero m\\u00e9dio de quartos para os im\\u00f3veis do bairro)\", \"Distribui\\u00e7\\u00e3o da vari\\u00e1vel RM (N\\u00famero m\\u00e9dio de quartos para os im\\u00f3veis do bairro)\", \"Distribui\\u00e7\\u00e3o da vari\\u00e1vel RM (N\\u00famero m\\u00e9dio de quartos para os im\\u00f3veis do bairro)\", \"Distribui\\u00e7\\u00e3o da vari\\u00e1vel RM (N\\u00famero m\\u00e9dio de quartos para os im\\u00f3veis do bairro)\", \"Distribui\\u00e7\\u00e3o da vari\\u00e1vel RM (N\\u00famero m\\u00e9dio de quartos para os im\\u00f3veis do bairro)\", \"Distribui\\u00e7\\u00e3o da vari\\u00e1vel RM (N\\u00famero m\\u00e9dio de quartos para os im\\u00f3veis do bairro)\", \"Distribui\\u00e7\\u00e3o da vari\\u00e1vel RM (N\\u00famero m\\u00e9dio de quartos para os im\\u00f3veis do bairro)\", \"Distribui\\u00e7\\u00e3o da vari\\u00e1vel RM (N\\u00famero m\\u00e9dio de quartos para os im\\u00f3veis do bairro)\", \"Distribui\\u00e7\\u00e3o da vari\\u00e1vel RM (N\\u00famero m\\u00e9dio de quartos para os im\\u00f3veis do bairro)\", \"Distribui\\u00e7\\u00e3o da vari\\u00e1vel RM (N\\u00famero m\\u00e9dio de quartos para os im\\u00f3veis do bairro)\", \"Distribui\\u00e7\\u00e3o da vari\\u00e1vel RM (N\\u00famero m\\u00e9dio de quartos para os im\\u00f3veis do bairro)\", \"Distribui\\u00e7\\u00e3o da vari\\u00e1vel RM (N\\u00famero m\\u00e9dio de quartos para os im\\u00f3veis do bairro)\", \"Distribui\\u00e7\\u00e3o da vari\\u00e1vel RM (N\\u00famero m\\u00e9dio de quartos para os im\\u00f3veis do bairro)\", \"Distribui\\u00e7\\u00e3o da vari\\u00e1vel RM (N\\u00famero m\\u00e9dio de quartos para os im\\u00f3veis do bairro)\", \"Distribui\\u00e7\\u00e3o da vari\\u00e1vel RM (N\\u00famero m\\u00e9dio de quartos para os im\\u00f3veis do bairro)\", \"Distribui\\u00e7\\u00e3o da vari\\u00e1vel RM (N\\u00famero m\\u00e9dio de quartos para os im\\u00f3veis do bairro)\", \"Distribui\\u00e7\\u00e3o da vari\\u00e1vel RM (N\\u00famero m\\u00e9dio de quartos para os im\\u00f3veis do bairro)\", \"Distribui\\u00e7\\u00e3o da vari\\u00e1vel RM (N\\u00famero m\\u00e9dio de quartos para os im\\u00f3veis do bairro)\", \"Distribui\\u00e7\\u00e3o da vari\\u00e1vel RM (N\\u00famero m\\u00e9dio de quartos para os im\\u00f3veis do bairro)\", \"Distribui\\u00e7\\u00e3o da vari\\u00e1vel RM (N\\u00famero m\\u00e9dio de quartos para os im\\u00f3veis do bairro)\"], \"yaxis\": \"y2\"}],\n",
              "                        {\"barmode\": \"overlay\", \"hovermode\": \"closest\", \"legend\": {\"traceorder\": \"reversed\"}, \"template\": {\"data\": {\"bar\": [{\"error_x\": {\"color\": \"#2a3f5f\"}, \"error_y\": {\"color\": \"#2a3f5f\"}, \"marker\": {\"line\": {\"color\": \"#E5ECF6\", \"width\": 0.5}}, \"type\": \"bar\"}], \"barpolar\": [{\"marker\": {\"line\": {\"color\": \"#E5ECF6\", \"width\": 0.5}}, \"type\": \"barpolar\"}], \"carpet\": [{\"aaxis\": {\"endlinecolor\": \"#2a3f5f\", \"gridcolor\": \"white\", \"linecolor\": \"white\", \"minorgridcolor\": \"white\", \"startlinecolor\": \"#2a3f5f\"}, \"baxis\": {\"endlinecolor\": \"#2a3f5f\", \"gridcolor\": \"white\", \"linecolor\": \"white\", \"minorgridcolor\": \"white\", \"startlinecolor\": \"#2a3f5f\"}, \"type\": \"carpet\"}], \"choropleth\": [{\"colorbar\": {\"outlinewidth\": 0, \"ticks\": \"\"}, \"type\": \"choropleth\"}], \"contour\": [{\"colorbar\": {\"outlinewidth\": 0, \"ticks\": \"\"}, \"colorscale\": [[0.0, \"#0d0887\"], [0.1111111111111111, \"#46039f\"], [0.2222222222222222, \"#7201a8\"], [0.3333333333333333, \"#9c179e\"], [0.4444444444444444, \"#bd3786\"], [0.5555555555555556, \"#d8576b\"], [0.6666666666666666, \"#ed7953\"], [0.7777777777777778, \"#fb9f3a\"], [0.8888888888888888, \"#fdca26\"], [1.0, \"#f0f921\"]], \"type\": \"contour\"}], \"contourcarpet\": [{\"colorbar\": {\"outlinewidth\": 0, \"ticks\": \"\"}, \"type\": \"contourcarpet\"}], \"heatmap\": [{\"colorbar\": {\"outlinewidth\": 0, \"ticks\": \"\"}, \"colorscale\": [[0.0, \"#0d0887\"], [0.1111111111111111, \"#46039f\"], [0.2222222222222222, \"#7201a8\"], [0.3333333333333333, \"#9c179e\"], [0.4444444444444444, \"#bd3786\"], [0.5555555555555556, \"#d8576b\"], [0.6666666666666666, \"#ed7953\"], [0.7777777777777778, \"#fb9f3a\"], [0.8888888888888888, \"#fdca26\"], [1.0, \"#f0f921\"]], \"type\": \"heatmap\"}], \"heatmapgl\": [{\"colorbar\": {\"outlinewidth\": 0, \"ticks\": \"\"}, \"colorscale\": [[0.0, \"#0d0887\"], [0.1111111111111111, \"#46039f\"], [0.2222222222222222, \"#7201a8\"], [0.3333333333333333, \"#9c179e\"], [0.4444444444444444, \"#bd3786\"], [0.5555555555555556, \"#d8576b\"], [0.6666666666666666, \"#ed7953\"], [0.7777777777777778, \"#fb9f3a\"], [0.8888888888888888, \"#fdca26\"], [1.0, \"#f0f921\"]], \"type\": \"heatmapgl\"}], \"histogram\": [{\"marker\": {\"colorbar\": {\"outlinewidth\": 0, \"ticks\": \"\"}}, \"type\": \"histogram\"}], \"histogram2d\": [{\"colorbar\": {\"outlinewidth\": 0, \"ticks\": \"\"}, \"colorscale\": [[0.0, \"#0d0887\"], [0.1111111111111111, \"#46039f\"], [0.2222222222222222, \"#7201a8\"], [0.3333333333333333, \"#9c179e\"], [0.4444444444444444, \"#bd3786\"], [0.5555555555555556, \"#d8576b\"], [0.6666666666666666, \"#ed7953\"], [0.7777777777777778, \"#fb9f3a\"], [0.8888888888888888, \"#fdca26\"], [1.0, \"#f0f921\"]], \"type\": \"histogram2d\"}], \"histogram2dcontour\": [{\"colorbar\": {\"outlinewidth\": 0, \"ticks\": \"\"}, \"colorscale\": [[0.0, \"#0d0887\"], [0.1111111111111111, \"#46039f\"], [0.2222222222222222, \"#7201a8\"], [0.3333333333333333, \"#9c179e\"], [0.4444444444444444, \"#bd3786\"], [0.5555555555555556, \"#d8576b\"], [0.6666666666666666, \"#ed7953\"], [0.7777777777777778, \"#fb9f3a\"], [0.8888888888888888, \"#fdca26\"], [1.0, \"#f0f921\"]], \"type\": \"histogram2dcontour\"}], \"mesh3d\": [{\"colorbar\": {\"outlinewidth\": 0, \"ticks\": \"\"}, \"type\": \"mesh3d\"}], \"parcoords\": [{\"line\": {\"colorbar\": {\"outlinewidth\": 0, \"ticks\": \"\"}}, \"type\": \"parcoords\"}], \"pie\": [{\"automargin\": true, \"type\": \"pie\"}], \"scatter\": [{\"marker\": {\"colorbar\": {\"outlinewidth\": 0, \"ticks\": \"\"}}, \"type\": \"scatter\"}], \"scatter3d\": [{\"line\": {\"colorbar\": {\"outlinewidth\": 0, \"ticks\": \"\"}}, \"marker\": {\"colorbar\": {\"outlinewidth\": 0, \"ticks\": \"\"}}, \"type\": \"scatter3d\"}], \"scattercarpet\": [{\"marker\": {\"colorbar\": {\"outlinewidth\": 0, \"ticks\": \"\"}}, \"type\": \"scattercarpet\"}], \"scattergeo\": [{\"marker\": {\"colorbar\": {\"outlinewidth\": 0, \"ticks\": \"\"}}, \"type\": \"scattergeo\"}], \"scattergl\": [{\"marker\": {\"colorbar\": {\"outlinewidth\": 0, \"ticks\": \"\"}}, \"type\": \"scattergl\"}], \"scattermapbox\": [{\"marker\": {\"colorbar\": {\"outlinewidth\": 0, \"ticks\": \"\"}}, \"type\": \"scattermapbox\"}], \"scatterpolar\": [{\"marker\": {\"colorbar\": {\"outlinewidth\": 0, \"ticks\": \"\"}}, \"type\": \"scatterpolar\"}], \"scatterpolargl\": [{\"marker\": {\"colorbar\": {\"outlinewidth\": 0, \"ticks\": \"\"}}, \"type\": \"scatterpolargl\"}], \"scatterternary\": [{\"marker\": {\"colorbar\": {\"outlinewidth\": 0, \"ticks\": \"\"}}, \"type\": \"scatterternary\"}], \"surface\": [{\"colorbar\": {\"outlinewidth\": 0, \"ticks\": \"\"}, \"colorscale\": [[0.0, \"#0d0887\"], [0.1111111111111111, \"#46039f\"], [0.2222222222222222, \"#7201a8\"], [0.3333333333333333, \"#9c179e\"], [0.4444444444444444, \"#bd3786\"], [0.5555555555555556, \"#d8576b\"], [0.6666666666666666, \"#ed7953\"], [0.7777777777777778, \"#fb9f3a\"], [0.8888888888888888, \"#fdca26\"], [1.0, \"#f0f921\"]], \"type\": \"surface\"}], \"table\": [{\"cells\": {\"fill\": {\"color\": \"#EBF0F8\"}, \"line\": {\"color\": \"white\"}}, \"header\": {\"fill\": {\"color\": \"#C8D4E3\"}, \"line\": {\"color\": \"white\"}}, \"type\": \"table\"}]}, \"layout\": {\"annotationdefaults\": {\"arrowcolor\": \"#2a3f5f\", \"arrowhead\": 0, \"arrowwidth\": 1}, \"coloraxis\": {\"colorbar\": {\"outlinewidth\": 0, \"ticks\": \"\"}}, \"colorscale\": {\"diverging\": [[0, \"#8e0152\"], [0.1, \"#c51b7d\"], [0.2, \"#de77ae\"], [0.3, \"#f1b6da\"], [0.4, \"#fde0ef\"], [0.5, \"#f7f7f7\"], [0.6, \"#e6f5d0\"], [0.7, \"#b8e186\"], [0.8, \"#7fbc41\"], [0.9, \"#4d9221\"], [1, \"#276419\"]], \"sequential\": [[0.0, \"#0d0887\"], [0.1111111111111111, \"#46039f\"], [0.2222222222222222, \"#7201a8\"], [0.3333333333333333, \"#9c179e\"], [0.4444444444444444, \"#bd3786\"], [0.5555555555555556, \"#d8576b\"], [0.6666666666666666, \"#ed7953\"], [0.7777777777777778, \"#fb9f3a\"], [0.8888888888888888, \"#fdca26\"], [1.0, \"#f0f921\"]], \"sequentialminus\": [[0.0, \"#0d0887\"], [0.1111111111111111, \"#46039f\"], [0.2222222222222222, \"#7201a8\"], [0.3333333333333333, \"#9c179e\"], [0.4444444444444444, \"#bd3786\"], [0.5555555555555556, \"#d8576b\"], [0.6666666666666666, \"#ed7953\"], [0.7777777777777778, \"#fb9f3a\"], [0.8888888888888888, \"#fdca26\"], [1.0, \"#f0f921\"]]}, \"colorway\": [\"#636efa\", \"#EF553B\", \"#00cc96\", \"#ab63fa\", \"#FFA15A\", \"#19d3f3\", \"#FF6692\", \"#B6E880\", \"#FF97FF\", \"#FECB52\"], \"font\": {\"color\": \"#2a3f5f\"}, \"geo\": {\"bgcolor\": \"white\", \"lakecolor\": \"white\", \"landcolor\": \"#E5ECF6\", \"showlakes\": true, \"showland\": true, \"subunitcolor\": \"white\"}, \"hoverlabel\": {\"align\": \"left\"}, \"hovermode\": \"closest\", \"mapbox\": {\"style\": \"light\"}, \"paper_bgcolor\": \"white\", \"plot_bgcolor\": \"#E5ECF6\", \"polar\": {\"angularaxis\": {\"gridcolor\": \"white\", \"linecolor\": \"white\", \"ticks\": \"\"}, \"bgcolor\": \"#E5ECF6\", \"radialaxis\": {\"gridcolor\": \"white\", \"linecolor\": \"white\", \"ticks\": \"\"}}, \"scene\": {\"xaxis\": {\"backgroundcolor\": \"#E5ECF6\", \"gridcolor\": \"white\", \"gridwidth\": 2, \"linecolor\": \"white\", \"showbackground\": true, \"ticks\": \"\", \"zerolinecolor\": \"white\"}, \"yaxis\": {\"backgroundcolor\": \"#E5ECF6\", \"gridcolor\": \"white\", \"gridwidth\": 2, \"linecolor\": \"white\", \"showbackground\": true, \"ticks\": \"\", \"zerolinecolor\": \"white\"}, \"zaxis\": {\"backgroundcolor\": \"#E5ECF6\", \"gridcolor\": \"white\", \"gridwidth\": 2, \"linecolor\": \"white\", \"showbackground\": true, \"ticks\": \"\", \"zerolinecolor\": \"white\"}}, \"shapedefaults\": {\"line\": {\"color\": \"#2a3f5f\"}}, \"ternary\": {\"aaxis\": {\"gridcolor\": \"white\", \"linecolor\": \"white\", \"ticks\": \"\"}, \"baxis\": {\"gridcolor\": \"white\", \"linecolor\": \"white\", \"ticks\": \"\"}, \"bgcolor\": \"#E5ECF6\", \"caxis\": {\"gridcolor\": \"white\", \"linecolor\": \"white\", \"ticks\": \"\"}}, \"title\": {\"x\": 0.05}, \"xaxis\": {\"automargin\": true, \"gridcolor\": \"white\", \"linecolor\": \"white\", \"ticks\": \"\", \"title\": {\"standoff\": 15}, \"zerolinecolor\": \"white\", \"zerolinewidth\": 2}, \"yaxis\": {\"automargin\": true, \"gridcolor\": \"white\", \"linecolor\": \"white\", \"ticks\": \"\", \"title\": {\"standoff\": 15}, \"zerolinecolor\": \"white\", \"zerolinewidth\": 2}}}, \"xaxis\": {\"anchor\": \"y2\", \"domain\": [0.0, 1.0], \"zeroline\": false}, \"yaxis\": {\"anchor\": \"free\", \"domain\": [0.35, 1], \"position\": 0.0}, \"yaxis2\": {\"anchor\": \"x\", \"domain\": [0, 0.25], \"dtick\": 1, \"showticklabels\": false}},\n",
              "                        {\"responsive\": true}\n",
              "                    ).then(function(){\n",
              "                            \n",
              "var gd = document.getElementById('022447a9-ecc5-468a-bc9c-e6983cfd1e3c');\n",
              "var x = new MutationObserver(function (mutations, observer) {{\n",
              "        var display = window.getComputedStyle(gd).display;\n",
              "        if (!display || display === 'none') {{\n",
              "            console.log([gd, 'removed!']);\n",
              "            Plotly.purge(gd);\n",
              "            observer.disconnect();\n",
              "        }}\n",
              "}});\n",
              "\n",
              "// Listen for the removal of the full notebook cells\n",
              "var notebookContainer = gd.closest('#notebook-container');\n",
              "if (notebookContainer) {{\n",
              "    x.observe(notebookContainer, {childList: true});\n",
              "}}\n",
              "\n",
              "// Listen for the clearing of the current output cell\n",
              "var outputEl = gd.closest('.output');\n",
              "if (outputEl) {{\n",
              "    x.observe(outputEl, {childList: true});\n",
              "}}\n",
              "\n",
              "                        })\n",
              "                };\n",
              "                \n",
              "            </script>\n",
              "        </div>\n",
              "</body>\n",
              "</html>"
            ]
          },
          "metadata": {
            "tags": []
          }
        }
      ]
    },
    {
      "cell_type": "markdown",
      "metadata": {
        "id": "Ak3uuTTCu7v6",
        "colab_type": "text"
      },
      "source": [
        "**Distribuição normal dos dados, acima**"
      ]
    },
    {
      "cell_type": "markdown",
      "metadata": {
        "id": "i1fmOctVwMMS",
        "colab_type": "text"
      },
      "source": [
        "**Visualizar outliers (dados discrepantes)**"
      ]
    },
    {
      "cell_type": "code",
      "metadata": {
        "id": "L7jlnGcwujyk",
        "colab_type": "code",
        "outputId": "d5a48cb1-32b4-4802-81f3-97d2f44f417c",
        "colab": {
          "base_uri": "https://localhost:8080/",
          "height": 817
        }
      },
      "source": [
        "import plotly.express as px\n",
        "\n",
        "fig = px.box(dados, y='RM')\n",
        "fig.update_layout(width=800, height=800)\n",
        "fig.show()"
      ],
      "execution_count": 0,
      "outputs": [
        {
          "output_type": "display_data",
          "data": {
            "text/html": [
              "<html>\n",
              "<head><meta charset=\"utf-8\" /></head>\n",
              "<body>\n",
              "    <div>\n",
              "            <script src=\"https://cdnjs.cloudflare.com/ajax/libs/mathjax/2.7.5/MathJax.js?config=TeX-AMS-MML_SVG\"></script><script type=\"text/javascript\">if (window.MathJax) {MathJax.Hub.Config({SVG: {font: \"STIX-Web\"}});}</script>\n",
              "                <script type=\"text/javascript\">window.PlotlyConfig = {MathJaxConfig: 'local'};</script>\n",
              "        <script src=\"https://cdn.plot.ly/plotly-latest.min.js\"></script>    \n",
              "            <div id=\"3d02d03c-90b0-40d3-8b99-65b2b08c233a\" class=\"plotly-graph-div\" style=\"height:800px; width:800px;\"></div>\n",
              "            <script type=\"text/javascript\">\n",
              "                \n",
              "                    window.PLOTLYENV=window.PLOTLYENV || {};\n",
              "                    \n",
              "                if (document.getElementById(\"3d02d03c-90b0-40d3-8b99-65b2b08c233a\")) {\n",
              "                    Plotly.newPlot(\n",
              "                        '3d02d03c-90b0-40d3-8b99-65b2b08c233a',\n",
              "                        [{\"alignmentgroup\": \"True\", \"hoverlabel\": {\"namelength\": 0}, \"hovertemplate\": \"RM=%{y}\", \"legendgroup\": \"\", \"marker\": {\"color\": \"#636efa\"}, \"name\": \"\", \"notched\": false, \"offsetgroup\": \"\", \"orientation\": \"v\", \"showlegend\": false, \"type\": \"box\", \"x0\": \" \", \"xaxis\": \"x\", \"y\": [6.575, 6.421, 7.185, 6.998, 7.147, 6.43, 6.012, 6.172, 5.631, 6.004, 6.377, 6.009, 5.889, 5.949, 6.096, 5.834, 5.935, 5.99, 5.456, 5.727, 5.57, 5.965, 6.142, 5.813, 5.924, 5.599, 5.813, 6.047, 6.495, 6.674, 5.713, 6.072, 5.95, 5.701, 6.096, 5.933, 5.841, 5.85, 5.966, 6.595, 7.024, 6.77, 6.169, 6.211, 6.069, 5.682, 5.786, 6.03, 5.399, 5.602, 5.963, 6.115, 6.511, 5.998, 5.888, 7.249, 6.383, 6.816, 6.145, 5.927, 5.741, 5.966, 6.456, 6.762, 7.104, 6.29, 5.787, 5.878, 5.594, 5.885, 6.417, 5.961, 6.065, 6.245, 6.273, 6.286, 6.279, 6.14, 6.232, 5.874, 6.727, 6.619, 6.302, 6.167, 6.389, 6.63, 6.015, 6.121, 7.007, 7.079, 6.417, 6.405, 6.442, 6.211, 6.249, 6.625, 6.163, 8.069, 7.82, 7.416, 6.727, 6.781, 6.405, 6.137, 6.167, 5.851, 5.836, 6.127, 6.474, 6.229, 6.195, 6.715, 5.913, 6.092, 6.254, 5.928, 6.176, 6.021, 5.872, 5.731, 5.87, 6.004, 5.961, 5.856, 5.879, 5.986, 5.613, 5.693, 6.431, 5.637, 6.458, 6.326, 6.372, 5.822, 5.757, 6.335, 5.942, 6.454, 5.857, 6.151, 6.174, 5.019, 5.403, 5.468, 4.903, 6.13, 5.628, 4.926, 5.186, 5.597, 6.122, 5.404, 5.012, 5.709, 6.129, 6.152, 5.272, 6.943, 6.066, 6.51, 6.25, 7.489, 7.802, 8.375, 5.854, 6.101, 7.929, 5.877, 6.319, 6.402, 5.875, 5.88, 5.572, 6.416, 5.859, 6.546, 6.02, 6.315, 6.86, 6.98, 7.765, 6.144, 7.155, 6.563, 5.604, 6.153, 7.831, 6.782, 6.556, 7.185, 6.951, 6.739, 7.178, 6.8, 6.604, 7.875, 7.287, 7.107, 7.274, 6.975, 7.135, 6.162, 7.61, 7.853, 8.034, 5.891, 6.326, 5.783, 6.064, 5.344, 5.96, 5.404, 5.807, 6.375, 5.412, 6.182, 5.888, 6.642, 5.951, 6.373, 6.951, 6.164, 6.879, 6.618, 8.266, 8.725, 8.04, 7.163, 7.686, 6.552, 5.981, 7.412, 8.337, 8.247, 6.726, 6.086, 6.631, 7.358, 6.481, 6.606, 6.897, 6.095, 6.358, 6.393, 5.593, 5.605, 6.108, 6.226, 6.433, 6.718, 6.487, 6.438, 6.957, 8.259, 6.108, 5.876, 7.454, 8.704, 7.333, 6.842, 7.203, 7.52, 8.398, 7.327, 7.206, 5.56, 7.014, 8.297, 7.47, 5.92, 5.856, 6.24, 6.538, 7.691, 6.758, 6.854, 7.267, 6.826, 6.482, 6.812, 7.82, 6.968, 7.645, 7.923, 7.088, 6.453, 6.23, 6.209, 6.315, 6.565, 6.861, 7.148, 6.63, 6.127, 6.009, 6.678, 6.549, 5.79, 6.345, 7.041, 6.871, 6.59, 6.495, 6.982, 7.236, 6.616, 7.42, 6.849, 6.635, 5.972, 4.973, 6.122, 6.023, 6.266, 6.567, 5.705, 5.914, 5.782, 6.382, 6.113, 6.426, 6.376, 6.041, 5.708, 6.415, 6.431, 6.312, 6.083, 5.868, 6.333, 6.144, 5.706, 6.031, 6.316, 6.31, 6.037, 5.869, 5.895, 6.059, 5.985, 5.968, 7.241, 6.54, 6.696, 6.874, 6.014, 5.898, 6.516, 6.635, 6.939, 6.49, 6.579, 5.884, 6.728, 5.663, 5.936, 6.212, 6.395, 6.127, 6.112, 6.398, 6.251, 5.362, 5.803, 8.78, 3.561, 4.963, 3.863, 4.97, 6.683, 7.016, 6.216, 5.875, 4.906, 4.138, 7.313, 6.649, 6.794, 6.38, 6.223, 6.968, 6.545, 5.536, 5.52, 4.368, 5.277, 4.652, 5.0, 4.88, 5.39, 5.713, 6.051, 5.036, 6.193, 5.887, 6.471, 6.405, 5.747, 5.453, 5.852, 5.987, 6.343, 6.404, 5.349, 5.531, 5.683, 4.138, 5.608, 5.617, 6.852, 5.757, 6.657, 4.628, 5.155, 4.519, 6.434, 6.782, 5.304, 5.957, 6.824, 6.411, 6.006, 5.648, 6.103, 5.565, 5.896, 5.837, 6.202, 6.193, 6.38, 6.348, 6.833, 6.425, 6.436, 6.208, 6.629, 6.461, 6.152, 5.935, 5.627, 5.818, 6.406, 6.219, 6.485, 5.854, 6.459, 6.341, 6.251, 6.185, 6.417, 6.749, 6.655, 6.297, 7.393, 6.728, 6.525, 5.976, 5.936, 6.301, 6.081, 6.701, 6.376, 6.317, 6.513, 6.209, 5.759, 5.952, 6.003, 5.926, 5.713, 6.167, 6.229, 6.437, 6.98, 5.427, 6.162, 6.484, 5.304, 6.185, 6.229, 6.242, 6.75, 7.061, 5.762, 5.871, 6.312, 6.114, 5.905, 5.454, 5.414, 5.093, 5.983, 5.983, 5.707, 5.926, 5.67, 5.39, 5.794, 6.019, 5.569, 6.027, 6.593, 6.12, 6.976, 6.794, 6.03], \"y0\": \" \", \"yaxis\": \"y\"}],\n",
              "                        {\"boxmode\": \"group\", \"height\": 800, \"legend\": {\"tracegroupgap\": 0}, \"margin\": {\"t\": 60}, \"template\": {\"data\": {\"bar\": [{\"error_x\": {\"color\": \"#2a3f5f\"}, \"error_y\": {\"color\": \"#2a3f5f\"}, \"marker\": {\"line\": {\"color\": \"#E5ECF6\", \"width\": 0.5}}, \"type\": \"bar\"}], \"barpolar\": [{\"marker\": {\"line\": {\"color\": \"#E5ECF6\", \"width\": 0.5}}, \"type\": \"barpolar\"}], \"carpet\": [{\"aaxis\": {\"endlinecolor\": \"#2a3f5f\", \"gridcolor\": \"white\", \"linecolor\": \"white\", \"minorgridcolor\": \"white\", \"startlinecolor\": \"#2a3f5f\"}, \"baxis\": {\"endlinecolor\": \"#2a3f5f\", \"gridcolor\": \"white\", \"linecolor\": \"white\", \"minorgridcolor\": \"white\", \"startlinecolor\": \"#2a3f5f\"}, \"type\": \"carpet\"}], \"choropleth\": [{\"colorbar\": {\"outlinewidth\": 0, \"ticks\": \"\"}, \"type\": \"choropleth\"}], \"contour\": [{\"colorbar\": {\"outlinewidth\": 0, \"ticks\": \"\"}, \"colorscale\": [[0.0, \"#0d0887\"], [0.1111111111111111, \"#46039f\"], [0.2222222222222222, \"#7201a8\"], [0.3333333333333333, \"#9c179e\"], [0.4444444444444444, \"#bd3786\"], [0.5555555555555556, \"#d8576b\"], [0.6666666666666666, \"#ed7953\"], [0.7777777777777778, \"#fb9f3a\"], [0.8888888888888888, \"#fdca26\"], [1.0, \"#f0f921\"]], \"type\": \"contour\"}], \"contourcarpet\": [{\"colorbar\": {\"outlinewidth\": 0, \"ticks\": \"\"}, \"type\": \"contourcarpet\"}], \"heatmap\": [{\"colorbar\": {\"outlinewidth\": 0, \"ticks\": \"\"}, \"colorscale\": [[0.0, \"#0d0887\"], [0.1111111111111111, \"#46039f\"], [0.2222222222222222, \"#7201a8\"], [0.3333333333333333, \"#9c179e\"], [0.4444444444444444, \"#bd3786\"], [0.5555555555555556, \"#d8576b\"], [0.6666666666666666, \"#ed7953\"], [0.7777777777777778, \"#fb9f3a\"], [0.8888888888888888, \"#fdca26\"], [1.0, \"#f0f921\"]], \"type\": \"heatmap\"}], \"heatmapgl\": [{\"colorbar\": {\"outlinewidth\": 0, \"ticks\": \"\"}, \"colorscale\": [[0.0, \"#0d0887\"], [0.1111111111111111, \"#46039f\"], [0.2222222222222222, \"#7201a8\"], [0.3333333333333333, \"#9c179e\"], [0.4444444444444444, \"#bd3786\"], [0.5555555555555556, \"#d8576b\"], [0.6666666666666666, \"#ed7953\"], [0.7777777777777778, \"#fb9f3a\"], [0.8888888888888888, \"#fdca26\"], [1.0, \"#f0f921\"]], \"type\": \"heatmapgl\"}], \"histogram\": [{\"marker\": {\"colorbar\": {\"outlinewidth\": 0, \"ticks\": \"\"}}, \"type\": \"histogram\"}], \"histogram2d\": [{\"colorbar\": {\"outlinewidth\": 0, \"ticks\": \"\"}, \"colorscale\": [[0.0, \"#0d0887\"], [0.1111111111111111, \"#46039f\"], [0.2222222222222222, \"#7201a8\"], [0.3333333333333333, \"#9c179e\"], [0.4444444444444444, \"#bd3786\"], [0.5555555555555556, \"#d8576b\"], [0.6666666666666666, \"#ed7953\"], [0.7777777777777778, \"#fb9f3a\"], [0.8888888888888888, \"#fdca26\"], [1.0, \"#f0f921\"]], \"type\": \"histogram2d\"}], \"histogram2dcontour\": [{\"colorbar\": {\"outlinewidth\": 0, \"ticks\": \"\"}, \"colorscale\": [[0.0, \"#0d0887\"], [0.1111111111111111, \"#46039f\"], [0.2222222222222222, \"#7201a8\"], [0.3333333333333333, \"#9c179e\"], [0.4444444444444444, \"#bd3786\"], [0.5555555555555556, \"#d8576b\"], [0.6666666666666666, \"#ed7953\"], [0.7777777777777778, \"#fb9f3a\"], [0.8888888888888888, \"#fdca26\"], [1.0, \"#f0f921\"]], \"type\": \"histogram2dcontour\"}], \"mesh3d\": [{\"colorbar\": {\"outlinewidth\": 0, \"ticks\": \"\"}, \"type\": \"mesh3d\"}], \"parcoords\": [{\"line\": {\"colorbar\": {\"outlinewidth\": 0, \"ticks\": \"\"}}, \"type\": \"parcoords\"}], \"pie\": [{\"automargin\": true, \"type\": \"pie\"}], \"scatter\": [{\"marker\": {\"colorbar\": {\"outlinewidth\": 0, \"ticks\": \"\"}}, \"type\": \"scatter\"}], \"scatter3d\": [{\"line\": {\"colorbar\": {\"outlinewidth\": 0, \"ticks\": \"\"}}, \"marker\": {\"colorbar\": {\"outlinewidth\": 0, \"ticks\": \"\"}}, \"type\": \"scatter3d\"}], \"scattercarpet\": [{\"marker\": {\"colorbar\": {\"outlinewidth\": 0, \"ticks\": \"\"}}, \"type\": \"scattercarpet\"}], \"scattergeo\": [{\"marker\": {\"colorbar\": {\"outlinewidth\": 0, \"ticks\": \"\"}}, \"type\": \"scattergeo\"}], \"scattergl\": [{\"marker\": {\"colorbar\": {\"outlinewidth\": 0, \"ticks\": \"\"}}, \"type\": \"scattergl\"}], \"scattermapbox\": [{\"marker\": {\"colorbar\": {\"outlinewidth\": 0, \"ticks\": \"\"}}, \"type\": \"scattermapbox\"}], \"scatterpolar\": [{\"marker\": {\"colorbar\": {\"outlinewidth\": 0, \"ticks\": \"\"}}, \"type\": \"scatterpolar\"}], \"scatterpolargl\": [{\"marker\": {\"colorbar\": {\"outlinewidth\": 0, \"ticks\": \"\"}}, \"type\": \"scatterpolargl\"}], \"scatterternary\": [{\"marker\": {\"colorbar\": {\"outlinewidth\": 0, \"ticks\": \"\"}}, \"type\": \"scatterternary\"}], \"surface\": [{\"colorbar\": {\"outlinewidth\": 0, \"ticks\": \"\"}, \"colorscale\": [[0.0, \"#0d0887\"], [0.1111111111111111, \"#46039f\"], [0.2222222222222222, \"#7201a8\"], [0.3333333333333333, \"#9c179e\"], [0.4444444444444444, \"#bd3786\"], [0.5555555555555556, \"#d8576b\"], [0.6666666666666666, \"#ed7953\"], [0.7777777777777778, \"#fb9f3a\"], [0.8888888888888888, \"#fdca26\"], [1.0, \"#f0f921\"]], \"type\": \"surface\"}], \"table\": [{\"cells\": {\"fill\": {\"color\": \"#EBF0F8\"}, \"line\": {\"color\": \"white\"}}, \"header\": {\"fill\": {\"color\": \"#C8D4E3\"}, \"line\": {\"color\": \"white\"}}, \"type\": \"table\"}]}, \"layout\": {\"annotationdefaults\": {\"arrowcolor\": \"#2a3f5f\", \"arrowhead\": 0, \"arrowwidth\": 1}, \"coloraxis\": {\"colorbar\": {\"outlinewidth\": 0, \"ticks\": \"\"}}, \"colorscale\": {\"diverging\": [[0, \"#8e0152\"], [0.1, \"#c51b7d\"], [0.2, \"#de77ae\"], [0.3, \"#f1b6da\"], [0.4, \"#fde0ef\"], [0.5, \"#f7f7f7\"], [0.6, \"#e6f5d0\"], [0.7, \"#b8e186\"], [0.8, \"#7fbc41\"], [0.9, \"#4d9221\"], [1, \"#276419\"]], \"sequential\": [[0.0, \"#0d0887\"], [0.1111111111111111, \"#46039f\"], [0.2222222222222222, \"#7201a8\"], [0.3333333333333333, \"#9c179e\"], [0.4444444444444444, \"#bd3786\"], [0.5555555555555556, \"#d8576b\"], [0.6666666666666666, \"#ed7953\"], [0.7777777777777778, \"#fb9f3a\"], [0.8888888888888888, \"#fdca26\"], [1.0, \"#f0f921\"]], \"sequentialminus\": [[0.0, \"#0d0887\"], [0.1111111111111111, \"#46039f\"], [0.2222222222222222, \"#7201a8\"], [0.3333333333333333, \"#9c179e\"], [0.4444444444444444, \"#bd3786\"], [0.5555555555555556, \"#d8576b\"], [0.6666666666666666, \"#ed7953\"], [0.7777777777777778, \"#fb9f3a\"], [0.8888888888888888, \"#fdca26\"], [1.0, \"#f0f921\"]]}, \"colorway\": [\"#636efa\", \"#EF553B\", \"#00cc96\", \"#ab63fa\", \"#FFA15A\", \"#19d3f3\", \"#FF6692\", \"#B6E880\", \"#FF97FF\", \"#FECB52\"], \"font\": {\"color\": \"#2a3f5f\"}, \"geo\": {\"bgcolor\": \"white\", \"lakecolor\": \"white\", \"landcolor\": \"#E5ECF6\", \"showlakes\": true, \"showland\": true, \"subunitcolor\": \"white\"}, \"hoverlabel\": {\"align\": \"left\"}, \"hovermode\": \"closest\", \"mapbox\": {\"style\": \"light\"}, \"paper_bgcolor\": \"white\", \"plot_bgcolor\": \"#E5ECF6\", \"polar\": {\"angularaxis\": {\"gridcolor\": \"white\", \"linecolor\": \"white\", \"ticks\": \"\"}, \"bgcolor\": \"#E5ECF6\", \"radialaxis\": {\"gridcolor\": \"white\", \"linecolor\": \"white\", \"ticks\": \"\"}}, \"scene\": {\"xaxis\": {\"backgroundcolor\": \"#E5ECF6\", \"gridcolor\": \"white\", \"gridwidth\": 2, \"linecolor\": \"white\", \"showbackground\": true, \"ticks\": \"\", \"zerolinecolor\": \"white\"}, \"yaxis\": {\"backgroundcolor\": \"#E5ECF6\", \"gridcolor\": \"white\", \"gridwidth\": 2, \"linecolor\": \"white\", \"showbackground\": true, \"ticks\": \"\", \"zerolinecolor\": \"white\"}, \"zaxis\": {\"backgroundcolor\": \"#E5ECF6\", \"gridcolor\": \"white\", \"gridwidth\": 2, \"linecolor\": \"white\", \"showbackground\": true, \"ticks\": \"\", \"zerolinecolor\": \"white\"}}, \"shapedefaults\": {\"line\": {\"color\": \"#2a3f5f\"}}, \"ternary\": {\"aaxis\": {\"gridcolor\": \"white\", \"linecolor\": \"white\", \"ticks\": \"\"}, \"baxis\": {\"gridcolor\": \"white\", \"linecolor\": \"white\", \"ticks\": \"\"}, \"bgcolor\": \"#E5ECF6\", \"caxis\": {\"gridcolor\": \"white\", \"linecolor\": \"white\", \"ticks\": \"\"}}, \"title\": {\"x\": 0.05}, \"xaxis\": {\"automargin\": true, \"gridcolor\": \"white\", \"linecolor\": \"white\", \"ticks\": \"\", \"title\": {\"standoff\": 15}, \"zerolinecolor\": \"white\", \"zerolinewidth\": 2}, \"yaxis\": {\"automargin\": true, \"gridcolor\": \"white\", \"linecolor\": \"white\", \"ticks\": \"\", \"title\": {\"standoff\": 15}, \"zerolinecolor\": \"white\", \"zerolinewidth\": 2}}}, \"width\": 800, \"xaxis\": {\"anchor\": \"y\", \"domain\": [0.0, 1.0]}, \"yaxis\": {\"anchor\": \"x\", \"domain\": [0.0, 1.0], \"title\": {\"text\": \"RM\"}}},\n",
              "                        {\"responsive\": true}\n",
              "                    ).then(function(){\n",
              "                            \n",
              "var gd = document.getElementById('3d02d03c-90b0-40d3-8b99-65b2b08c233a');\n",
              "var x = new MutationObserver(function (mutations, observer) {{\n",
              "        var display = window.getComputedStyle(gd).display;\n",
              "        if (!display || display === 'none') {{\n",
              "            console.log([gd, 'removed!']);\n",
              "            Plotly.purge(gd);\n",
              "            observer.disconnect();\n",
              "        }}\n",
              "}});\n",
              "\n",
              "// Listen for the removal of the full notebook cells\n",
              "var notebookContainer = gd.closest('#notebook-container');\n",
              "if (notebookContainer) {{\n",
              "    x.observe(notebookContainer, {childList: true});\n",
              "}}\n",
              "\n",
              "// Listen for the clearing of the current output cell\n",
              "var outputEl = gd.closest('.output');\n",
              "if (outputEl) {{\n",
              "    x.observe(outputEl, {childList: true});\n",
              "}}\n",
              "\n",
              "                        })\n",
              "                };\n",
              "                \n",
              "            </script>\n",
              "        </div>\n",
              "</body>\n",
              "</html>"
            ]
          },
          "metadata": {
            "tags": []
          }
        }
      ]
    },
    {
      "cell_type": "markdown",
      "metadata": {
        "id": "Q4JVwBL7xFEX",
        "colab_type": "text"
      },
      "source": [
        "**Box-plot para os dados, acima**"
      ]
    },
    {
      "cell_type": "code",
      "metadata": {
        "id": "KXGVBlFUwg1n",
        "colab_type": "code",
        "outputId": "58e1710d-8c93-480d-c4c9-c55815bdd961",
        "colab": {
          "base_uri": "https://localhost:8080/",
          "height": 170
        }
      },
      "source": [
        "dados.MEDV.describe()"
      ],
      "execution_count": 0,
      "outputs": [
        {
          "output_type": "execute_result",
          "data": {
            "text/plain": [
              "count    506.000000\n",
              "mean      22.532806\n",
              "std        9.197104\n",
              "min        5.000000\n",
              "25%       17.025000\n",
              "50%       21.200000\n",
              "75%       25.000000\n",
              "max       50.000000\n",
              "Name: MEDV, dtype: float64"
            ]
          },
          "metadata": {
            "tags": []
          },
          "execution_count": 23
        }
      ]
    },
    {
      "cell_type": "code",
      "metadata": {
        "id": "dVO43cEcxQtQ",
        "colab_type": "code",
        "outputId": "f4016208-2b33-4ed2-a023-bf455c988a45",
        "colab": {
          "base_uri": "https://localhost:8080/",
          "height": 542
        }
      },
      "source": [
        "label = ['Distribuição da label MEDV (Preço correspondente para o imóvel)']\n",
        "fig = ff.create_distplot([dados.MEDV], label, bin_size=.2)\n",
        "fig.show()"
      ],
      "execution_count": 0,
      "outputs": [
        {
          "output_type": "display_data",
          "data": {
            "text/html": [
              "<html>\n",
              "<head><meta charset=\"utf-8\" /></head>\n",
              "<body>\n",
              "    <div>\n",
              "            <script src=\"https://cdnjs.cloudflare.com/ajax/libs/mathjax/2.7.5/MathJax.js?config=TeX-AMS-MML_SVG\"></script><script type=\"text/javascript\">if (window.MathJax) {MathJax.Hub.Config({SVG: {font: \"STIX-Web\"}});}</script>\n",
              "                <script type=\"text/javascript\">window.PlotlyConfig = {MathJaxConfig: 'local'};</script>\n",
              "        <script src=\"https://cdn.plot.ly/plotly-latest.min.js\"></script>    \n",
              "            <div id=\"9c512790-0978-488c-9c09-2c5cf5134e49\" class=\"plotly-graph-div\" style=\"height:525px; width:100%;\"></div>\n",
              "            <script type=\"text/javascript\">\n",
              "                \n",
              "                    window.PLOTLYENV=window.PLOTLYENV || {};\n",
              "                    \n",
              "                if (document.getElementById(\"9c512790-0978-488c-9c09-2c5cf5134e49\")) {\n",
              "                    Plotly.newPlot(\n",
              "                        '9c512790-0978-488c-9c09-2c5cf5134e49',\n",
              "                        [{\"autobinx\": false, \"histnorm\": \"probability density\", \"legendgroup\": \"Distribui\\u00e7\\u00e3o da label MEDV (Pre\\u00e7o correspondente para o im\\u00f3vel)\", \"marker\": {\"color\": \"rgb(31, 119, 180)\"}, \"name\": \"Distribui\\u00e7\\u00e3o da label MEDV (Pre\\u00e7o correspondente para o im\\u00f3vel)\", \"opacity\": 0.7, \"type\": \"histogram\", \"x\": [24.0, 21.6, 34.7, 33.4, 36.2, 28.7, 22.9, 27.1, 16.5, 18.9, 15.0, 18.9, 21.7, 20.4, 18.2, 19.9, 23.1, 17.5, 20.2, 18.2, 13.6, 19.6, 15.2, 14.5, 15.6, 13.9, 16.6, 14.8, 18.4, 21.0, 12.7, 14.5, 13.2, 13.1, 13.5, 18.9, 20.0, 21.0, 24.7, 30.8, 34.9, 26.6, 25.3, 24.7, 21.2, 19.3, 20.0, 16.6, 14.4, 19.4, 19.7, 20.5, 25.0, 23.4, 18.9, 35.4, 24.7, 31.6, 23.3, 19.6, 18.7, 16.0, 22.2, 25.0, 33.0, 23.5, 19.4, 22.0, 17.4, 20.9, 24.2, 21.7, 22.8, 23.4, 24.1, 21.4, 20.0, 20.8, 21.2, 20.3, 28.0, 23.9, 24.8, 22.9, 23.9, 26.6, 22.5, 22.2, 23.6, 28.7, 22.6, 22.0, 22.9, 25.0, 20.6, 28.4, 21.4, 38.7, 43.8, 33.2, 27.5, 26.5, 18.6, 19.3, 20.1, 19.5, 19.5, 20.4, 19.8, 19.4, 21.7, 22.8, 18.8, 18.7, 18.5, 18.3, 21.2, 19.2, 20.4, 19.3, 22.0, 20.3, 20.5, 17.3, 18.8, 21.4, 15.7, 16.2, 18.0, 14.3, 19.2, 19.6, 23.0, 18.4, 15.6, 18.1, 17.4, 17.1, 13.3, 17.8, 14.0, 14.4, 13.4, 15.6, 11.8, 13.8, 15.6, 14.6, 17.8, 15.4, 21.5, 19.6, 15.3, 19.4, 17.0, 15.6, 13.1, 41.3, 24.3, 23.3, 27.0, 50.0, 50.0, 50.0, 22.7, 25.0, 50.0, 23.8, 23.8, 22.3, 17.4, 19.1, 23.1, 23.6, 22.6, 29.4, 23.2, 24.6, 29.9, 37.2, 39.8, 36.2, 37.9, 32.5, 26.4, 29.6, 50.0, 32.0, 29.8, 34.9, 37.0, 30.5, 36.4, 31.1, 29.1, 50.0, 33.3, 30.3, 34.6, 34.9, 32.9, 24.1, 42.3, 48.5, 50.0, 22.6, 24.4, 22.5, 24.4, 20.0, 21.7, 19.3, 22.4, 28.1, 23.7, 25.0, 23.3, 28.7, 21.5, 23.0, 26.7, 21.7, 27.5, 30.1, 44.8, 50.0, 37.6, 31.6, 46.7, 31.5, 24.3, 31.7, 41.7, 48.3, 29.0, 24.0, 25.1, 31.5, 23.7, 23.3, 22.0, 20.1, 22.2, 23.7, 17.6, 18.5, 24.3, 20.5, 24.5, 26.2, 24.4, 24.8, 29.6, 42.8, 21.9, 20.9, 44.0, 50.0, 36.0, 30.1, 33.8, 43.1, 48.8, 31.0, 36.5, 22.8, 30.7, 50.0, 43.5, 20.7, 21.1, 25.2, 24.4, 35.2, 32.4, 32.0, 33.2, 33.1, 29.1, 35.1, 45.4, 35.4, 46.0, 50.0, 32.2, 22.0, 20.1, 23.2, 22.3, 24.8, 28.5, 37.3, 27.9, 23.9, 21.7, 28.6, 27.1, 20.3, 22.5, 29.0, 24.8, 22.0, 26.4, 33.1, 36.1, 28.4, 33.4, 28.2, 22.8, 20.3, 16.1, 22.1, 19.4, 21.6, 23.8, 16.2, 17.8, 19.8, 23.1, 21.0, 23.8, 23.1, 20.4, 18.5, 25.0, 24.6, 23.0, 22.2, 19.3, 22.6, 19.8, 17.1, 19.4, 22.2, 20.7, 21.1, 19.5, 18.5, 20.6, 19.0, 18.7, 32.7, 16.5, 23.9, 31.2, 17.5, 17.2, 23.1, 24.5, 26.6, 22.9, 24.1, 18.6, 30.1, 18.2, 20.6, 17.8, 21.7, 22.7, 22.6, 25.0, 19.9, 20.8, 16.8, 21.9, 27.5, 21.9, 23.1, 50.0, 50.0, 50.0, 50.0, 50.0, 13.8, 13.8, 15.0, 13.9, 13.3, 13.1, 10.2, 10.4, 10.9, 11.3, 12.3, 8.8, 7.2, 10.5, 7.4, 10.2, 11.5, 15.1, 23.2, 9.7, 13.8, 12.7, 13.1, 12.5, 8.5, 5.0, 6.3, 5.6, 7.2, 12.1, 8.3, 8.5, 5.0, 11.9, 27.9, 17.2, 27.5, 15.0, 17.2, 17.9, 16.3, 7.0, 7.2, 7.5, 10.4, 8.8, 8.4, 16.7, 14.2, 20.8, 13.4, 11.7, 8.3, 10.2, 10.9, 11.0, 9.5, 14.5, 14.1, 16.1, 14.3, 11.7, 13.4, 9.6, 8.7, 8.4, 12.8, 10.5, 17.1, 18.4, 15.4, 10.8, 11.8, 14.9, 12.6, 14.1, 13.0, 13.4, 15.2, 16.1, 17.8, 14.9, 14.1, 12.7, 13.5, 14.9, 20.0, 16.4, 17.7, 19.5, 20.2, 21.4, 19.9, 19.0, 19.1, 19.1, 20.1, 19.9, 19.6, 23.2, 29.8, 13.8, 13.3, 16.7, 12.0, 14.6, 21.4, 23.0, 23.7, 25.0, 21.8, 20.6, 21.2, 19.1, 20.6, 15.2, 7.0, 8.1, 13.6, 20.1, 21.8, 24.5, 23.1, 19.7, 18.3, 21.2, 17.5, 16.8, 22.4, 20.6, 23.9, 22.0, 11.9], \"xaxis\": \"x\", \"xbins\": {\"end\": 50.0, \"size\": 0.2, \"start\": 5.0}, \"yaxis\": \"y\"}, {\"legendgroup\": \"Distribui\\u00e7\\u00e3o da label MEDV (Pre\\u00e7o correspondente para o im\\u00f3vel)\", \"marker\": {\"color\": \"rgb(31, 119, 180)\"}, \"mode\": \"lines\", \"name\": \"Distribui\\u00e7\\u00e3o da label MEDV (Pre\\u00e7o correspondente para o im\\u00f3vel)\", \"showlegend\": false, \"type\": \"scatter\", \"x\": [5.0, 5.09, 5.18, 5.27, 5.36, 5.45, 5.54, 5.63, 5.72, 5.8100000000000005, 5.9, 5.99, 6.08, 6.17, 6.26, 6.35, 6.4399999999999995, 6.53, 6.62, 6.71, 6.8, 6.89, 6.98, 7.07, 7.16, 7.25, 7.34, 7.43, 7.52, 7.609999999999999, 7.7, 7.79, 7.88, 7.970000000000001, 8.06, 8.15, 8.24, 8.33, 8.42, 8.51, 8.6, 8.69, 8.78, 8.870000000000001, 8.96, 9.05, 9.14, 9.23, 9.32, 9.41, 9.5, 9.59, 9.68, 9.77, 9.86, 9.95, 10.04, 10.129999999999999, 10.219999999999999, 10.309999999999999, 10.4, 10.49, 10.58, 10.67, 10.76, 10.85, 10.940000000000001, 11.030000000000001, 11.120000000000001, 11.21, 11.3, 11.39, 11.48, 11.57, 11.66, 11.75, 11.84, 11.93, 12.02, 12.11, 12.2, 12.29, 12.379999999999999, 12.469999999999999, 12.559999999999999, 12.65, 12.74, 12.83, 12.92, 13.01, 13.1, 13.19, 13.28, 13.37, 13.46, 13.55, 13.64, 13.73, 13.82, 13.91, 14.0, 14.09, 14.18, 14.27, 14.36, 14.45, 14.54, 14.63, 14.72, 14.81, 14.9, 14.99, 15.08, 15.17, 15.26, 15.35, 15.44, 15.53, 15.62, 15.71, 15.8, 15.89, 15.98, 16.07, 16.16, 16.25, 16.34, 16.43, 16.52, 16.61, 16.7, 16.79, 16.880000000000003, 16.97, 17.060000000000002, 17.15, 17.240000000000002, 17.33, 17.42, 17.509999999999998, 17.6, 17.689999999999998, 17.78, 17.869999999999997, 17.96, 18.05, 18.14, 18.23, 18.32, 18.41, 18.5, 18.59, 18.68, 18.77, 18.86, 18.95, 19.04, 19.130000000000003, 19.22, 19.310000000000002, 19.4, 19.490000000000002, 19.58, 19.67, 19.759999999999998, 19.85, 19.939999999999998, 20.03, 20.119999999999997, 20.21, 20.3, 20.39, 20.48, 20.57, 20.66, 20.75, 20.84, 20.93, 21.02, 21.11, 21.2, 21.29, 21.38, 21.47, 21.56, 21.65, 21.74, 21.83, 21.92, 22.01, 22.1, 22.19, 22.28, 22.37, 22.46, 22.55, 22.64, 22.73, 22.82, 22.91, 23.0, 23.09, 23.18, 23.27, 23.36, 23.45, 23.54, 23.63, 23.72, 23.81, 23.9, 23.99, 24.08, 24.17, 24.26, 24.35, 24.44, 24.53, 24.62, 24.71, 24.8, 24.89, 24.98, 25.07, 25.16, 25.25, 25.34, 25.43, 25.52, 25.61, 25.7, 25.79, 25.88, 25.97, 26.06, 26.15, 26.24, 26.33, 26.42, 26.51, 26.6, 26.69, 26.78, 26.87, 26.96, 27.05, 27.14, 27.23, 27.32, 27.41, 27.5, 27.59, 27.68, 27.77, 27.86, 27.95, 28.04, 28.13, 28.22, 28.31, 28.4, 28.49, 28.58, 28.67, 28.76, 28.85, 28.94, 29.03, 29.12, 29.21, 29.3, 29.39, 29.48, 29.57, 29.66, 29.75, 29.84, 29.93, 30.02, 30.11, 30.2, 30.29, 30.38, 30.47, 30.56, 30.65, 30.74, 30.83, 30.92, 31.01, 31.1, 31.19, 31.28, 31.37, 31.46, 31.55, 31.64, 31.73, 31.82, 31.91, 32.0, 32.09, 32.18, 32.269999999999996, 32.36, 32.45, 32.54, 32.629999999999995, 32.72, 32.81, 32.9, 32.989999999999995, 33.08, 33.17, 33.260000000000005, 33.35, 33.44, 33.53, 33.620000000000005, 33.71, 33.8, 33.89, 33.980000000000004, 34.07, 34.16, 34.25, 34.34, 34.43, 34.519999999999996, 34.61, 34.7, 34.79, 34.879999999999995, 34.97, 35.06, 35.15, 35.239999999999995, 35.33, 35.42, 35.510000000000005, 35.6, 35.69, 35.78, 35.870000000000005, 35.96, 36.05, 36.14, 36.230000000000004, 36.32, 36.41, 36.5, 36.59, 36.68, 36.769999999999996, 36.86, 36.95, 37.04, 37.13, 37.22, 37.31, 37.4, 37.49, 37.58, 37.67, 37.76, 37.85, 37.94, 38.03, 38.12, 38.21, 38.3, 38.39, 38.48, 38.57, 38.66, 38.75, 38.84, 38.93, 39.02, 39.11, 39.2, 39.29, 39.38, 39.47, 39.56, 39.65, 39.74, 39.83, 39.92, 40.01, 40.1, 40.19, 40.28, 40.37, 40.46, 40.55, 40.64, 40.73, 40.82, 40.91, 41.0, 41.09, 41.18, 41.27, 41.36, 41.45, 41.54, 41.63, 41.72, 41.81, 41.9, 41.99, 42.08, 42.17, 42.26, 42.35, 42.44, 42.53, 42.62, 42.71, 42.8, 42.89, 42.98, 43.07, 43.16, 43.25, 43.34, 43.43, 43.52, 43.61, 43.7, 43.79, 43.88, 43.97, 44.06, 44.15, 44.24, 44.33, 44.42, 44.51, 44.6, 44.69, 44.78, 44.87, 44.96, 45.05, 45.14, 45.23, 45.32, 45.41, 45.5, 45.59, 45.68, 45.77, 45.86, 45.95, 46.04, 46.13, 46.22, 46.31, 46.4, 46.49, 46.58, 46.67, 46.76, 46.85, 46.94, 47.03, 47.12, 47.21, 47.3, 47.39, 47.48, 47.57, 47.66, 47.75, 47.84, 47.93, 48.02, 48.11, 48.2, 48.29, 48.38, 48.47, 48.56, 48.65, 48.74, 48.83, 48.92, 49.01, 49.1, 49.19, 49.28, 49.37, 49.46, 49.55, 49.64, 49.73, 49.82, 49.91], \"xaxis\": \"x\", \"y\": [0.004654501269325038, 0.004817597615044198, 0.0049834657544565635, 0.0051520479046582475, 0.0053232851656982915, 0.005497117926215968, 0.005673486282360313, 0.005852330467446344, 0.006033591289607829, 0.006217210574525057, 0.006403131610140187, 0.006591299590125024, 0.006781662052738092, 0.006974169311602868, 0.007168774874858018, 0.0073654358490762625, 0.007564113324322467, 0.007764772736725352, 0.007967384204972606, 0.008171922837206757, 0.008378369004900504, 0.008586708580425371, 0.008796933135197296, 0.009009040095486812, 0.009223032853219753, 0.009438920829365958, 0.009656719487817511, 0.009876450297993137, 0.010098140644769582, 0.010321823684732315, 0.010547538148154017, 0.010775328086547246, 0.011005242566094562, 0.011237335307731253, 0.011471664275139525, 0.011708291212404107, 0.011947281133573658, 0.012188701766865824, 0.01243262295674128, 0.01267911602754949, 0.012928253112910803, 0.013180106455441461, 0.0134347476818451, 0.013692247058781732, 0.013952672735278046, 0.014216089977757095, 0.014482560404036261, 0.01475214122286604, 0.015024884485754817, 0.015300836357942998, 0.015580036415450499, 0.015862516975122403, 0.016148302464536007, 0.016437408838507403, 0.016729843048745762, 0.01702560257294834, 0.017324675009309048, 0.01762703774202902, 0.017932657682970116, 0.018241491094084412, 0.01855348349468619, 0.018868569657012366, 0.019186673692845317, 0.019507709233254348, 0.019831579702753274, 0.02015817868837777, 0.02048739040336302, 0.020819090244257533, 0.02115314543944876, 0.021489415786208898, 0.02182775447250222, 0.02216800897893671, 0.022510022055401042, 0.02285363276611116, 0.02319867759600714, 0.023544991610699346, 0.023892409661470444, 0.024240767626205046, 0.024589903676548643, 0.024939659561099593, 0.0252898818940177, 0.02564042343809789, 0.02599114437111107, 0.026341913524062427, 0.026692609579962844, 0.027043122221755325, 0.02739335321818644, 0.027743217436664604, 0.028092643772501546, 0.028441575984390215, 0.028789973426529187, 0.029137811668456914, 0.02948508299440547, 0.029831796774816868, 0.030177979703579928, 0.03052367589553446, 0.030868946839845313, 0.03121387120596135, 0.031558544500035604, 0.03190307857088226, 0.032247600965772324, 0.03259225413761326, 0.0329371945063058, 0.0332825913783125, 0.03362862572969657, 0.03397548885908214, 0.03432338091814012, 0.03467250932830274, 0.03502308709344627, 0.03537533101924407, 0.03572945985077081, 0.03608569234072596, 0.03644424526133055, 0.03680533137353091, 0.03716915736760752, 0.03753592178963434, 0.037905812968458165, 0.038279006957966356, 0.03865566550938418, 0.03903593408818899, 0.039419939949948996, 0.03980779028899273, 0.040199570473293075, 0.04059534237831531, 0.040995142831834336, 0.04139898218088273, 0.04180684299105441, 0.04221867888736954, 0.04263441354481393, 0.043053939835511854, 0.04347711913828688, 0.04390378081512241, 0.04433372185776501, 0.04476670670643175, 0.045202467241301024, 0.04564070294619594, 0.04608108124262534, 0.04652323799113852, 0.046966778155791915, 0.04741127662642518, 0.04785627919241638, 0.04830130366063461, 0.04874584110944799, 0.04918935726987702, 0.049631294024319775, 0.05007107101271485, 0.050508087335561135, 0.050941723342875715, 0.05137134249794873, 0.05179629330464328, 0.05221591128698893, 0.05262952100992509, 0.053036438130262084, 0.05343597146723625, 0.05382742508243403, 0.05421010035934257, 0.054583298073338844, 0.054946320443549454, 0.05529847315868522, 0.05563906736967126, 0.05596742164263799, 0.056282863866606955, 0.05658473311097677, 0.056872381428686926, 0.057145175601690516, 0.05740249882609756, 0.05764375233504214, 0.057868356957974314, 0.058075754615668905, 0.05826540975077385, 0.05843681069417984, 0.05858947096787978, 0.05872293052529272, 0.058836756930251935, 0.05893054647599934, 0.05900392524558659, 0.05905655011506041, 0.059088109700707526, 0.059098325251457355, 0.05908695148729415, 0.059053777384220726, 0.05899862690595083, 0.05892135968209627, 0.05882187163216685, 0.058700095534225734, 0.058556001536552924, 0.05838959761017407, 0.05820092993962313, 0.057990083248838156, 0.05775718105864779, 0.05750238587190758, 0.057225899281994674, 0.05692796200008272, 0.05660885379639917, 0.056268893350527004, 0.055908438005756046, 0.055527883422522635, 0.055127663126104245, 0.05470824794396008, 0.05427014532843197, 0.05381389856094083, 0.05334008583433104, 0.05284931921062629, 0.05234224345215844, 0.05181953472481193, 0.05128189917298199, 0.050730071366764974, 0.05016481262287663, 0.04958690920181418, 0.04899717038483335, 0.04839642643538403, 0.047785526450730594, 0.04716533611055688, 0.04653673533041089, 0.045900615828865135, 0.045257878618242264, 0.04460943142967107, 0.043956186084078266, 0.043299055821480845, 0.04263895260160662, 0.04197678438943073, 0.041313452439662716, 0.040649848594546734, 0.03998685260954013, 0.039325329521509626, 0.038666127074026044, 0.03801007321414866, 0.03735797367476759, 0.036710609656121114, 0.03606873561952747, 0.03543307720567256, 0.03480432928898399, 0.034183154178704565, 0.03357017997626593, 0.03296599909746401, 0.03237116696676503, 0.03178620088983596, 0.031211579109108913, 0.03064774004586839, 0.030095081731008347, 0.029553961425253444, 0.029024695428294053, 0.0285075590749554, 0.02800278691522534, 0.027510573073712925, 0.027031071782913065, 0.02656439808352293, 0.026110628684002834, 0.025669802970607076, 0.025241924158237096, 0.024826960571695963, 0.02442484704625614, 0.024035486435894718, 0.02365875121710536, 0.023294485175865253, 0.022942505165118046, 0.02260260292003011, 0.02227454691828367, 0.021958084272784086, 0.02165294264437475, 0.02135883216246584, 0.02107544734188699, 0.02080246898476052, 0.020539566056754256, 0.02028639752770218, 0.0200426141672686, 0.019807860287068386, 0.019581775421432145, 0.019363995939812507, 0.019154156584656468, 0.018951891929409315, 0.01875683775216098, 0.01856863232128512, 0.018386917590249154, 0.018211340299581127, 0.018041552984760338, 0.01787721488954749, 0.01771799278498073, 0.017563561694932266, 0.017413605529742228, 0.01726781763001874, 0.017125901223214213, 0.016987569796054904, 0.016852547386314053, 0.0167205687977774, 0.01659137974255436, 0.0164647369151394, 0.016340408002827832, 0.016218171637240403, 0.016097817291813508, 0.01597914513017024, 0.015861965810303857, 0.015746100249483527, 0.015631379354734957, 0.015517643723660204, 0.015404743320243818, 0.015292537130150871, 0.01518089279985917, 0.015069686263786559, 0.014958801363377211, 0.014848129461901954, 0.014737569058508608, 0.014627025404832057, 0.01451641012724237, 0.014405640857574661, 0.014294640874947823, 0.0141833387610427, 0.014071668070974748, 0.013959567021662345, 0.013846978199360668, 0.01373384828780327, 0.013620127818168909, 0.013505770941871057, 0.013390735226950773, 0.013274981478641557, 0.01315847358446701, 0.013041178384028369, 0.012923065563439766, 0.012804107574174467, 0.01268427957589498, 0.012563559402654967, 0.012441927551680545, 0.012319367193764195, 0.012195864204135686, 0.01207140721251294, 0.011945987670880802, 0.01181959993739969, 0.011692241374708107, 0.011563912460756259, 0.011434616910190884, 0.011304361804207498, 0.011173157726694385, 0.011041018904416089, 0.010907963348921669, 0.010774012997817838, 0.010639193853018002, 0.010503536113568274, 0.010367074300659381, 0.010229847372461194, 0.010091898826463575, 0.009953276787075022, 0.009814034076317429, 0.009674228265563077, 0.009533921706386424, 0.009393181538749532, 0.00925207967490378, 0.00911069275757237, 0.008969102091175109, 0.008827393545069551, 0.008685657428007343, 0.008543988333241647, 0.008402484953966845, 0.008261249869025392, 0.008120389299074673, 0.007980012833668426, 0.007840233129968547, 0.007701165584063644, 0.0075629279761259835, 0.007425640090888427, 0.007289423315162497, 0.007154400214349013, 0.007020694090107741, 0.0068884285215542185, 0.006757726892534536, 0.006628711907694289, 0.006501505100201213, 0.006376226334104101, 0.006252993304408973, 0.006131921038029677, 0.006013121398819861, 0.00589670259991964, 0.005782768726649606, 0.005671419273160318, 0.005562748695994227, 0.00545684598764251, 0.005353794273079136, 0.0052536704321326875, 0.005156544750410869, 0.005062480601327162, 0.00497153416159351, 0.004883754162338823, 0.00479918167779341, 0.0047178499532438975, 0.0046397842737157646, 0.004565001874581145, 0.00449351189502205, 0.004425315375003455, 0.004360405296131013, 0.004298766666484288, 0.0042403766492324245, 0.004185204734555056, 0.004133212954110686, 0.004084356137017982, 0.0040385822060455805, 0.00399583251244343, 0.003956042207596329, 0.003919140649438234, 0.003885051841336871, 0.0038536949009420874, 0.003824984556290687, 0.003798831666274975, 0.0037751437624139943, 0.0037538256087152034, 0.003734779776281728, 0.003717907229206214, 0.003703107918197624, 0.003690281378312278, 0.003679327327105297, 0.0036701462594837006, 0.0036626400355277253, 0.0036567124575525916, 0.00365226983270892, 0.003649221517466157, 0.003647480440389579, 0.003646963599707564, 0.003647592532271457, 0.0036492937506353174, 0.0036519991451267764, 0.003655646347942616, 0.0036601790564832833, 0.003665547313338663, 0.0036717077405527283, 0.003678623726026392, 0.003686265560165538, 0.003694610521143963, 0.003703642907428228, 0.0037133540165021355, 0.0037237420690320903, 0.003734812078029714, 0.003746575662893855, 0.003759050808549264, 0.003772261570242496, 0.003786237724905498, 0.0038010143703524316, 0.0038166314739338006, 0.003833133372632175, 0.003850568226943635, 0.0038689874312466477, 0.003888444983712959, 0.003908996819161093, 0.003930700108589562, 0.003953612529451496, 0.0039777915110421015, 0.004003293459662859, 0.004030172968498134, 0.004058482017388864, 0.00408826916791036, 0.004119578759355016, 0.004152450111382194, 0.004186916739224661, 0.004223005587430472, 0.004260736288169009, 0.004300120450137372, 0.004341160984066785, 0.004383851470745662, 0.004428175577345986, 0.004474106527660266, 0.004521606631628286, 0.00457062687925432, 0.004621106603688097, 0.004672973217865855, 0.004726142028683729, 0.004780516132204985, 0.004835986392888756, 0.004892431509272383, 0.004949718167947056, 0.00500770128703946, 0.005066224349756725, 0.005125119827871296, 0.005184209694323432, 0.005243306023406152, 0.005302211676278269, 0.005360721068830642, 0.005418621018217207, 0.005475691663661123, 0.005531707456466072, 0.005586438213508803, 0.005639650227870069, 0.005691107429682576, 0.005740572589743962, 0.005787808557966347, 0.005832579528316927, 0.00587465232155284, 0.005913797676771873, 0.005949791542593686, 0.005982416358656668, 0.006011462318066907, 0.006036728601469094, 0.006058024573526216, 0.006075170932795196, 0.00608800080626893, 0.006096360780219075, 0.006100111859416672, 0.0060991303473248, 0.00609330864044536, 0.00608255593065487, 0.006066798810076303, 0.006045981773798579, 0.00602006761656481, 0.005989037720397379], \"yaxis\": \"y\"}, {\"legendgroup\": \"Distribui\\u00e7\\u00e3o da label MEDV (Pre\\u00e7o correspondente para o im\\u00f3vel)\", \"marker\": {\"color\": \"rgb(31, 119, 180)\", \"symbol\": \"line-ns-open\"}, \"mode\": \"markers\", \"name\": \"Distribui\\u00e7\\u00e3o da label MEDV (Pre\\u00e7o correspondente para o im\\u00f3vel)\", \"showlegend\": false, \"type\": \"scatter\", \"x\": [24.0, 21.6, 34.7, 33.4, 36.2, 28.7, 22.9, 27.1, 16.5, 18.9, 15.0, 18.9, 21.7, 20.4, 18.2, 19.9, 23.1, 17.5, 20.2, 18.2, 13.6, 19.6, 15.2, 14.5, 15.6, 13.9, 16.6, 14.8, 18.4, 21.0, 12.7, 14.5, 13.2, 13.1, 13.5, 18.9, 20.0, 21.0, 24.7, 30.8, 34.9, 26.6, 25.3, 24.7, 21.2, 19.3, 20.0, 16.6, 14.4, 19.4, 19.7, 20.5, 25.0, 23.4, 18.9, 35.4, 24.7, 31.6, 23.3, 19.6, 18.7, 16.0, 22.2, 25.0, 33.0, 23.5, 19.4, 22.0, 17.4, 20.9, 24.2, 21.7, 22.8, 23.4, 24.1, 21.4, 20.0, 20.8, 21.2, 20.3, 28.0, 23.9, 24.8, 22.9, 23.9, 26.6, 22.5, 22.2, 23.6, 28.7, 22.6, 22.0, 22.9, 25.0, 20.6, 28.4, 21.4, 38.7, 43.8, 33.2, 27.5, 26.5, 18.6, 19.3, 20.1, 19.5, 19.5, 20.4, 19.8, 19.4, 21.7, 22.8, 18.8, 18.7, 18.5, 18.3, 21.2, 19.2, 20.4, 19.3, 22.0, 20.3, 20.5, 17.3, 18.8, 21.4, 15.7, 16.2, 18.0, 14.3, 19.2, 19.6, 23.0, 18.4, 15.6, 18.1, 17.4, 17.1, 13.3, 17.8, 14.0, 14.4, 13.4, 15.6, 11.8, 13.8, 15.6, 14.6, 17.8, 15.4, 21.5, 19.6, 15.3, 19.4, 17.0, 15.6, 13.1, 41.3, 24.3, 23.3, 27.0, 50.0, 50.0, 50.0, 22.7, 25.0, 50.0, 23.8, 23.8, 22.3, 17.4, 19.1, 23.1, 23.6, 22.6, 29.4, 23.2, 24.6, 29.9, 37.2, 39.8, 36.2, 37.9, 32.5, 26.4, 29.6, 50.0, 32.0, 29.8, 34.9, 37.0, 30.5, 36.4, 31.1, 29.1, 50.0, 33.3, 30.3, 34.6, 34.9, 32.9, 24.1, 42.3, 48.5, 50.0, 22.6, 24.4, 22.5, 24.4, 20.0, 21.7, 19.3, 22.4, 28.1, 23.7, 25.0, 23.3, 28.7, 21.5, 23.0, 26.7, 21.7, 27.5, 30.1, 44.8, 50.0, 37.6, 31.6, 46.7, 31.5, 24.3, 31.7, 41.7, 48.3, 29.0, 24.0, 25.1, 31.5, 23.7, 23.3, 22.0, 20.1, 22.2, 23.7, 17.6, 18.5, 24.3, 20.5, 24.5, 26.2, 24.4, 24.8, 29.6, 42.8, 21.9, 20.9, 44.0, 50.0, 36.0, 30.1, 33.8, 43.1, 48.8, 31.0, 36.5, 22.8, 30.7, 50.0, 43.5, 20.7, 21.1, 25.2, 24.4, 35.2, 32.4, 32.0, 33.2, 33.1, 29.1, 35.1, 45.4, 35.4, 46.0, 50.0, 32.2, 22.0, 20.1, 23.2, 22.3, 24.8, 28.5, 37.3, 27.9, 23.9, 21.7, 28.6, 27.1, 20.3, 22.5, 29.0, 24.8, 22.0, 26.4, 33.1, 36.1, 28.4, 33.4, 28.2, 22.8, 20.3, 16.1, 22.1, 19.4, 21.6, 23.8, 16.2, 17.8, 19.8, 23.1, 21.0, 23.8, 23.1, 20.4, 18.5, 25.0, 24.6, 23.0, 22.2, 19.3, 22.6, 19.8, 17.1, 19.4, 22.2, 20.7, 21.1, 19.5, 18.5, 20.6, 19.0, 18.7, 32.7, 16.5, 23.9, 31.2, 17.5, 17.2, 23.1, 24.5, 26.6, 22.9, 24.1, 18.6, 30.1, 18.2, 20.6, 17.8, 21.7, 22.7, 22.6, 25.0, 19.9, 20.8, 16.8, 21.9, 27.5, 21.9, 23.1, 50.0, 50.0, 50.0, 50.0, 50.0, 13.8, 13.8, 15.0, 13.9, 13.3, 13.1, 10.2, 10.4, 10.9, 11.3, 12.3, 8.8, 7.2, 10.5, 7.4, 10.2, 11.5, 15.1, 23.2, 9.7, 13.8, 12.7, 13.1, 12.5, 8.5, 5.0, 6.3, 5.6, 7.2, 12.1, 8.3, 8.5, 5.0, 11.9, 27.9, 17.2, 27.5, 15.0, 17.2, 17.9, 16.3, 7.0, 7.2, 7.5, 10.4, 8.8, 8.4, 16.7, 14.2, 20.8, 13.4, 11.7, 8.3, 10.2, 10.9, 11.0, 9.5, 14.5, 14.1, 16.1, 14.3, 11.7, 13.4, 9.6, 8.7, 8.4, 12.8, 10.5, 17.1, 18.4, 15.4, 10.8, 11.8, 14.9, 12.6, 14.1, 13.0, 13.4, 15.2, 16.1, 17.8, 14.9, 14.1, 12.7, 13.5, 14.9, 20.0, 16.4, 17.7, 19.5, 20.2, 21.4, 19.9, 19.0, 19.1, 19.1, 20.1, 19.9, 19.6, 23.2, 29.8, 13.8, 13.3, 16.7, 12.0, 14.6, 21.4, 23.0, 23.7, 25.0, 21.8, 20.6, 21.2, 19.1, 20.6, 15.2, 7.0, 8.1, 13.6, 20.1, 21.8, 24.5, 23.1, 19.7, 18.3, 21.2, 17.5, 16.8, 22.4, 20.6, 23.9, 22.0, 11.9], \"xaxis\": \"x\", \"y\": [\"Distribui\\u00e7\\u00e3o da label MEDV (Pre\\u00e7o correspondente para o im\\u00f3vel)\", \"Distribui\\u00e7\\u00e3o da label MEDV (Pre\\u00e7o correspondente para o im\\u00f3vel)\", \"Distribui\\u00e7\\u00e3o da label MEDV (Pre\\u00e7o correspondente para o im\\u00f3vel)\", \"Distribui\\u00e7\\u00e3o da label MEDV (Pre\\u00e7o correspondente para o im\\u00f3vel)\", \"Distribui\\u00e7\\u00e3o da label MEDV (Pre\\u00e7o correspondente para o im\\u00f3vel)\", \"Distribui\\u00e7\\u00e3o da label MEDV (Pre\\u00e7o correspondente para o im\\u00f3vel)\", \"Distribui\\u00e7\\u00e3o da label MEDV (Pre\\u00e7o correspondente para o im\\u00f3vel)\", \"Distribui\\u00e7\\u00e3o da label MEDV (Pre\\u00e7o correspondente para o im\\u00f3vel)\", \"Distribui\\u00e7\\u00e3o da label MEDV (Pre\\u00e7o correspondente para o im\\u00f3vel)\", \"Distribui\\u00e7\\u00e3o da label MEDV (Pre\\u00e7o correspondente para o im\\u00f3vel)\", \"Distribui\\u00e7\\u00e3o da label MEDV (Pre\\u00e7o correspondente para o im\\u00f3vel)\", \"Distribui\\u00e7\\u00e3o da label MEDV (Pre\\u00e7o correspondente para o im\\u00f3vel)\", \"Distribui\\u00e7\\u00e3o da label MEDV (Pre\\u00e7o correspondente para o im\\u00f3vel)\", \"Distribui\\u00e7\\u00e3o da label MEDV (Pre\\u00e7o correspondente para o im\\u00f3vel)\", \"Distribui\\u00e7\\u00e3o da label MEDV (Pre\\u00e7o correspondente para o im\\u00f3vel)\", \"Distribui\\u00e7\\u00e3o da label MEDV (Pre\\u00e7o correspondente para o im\\u00f3vel)\", \"Distribui\\u00e7\\u00e3o da label MEDV (Pre\\u00e7o correspondente para o im\\u00f3vel)\", \"Distribui\\u00e7\\u00e3o da label MEDV (Pre\\u00e7o correspondente para o im\\u00f3vel)\", \"Distribui\\u00e7\\u00e3o da label MEDV (Pre\\u00e7o correspondente para o im\\u00f3vel)\", \"Distribui\\u00e7\\u00e3o da label MEDV (Pre\\u00e7o correspondente para o im\\u00f3vel)\", \"Distribui\\u00e7\\u00e3o da label MEDV (Pre\\u00e7o correspondente para o im\\u00f3vel)\", \"Distribui\\u00e7\\u00e3o da label MEDV (Pre\\u00e7o correspondente para o im\\u00f3vel)\", \"Distribui\\u00e7\\u00e3o da label MEDV (Pre\\u00e7o correspondente para o im\\u00f3vel)\", \"Distribui\\u00e7\\u00e3o da label MEDV (Pre\\u00e7o correspondente para o im\\u00f3vel)\", \"Distribui\\u00e7\\u00e3o da label MEDV (Pre\\u00e7o correspondente para o im\\u00f3vel)\", \"Distribui\\u00e7\\u00e3o da label MEDV (Pre\\u00e7o correspondente para o im\\u00f3vel)\", \"Distribui\\u00e7\\u00e3o da label MEDV (Pre\\u00e7o correspondente para o im\\u00f3vel)\", \"Distribui\\u00e7\\u00e3o da label MEDV (Pre\\u00e7o correspondente para o im\\u00f3vel)\", \"Distribui\\u00e7\\u00e3o da label MEDV (Pre\\u00e7o correspondente para o im\\u00f3vel)\", \"Distribui\\u00e7\\u00e3o da label MEDV (Pre\\u00e7o correspondente para o im\\u00f3vel)\", \"Distribui\\u00e7\\u00e3o da label MEDV (Pre\\u00e7o correspondente para o im\\u00f3vel)\", \"Distribui\\u00e7\\u00e3o da label MEDV (Pre\\u00e7o correspondente para o im\\u00f3vel)\", \"Distribui\\u00e7\\u00e3o da label MEDV (Pre\\u00e7o correspondente para o im\\u00f3vel)\", \"Distribui\\u00e7\\u00e3o da label MEDV (Pre\\u00e7o correspondente para o im\\u00f3vel)\", \"Distribui\\u00e7\\u00e3o da label MEDV (Pre\\u00e7o correspondente para o im\\u00f3vel)\", \"Distribui\\u00e7\\u00e3o da label MEDV (Pre\\u00e7o correspondente para o im\\u00f3vel)\", \"Distribui\\u00e7\\u00e3o da label MEDV (Pre\\u00e7o correspondente para o im\\u00f3vel)\", \"Distribui\\u00e7\\u00e3o da label MEDV (Pre\\u00e7o correspondente para o im\\u00f3vel)\", \"Distribui\\u00e7\\u00e3o da label MEDV (Pre\\u00e7o correspondente para o im\\u00f3vel)\", \"Distribui\\u00e7\\u00e3o da label MEDV (Pre\\u00e7o correspondente para o im\\u00f3vel)\", \"Distribui\\u00e7\\u00e3o da label MEDV (Pre\\u00e7o correspondente para o im\\u00f3vel)\", \"Distribui\\u00e7\\u00e3o da label MEDV (Pre\\u00e7o correspondente para o im\\u00f3vel)\", \"Distribui\\u00e7\\u00e3o da label MEDV (Pre\\u00e7o correspondente para o im\\u00f3vel)\", \"Distribui\\u00e7\\u00e3o da label MEDV (Pre\\u00e7o correspondente para o im\\u00f3vel)\", \"Distribui\\u00e7\\u00e3o da label MEDV (Pre\\u00e7o correspondente para o im\\u00f3vel)\", \"Distribui\\u00e7\\u00e3o da label MEDV (Pre\\u00e7o correspondente para o im\\u00f3vel)\", \"Distribui\\u00e7\\u00e3o da label MEDV (Pre\\u00e7o correspondente para o im\\u00f3vel)\", \"Distribui\\u00e7\\u00e3o da label MEDV (Pre\\u00e7o correspondente para o im\\u00f3vel)\", \"Distribui\\u00e7\\u00e3o da label MEDV (Pre\\u00e7o correspondente para o im\\u00f3vel)\", \"Distribui\\u00e7\\u00e3o da label MEDV (Pre\\u00e7o correspondente para o im\\u00f3vel)\", \"Distribui\\u00e7\\u00e3o da label MEDV (Pre\\u00e7o correspondente para o im\\u00f3vel)\", \"Distribui\\u00e7\\u00e3o da label MEDV (Pre\\u00e7o correspondente para o im\\u00f3vel)\", \"Distribui\\u00e7\\u00e3o da label MEDV (Pre\\u00e7o correspondente para o im\\u00f3vel)\", \"Distribui\\u00e7\\u00e3o da label MEDV (Pre\\u00e7o correspondente para o im\\u00f3vel)\", \"Distribui\\u00e7\\u00e3o da label MEDV (Pre\\u00e7o correspondente para o im\\u00f3vel)\", \"Distribui\\u00e7\\u00e3o da label MEDV (Pre\\u00e7o correspondente para o im\\u00f3vel)\", \"Distribui\\u00e7\\u00e3o da label MEDV (Pre\\u00e7o correspondente para o im\\u00f3vel)\", \"Distribui\\u00e7\\u00e3o da label MEDV (Pre\\u00e7o correspondente para o im\\u00f3vel)\", \"Distribui\\u00e7\\u00e3o da label MEDV (Pre\\u00e7o correspondente para o im\\u00f3vel)\", \"Distribui\\u00e7\\u00e3o da label MEDV (Pre\\u00e7o correspondente para o im\\u00f3vel)\", \"Distribui\\u00e7\\u00e3o da label MEDV (Pre\\u00e7o correspondente para o im\\u00f3vel)\", \"Distribui\\u00e7\\u00e3o da label MEDV (Pre\\u00e7o correspondente para o im\\u00f3vel)\", \"Distribui\\u00e7\\u00e3o da label MEDV (Pre\\u00e7o correspondente para o im\\u00f3vel)\", \"Distribui\\u00e7\\u00e3o da label MEDV (Pre\\u00e7o correspondente para o im\\u00f3vel)\", \"Distribui\\u00e7\\u00e3o da label MEDV (Pre\\u00e7o correspondente para o im\\u00f3vel)\", \"Distribui\\u00e7\\u00e3o da label MEDV (Pre\\u00e7o correspondente para o im\\u00f3vel)\", \"Distribui\\u00e7\\u00e3o da label MEDV (Pre\\u00e7o correspondente para o im\\u00f3vel)\", \"Distribui\\u00e7\\u00e3o da label MEDV (Pre\\u00e7o correspondente para o im\\u00f3vel)\", \"Distribui\\u00e7\\u00e3o da label MEDV (Pre\\u00e7o correspondente para o im\\u00f3vel)\", \"Distribui\\u00e7\\u00e3o da label MEDV (Pre\\u00e7o correspondente para o im\\u00f3vel)\", \"Distribui\\u00e7\\u00e3o da label MEDV (Pre\\u00e7o correspondente para o im\\u00f3vel)\", \"Distribui\\u00e7\\u00e3o da label MEDV (Pre\\u00e7o correspondente para o im\\u00f3vel)\", \"Distribui\\u00e7\\u00e3o da label MEDV (Pre\\u00e7o correspondente para o im\\u00f3vel)\", \"Distribui\\u00e7\\u00e3o da label MEDV (Pre\\u00e7o correspondente para o im\\u00f3vel)\", \"Distribui\\u00e7\\u00e3o da label MEDV (Pre\\u00e7o correspondente para o im\\u00f3vel)\", \"Distribui\\u00e7\\u00e3o da label MEDV (Pre\\u00e7o correspondente para o im\\u00f3vel)\", \"Distribui\\u00e7\\u00e3o da label MEDV (Pre\\u00e7o correspondente para o im\\u00f3vel)\", \"Distribui\\u00e7\\u00e3o da label MEDV (Pre\\u00e7o correspondente para o im\\u00f3vel)\", \"Distribui\\u00e7\\u00e3o da label MEDV (Pre\\u00e7o correspondente para o im\\u00f3vel)\", \"Distribui\\u00e7\\u00e3o da label MEDV (Pre\\u00e7o correspondente para o im\\u00f3vel)\", \"Distribui\\u00e7\\u00e3o da label MEDV (Pre\\u00e7o correspondente para o im\\u00f3vel)\", \"Distribui\\u00e7\\u00e3o da label MEDV (Pre\\u00e7o correspondente para o im\\u00f3vel)\", \"Distribui\\u00e7\\u00e3o da label MEDV (Pre\\u00e7o correspondente para o im\\u00f3vel)\", \"Distribui\\u00e7\\u00e3o da label MEDV (Pre\\u00e7o correspondente para o im\\u00f3vel)\", \"Distribui\\u00e7\\u00e3o da label MEDV (Pre\\u00e7o correspondente para o im\\u00f3vel)\", \"Distribui\\u00e7\\u00e3o da label MEDV (Pre\\u00e7o correspondente para o im\\u00f3vel)\", \"Distribui\\u00e7\\u00e3o da label MEDV (Pre\\u00e7o correspondente para o im\\u00f3vel)\", \"Distribui\\u00e7\\u00e3o da label MEDV (Pre\\u00e7o correspondente para o im\\u00f3vel)\", \"Distribui\\u00e7\\u00e3o da label MEDV (Pre\\u00e7o correspondente para o im\\u00f3vel)\", \"Distribui\\u00e7\\u00e3o da label MEDV (Pre\\u00e7o correspondente para o im\\u00f3vel)\", \"Distribui\\u00e7\\u00e3o da label MEDV (Pre\\u00e7o correspondente para o im\\u00f3vel)\", \"Distribui\\u00e7\\u00e3o da label MEDV (Pre\\u00e7o correspondente para o im\\u00f3vel)\", \"Distribui\\u00e7\\u00e3o da label MEDV (Pre\\u00e7o correspondente para o im\\u00f3vel)\", \"Distribui\\u00e7\\u00e3o da label MEDV (Pre\\u00e7o correspondente para o im\\u00f3vel)\", \"Distribui\\u00e7\\u00e3o da label MEDV (Pre\\u00e7o correspondente para o im\\u00f3vel)\", \"Distribui\\u00e7\\u00e3o da label MEDV (Pre\\u00e7o correspondente para o im\\u00f3vel)\", \"Distribui\\u00e7\\u00e3o da label MEDV (Pre\\u00e7o correspondente para o im\\u00f3vel)\", \"Distribui\\u00e7\\u00e3o da label MEDV (Pre\\u00e7o correspondente para o im\\u00f3vel)\", \"Distribui\\u00e7\\u00e3o da label MEDV (Pre\\u00e7o correspondente para o im\\u00f3vel)\", \"Distribui\\u00e7\\u00e3o da label MEDV (Pre\\u00e7o correspondente para o im\\u00f3vel)\", \"Distribui\\u00e7\\u00e3o da label MEDV (Pre\\u00e7o correspondente para o im\\u00f3vel)\", \"Distribui\\u00e7\\u00e3o da label MEDV (Pre\\u00e7o correspondente para o im\\u00f3vel)\", \"Distribui\\u00e7\\u00e3o da label MEDV (Pre\\u00e7o correspondente para o im\\u00f3vel)\", \"Distribui\\u00e7\\u00e3o da label MEDV (Pre\\u00e7o correspondente para o im\\u00f3vel)\", \"Distribui\\u00e7\\u00e3o da label MEDV (Pre\\u00e7o correspondente para o im\\u00f3vel)\", \"Distribui\\u00e7\\u00e3o da label MEDV (Pre\\u00e7o correspondente para o im\\u00f3vel)\", \"Distribui\\u00e7\\u00e3o da label MEDV (Pre\\u00e7o correspondente para o im\\u00f3vel)\", \"Distribui\\u00e7\\u00e3o da label MEDV (Pre\\u00e7o correspondente para o im\\u00f3vel)\", \"Distribui\\u00e7\\u00e3o da label MEDV (Pre\\u00e7o correspondente para o im\\u00f3vel)\", \"Distribui\\u00e7\\u00e3o da label MEDV (Pre\\u00e7o correspondente para o im\\u00f3vel)\", \"Distribui\\u00e7\\u00e3o da label MEDV (Pre\\u00e7o correspondente para o im\\u00f3vel)\", \"Distribui\\u00e7\\u00e3o da label MEDV (Pre\\u00e7o correspondente para o im\\u00f3vel)\", \"Distribui\\u00e7\\u00e3o da label MEDV (Pre\\u00e7o correspondente para o im\\u00f3vel)\", \"Distribui\\u00e7\\u00e3o da label MEDV (Pre\\u00e7o correspondente para o im\\u00f3vel)\", \"Distribui\\u00e7\\u00e3o da label MEDV (Pre\\u00e7o correspondente para o im\\u00f3vel)\", \"Distribui\\u00e7\\u00e3o da label MEDV (Pre\\u00e7o correspondente para o im\\u00f3vel)\", \"Distribui\\u00e7\\u00e3o da label MEDV (Pre\\u00e7o correspondente para o im\\u00f3vel)\", \"Distribui\\u00e7\\u00e3o da label MEDV (Pre\\u00e7o correspondente para o im\\u00f3vel)\", \"Distribui\\u00e7\\u00e3o da label MEDV (Pre\\u00e7o correspondente para o im\\u00f3vel)\", \"Distribui\\u00e7\\u00e3o da label MEDV (Pre\\u00e7o correspondente para o im\\u00f3vel)\", \"Distribui\\u00e7\\u00e3o da label MEDV (Pre\\u00e7o correspondente para o im\\u00f3vel)\", \"Distribui\\u00e7\\u00e3o da label MEDV (Pre\\u00e7o correspondente para o im\\u00f3vel)\", \"Distribui\\u00e7\\u00e3o da label MEDV (Pre\\u00e7o correspondente para o im\\u00f3vel)\", \"Distribui\\u00e7\\u00e3o da label MEDV (Pre\\u00e7o correspondente para o im\\u00f3vel)\", \"Distribui\\u00e7\\u00e3o da label MEDV (Pre\\u00e7o correspondente para o im\\u00f3vel)\", \"Distribui\\u00e7\\u00e3o da label MEDV (Pre\\u00e7o correspondente para o im\\u00f3vel)\", \"Distribui\\u00e7\\u00e3o da label MEDV (Pre\\u00e7o correspondente para o im\\u00f3vel)\", \"Distribui\\u00e7\\u00e3o da label MEDV (Pre\\u00e7o correspondente para o im\\u00f3vel)\", \"Distribui\\u00e7\\u00e3o da label MEDV (Pre\\u00e7o correspondente para o im\\u00f3vel)\", \"Distribui\\u00e7\\u00e3o da label MEDV (Pre\\u00e7o correspondente para o im\\u00f3vel)\", \"Distribui\\u00e7\\u00e3o da label MEDV (Pre\\u00e7o correspondente para o im\\u00f3vel)\", \"Distribui\\u00e7\\u00e3o da label MEDV (Pre\\u00e7o correspondente para o im\\u00f3vel)\", \"Distribui\\u00e7\\u00e3o da label MEDV (Pre\\u00e7o correspondente para o im\\u00f3vel)\", \"Distribui\\u00e7\\u00e3o da label MEDV (Pre\\u00e7o correspondente para o im\\u00f3vel)\", \"Distribui\\u00e7\\u00e3o da label MEDV (Pre\\u00e7o correspondente para o im\\u00f3vel)\", \"Distribui\\u00e7\\u00e3o da label MEDV (Pre\\u00e7o correspondente para o im\\u00f3vel)\", \"Distribui\\u00e7\\u00e3o da label MEDV (Pre\\u00e7o correspondente para o im\\u00f3vel)\", \"Distribui\\u00e7\\u00e3o da label MEDV (Pre\\u00e7o correspondente para o im\\u00f3vel)\", \"Distribui\\u00e7\\u00e3o da label MEDV (Pre\\u00e7o correspondente para o im\\u00f3vel)\", \"Distribui\\u00e7\\u00e3o da label MEDV (Pre\\u00e7o correspondente para o im\\u00f3vel)\", \"Distribui\\u00e7\\u00e3o da label MEDV (Pre\\u00e7o correspondente para o im\\u00f3vel)\", \"Distribui\\u00e7\\u00e3o da label MEDV (Pre\\u00e7o correspondente para o im\\u00f3vel)\", \"Distribui\\u00e7\\u00e3o da label MEDV (Pre\\u00e7o correspondente para o im\\u00f3vel)\", \"Distribui\\u00e7\\u00e3o da label MEDV (Pre\\u00e7o correspondente para o im\\u00f3vel)\", \"Distribui\\u00e7\\u00e3o da label MEDV (Pre\\u00e7o correspondente para o im\\u00f3vel)\", \"Distribui\\u00e7\\u00e3o da label MEDV (Pre\\u00e7o correspondente para o im\\u00f3vel)\", \"Distribui\\u00e7\\u00e3o da label MEDV (Pre\\u00e7o correspondente para o im\\u00f3vel)\", \"Distribui\\u00e7\\u00e3o da label MEDV (Pre\\u00e7o correspondente para o im\\u00f3vel)\", \"Distribui\\u00e7\\u00e3o da label MEDV (Pre\\u00e7o correspondente para o im\\u00f3vel)\", \"Distribui\\u00e7\\u00e3o da label MEDV (Pre\\u00e7o correspondente para o im\\u00f3vel)\", \"Distribui\\u00e7\\u00e3o da label MEDV (Pre\\u00e7o correspondente para o im\\u00f3vel)\", \"Distribui\\u00e7\\u00e3o da label MEDV (Pre\\u00e7o correspondente para o im\\u00f3vel)\", \"Distribui\\u00e7\\u00e3o da label MEDV (Pre\\u00e7o correspondente para o im\\u00f3vel)\", \"Distribui\\u00e7\\u00e3o da label MEDV (Pre\\u00e7o correspondente para o im\\u00f3vel)\", \"Distribui\\u00e7\\u00e3o da label MEDV (Pre\\u00e7o correspondente para o im\\u00f3vel)\", \"Distribui\\u00e7\\u00e3o da label MEDV (Pre\\u00e7o correspondente para o im\\u00f3vel)\", \"Distribui\\u00e7\\u00e3o da label MEDV (Pre\\u00e7o correspondente para o im\\u00f3vel)\", \"Distribui\\u00e7\\u00e3o da label MEDV (Pre\\u00e7o correspondente para o im\\u00f3vel)\", \"Distribui\\u00e7\\u00e3o da label MEDV (Pre\\u00e7o correspondente para o im\\u00f3vel)\", \"Distribui\\u00e7\\u00e3o da label MEDV (Pre\\u00e7o correspondente para o im\\u00f3vel)\", \"Distribui\\u00e7\\u00e3o da label MEDV (Pre\\u00e7o correspondente para o im\\u00f3vel)\", \"Distribui\\u00e7\\u00e3o da label MEDV (Pre\\u00e7o correspondente para o im\\u00f3vel)\", \"Distribui\\u00e7\\u00e3o da label MEDV (Pre\\u00e7o correspondente para o im\\u00f3vel)\", \"Distribui\\u00e7\\u00e3o da label MEDV (Pre\\u00e7o correspondente para o im\\u00f3vel)\", \"Distribui\\u00e7\\u00e3o da label MEDV (Pre\\u00e7o correspondente para o im\\u00f3vel)\", \"Distribui\\u00e7\\u00e3o da label MEDV (Pre\\u00e7o correspondente para o im\\u00f3vel)\", \"Distribui\\u00e7\\u00e3o da label MEDV (Pre\\u00e7o correspondente para o im\\u00f3vel)\", \"Distribui\\u00e7\\u00e3o da label MEDV (Pre\\u00e7o correspondente para o im\\u00f3vel)\", \"Distribui\\u00e7\\u00e3o da label MEDV (Pre\\u00e7o correspondente para o im\\u00f3vel)\", \"Distribui\\u00e7\\u00e3o da label MEDV (Pre\\u00e7o correspondente para o im\\u00f3vel)\", \"Distribui\\u00e7\\u00e3o da label MEDV (Pre\\u00e7o correspondente para o im\\u00f3vel)\", \"Distribui\\u00e7\\u00e3o da label MEDV (Pre\\u00e7o correspondente para o im\\u00f3vel)\", \"Distribui\\u00e7\\u00e3o da label MEDV (Pre\\u00e7o correspondente para o im\\u00f3vel)\", \"Distribui\\u00e7\\u00e3o da label MEDV (Pre\\u00e7o correspondente para o im\\u00f3vel)\", \"Distribui\\u00e7\\u00e3o da label MEDV (Pre\\u00e7o correspondente para o im\\u00f3vel)\", \"Distribui\\u00e7\\u00e3o da label MEDV (Pre\\u00e7o correspondente para o im\\u00f3vel)\", \"Distribui\\u00e7\\u00e3o da label MEDV (Pre\\u00e7o correspondente para o im\\u00f3vel)\", \"Distribui\\u00e7\\u00e3o da label MEDV (Pre\\u00e7o correspondente para o im\\u00f3vel)\", \"Distribui\\u00e7\\u00e3o da label MEDV (Pre\\u00e7o correspondente para o im\\u00f3vel)\", \"Distribui\\u00e7\\u00e3o da label MEDV (Pre\\u00e7o correspondente para o im\\u00f3vel)\", \"Distribui\\u00e7\\u00e3o da label MEDV (Pre\\u00e7o correspondente para o im\\u00f3vel)\", \"Distribui\\u00e7\\u00e3o da label MEDV (Pre\\u00e7o correspondente para o im\\u00f3vel)\", \"Distribui\\u00e7\\u00e3o da label MEDV (Pre\\u00e7o correspondente para o im\\u00f3vel)\", \"Distribui\\u00e7\\u00e3o da label MEDV (Pre\\u00e7o correspondente para o im\\u00f3vel)\", \"Distribui\\u00e7\\u00e3o da label MEDV (Pre\\u00e7o correspondente para o im\\u00f3vel)\", \"Distribui\\u00e7\\u00e3o da label MEDV (Pre\\u00e7o correspondente para o im\\u00f3vel)\", \"Distribui\\u00e7\\u00e3o da label MEDV (Pre\\u00e7o correspondente para o im\\u00f3vel)\", \"Distribui\\u00e7\\u00e3o da label MEDV (Pre\\u00e7o correspondente para o im\\u00f3vel)\", \"Distribui\\u00e7\\u00e3o da label MEDV (Pre\\u00e7o correspondente para o im\\u00f3vel)\", \"Distribui\\u00e7\\u00e3o da label MEDV (Pre\\u00e7o correspondente para o im\\u00f3vel)\", \"Distribui\\u00e7\\u00e3o da label MEDV (Pre\\u00e7o correspondente para o im\\u00f3vel)\", \"Distribui\\u00e7\\u00e3o da label MEDV (Pre\\u00e7o correspondente para o im\\u00f3vel)\", \"Distribui\\u00e7\\u00e3o da label MEDV (Pre\\u00e7o correspondente para o im\\u00f3vel)\", \"Distribui\\u00e7\\u00e3o da label MEDV (Pre\\u00e7o correspondente para o im\\u00f3vel)\", \"Distribui\\u00e7\\u00e3o da label MEDV (Pre\\u00e7o correspondente para o im\\u00f3vel)\", \"Distribui\\u00e7\\u00e3o da label MEDV (Pre\\u00e7o correspondente para o im\\u00f3vel)\", \"Distribui\\u00e7\\u00e3o da label MEDV (Pre\\u00e7o correspondente para o im\\u00f3vel)\", \"Distribui\\u00e7\\u00e3o da label MEDV (Pre\\u00e7o correspondente para o im\\u00f3vel)\", \"Distribui\\u00e7\\u00e3o da label MEDV (Pre\\u00e7o correspondente para o im\\u00f3vel)\", \"Distribui\\u00e7\\u00e3o da label MEDV (Pre\\u00e7o correspondente para o im\\u00f3vel)\", \"Distribui\\u00e7\\u00e3o da label MEDV (Pre\\u00e7o correspondente para o im\\u00f3vel)\", \"Distribui\\u00e7\\u00e3o da label MEDV (Pre\\u00e7o correspondente para o im\\u00f3vel)\", \"Distribui\\u00e7\\u00e3o da label MEDV (Pre\\u00e7o correspondente para o im\\u00f3vel)\", \"Distribui\\u00e7\\u00e3o da label MEDV (Pre\\u00e7o correspondente para o im\\u00f3vel)\", \"Distribui\\u00e7\\u00e3o da label MEDV (Pre\\u00e7o correspondente para o im\\u00f3vel)\", \"Distribui\\u00e7\\u00e3o da label MEDV (Pre\\u00e7o correspondente para o im\\u00f3vel)\", \"Distribui\\u00e7\\u00e3o da label MEDV (Pre\\u00e7o correspondente para o im\\u00f3vel)\", \"Distribui\\u00e7\\u00e3o da label MEDV (Pre\\u00e7o correspondente para o im\\u00f3vel)\", \"Distribui\\u00e7\\u00e3o da label MEDV (Pre\\u00e7o correspondente para o im\\u00f3vel)\", \"Distribui\\u00e7\\u00e3o da label MEDV (Pre\\u00e7o correspondente para o im\\u00f3vel)\", \"Distribui\\u00e7\\u00e3o da label MEDV (Pre\\u00e7o correspondente para o im\\u00f3vel)\", \"Distribui\\u00e7\\u00e3o da label MEDV (Pre\\u00e7o correspondente para o im\\u00f3vel)\", \"Distribui\\u00e7\\u00e3o da label MEDV (Pre\\u00e7o correspondente para o im\\u00f3vel)\", \"Distribui\\u00e7\\u00e3o da label MEDV (Pre\\u00e7o correspondente para o im\\u00f3vel)\", \"Distribui\\u00e7\\u00e3o da label MEDV (Pre\\u00e7o correspondente para o im\\u00f3vel)\", \"Distribui\\u00e7\\u00e3o da label MEDV (Pre\\u00e7o correspondente para o im\\u00f3vel)\", \"Distribui\\u00e7\\u00e3o da label MEDV (Pre\\u00e7o correspondente para o im\\u00f3vel)\", \"Distribui\\u00e7\\u00e3o da label MEDV (Pre\\u00e7o correspondente para o im\\u00f3vel)\", \"Distribui\\u00e7\\u00e3o da label MEDV (Pre\\u00e7o correspondente para o im\\u00f3vel)\", \"Distribui\\u00e7\\u00e3o da label MEDV (Pre\\u00e7o correspondente para o im\\u00f3vel)\", \"Distribui\\u00e7\\u00e3o da label MEDV (Pre\\u00e7o correspondente para o im\\u00f3vel)\", \"Distribui\\u00e7\\u00e3o da label MEDV (Pre\\u00e7o correspondente para o im\\u00f3vel)\", \"Distribui\\u00e7\\u00e3o da label MEDV (Pre\\u00e7o correspondente para o im\\u00f3vel)\", \"Distribui\\u00e7\\u00e3o da label MEDV (Pre\\u00e7o correspondente para o im\\u00f3vel)\", \"Distribui\\u00e7\\u00e3o da label MEDV (Pre\\u00e7o correspondente para o im\\u00f3vel)\", \"Distribui\\u00e7\\u00e3o da label MEDV (Pre\\u00e7o correspondente para o im\\u00f3vel)\", \"Distribui\\u00e7\\u00e3o da label MEDV (Pre\\u00e7o correspondente para o im\\u00f3vel)\", \"Distribui\\u00e7\\u00e3o da label MEDV (Pre\\u00e7o correspondente para o im\\u00f3vel)\", \"Distribui\\u00e7\\u00e3o da label MEDV (Pre\\u00e7o correspondente para o im\\u00f3vel)\", \"Distribui\\u00e7\\u00e3o da label MEDV (Pre\\u00e7o correspondente para o im\\u00f3vel)\", \"Distribui\\u00e7\\u00e3o da label MEDV (Pre\\u00e7o correspondente para o im\\u00f3vel)\", \"Distribui\\u00e7\\u00e3o da label MEDV (Pre\\u00e7o correspondente para o im\\u00f3vel)\", \"Distribui\\u00e7\\u00e3o da label MEDV (Pre\\u00e7o correspondente para o im\\u00f3vel)\", \"Distribui\\u00e7\\u00e3o da label MEDV (Pre\\u00e7o correspondente para o im\\u00f3vel)\", \"Distribui\\u00e7\\u00e3o da label MEDV (Pre\\u00e7o correspondente para o im\\u00f3vel)\", \"Distribui\\u00e7\\u00e3o da label MEDV (Pre\\u00e7o correspondente para o im\\u00f3vel)\", \"Distribui\\u00e7\\u00e3o da label MEDV (Pre\\u00e7o correspondente para o im\\u00f3vel)\", \"Distribui\\u00e7\\u00e3o da label MEDV (Pre\\u00e7o correspondente para o im\\u00f3vel)\", \"Distribui\\u00e7\\u00e3o da label MEDV (Pre\\u00e7o correspondente para o im\\u00f3vel)\", \"Distribui\\u00e7\\u00e3o da label MEDV (Pre\\u00e7o correspondente para o im\\u00f3vel)\", \"Distribui\\u00e7\\u00e3o da label MEDV (Pre\\u00e7o correspondente para o im\\u00f3vel)\", \"Distribui\\u00e7\\u00e3o da label MEDV (Pre\\u00e7o correspondente para o im\\u00f3vel)\", \"Distribui\\u00e7\\u00e3o da label MEDV (Pre\\u00e7o correspondente para o im\\u00f3vel)\", \"Distribui\\u00e7\\u00e3o da label MEDV (Pre\\u00e7o correspondente para o im\\u00f3vel)\", \"Distribui\\u00e7\\u00e3o da label MEDV (Pre\\u00e7o correspondente para o im\\u00f3vel)\", \"Distribui\\u00e7\\u00e3o da label MEDV (Pre\\u00e7o correspondente para o im\\u00f3vel)\", \"Distribui\\u00e7\\u00e3o da label MEDV (Pre\\u00e7o correspondente para o im\\u00f3vel)\", \"Distribui\\u00e7\\u00e3o da label MEDV (Pre\\u00e7o correspondente para o im\\u00f3vel)\", \"Distribui\\u00e7\\u00e3o da label MEDV (Pre\\u00e7o correspondente para o im\\u00f3vel)\", \"Distribui\\u00e7\\u00e3o da label MEDV (Pre\\u00e7o correspondente para o im\\u00f3vel)\", \"Distribui\\u00e7\\u00e3o da label MEDV (Pre\\u00e7o correspondente para o im\\u00f3vel)\", \"Distribui\\u00e7\\u00e3o da label MEDV (Pre\\u00e7o correspondente para o im\\u00f3vel)\", \"Distribui\\u00e7\\u00e3o da label MEDV (Pre\\u00e7o correspondente para o im\\u00f3vel)\", \"Distribui\\u00e7\\u00e3o da label MEDV (Pre\\u00e7o correspondente para o im\\u00f3vel)\", \"Distribui\\u00e7\\u00e3o da label MEDV (Pre\\u00e7o correspondente para o im\\u00f3vel)\", \"Distribui\\u00e7\\u00e3o da label MEDV (Pre\\u00e7o correspondente para o im\\u00f3vel)\", \"Distribui\\u00e7\\u00e3o da label MEDV (Pre\\u00e7o correspondente para o im\\u00f3vel)\", \"Distribui\\u00e7\\u00e3o da label MEDV (Pre\\u00e7o correspondente para o im\\u00f3vel)\", \"Distribui\\u00e7\\u00e3o da label MEDV (Pre\\u00e7o correspondente para o im\\u00f3vel)\", \"Distribui\\u00e7\\u00e3o da label MEDV (Pre\\u00e7o correspondente para o im\\u00f3vel)\", \"Distribui\\u00e7\\u00e3o da label MEDV (Pre\\u00e7o correspondente para o im\\u00f3vel)\", \"Distribui\\u00e7\\u00e3o da label MEDV (Pre\\u00e7o correspondente para o im\\u00f3vel)\", \"Distribui\\u00e7\\u00e3o da label MEDV (Pre\\u00e7o correspondente para o im\\u00f3vel)\", \"Distribui\\u00e7\\u00e3o da label MEDV (Pre\\u00e7o correspondente para o im\\u00f3vel)\", \"Distribui\\u00e7\\u00e3o da label MEDV (Pre\\u00e7o correspondente para o im\\u00f3vel)\", \"Distribui\\u00e7\\u00e3o da label MEDV (Pre\\u00e7o correspondente para o im\\u00f3vel)\", \"Distribui\\u00e7\\u00e3o da label MEDV (Pre\\u00e7o correspondente para o im\\u00f3vel)\", \"Distribui\\u00e7\\u00e3o da label MEDV (Pre\\u00e7o correspondente para o im\\u00f3vel)\", \"Distribui\\u00e7\\u00e3o da label MEDV (Pre\\u00e7o correspondente para o im\\u00f3vel)\", \"Distribui\\u00e7\\u00e3o da label MEDV (Pre\\u00e7o correspondente para o im\\u00f3vel)\", \"Distribui\\u00e7\\u00e3o da label MEDV (Pre\\u00e7o correspondente para o im\\u00f3vel)\", \"Distribui\\u00e7\\u00e3o da label MEDV (Pre\\u00e7o correspondente para o im\\u00f3vel)\", \"Distribui\\u00e7\\u00e3o da label MEDV (Pre\\u00e7o correspondente para o im\\u00f3vel)\", \"Distribui\\u00e7\\u00e3o da label MEDV (Pre\\u00e7o correspondente para o im\\u00f3vel)\", \"Distribui\\u00e7\\u00e3o da label MEDV (Pre\\u00e7o correspondente para o im\\u00f3vel)\", \"Distribui\\u00e7\\u00e3o da label MEDV (Pre\\u00e7o correspondente para o im\\u00f3vel)\", \"Distribui\\u00e7\\u00e3o da label MEDV (Pre\\u00e7o correspondente para o im\\u00f3vel)\", \"Distribui\\u00e7\\u00e3o da label MEDV (Pre\\u00e7o correspondente para o im\\u00f3vel)\", \"Distribui\\u00e7\\u00e3o da label MEDV (Pre\\u00e7o correspondente para o im\\u00f3vel)\", \"Distribui\\u00e7\\u00e3o da label MEDV (Pre\\u00e7o correspondente para o im\\u00f3vel)\", \"Distribui\\u00e7\\u00e3o da label MEDV (Pre\\u00e7o correspondente para o im\\u00f3vel)\", \"Distribui\\u00e7\\u00e3o da label MEDV (Pre\\u00e7o correspondente para o im\\u00f3vel)\", \"Distribui\\u00e7\\u00e3o da label MEDV (Pre\\u00e7o correspondente para o im\\u00f3vel)\", \"Distribui\\u00e7\\u00e3o da label MEDV (Pre\\u00e7o correspondente para o im\\u00f3vel)\", \"Distribui\\u00e7\\u00e3o da label MEDV (Pre\\u00e7o correspondente para o im\\u00f3vel)\", \"Distribui\\u00e7\\u00e3o da label MEDV (Pre\\u00e7o correspondente para o im\\u00f3vel)\", \"Distribui\\u00e7\\u00e3o da label MEDV (Pre\\u00e7o correspondente para o im\\u00f3vel)\", \"Distribui\\u00e7\\u00e3o da label MEDV (Pre\\u00e7o correspondente para o im\\u00f3vel)\", \"Distribui\\u00e7\\u00e3o da label MEDV (Pre\\u00e7o correspondente para o im\\u00f3vel)\", \"Distribui\\u00e7\\u00e3o da label MEDV (Pre\\u00e7o correspondente para o im\\u00f3vel)\", \"Distribui\\u00e7\\u00e3o da label MEDV (Pre\\u00e7o correspondente para o im\\u00f3vel)\", \"Distribui\\u00e7\\u00e3o da label MEDV (Pre\\u00e7o correspondente para o im\\u00f3vel)\", \"Distribui\\u00e7\\u00e3o da label MEDV (Pre\\u00e7o correspondente para o im\\u00f3vel)\", \"Distribui\\u00e7\\u00e3o da label MEDV (Pre\\u00e7o correspondente para o im\\u00f3vel)\", \"Distribui\\u00e7\\u00e3o da label MEDV (Pre\\u00e7o correspondente para o im\\u00f3vel)\", \"Distribui\\u00e7\\u00e3o da label MEDV (Pre\\u00e7o correspondente para o im\\u00f3vel)\", \"Distribui\\u00e7\\u00e3o da label MEDV (Pre\\u00e7o correspondente para o im\\u00f3vel)\", \"Distribui\\u00e7\\u00e3o da label MEDV (Pre\\u00e7o correspondente para o im\\u00f3vel)\", \"Distribui\\u00e7\\u00e3o da label MEDV (Pre\\u00e7o correspondente para o im\\u00f3vel)\", \"Distribui\\u00e7\\u00e3o da label MEDV (Pre\\u00e7o correspondente para o im\\u00f3vel)\", \"Distribui\\u00e7\\u00e3o da label MEDV (Pre\\u00e7o correspondente para o im\\u00f3vel)\", \"Distribui\\u00e7\\u00e3o da label MEDV (Pre\\u00e7o correspondente para o im\\u00f3vel)\", \"Distribui\\u00e7\\u00e3o da label MEDV (Pre\\u00e7o correspondente para o im\\u00f3vel)\", \"Distribui\\u00e7\\u00e3o da label MEDV (Pre\\u00e7o correspondente para o im\\u00f3vel)\", \"Distribui\\u00e7\\u00e3o da label MEDV (Pre\\u00e7o correspondente para o im\\u00f3vel)\", \"Distribui\\u00e7\\u00e3o da label MEDV (Pre\\u00e7o correspondente para o im\\u00f3vel)\", \"Distribui\\u00e7\\u00e3o da label MEDV (Pre\\u00e7o correspondente para o im\\u00f3vel)\", \"Distribui\\u00e7\\u00e3o da label MEDV (Pre\\u00e7o correspondente para o im\\u00f3vel)\", \"Distribui\\u00e7\\u00e3o da label MEDV (Pre\\u00e7o correspondente para o im\\u00f3vel)\", \"Distribui\\u00e7\\u00e3o da label MEDV (Pre\\u00e7o correspondente para o im\\u00f3vel)\", \"Distribui\\u00e7\\u00e3o da label MEDV (Pre\\u00e7o correspondente para o im\\u00f3vel)\", \"Distribui\\u00e7\\u00e3o da label MEDV (Pre\\u00e7o correspondente para o im\\u00f3vel)\", \"Distribui\\u00e7\\u00e3o da label MEDV (Pre\\u00e7o correspondente para o im\\u00f3vel)\", \"Distribui\\u00e7\\u00e3o da label MEDV (Pre\\u00e7o correspondente para o im\\u00f3vel)\", \"Distribui\\u00e7\\u00e3o da label MEDV (Pre\\u00e7o correspondente para o im\\u00f3vel)\", \"Distribui\\u00e7\\u00e3o da label MEDV (Pre\\u00e7o correspondente para o im\\u00f3vel)\", \"Distribui\\u00e7\\u00e3o da label MEDV (Pre\\u00e7o correspondente para o im\\u00f3vel)\", \"Distribui\\u00e7\\u00e3o da label MEDV (Pre\\u00e7o correspondente para o im\\u00f3vel)\", \"Distribui\\u00e7\\u00e3o da label MEDV (Pre\\u00e7o correspondente para o im\\u00f3vel)\", \"Distribui\\u00e7\\u00e3o da label MEDV (Pre\\u00e7o correspondente para o im\\u00f3vel)\", \"Distribui\\u00e7\\u00e3o da label MEDV (Pre\\u00e7o correspondente para o im\\u00f3vel)\", \"Distribui\\u00e7\\u00e3o da label MEDV (Pre\\u00e7o correspondente para o im\\u00f3vel)\", \"Distribui\\u00e7\\u00e3o da label MEDV (Pre\\u00e7o correspondente para o im\\u00f3vel)\", \"Distribui\\u00e7\\u00e3o da label MEDV (Pre\\u00e7o correspondente para o im\\u00f3vel)\", \"Distribui\\u00e7\\u00e3o da label MEDV (Pre\\u00e7o correspondente para o im\\u00f3vel)\", \"Distribui\\u00e7\\u00e3o da label MEDV (Pre\\u00e7o correspondente para o im\\u00f3vel)\", \"Distribui\\u00e7\\u00e3o da label MEDV (Pre\\u00e7o correspondente para o im\\u00f3vel)\", \"Distribui\\u00e7\\u00e3o da label MEDV (Pre\\u00e7o correspondente para o im\\u00f3vel)\", \"Distribui\\u00e7\\u00e3o da label MEDV (Pre\\u00e7o correspondente para o im\\u00f3vel)\", \"Distribui\\u00e7\\u00e3o da label MEDV (Pre\\u00e7o correspondente para o im\\u00f3vel)\", \"Distribui\\u00e7\\u00e3o da label MEDV (Pre\\u00e7o correspondente para o im\\u00f3vel)\", \"Distribui\\u00e7\\u00e3o da label MEDV (Pre\\u00e7o correspondente para o im\\u00f3vel)\", \"Distribui\\u00e7\\u00e3o da label MEDV (Pre\\u00e7o correspondente para o im\\u00f3vel)\", \"Distribui\\u00e7\\u00e3o da label MEDV (Pre\\u00e7o correspondente para o im\\u00f3vel)\", \"Distribui\\u00e7\\u00e3o da label MEDV (Pre\\u00e7o correspondente para o im\\u00f3vel)\", \"Distribui\\u00e7\\u00e3o da label MEDV (Pre\\u00e7o correspondente para o im\\u00f3vel)\", \"Distribui\\u00e7\\u00e3o da label MEDV (Pre\\u00e7o correspondente para o im\\u00f3vel)\", \"Distribui\\u00e7\\u00e3o da label MEDV (Pre\\u00e7o correspondente para o im\\u00f3vel)\", \"Distribui\\u00e7\\u00e3o da label MEDV (Pre\\u00e7o correspondente para o im\\u00f3vel)\", \"Distribui\\u00e7\\u00e3o da label MEDV (Pre\\u00e7o correspondente para o im\\u00f3vel)\", \"Distribui\\u00e7\\u00e3o da label MEDV (Pre\\u00e7o correspondente para o im\\u00f3vel)\", \"Distribui\\u00e7\\u00e3o da label MEDV (Pre\\u00e7o correspondente para o im\\u00f3vel)\", \"Distribui\\u00e7\\u00e3o da label MEDV (Pre\\u00e7o correspondente para o im\\u00f3vel)\", \"Distribui\\u00e7\\u00e3o da label MEDV (Pre\\u00e7o correspondente para o im\\u00f3vel)\", \"Distribui\\u00e7\\u00e3o da label MEDV (Pre\\u00e7o correspondente para o im\\u00f3vel)\", \"Distribui\\u00e7\\u00e3o da label MEDV (Pre\\u00e7o correspondente para o im\\u00f3vel)\", \"Distribui\\u00e7\\u00e3o da label MEDV (Pre\\u00e7o correspondente para o im\\u00f3vel)\", \"Distribui\\u00e7\\u00e3o da label MEDV (Pre\\u00e7o correspondente para o im\\u00f3vel)\", \"Distribui\\u00e7\\u00e3o da label MEDV (Pre\\u00e7o correspondente para o im\\u00f3vel)\", \"Distribui\\u00e7\\u00e3o da label MEDV (Pre\\u00e7o correspondente para o im\\u00f3vel)\", \"Distribui\\u00e7\\u00e3o da label MEDV (Pre\\u00e7o correspondente para o im\\u00f3vel)\", \"Distribui\\u00e7\\u00e3o da label MEDV (Pre\\u00e7o correspondente para o im\\u00f3vel)\", \"Distribui\\u00e7\\u00e3o da label MEDV (Pre\\u00e7o correspondente para o im\\u00f3vel)\", \"Distribui\\u00e7\\u00e3o da label MEDV (Pre\\u00e7o correspondente para o im\\u00f3vel)\", \"Distribui\\u00e7\\u00e3o da label MEDV (Pre\\u00e7o correspondente para o im\\u00f3vel)\", \"Distribui\\u00e7\\u00e3o da label MEDV (Pre\\u00e7o correspondente para o im\\u00f3vel)\", \"Distribui\\u00e7\\u00e3o da label MEDV (Pre\\u00e7o correspondente para o im\\u00f3vel)\", \"Distribui\\u00e7\\u00e3o da label MEDV (Pre\\u00e7o correspondente para o im\\u00f3vel)\", \"Distribui\\u00e7\\u00e3o da label MEDV (Pre\\u00e7o correspondente para o im\\u00f3vel)\", \"Distribui\\u00e7\\u00e3o da label MEDV (Pre\\u00e7o correspondente para o im\\u00f3vel)\", \"Distribui\\u00e7\\u00e3o da label MEDV (Pre\\u00e7o correspondente para o im\\u00f3vel)\", \"Distribui\\u00e7\\u00e3o da label MEDV (Pre\\u00e7o correspondente para o im\\u00f3vel)\", \"Distribui\\u00e7\\u00e3o da label MEDV (Pre\\u00e7o correspondente para o im\\u00f3vel)\", \"Distribui\\u00e7\\u00e3o da label MEDV (Pre\\u00e7o correspondente para o im\\u00f3vel)\", \"Distribui\\u00e7\\u00e3o da label MEDV (Pre\\u00e7o correspondente para o im\\u00f3vel)\", \"Distribui\\u00e7\\u00e3o da label MEDV (Pre\\u00e7o correspondente para o im\\u00f3vel)\", \"Distribui\\u00e7\\u00e3o da label MEDV (Pre\\u00e7o correspondente para o im\\u00f3vel)\", \"Distribui\\u00e7\\u00e3o da label MEDV (Pre\\u00e7o correspondente para o im\\u00f3vel)\", \"Distribui\\u00e7\\u00e3o da label MEDV (Pre\\u00e7o correspondente para o im\\u00f3vel)\", \"Distribui\\u00e7\\u00e3o da label MEDV (Pre\\u00e7o correspondente para o im\\u00f3vel)\", \"Distribui\\u00e7\\u00e3o da label MEDV (Pre\\u00e7o correspondente para o im\\u00f3vel)\", \"Distribui\\u00e7\\u00e3o da label MEDV (Pre\\u00e7o correspondente para o im\\u00f3vel)\", \"Distribui\\u00e7\\u00e3o da label MEDV (Pre\\u00e7o correspondente para o im\\u00f3vel)\", \"Distribui\\u00e7\\u00e3o da label MEDV (Pre\\u00e7o correspondente para o im\\u00f3vel)\", \"Distribui\\u00e7\\u00e3o da label MEDV (Pre\\u00e7o correspondente para o im\\u00f3vel)\", \"Distribui\\u00e7\\u00e3o da label MEDV (Pre\\u00e7o correspondente para o im\\u00f3vel)\", \"Distribui\\u00e7\\u00e3o da label MEDV (Pre\\u00e7o correspondente para o im\\u00f3vel)\", \"Distribui\\u00e7\\u00e3o da label MEDV (Pre\\u00e7o correspondente para o im\\u00f3vel)\", \"Distribui\\u00e7\\u00e3o da label MEDV (Pre\\u00e7o correspondente para o im\\u00f3vel)\", \"Distribui\\u00e7\\u00e3o da label MEDV (Pre\\u00e7o correspondente para o im\\u00f3vel)\", \"Distribui\\u00e7\\u00e3o da label MEDV (Pre\\u00e7o correspondente para o im\\u00f3vel)\", \"Distribui\\u00e7\\u00e3o da label MEDV (Pre\\u00e7o correspondente para o im\\u00f3vel)\", \"Distribui\\u00e7\\u00e3o da label MEDV (Pre\\u00e7o correspondente para o im\\u00f3vel)\", \"Distribui\\u00e7\\u00e3o da label MEDV (Pre\\u00e7o correspondente para o im\\u00f3vel)\", \"Distribui\\u00e7\\u00e3o da label MEDV (Pre\\u00e7o correspondente para o im\\u00f3vel)\", \"Distribui\\u00e7\\u00e3o da label MEDV (Pre\\u00e7o correspondente para o im\\u00f3vel)\", \"Distribui\\u00e7\\u00e3o da label MEDV (Pre\\u00e7o correspondente para o im\\u00f3vel)\", \"Distribui\\u00e7\\u00e3o da label MEDV (Pre\\u00e7o correspondente para o im\\u00f3vel)\", \"Distribui\\u00e7\\u00e3o da label MEDV (Pre\\u00e7o correspondente para o im\\u00f3vel)\", \"Distribui\\u00e7\\u00e3o da label MEDV (Pre\\u00e7o correspondente para o im\\u00f3vel)\", \"Distribui\\u00e7\\u00e3o da label MEDV (Pre\\u00e7o correspondente para o im\\u00f3vel)\", \"Distribui\\u00e7\\u00e3o da label MEDV (Pre\\u00e7o correspondente para o im\\u00f3vel)\", \"Distribui\\u00e7\\u00e3o da label MEDV (Pre\\u00e7o correspondente para o im\\u00f3vel)\", \"Distribui\\u00e7\\u00e3o da label MEDV (Pre\\u00e7o correspondente para o im\\u00f3vel)\", \"Distribui\\u00e7\\u00e3o da label MEDV (Pre\\u00e7o correspondente para o im\\u00f3vel)\", \"Distribui\\u00e7\\u00e3o da label MEDV (Pre\\u00e7o correspondente para o im\\u00f3vel)\", \"Distribui\\u00e7\\u00e3o da label MEDV (Pre\\u00e7o correspondente para o im\\u00f3vel)\", \"Distribui\\u00e7\\u00e3o da label MEDV (Pre\\u00e7o correspondente para o im\\u00f3vel)\", \"Distribui\\u00e7\\u00e3o da label MEDV (Pre\\u00e7o correspondente para o im\\u00f3vel)\", \"Distribui\\u00e7\\u00e3o da label MEDV (Pre\\u00e7o correspondente para o im\\u00f3vel)\", \"Distribui\\u00e7\\u00e3o da label MEDV (Pre\\u00e7o correspondente para o im\\u00f3vel)\", \"Distribui\\u00e7\\u00e3o da label MEDV (Pre\\u00e7o correspondente para o im\\u00f3vel)\", \"Distribui\\u00e7\\u00e3o da label MEDV (Pre\\u00e7o correspondente para o im\\u00f3vel)\", \"Distribui\\u00e7\\u00e3o da label MEDV (Pre\\u00e7o correspondente para o im\\u00f3vel)\", \"Distribui\\u00e7\\u00e3o da label MEDV (Pre\\u00e7o correspondente para o im\\u00f3vel)\", \"Distribui\\u00e7\\u00e3o da label MEDV (Pre\\u00e7o correspondente para o im\\u00f3vel)\", \"Distribui\\u00e7\\u00e3o da label MEDV (Pre\\u00e7o correspondente para o im\\u00f3vel)\", \"Distribui\\u00e7\\u00e3o da label MEDV (Pre\\u00e7o correspondente para o im\\u00f3vel)\", \"Distribui\\u00e7\\u00e3o da label MEDV (Pre\\u00e7o correspondente para o im\\u00f3vel)\", \"Distribui\\u00e7\\u00e3o da label MEDV (Pre\\u00e7o correspondente para o im\\u00f3vel)\", \"Distribui\\u00e7\\u00e3o da label MEDV (Pre\\u00e7o correspondente para o im\\u00f3vel)\", \"Distribui\\u00e7\\u00e3o da label MEDV (Pre\\u00e7o correspondente para o im\\u00f3vel)\", \"Distribui\\u00e7\\u00e3o da label MEDV (Pre\\u00e7o correspondente para o im\\u00f3vel)\", \"Distribui\\u00e7\\u00e3o da label MEDV (Pre\\u00e7o correspondente para o im\\u00f3vel)\", \"Distribui\\u00e7\\u00e3o da label MEDV (Pre\\u00e7o correspondente para o im\\u00f3vel)\", \"Distribui\\u00e7\\u00e3o da label MEDV (Pre\\u00e7o correspondente para o im\\u00f3vel)\", \"Distribui\\u00e7\\u00e3o da label MEDV (Pre\\u00e7o correspondente para o im\\u00f3vel)\", \"Distribui\\u00e7\\u00e3o da label MEDV (Pre\\u00e7o correspondente para o im\\u00f3vel)\", \"Distribui\\u00e7\\u00e3o da label MEDV (Pre\\u00e7o correspondente para o im\\u00f3vel)\", \"Distribui\\u00e7\\u00e3o da label MEDV (Pre\\u00e7o correspondente para o im\\u00f3vel)\", \"Distribui\\u00e7\\u00e3o da label MEDV (Pre\\u00e7o correspondente para o im\\u00f3vel)\", \"Distribui\\u00e7\\u00e3o da label MEDV (Pre\\u00e7o correspondente para o im\\u00f3vel)\", \"Distribui\\u00e7\\u00e3o da label MEDV (Pre\\u00e7o correspondente para o im\\u00f3vel)\", \"Distribui\\u00e7\\u00e3o da label MEDV (Pre\\u00e7o correspondente para o im\\u00f3vel)\", \"Distribui\\u00e7\\u00e3o da label MEDV (Pre\\u00e7o correspondente para o im\\u00f3vel)\", \"Distribui\\u00e7\\u00e3o da label MEDV (Pre\\u00e7o correspondente para o im\\u00f3vel)\", \"Distribui\\u00e7\\u00e3o da label MEDV (Pre\\u00e7o correspondente para o im\\u00f3vel)\", \"Distribui\\u00e7\\u00e3o da label MEDV (Pre\\u00e7o correspondente para o im\\u00f3vel)\", \"Distribui\\u00e7\\u00e3o da label MEDV (Pre\\u00e7o correspondente para o im\\u00f3vel)\", \"Distribui\\u00e7\\u00e3o da label MEDV (Pre\\u00e7o correspondente para o im\\u00f3vel)\", \"Distribui\\u00e7\\u00e3o da label MEDV (Pre\\u00e7o correspondente para o im\\u00f3vel)\", \"Distribui\\u00e7\\u00e3o da label MEDV (Pre\\u00e7o correspondente para o im\\u00f3vel)\", \"Distribui\\u00e7\\u00e3o da label MEDV (Pre\\u00e7o correspondente para o im\\u00f3vel)\", \"Distribui\\u00e7\\u00e3o da label MEDV (Pre\\u00e7o correspondente para o im\\u00f3vel)\", \"Distribui\\u00e7\\u00e3o da label MEDV (Pre\\u00e7o correspondente para o im\\u00f3vel)\", \"Distribui\\u00e7\\u00e3o da label MEDV (Pre\\u00e7o correspondente para o im\\u00f3vel)\", \"Distribui\\u00e7\\u00e3o da label MEDV (Pre\\u00e7o correspondente para o im\\u00f3vel)\", \"Distribui\\u00e7\\u00e3o da label MEDV (Pre\\u00e7o correspondente para o im\\u00f3vel)\", \"Distribui\\u00e7\\u00e3o da label MEDV (Pre\\u00e7o correspondente para o im\\u00f3vel)\", \"Distribui\\u00e7\\u00e3o da label MEDV (Pre\\u00e7o correspondente para o im\\u00f3vel)\", \"Distribui\\u00e7\\u00e3o da label MEDV (Pre\\u00e7o correspondente para o im\\u00f3vel)\", \"Distribui\\u00e7\\u00e3o da label MEDV (Pre\\u00e7o correspondente para o im\\u00f3vel)\", \"Distribui\\u00e7\\u00e3o da label MEDV (Pre\\u00e7o correspondente para o im\\u00f3vel)\", \"Distribui\\u00e7\\u00e3o da label MEDV (Pre\\u00e7o correspondente para o im\\u00f3vel)\", \"Distribui\\u00e7\\u00e3o da label MEDV (Pre\\u00e7o correspondente para o im\\u00f3vel)\", \"Distribui\\u00e7\\u00e3o da label MEDV (Pre\\u00e7o correspondente para o im\\u00f3vel)\", \"Distribui\\u00e7\\u00e3o da label MEDV (Pre\\u00e7o correspondente para o im\\u00f3vel)\", \"Distribui\\u00e7\\u00e3o da label MEDV (Pre\\u00e7o correspondente para o im\\u00f3vel)\", \"Distribui\\u00e7\\u00e3o da label MEDV (Pre\\u00e7o correspondente para o im\\u00f3vel)\", \"Distribui\\u00e7\\u00e3o da label MEDV (Pre\\u00e7o correspondente para o im\\u00f3vel)\", \"Distribui\\u00e7\\u00e3o da label MEDV (Pre\\u00e7o correspondente para o im\\u00f3vel)\", \"Distribui\\u00e7\\u00e3o da label MEDV (Pre\\u00e7o correspondente para o im\\u00f3vel)\", \"Distribui\\u00e7\\u00e3o da label MEDV (Pre\\u00e7o correspondente para o im\\u00f3vel)\", \"Distribui\\u00e7\\u00e3o da label MEDV (Pre\\u00e7o correspondente para o im\\u00f3vel)\", \"Distribui\\u00e7\\u00e3o da label MEDV (Pre\\u00e7o correspondente para o im\\u00f3vel)\", \"Distribui\\u00e7\\u00e3o da label MEDV (Pre\\u00e7o correspondente para o im\\u00f3vel)\", \"Distribui\\u00e7\\u00e3o da label MEDV (Pre\\u00e7o correspondente para o im\\u00f3vel)\", \"Distribui\\u00e7\\u00e3o da label MEDV (Pre\\u00e7o correspondente para o im\\u00f3vel)\", \"Distribui\\u00e7\\u00e3o da label MEDV (Pre\\u00e7o correspondente para o im\\u00f3vel)\", \"Distribui\\u00e7\\u00e3o da label MEDV (Pre\\u00e7o correspondente para o im\\u00f3vel)\", \"Distribui\\u00e7\\u00e3o da label MEDV (Pre\\u00e7o correspondente para o im\\u00f3vel)\", \"Distribui\\u00e7\\u00e3o da label MEDV (Pre\\u00e7o correspondente para o im\\u00f3vel)\", \"Distribui\\u00e7\\u00e3o da label MEDV (Pre\\u00e7o correspondente para o im\\u00f3vel)\", \"Distribui\\u00e7\\u00e3o da label MEDV (Pre\\u00e7o correspondente para o im\\u00f3vel)\", \"Distribui\\u00e7\\u00e3o da label MEDV (Pre\\u00e7o correspondente para o im\\u00f3vel)\", \"Distribui\\u00e7\\u00e3o da label MEDV (Pre\\u00e7o correspondente para o im\\u00f3vel)\", \"Distribui\\u00e7\\u00e3o da label MEDV (Pre\\u00e7o correspondente para o im\\u00f3vel)\", \"Distribui\\u00e7\\u00e3o da label MEDV (Pre\\u00e7o correspondente para o im\\u00f3vel)\", \"Distribui\\u00e7\\u00e3o da label MEDV (Pre\\u00e7o correspondente para o im\\u00f3vel)\", \"Distribui\\u00e7\\u00e3o da label MEDV (Pre\\u00e7o correspondente para o im\\u00f3vel)\", \"Distribui\\u00e7\\u00e3o da label MEDV (Pre\\u00e7o correspondente para o im\\u00f3vel)\", \"Distribui\\u00e7\\u00e3o da label MEDV (Pre\\u00e7o correspondente para o im\\u00f3vel)\", \"Distribui\\u00e7\\u00e3o da label MEDV (Pre\\u00e7o correspondente para o im\\u00f3vel)\", \"Distribui\\u00e7\\u00e3o da label MEDV (Pre\\u00e7o correspondente para o im\\u00f3vel)\", \"Distribui\\u00e7\\u00e3o da label MEDV (Pre\\u00e7o correspondente para o im\\u00f3vel)\", \"Distribui\\u00e7\\u00e3o da label MEDV (Pre\\u00e7o correspondente para o im\\u00f3vel)\", \"Distribui\\u00e7\\u00e3o da label MEDV (Pre\\u00e7o correspondente para o im\\u00f3vel)\", \"Distribui\\u00e7\\u00e3o da label MEDV (Pre\\u00e7o correspondente para o im\\u00f3vel)\", \"Distribui\\u00e7\\u00e3o da label MEDV (Pre\\u00e7o correspondente para o im\\u00f3vel)\", \"Distribui\\u00e7\\u00e3o da label MEDV (Pre\\u00e7o correspondente para o im\\u00f3vel)\", \"Distribui\\u00e7\\u00e3o da label MEDV (Pre\\u00e7o correspondente para o im\\u00f3vel)\", \"Distribui\\u00e7\\u00e3o da label MEDV (Pre\\u00e7o correspondente para o im\\u00f3vel)\", \"Distribui\\u00e7\\u00e3o da label MEDV (Pre\\u00e7o correspondente para o im\\u00f3vel)\", \"Distribui\\u00e7\\u00e3o da label MEDV (Pre\\u00e7o correspondente para o im\\u00f3vel)\", \"Distribui\\u00e7\\u00e3o da label MEDV (Pre\\u00e7o correspondente para o im\\u00f3vel)\", \"Distribui\\u00e7\\u00e3o da label MEDV (Pre\\u00e7o correspondente para o im\\u00f3vel)\", \"Distribui\\u00e7\\u00e3o da label MEDV (Pre\\u00e7o correspondente para o im\\u00f3vel)\", \"Distribui\\u00e7\\u00e3o da label MEDV (Pre\\u00e7o correspondente para o im\\u00f3vel)\", \"Distribui\\u00e7\\u00e3o da label MEDV (Pre\\u00e7o correspondente para o im\\u00f3vel)\", \"Distribui\\u00e7\\u00e3o da label MEDV (Pre\\u00e7o correspondente para o im\\u00f3vel)\", \"Distribui\\u00e7\\u00e3o da label MEDV (Pre\\u00e7o correspondente para o im\\u00f3vel)\", \"Distribui\\u00e7\\u00e3o da label MEDV (Pre\\u00e7o correspondente para o im\\u00f3vel)\", \"Distribui\\u00e7\\u00e3o da label MEDV (Pre\\u00e7o correspondente para o im\\u00f3vel)\", \"Distribui\\u00e7\\u00e3o da label MEDV (Pre\\u00e7o correspondente para o im\\u00f3vel)\", \"Distribui\\u00e7\\u00e3o da label MEDV (Pre\\u00e7o correspondente para o im\\u00f3vel)\", \"Distribui\\u00e7\\u00e3o da label MEDV (Pre\\u00e7o correspondente para o im\\u00f3vel)\", \"Distribui\\u00e7\\u00e3o da label MEDV (Pre\\u00e7o correspondente para o im\\u00f3vel)\", \"Distribui\\u00e7\\u00e3o da label MEDV (Pre\\u00e7o correspondente para o im\\u00f3vel)\", \"Distribui\\u00e7\\u00e3o da label MEDV (Pre\\u00e7o correspondente para o im\\u00f3vel)\", \"Distribui\\u00e7\\u00e3o da label MEDV (Pre\\u00e7o correspondente para o im\\u00f3vel)\", \"Distribui\\u00e7\\u00e3o da label MEDV (Pre\\u00e7o correspondente para o im\\u00f3vel)\", \"Distribui\\u00e7\\u00e3o da label MEDV (Pre\\u00e7o correspondente para o im\\u00f3vel)\", \"Distribui\\u00e7\\u00e3o da label MEDV (Pre\\u00e7o correspondente para o im\\u00f3vel)\", \"Distribui\\u00e7\\u00e3o da label MEDV (Pre\\u00e7o correspondente para o im\\u00f3vel)\", \"Distribui\\u00e7\\u00e3o da label MEDV (Pre\\u00e7o correspondente para o im\\u00f3vel)\", \"Distribui\\u00e7\\u00e3o da label MEDV (Pre\\u00e7o correspondente para o im\\u00f3vel)\"], \"yaxis\": \"y2\"}],\n",
              "                        {\"barmode\": \"overlay\", \"hovermode\": \"closest\", \"legend\": {\"traceorder\": \"reversed\"}, \"template\": {\"data\": {\"bar\": [{\"error_x\": {\"color\": \"#2a3f5f\"}, \"error_y\": {\"color\": \"#2a3f5f\"}, \"marker\": {\"line\": {\"color\": \"#E5ECF6\", \"width\": 0.5}}, \"type\": \"bar\"}], \"barpolar\": [{\"marker\": {\"line\": {\"color\": \"#E5ECF6\", \"width\": 0.5}}, \"type\": \"barpolar\"}], \"carpet\": [{\"aaxis\": {\"endlinecolor\": \"#2a3f5f\", \"gridcolor\": \"white\", \"linecolor\": \"white\", \"minorgridcolor\": \"white\", \"startlinecolor\": \"#2a3f5f\"}, \"baxis\": {\"endlinecolor\": \"#2a3f5f\", \"gridcolor\": \"white\", \"linecolor\": \"white\", \"minorgridcolor\": \"white\", \"startlinecolor\": \"#2a3f5f\"}, \"type\": \"carpet\"}], \"choropleth\": [{\"colorbar\": {\"outlinewidth\": 0, \"ticks\": \"\"}, \"type\": \"choropleth\"}], \"contour\": [{\"colorbar\": {\"outlinewidth\": 0, \"ticks\": \"\"}, \"colorscale\": [[0.0, \"#0d0887\"], [0.1111111111111111, \"#46039f\"], [0.2222222222222222, \"#7201a8\"], [0.3333333333333333, \"#9c179e\"], [0.4444444444444444, \"#bd3786\"], [0.5555555555555556, \"#d8576b\"], [0.6666666666666666, \"#ed7953\"], [0.7777777777777778, \"#fb9f3a\"], [0.8888888888888888, \"#fdca26\"], [1.0, \"#f0f921\"]], \"type\": \"contour\"}], \"contourcarpet\": [{\"colorbar\": {\"outlinewidth\": 0, \"ticks\": \"\"}, \"type\": \"contourcarpet\"}], \"heatmap\": [{\"colorbar\": {\"outlinewidth\": 0, \"ticks\": \"\"}, \"colorscale\": [[0.0, \"#0d0887\"], [0.1111111111111111, \"#46039f\"], [0.2222222222222222, \"#7201a8\"], [0.3333333333333333, \"#9c179e\"], [0.4444444444444444, \"#bd3786\"], [0.5555555555555556, \"#d8576b\"], [0.6666666666666666, \"#ed7953\"], [0.7777777777777778, \"#fb9f3a\"], [0.8888888888888888, \"#fdca26\"], [1.0, \"#f0f921\"]], \"type\": \"heatmap\"}], \"heatmapgl\": [{\"colorbar\": {\"outlinewidth\": 0, \"ticks\": \"\"}, \"colorscale\": [[0.0, \"#0d0887\"], [0.1111111111111111, \"#46039f\"], [0.2222222222222222, \"#7201a8\"], [0.3333333333333333, \"#9c179e\"], [0.4444444444444444, \"#bd3786\"], [0.5555555555555556, \"#d8576b\"], [0.6666666666666666, \"#ed7953\"], [0.7777777777777778, \"#fb9f3a\"], [0.8888888888888888, \"#fdca26\"], [1.0, \"#f0f921\"]], \"type\": \"heatmapgl\"}], \"histogram\": [{\"marker\": {\"colorbar\": {\"outlinewidth\": 0, \"ticks\": \"\"}}, \"type\": \"histogram\"}], \"histogram2d\": [{\"colorbar\": {\"outlinewidth\": 0, \"ticks\": \"\"}, \"colorscale\": [[0.0, \"#0d0887\"], [0.1111111111111111, \"#46039f\"], [0.2222222222222222, \"#7201a8\"], [0.3333333333333333, \"#9c179e\"], [0.4444444444444444, \"#bd3786\"], [0.5555555555555556, \"#d8576b\"], [0.6666666666666666, \"#ed7953\"], [0.7777777777777778, \"#fb9f3a\"], [0.8888888888888888, \"#fdca26\"], [1.0, \"#f0f921\"]], \"type\": \"histogram2d\"}], \"histogram2dcontour\": [{\"colorbar\": {\"outlinewidth\": 0, \"ticks\": \"\"}, \"colorscale\": [[0.0, \"#0d0887\"], [0.1111111111111111, \"#46039f\"], [0.2222222222222222, \"#7201a8\"], [0.3333333333333333, \"#9c179e\"], [0.4444444444444444, \"#bd3786\"], [0.5555555555555556, \"#d8576b\"], [0.6666666666666666, \"#ed7953\"], [0.7777777777777778, \"#fb9f3a\"], [0.8888888888888888, \"#fdca26\"], [1.0, \"#f0f921\"]], \"type\": \"histogram2dcontour\"}], \"mesh3d\": [{\"colorbar\": {\"outlinewidth\": 0, \"ticks\": \"\"}, \"type\": \"mesh3d\"}], \"parcoords\": [{\"line\": {\"colorbar\": {\"outlinewidth\": 0, \"ticks\": \"\"}}, \"type\": \"parcoords\"}], \"pie\": [{\"automargin\": true, \"type\": \"pie\"}], \"scatter\": [{\"marker\": {\"colorbar\": {\"outlinewidth\": 0, \"ticks\": \"\"}}, \"type\": \"scatter\"}], \"scatter3d\": [{\"line\": {\"colorbar\": {\"outlinewidth\": 0, \"ticks\": \"\"}}, \"marker\": {\"colorbar\": {\"outlinewidth\": 0, \"ticks\": \"\"}}, \"type\": \"scatter3d\"}], \"scattercarpet\": [{\"marker\": {\"colorbar\": {\"outlinewidth\": 0, \"ticks\": \"\"}}, \"type\": \"scattercarpet\"}], \"scattergeo\": [{\"marker\": {\"colorbar\": {\"outlinewidth\": 0, \"ticks\": \"\"}}, \"type\": \"scattergeo\"}], \"scattergl\": [{\"marker\": {\"colorbar\": {\"outlinewidth\": 0, \"ticks\": \"\"}}, \"type\": \"scattergl\"}], \"scattermapbox\": [{\"marker\": {\"colorbar\": {\"outlinewidth\": 0, \"ticks\": \"\"}}, \"type\": \"scattermapbox\"}], \"scatterpolar\": [{\"marker\": {\"colorbar\": {\"outlinewidth\": 0, \"ticks\": \"\"}}, \"type\": \"scatterpolar\"}], \"scatterpolargl\": [{\"marker\": {\"colorbar\": {\"outlinewidth\": 0, \"ticks\": \"\"}}, \"type\": \"scatterpolargl\"}], \"scatterternary\": [{\"marker\": {\"colorbar\": {\"outlinewidth\": 0, \"ticks\": \"\"}}, \"type\": \"scatterternary\"}], \"surface\": [{\"colorbar\": {\"outlinewidth\": 0, \"ticks\": \"\"}, \"colorscale\": [[0.0, \"#0d0887\"], [0.1111111111111111, \"#46039f\"], [0.2222222222222222, \"#7201a8\"], [0.3333333333333333, \"#9c179e\"], [0.4444444444444444, \"#bd3786\"], [0.5555555555555556, \"#d8576b\"], [0.6666666666666666, \"#ed7953\"], [0.7777777777777778, \"#fb9f3a\"], [0.8888888888888888, \"#fdca26\"], [1.0, \"#f0f921\"]], \"type\": \"surface\"}], \"table\": [{\"cells\": {\"fill\": {\"color\": \"#EBF0F8\"}, \"line\": {\"color\": \"white\"}}, \"header\": {\"fill\": {\"color\": \"#C8D4E3\"}, \"line\": {\"color\": \"white\"}}, \"type\": \"table\"}]}, \"layout\": {\"annotationdefaults\": {\"arrowcolor\": \"#2a3f5f\", \"arrowhead\": 0, \"arrowwidth\": 1}, \"coloraxis\": {\"colorbar\": {\"outlinewidth\": 0, \"ticks\": \"\"}}, \"colorscale\": {\"diverging\": [[0, \"#8e0152\"], [0.1, \"#c51b7d\"], [0.2, \"#de77ae\"], [0.3, \"#f1b6da\"], [0.4, \"#fde0ef\"], [0.5, \"#f7f7f7\"], [0.6, \"#e6f5d0\"], [0.7, \"#b8e186\"], [0.8, \"#7fbc41\"], [0.9, \"#4d9221\"], [1, \"#276419\"]], \"sequential\": [[0.0, \"#0d0887\"], [0.1111111111111111, \"#46039f\"], [0.2222222222222222, \"#7201a8\"], [0.3333333333333333, \"#9c179e\"], [0.4444444444444444, \"#bd3786\"], [0.5555555555555556, \"#d8576b\"], [0.6666666666666666, \"#ed7953\"], [0.7777777777777778, \"#fb9f3a\"], [0.8888888888888888, \"#fdca26\"], [1.0, \"#f0f921\"]], \"sequentialminus\": [[0.0, \"#0d0887\"], [0.1111111111111111, \"#46039f\"], [0.2222222222222222, \"#7201a8\"], [0.3333333333333333, \"#9c179e\"], [0.4444444444444444, \"#bd3786\"], [0.5555555555555556, \"#d8576b\"], [0.6666666666666666, \"#ed7953\"], [0.7777777777777778, \"#fb9f3a\"], [0.8888888888888888, \"#fdca26\"], [1.0, \"#f0f921\"]]}, \"colorway\": [\"#636efa\", \"#EF553B\", \"#00cc96\", \"#ab63fa\", \"#FFA15A\", \"#19d3f3\", \"#FF6692\", \"#B6E880\", \"#FF97FF\", \"#FECB52\"], \"font\": {\"color\": \"#2a3f5f\"}, \"geo\": {\"bgcolor\": \"white\", \"lakecolor\": \"white\", \"landcolor\": \"#E5ECF6\", \"showlakes\": true, \"showland\": true, \"subunitcolor\": \"white\"}, \"hoverlabel\": {\"align\": \"left\"}, \"hovermode\": \"closest\", \"mapbox\": {\"style\": \"light\"}, \"paper_bgcolor\": \"white\", \"plot_bgcolor\": \"#E5ECF6\", \"polar\": {\"angularaxis\": {\"gridcolor\": \"white\", \"linecolor\": \"white\", \"ticks\": \"\"}, \"bgcolor\": \"#E5ECF6\", \"radialaxis\": {\"gridcolor\": \"white\", \"linecolor\": \"white\", \"ticks\": \"\"}}, \"scene\": {\"xaxis\": {\"backgroundcolor\": \"#E5ECF6\", \"gridcolor\": \"white\", \"gridwidth\": 2, \"linecolor\": \"white\", \"showbackground\": true, \"ticks\": \"\", \"zerolinecolor\": \"white\"}, \"yaxis\": {\"backgroundcolor\": \"#E5ECF6\", \"gridcolor\": \"white\", \"gridwidth\": 2, \"linecolor\": \"white\", \"showbackground\": true, \"ticks\": \"\", \"zerolinecolor\": \"white\"}, \"zaxis\": {\"backgroundcolor\": \"#E5ECF6\", \"gridcolor\": \"white\", \"gridwidth\": 2, \"linecolor\": \"white\", \"showbackground\": true, \"ticks\": \"\", \"zerolinecolor\": \"white\"}}, \"shapedefaults\": {\"line\": {\"color\": \"#2a3f5f\"}}, \"ternary\": {\"aaxis\": {\"gridcolor\": \"white\", \"linecolor\": \"white\", \"ticks\": \"\"}, \"baxis\": {\"gridcolor\": \"white\", \"linecolor\": \"white\", \"ticks\": \"\"}, \"bgcolor\": \"#E5ECF6\", \"caxis\": {\"gridcolor\": \"white\", \"linecolor\": \"white\", \"ticks\": \"\"}}, \"title\": {\"x\": 0.05}, \"xaxis\": {\"automargin\": true, \"gridcolor\": \"white\", \"linecolor\": \"white\", \"ticks\": \"\", \"title\": {\"standoff\": 15}, \"zerolinecolor\": \"white\", \"zerolinewidth\": 2}, \"yaxis\": {\"automargin\": true, \"gridcolor\": \"white\", \"linecolor\": \"white\", \"ticks\": \"\", \"title\": {\"standoff\": 15}, \"zerolinecolor\": \"white\", \"zerolinewidth\": 2}}}, \"xaxis\": {\"anchor\": \"y2\", \"domain\": [0.0, 1.0], \"zeroline\": false}, \"yaxis\": {\"anchor\": \"free\", \"domain\": [0.35, 1], \"position\": 0.0}, \"yaxis2\": {\"anchor\": \"x\", \"domain\": [0, 0.25], \"dtick\": 1, \"showticklabels\": false}},\n",
              "                        {\"responsive\": true}\n",
              "                    ).then(function(){\n",
              "                            \n",
              "var gd = document.getElementById('9c512790-0978-488c-9c09-2c5cf5134e49');\n",
              "var x = new MutationObserver(function (mutations, observer) {{\n",
              "        var display = window.getComputedStyle(gd).display;\n",
              "        if (!display || display === 'none') {{\n",
              "            console.log([gd, 'removed!']);\n",
              "            Plotly.purge(gd);\n",
              "            observer.disconnect();\n",
              "        }}\n",
              "}});\n",
              "\n",
              "// Listen for the removal of the full notebook cells\n",
              "var notebookContainer = gd.closest('#notebook-container');\n",
              "if (notebookContainer) {{\n",
              "    x.observe(notebookContainer, {childList: true});\n",
              "}}\n",
              "\n",
              "// Listen for the clearing of the current output cell\n",
              "var outputEl = gd.closest('.output');\n",
              "if (outputEl) {{\n",
              "    x.observe(outputEl, {childList: true});\n",
              "}}\n",
              "\n",
              "                        })\n",
              "                };\n",
              "                \n",
              "            </script>\n",
              "        </div>\n",
              "</body>\n",
              "</html>"
            ]
          },
          "metadata": {
            "tags": []
          }
        }
      ]
    },
    {
      "cell_type": "markdown",
      "metadata": {
        "id": "rs929z6KzEXb",
        "colab_type": "text"
      },
      "source": [
        "# Coeficiente de Pearson"
      ]
    },
    {
      "cell_type": "markdown",
      "metadata": {
        "id": "irYKwo5AzVLH",
        "colab_type": "text"
      },
      "source": [
        "**Biblioteca com vários métodos científicos implementados**"
      ]
    },
    {
      "cell_type": "code",
      "metadata": {
        "id": "6iECpT-zyN0R",
        "colab_type": "code",
        "colab": {}
      },
      "source": [
        " from scipy import stats "
      ],
      "execution_count": 0,
      "outputs": []
    },
    {
      "cell_type": "markdown",
      "metadata": {
        "id": "L2HVgmc2zaOk",
        "colab_type": "text"
      },
      "source": [
        "**Método skew para calcular o coeficiente de Pearson**"
      ]
    },
    {
      "cell_type": "code",
      "metadata": {
        "id": "wnS5CAo0zJ44",
        "colab_type": "code",
        "outputId": "00837067-ed91-48f0-d3f0-a8c021ca3e0d",
        "colab": {
          "base_uri": "https://localhost:8080/",
          "height": 34
        }
      },
      "source": [
        "stats.skew(dados.MEDV)"
      ],
      "execution_count": 0,
      "outputs": [
        {
          "output_type": "execute_result",
          "data": {
            "text/plain": [
              "1.104810822864635"
            ]
          },
          "metadata": {
            "tags": []
          },
          "execution_count": 26
        }
      ]
    },
    {
      "cell_type": "markdown",
      "metadata": {
        "id": "TY2F5wHVzlSc",
        "colab_type": "text"
      },
      "source": [
        "**Interpretação dos dados** \n",
        "\n",
        "Entre -1 e 1 --> Distribuição Simétrica\n",
        "\n",
        "Valor maior que 1 --> Distribuição Assimétria à direita (positiva)\n",
        "\n",
        "Valor menor que -1 --> Distribuição Assimétrica à esquerda (negativa)"
      ]
    },
    {
      "cell_type": "code",
      "metadata": {
        "id": "9kThU3_9zMk0",
        "colab_type": "code",
        "outputId": "08412475-6712-4504-bd10-b918f3cc88fb",
        "colab": {
          "base_uri": "https://localhost:8080/",
          "height": 542
        }
      },
      "source": [
        "fig = px.histogram(dados, x=\"MEDV\", nbins=50, opacity=0.50)\n",
        "fig.show()"
      ],
      "execution_count": 0,
      "outputs": [
        {
          "output_type": "display_data",
          "data": {
            "text/html": [
              "<html>\n",
              "<head><meta charset=\"utf-8\" /></head>\n",
              "<body>\n",
              "    <div>\n",
              "            <script src=\"https://cdnjs.cloudflare.com/ajax/libs/mathjax/2.7.5/MathJax.js?config=TeX-AMS-MML_SVG\"></script><script type=\"text/javascript\">if (window.MathJax) {MathJax.Hub.Config({SVG: {font: \"STIX-Web\"}});}</script>\n",
              "                <script type=\"text/javascript\">window.PlotlyConfig = {MathJaxConfig: 'local'};</script>\n",
              "        <script src=\"https://cdn.plot.ly/plotly-latest.min.js\"></script>    \n",
              "            <div id=\"700110df-42de-4033-b76b-2fa37aa46a0e\" class=\"plotly-graph-div\" style=\"height:525px; width:100%;\"></div>\n",
              "            <script type=\"text/javascript\">\n",
              "                \n",
              "                    window.PLOTLYENV=window.PLOTLYENV || {};\n",
              "                    \n",
              "                if (document.getElementById(\"700110df-42de-4033-b76b-2fa37aa46a0e\")) {\n",
              "                    Plotly.newPlot(\n",
              "                        '700110df-42de-4033-b76b-2fa37aa46a0e',\n",
              "                        [{\"alignmentgroup\": \"True\", \"bingroup\": \"x\", \"hoverlabel\": {\"namelength\": 0}, \"hovertemplate\": \"MEDV=%{x}<br>count=%{y}\", \"legendgroup\": \"\", \"marker\": {\"color\": \"#636efa\", \"opacity\": 0.5}, \"name\": \"\", \"nbinsx\": 50, \"offsetgroup\": \"\", \"orientation\": \"v\", \"showlegend\": false, \"type\": \"histogram\", \"x\": [24.0, 21.6, 34.7, 33.4, 36.2, 28.7, 22.9, 27.1, 16.5, 18.9, 15.0, 18.9, 21.7, 20.4, 18.2, 19.9, 23.1, 17.5, 20.2, 18.2, 13.6, 19.6, 15.2, 14.5, 15.6, 13.9, 16.6, 14.8, 18.4, 21.0, 12.7, 14.5, 13.2, 13.1, 13.5, 18.9, 20.0, 21.0, 24.7, 30.8, 34.9, 26.6, 25.3, 24.7, 21.2, 19.3, 20.0, 16.6, 14.4, 19.4, 19.7, 20.5, 25.0, 23.4, 18.9, 35.4, 24.7, 31.6, 23.3, 19.6, 18.7, 16.0, 22.2, 25.0, 33.0, 23.5, 19.4, 22.0, 17.4, 20.9, 24.2, 21.7, 22.8, 23.4, 24.1, 21.4, 20.0, 20.8, 21.2, 20.3, 28.0, 23.9, 24.8, 22.9, 23.9, 26.6, 22.5, 22.2, 23.6, 28.7, 22.6, 22.0, 22.9, 25.0, 20.6, 28.4, 21.4, 38.7, 43.8, 33.2, 27.5, 26.5, 18.6, 19.3, 20.1, 19.5, 19.5, 20.4, 19.8, 19.4, 21.7, 22.8, 18.8, 18.7, 18.5, 18.3, 21.2, 19.2, 20.4, 19.3, 22.0, 20.3, 20.5, 17.3, 18.8, 21.4, 15.7, 16.2, 18.0, 14.3, 19.2, 19.6, 23.0, 18.4, 15.6, 18.1, 17.4, 17.1, 13.3, 17.8, 14.0, 14.4, 13.4, 15.6, 11.8, 13.8, 15.6, 14.6, 17.8, 15.4, 21.5, 19.6, 15.3, 19.4, 17.0, 15.6, 13.1, 41.3, 24.3, 23.3, 27.0, 50.0, 50.0, 50.0, 22.7, 25.0, 50.0, 23.8, 23.8, 22.3, 17.4, 19.1, 23.1, 23.6, 22.6, 29.4, 23.2, 24.6, 29.9, 37.2, 39.8, 36.2, 37.9, 32.5, 26.4, 29.6, 50.0, 32.0, 29.8, 34.9, 37.0, 30.5, 36.4, 31.1, 29.1, 50.0, 33.3, 30.3, 34.6, 34.9, 32.9, 24.1, 42.3, 48.5, 50.0, 22.6, 24.4, 22.5, 24.4, 20.0, 21.7, 19.3, 22.4, 28.1, 23.7, 25.0, 23.3, 28.7, 21.5, 23.0, 26.7, 21.7, 27.5, 30.1, 44.8, 50.0, 37.6, 31.6, 46.7, 31.5, 24.3, 31.7, 41.7, 48.3, 29.0, 24.0, 25.1, 31.5, 23.7, 23.3, 22.0, 20.1, 22.2, 23.7, 17.6, 18.5, 24.3, 20.5, 24.5, 26.2, 24.4, 24.8, 29.6, 42.8, 21.9, 20.9, 44.0, 50.0, 36.0, 30.1, 33.8, 43.1, 48.8, 31.0, 36.5, 22.8, 30.7, 50.0, 43.5, 20.7, 21.1, 25.2, 24.4, 35.2, 32.4, 32.0, 33.2, 33.1, 29.1, 35.1, 45.4, 35.4, 46.0, 50.0, 32.2, 22.0, 20.1, 23.2, 22.3, 24.8, 28.5, 37.3, 27.9, 23.9, 21.7, 28.6, 27.1, 20.3, 22.5, 29.0, 24.8, 22.0, 26.4, 33.1, 36.1, 28.4, 33.4, 28.2, 22.8, 20.3, 16.1, 22.1, 19.4, 21.6, 23.8, 16.2, 17.8, 19.8, 23.1, 21.0, 23.8, 23.1, 20.4, 18.5, 25.0, 24.6, 23.0, 22.2, 19.3, 22.6, 19.8, 17.1, 19.4, 22.2, 20.7, 21.1, 19.5, 18.5, 20.6, 19.0, 18.7, 32.7, 16.5, 23.9, 31.2, 17.5, 17.2, 23.1, 24.5, 26.6, 22.9, 24.1, 18.6, 30.1, 18.2, 20.6, 17.8, 21.7, 22.7, 22.6, 25.0, 19.9, 20.8, 16.8, 21.9, 27.5, 21.9, 23.1, 50.0, 50.0, 50.0, 50.0, 50.0, 13.8, 13.8, 15.0, 13.9, 13.3, 13.1, 10.2, 10.4, 10.9, 11.3, 12.3, 8.8, 7.2, 10.5, 7.4, 10.2, 11.5, 15.1, 23.2, 9.7, 13.8, 12.7, 13.1, 12.5, 8.5, 5.0, 6.3, 5.6, 7.2, 12.1, 8.3, 8.5, 5.0, 11.9, 27.9, 17.2, 27.5, 15.0, 17.2, 17.9, 16.3, 7.0, 7.2, 7.5, 10.4, 8.8, 8.4, 16.7, 14.2, 20.8, 13.4, 11.7, 8.3, 10.2, 10.9, 11.0, 9.5, 14.5, 14.1, 16.1, 14.3, 11.7, 13.4, 9.6, 8.7, 8.4, 12.8, 10.5, 17.1, 18.4, 15.4, 10.8, 11.8, 14.9, 12.6, 14.1, 13.0, 13.4, 15.2, 16.1, 17.8, 14.9, 14.1, 12.7, 13.5, 14.9, 20.0, 16.4, 17.7, 19.5, 20.2, 21.4, 19.9, 19.0, 19.1, 19.1, 20.1, 19.9, 19.6, 23.2, 29.8, 13.8, 13.3, 16.7, 12.0, 14.6, 21.4, 23.0, 23.7, 25.0, 21.8, 20.6, 21.2, 19.1, 20.6, 15.2, 7.0, 8.1, 13.6, 20.1, 21.8, 24.5, 23.1, 19.7, 18.3, 21.2, 17.5, 16.8, 22.4, 20.6, 23.9, 22.0, 11.9], \"xaxis\": \"x\", \"yaxis\": \"y\"}],\n",
              "                        {\"barmode\": \"relative\", \"legend\": {\"tracegroupgap\": 0}, \"margin\": {\"t\": 60}, \"template\": {\"data\": {\"bar\": [{\"error_x\": {\"color\": \"#2a3f5f\"}, \"error_y\": {\"color\": \"#2a3f5f\"}, \"marker\": {\"line\": {\"color\": \"#E5ECF6\", \"width\": 0.5}}, \"type\": \"bar\"}], \"barpolar\": [{\"marker\": {\"line\": {\"color\": \"#E5ECF6\", \"width\": 0.5}}, \"type\": \"barpolar\"}], \"carpet\": [{\"aaxis\": {\"endlinecolor\": \"#2a3f5f\", \"gridcolor\": \"white\", \"linecolor\": \"white\", \"minorgridcolor\": \"white\", \"startlinecolor\": \"#2a3f5f\"}, \"baxis\": {\"endlinecolor\": \"#2a3f5f\", \"gridcolor\": \"white\", \"linecolor\": \"white\", \"minorgridcolor\": \"white\", \"startlinecolor\": \"#2a3f5f\"}, \"type\": \"carpet\"}], \"choropleth\": [{\"colorbar\": {\"outlinewidth\": 0, \"ticks\": \"\"}, \"type\": \"choropleth\"}], \"contour\": [{\"colorbar\": {\"outlinewidth\": 0, \"ticks\": \"\"}, \"colorscale\": [[0.0, \"#0d0887\"], [0.1111111111111111, \"#46039f\"], [0.2222222222222222, \"#7201a8\"], [0.3333333333333333, \"#9c179e\"], [0.4444444444444444, \"#bd3786\"], [0.5555555555555556, \"#d8576b\"], [0.6666666666666666, \"#ed7953\"], [0.7777777777777778, \"#fb9f3a\"], [0.8888888888888888, \"#fdca26\"], [1.0, \"#f0f921\"]], \"type\": \"contour\"}], \"contourcarpet\": [{\"colorbar\": {\"outlinewidth\": 0, \"ticks\": \"\"}, \"type\": \"contourcarpet\"}], \"heatmap\": [{\"colorbar\": {\"outlinewidth\": 0, \"ticks\": \"\"}, \"colorscale\": [[0.0, \"#0d0887\"], [0.1111111111111111, \"#46039f\"], [0.2222222222222222, \"#7201a8\"], [0.3333333333333333, \"#9c179e\"], [0.4444444444444444, \"#bd3786\"], [0.5555555555555556, \"#d8576b\"], [0.6666666666666666, \"#ed7953\"], [0.7777777777777778, \"#fb9f3a\"], [0.8888888888888888, \"#fdca26\"], [1.0, \"#f0f921\"]], \"type\": \"heatmap\"}], \"heatmapgl\": [{\"colorbar\": {\"outlinewidth\": 0, \"ticks\": \"\"}, \"colorscale\": [[0.0, \"#0d0887\"], [0.1111111111111111, \"#46039f\"], [0.2222222222222222, \"#7201a8\"], [0.3333333333333333, \"#9c179e\"], [0.4444444444444444, \"#bd3786\"], [0.5555555555555556, \"#d8576b\"], [0.6666666666666666, \"#ed7953\"], [0.7777777777777778, \"#fb9f3a\"], [0.8888888888888888, \"#fdca26\"], [1.0, \"#f0f921\"]], \"type\": \"heatmapgl\"}], \"histogram\": [{\"marker\": {\"colorbar\": {\"outlinewidth\": 0, \"ticks\": \"\"}}, \"type\": \"histogram\"}], \"histogram2d\": [{\"colorbar\": {\"outlinewidth\": 0, \"ticks\": \"\"}, \"colorscale\": [[0.0, \"#0d0887\"], [0.1111111111111111, \"#46039f\"], [0.2222222222222222, \"#7201a8\"], [0.3333333333333333, \"#9c179e\"], [0.4444444444444444, \"#bd3786\"], [0.5555555555555556, \"#d8576b\"], [0.6666666666666666, \"#ed7953\"], [0.7777777777777778, \"#fb9f3a\"], [0.8888888888888888, \"#fdca26\"], [1.0, \"#f0f921\"]], \"type\": \"histogram2d\"}], \"histogram2dcontour\": [{\"colorbar\": {\"outlinewidth\": 0, \"ticks\": \"\"}, \"colorscale\": [[0.0, \"#0d0887\"], [0.1111111111111111, \"#46039f\"], [0.2222222222222222, \"#7201a8\"], [0.3333333333333333, \"#9c179e\"], [0.4444444444444444, \"#bd3786\"], [0.5555555555555556, \"#d8576b\"], [0.6666666666666666, \"#ed7953\"], [0.7777777777777778, \"#fb9f3a\"], [0.8888888888888888, \"#fdca26\"], [1.0, \"#f0f921\"]], \"type\": \"histogram2dcontour\"}], \"mesh3d\": [{\"colorbar\": {\"outlinewidth\": 0, \"ticks\": \"\"}, \"type\": \"mesh3d\"}], \"parcoords\": [{\"line\": {\"colorbar\": {\"outlinewidth\": 0, \"ticks\": \"\"}}, \"type\": \"parcoords\"}], \"pie\": [{\"automargin\": true, \"type\": \"pie\"}], \"scatter\": [{\"marker\": {\"colorbar\": {\"outlinewidth\": 0, \"ticks\": \"\"}}, \"type\": \"scatter\"}], \"scatter3d\": [{\"line\": {\"colorbar\": {\"outlinewidth\": 0, \"ticks\": \"\"}}, \"marker\": {\"colorbar\": {\"outlinewidth\": 0, \"ticks\": \"\"}}, \"type\": \"scatter3d\"}], \"scattercarpet\": [{\"marker\": {\"colorbar\": {\"outlinewidth\": 0, \"ticks\": \"\"}}, \"type\": \"scattercarpet\"}], \"scattergeo\": [{\"marker\": {\"colorbar\": {\"outlinewidth\": 0, \"ticks\": \"\"}}, \"type\": \"scattergeo\"}], \"scattergl\": [{\"marker\": {\"colorbar\": {\"outlinewidth\": 0, \"ticks\": \"\"}}, \"type\": \"scattergl\"}], \"scattermapbox\": [{\"marker\": {\"colorbar\": {\"outlinewidth\": 0, \"ticks\": \"\"}}, \"type\": \"scattermapbox\"}], \"scatterpolar\": [{\"marker\": {\"colorbar\": {\"outlinewidth\": 0, \"ticks\": \"\"}}, \"type\": \"scatterpolar\"}], \"scatterpolargl\": [{\"marker\": {\"colorbar\": {\"outlinewidth\": 0, \"ticks\": \"\"}}, \"type\": \"scatterpolargl\"}], \"scatterternary\": [{\"marker\": {\"colorbar\": {\"outlinewidth\": 0, \"ticks\": \"\"}}, \"type\": \"scatterternary\"}], \"surface\": [{\"colorbar\": {\"outlinewidth\": 0, \"ticks\": \"\"}, \"colorscale\": [[0.0, \"#0d0887\"], [0.1111111111111111, \"#46039f\"], [0.2222222222222222, \"#7201a8\"], [0.3333333333333333, \"#9c179e\"], [0.4444444444444444, \"#bd3786\"], [0.5555555555555556, \"#d8576b\"], [0.6666666666666666, \"#ed7953\"], [0.7777777777777778, \"#fb9f3a\"], [0.8888888888888888, \"#fdca26\"], [1.0, \"#f0f921\"]], \"type\": \"surface\"}], \"table\": [{\"cells\": {\"fill\": {\"color\": \"#EBF0F8\"}, \"line\": {\"color\": \"white\"}}, \"header\": {\"fill\": {\"color\": \"#C8D4E3\"}, \"line\": {\"color\": \"white\"}}, \"type\": \"table\"}]}, \"layout\": {\"annotationdefaults\": {\"arrowcolor\": \"#2a3f5f\", \"arrowhead\": 0, \"arrowwidth\": 1}, \"coloraxis\": {\"colorbar\": {\"outlinewidth\": 0, \"ticks\": \"\"}}, \"colorscale\": {\"diverging\": [[0, \"#8e0152\"], [0.1, \"#c51b7d\"], [0.2, \"#de77ae\"], [0.3, \"#f1b6da\"], [0.4, \"#fde0ef\"], [0.5, \"#f7f7f7\"], [0.6, \"#e6f5d0\"], [0.7, \"#b8e186\"], [0.8, \"#7fbc41\"], [0.9, \"#4d9221\"], [1, \"#276419\"]], \"sequential\": [[0.0, \"#0d0887\"], [0.1111111111111111, \"#46039f\"], [0.2222222222222222, \"#7201a8\"], [0.3333333333333333, \"#9c179e\"], [0.4444444444444444, \"#bd3786\"], [0.5555555555555556, \"#d8576b\"], [0.6666666666666666, \"#ed7953\"], [0.7777777777777778, \"#fb9f3a\"], [0.8888888888888888, \"#fdca26\"], [1.0, \"#f0f921\"]], \"sequentialminus\": [[0.0, \"#0d0887\"], [0.1111111111111111, \"#46039f\"], [0.2222222222222222, \"#7201a8\"], [0.3333333333333333, \"#9c179e\"], [0.4444444444444444, \"#bd3786\"], [0.5555555555555556, \"#d8576b\"], [0.6666666666666666, \"#ed7953\"], [0.7777777777777778, \"#fb9f3a\"], [0.8888888888888888, \"#fdca26\"], [1.0, \"#f0f921\"]]}, \"colorway\": [\"#636efa\", \"#EF553B\", \"#00cc96\", \"#ab63fa\", \"#FFA15A\", \"#19d3f3\", \"#FF6692\", \"#B6E880\", \"#FF97FF\", \"#FECB52\"], \"font\": {\"color\": \"#2a3f5f\"}, \"geo\": {\"bgcolor\": \"white\", \"lakecolor\": \"white\", \"landcolor\": \"#E5ECF6\", \"showlakes\": true, \"showland\": true, \"subunitcolor\": \"white\"}, \"hoverlabel\": {\"align\": \"left\"}, \"hovermode\": \"closest\", \"mapbox\": {\"style\": \"light\"}, \"paper_bgcolor\": \"white\", \"plot_bgcolor\": \"#E5ECF6\", \"polar\": {\"angularaxis\": {\"gridcolor\": \"white\", \"linecolor\": \"white\", \"ticks\": \"\"}, \"bgcolor\": \"#E5ECF6\", \"radialaxis\": {\"gridcolor\": \"white\", \"linecolor\": \"white\", \"ticks\": \"\"}}, \"scene\": {\"xaxis\": {\"backgroundcolor\": \"#E5ECF6\", \"gridcolor\": \"white\", \"gridwidth\": 2, \"linecolor\": \"white\", \"showbackground\": true, \"ticks\": \"\", \"zerolinecolor\": \"white\"}, \"yaxis\": {\"backgroundcolor\": \"#E5ECF6\", \"gridcolor\": \"white\", \"gridwidth\": 2, \"linecolor\": \"white\", \"showbackground\": true, \"ticks\": \"\", \"zerolinecolor\": \"white\"}, \"zaxis\": {\"backgroundcolor\": \"#E5ECF6\", \"gridcolor\": \"white\", \"gridwidth\": 2, \"linecolor\": \"white\", \"showbackground\": true, \"ticks\": \"\", \"zerolinecolor\": \"white\"}}, \"shapedefaults\": {\"line\": {\"color\": \"#2a3f5f\"}}, \"ternary\": {\"aaxis\": {\"gridcolor\": \"white\", \"linecolor\": \"white\", \"ticks\": \"\"}, \"baxis\": {\"gridcolor\": \"white\", \"linecolor\": \"white\", \"ticks\": \"\"}, \"bgcolor\": \"#E5ECF6\", \"caxis\": {\"gridcolor\": \"white\", \"linecolor\": \"white\", \"ticks\": \"\"}}, \"title\": {\"x\": 0.05}, \"xaxis\": {\"automargin\": true, \"gridcolor\": \"white\", \"linecolor\": \"white\", \"ticks\": \"\", \"title\": {\"standoff\": 15}, \"zerolinecolor\": \"white\", \"zerolinewidth\": 2}, \"yaxis\": {\"automargin\": true, \"gridcolor\": \"white\", \"linecolor\": \"white\", \"ticks\": \"\", \"title\": {\"standoff\": 15}, \"zerolinecolor\": \"white\", \"zerolinewidth\": 2}}}, \"xaxis\": {\"anchor\": \"y\", \"domain\": [0.0, 1.0], \"title\": {\"text\": \"MEDV\"}}, \"yaxis\": {\"anchor\": \"x\", \"domain\": [0.0, 1.0], \"title\": {\"text\": \"count\"}}},\n",
              "                        {\"responsive\": true}\n",
              "                    ).then(function(){\n",
              "                            \n",
              "var gd = document.getElementById('700110df-42de-4033-b76b-2fa37aa46a0e');\n",
              "var x = new MutationObserver(function (mutations, observer) {{\n",
              "        var display = window.getComputedStyle(gd).display;\n",
              "        if (!display || display === 'none') {{\n",
              "            console.log([gd, 'removed!']);\n",
              "            Plotly.purge(gd);\n",
              "            observer.disconnect();\n",
              "        }}\n",
              "}});\n",
              "\n",
              "// Listen for the removal of the full notebook cells\n",
              "var notebookContainer = gd.closest('#notebook-container');\n",
              "if (notebookContainer) {{\n",
              "    x.observe(notebookContainer, {childList: true});\n",
              "}}\n",
              "\n",
              "// Listen for the clearing of the current output cell\n",
              "var outputEl = gd.closest('.output');\n",
              "if (outputEl) {{\n",
              "    x.observe(outputEl, {childList: true});\n",
              "}}\n",
              "\n",
              "                        })\n",
              "                };\n",
              "                \n",
              "            </script>\n",
              "        </div>\n",
              "</body>\n",
              "</html>"
            ]
          },
          "metadata": {
            "tags": []
          }
        }
      ]
    },
    {
      "cell_type": "code",
      "metadata": {
        "id": "RaoV8KrX0H7R",
        "colab_type": "code",
        "outputId": "b0522fc0-d8e6-4f22-8092-73821ee8183a",
        "colab": {
          "base_uri": "https://localhost:8080/",
          "height": 817
        }
      },
      "source": [
        "fig = px.box(dados, y='MEDV')\n",
        "fig.update_layout(width=800, height=800)\n",
        "fig.show()"
      ],
      "execution_count": 0,
      "outputs": [
        {
          "output_type": "display_data",
          "data": {
            "text/html": [
              "<html>\n",
              "<head><meta charset=\"utf-8\" /></head>\n",
              "<body>\n",
              "    <div>\n",
              "            <script src=\"https://cdnjs.cloudflare.com/ajax/libs/mathjax/2.7.5/MathJax.js?config=TeX-AMS-MML_SVG\"></script><script type=\"text/javascript\">if (window.MathJax) {MathJax.Hub.Config({SVG: {font: \"STIX-Web\"}});}</script>\n",
              "                <script type=\"text/javascript\">window.PlotlyConfig = {MathJaxConfig: 'local'};</script>\n",
              "        <script src=\"https://cdn.plot.ly/plotly-latest.min.js\"></script>    \n",
              "            <div id=\"6e49d00d-2087-4b6d-930d-f40fd5f3291a\" class=\"plotly-graph-div\" style=\"height:800px; width:800px;\"></div>\n",
              "            <script type=\"text/javascript\">\n",
              "                \n",
              "                    window.PLOTLYENV=window.PLOTLYENV || {};\n",
              "                    \n",
              "                if (document.getElementById(\"6e49d00d-2087-4b6d-930d-f40fd5f3291a\")) {\n",
              "                    Plotly.newPlot(\n",
              "                        '6e49d00d-2087-4b6d-930d-f40fd5f3291a',\n",
              "                        [{\"alignmentgroup\": \"True\", \"hoverlabel\": {\"namelength\": 0}, \"hovertemplate\": \"MEDV=%{y}\", \"legendgroup\": \"\", \"marker\": {\"color\": \"#636efa\"}, \"name\": \"\", \"notched\": false, \"offsetgroup\": \"\", \"orientation\": \"v\", \"showlegend\": false, \"type\": \"box\", \"x0\": \" \", \"xaxis\": \"x\", \"y\": [24.0, 21.6, 34.7, 33.4, 36.2, 28.7, 22.9, 27.1, 16.5, 18.9, 15.0, 18.9, 21.7, 20.4, 18.2, 19.9, 23.1, 17.5, 20.2, 18.2, 13.6, 19.6, 15.2, 14.5, 15.6, 13.9, 16.6, 14.8, 18.4, 21.0, 12.7, 14.5, 13.2, 13.1, 13.5, 18.9, 20.0, 21.0, 24.7, 30.8, 34.9, 26.6, 25.3, 24.7, 21.2, 19.3, 20.0, 16.6, 14.4, 19.4, 19.7, 20.5, 25.0, 23.4, 18.9, 35.4, 24.7, 31.6, 23.3, 19.6, 18.7, 16.0, 22.2, 25.0, 33.0, 23.5, 19.4, 22.0, 17.4, 20.9, 24.2, 21.7, 22.8, 23.4, 24.1, 21.4, 20.0, 20.8, 21.2, 20.3, 28.0, 23.9, 24.8, 22.9, 23.9, 26.6, 22.5, 22.2, 23.6, 28.7, 22.6, 22.0, 22.9, 25.0, 20.6, 28.4, 21.4, 38.7, 43.8, 33.2, 27.5, 26.5, 18.6, 19.3, 20.1, 19.5, 19.5, 20.4, 19.8, 19.4, 21.7, 22.8, 18.8, 18.7, 18.5, 18.3, 21.2, 19.2, 20.4, 19.3, 22.0, 20.3, 20.5, 17.3, 18.8, 21.4, 15.7, 16.2, 18.0, 14.3, 19.2, 19.6, 23.0, 18.4, 15.6, 18.1, 17.4, 17.1, 13.3, 17.8, 14.0, 14.4, 13.4, 15.6, 11.8, 13.8, 15.6, 14.6, 17.8, 15.4, 21.5, 19.6, 15.3, 19.4, 17.0, 15.6, 13.1, 41.3, 24.3, 23.3, 27.0, 50.0, 50.0, 50.0, 22.7, 25.0, 50.0, 23.8, 23.8, 22.3, 17.4, 19.1, 23.1, 23.6, 22.6, 29.4, 23.2, 24.6, 29.9, 37.2, 39.8, 36.2, 37.9, 32.5, 26.4, 29.6, 50.0, 32.0, 29.8, 34.9, 37.0, 30.5, 36.4, 31.1, 29.1, 50.0, 33.3, 30.3, 34.6, 34.9, 32.9, 24.1, 42.3, 48.5, 50.0, 22.6, 24.4, 22.5, 24.4, 20.0, 21.7, 19.3, 22.4, 28.1, 23.7, 25.0, 23.3, 28.7, 21.5, 23.0, 26.7, 21.7, 27.5, 30.1, 44.8, 50.0, 37.6, 31.6, 46.7, 31.5, 24.3, 31.7, 41.7, 48.3, 29.0, 24.0, 25.1, 31.5, 23.7, 23.3, 22.0, 20.1, 22.2, 23.7, 17.6, 18.5, 24.3, 20.5, 24.5, 26.2, 24.4, 24.8, 29.6, 42.8, 21.9, 20.9, 44.0, 50.0, 36.0, 30.1, 33.8, 43.1, 48.8, 31.0, 36.5, 22.8, 30.7, 50.0, 43.5, 20.7, 21.1, 25.2, 24.4, 35.2, 32.4, 32.0, 33.2, 33.1, 29.1, 35.1, 45.4, 35.4, 46.0, 50.0, 32.2, 22.0, 20.1, 23.2, 22.3, 24.8, 28.5, 37.3, 27.9, 23.9, 21.7, 28.6, 27.1, 20.3, 22.5, 29.0, 24.8, 22.0, 26.4, 33.1, 36.1, 28.4, 33.4, 28.2, 22.8, 20.3, 16.1, 22.1, 19.4, 21.6, 23.8, 16.2, 17.8, 19.8, 23.1, 21.0, 23.8, 23.1, 20.4, 18.5, 25.0, 24.6, 23.0, 22.2, 19.3, 22.6, 19.8, 17.1, 19.4, 22.2, 20.7, 21.1, 19.5, 18.5, 20.6, 19.0, 18.7, 32.7, 16.5, 23.9, 31.2, 17.5, 17.2, 23.1, 24.5, 26.6, 22.9, 24.1, 18.6, 30.1, 18.2, 20.6, 17.8, 21.7, 22.7, 22.6, 25.0, 19.9, 20.8, 16.8, 21.9, 27.5, 21.9, 23.1, 50.0, 50.0, 50.0, 50.0, 50.0, 13.8, 13.8, 15.0, 13.9, 13.3, 13.1, 10.2, 10.4, 10.9, 11.3, 12.3, 8.8, 7.2, 10.5, 7.4, 10.2, 11.5, 15.1, 23.2, 9.7, 13.8, 12.7, 13.1, 12.5, 8.5, 5.0, 6.3, 5.6, 7.2, 12.1, 8.3, 8.5, 5.0, 11.9, 27.9, 17.2, 27.5, 15.0, 17.2, 17.9, 16.3, 7.0, 7.2, 7.5, 10.4, 8.8, 8.4, 16.7, 14.2, 20.8, 13.4, 11.7, 8.3, 10.2, 10.9, 11.0, 9.5, 14.5, 14.1, 16.1, 14.3, 11.7, 13.4, 9.6, 8.7, 8.4, 12.8, 10.5, 17.1, 18.4, 15.4, 10.8, 11.8, 14.9, 12.6, 14.1, 13.0, 13.4, 15.2, 16.1, 17.8, 14.9, 14.1, 12.7, 13.5, 14.9, 20.0, 16.4, 17.7, 19.5, 20.2, 21.4, 19.9, 19.0, 19.1, 19.1, 20.1, 19.9, 19.6, 23.2, 29.8, 13.8, 13.3, 16.7, 12.0, 14.6, 21.4, 23.0, 23.7, 25.0, 21.8, 20.6, 21.2, 19.1, 20.6, 15.2, 7.0, 8.1, 13.6, 20.1, 21.8, 24.5, 23.1, 19.7, 18.3, 21.2, 17.5, 16.8, 22.4, 20.6, 23.9, 22.0, 11.9], \"y0\": \" \", \"yaxis\": \"y\"}],\n",
              "                        {\"boxmode\": \"group\", \"height\": 800, \"legend\": {\"tracegroupgap\": 0}, \"margin\": {\"t\": 60}, \"template\": {\"data\": {\"bar\": [{\"error_x\": {\"color\": \"#2a3f5f\"}, \"error_y\": {\"color\": \"#2a3f5f\"}, \"marker\": {\"line\": {\"color\": \"#E5ECF6\", \"width\": 0.5}}, \"type\": \"bar\"}], \"barpolar\": [{\"marker\": {\"line\": {\"color\": \"#E5ECF6\", \"width\": 0.5}}, \"type\": \"barpolar\"}], \"carpet\": [{\"aaxis\": {\"endlinecolor\": \"#2a3f5f\", \"gridcolor\": \"white\", \"linecolor\": \"white\", \"minorgridcolor\": \"white\", \"startlinecolor\": \"#2a3f5f\"}, \"baxis\": {\"endlinecolor\": \"#2a3f5f\", \"gridcolor\": \"white\", \"linecolor\": \"white\", \"minorgridcolor\": \"white\", \"startlinecolor\": \"#2a3f5f\"}, \"type\": \"carpet\"}], \"choropleth\": [{\"colorbar\": {\"outlinewidth\": 0, \"ticks\": \"\"}, \"type\": \"choropleth\"}], \"contour\": [{\"colorbar\": {\"outlinewidth\": 0, \"ticks\": \"\"}, \"colorscale\": [[0.0, \"#0d0887\"], [0.1111111111111111, \"#46039f\"], [0.2222222222222222, \"#7201a8\"], [0.3333333333333333, \"#9c179e\"], [0.4444444444444444, \"#bd3786\"], [0.5555555555555556, \"#d8576b\"], [0.6666666666666666, \"#ed7953\"], [0.7777777777777778, \"#fb9f3a\"], [0.8888888888888888, \"#fdca26\"], [1.0, \"#f0f921\"]], \"type\": \"contour\"}], \"contourcarpet\": [{\"colorbar\": {\"outlinewidth\": 0, \"ticks\": \"\"}, \"type\": \"contourcarpet\"}], \"heatmap\": [{\"colorbar\": {\"outlinewidth\": 0, \"ticks\": \"\"}, \"colorscale\": [[0.0, \"#0d0887\"], [0.1111111111111111, \"#46039f\"], [0.2222222222222222, \"#7201a8\"], [0.3333333333333333, \"#9c179e\"], [0.4444444444444444, \"#bd3786\"], [0.5555555555555556, \"#d8576b\"], [0.6666666666666666, \"#ed7953\"], [0.7777777777777778, \"#fb9f3a\"], [0.8888888888888888, \"#fdca26\"], [1.0, \"#f0f921\"]], \"type\": \"heatmap\"}], \"heatmapgl\": [{\"colorbar\": {\"outlinewidth\": 0, \"ticks\": \"\"}, \"colorscale\": [[0.0, \"#0d0887\"], [0.1111111111111111, \"#46039f\"], [0.2222222222222222, \"#7201a8\"], [0.3333333333333333, \"#9c179e\"], [0.4444444444444444, \"#bd3786\"], [0.5555555555555556, \"#d8576b\"], [0.6666666666666666, \"#ed7953\"], [0.7777777777777778, \"#fb9f3a\"], [0.8888888888888888, \"#fdca26\"], [1.0, \"#f0f921\"]], \"type\": \"heatmapgl\"}], \"histogram\": [{\"marker\": {\"colorbar\": {\"outlinewidth\": 0, \"ticks\": \"\"}}, \"type\": \"histogram\"}], \"histogram2d\": [{\"colorbar\": {\"outlinewidth\": 0, \"ticks\": \"\"}, \"colorscale\": [[0.0, \"#0d0887\"], [0.1111111111111111, \"#46039f\"], [0.2222222222222222, \"#7201a8\"], [0.3333333333333333, \"#9c179e\"], [0.4444444444444444, \"#bd3786\"], [0.5555555555555556, \"#d8576b\"], [0.6666666666666666, \"#ed7953\"], [0.7777777777777778, \"#fb9f3a\"], [0.8888888888888888, \"#fdca26\"], [1.0, \"#f0f921\"]], \"type\": \"histogram2d\"}], \"histogram2dcontour\": [{\"colorbar\": {\"outlinewidth\": 0, \"ticks\": \"\"}, \"colorscale\": [[0.0, \"#0d0887\"], [0.1111111111111111, \"#46039f\"], [0.2222222222222222, \"#7201a8\"], [0.3333333333333333, \"#9c179e\"], [0.4444444444444444, \"#bd3786\"], [0.5555555555555556, \"#d8576b\"], [0.6666666666666666, \"#ed7953\"], [0.7777777777777778, \"#fb9f3a\"], [0.8888888888888888, \"#fdca26\"], [1.0, \"#f0f921\"]], \"type\": \"histogram2dcontour\"}], \"mesh3d\": [{\"colorbar\": {\"outlinewidth\": 0, \"ticks\": \"\"}, \"type\": \"mesh3d\"}], \"parcoords\": [{\"line\": {\"colorbar\": {\"outlinewidth\": 0, \"ticks\": \"\"}}, \"type\": \"parcoords\"}], \"pie\": [{\"automargin\": true, \"type\": \"pie\"}], \"scatter\": [{\"marker\": {\"colorbar\": {\"outlinewidth\": 0, \"ticks\": \"\"}}, \"type\": \"scatter\"}], \"scatter3d\": [{\"line\": {\"colorbar\": {\"outlinewidth\": 0, \"ticks\": \"\"}}, \"marker\": {\"colorbar\": {\"outlinewidth\": 0, \"ticks\": \"\"}}, \"type\": \"scatter3d\"}], \"scattercarpet\": [{\"marker\": {\"colorbar\": {\"outlinewidth\": 0, \"ticks\": \"\"}}, \"type\": \"scattercarpet\"}], \"scattergeo\": [{\"marker\": {\"colorbar\": {\"outlinewidth\": 0, \"ticks\": \"\"}}, \"type\": \"scattergeo\"}], \"scattergl\": [{\"marker\": {\"colorbar\": {\"outlinewidth\": 0, \"ticks\": \"\"}}, \"type\": \"scattergl\"}], \"scattermapbox\": [{\"marker\": {\"colorbar\": {\"outlinewidth\": 0, \"ticks\": \"\"}}, \"type\": \"scattermapbox\"}], \"scatterpolar\": [{\"marker\": {\"colorbar\": {\"outlinewidth\": 0, \"ticks\": \"\"}}, \"type\": \"scatterpolar\"}], \"scatterpolargl\": [{\"marker\": {\"colorbar\": {\"outlinewidth\": 0, \"ticks\": \"\"}}, \"type\": \"scatterpolargl\"}], \"scatterternary\": [{\"marker\": {\"colorbar\": {\"outlinewidth\": 0, \"ticks\": \"\"}}, \"type\": \"scatterternary\"}], \"surface\": [{\"colorbar\": {\"outlinewidth\": 0, \"ticks\": \"\"}, \"colorscale\": [[0.0, \"#0d0887\"], [0.1111111111111111, \"#46039f\"], [0.2222222222222222, \"#7201a8\"], [0.3333333333333333, \"#9c179e\"], [0.4444444444444444, \"#bd3786\"], [0.5555555555555556, \"#d8576b\"], [0.6666666666666666, \"#ed7953\"], [0.7777777777777778, \"#fb9f3a\"], [0.8888888888888888, \"#fdca26\"], [1.0, \"#f0f921\"]], \"type\": \"surface\"}], \"table\": [{\"cells\": {\"fill\": {\"color\": \"#EBF0F8\"}, \"line\": {\"color\": \"white\"}}, \"header\": {\"fill\": {\"color\": \"#C8D4E3\"}, \"line\": {\"color\": \"white\"}}, \"type\": \"table\"}]}, \"layout\": {\"annotationdefaults\": {\"arrowcolor\": \"#2a3f5f\", \"arrowhead\": 0, \"arrowwidth\": 1}, \"coloraxis\": {\"colorbar\": {\"outlinewidth\": 0, \"ticks\": \"\"}}, \"colorscale\": {\"diverging\": [[0, \"#8e0152\"], [0.1, \"#c51b7d\"], [0.2, \"#de77ae\"], [0.3, \"#f1b6da\"], [0.4, \"#fde0ef\"], [0.5, \"#f7f7f7\"], [0.6, \"#e6f5d0\"], [0.7, \"#b8e186\"], [0.8, \"#7fbc41\"], [0.9, \"#4d9221\"], [1, \"#276419\"]], \"sequential\": [[0.0, \"#0d0887\"], [0.1111111111111111, \"#46039f\"], [0.2222222222222222, \"#7201a8\"], [0.3333333333333333, \"#9c179e\"], [0.4444444444444444, \"#bd3786\"], [0.5555555555555556, \"#d8576b\"], [0.6666666666666666, \"#ed7953\"], [0.7777777777777778, \"#fb9f3a\"], [0.8888888888888888, \"#fdca26\"], [1.0, \"#f0f921\"]], \"sequentialminus\": [[0.0, \"#0d0887\"], [0.1111111111111111, \"#46039f\"], [0.2222222222222222, \"#7201a8\"], [0.3333333333333333, \"#9c179e\"], [0.4444444444444444, \"#bd3786\"], [0.5555555555555556, \"#d8576b\"], [0.6666666666666666, \"#ed7953\"], [0.7777777777777778, \"#fb9f3a\"], [0.8888888888888888, \"#fdca26\"], [1.0, \"#f0f921\"]]}, \"colorway\": [\"#636efa\", \"#EF553B\", \"#00cc96\", \"#ab63fa\", \"#FFA15A\", \"#19d3f3\", \"#FF6692\", \"#B6E880\", \"#FF97FF\", \"#FECB52\"], \"font\": {\"color\": \"#2a3f5f\"}, \"geo\": {\"bgcolor\": \"white\", \"lakecolor\": \"white\", \"landcolor\": \"#E5ECF6\", \"showlakes\": true, \"showland\": true, \"subunitcolor\": \"white\"}, \"hoverlabel\": {\"align\": \"left\"}, \"hovermode\": \"closest\", \"mapbox\": {\"style\": \"light\"}, \"paper_bgcolor\": \"white\", \"plot_bgcolor\": \"#E5ECF6\", \"polar\": {\"angularaxis\": {\"gridcolor\": \"white\", \"linecolor\": \"white\", \"ticks\": \"\"}, \"bgcolor\": \"#E5ECF6\", \"radialaxis\": {\"gridcolor\": \"white\", \"linecolor\": \"white\", \"ticks\": \"\"}}, \"scene\": {\"xaxis\": {\"backgroundcolor\": \"#E5ECF6\", \"gridcolor\": \"white\", \"gridwidth\": 2, \"linecolor\": \"white\", \"showbackground\": true, \"ticks\": \"\", \"zerolinecolor\": \"white\"}, \"yaxis\": {\"backgroundcolor\": \"#E5ECF6\", \"gridcolor\": \"white\", \"gridwidth\": 2, \"linecolor\": \"white\", \"showbackground\": true, \"ticks\": \"\", \"zerolinecolor\": \"white\"}, \"zaxis\": {\"backgroundcolor\": \"#E5ECF6\", \"gridcolor\": \"white\", \"gridwidth\": 2, \"linecolor\": \"white\", \"showbackground\": true, \"ticks\": \"\", \"zerolinecolor\": \"white\"}}, \"shapedefaults\": {\"line\": {\"color\": \"#2a3f5f\"}}, \"ternary\": {\"aaxis\": {\"gridcolor\": \"white\", \"linecolor\": \"white\", \"ticks\": \"\"}, \"baxis\": {\"gridcolor\": \"white\", \"linecolor\": \"white\", \"ticks\": \"\"}, \"bgcolor\": \"#E5ECF6\", \"caxis\": {\"gridcolor\": \"white\", \"linecolor\": \"white\", \"ticks\": \"\"}}, \"title\": {\"x\": 0.05}, \"xaxis\": {\"automargin\": true, \"gridcolor\": \"white\", \"linecolor\": \"white\", \"ticks\": \"\", \"title\": {\"standoff\": 15}, \"zerolinecolor\": \"white\", \"zerolinewidth\": 2}, \"yaxis\": {\"automargin\": true, \"gridcolor\": \"white\", \"linecolor\": \"white\", \"ticks\": \"\", \"title\": {\"standoff\": 15}, \"zerolinecolor\": \"white\", \"zerolinewidth\": 2}}}, \"width\": 800, \"xaxis\": {\"anchor\": \"y\", \"domain\": [0.0, 1.0]}, \"yaxis\": {\"anchor\": \"x\", \"domain\": [0.0, 1.0], \"title\": {\"text\": \"MEDV\"}}},\n",
              "                        {\"responsive\": true}\n",
              "                    ).then(function(){\n",
              "                            \n",
              "var gd = document.getElementById('6e49d00d-2087-4b6d-930d-f40fd5f3291a');\n",
              "var x = new MutationObserver(function (mutations, observer) {{\n",
              "        var display = window.getComputedStyle(gd).display;\n",
              "        if (!display || display === 'none') {{\n",
              "            console.log([gd, 'removed!']);\n",
              "            Plotly.purge(gd);\n",
              "            observer.disconnect();\n",
              "        }}\n",
              "}});\n",
              "\n",
              "// Listen for the removal of the full notebook cells\n",
              "var notebookContainer = gd.closest('#notebook-container');\n",
              "if (notebookContainer) {{\n",
              "    x.observe(notebookContainer, {childList: true});\n",
              "}}\n",
              "\n",
              "// Listen for the clearing of the current output cell\n",
              "var outputEl = gd.closest('.output');\n",
              "if (outputEl) {{\n",
              "    x.observe(outputEl, {childList: true});\n",
              "}}\n",
              "\n",
              "                        })\n",
              "                };\n",
              "                \n",
              "            </script>\n",
              "        </div>\n",
              "</body>\n",
              "</html>"
            ]
          },
          "metadata": {
            "tags": []
          }
        }
      ]
    },
    {
      "cell_type": "markdown",
      "metadata": {
        "id": "SOkwE33-UovP",
        "colab_type": "text"
      },
      "source": [
        "**Descrição estatística para as três colunas abaixo**"
      ]
    },
    {
      "cell_type": "code",
      "metadata": {
        "id": "qeds10eJ0eax",
        "colab_type": "code",
        "outputId": "2bf97ad2-781f-4c8a-90b7-5170b7dfe380",
        "colab": {
          "base_uri": "https://localhost:8080/",
          "height": 297
        }
      },
      "source": [
        "dados[['PTRATIO', 'LSTAT', 'RM']].describe()"
      ],
      "execution_count": 0,
      "outputs": [
        {
          "output_type": "execute_result",
          "data": {
            "text/html": [
              "<div>\n",
              "<style scoped>\n",
              "    .dataframe tbody tr th:only-of-type {\n",
              "        vertical-align: middle;\n",
              "    }\n",
              "\n",
              "    .dataframe tbody tr th {\n",
              "        vertical-align: top;\n",
              "    }\n",
              "\n",
              "    .dataframe thead th {\n",
              "        text-align: right;\n",
              "    }\n",
              "</style>\n",
              "<table border=\"1\" class=\"dataframe\">\n",
              "  <thead>\n",
              "    <tr style=\"text-align: right;\">\n",
              "      <th></th>\n",
              "      <th>PTRATIO</th>\n",
              "      <th>LSTAT</th>\n",
              "      <th>RM</th>\n",
              "    </tr>\n",
              "  </thead>\n",
              "  <tbody>\n",
              "    <tr>\n",
              "      <th>count</th>\n",
              "      <td>506.000000</td>\n",
              "      <td>506.000000</td>\n",
              "      <td>506.000000</td>\n",
              "    </tr>\n",
              "    <tr>\n",
              "      <th>mean</th>\n",
              "      <td>18.455534</td>\n",
              "      <td>12.653063</td>\n",
              "      <td>6.284634</td>\n",
              "    </tr>\n",
              "    <tr>\n",
              "      <th>std</th>\n",
              "      <td>2.164946</td>\n",
              "      <td>7.141062</td>\n",
              "      <td>0.702617</td>\n",
              "    </tr>\n",
              "    <tr>\n",
              "      <th>min</th>\n",
              "      <td>12.600000</td>\n",
              "      <td>1.730000</td>\n",
              "      <td>3.561000</td>\n",
              "    </tr>\n",
              "    <tr>\n",
              "      <th>25%</th>\n",
              "      <td>17.400000</td>\n",
              "      <td>6.950000</td>\n",
              "      <td>5.885500</td>\n",
              "    </tr>\n",
              "    <tr>\n",
              "      <th>50%</th>\n",
              "      <td>19.050000</td>\n",
              "      <td>11.360000</td>\n",
              "      <td>6.208500</td>\n",
              "    </tr>\n",
              "    <tr>\n",
              "      <th>75%</th>\n",
              "      <td>20.200000</td>\n",
              "      <td>16.955000</td>\n",
              "      <td>6.623500</td>\n",
              "    </tr>\n",
              "    <tr>\n",
              "      <th>max</th>\n",
              "      <td>22.000000</td>\n",
              "      <td>37.970000</td>\n",
              "      <td>8.780000</td>\n",
              "    </tr>\n",
              "  </tbody>\n",
              "</table>\n",
              "</div>"
            ],
            "text/plain": [
              "          PTRATIO       LSTAT          RM\n",
              "count  506.000000  506.000000  506.000000\n",
              "mean    18.455534   12.653063    6.284634\n",
              "std      2.164946    7.141062    0.702617\n",
              "min     12.600000    1.730000    3.561000\n",
              "25%     17.400000    6.950000    5.885500\n",
              "50%     19.050000   11.360000    6.208500\n",
              "75%     20.200000   16.955000    6.623500\n",
              "max     22.000000   37.970000    8.780000"
            ]
          },
          "metadata": {
            "tags": []
          },
          "execution_count": 29
        }
      ]
    },
    {
      "cell_type": "markdown",
      "metadata": {
        "id": "bJsuBdjtUvoM",
        "colab_type": "text"
      },
      "source": [
        "**Ranquear os 16 imóveis com maiores valores (preço médio) e observar o comportamento em relação as outras colunas abaixo**"
      ]
    },
    {
      "cell_type": "code",
      "metadata": {
        "id": "Nga5FA7y1Qta",
        "colab_type": "code",
        "outputId": "f4ac02df-b459-4b11-f84f-26c583c3e054",
        "colab": {
          "base_uri": "https://localhost:8080/",
          "height": 545
        }
      },
      "source": [
        "dados[['PTRATIO', 'LSTAT', 'RM', 'MEDV']].nlargest(16, 'MEDV')"
      ],
      "execution_count": 0,
      "outputs": [
        {
          "output_type": "execute_result",
          "data": {
            "text/html": [
              "<div>\n",
              "<style scoped>\n",
              "    .dataframe tbody tr th:only-of-type {\n",
              "        vertical-align: middle;\n",
              "    }\n",
              "\n",
              "    .dataframe tbody tr th {\n",
              "        vertical-align: top;\n",
              "    }\n",
              "\n",
              "    .dataframe thead th {\n",
              "        text-align: right;\n",
              "    }\n",
              "</style>\n",
              "<table border=\"1\" class=\"dataframe\">\n",
              "  <thead>\n",
              "    <tr style=\"text-align: right;\">\n",
              "      <th></th>\n",
              "      <th>PTRATIO</th>\n",
              "      <th>LSTAT</th>\n",
              "      <th>RM</th>\n",
              "      <th>MEDV</th>\n",
              "    </tr>\n",
              "  </thead>\n",
              "  <tbody>\n",
              "    <tr>\n",
              "      <th>161</th>\n",
              "      <td>14.7</td>\n",
              "      <td>1.73</td>\n",
              "      <td>7.489</td>\n",
              "      <td>50.0</td>\n",
              "    </tr>\n",
              "    <tr>\n",
              "      <th>162</th>\n",
              "      <td>14.7</td>\n",
              "      <td>1.92</td>\n",
              "      <td>7.802</td>\n",
              "      <td>50.0</td>\n",
              "    </tr>\n",
              "    <tr>\n",
              "      <th>163</th>\n",
              "      <td>14.7</td>\n",
              "      <td>3.32</td>\n",
              "      <td>8.375</td>\n",
              "      <td>50.0</td>\n",
              "    </tr>\n",
              "    <tr>\n",
              "      <th>166</th>\n",
              "      <td>14.7</td>\n",
              "      <td>3.70</td>\n",
              "      <td>7.929</td>\n",
              "      <td>50.0</td>\n",
              "    </tr>\n",
              "    <tr>\n",
              "      <th>186</th>\n",
              "      <td>17.8</td>\n",
              "      <td>4.45</td>\n",
              "      <td>7.831</td>\n",
              "      <td>50.0</td>\n",
              "    </tr>\n",
              "    <tr>\n",
              "      <th>195</th>\n",
              "      <td>14.4</td>\n",
              "      <td>2.97</td>\n",
              "      <td>7.875</td>\n",
              "      <td>50.0</td>\n",
              "    </tr>\n",
              "    <tr>\n",
              "      <th>204</th>\n",
              "      <td>14.7</td>\n",
              "      <td>2.88</td>\n",
              "      <td>8.034</td>\n",
              "      <td>50.0</td>\n",
              "    </tr>\n",
              "    <tr>\n",
              "      <th>225</th>\n",
              "      <td>17.4</td>\n",
              "      <td>4.63</td>\n",
              "      <td>8.725</td>\n",
              "      <td>50.0</td>\n",
              "    </tr>\n",
              "    <tr>\n",
              "      <th>257</th>\n",
              "      <td>13.0</td>\n",
              "      <td>5.12</td>\n",
              "      <td>8.704</td>\n",
              "      <td>50.0</td>\n",
              "    </tr>\n",
              "    <tr>\n",
              "      <th>267</th>\n",
              "      <td>13.0</td>\n",
              "      <td>7.44</td>\n",
              "      <td>8.297</td>\n",
              "      <td>50.0</td>\n",
              "    </tr>\n",
              "    <tr>\n",
              "      <th>283</th>\n",
              "      <td>13.6</td>\n",
              "      <td>3.16</td>\n",
              "      <td>7.923</td>\n",
              "      <td>50.0</td>\n",
              "    </tr>\n",
              "    <tr>\n",
              "      <th>368</th>\n",
              "      <td>20.2</td>\n",
              "      <td>3.26</td>\n",
              "      <td>4.970</td>\n",
              "      <td>50.0</td>\n",
              "    </tr>\n",
              "    <tr>\n",
              "      <th>369</th>\n",
              "      <td>20.2</td>\n",
              "      <td>3.73</td>\n",
              "      <td>6.683</td>\n",
              "      <td>50.0</td>\n",
              "    </tr>\n",
              "    <tr>\n",
              "      <th>370</th>\n",
              "      <td>20.2</td>\n",
              "      <td>2.96</td>\n",
              "      <td>7.016</td>\n",
              "      <td>50.0</td>\n",
              "    </tr>\n",
              "    <tr>\n",
              "      <th>371</th>\n",
              "      <td>20.2</td>\n",
              "      <td>9.53</td>\n",
              "      <td>6.216</td>\n",
              "      <td>50.0</td>\n",
              "    </tr>\n",
              "    <tr>\n",
              "      <th>372</th>\n",
              "      <td>20.2</td>\n",
              "      <td>8.88</td>\n",
              "      <td>5.875</td>\n",
              "      <td>50.0</td>\n",
              "    </tr>\n",
              "  </tbody>\n",
              "</table>\n",
              "</div>"
            ],
            "text/plain": [
              "     PTRATIO  LSTAT     RM  MEDV\n",
              "161     14.7   1.73  7.489  50.0\n",
              "162     14.7   1.92  7.802  50.0\n",
              "163     14.7   3.32  8.375  50.0\n",
              "166     14.7   3.70  7.929  50.0\n",
              "186     17.8   4.45  7.831  50.0\n",
              "195     14.4   2.97  7.875  50.0\n",
              "204     14.7   2.88  8.034  50.0\n",
              "225     17.4   4.63  8.725  50.0\n",
              "257     13.0   5.12  8.704  50.0\n",
              "267     13.0   7.44  8.297  50.0\n",
              "283     13.6   3.16  7.923  50.0\n",
              "368     20.2   3.26  4.970  50.0\n",
              "369     20.2   3.73  6.683  50.0\n",
              "370     20.2   2.96  7.016  50.0\n",
              "371     20.2   9.53  6.216  50.0\n",
              "372     20.2   8.88  5.875  50.0"
            ]
          },
          "metadata": {
            "tags": []
          },
          "execution_count": 45
        }
      ]
    },
    {
      "cell_type": "markdown",
      "metadata": {
        "id": "iU-wCSJ1VS6O",
        "colab_type": "text"
      },
      "source": [
        "# Limpando os dados"
      ]
    },
    {
      "cell_type": "markdown",
      "metadata": {
        "id": "9DgdQIXwVWol",
        "colab_type": "text"
      },
      "source": [
        "**Remover dados considerados outliers a partir do preço médio, para verificar se a distribuição é alterada**"
      ]
    },
    {
      "cell_type": "markdown",
      "metadata": {
        "id": "lWqCdkexVxyZ",
        "colab_type": "text"
      },
      "source": [
        "**Descobrir o index correspondente das 16 linhas que possuem os dados considerados outliers**"
      ]
    },
    {
      "cell_type": "code",
      "metadata": {
        "id": "LJILdwegUP2J",
        "colab_type": "code",
        "outputId": "b0f7b8bd-bce9-41fa-ab29-5a94a7b6760f",
        "colab": {
          "base_uri": "https://localhost:8080/",
          "height": 68
        }
      },
      "source": [
        "top16 = dados.nlargest(16, 'MEDV').index\n",
        "top16"
      ],
      "execution_count": 0,
      "outputs": [
        {
          "output_type": "execute_result",
          "data": {
            "text/plain": [
              "Int64Index([161, 162, 163, 166, 186, 195, 204, 225, 257, 267, 283, 368, 369,\n",
              "            370, 371, 372],\n",
              "           dtype='int64')"
            ]
          },
          "metadata": {
            "tags": []
          },
          "execution_count": 46
        }
      ]
    },
    {
      "cell_type": "markdown",
      "metadata": {
        "id": "Rpixvz3yV6Iu",
        "colab_type": "text"
      },
      "source": [
        "**Remover as linhas respectivas e atualizar o próprio DataFrame**"
      ]
    },
    {
      "cell_type": "code",
      "metadata": {
        "id": "HGjF2arwVmyp",
        "colab_type": "code",
        "outputId": "13717d9c-8f85-4515-a255-fcfb5b25cd14",
        "colab": {
          "base_uri": "https://localhost:8080/",
          "height": 359
        }
      },
      "source": [
        "dados_limp = dados.drop(top16)\n",
        "dados_limp.head(10)"
      ],
      "execution_count": 0,
      "outputs": [
        {
          "output_type": "execute_result",
          "data": {
            "text/html": [
              "<div>\n",
              "<style scoped>\n",
              "    .dataframe tbody tr th:only-of-type {\n",
              "        vertical-align: middle;\n",
              "    }\n",
              "\n",
              "    .dataframe tbody tr th {\n",
              "        vertical-align: top;\n",
              "    }\n",
              "\n",
              "    .dataframe thead th {\n",
              "        text-align: right;\n",
              "    }\n",
              "</style>\n",
              "<table border=\"1\" class=\"dataframe\">\n",
              "  <thead>\n",
              "    <tr style=\"text-align: right;\">\n",
              "      <th></th>\n",
              "      <th>CRIM</th>\n",
              "      <th>ZN</th>\n",
              "      <th>INDUS</th>\n",
              "      <th>CHAS</th>\n",
              "      <th>NOX</th>\n",
              "      <th>RM</th>\n",
              "      <th>AGE</th>\n",
              "      <th>DIS</th>\n",
              "      <th>RAD</th>\n",
              "      <th>TAX</th>\n",
              "      <th>PTRATIO</th>\n",
              "      <th>B</th>\n",
              "      <th>LSTAT</th>\n",
              "      <th>MEDV</th>\n",
              "    </tr>\n",
              "  </thead>\n",
              "  <tbody>\n",
              "    <tr>\n",
              "      <th>0</th>\n",
              "      <td>0.00632</td>\n",
              "      <td>18.0</td>\n",
              "      <td>2.31</td>\n",
              "      <td>0.0</td>\n",
              "      <td>0.538</td>\n",
              "      <td>6.575</td>\n",
              "      <td>65.2</td>\n",
              "      <td>4.0900</td>\n",
              "      <td>1.0</td>\n",
              "      <td>296.0</td>\n",
              "      <td>15.3</td>\n",
              "      <td>396.90</td>\n",
              "      <td>4.98</td>\n",
              "      <td>24.0</td>\n",
              "    </tr>\n",
              "    <tr>\n",
              "      <th>1</th>\n",
              "      <td>0.02731</td>\n",
              "      <td>0.0</td>\n",
              "      <td>7.07</td>\n",
              "      <td>0.0</td>\n",
              "      <td>0.469</td>\n",
              "      <td>6.421</td>\n",
              "      <td>78.9</td>\n",
              "      <td>4.9671</td>\n",
              "      <td>2.0</td>\n",
              "      <td>242.0</td>\n",
              "      <td>17.8</td>\n",
              "      <td>396.90</td>\n",
              "      <td>9.14</td>\n",
              "      <td>21.6</td>\n",
              "    </tr>\n",
              "    <tr>\n",
              "      <th>2</th>\n",
              "      <td>0.02729</td>\n",
              "      <td>0.0</td>\n",
              "      <td>7.07</td>\n",
              "      <td>0.0</td>\n",
              "      <td>0.469</td>\n",
              "      <td>7.185</td>\n",
              "      <td>61.1</td>\n",
              "      <td>4.9671</td>\n",
              "      <td>2.0</td>\n",
              "      <td>242.0</td>\n",
              "      <td>17.8</td>\n",
              "      <td>392.83</td>\n",
              "      <td>4.03</td>\n",
              "      <td>34.7</td>\n",
              "    </tr>\n",
              "    <tr>\n",
              "      <th>3</th>\n",
              "      <td>0.03237</td>\n",
              "      <td>0.0</td>\n",
              "      <td>2.18</td>\n",
              "      <td>0.0</td>\n",
              "      <td>0.458</td>\n",
              "      <td>6.998</td>\n",
              "      <td>45.8</td>\n",
              "      <td>6.0622</td>\n",
              "      <td>3.0</td>\n",
              "      <td>222.0</td>\n",
              "      <td>18.7</td>\n",
              "      <td>394.63</td>\n",
              "      <td>2.94</td>\n",
              "      <td>33.4</td>\n",
              "    </tr>\n",
              "    <tr>\n",
              "      <th>4</th>\n",
              "      <td>0.06905</td>\n",
              "      <td>0.0</td>\n",
              "      <td>2.18</td>\n",
              "      <td>0.0</td>\n",
              "      <td>0.458</td>\n",
              "      <td>7.147</td>\n",
              "      <td>54.2</td>\n",
              "      <td>6.0622</td>\n",
              "      <td>3.0</td>\n",
              "      <td>222.0</td>\n",
              "      <td>18.7</td>\n",
              "      <td>396.90</td>\n",
              "      <td>5.33</td>\n",
              "      <td>36.2</td>\n",
              "    </tr>\n",
              "    <tr>\n",
              "      <th>5</th>\n",
              "      <td>0.02985</td>\n",
              "      <td>0.0</td>\n",
              "      <td>2.18</td>\n",
              "      <td>0.0</td>\n",
              "      <td>0.458</td>\n",
              "      <td>6.430</td>\n",
              "      <td>58.7</td>\n",
              "      <td>6.0622</td>\n",
              "      <td>3.0</td>\n",
              "      <td>222.0</td>\n",
              "      <td>18.7</td>\n",
              "      <td>394.12</td>\n",
              "      <td>5.21</td>\n",
              "      <td>28.7</td>\n",
              "    </tr>\n",
              "    <tr>\n",
              "      <th>6</th>\n",
              "      <td>0.08829</td>\n",
              "      <td>12.5</td>\n",
              "      <td>7.87</td>\n",
              "      <td>0.0</td>\n",
              "      <td>0.524</td>\n",
              "      <td>6.012</td>\n",
              "      <td>66.6</td>\n",
              "      <td>5.5605</td>\n",
              "      <td>5.0</td>\n",
              "      <td>311.0</td>\n",
              "      <td>15.2</td>\n",
              "      <td>395.60</td>\n",
              "      <td>12.43</td>\n",
              "      <td>22.9</td>\n",
              "    </tr>\n",
              "    <tr>\n",
              "      <th>7</th>\n",
              "      <td>0.14455</td>\n",
              "      <td>12.5</td>\n",
              "      <td>7.87</td>\n",
              "      <td>0.0</td>\n",
              "      <td>0.524</td>\n",
              "      <td>6.172</td>\n",
              "      <td>96.1</td>\n",
              "      <td>5.9505</td>\n",
              "      <td>5.0</td>\n",
              "      <td>311.0</td>\n",
              "      <td>15.2</td>\n",
              "      <td>396.90</td>\n",
              "      <td>19.15</td>\n",
              "      <td>27.1</td>\n",
              "    </tr>\n",
              "    <tr>\n",
              "      <th>8</th>\n",
              "      <td>0.21124</td>\n",
              "      <td>12.5</td>\n",
              "      <td>7.87</td>\n",
              "      <td>0.0</td>\n",
              "      <td>0.524</td>\n",
              "      <td>5.631</td>\n",
              "      <td>100.0</td>\n",
              "      <td>6.0821</td>\n",
              "      <td>5.0</td>\n",
              "      <td>311.0</td>\n",
              "      <td>15.2</td>\n",
              "      <td>386.63</td>\n",
              "      <td>29.93</td>\n",
              "      <td>16.5</td>\n",
              "    </tr>\n",
              "    <tr>\n",
              "      <th>9</th>\n",
              "      <td>0.17004</td>\n",
              "      <td>12.5</td>\n",
              "      <td>7.87</td>\n",
              "      <td>0.0</td>\n",
              "      <td>0.524</td>\n",
              "      <td>6.004</td>\n",
              "      <td>85.9</td>\n",
              "      <td>6.5921</td>\n",
              "      <td>5.0</td>\n",
              "      <td>311.0</td>\n",
              "      <td>15.2</td>\n",
              "      <td>386.71</td>\n",
              "      <td>17.10</td>\n",
              "      <td>18.9</td>\n",
              "    </tr>\n",
              "  </tbody>\n",
              "</table>\n",
              "</div>"
            ],
            "text/plain": [
              "      CRIM    ZN  INDUS  CHAS    NOX  ...    TAX  PTRATIO       B  LSTAT  MEDV\n",
              "0  0.00632  18.0   2.31   0.0  0.538  ...  296.0     15.3  396.90   4.98  24.0\n",
              "1  0.02731   0.0   7.07   0.0  0.469  ...  242.0     17.8  396.90   9.14  21.6\n",
              "2  0.02729   0.0   7.07   0.0  0.469  ...  242.0     17.8  392.83   4.03  34.7\n",
              "3  0.03237   0.0   2.18   0.0  0.458  ...  222.0     18.7  394.63   2.94  33.4\n",
              "4  0.06905   0.0   2.18   0.0  0.458  ...  222.0     18.7  396.90   5.33  36.2\n",
              "5  0.02985   0.0   2.18   0.0  0.458  ...  222.0     18.7  394.12   5.21  28.7\n",
              "6  0.08829  12.5   7.87   0.0  0.524  ...  311.0     15.2  395.60  12.43  22.9\n",
              "7  0.14455  12.5   7.87   0.0  0.524  ...  311.0     15.2  396.90  19.15  27.1\n",
              "8  0.21124  12.5   7.87   0.0  0.524  ...  311.0     15.2  386.63  29.93  16.5\n",
              "9  0.17004  12.5   7.87   0.0  0.524  ...  311.0     15.2  386.71  17.10  18.9\n",
              "\n",
              "[10 rows x 14 columns]"
            ]
          },
          "metadata": {
            "tags": []
          },
          "execution_count": 47
        }
      ]
    },
    {
      "cell_type": "markdown",
      "metadata": {
        "id": "lpr-EFaTXE1_",
        "colab_type": "text"
      },
      "source": [
        "**Verificando a quantidade de linhas entre os dois DF**"
      ]
    },
    {
      "cell_type": "code",
      "metadata": {
        "id": "XZCwdAs5WwDG",
        "colab_type": "code",
        "outputId": "ae85f678-f2bd-4b63-b383-8e8181071526",
        "colab": {
          "base_uri": "https://localhost:8080/",
          "height": 34
        }
      },
      "source": [
        "dados.shape"
      ],
      "execution_count": 0,
      "outputs": [
        {
          "output_type": "execute_result",
          "data": {
            "text/plain": [
              "(506, 14)"
            ]
          },
          "metadata": {
            "tags": []
          },
          "execution_count": 48
        }
      ]
    },
    {
      "cell_type": "code",
      "metadata": {
        "id": "LIW7ydNEXB1i",
        "colab_type": "code",
        "outputId": "f704caa7-4362-4f05-e4ba-8859187b722c",
        "colab": {
          "base_uri": "https://localhost:8080/",
          "height": 34
        }
      },
      "source": [
        "dados_limp.shape"
      ],
      "execution_count": 0,
      "outputs": [
        {
          "output_type": "execute_result",
          "data": {
            "text/plain": [
              "(490, 14)"
            ]
          },
          "metadata": {
            "tags": []
          },
          "execution_count": 49
        }
      ]
    },
    {
      "cell_type": "markdown",
      "metadata": {
        "id": "rUyjfKc9XbrT",
        "colab_type": "text"
      },
      "source": [
        "**Distribuição após a limpeza dos dados**"
      ]
    },
    {
      "cell_type": "code",
      "metadata": {
        "id": "zJaXIby6XhsX",
        "colab_type": "code",
        "outputId": "362f207d-528c-47a7-ea9f-248ad283229a",
        "colab": {
          "base_uri": "https://localhost:8080/",
          "height": 542
        }
      },
      "source": [
        "label = ['Distribuição da label MEDV (Preço correspondente para o imóvel) Após a Limpeza nos dados']\n",
        "fig = ff.create_distplot([dados_limp.MEDV], label, bin_size=.2)\n",
        "fig.show()"
      ],
      "execution_count": 0,
      "outputs": [
        {
          "output_type": "display_data",
          "data": {
            "text/html": [
              "<html>\n",
              "<head><meta charset=\"utf-8\" /></head>\n",
              "<body>\n",
              "    <div>\n",
              "            <script src=\"https://cdnjs.cloudflare.com/ajax/libs/mathjax/2.7.5/MathJax.js?config=TeX-AMS-MML_SVG\"></script><script type=\"text/javascript\">if (window.MathJax) {MathJax.Hub.Config({SVG: {font: \"STIX-Web\"}});}</script>\n",
              "                <script type=\"text/javascript\">window.PlotlyConfig = {MathJaxConfig: 'local'};</script>\n",
              "        <script src=\"https://cdn.plot.ly/plotly-latest.min.js\"></script>    \n",
              "            <div id=\"3e3c9e10-3c4a-4ec8-a018-7b5f3fe7f28c\" class=\"plotly-graph-div\" style=\"height:525px; width:100%;\"></div>\n",
              "            <script type=\"text/javascript\">\n",
              "                \n",
              "                    window.PLOTLYENV=window.PLOTLYENV || {};\n",
              "                    \n",
              "                if (document.getElementById(\"3e3c9e10-3c4a-4ec8-a018-7b5f3fe7f28c\")) {\n",
              "                    Plotly.newPlot(\n",
              "                        '3e3c9e10-3c4a-4ec8-a018-7b5f3fe7f28c',\n",
              "                        [{\"autobinx\": false, \"histnorm\": \"probability density\", \"legendgroup\": \"Distribui\\u00e7\\u00e3o da label MEDV (Pre\\u00e7o correspondente para o im\\u00f3vel) Ap\\u00f3s a Limpeza nos dados\", \"marker\": {\"color\": \"rgb(31, 119, 180)\"}, \"name\": \"Distribui\\u00e7\\u00e3o da label MEDV (Pre\\u00e7o correspondente para o im\\u00f3vel) Ap\\u00f3s a Limpeza nos dados\", \"opacity\": 0.7, \"type\": \"histogram\", \"x\": [24.0, 21.6, 34.7, 33.4, 36.2, 28.7, 22.9, 27.1, 16.5, 18.9, 15.0, 18.9, 21.7, 20.4, 18.2, 19.9, 23.1, 17.5, 20.2, 18.2, 13.6, 19.6, 15.2, 14.5, 15.6, 13.9, 16.6, 14.8, 18.4, 21.0, 12.7, 14.5, 13.2, 13.1, 13.5, 18.9, 20.0, 21.0, 24.7, 30.8, 34.9, 26.6, 25.3, 24.7, 21.2, 19.3, 20.0, 16.6, 14.4, 19.4, 19.7, 20.5, 25.0, 23.4, 18.9, 35.4, 24.7, 31.6, 23.3, 19.6, 18.7, 16.0, 22.2, 25.0, 33.0, 23.5, 19.4, 22.0, 17.4, 20.9, 24.2, 21.7, 22.8, 23.4, 24.1, 21.4, 20.0, 20.8, 21.2, 20.3, 28.0, 23.9, 24.8, 22.9, 23.9, 26.6, 22.5, 22.2, 23.6, 28.7, 22.6, 22.0, 22.9, 25.0, 20.6, 28.4, 21.4, 38.7, 43.8, 33.2, 27.5, 26.5, 18.6, 19.3, 20.1, 19.5, 19.5, 20.4, 19.8, 19.4, 21.7, 22.8, 18.8, 18.7, 18.5, 18.3, 21.2, 19.2, 20.4, 19.3, 22.0, 20.3, 20.5, 17.3, 18.8, 21.4, 15.7, 16.2, 18.0, 14.3, 19.2, 19.6, 23.0, 18.4, 15.6, 18.1, 17.4, 17.1, 13.3, 17.8, 14.0, 14.4, 13.4, 15.6, 11.8, 13.8, 15.6, 14.6, 17.8, 15.4, 21.5, 19.6, 15.3, 19.4, 17.0, 15.6, 13.1, 41.3, 24.3, 23.3, 27.0, 22.7, 25.0, 23.8, 23.8, 22.3, 17.4, 19.1, 23.1, 23.6, 22.6, 29.4, 23.2, 24.6, 29.9, 37.2, 39.8, 36.2, 37.9, 32.5, 26.4, 29.6, 32.0, 29.8, 34.9, 37.0, 30.5, 36.4, 31.1, 29.1, 33.3, 30.3, 34.6, 34.9, 32.9, 24.1, 42.3, 48.5, 22.6, 24.4, 22.5, 24.4, 20.0, 21.7, 19.3, 22.4, 28.1, 23.7, 25.0, 23.3, 28.7, 21.5, 23.0, 26.7, 21.7, 27.5, 30.1, 44.8, 37.6, 31.6, 46.7, 31.5, 24.3, 31.7, 41.7, 48.3, 29.0, 24.0, 25.1, 31.5, 23.7, 23.3, 22.0, 20.1, 22.2, 23.7, 17.6, 18.5, 24.3, 20.5, 24.5, 26.2, 24.4, 24.8, 29.6, 42.8, 21.9, 20.9, 44.0, 36.0, 30.1, 33.8, 43.1, 48.8, 31.0, 36.5, 22.8, 30.7, 43.5, 20.7, 21.1, 25.2, 24.4, 35.2, 32.4, 32.0, 33.2, 33.1, 29.1, 35.1, 45.4, 35.4, 46.0, 32.2, 22.0, 20.1, 23.2, 22.3, 24.8, 28.5, 37.3, 27.9, 23.9, 21.7, 28.6, 27.1, 20.3, 22.5, 29.0, 24.8, 22.0, 26.4, 33.1, 36.1, 28.4, 33.4, 28.2, 22.8, 20.3, 16.1, 22.1, 19.4, 21.6, 23.8, 16.2, 17.8, 19.8, 23.1, 21.0, 23.8, 23.1, 20.4, 18.5, 25.0, 24.6, 23.0, 22.2, 19.3, 22.6, 19.8, 17.1, 19.4, 22.2, 20.7, 21.1, 19.5, 18.5, 20.6, 19.0, 18.7, 32.7, 16.5, 23.9, 31.2, 17.5, 17.2, 23.1, 24.5, 26.6, 22.9, 24.1, 18.6, 30.1, 18.2, 20.6, 17.8, 21.7, 22.7, 22.6, 25.0, 19.9, 20.8, 16.8, 21.9, 27.5, 21.9, 23.1, 13.8, 13.8, 15.0, 13.9, 13.3, 13.1, 10.2, 10.4, 10.9, 11.3, 12.3, 8.8, 7.2, 10.5, 7.4, 10.2, 11.5, 15.1, 23.2, 9.7, 13.8, 12.7, 13.1, 12.5, 8.5, 5.0, 6.3, 5.6, 7.2, 12.1, 8.3, 8.5, 5.0, 11.9, 27.9, 17.2, 27.5, 15.0, 17.2, 17.9, 16.3, 7.0, 7.2, 7.5, 10.4, 8.8, 8.4, 16.7, 14.2, 20.8, 13.4, 11.7, 8.3, 10.2, 10.9, 11.0, 9.5, 14.5, 14.1, 16.1, 14.3, 11.7, 13.4, 9.6, 8.7, 8.4, 12.8, 10.5, 17.1, 18.4, 15.4, 10.8, 11.8, 14.9, 12.6, 14.1, 13.0, 13.4, 15.2, 16.1, 17.8, 14.9, 14.1, 12.7, 13.5, 14.9, 20.0, 16.4, 17.7, 19.5, 20.2, 21.4, 19.9, 19.0, 19.1, 19.1, 20.1, 19.9, 19.6, 23.2, 29.8, 13.8, 13.3, 16.7, 12.0, 14.6, 21.4, 23.0, 23.7, 25.0, 21.8, 20.6, 21.2, 19.1, 20.6, 15.2, 7.0, 8.1, 13.6, 20.1, 21.8, 24.5, 23.1, 19.7, 18.3, 21.2, 17.5, 16.8, 22.4, 20.6, 23.9, 22.0, 11.9], \"xaxis\": \"x\", \"xbins\": {\"end\": 48.8, \"size\": 0.2, \"start\": 5.0}, \"yaxis\": \"y\"}, {\"legendgroup\": \"Distribui\\u00e7\\u00e3o da label MEDV (Pre\\u00e7o correspondente para o im\\u00f3vel) Ap\\u00f3s a Limpeza nos dados\", \"marker\": {\"color\": \"rgb(31, 119, 180)\"}, \"mode\": \"lines\", \"name\": \"Distribui\\u00e7\\u00e3o da label MEDV (Pre\\u00e7o correspondente para o im\\u00f3vel) Ap\\u00f3s a Limpeza nos dados\", \"showlegend\": false, \"type\": \"scatter\", \"x\": [5.0, 5.0876, 5.1752, 5.2628, 5.3504, 5.438, 5.5256, 5.6132, 5.7008, 5.7884, 5.876, 5.9636, 6.0512, 6.1388, 6.2264, 6.314, 6.4016, 6.4892, 6.5768, 6.6644, 6.752, 6.8396, 6.9272, 7.0148, 7.102399999999999, 7.1899999999999995, 7.2776, 7.3652, 7.4528, 7.5404, 7.628, 7.7156, 7.8032, 7.8908, 7.9784, 8.065999999999999, 8.1536, 8.2412, 8.3288, 8.4164, 8.504, 8.5916, 8.6792, 8.7668, 8.8544, 8.942, 9.0296, 9.1172, 9.204799999999999, 9.2924, 9.379999999999999, 9.4676, 9.5552, 9.6428, 9.7304, 9.818, 9.9056, 9.9932, 10.0808, 10.168399999999998, 10.256, 10.343599999999999, 10.4312, 10.518799999999999, 10.6064, 10.693999999999999, 10.7816, 10.8692, 10.9568, 11.0444, 11.132, 11.2196, 11.3072, 11.3948, 11.482399999999998, 11.57, 11.657599999999999, 11.7452, 11.832799999999999, 11.9204, 12.008, 12.0956, 12.1832, 12.2708, 12.3584, 12.445999999999998, 12.5336, 12.6212, 12.7088, 12.796399999999998, 12.884, 12.971599999999999, 13.0592, 13.146799999999999, 13.234399999999999, 13.322, 13.4096, 13.4972, 13.5848, 13.6724, 13.76, 13.847599999999998, 13.935199999999998, 14.0228, 14.1104, 14.198, 14.285599999999999, 14.373199999999999, 14.460799999999999, 14.548399999999999, 14.636, 14.7236, 14.8112, 14.8988, 14.9864, 15.074, 15.161599999999998, 15.249199999999998, 15.336799999999998, 15.4244, 15.512, 15.599599999999999, 15.687199999999999, 15.774799999999999, 15.8624, 15.95, 16.037599999999998, 16.1252, 16.2128, 16.3004, 16.387999999999998, 16.4756, 16.5632, 16.650799999999997, 16.7384, 16.826, 16.9136, 17.001199999999997, 17.0888, 17.1764, 17.264, 17.351599999999998, 17.4392, 17.5268, 17.6144, 17.701999999999998, 17.7896, 17.8772, 17.964799999999997, 18.0524, 18.14, 18.2276, 18.315199999999997, 18.4028, 18.4904, 18.578, 18.665599999999998, 18.7532, 18.8408, 18.9284, 19.016, 19.1036, 19.1912, 19.278799999999997, 19.3664, 19.454, 19.5416, 19.629199999999997, 19.7168, 19.8044, 19.891999999999996, 19.979599999999998, 20.0672, 20.1548, 20.2424, 20.33, 20.4176, 20.5052, 20.592799999999997, 20.6804, 20.768, 20.8556, 20.943199999999997, 21.0308, 21.1184, 21.206, 21.293599999999998, 21.3812, 21.468799999999998, 21.556399999999996, 21.644, 21.7316, 21.8192, 21.9068, 21.9944, 22.082, 22.1696, 22.257199999999997, 22.3448, 22.432399999999998, 22.52, 22.607599999999998, 22.695199999999996, 22.782799999999998, 22.870399999999997, 22.958, 23.0456, 23.1332, 23.2208, 23.3084, 23.396, 23.4836, 23.571199999999997, 23.6588, 23.746399999999998, 23.834, 23.921599999999998, 24.009199999999996, 24.096799999999998, 24.184399999999997, 24.272, 24.359599999999997, 24.4472, 24.5348, 24.6224, 24.71, 24.7976, 24.885199999999998, 24.9728, 25.060399999999998, 25.148, 25.235599999999998, 25.323199999999996, 25.4108, 25.498399999999997, 25.586, 25.673599999999997, 25.7612, 25.8488, 25.9364, 26.024, 26.1116, 26.199199999999998, 26.2868, 26.374399999999998, 26.462, 26.549599999999998, 26.637199999999996, 26.7248, 26.812399999999997, 26.9, 26.987599999999997, 27.0752, 27.1628, 27.2504, 27.338, 27.4256, 27.513199999999998, 27.6008, 27.688399999999998, 27.776, 27.863599999999998, 27.951199999999996, 28.0388, 28.126399999999997, 28.214, 28.301599999999997, 28.389199999999995, 28.4768, 28.5644, 28.652, 28.7396, 28.827199999999998, 28.9148, 29.002399999999998, 29.09, 29.177599999999998, 29.265199999999997, 29.3528, 29.440399999999997, 29.528, 29.615599999999997, 29.703199999999995, 29.7908, 29.8784, 29.966, 30.0536, 30.141199999999998, 30.2288, 30.316399999999998, 30.404, 30.4916, 30.579199999999997, 30.6668, 30.754399999999997, 30.842, 30.929599999999997, 31.017199999999995, 31.1048, 31.1924, 31.28, 31.3676, 31.455199999999998, 31.5428, 31.630399999999998, 31.718, 31.8056, 31.893199999999997, 31.9808, 32.0684, 32.156, 32.2436, 32.331199999999995, 32.418800000000005, 32.5064, 32.594, 32.6816, 32.7692, 32.8568, 32.9444, 33.032, 33.1196, 33.2072, 33.294799999999995, 33.3824, 33.47, 33.557599999999994, 33.645199999999996, 33.7328, 33.8204, 33.908, 33.995599999999996, 34.0832, 34.1708, 34.258399999999995, 34.346, 34.4336, 34.52119999999999, 34.6088, 34.6964, 34.78399999999999, 34.8716, 34.959199999999996, 35.0468, 35.1344, 35.221999999999994, 35.3096, 35.3972, 35.4848, 35.5724, 35.66, 35.7476, 35.8352, 35.922799999999995, 36.0104, 36.098, 36.185599999999994, 36.273199999999996, 36.3608, 36.4484, 36.536, 36.623599999999996, 36.7112, 36.7988, 36.886399999999995, 36.974, 37.0616, 37.1492, 37.2368, 37.3244, 37.412, 37.4996, 37.587199999999996, 37.6748, 37.7624, 37.85, 37.937599999999996, 38.0252, 38.11279999999999, 38.2004, 38.288, 38.3756, 38.4632, 38.550799999999995, 38.6384, 38.726, 38.8136, 38.901199999999996, 38.9888, 39.07639999999999, 39.164, 39.251599999999996, 39.3392, 39.42679999999999, 39.514399999999995, 39.602, 39.6896, 39.7772, 39.864799999999995, 39.9524, 40.04, 40.1276, 40.215199999999996, 40.3028, 40.39039999999999, 40.478, 40.565599999999996, 40.6532, 40.74079999999999, 40.828399999999995, 40.916, 41.0036, 41.0912, 41.178799999999995, 41.2664, 41.354, 41.4416, 41.529199999999996, 41.6168, 41.70439999999999, 41.792, 41.879599999999996, 41.9672, 42.05479999999999, 42.142399999999995, 42.23, 42.3176, 42.405199999999994, 42.492799999999995, 42.5804, 42.668, 42.7556, 42.843199999999996, 42.9308, 43.01839999999999, 43.106, 43.193599999999996, 43.2812, 43.36879999999999, 43.456399999999995, 43.544, 43.6316, 43.719199999999994, 43.806799999999996, 43.8944, 43.982, 44.0696, 44.157199999999996, 44.2448, 44.33239999999999, 44.42, 44.5076, 44.5952, 44.68279999999999, 44.770399999999995, 44.858, 44.9456, 45.033199999999994, 45.120799999999996, 45.2084, 45.296, 45.3836, 45.471199999999996, 45.5588, 45.64639999999999, 45.734, 45.8216, 45.9092, 45.99679999999999, 46.084399999999995, 46.172, 46.2596, 46.347199999999994, 46.434799999999996, 46.5224, 46.61, 46.6976, 46.785199999999996, 46.8728, 46.96039999999999, 47.048, 47.1356, 47.2232, 47.31079999999999, 47.398399999999995, 47.486, 47.5736, 47.661199999999994, 47.748799999999996, 47.8364, 47.924, 48.0116, 48.099199999999996, 48.1868, 48.27439999999999, 48.362, 48.4496, 48.5372, 48.62479999999999, 48.712399999999995], \"xaxis\": \"x\", \"y\": [0.004460080062174443, 0.004633125349405788, 0.004809228145530562, 0.0049882786610059736, 0.005170162520386921, 0.005354761382187012, 0.005541953609527673, 0.005731614989182483, 0.005923619496060564, 0.006117840099601672, 0.006314149607981194, 0.0065124215454532095, 0.006712531057600488, 0.006914355838718661, 0.007117777075046488, 0.007322680397070594, 0.007528956833690593, 0.0077365037606353495, 0.007945225835180347, 0.008155035908936969, 0.00836585591027253, 0.008577617687780896, 0.00879026380616291, 0.009003748285897329, 0.009218037278189404, 0.009433109666880232, 0.009648957589284007, 0.009865586868295554, 0.010083017348575253, 0.010301283130171266, 0.010520432693577955, 0.010740528910950524, 0.01096164893899479, 0.011183883989923126, 0.01140733897780533, 0.011632132038640719, 0.011858393923527102, 0.01208626726539423, 0.012315905720896282, 0.012547472990209032, 0.012781141718643918, 0.013017092285162069, 0.01325551148403698, 0.013496591107063173, 0.013740526434830992, 0.01398751464667206, 0.014237753159916489, 0.014491437910081586, 0.014748761584521097, 0.015009911822895787, 0.015275069398568769, 0.0155444063956768, 0.015818084397168117, 0.016096252699526175, 0.01637904657020454, 0.016666585563977356, 0.016958971914454907, 0.01725628901692106, 0.017558600018412654, 0.01786594653057872, 0.01817834748032666, 0.018495798112582482, 0.018818269158662613, 0.019145706182776875, 0.01947802911806102, 0.01981513200227159, 0.020156882921879303, 0.020503124171767917, 0.020853672636100298, 0.02120832039415685, 0.021566835553098674, 0.021928963307669417, 0.022294427224844926, 0.022662930749378175, 0.023034158924093835, 0.023407780316674568, 0.023783449142573552, 0.024160807571602997, 0.02453948820371207, 0.02491911669749499, 0.02529931453308993, 0.02567970188936066, 0.02605990061361739, 0.026439537260651836, 0.026818246176558067, 0.027195672601699458, 0.02757147576628258, 0.027945331951330886, 0.028316937487421267, 0.028686011663372486, 0.029052299517164433, 0.02941557448172228, 0.02977564085883461, 0.03013233609537514, 0.030485532837176102, 0.03083514073734056, 0.03118110799748036, 0.03152342262230619, 0.03186211337017201, 0.03219725038455682, 0.03252894549404454, 0.03285735217110562, 0.03318266514287252, 0.03350511965010099, 0.033824990353601064, 0.03414258989056445, 0.03445826708638653, 0.034772404830740976, 0.035085417629789825, 0.03539774884945934, 0.03570986766765868, 0.03602226575612953, 0.036335453715258655, 0.036649957287638694, 0.03696631337839529, 0.037285065912285455, 0.03760676155929601, 0.03793194536190773, 0.03826115629832486, 0.038594922816793824, 0.03893375837662634, 0.03927815703170965, 0.0396285890921123, 0.03998549689888769, 0.04034929074633698, 0.0407203449848307, 0.04109899433580216, 0.04148553044874919, 0.04188019872800437, 0.0422831954547058, 0.04269466522681047, 0.043114698737200974, 0.04354333090693532, 0.04398053938753566, 0.04442624344292221, 0.04488030321820613, 0.04534251939910267, 0.04581263326223541, 0.04629032711312384, 0.04677522510520136, 0.04726689442984897, 0.047764846864172504, 0.04826854066014676, 0.04877738275582289, 0.04929073128657611, 0.0498078983719021, 0.050328153151061664, 0.05085072503896397, 0.05137480717208959, 0.051899560012987456, 0.05242411508098064, 0.05294757877616367, 0.05346903626359775, 0.053987555384805465, 0.05450219056422735, 0.05501198667923292, 0.05551598286355679, 0.056013216215653916, 0.0565027253853987, 0.05698355401479145, 0.05745475401082883, 0.05791538863143237, 0.05836453536825988, 0.058801288613317015, 0.05922476209950532, 0.059634091108533425, 0.060028434442935354, 0.06040697616226691, 0.060768927086786904, 0.06111352607509091, 0.06144004108516319, 0.061747770031114244, 0.06203604145045827, 0.062304214999082834, 0.06255168179306952, 0.06277786461819239, 0.06298221802922842, 0.0631642283621443, 0.0633234136827592, 0.06345932369561146, 0.06357153963647964, 0.06365967417133385, 0.0637233713234054, 0.06376230644861951, 0.06377618627780861, 0.06376474904198708, 0.06372776469450725, 0.06366503524121886, 0.06357639518680633, 0.06346171210237816, 0.0633208873161346, 0.06315385672562461, 0.06296059172675691, 0.06274110025141241, 0.06249542790226539, 0.062223659170315956, 0.06192591871771412, 0.06160237270576309, 0.0612532301455783, 0.0608787442467769, 0.06047921373784163, 0.06005498413043968, 0.05960644889904502, 0.059134050546701684, 0.05863828152771077, 0.058119684998414065, 0.05757885536810423, 0.05701643862338421, 0.056433132401034106, 0.05582968578659549, 0.05520689881841622, 0.0545656216797967, 0.05390675356509558, 0.05323124120914008, 0.052540077073012385, 0.0518342971831888, 0.05111497862503299, 0.05038323669575545, 0.04964022172606267, 0.0488871155838059, 0.04812512787691273, 0.04735549187671921, 0.0465794601864414, 0.04579830018289508, 0.0450132892626384, 0.0442257099264369, 0.04343684473829022, 0.04264797119719081, 0.04186035656127102, 0.041075252665029184, 0.04029389077087848, 0.039517476496342, 0.03874718485781457, 0.037984155470935144, 0.037229487946277964, 0.03648423751728883, 0.03574941093520157, 0.03502596266308277, 0.03431479139822155, 0.03361673694883492, 0.032932577487547084, 0.03226302720036169, 0.031608734345942274, 0.03097027973598302, 0.030348175643351922, 0.029742865140566312, 0.029154721867073522, 0.028584050219802173, 0.028031085957568907, 0.02749599720622524, 0.026978885847936163, 0.02647978927475096, 0.025998682483679147, 0.025535480487854086, 0.025090041016077907, 0.024662167471113966, 0.02425161211553876, 0.023858079452793387, 0.02348122977028966, 0.023120682811025913, 0.022776021540140655, 0.022446795973176847, 0.02213252703351662, 0.02183271040746581, 0.02154682036679134, 0.02127431353011291, 0.0210146325363985, 0.020767209605875164, 0.020531469965907524, 0.020306835121787107, 0.020092725954871223, 0.019888565633084478, 0.01969378232140677, 0.019507811682587084, 0.019330099160911222, 0.019160102044378343, 0.01899729130308175, 0.018841153203913212, 0.018691190703897704, 0.018546924626489585, 0.018407894627014844, 0.018273659955101763, 0.018143800023400703, 0.01801791479314544, 0.017895624988143243, 0.017776572149607546, 0.017660418544858295, 0.01754684694332565, 0.017435560273501023, 0.01732628117450691, 0.017218751455805717, 0.0171127314782612, 0.01700799946931502, 0.01690435078446632, 0.016801597126559438, 0.016699565733616587, 0.01659809854511395, 0.016497051355715154, 0.016396292964557125, 0.016295704327257785, 0.016195177716889476, 0.016094615899260794, 0.015993931326981996, 0.015893045355970633, 0.01579188748729358, 0.01569039463655129, 0.015588510432393225, 0.01548618454521861, 0.015383372046664909, 0.015280032800119733, 0.015176130882208958, 0.015071634035013527, 0.014966513148642795, 0.014860741773739958, 0.014754295663508152, 0.014647152344911703, 0.014539290718824172, 0.014430690689044711, 0.014321332820283325, 0.01421119802540985, 0.0141002672824603, 0.013988521382089683, 0.013875940706339535, 0.013762505039744351, 0.013648193413923844, 0.013532983986893002, 0.0134168539583577, 0.01329977952225243, 0.013181735857709178, 0.013062697159522138, 0.01294263670899448, 0.012821526985815533, 0.012699339821327225, 0.012576046593198786, 0.012451618461141388, 0.012326026642871057, 0.012199242729068938, 0.012071239035607298, 0.011941988990809671, 0.01181146755501089, 0.011679651669177327, 0.011546520728860052, 0.011412057079281774, 0.01127624652692159, 0.011139078862562284, 0.01100054839041281, 0.010860654457622732, 0.010719401978270952, 0.010576801945742662, 0.010432871927313007, 0.010287636534734657, 0.01014112786468183, 0.009993385903036937, 0.00984445888721655, 0.00969440362101852, 0.009543285736831653, 0.009391179900474875, 0.009238169954424141, 0.009084348995732607, 0.008929819385546961, 0.008774692687765439, 0.0086190895350572, 0.008463139421166124, 0.008306980419140969, 0.008150758825862147, 0.007994628733962733, 0.007838751532959464, 0.007683295342110263, 0.007528434378188282, 0.007374348262004156, 0.007221221268107513, 0.007069241522652332, 0.006918600154910893, 0.006769490408364632, 0.006622106717682058, 0.006476643758211844, 0.00633329547486989, 0.006192254097483979, 0.006053709149773789, 0.005917846459192586, 0.005784847174838013, 0.005654886800554939, 0.005528134250208281, 0.0054047509318984905, 0.005284889867631189, 0.00516869485464159, 0.005056299674214499, 0.004947827353439569, 0.004843389484903444, 0.004743085608848589, 0.004647002661830957, 0.004555214495388536, 0.004467781467694649, 0.004384750110621685, 0.004306152874083209, 0.004232007948963638, 0.004162319169386702, 0.00409707599452194, 0.004036253569586302, 0.0039798128651687276, 0.003927700893492746, 0.0038798509997389654, 0.003836183226078051, 0.0037966047456180203, 0.0037610103630497356, 0.0037292830783824354, 0.0037012947098000017, 0.003676906571338218, 0.003655970200785917, 0.003638328132948987, 0.0036238147131866763, 0.0036122569459349587, 0.0036034753727726193, 0.0035972849744621265, 0.0035934960913095028, 0.003591915356135685, 0.0035923466341350884, 0.003594591963916438, 0.003598452494074524, 0.00360372940972966, 0.003610224843593607, 0.003617742766274913, 0.0036260898507229516, 0.0036350763059267753, 0.003644516675230612, 0.0036542305949018115, 0.0036640435088865684, 0.0036737873360130915, 0.0036833010862479657, 0.0036924314229781997, 0.003701033168675787, 0.0037089697517015507, 0.0037161135924178544, 0.0037223464272029237, 0.0037275595693899667, 0.003731654106589601, 0.003734541034290943, 0.0037361413260722054, 0.003736385941183068, 0.0037352157706850584, 0.003732581523749794, 0.0037284435561155274, 0.0037227716430866522, 0.0037155446998264462, 0.0037067504520370297, 0.003696385060440375, 0.0036844527027674, 0.003670965117226758, 0.0036559411116586487, 0.0036394060427803487, 0.003621391270097187, 0.003601933589184486, 0.0035810746491409594, 0.003558860359072048, 0.0035353402884811865, 0.003510567066428805, 0.0034845957842621657, 0.0034574834066244805, 0.003429288195319953, 0.003400069150442924, 0.0033698854729755446, 0.003338796052820935, 0.0033068589859689347, 0.0032741311241918855, 0.0032406676603403024, 0.0032065217519553903, 0.0031717441855403415, 0.003136383083437697, 0.0031004836548496743, 0.0030640879921151856, 0.003027234912925505, 0.0029899598487235484, 0.002952294779094029, 0.002914268211516656, 0.002875905205427195, 0.0028372274391146664, 0.0027982533175821872, 0.00275899811911775, 0.002719474177963236, 0.002679691100139606, 0.002639656009186341, 0.0025993738183079517, 0.00255884752519175, 0.0025180785255730824, 0.0024770669414774325, 0.002435811959966799, 0.002394312178160436, 0.0023525659502890337, 0.0023105717325768924, 0.002268328421828002, 0.00222583568371873, 0.002183094266970563, 0.002140106299788801, 0.0020968755652051147, 0.002053407752250421, 0.002009710680205409, 0.001965794493526578, 0.0019216718254199342, 0.0018773579284292444, 0.0018328707708148047], \"yaxis\": \"y\"}, {\"legendgroup\": \"Distribui\\u00e7\\u00e3o da label MEDV (Pre\\u00e7o correspondente para o im\\u00f3vel) Ap\\u00f3s a Limpeza nos dados\", \"marker\": {\"color\": \"rgb(31, 119, 180)\", \"symbol\": \"line-ns-open\"}, \"mode\": \"markers\", \"name\": \"Distribui\\u00e7\\u00e3o da label MEDV (Pre\\u00e7o correspondente para o im\\u00f3vel) Ap\\u00f3s a Limpeza nos dados\", \"showlegend\": false, \"type\": \"scatter\", \"x\": [24.0, 21.6, 34.7, 33.4, 36.2, 28.7, 22.9, 27.1, 16.5, 18.9, 15.0, 18.9, 21.7, 20.4, 18.2, 19.9, 23.1, 17.5, 20.2, 18.2, 13.6, 19.6, 15.2, 14.5, 15.6, 13.9, 16.6, 14.8, 18.4, 21.0, 12.7, 14.5, 13.2, 13.1, 13.5, 18.9, 20.0, 21.0, 24.7, 30.8, 34.9, 26.6, 25.3, 24.7, 21.2, 19.3, 20.0, 16.6, 14.4, 19.4, 19.7, 20.5, 25.0, 23.4, 18.9, 35.4, 24.7, 31.6, 23.3, 19.6, 18.7, 16.0, 22.2, 25.0, 33.0, 23.5, 19.4, 22.0, 17.4, 20.9, 24.2, 21.7, 22.8, 23.4, 24.1, 21.4, 20.0, 20.8, 21.2, 20.3, 28.0, 23.9, 24.8, 22.9, 23.9, 26.6, 22.5, 22.2, 23.6, 28.7, 22.6, 22.0, 22.9, 25.0, 20.6, 28.4, 21.4, 38.7, 43.8, 33.2, 27.5, 26.5, 18.6, 19.3, 20.1, 19.5, 19.5, 20.4, 19.8, 19.4, 21.7, 22.8, 18.8, 18.7, 18.5, 18.3, 21.2, 19.2, 20.4, 19.3, 22.0, 20.3, 20.5, 17.3, 18.8, 21.4, 15.7, 16.2, 18.0, 14.3, 19.2, 19.6, 23.0, 18.4, 15.6, 18.1, 17.4, 17.1, 13.3, 17.8, 14.0, 14.4, 13.4, 15.6, 11.8, 13.8, 15.6, 14.6, 17.8, 15.4, 21.5, 19.6, 15.3, 19.4, 17.0, 15.6, 13.1, 41.3, 24.3, 23.3, 27.0, 22.7, 25.0, 23.8, 23.8, 22.3, 17.4, 19.1, 23.1, 23.6, 22.6, 29.4, 23.2, 24.6, 29.9, 37.2, 39.8, 36.2, 37.9, 32.5, 26.4, 29.6, 32.0, 29.8, 34.9, 37.0, 30.5, 36.4, 31.1, 29.1, 33.3, 30.3, 34.6, 34.9, 32.9, 24.1, 42.3, 48.5, 22.6, 24.4, 22.5, 24.4, 20.0, 21.7, 19.3, 22.4, 28.1, 23.7, 25.0, 23.3, 28.7, 21.5, 23.0, 26.7, 21.7, 27.5, 30.1, 44.8, 37.6, 31.6, 46.7, 31.5, 24.3, 31.7, 41.7, 48.3, 29.0, 24.0, 25.1, 31.5, 23.7, 23.3, 22.0, 20.1, 22.2, 23.7, 17.6, 18.5, 24.3, 20.5, 24.5, 26.2, 24.4, 24.8, 29.6, 42.8, 21.9, 20.9, 44.0, 36.0, 30.1, 33.8, 43.1, 48.8, 31.0, 36.5, 22.8, 30.7, 43.5, 20.7, 21.1, 25.2, 24.4, 35.2, 32.4, 32.0, 33.2, 33.1, 29.1, 35.1, 45.4, 35.4, 46.0, 32.2, 22.0, 20.1, 23.2, 22.3, 24.8, 28.5, 37.3, 27.9, 23.9, 21.7, 28.6, 27.1, 20.3, 22.5, 29.0, 24.8, 22.0, 26.4, 33.1, 36.1, 28.4, 33.4, 28.2, 22.8, 20.3, 16.1, 22.1, 19.4, 21.6, 23.8, 16.2, 17.8, 19.8, 23.1, 21.0, 23.8, 23.1, 20.4, 18.5, 25.0, 24.6, 23.0, 22.2, 19.3, 22.6, 19.8, 17.1, 19.4, 22.2, 20.7, 21.1, 19.5, 18.5, 20.6, 19.0, 18.7, 32.7, 16.5, 23.9, 31.2, 17.5, 17.2, 23.1, 24.5, 26.6, 22.9, 24.1, 18.6, 30.1, 18.2, 20.6, 17.8, 21.7, 22.7, 22.6, 25.0, 19.9, 20.8, 16.8, 21.9, 27.5, 21.9, 23.1, 13.8, 13.8, 15.0, 13.9, 13.3, 13.1, 10.2, 10.4, 10.9, 11.3, 12.3, 8.8, 7.2, 10.5, 7.4, 10.2, 11.5, 15.1, 23.2, 9.7, 13.8, 12.7, 13.1, 12.5, 8.5, 5.0, 6.3, 5.6, 7.2, 12.1, 8.3, 8.5, 5.0, 11.9, 27.9, 17.2, 27.5, 15.0, 17.2, 17.9, 16.3, 7.0, 7.2, 7.5, 10.4, 8.8, 8.4, 16.7, 14.2, 20.8, 13.4, 11.7, 8.3, 10.2, 10.9, 11.0, 9.5, 14.5, 14.1, 16.1, 14.3, 11.7, 13.4, 9.6, 8.7, 8.4, 12.8, 10.5, 17.1, 18.4, 15.4, 10.8, 11.8, 14.9, 12.6, 14.1, 13.0, 13.4, 15.2, 16.1, 17.8, 14.9, 14.1, 12.7, 13.5, 14.9, 20.0, 16.4, 17.7, 19.5, 20.2, 21.4, 19.9, 19.0, 19.1, 19.1, 20.1, 19.9, 19.6, 23.2, 29.8, 13.8, 13.3, 16.7, 12.0, 14.6, 21.4, 23.0, 23.7, 25.0, 21.8, 20.6, 21.2, 19.1, 20.6, 15.2, 7.0, 8.1, 13.6, 20.1, 21.8, 24.5, 23.1, 19.7, 18.3, 21.2, 17.5, 16.8, 22.4, 20.6, 23.9, 22.0, 11.9], \"xaxis\": \"x\", \"y\": [\"Distribui\\u00e7\\u00e3o da label MEDV (Pre\\u00e7o correspondente para o im\\u00f3vel) Ap\\u00f3s a Limpeza nos dados\", \"Distribui\\u00e7\\u00e3o da label MEDV (Pre\\u00e7o correspondente para o im\\u00f3vel) Ap\\u00f3s a Limpeza nos dados\", \"Distribui\\u00e7\\u00e3o da label MEDV (Pre\\u00e7o correspondente para o im\\u00f3vel) Ap\\u00f3s a Limpeza nos dados\", \"Distribui\\u00e7\\u00e3o da label MEDV (Pre\\u00e7o correspondente para o im\\u00f3vel) Ap\\u00f3s a Limpeza nos dados\", \"Distribui\\u00e7\\u00e3o da label MEDV (Pre\\u00e7o correspondente para o im\\u00f3vel) Ap\\u00f3s a Limpeza nos dados\", \"Distribui\\u00e7\\u00e3o da label MEDV (Pre\\u00e7o correspondente para o im\\u00f3vel) Ap\\u00f3s a Limpeza nos dados\", \"Distribui\\u00e7\\u00e3o da label MEDV (Pre\\u00e7o correspondente para o im\\u00f3vel) Ap\\u00f3s a Limpeza nos dados\", \"Distribui\\u00e7\\u00e3o da label MEDV (Pre\\u00e7o correspondente para o im\\u00f3vel) Ap\\u00f3s a Limpeza nos dados\", \"Distribui\\u00e7\\u00e3o da label MEDV (Pre\\u00e7o correspondente para o im\\u00f3vel) Ap\\u00f3s a Limpeza nos dados\", \"Distribui\\u00e7\\u00e3o da label MEDV (Pre\\u00e7o correspondente para o im\\u00f3vel) Ap\\u00f3s a Limpeza nos dados\", \"Distribui\\u00e7\\u00e3o da label MEDV (Pre\\u00e7o correspondente para o im\\u00f3vel) Ap\\u00f3s a Limpeza nos dados\", \"Distribui\\u00e7\\u00e3o da label MEDV (Pre\\u00e7o correspondente para o im\\u00f3vel) Ap\\u00f3s a Limpeza nos dados\", \"Distribui\\u00e7\\u00e3o da label MEDV (Pre\\u00e7o correspondente para o im\\u00f3vel) Ap\\u00f3s a Limpeza nos dados\", \"Distribui\\u00e7\\u00e3o da label MEDV (Pre\\u00e7o correspondente para o im\\u00f3vel) Ap\\u00f3s a Limpeza nos dados\", \"Distribui\\u00e7\\u00e3o da label MEDV (Pre\\u00e7o correspondente para o im\\u00f3vel) Ap\\u00f3s a Limpeza nos dados\", \"Distribui\\u00e7\\u00e3o da label MEDV (Pre\\u00e7o correspondente para o im\\u00f3vel) Ap\\u00f3s a Limpeza nos dados\", \"Distribui\\u00e7\\u00e3o da label MEDV (Pre\\u00e7o correspondente para o im\\u00f3vel) Ap\\u00f3s a Limpeza nos dados\", \"Distribui\\u00e7\\u00e3o da label MEDV (Pre\\u00e7o correspondente para o im\\u00f3vel) Ap\\u00f3s a Limpeza nos dados\", \"Distribui\\u00e7\\u00e3o da label MEDV (Pre\\u00e7o correspondente para o im\\u00f3vel) Ap\\u00f3s a Limpeza nos dados\", \"Distribui\\u00e7\\u00e3o da label MEDV (Pre\\u00e7o correspondente para o im\\u00f3vel) Ap\\u00f3s a Limpeza nos dados\", \"Distribui\\u00e7\\u00e3o da label MEDV (Pre\\u00e7o correspondente para o im\\u00f3vel) Ap\\u00f3s a Limpeza nos dados\", \"Distribui\\u00e7\\u00e3o da label MEDV (Pre\\u00e7o correspondente para o im\\u00f3vel) Ap\\u00f3s a Limpeza nos dados\", \"Distribui\\u00e7\\u00e3o da label MEDV (Pre\\u00e7o correspondente para o im\\u00f3vel) Ap\\u00f3s a Limpeza nos dados\", \"Distribui\\u00e7\\u00e3o da label MEDV (Pre\\u00e7o correspondente para o im\\u00f3vel) Ap\\u00f3s a Limpeza nos dados\", \"Distribui\\u00e7\\u00e3o da label MEDV (Pre\\u00e7o correspondente para o im\\u00f3vel) Ap\\u00f3s a Limpeza nos dados\", \"Distribui\\u00e7\\u00e3o da label MEDV (Pre\\u00e7o correspondente para o im\\u00f3vel) Ap\\u00f3s a Limpeza nos dados\", \"Distribui\\u00e7\\u00e3o da label MEDV (Pre\\u00e7o correspondente para o im\\u00f3vel) Ap\\u00f3s a Limpeza nos dados\", \"Distribui\\u00e7\\u00e3o da label MEDV (Pre\\u00e7o correspondente para o im\\u00f3vel) Ap\\u00f3s a Limpeza nos dados\", \"Distribui\\u00e7\\u00e3o da label MEDV (Pre\\u00e7o correspondente para o im\\u00f3vel) Ap\\u00f3s a Limpeza nos dados\", \"Distribui\\u00e7\\u00e3o da label MEDV (Pre\\u00e7o correspondente para o im\\u00f3vel) Ap\\u00f3s a Limpeza nos dados\", \"Distribui\\u00e7\\u00e3o da label MEDV (Pre\\u00e7o correspondente para o im\\u00f3vel) Ap\\u00f3s a Limpeza nos dados\", \"Distribui\\u00e7\\u00e3o da label MEDV (Pre\\u00e7o correspondente para o im\\u00f3vel) Ap\\u00f3s a Limpeza nos dados\", \"Distribui\\u00e7\\u00e3o da label MEDV (Pre\\u00e7o correspondente para o im\\u00f3vel) Ap\\u00f3s a Limpeza nos dados\", \"Distribui\\u00e7\\u00e3o da label MEDV (Pre\\u00e7o correspondente para o im\\u00f3vel) Ap\\u00f3s a Limpeza nos dados\", \"Distribui\\u00e7\\u00e3o da label MEDV (Pre\\u00e7o correspondente para o im\\u00f3vel) Ap\\u00f3s a Limpeza nos dados\", \"Distribui\\u00e7\\u00e3o da label MEDV (Pre\\u00e7o correspondente para o im\\u00f3vel) Ap\\u00f3s a Limpeza nos dados\", \"Distribui\\u00e7\\u00e3o da label MEDV (Pre\\u00e7o correspondente para o im\\u00f3vel) Ap\\u00f3s a Limpeza nos dados\", \"Distribui\\u00e7\\u00e3o da label MEDV (Pre\\u00e7o correspondente para o im\\u00f3vel) Ap\\u00f3s a Limpeza nos dados\", \"Distribui\\u00e7\\u00e3o da label MEDV (Pre\\u00e7o correspondente para o im\\u00f3vel) Ap\\u00f3s a Limpeza nos dados\", \"Distribui\\u00e7\\u00e3o da label MEDV (Pre\\u00e7o correspondente para o im\\u00f3vel) Ap\\u00f3s a Limpeza nos dados\", \"Distribui\\u00e7\\u00e3o da label MEDV (Pre\\u00e7o correspondente para o im\\u00f3vel) Ap\\u00f3s a Limpeza nos dados\", \"Distribui\\u00e7\\u00e3o da label MEDV (Pre\\u00e7o correspondente para o im\\u00f3vel) Ap\\u00f3s a Limpeza nos dados\", \"Distribui\\u00e7\\u00e3o da label MEDV (Pre\\u00e7o correspondente para o im\\u00f3vel) Ap\\u00f3s a Limpeza nos dados\", \"Distribui\\u00e7\\u00e3o da label MEDV (Pre\\u00e7o correspondente para o im\\u00f3vel) Ap\\u00f3s a Limpeza nos dados\", \"Distribui\\u00e7\\u00e3o da label MEDV (Pre\\u00e7o correspondente para o im\\u00f3vel) Ap\\u00f3s a Limpeza nos dados\", \"Distribui\\u00e7\\u00e3o da label MEDV (Pre\\u00e7o correspondente para o im\\u00f3vel) Ap\\u00f3s a Limpeza nos dados\", \"Distribui\\u00e7\\u00e3o da label MEDV (Pre\\u00e7o correspondente para o im\\u00f3vel) Ap\\u00f3s a Limpeza nos dados\", \"Distribui\\u00e7\\u00e3o da label MEDV (Pre\\u00e7o correspondente para o im\\u00f3vel) Ap\\u00f3s a Limpeza nos dados\", \"Distribui\\u00e7\\u00e3o da label MEDV (Pre\\u00e7o correspondente para o im\\u00f3vel) Ap\\u00f3s a Limpeza nos dados\", \"Distribui\\u00e7\\u00e3o da label MEDV (Pre\\u00e7o correspondente para o im\\u00f3vel) Ap\\u00f3s a Limpeza nos dados\", \"Distribui\\u00e7\\u00e3o da label MEDV (Pre\\u00e7o correspondente para o im\\u00f3vel) Ap\\u00f3s a Limpeza nos dados\", \"Distribui\\u00e7\\u00e3o da label MEDV (Pre\\u00e7o correspondente para o im\\u00f3vel) Ap\\u00f3s a Limpeza nos dados\", \"Distribui\\u00e7\\u00e3o da label MEDV (Pre\\u00e7o correspondente para o im\\u00f3vel) Ap\\u00f3s a Limpeza nos dados\", \"Distribui\\u00e7\\u00e3o da label MEDV (Pre\\u00e7o correspondente para o im\\u00f3vel) Ap\\u00f3s a Limpeza nos dados\", \"Distribui\\u00e7\\u00e3o da label MEDV (Pre\\u00e7o correspondente para o im\\u00f3vel) Ap\\u00f3s a Limpeza nos dados\", \"Distribui\\u00e7\\u00e3o da label MEDV (Pre\\u00e7o correspondente para o im\\u00f3vel) Ap\\u00f3s a Limpeza nos dados\", \"Distribui\\u00e7\\u00e3o da label MEDV (Pre\\u00e7o correspondente para o im\\u00f3vel) Ap\\u00f3s a Limpeza nos dados\", \"Distribui\\u00e7\\u00e3o da label MEDV (Pre\\u00e7o correspondente para o im\\u00f3vel) Ap\\u00f3s a Limpeza nos dados\", \"Distribui\\u00e7\\u00e3o da label MEDV (Pre\\u00e7o correspondente para o im\\u00f3vel) Ap\\u00f3s a Limpeza nos dados\", \"Distribui\\u00e7\\u00e3o da label MEDV (Pre\\u00e7o correspondente para o im\\u00f3vel) Ap\\u00f3s a Limpeza nos dados\", \"Distribui\\u00e7\\u00e3o da label MEDV (Pre\\u00e7o correspondente para o im\\u00f3vel) Ap\\u00f3s a Limpeza nos dados\", \"Distribui\\u00e7\\u00e3o da label MEDV (Pre\\u00e7o correspondente para o im\\u00f3vel) Ap\\u00f3s a Limpeza nos dados\", \"Distribui\\u00e7\\u00e3o da label MEDV (Pre\\u00e7o correspondente para o im\\u00f3vel) Ap\\u00f3s a Limpeza nos dados\", \"Distribui\\u00e7\\u00e3o da label MEDV (Pre\\u00e7o correspondente para o im\\u00f3vel) Ap\\u00f3s a Limpeza nos dados\", \"Distribui\\u00e7\\u00e3o da label MEDV (Pre\\u00e7o correspondente para o im\\u00f3vel) Ap\\u00f3s a Limpeza nos dados\", \"Distribui\\u00e7\\u00e3o da label MEDV (Pre\\u00e7o correspondente para o im\\u00f3vel) Ap\\u00f3s a Limpeza nos dados\", \"Distribui\\u00e7\\u00e3o da label MEDV (Pre\\u00e7o correspondente para o im\\u00f3vel) Ap\\u00f3s a Limpeza nos dados\", \"Distribui\\u00e7\\u00e3o da label MEDV (Pre\\u00e7o correspondente para o im\\u00f3vel) Ap\\u00f3s a Limpeza nos dados\", \"Distribui\\u00e7\\u00e3o da label MEDV (Pre\\u00e7o correspondente para o im\\u00f3vel) Ap\\u00f3s a Limpeza nos dados\", \"Distribui\\u00e7\\u00e3o da label MEDV (Pre\\u00e7o correspondente para o im\\u00f3vel) Ap\\u00f3s a Limpeza nos dados\", \"Distribui\\u00e7\\u00e3o da label MEDV (Pre\\u00e7o correspondente para o im\\u00f3vel) Ap\\u00f3s a Limpeza nos dados\", \"Distribui\\u00e7\\u00e3o da label MEDV (Pre\\u00e7o correspondente para o im\\u00f3vel) Ap\\u00f3s a Limpeza nos dados\", \"Distribui\\u00e7\\u00e3o da label MEDV (Pre\\u00e7o correspondente para o im\\u00f3vel) Ap\\u00f3s a Limpeza nos dados\", \"Distribui\\u00e7\\u00e3o da label MEDV (Pre\\u00e7o correspondente para o im\\u00f3vel) Ap\\u00f3s a Limpeza nos dados\", \"Distribui\\u00e7\\u00e3o da label MEDV (Pre\\u00e7o correspondente para o im\\u00f3vel) Ap\\u00f3s a Limpeza nos dados\", \"Distribui\\u00e7\\u00e3o da label MEDV (Pre\\u00e7o correspondente para o im\\u00f3vel) Ap\\u00f3s a Limpeza nos dados\", \"Distribui\\u00e7\\u00e3o da label MEDV (Pre\\u00e7o correspondente para o im\\u00f3vel) Ap\\u00f3s a Limpeza nos dados\", \"Distribui\\u00e7\\u00e3o da label MEDV (Pre\\u00e7o correspondente para o im\\u00f3vel) Ap\\u00f3s a Limpeza nos dados\", \"Distribui\\u00e7\\u00e3o da label MEDV (Pre\\u00e7o correspondente para o im\\u00f3vel) Ap\\u00f3s a Limpeza nos dados\", \"Distribui\\u00e7\\u00e3o da label MEDV (Pre\\u00e7o correspondente para o im\\u00f3vel) Ap\\u00f3s a Limpeza nos dados\", \"Distribui\\u00e7\\u00e3o da label MEDV (Pre\\u00e7o correspondente para o im\\u00f3vel) Ap\\u00f3s a Limpeza nos dados\", \"Distribui\\u00e7\\u00e3o da label MEDV (Pre\\u00e7o correspondente para o im\\u00f3vel) Ap\\u00f3s a Limpeza nos dados\", \"Distribui\\u00e7\\u00e3o da label MEDV (Pre\\u00e7o correspondente para o im\\u00f3vel) Ap\\u00f3s a Limpeza nos dados\", \"Distribui\\u00e7\\u00e3o da label MEDV (Pre\\u00e7o correspondente para o im\\u00f3vel) Ap\\u00f3s a Limpeza nos dados\", \"Distribui\\u00e7\\u00e3o da label MEDV (Pre\\u00e7o correspondente para o im\\u00f3vel) Ap\\u00f3s a Limpeza nos dados\", \"Distribui\\u00e7\\u00e3o da label MEDV (Pre\\u00e7o correspondente para o im\\u00f3vel) Ap\\u00f3s a Limpeza nos dados\", \"Distribui\\u00e7\\u00e3o da label MEDV (Pre\\u00e7o correspondente para o im\\u00f3vel) Ap\\u00f3s a Limpeza nos dados\", \"Distribui\\u00e7\\u00e3o da label MEDV (Pre\\u00e7o correspondente para o im\\u00f3vel) Ap\\u00f3s a Limpeza nos dados\", \"Distribui\\u00e7\\u00e3o da label MEDV (Pre\\u00e7o correspondente para o im\\u00f3vel) Ap\\u00f3s a Limpeza nos dados\", \"Distribui\\u00e7\\u00e3o da label MEDV (Pre\\u00e7o correspondente para o im\\u00f3vel) Ap\\u00f3s a Limpeza nos dados\", \"Distribui\\u00e7\\u00e3o da label MEDV (Pre\\u00e7o correspondente para o im\\u00f3vel) Ap\\u00f3s a Limpeza nos dados\", \"Distribui\\u00e7\\u00e3o da label MEDV (Pre\\u00e7o correspondente para o im\\u00f3vel) Ap\\u00f3s a Limpeza nos dados\", \"Distribui\\u00e7\\u00e3o da label MEDV (Pre\\u00e7o correspondente para o im\\u00f3vel) Ap\\u00f3s a Limpeza nos dados\", \"Distribui\\u00e7\\u00e3o da label MEDV (Pre\\u00e7o correspondente para o im\\u00f3vel) Ap\\u00f3s a Limpeza nos dados\", \"Distribui\\u00e7\\u00e3o da label MEDV (Pre\\u00e7o correspondente para o im\\u00f3vel) Ap\\u00f3s a Limpeza nos dados\", \"Distribui\\u00e7\\u00e3o da label MEDV (Pre\\u00e7o correspondente para o im\\u00f3vel) Ap\\u00f3s a Limpeza nos dados\", \"Distribui\\u00e7\\u00e3o da label MEDV (Pre\\u00e7o correspondente para o im\\u00f3vel) Ap\\u00f3s a Limpeza nos dados\", \"Distribui\\u00e7\\u00e3o da label MEDV (Pre\\u00e7o correspondente para o im\\u00f3vel) Ap\\u00f3s a Limpeza nos dados\", \"Distribui\\u00e7\\u00e3o da label MEDV (Pre\\u00e7o correspondente para o im\\u00f3vel) Ap\\u00f3s a Limpeza nos dados\", \"Distribui\\u00e7\\u00e3o da label MEDV (Pre\\u00e7o correspondente para o im\\u00f3vel) Ap\\u00f3s a Limpeza nos dados\", \"Distribui\\u00e7\\u00e3o da label MEDV (Pre\\u00e7o correspondente para o im\\u00f3vel) Ap\\u00f3s a Limpeza nos dados\", \"Distribui\\u00e7\\u00e3o da label MEDV (Pre\\u00e7o correspondente para o im\\u00f3vel) Ap\\u00f3s a Limpeza nos dados\", \"Distribui\\u00e7\\u00e3o da label MEDV (Pre\\u00e7o correspondente para o im\\u00f3vel) Ap\\u00f3s a Limpeza nos dados\", \"Distribui\\u00e7\\u00e3o da label MEDV (Pre\\u00e7o correspondente para o im\\u00f3vel) Ap\\u00f3s a Limpeza nos dados\", \"Distribui\\u00e7\\u00e3o da label MEDV (Pre\\u00e7o correspondente para o im\\u00f3vel) Ap\\u00f3s a Limpeza nos dados\", \"Distribui\\u00e7\\u00e3o da label MEDV (Pre\\u00e7o correspondente para o im\\u00f3vel) Ap\\u00f3s a Limpeza nos dados\", \"Distribui\\u00e7\\u00e3o da label MEDV (Pre\\u00e7o correspondente para o im\\u00f3vel) Ap\\u00f3s a Limpeza nos dados\", \"Distribui\\u00e7\\u00e3o da label MEDV (Pre\\u00e7o correspondente para o im\\u00f3vel) Ap\\u00f3s a Limpeza nos dados\", \"Distribui\\u00e7\\u00e3o da label MEDV (Pre\\u00e7o correspondente para o im\\u00f3vel) Ap\\u00f3s a Limpeza nos dados\", \"Distribui\\u00e7\\u00e3o da label MEDV (Pre\\u00e7o correspondente para o im\\u00f3vel) Ap\\u00f3s a Limpeza nos dados\", \"Distribui\\u00e7\\u00e3o da label MEDV (Pre\\u00e7o correspondente para o im\\u00f3vel) Ap\\u00f3s a Limpeza nos dados\", \"Distribui\\u00e7\\u00e3o da label MEDV (Pre\\u00e7o correspondente para o im\\u00f3vel) Ap\\u00f3s a Limpeza nos dados\", \"Distribui\\u00e7\\u00e3o da label MEDV (Pre\\u00e7o correspondente para o im\\u00f3vel) Ap\\u00f3s a Limpeza nos dados\", \"Distribui\\u00e7\\u00e3o da label MEDV (Pre\\u00e7o correspondente para o im\\u00f3vel) Ap\\u00f3s a Limpeza nos dados\", \"Distribui\\u00e7\\u00e3o da label MEDV (Pre\\u00e7o correspondente para o im\\u00f3vel) Ap\\u00f3s a Limpeza nos dados\", \"Distribui\\u00e7\\u00e3o da label MEDV (Pre\\u00e7o correspondente para o im\\u00f3vel) Ap\\u00f3s a Limpeza nos dados\", \"Distribui\\u00e7\\u00e3o da label MEDV (Pre\\u00e7o correspondente para o im\\u00f3vel) Ap\\u00f3s a Limpeza nos dados\", \"Distribui\\u00e7\\u00e3o da label MEDV (Pre\\u00e7o correspondente para o im\\u00f3vel) Ap\\u00f3s a Limpeza nos dados\", \"Distribui\\u00e7\\u00e3o da label MEDV (Pre\\u00e7o correspondente para o im\\u00f3vel) Ap\\u00f3s a Limpeza nos dados\", \"Distribui\\u00e7\\u00e3o da label MEDV (Pre\\u00e7o correspondente para o im\\u00f3vel) Ap\\u00f3s a Limpeza nos dados\", \"Distribui\\u00e7\\u00e3o da label MEDV (Pre\\u00e7o correspondente para o im\\u00f3vel) Ap\\u00f3s a Limpeza nos dados\", \"Distribui\\u00e7\\u00e3o da label MEDV (Pre\\u00e7o correspondente para o im\\u00f3vel) Ap\\u00f3s a Limpeza nos dados\", \"Distribui\\u00e7\\u00e3o da label MEDV (Pre\\u00e7o correspondente para o im\\u00f3vel) Ap\\u00f3s a Limpeza nos dados\", \"Distribui\\u00e7\\u00e3o da label MEDV (Pre\\u00e7o correspondente para o im\\u00f3vel) Ap\\u00f3s a Limpeza nos dados\", \"Distribui\\u00e7\\u00e3o da label MEDV (Pre\\u00e7o correspondente para o im\\u00f3vel) Ap\\u00f3s a Limpeza nos dados\", \"Distribui\\u00e7\\u00e3o da label MEDV (Pre\\u00e7o correspondente para o im\\u00f3vel) Ap\\u00f3s a Limpeza nos dados\", \"Distribui\\u00e7\\u00e3o da label MEDV (Pre\\u00e7o correspondente para o im\\u00f3vel) Ap\\u00f3s a Limpeza nos dados\", \"Distribui\\u00e7\\u00e3o da label MEDV (Pre\\u00e7o correspondente para o im\\u00f3vel) Ap\\u00f3s a Limpeza nos dados\", \"Distribui\\u00e7\\u00e3o da label MEDV (Pre\\u00e7o correspondente para o im\\u00f3vel) Ap\\u00f3s a Limpeza nos dados\", \"Distribui\\u00e7\\u00e3o da label MEDV (Pre\\u00e7o correspondente para o im\\u00f3vel) Ap\\u00f3s a Limpeza nos dados\", \"Distribui\\u00e7\\u00e3o da label MEDV (Pre\\u00e7o correspondente para o im\\u00f3vel) Ap\\u00f3s a Limpeza nos dados\", \"Distribui\\u00e7\\u00e3o da label MEDV (Pre\\u00e7o correspondente para o im\\u00f3vel) Ap\\u00f3s a Limpeza nos dados\", \"Distribui\\u00e7\\u00e3o da label MEDV (Pre\\u00e7o correspondente para o im\\u00f3vel) Ap\\u00f3s a Limpeza nos dados\", \"Distribui\\u00e7\\u00e3o da label MEDV (Pre\\u00e7o correspondente para o im\\u00f3vel) Ap\\u00f3s a Limpeza nos dados\", \"Distribui\\u00e7\\u00e3o da label MEDV (Pre\\u00e7o correspondente para o im\\u00f3vel) Ap\\u00f3s a Limpeza nos dados\", \"Distribui\\u00e7\\u00e3o da label MEDV (Pre\\u00e7o correspondente para o im\\u00f3vel) Ap\\u00f3s a Limpeza nos dados\", \"Distribui\\u00e7\\u00e3o da label MEDV (Pre\\u00e7o correspondente para o im\\u00f3vel) Ap\\u00f3s a Limpeza nos dados\", \"Distribui\\u00e7\\u00e3o da label MEDV (Pre\\u00e7o correspondente para o im\\u00f3vel) Ap\\u00f3s a Limpeza nos dados\", \"Distribui\\u00e7\\u00e3o da label MEDV (Pre\\u00e7o correspondente para o im\\u00f3vel) Ap\\u00f3s a Limpeza nos dados\", \"Distribui\\u00e7\\u00e3o da label MEDV (Pre\\u00e7o correspondente para o im\\u00f3vel) Ap\\u00f3s a Limpeza nos dados\", \"Distribui\\u00e7\\u00e3o da label MEDV (Pre\\u00e7o correspondente para o im\\u00f3vel) Ap\\u00f3s a Limpeza nos dados\", \"Distribui\\u00e7\\u00e3o da label MEDV (Pre\\u00e7o correspondente para o im\\u00f3vel) Ap\\u00f3s a Limpeza nos dados\", \"Distribui\\u00e7\\u00e3o da label MEDV (Pre\\u00e7o correspondente para o im\\u00f3vel) Ap\\u00f3s a Limpeza nos dados\", \"Distribui\\u00e7\\u00e3o da label MEDV (Pre\\u00e7o correspondente para o im\\u00f3vel) Ap\\u00f3s a Limpeza nos dados\", \"Distribui\\u00e7\\u00e3o da label MEDV (Pre\\u00e7o correspondente para o im\\u00f3vel) Ap\\u00f3s a Limpeza nos dados\", \"Distribui\\u00e7\\u00e3o da label MEDV (Pre\\u00e7o correspondente para o im\\u00f3vel) Ap\\u00f3s a Limpeza nos dados\", \"Distribui\\u00e7\\u00e3o da label MEDV (Pre\\u00e7o correspondente para o im\\u00f3vel) Ap\\u00f3s a Limpeza nos dados\", \"Distribui\\u00e7\\u00e3o da label MEDV (Pre\\u00e7o correspondente para o im\\u00f3vel) Ap\\u00f3s a Limpeza nos dados\", \"Distribui\\u00e7\\u00e3o da label MEDV (Pre\\u00e7o correspondente para o im\\u00f3vel) Ap\\u00f3s a Limpeza nos dados\", \"Distribui\\u00e7\\u00e3o da label MEDV (Pre\\u00e7o correspondente para o im\\u00f3vel) Ap\\u00f3s a Limpeza nos dados\", \"Distribui\\u00e7\\u00e3o da label MEDV (Pre\\u00e7o correspondente para o im\\u00f3vel) Ap\\u00f3s a Limpeza nos dados\", \"Distribui\\u00e7\\u00e3o da label MEDV (Pre\\u00e7o correspondente para o im\\u00f3vel) Ap\\u00f3s a Limpeza nos dados\", \"Distribui\\u00e7\\u00e3o da label MEDV (Pre\\u00e7o correspondente para o im\\u00f3vel) Ap\\u00f3s a Limpeza nos dados\", \"Distribui\\u00e7\\u00e3o da label MEDV (Pre\\u00e7o correspondente para o im\\u00f3vel) Ap\\u00f3s a Limpeza nos dados\", \"Distribui\\u00e7\\u00e3o da label MEDV (Pre\\u00e7o correspondente para o im\\u00f3vel) Ap\\u00f3s a Limpeza nos dados\", \"Distribui\\u00e7\\u00e3o da label MEDV (Pre\\u00e7o correspondente para o im\\u00f3vel) Ap\\u00f3s a Limpeza nos dados\", \"Distribui\\u00e7\\u00e3o da label MEDV (Pre\\u00e7o correspondente para o im\\u00f3vel) Ap\\u00f3s a Limpeza nos dados\", \"Distribui\\u00e7\\u00e3o da label MEDV (Pre\\u00e7o correspondente para o im\\u00f3vel) Ap\\u00f3s a Limpeza nos dados\", \"Distribui\\u00e7\\u00e3o da label MEDV (Pre\\u00e7o correspondente para o im\\u00f3vel) Ap\\u00f3s a Limpeza nos dados\", \"Distribui\\u00e7\\u00e3o da label MEDV (Pre\\u00e7o correspondente para o im\\u00f3vel) Ap\\u00f3s a Limpeza nos dados\", \"Distribui\\u00e7\\u00e3o da label MEDV (Pre\\u00e7o correspondente para o im\\u00f3vel) Ap\\u00f3s a Limpeza nos dados\", \"Distribui\\u00e7\\u00e3o da label MEDV (Pre\\u00e7o correspondente para o im\\u00f3vel) Ap\\u00f3s a Limpeza nos dados\", \"Distribui\\u00e7\\u00e3o da label MEDV (Pre\\u00e7o correspondente para o im\\u00f3vel) Ap\\u00f3s a Limpeza nos dados\", \"Distribui\\u00e7\\u00e3o da label MEDV (Pre\\u00e7o correspondente para o im\\u00f3vel) Ap\\u00f3s a Limpeza nos dados\", \"Distribui\\u00e7\\u00e3o da label MEDV (Pre\\u00e7o correspondente para o im\\u00f3vel) Ap\\u00f3s a Limpeza nos dados\", \"Distribui\\u00e7\\u00e3o da label MEDV (Pre\\u00e7o correspondente para o im\\u00f3vel) Ap\\u00f3s a Limpeza nos dados\", \"Distribui\\u00e7\\u00e3o da label MEDV (Pre\\u00e7o correspondente para o im\\u00f3vel) Ap\\u00f3s a Limpeza nos dados\", \"Distribui\\u00e7\\u00e3o da label MEDV (Pre\\u00e7o correspondente para o im\\u00f3vel) Ap\\u00f3s a Limpeza nos dados\", \"Distribui\\u00e7\\u00e3o da label MEDV (Pre\\u00e7o correspondente para o im\\u00f3vel) Ap\\u00f3s a Limpeza nos dados\", \"Distribui\\u00e7\\u00e3o da label MEDV (Pre\\u00e7o correspondente para o im\\u00f3vel) Ap\\u00f3s a Limpeza nos dados\", \"Distribui\\u00e7\\u00e3o da label MEDV (Pre\\u00e7o correspondente para o im\\u00f3vel) Ap\\u00f3s a Limpeza nos dados\", \"Distribui\\u00e7\\u00e3o da label MEDV (Pre\\u00e7o correspondente para o im\\u00f3vel) Ap\\u00f3s a Limpeza nos dados\", \"Distribui\\u00e7\\u00e3o da label MEDV (Pre\\u00e7o correspondente para o im\\u00f3vel) Ap\\u00f3s a Limpeza nos dados\", \"Distribui\\u00e7\\u00e3o da label MEDV (Pre\\u00e7o correspondente para o im\\u00f3vel) Ap\\u00f3s a Limpeza nos dados\", \"Distribui\\u00e7\\u00e3o da label MEDV (Pre\\u00e7o correspondente para o im\\u00f3vel) Ap\\u00f3s a Limpeza nos dados\", \"Distribui\\u00e7\\u00e3o da label MEDV (Pre\\u00e7o correspondente para o im\\u00f3vel) Ap\\u00f3s a Limpeza nos dados\", \"Distribui\\u00e7\\u00e3o da label MEDV (Pre\\u00e7o correspondente para o im\\u00f3vel) Ap\\u00f3s a Limpeza nos dados\", \"Distribui\\u00e7\\u00e3o da label MEDV (Pre\\u00e7o correspondente para o im\\u00f3vel) Ap\\u00f3s a Limpeza nos dados\", \"Distribui\\u00e7\\u00e3o da label MEDV (Pre\\u00e7o correspondente para o im\\u00f3vel) Ap\\u00f3s a Limpeza nos dados\", \"Distribui\\u00e7\\u00e3o da label MEDV (Pre\\u00e7o correspondente para o im\\u00f3vel) Ap\\u00f3s a Limpeza nos dados\", \"Distribui\\u00e7\\u00e3o da label MEDV (Pre\\u00e7o correspondente para o im\\u00f3vel) Ap\\u00f3s a Limpeza nos dados\", \"Distribui\\u00e7\\u00e3o da label MEDV (Pre\\u00e7o correspondente para o im\\u00f3vel) Ap\\u00f3s a Limpeza nos dados\", \"Distribui\\u00e7\\u00e3o da label MEDV (Pre\\u00e7o correspondente para o im\\u00f3vel) Ap\\u00f3s a Limpeza nos dados\", \"Distribui\\u00e7\\u00e3o da label MEDV (Pre\\u00e7o correspondente para o im\\u00f3vel) Ap\\u00f3s a Limpeza nos dados\", \"Distribui\\u00e7\\u00e3o da label MEDV (Pre\\u00e7o correspondente para o im\\u00f3vel) Ap\\u00f3s a Limpeza nos dados\", \"Distribui\\u00e7\\u00e3o da label MEDV (Pre\\u00e7o correspondente para o im\\u00f3vel) Ap\\u00f3s a Limpeza nos dados\", \"Distribui\\u00e7\\u00e3o da label MEDV (Pre\\u00e7o correspondente para o im\\u00f3vel) Ap\\u00f3s a Limpeza nos dados\", \"Distribui\\u00e7\\u00e3o da label MEDV (Pre\\u00e7o correspondente para o im\\u00f3vel) Ap\\u00f3s a Limpeza nos dados\", \"Distribui\\u00e7\\u00e3o da label MEDV (Pre\\u00e7o correspondente para o im\\u00f3vel) Ap\\u00f3s a Limpeza nos dados\", \"Distribui\\u00e7\\u00e3o da label MEDV (Pre\\u00e7o correspondente para o im\\u00f3vel) Ap\\u00f3s a Limpeza nos dados\", \"Distribui\\u00e7\\u00e3o da label MEDV (Pre\\u00e7o correspondente para o im\\u00f3vel) Ap\\u00f3s a Limpeza nos dados\", \"Distribui\\u00e7\\u00e3o da label MEDV (Pre\\u00e7o correspondente para o im\\u00f3vel) Ap\\u00f3s a Limpeza nos dados\", \"Distribui\\u00e7\\u00e3o da label MEDV (Pre\\u00e7o correspondente para o im\\u00f3vel) Ap\\u00f3s a Limpeza nos dados\", \"Distribui\\u00e7\\u00e3o da label MEDV (Pre\\u00e7o correspondente para o im\\u00f3vel) Ap\\u00f3s a Limpeza nos dados\", \"Distribui\\u00e7\\u00e3o da label MEDV (Pre\\u00e7o correspondente para o im\\u00f3vel) Ap\\u00f3s a Limpeza nos dados\", \"Distribui\\u00e7\\u00e3o da label MEDV (Pre\\u00e7o correspondente para o im\\u00f3vel) Ap\\u00f3s a Limpeza nos dados\", \"Distribui\\u00e7\\u00e3o da label MEDV (Pre\\u00e7o correspondente para o im\\u00f3vel) Ap\\u00f3s a Limpeza nos dados\", \"Distribui\\u00e7\\u00e3o da label MEDV (Pre\\u00e7o correspondente para o im\\u00f3vel) Ap\\u00f3s a Limpeza nos dados\", \"Distribui\\u00e7\\u00e3o da label MEDV (Pre\\u00e7o correspondente para o im\\u00f3vel) Ap\\u00f3s a Limpeza nos dados\", \"Distribui\\u00e7\\u00e3o da label MEDV (Pre\\u00e7o correspondente para o im\\u00f3vel) Ap\\u00f3s a Limpeza nos dados\", \"Distribui\\u00e7\\u00e3o da label MEDV (Pre\\u00e7o correspondente para o im\\u00f3vel) Ap\\u00f3s a Limpeza nos dados\", \"Distribui\\u00e7\\u00e3o da label MEDV (Pre\\u00e7o correspondente para o im\\u00f3vel) Ap\\u00f3s a Limpeza nos dados\", \"Distribui\\u00e7\\u00e3o da label MEDV (Pre\\u00e7o correspondente para o im\\u00f3vel) Ap\\u00f3s a Limpeza nos dados\", \"Distribui\\u00e7\\u00e3o da label MEDV (Pre\\u00e7o correspondente para o im\\u00f3vel) Ap\\u00f3s a Limpeza nos dados\", \"Distribui\\u00e7\\u00e3o da label MEDV (Pre\\u00e7o correspondente para o im\\u00f3vel) Ap\\u00f3s a Limpeza nos dados\", \"Distribui\\u00e7\\u00e3o da label MEDV (Pre\\u00e7o correspondente para o im\\u00f3vel) Ap\\u00f3s a Limpeza nos dados\", \"Distribui\\u00e7\\u00e3o da label MEDV (Pre\\u00e7o correspondente para o im\\u00f3vel) Ap\\u00f3s a Limpeza nos dados\", \"Distribui\\u00e7\\u00e3o da label MEDV (Pre\\u00e7o correspondente para o im\\u00f3vel) Ap\\u00f3s a Limpeza nos dados\", \"Distribui\\u00e7\\u00e3o da label MEDV (Pre\\u00e7o correspondente para o im\\u00f3vel) Ap\\u00f3s a Limpeza nos dados\", \"Distribui\\u00e7\\u00e3o da label MEDV (Pre\\u00e7o correspondente para o im\\u00f3vel) Ap\\u00f3s a Limpeza nos dados\", \"Distribui\\u00e7\\u00e3o da label MEDV (Pre\\u00e7o correspondente para o im\\u00f3vel) Ap\\u00f3s a Limpeza nos dados\", \"Distribui\\u00e7\\u00e3o da label MEDV (Pre\\u00e7o correspondente para o im\\u00f3vel) Ap\\u00f3s a Limpeza nos dados\", \"Distribui\\u00e7\\u00e3o da label MEDV (Pre\\u00e7o correspondente para o im\\u00f3vel) Ap\\u00f3s a Limpeza nos dados\", \"Distribui\\u00e7\\u00e3o da label MEDV (Pre\\u00e7o correspondente para o im\\u00f3vel) Ap\\u00f3s a Limpeza nos dados\", \"Distribui\\u00e7\\u00e3o da label MEDV (Pre\\u00e7o correspondente para o im\\u00f3vel) Ap\\u00f3s a Limpeza nos dados\", \"Distribui\\u00e7\\u00e3o da label MEDV (Pre\\u00e7o correspondente para o im\\u00f3vel) Ap\\u00f3s a Limpeza nos dados\", \"Distribui\\u00e7\\u00e3o da label MEDV (Pre\\u00e7o correspondente para o im\\u00f3vel) Ap\\u00f3s a Limpeza nos dados\", \"Distribui\\u00e7\\u00e3o da label MEDV (Pre\\u00e7o correspondente para o im\\u00f3vel) Ap\\u00f3s a Limpeza nos dados\", \"Distribui\\u00e7\\u00e3o da label MEDV (Pre\\u00e7o correspondente para o im\\u00f3vel) Ap\\u00f3s a Limpeza nos dados\", \"Distribui\\u00e7\\u00e3o da label MEDV (Pre\\u00e7o correspondente para o im\\u00f3vel) Ap\\u00f3s a Limpeza nos dados\", \"Distribui\\u00e7\\u00e3o da label MEDV (Pre\\u00e7o correspondente para o im\\u00f3vel) Ap\\u00f3s a Limpeza nos dados\", \"Distribui\\u00e7\\u00e3o da label MEDV (Pre\\u00e7o correspondente para o im\\u00f3vel) Ap\\u00f3s a Limpeza nos dados\", \"Distribui\\u00e7\\u00e3o da label MEDV (Pre\\u00e7o correspondente para o im\\u00f3vel) Ap\\u00f3s a Limpeza nos dados\", \"Distribui\\u00e7\\u00e3o da label MEDV (Pre\\u00e7o correspondente para o im\\u00f3vel) Ap\\u00f3s a Limpeza nos dados\", \"Distribui\\u00e7\\u00e3o da label MEDV (Pre\\u00e7o correspondente para o im\\u00f3vel) Ap\\u00f3s a Limpeza nos dados\", \"Distribui\\u00e7\\u00e3o da label MEDV (Pre\\u00e7o correspondente para o im\\u00f3vel) Ap\\u00f3s a Limpeza nos dados\", \"Distribui\\u00e7\\u00e3o da label MEDV (Pre\\u00e7o correspondente para o im\\u00f3vel) Ap\\u00f3s a Limpeza nos dados\", \"Distribui\\u00e7\\u00e3o da label MEDV (Pre\\u00e7o correspondente para o im\\u00f3vel) Ap\\u00f3s a Limpeza nos dados\", \"Distribui\\u00e7\\u00e3o da label MEDV (Pre\\u00e7o correspondente para o im\\u00f3vel) Ap\\u00f3s a Limpeza nos dados\", \"Distribui\\u00e7\\u00e3o da label MEDV (Pre\\u00e7o correspondente para o im\\u00f3vel) Ap\\u00f3s a Limpeza nos dados\", \"Distribui\\u00e7\\u00e3o da label MEDV (Pre\\u00e7o correspondente para o im\\u00f3vel) Ap\\u00f3s a Limpeza nos dados\", \"Distribui\\u00e7\\u00e3o da label MEDV (Pre\\u00e7o correspondente para o im\\u00f3vel) Ap\\u00f3s a Limpeza nos dados\", \"Distribui\\u00e7\\u00e3o da label MEDV (Pre\\u00e7o correspondente para o im\\u00f3vel) Ap\\u00f3s a Limpeza nos dados\", \"Distribui\\u00e7\\u00e3o da label MEDV (Pre\\u00e7o correspondente para o im\\u00f3vel) Ap\\u00f3s a Limpeza nos dados\", \"Distribui\\u00e7\\u00e3o da label MEDV (Pre\\u00e7o correspondente para o im\\u00f3vel) Ap\\u00f3s a Limpeza nos dados\", \"Distribui\\u00e7\\u00e3o da label MEDV (Pre\\u00e7o correspondente para o im\\u00f3vel) Ap\\u00f3s a Limpeza nos dados\", \"Distribui\\u00e7\\u00e3o da label MEDV (Pre\\u00e7o correspondente para o im\\u00f3vel) Ap\\u00f3s a Limpeza nos dados\", \"Distribui\\u00e7\\u00e3o da label MEDV (Pre\\u00e7o correspondente para o im\\u00f3vel) Ap\\u00f3s a Limpeza nos dados\", \"Distribui\\u00e7\\u00e3o da label MEDV (Pre\\u00e7o correspondente para o im\\u00f3vel) Ap\\u00f3s a Limpeza nos dados\", \"Distribui\\u00e7\\u00e3o da label MEDV (Pre\\u00e7o correspondente para o im\\u00f3vel) Ap\\u00f3s a Limpeza nos dados\", \"Distribui\\u00e7\\u00e3o da label MEDV (Pre\\u00e7o correspondente para o im\\u00f3vel) Ap\\u00f3s a Limpeza nos dados\", \"Distribui\\u00e7\\u00e3o da label MEDV (Pre\\u00e7o correspondente para o im\\u00f3vel) Ap\\u00f3s a Limpeza nos dados\", \"Distribui\\u00e7\\u00e3o da label MEDV (Pre\\u00e7o correspondente para o im\\u00f3vel) Ap\\u00f3s a Limpeza nos dados\", \"Distribui\\u00e7\\u00e3o da label MEDV (Pre\\u00e7o correspondente para o im\\u00f3vel) Ap\\u00f3s a Limpeza nos dados\", \"Distribui\\u00e7\\u00e3o da label MEDV (Pre\\u00e7o correspondente para o im\\u00f3vel) Ap\\u00f3s a Limpeza nos dados\", \"Distribui\\u00e7\\u00e3o da label MEDV (Pre\\u00e7o correspondente para o im\\u00f3vel) Ap\\u00f3s a Limpeza nos dados\", \"Distribui\\u00e7\\u00e3o da label MEDV (Pre\\u00e7o correspondente para o im\\u00f3vel) Ap\\u00f3s a Limpeza nos dados\", \"Distribui\\u00e7\\u00e3o da label MEDV (Pre\\u00e7o correspondente para o im\\u00f3vel) Ap\\u00f3s a Limpeza nos dados\", \"Distribui\\u00e7\\u00e3o da label MEDV (Pre\\u00e7o correspondente para o im\\u00f3vel) Ap\\u00f3s a Limpeza nos dados\", \"Distribui\\u00e7\\u00e3o da label MEDV (Pre\\u00e7o correspondente para o im\\u00f3vel) Ap\\u00f3s a Limpeza nos dados\", \"Distribui\\u00e7\\u00e3o da label MEDV (Pre\\u00e7o correspondente para o im\\u00f3vel) Ap\\u00f3s a Limpeza nos dados\", \"Distribui\\u00e7\\u00e3o da label MEDV (Pre\\u00e7o correspondente para o im\\u00f3vel) Ap\\u00f3s a Limpeza nos dados\", \"Distribui\\u00e7\\u00e3o da label MEDV (Pre\\u00e7o correspondente para o im\\u00f3vel) Ap\\u00f3s a Limpeza nos dados\", \"Distribui\\u00e7\\u00e3o da label MEDV (Pre\\u00e7o correspondente para o im\\u00f3vel) Ap\\u00f3s a Limpeza nos dados\", \"Distribui\\u00e7\\u00e3o da label MEDV (Pre\\u00e7o correspondente para o im\\u00f3vel) Ap\\u00f3s a Limpeza nos dados\", \"Distribui\\u00e7\\u00e3o da label MEDV (Pre\\u00e7o correspondente para o im\\u00f3vel) Ap\\u00f3s a Limpeza nos dados\", \"Distribui\\u00e7\\u00e3o da label MEDV (Pre\\u00e7o correspondente para o im\\u00f3vel) Ap\\u00f3s a Limpeza nos dados\", \"Distribui\\u00e7\\u00e3o da label MEDV (Pre\\u00e7o correspondente para o im\\u00f3vel) Ap\\u00f3s a Limpeza nos dados\", \"Distribui\\u00e7\\u00e3o da label MEDV (Pre\\u00e7o correspondente para o im\\u00f3vel) Ap\\u00f3s a Limpeza nos dados\", \"Distribui\\u00e7\\u00e3o da label MEDV (Pre\\u00e7o correspondente para o im\\u00f3vel) Ap\\u00f3s a Limpeza nos dados\", \"Distribui\\u00e7\\u00e3o da label MEDV (Pre\\u00e7o correspondente para o im\\u00f3vel) Ap\\u00f3s a Limpeza nos dados\", \"Distribui\\u00e7\\u00e3o da label MEDV (Pre\\u00e7o correspondente para o im\\u00f3vel) Ap\\u00f3s a Limpeza nos dados\", \"Distribui\\u00e7\\u00e3o da label MEDV (Pre\\u00e7o correspondente para o im\\u00f3vel) Ap\\u00f3s a Limpeza nos dados\", \"Distribui\\u00e7\\u00e3o da label MEDV (Pre\\u00e7o correspondente para o im\\u00f3vel) Ap\\u00f3s a Limpeza nos dados\", \"Distribui\\u00e7\\u00e3o da label MEDV (Pre\\u00e7o correspondente para o im\\u00f3vel) Ap\\u00f3s a Limpeza nos dados\", \"Distribui\\u00e7\\u00e3o da label MEDV (Pre\\u00e7o correspondente para o im\\u00f3vel) Ap\\u00f3s a Limpeza nos dados\", \"Distribui\\u00e7\\u00e3o da label MEDV (Pre\\u00e7o correspondente para o im\\u00f3vel) Ap\\u00f3s a Limpeza nos dados\", \"Distribui\\u00e7\\u00e3o da label MEDV (Pre\\u00e7o correspondente para o im\\u00f3vel) Ap\\u00f3s a Limpeza nos dados\", \"Distribui\\u00e7\\u00e3o da label MEDV (Pre\\u00e7o correspondente para o im\\u00f3vel) Ap\\u00f3s a Limpeza nos dados\", \"Distribui\\u00e7\\u00e3o da label MEDV (Pre\\u00e7o correspondente para o im\\u00f3vel) Ap\\u00f3s a Limpeza nos dados\", \"Distribui\\u00e7\\u00e3o da label MEDV (Pre\\u00e7o correspondente para o im\\u00f3vel) Ap\\u00f3s a Limpeza nos dados\", \"Distribui\\u00e7\\u00e3o da label MEDV (Pre\\u00e7o correspondente para o im\\u00f3vel) Ap\\u00f3s a Limpeza nos dados\", \"Distribui\\u00e7\\u00e3o da label MEDV (Pre\\u00e7o correspondente para o im\\u00f3vel) Ap\\u00f3s a Limpeza nos dados\", \"Distribui\\u00e7\\u00e3o da label MEDV (Pre\\u00e7o correspondente para o im\\u00f3vel) Ap\\u00f3s a Limpeza nos dados\", \"Distribui\\u00e7\\u00e3o da label MEDV (Pre\\u00e7o correspondente para o im\\u00f3vel) Ap\\u00f3s a Limpeza nos dados\", \"Distribui\\u00e7\\u00e3o da label MEDV (Pre\\u00e7o correspondente para o im\\u00f3vel) Ap\\u00f3s a Limpeza nos dados\", \"Distribui\\u00e7\\u00e3o da label MEDV (Pre\\u00e7o correspondente para o im\\u00f3vel) Ap\\u00f3s a Limpeza nos dados\", \"Distribui\\u00e7\\u00e3o da label MEDV (Pre\\u00e7o correspondente para o im\\u00f3vel) Ap\\u00f3s a Limpeza nos dados\", \"Distribui\\u00e7\\u00e3o da label MEDV (Pre\\u00e7o correspondente para o im\\u00f3vel) Ap\\u00f3s a Limpeza nos dados\", \"Distribui\\u00e7\\u00e3o da label MEDV (Pre\\u00e7o correspondente para o im\\u00f3vel) Ap\\u00f3s a Limpeza nos dados\", \"Distribui\\u00e7\\u00e3o da label MEDV (Pre\\u00e7o correspondente para o im\\u00f3vel) Ap\\u00f3s a Limpeza nos dados\", \"Distribui\\u00e7\\u00e3o da label MEDV (Pre\\u00e7o correspondente para o im\\u00f3vel) Ap\\u00f3s a Limpeza nos dados\", \"Distribui\\u00e7\\u00e3o da label MEDV (Pre\\u00e7o correspondente para o im\\u00f3vel) Ap\\u00f3s a Limpeza nos dados\", \"Distribui\\u00e7\\u00e3o da label MEDV (Pre\\u00e7o correspondente para o im\\u00f3vel) Ap\\u00f3s a Limpeza nos dados\", \"Distribui\\u00e7\\u00e3o da label MEDV (Pre\\u00e7o correspondente para o im\\u00f3vel) Ap\\u00f3s a Limpeza nos dados\", \"Distribui\\u00e7\\u00e3o da label MEDV (Pre\\u00e7o correspondente para o im\\u00f3vel) Ap\\u00f3s a Limpeza nos dados\", \"Distribui\\u00e7\\u00e3o da label MEDV (Pre\\u00e7o correspondente para o im\\u00f3vel) Ap\\u00f3s a Limpeza nos dados\", \"Distribui\\u00e7\\u00e3o da label MEDV (Pre\\u00e7o correspondente para o im\\u00f3vel) Ap\\u00f3s a Limpeza nos dados\", \"Distribui\\u00e7\\u00e3o da label MEDV (Pre\\u00e7o correspondente para o im\\u00f3vel) Ap\\u00f3s a Limpeza nos dados\", \"Distribui\\u00e7\\u00e3o da label MEDV (Pre\\u00e7o correspondente para o im\\u00f3vel) Ap\\u00f3s a Limpeza nos dados\", \"Distribui\\u00e7\\u00e3o da label MEDV (Pre\\u00e7o correspondente para o im\\u00f3vel) Ap\\u00f3s a Limpeza nos dados\", \"Distribui\\u00e7\\u00e3o da label MEDV (Pre\\u00e7o correspondente para o im\\u00f3vel) Ap\\u00f3s a Limpeza nos dados\", \"Distribui\\u00e7\\u00e3o da label MEDV (Pre\\u00e7o correspondente para o im\\u00f3vel) Ap\\u00f3s a Limpeza nos dados\", \"Distribui\\u00e7\\u00e3o da label MEDV (Pre\\u00e7o correspondente para o im\\u00f3vel) Ap\\u00f3s a Limpeza nos dados\", \"Distribui\\u00e7\\u00e3o da label MEDV (Pre\\u00e7o correspondente para o im\\u00f3vel) Ap\\u00f3s a Limpeza nos dados\", \"Distribui\\u00e7\\u00e3o da label MEDV (Pre\\u00e7o correspondente para o im\\u00f3vel) Ap\\u00f3s a Limpeza nos dados\", \"Distribui\\u00e7\\u00e3o da label MEDV (Pre\\u00e7o correspondente para o im\\u00f3vel) Ap\\u00f3s a Limpeza nos dados\", \"Distribui\\u00e7\\u00e3o da label MEDV (Pre\\u00e7o correspondente para o im\\u00f3vel) Ap\\u00f3s a Limpeza nos dados\", \"Distribui\\u00e7\\u00e3o da label MEDV (Pre\\u00e7o correspondente para o im\\u00f3vel) Ap\\u00f3s a Limpeza nos dados\", \"Distribui\\u00e7\\u00e3o da label MEDV (Pre\\u00e7o correspondente para o im\\u00f3vel) Ap\\u00f3s a Limpeza nos dados\", \"Distribui\\u00e7\\u00e3o da label MEDV (Pre\\u00e7o correspondente para o im\\u00f3vel) Ap\\u00f3s a Limpeza nos dados\", \"Distribui\\u00e7\\u00e3o da label MEDV (Pre\\u00e7o correspondente para o im\\u00f3vel) Ap\\u00f3s a Limpeza nos dados\", \"Distribui\\u00e7\\u00e3o da label MEDV (Pre\\u00e7o correspondente para o im\\u00f3vel) Ap\\u00f3s a Limpeza nos dados\", \"Distribui\\u00e7\\u00e3o da label MEDV (Pre\\u00e7o correspondente para o im\\u00f3vel) Ap\\u00f3s a Limpeza nos dados\", \"Distribui\\u00e7\\u00e3o da label MEDV (Pre\\u00e7o correspondente para o im\\u00f3vel) Ap\\u00f3s a Limpeza nos dados\", \"Distribui\\u00e7\\u00e3o da label MEDV (Pre\\u00e7o correspondente para o im\\u00f3vel) Ap\\u00f3s a Limpeza nos dados\", \"Distribui\\u00e7\\u00e3o da label MEDV (Pre\\u00e7o correspondente para o im\\u00f3vel) Ap\\u00f3s a Limpeza nos dados\", \"Distribui\\u00e7\\u00e3o da label MEDV (Pre\\u00e7o correspondente para o im\\u00f3vel) Ap\\u00f3s a Limpeza nos dados\", \"Distribui\\u00e7\\u00e3o da label MEDV (Pre\\u00e7o correspondente para o im\\u00f3vel) Ap\\u00f3s a Limpeza nos dados\", \"Distribui\\u00e7\\u00e3o da label MEDV (Pre\\u00e7o correspondente para o im\\u00f3vel) Ap\\u00f3s a Limpeza nos dados\", \"Distribui\\u00e7\\u00e3o da label MEDV (Pre\\u00e7o correspondente para o im\\u00f3vel) Ap\\u00f3s a Limpeza nos dados\", \"Distribui\\u00e7\\u00e3o da label MEDV (Pre\\u00e7o correspondente para o im\\u00f3vel) Ap\\u00f3s a Limpeza nos dados\", \"Distribui\\u00e7\\u00e3o da label MEDV (Pre\\u00e7o correspondente para o im\\u00f3vel) Ap\\u00f3s a Limpeza nos dados\", \"Distribui\\u00e7\\u00e3o da label MEDV (Pre\\u00e7o correspondente para o im\\u00f3vel) Ap\\u00f3s a Limpeza nos dados\", \"Distribui\\u00e7\\u00e3o da label MEDV (Pre\\u00e7o correspondente para o im\\u00f3vel) Ap\\u00f3s a Limpeza nos dados\", \"Distribui\\u00e7\\u00e3o da label MEDV (Pre\\u00e7o correspondente para o im\\u00f3vel) Ap\\u00f3s a Limpeza nos dados\", \"Distribui\\u00e7\\u00e3o da label MEDV (Pre\\u00e7o correspondente para o im\\u00f3vel) Ap\\u00f3s a Limpeza nos dados\", \"Distribui\\u00e7\\u00e3o da label MEDV (Pre\\u00e7o correspondente para o im\\u00f3vel) Ap\\u00f3s a Limpeza nos dados\", \"Distribui\\u00e7\\u00e3o da label MEDV (Pre\\u00e7o correspondente para o im\\u00f3vel) Ap\\u00f3s a Limpeza nos dados\", \"Distribui\\u00e7\\u00e3o da label MEDV (Pre\\u00e7o correspondente para o im\\u00f3vel) Ap\\u00f3s a Limpeza nos dados\", \"Distribui\\u00e7\\u00e3o da label MEDV (Pre\\u00e7o correspondente para o im\\u00f3vel) Ap\\u00f3s a Limpeza nos dados\", \"Distribui\\u00e7\\u00e3o da label MEDV (Pre\\u00e7o correspondente para o im\\u00f3vel) Ap\\u00f3s a Limpeza nos dados\", \"Distribui\\u00e7\\u00e3o da label MEDV (Pre\\u00e7o correspondente para o im\\u00f3vel) Ap\\u00f3s a Limpeza nos dados\", \"Distribui\\u00e7\\u00e3o da label MEDV (Pre\\u00e7o correspondente para o im\\u00f3vel) Ap\\u00f3s a Limpeza nos dados\", \"Distribui\\u00e7\\u00e3o da label MEDV (Pre\\u00e7o correspondente para o im\\u00f3vel) Ap\\u00f3s a Limpeza nos dados\", \"Distribui\\u00e7\\u00e3o da label MEDV (Pre\\u00e7o correspondente para o im\\u00f3vel) Ap\\u00f3s a Limpeza nos dados\", \"Distribui\\u00e7\\u00e3o da label MEDV (Pre\\u00e7o correspondente para o im\\u00f3vel) Ap\\u00f3s a Limpeza nos dados\", \"Distribui\\u00e7\\u00e3o da label MEDV (Pre\\u00e7o correspondente para o im\\u00f3vel) Ap\\u00f3s a Limpeza nos dados\", \"Distribui\\u00e7\\u00e3o da label MEDV (Pre\\u00e7o correspondente para o im\\u00f3vel) Ap\\u00f3s a Limpeza nos dados\", \"Distribui\\u00e7\\u00e3o da label MEDV (Pre\\u00e7o correspondente para o im\\u00f3vel) Ap\\u00f3s a Limpeza nos dados\", \"Distribui\\u00e7\\u00e3o da label MEDV (Pre\\u00e7o correspondente para o im\\u00f3vel) Ap\\u00f3s a Limpeza nos dados\", \"Distribui\\u00e7\\u00e3o da label MEDV (Pre\\u00e7o correspondente para o im\\u00f3vel) Ap\\u00f3s a Limpeza nos dados\", \"Distribui\\u00e7\\u00e3o da label MEDV (Pre\\u00e7o correspondente para o im\\u00f3vel) Ap\\u00f3s a Limpeza nos dados\", \"Distribui\\u00e7\\u00e3o da label MEDV (Pre\\u00e7o correspondente para o im\\u00f3vel) Ap\\u00f3s a Limpeza nos dados\", \"Distribui\\u00e7\\u00e3o da label MEDV (Pre\\u00e7o correspondente para o im\\u00f3vel) Ap\\u00f3s a Limpeza nos dados\", \"Distribui\\u00e7\\u00e3o da label MEDV (Pre\\u00e7o correspondente para o im\\u00f3vel) Ap\\u00f3s a Limpeza nos dados\", \"Distribui\\u00e7\\u00e3o da label MEDV (Pre\\u00e7o correspondente para o im\\u00f3vel) Ap\\u00f3s a Limpeza nos dados\", \"Distribui\\u00e7\\u00e3o da label MEDV (Pre\\u00e7o correspondente para o im\\u00f3vel) Ap\\u00f3s a Limpeza nos dados\", \"Distribui\\u00e7\\u00e3o da label MEDV (Pre\\u00e7o correspondente para o im\\u00f3vel) Ap\\u00f3s a Limpeza nos dados\", \"Distribui\\u00e7\\u00e3o da label MEDV (Pre\\u00e7o correspondente para o im\\u00f3vel) Ap\\u00f3s a Limpeza nos dados\", \"Distribui\\u00e7\\u00e3o da label MEDV (Pre\\u00e7o correspondente para o im\\u00f3vel) Ap\\u00f3s a Limpeza nos dados\", \"Distribui\\u00e7\\u00e3o da label MEDV (Pre\\u00e7o correspondente para o im\\u00f3vel) Ap\\u00f3s a Limpeza nos dados\", \"Distribui\\u00e7\\u00e3o da label MEDV (Pre\\u00e7o correspondente para o im\\u00f3vel) Ap\\u00f3s a Limpeza nos dados\", \"Distribui\\u00e7\\u00e3o da label MEDV (Pre\\u00e7o correspondente para o im\\u00f3vel) Ap\\u00f3s a Limpeza nos dados\", \"Distribui\\u00e7\\u00e3o da label MEDV (Pre\\u00e7o correspondente para o im\\u00f3vel) Ap\\u00f3s a Limpeza nos dados\", \"Distribui\\u00e7\\u00e3o da label MEDV (Pre\\u00e7o correspondente para o im\\u00f3vel) Ap\\u00f3s a Limpeza nos dados\", \"Distribui\\u00e7\\u00e3o da label MEDV (Pre\\u00e7o correspondente para o im\\u00f3vel) Ap\\u00f3s a Limpeza nos dados\", \"Distribui\\u00e7\\u00e3o da label MEDV (Pre\\u00e7o correspondente para o im\\u00f3vel) Ap\\u00f3s a Limpeza nos dados\", \"Distribui\\u00e7\\u00e3o da label MEDV (Pre\\u00e7o correspondente para o im\\u00f3vel) Ap\\u00f3s a Limpeza nos dados\", \"Distribui\\u00e7\\u00e3o da label MEDV (Pre\\u00e7o correspondente para o im\\u00f3vel) Ap\\u00f3s a Limpeza nos dados\", \"Distribui\\u00e7\\u00e3o da label MEDV (Pre\\u00e7o correspondente para o im\\u00f3vel) Ap\\u00f3s a Limpeza nos dados\", \"Distribui\\u00e7\\u00e3o da label MEDV (Pre\\u00e7o correspondente para o im\\u00f3vel) Ap\\u00f3s a Limpeza nos dados\", \"Distribui\\u00e7\\u00e3o da label MEDV (Pre\\u00e7o correspondente para o im\\u00f3vel) Ap\\u00f3s a Limpeza nos dados\", \"Distribui\\u00e7\\u00e3o da label MEDV (Pre\\u00e7o correspondente para o im\\u00f3vel) Ap\\u00f3s a Limpeza nos dados\", \"Distribui\\u00e7\\u00e3o da label MEDV (Pre\\u00e7o correspondente para o im\\u00f3vel) Ap\\u00f3s a Limpeza nos dados\", \"Distribui\\u00e7\\u00e3o da label MEDV (Pre\\u00e7o correspondente para o im\\u00f3vel) Ap\\u00f3s a Limpeza nos dados\", \"Distribui\\u00e7\\u00e3o da label MEDV (Pre\\u00e7o correspondente para o im\\u00f3vel) Ap\\u00f3s a Limpeza nos dados\", \"Distribui\\u00e7\\u00e3o da label MEDV (Pre\\u00e7o correspondente para o im\\u00f3vel) Ap\\u00f3s a Limpeza nos dados\", \"Distribui\\u00e7\\u00e3o da label MEDV (Pre\\u00e7o correspondente para o im\\u00f3vel) Ap\\u00f3s a Limpeza nos dados\", \"Distribui\\u00e7\\u00e3o da label MEDV (Pre\\u00e7o correspondente para o im\\u00f3vel) Ap\\u00f3s a Limpeza nos dados\", \"Distribui\\u00e7\\u00e3o da label MEDV (Pre\\u00e7o correspondente para o im\\u00f3vel) Ap\\u00f3s a Limpeza nos dados\", \"Distribui\\u00e7\\u00e3o da label MEDV (Pre\\u00e7o correspondente para o im\\u00f3vel) Ap\\u00f3s a Limpeza nos dados\", \"Distribui\\u00e7\\u00e3o da label MEDV (Pre\\u00e7o correspondente para o im\\u00f3vel) Ap\\u00f3s a Limpeza nos dados\", \"Distribui\\u00e7\\u00e3o da label MEDV (Pre\\u00e7o correspondente para o im\\u00f3vel) Ap\\u00f3s a Limpeza nos dados\", \"Distribui\\u00e7\\u00e3o da label MEDV (Pre\\u00e7o correspondente para o im\\u00f3vel) Ap\\u00f3s a Limpeza nos dados\", \"Distribui\\u00e7\\u00e3o da label MEDV (Pre\\u00e7o correspondente para o im\\u00f3vel) Ap\\u00f3s a Limpeza nos dados\", \"Distribui\\u00e7\\u00e3o da label MEDV (Pre\\u00e7o correspondente para o im\\u00f3vel) Ap\\u00f3s a Limpeza nos dados\", \"Distribui\\u00e7\\u00e3o da label MEDV (Pre\\u00e7o correspondente para o im\\u00f3vel) Ap\\u00f3s a Limpeza nos dados\", \"Distribui\\u00e7\\u00e3o da label MEDV (Pre\\u00e7o correspondente para o im\\u00f3vel) Ap\\u00f3s a Limpeza nos dados\", \"Distribui\\u00e7\\u00e3o da label MEDV (Pre\\u00e7o correspondente para o im\\u00f3vel) Ap\\u00f3s a Limpeza nos dados\", \"Distribui\\u00e7\\u00e3o da label MEDV (Pre\\u00e7o correspondente para o im\\u00f3vel) Ap\\u00f3s a Limpeza nos dados\", \"Distribui\\u00e7\\u00e3o da label MEDV (Pre\\u00e7o correspondente para o im\\u00f3vel) Ap\\u00f3s a Limpeza nos dados\", \"Distribui\\u00e7\\u00e3o da label MEDV (Pre\\u00e7o correspondente para o im\\u00f3vel) Ap\\u00f3s a Limpeza nos dados\", \"Distribui\\u00e7\\u00e3o da label MEDV (Pre\\u00e7o correspondente para o im\\u00f3vel) Ap\\u00f3s a Limpeza nos dados\", \"Distribui\\u00e7\\u00e3o da label MEDV (Pre\\u00e7o correspondente para o im\\u00f3vel) Ap\\u00f3s a Limpeza nos dados\", \"Distribui\\u00e7\\u00e3o da label MEDV (Pre\\u00e7o correspondente para o im\\u00f3vel) Ap\\u00f3s a Limpeza nos dados\", \"Distribui\\u00e7\\u00e3o da label MEDV (Pre\\u00e7o correspondente para o im\\u00f3vel) Ap\\u00f3s a Limpeza nos dados\", \"Distribui\\u00e7\\u00e3o da label MEDV (Pre\\u00e7o correspondente para o im\\u00f3vel) Ap\\u00f3s a Limpeza nos dados\", \"Distribui\\u00e7\\u00e3o da label MEDV (Pre\\u00e7o correspondente para o im\\u00f3vel) Ap\\u00f3s a Limpeza nos dados\", \"Distribui\\u00e7\\u00e3o da label MEDV (Pre\\u00e7o correspondente para o im\\u00f3vel) Ap\\u00f3s a Limpeza nos dados\", \"Distribui\\u00e7\\u00e3o da label MEDV (Pre\\u00e7o correspondente para o im\\u00f3vel) Ap\\u00f3s a Limpeza nos dados\", \"Distribui\\u00e7\\u00e3o da label MEDV (Pre\\u00e7o correspondente para o im\\u00f3vel) Ap\\u00f3s a Limpeza nos dados\", \"Distribui\\u00e7\\u00e3o da label MEDV (Pre\\u00e7o correspondente para o im\\u00f3vel) Ap\\u00f3s a Limpeza nos dados\", \"Distribui\\u00e7\\u00e3o da label MEDV (Pre\\u00e7o correspondente para o im\\u00f3vel) Ap\\u00f3s a Limpeza nos dados\", \"Distribui\\u00e7\\u00e3o da label MEDV (Pre\\u00e7o correspondente para o im\\u00f3vel) Ap\\u00f3s a Limpeza nos dados\", \"Distribui\\u00e7\\u00e3o da label MEDV (Pre\\u00e7o correspondente para o im\\u00f3vel) Ap\\u00f3s a Limpeza nos dados\", \"Distribui\\u00e7\\u00e3o da label MEDV (Pre\\u00e7o correspondente para o im\\u00f3vel) Ap\\u00f3s a Limpeza nos dados\", \"Distribui\\u00e7\\u00e3o da label MEDV (Pre\\u00e7o correspondente para o im\\u00f3vel) Ap\\u00f3s a Limpeza nos dados\", \"Distribui\\u00e7\\u00e3o da label MEDV (Pre\\u00e7o correspondente para o im\\u00f3vel) Ap\\u00f3s a Limpeza nos dados\", \"Distribui\\u00e7\\u00e3o da label MEDV (Pre\\u00e7o correspondente para o im\\u00f3vel) Ap\\u00f3s a Limpeza nos dados\", \"Distribui\\u00e7\\u00e3o da label MEDV (Pre\\u00e7o correspondente para o im\\u00f3vel) Ap\\u00f3s a Limpeza nos dados\", \"Distribui\\u00e7\\u00e3o da label MEDV (Pre\\u00e7o correspondente para o im\\u00f3vel) Ap\\u00f3s a Limpeza nos dados\", \"Distribui\\u00e7\\u00e3o da label MEDV (Pre\\u00e7o correspondente para o im\\u00f3vel) Ap\\u00f3s a Limpeza nos dados\", \"Distribui\\u00e7\\u00e3o da label MEDV (Pre\\u00e7o correspondente para o im\\u00f3vel) Ap\\u00f3s a Limpeza nos dados\", \"Distribui\\u00e7\\u00e3o da label MEDV (Pre\\u00e7o correspondente para o im\\u00f3vel) Ap\\u00f3s a Limpeza nos dados\", \"Distribui\\u00e7\\u00e3o da label MEDV (Pre\\u00e7o correspondente para o im\\u00f3vel) Ap\\u00f3s a Limpeza nos dados\", \"Distribui\\u00e7\\u00e3o da label MEDV (Pre\\u00e7o correspondente para o im\\u00f3vel) Ap\\u00f3s a Limpeza nos dados\", \"Distribui\\u00e7\\u00e3o da label MEDV (Pre\\u00e7o correspondente para o im\\u00f3vel) Ap\\u00f3s a Limpeza nos dados\", \"Distribui\\u00e7\\u00e3o da label MEDV (Pre\\u00e7o correspondente para o im\\u00f3vel) Ap\\u00f3s a Limpeza nos dados\", \"Distribui\\u00e7\\u00e3o da label MEDV (Pre\\u00e7o correspondente para o im\\u00f3vel) Ap\\u00f3s a Limpeza nos dados\", \"Distribui\\u00e7\\u00e3o da label MEDV (Pre\\u00e7o correspondente para o im\\u00f3vel) Ap\\u00f3s a Limpeza nos dados\", \"Distribui\\u00e7\\u00e3o da label MEDV (Pre\\u00e7o correspondente para o im\\u00f3vel) Ap\\u00f3s a Limpeza nos dados\", \"Distribui\\u00e7\\u00e3o da label MEDV (Pre\\u00e7o correspondente para o im\\u00f3vel) Ap\\u00f3s a Limpeza nos dados\", \"Distribui\\u00e7\\u00e3o da label MEDV (Pre\\u00e7o correspondente para o im\\u00f3vel) Ap\\u00f3s a Limpeza nos dados\", \"Distribui\\u00e7\\u00e3o da label MEDV (Pre\\u00e7o correspondente para o im\\u00f3vel) Ap\\u00f3s a Limpeza nos dados\", \"Distribui\\u00e7\\u00e3o da label MEDV (Pre\\u00e7o correspondente para o im\\u00f3vel) Ap\\u00f3s a Limpeza nos dados\", \"Distribui\\u00e7\\u00e3o da label MEDV (Pre\\u00e7o correspondente para o im\\u00f3vel) Ap\\u00f3s a Limpeza nos dados\", \"Distribui\\u00e7\\u00e3o da label MEDV (Pre\\u00e7o correspondente para o im\\u00f3vel) Ap\\u00f3s a Limpeza nos dados\", \"Distribui\\u00e7\\u00e3o da label MEDV (Pre\\u00e7o correspondente para o im\\u00f3vel) Ap\\u00f3s a Limpeza nos dados\", \"Distribui\\u00e7\\u00e3o da label MEDV (Pre\\u00e7o correspondente para o im\\u00f3vel) Ap\\u00f3s a Limpeza nos dados\", \"Distribui\\u00e7\\u00e3o da label MEDV (Pre\\u00e7o correspondente para o im\\u00f3vel) Ap\\u00f3s a Limpeza nos dados\", \"Distribui\\u00e7\\u00e3o da label MEDV (Pre\\u00e7o correspondente para o im\\u00f3vel) Ap\\u00f3s a Limpeza nos dados\", \"Distribui\\u00e7\\u00e3o da label MEDV (Pre\\u00e7o correspondente para o im\\u00f3vel) Ap\\u00f3s a Limpeza nos dados\", \"Distribui\\u00e7\\u00e3o da label MEDV (Pre\\u00e7o correspondente para o im\\u00f3vel) Ap\\u00f3s a Limpeza nos dados\", \"Distribui\\u00e7\\u00e3o da label MEDV (Pre\\u00e7o correspondente para o im\\u00f3vel) Ap\\u00f3s a Limpeza nos dados\", \"Distribui\\u00e7\\u00e3o da label MEDV (Pre\\u00e7o correspondente para o im\\u00f3vel) Ap\\u00f3s a Limpeza nos dados\", \"Distribui\\u00e7\\u00e3o da label MEDV (Pre\\u00e7o correspondente para o im\\u00f3vel) Ap\\u00f3s a Limpeza nos dados\", \"Distribui\\u00e7\\u00e3o da label MEDV (Pre\\u00e7o correspondente para o im\\u00f3vel) Ap\\u00f3s a Limpeza nos dados\", \"Distribui\\u00e7\\u00e3o da label MEDV (Pre\\u00e7o correspondente para o im\\u00f3vel) Ap\\u00f3s a Limpeza nos dados\", \"Distribui\\u00e7\\u00e3o da label MEDV (Pre\\u00e7o correspondente para o im\\u00f3vel) Ap\\u00f3s a Limpeza nos dados\", \"Distribui\\u00e7\\u00e3o da label MEDV (Pre\\u00e7o correspondente para o im\\u00f3vel) Ap\\u00f3s a Limpeza nos dados\", \"Distribui\\u00e7\\u00e3o da label MEDV (Pre\\u00e7o correspondente para o im\\u00f3vel) Ap\\u00f3s a Limpeza nos dados\", \"Distribui\\u00e7\\u00e3o da label MEDV (Pre\\u00e7o correspondente para o im\\u00f3vel) Ap\\u00f3s a Limpeza nos dados\", \"Distribui\\u00e7\\u00e3o da label MEDV (Pre\\u00e7o correspondente para o im\\u00f3vel) Ap\\u00f3s a Limpeza nos dados\", \"Distribui\\u00e7\\u00e3o da label MEDV (Pre\\u00e7o correspondente para o im\\u00f3vel) Ap\\u00f3s a Limpeza nos dados\", \"Distribui\\u00e7\\u00e3o da label MEDV (Pre\\u00e7o correspondente para o im\\u00f3vel) Ap\\u00f3s a Limpeza nos dados\", \"Distribui\\u00e7\\u00e3o da label MEDV (Pre\\u00e7o correspondente para o im\\u00f3vel) Ap\\u00f3s a Limpeza nos dados\", \"Distribui\\u00e7\\u00e3o da label MEDV (Pre\\u00e7o correspondente para o im\\u00f3vel) Ap\\u00f3s a Limpeza nos dados\", \"Distribui\\u00e7\\u00e3o da label MEDV (Pre\\u00e7o correspondente para o im\\u00f3vel) Ap\\u00f3s a Limpeza nos dados\", \"Distribui\\u00e7\\u00e3o da label MEDV (Pre\\u00e7o correspondente para o im\\u00f3vel) Ap\\u00f3s a Limpeza nos dados\", \"Distribui\\u00e7\\u00e3o da label MEDV (Pre\\u00e7o correspondente para o im\\u00f3vel) Ap\\u00f3s a Limpeza nos dados\", \"Distribui\\u00e7\\u00e3o da label MEDV (Pre\\u00e7o correspondente para o im\\u00f3vel) Ap\\u00f3s a Limpeza nos dados\", \"Distribui\\u00e7\\u00e3o da label MEDV (Pre\\u00e7o correspondente para o im\\u00f3vel) Ap\\u00f3s a Limpeza nos dados\", \"Distribui\\u00e7\\u00e3o da label MEDV (Pre\\u00e7o correspondente para o im\\u00f3vel) Ap\\u00f3s a Limpeza nos dados\", \"Distribui\\u00e7\\u00e3o da label MEDV (Pre\\u00e7o correspondente para o im\\u00f3vel) Ap\\u00f3s a Limpeza nos dados\", \"Distribui\\u00e7\\u00e3o da label MEDV (Pre\\u00e7o correspondente para o im\\u00f3vel) Ap\\u00f3s a Limpeza nos dados\", \"Distribui\\u00e7\\u00e3o da label MEDV (Pre\\u00e7o correspondente para o im\\u00f3vel) Ap\\u00f3s a Limpeza nos dados\", \"Distribui\\u00e7\\u00e3o da label MEDV (Pre\\u00e7o correspondente para o im\\u00f3vel) Ap\\u00f3s a Limpeza nos dados\", \"Distribui\\u00e7\\u00e3o da label MEDV (Pre\\u00e7o correspondente para o im\\u00f3vel) Ap\\u00f3s a Limpeza nos dados\", \"Distribui\\u00e7\\u00e3o da label MEDV (Pre\\u00e7o correspondente para o im\\u00f3vel) Ap\\u00f3s a Limpeza nos dados\", \"Distribui\\u00e7\\u00e3o da label MEDV (Pre\\u00e7o correspondente para o im\\u00f3vel) Ap\\u00f3s a Limpeza nos dados\", \"Distribui\\u00e7\\u00e3o da label MEDV (Pre\\u00e7o correspondente para o im\\u00f3vel) Ap\\u00f3s a Limpeza nos dados\", \"Distribui\\u00e7\\u00e3o da label MEDV (Pre\\u00e7o correspondente para o im\\u00f3vel) Ap\\u00f3s a Limpeza nos dados\", \"Distribui\\u00e7\\u00e3o da label MEDV (Pre\\u00e7o correspondente para o im\\u00f3vel) Ap\\u00f3s a Limpeza nos dados\", \"Distribui\\u00e7\\u00e3o da label MEDV (Pre\\u00e7o correspondente para o im\\u00f3vel) Ap\\u00f3s a Limpeza nos dados\", \"Distribui\\u00e7\\u00e3o da label MEDV (Pre\\u00e7o correspondente para o im\\u00f3vel) Ap\\u00f3s a Limpeza nos dados\", \"Distribui\\u00e7\\u00e3o da label MEDV (Pre\\u00e7o correspondente para o im\\u00f3vel) Ap\\u00f3s a Limpeza nos dados\", \"Distribui\\u00e7\\u00e3o da label MEDV (Pre\\u00e7o correspondente para o im\\u00f3vel) Ap\\u00f3s a Limpeza nos dados\", \"Distribui\\u00e7\\u00e3o da label MEDV (Pre\\u00e7o correspondente para o im\\u00f3vel) Ap\\u00f3s a Limpeza nos dados\", \"Distribui\\u00e7\\u00e3o da label MEDV (Pre\\u00e7o correspondente para o im\\u00f3vel) Ap\\u00f3s a Limpeza nos dados\", \"Distribui\\u00e7\\u00e3o da label MEDV (Pre\\u00e7o correspondente para o im\\u00f3vel) Ap\\u00f3s a Limpeza nos dados\", \"Distribui\\u00e7\\u00e3o da label MEDV (Pre\\u00e7o correspondente para o im\\u00f3vel) Ap\\u00f3s a Limpeza nos dados\", \"Distribui\\u00e7\\u00e3o da label MEDV (Pre\\u00e7o correspondente para o im\\u00f3vel) Ap\\u00f3s a Limpeza nos dados\", \"Distribui\\u00e7\\u00e3o da label MEDV (Pre\\u00e7o correspondente para o im\\u00f3vel) Ap\\u00f3s a Limpeza nos dados\", \"Distribui\\u00e7\\u00e3o da label MEDV (Pre\\u00e7o correspondente para o im\\u00f3vel) Ap\\u00f3s a Limpeza nos dados\", \"Distribui\\u00e7\\u00e3o da label MEDV (Pre\\u00e7o correspondente para o im\\u00f3vel) Ap\\u00f3s a Limpeza nos dados\", \"Distribui\\u00e7\\u00e3o da label MEDV (Pre\\u00e7o correspondente para o im\\u00f3vel) Ap\\u00f3s a Limpeza nos dados\", \"Distribui\\u00e7\\u00e3o da label MEDV (Pre\\u00e7o correspondente para o im\\u00f3vel) Ap\\u00f3s a Limpeza nos dados\", \"Distribui\\u00e7\\u00e3o da label MEDV (Pre\\u00e7o correspondente para o im\\u00f3vel) Ap\\u00f3s a Limpeza nos dados\", \"Distribui\\u00e7\\u00e3o da label MEDV (Pre\\u00e7o correspondente para o im\\u00f3vel) Ap\\u00f3s a Limpeza nos dados\", \"Distribui\\u00e7\\u00e3o da label MEDV (Pre\\u00e7o correspondente para o im\\u00f3vel) Ap\\u00f3s a Limpeza nos dados\", \"Distribui\\u00e7\\u00e3o da label MEDV (Pre\\u00e7o correspondente para o im\\u00f3vel) Ap\\u00f3s a Limpeza nos dados\", \"Distribui\\u00e7\\u00e3o da label MEDV (Pre\\u00e7o correspondente para o im\\u00f3vel) Ap\\u00f3s a Limpeza nos dados\", \"Distribui\\u00e7\\u00e3o da label MEDV (Pre\\u00e7o correspondente para o im\\u00f3vel) Ap\\u00f3s a Limpeza nos dados\", \"Distribui\\u00e7\\u00e3o da label MEDV (Pre\\u00e7o correspondente para o im\\u00f3vel) Ap\\u00f3s a Limpeza nos dados\", \"Distribui\\u00e7\\u00e3o da label MEDV (Pre\\u00e7o correspondente para o im\\u00f3vel) Ap\\u00f3s a Limpeza nos dados\", \"Distribui\\u00e7\\u00e3o da label MEDV (Pre\\u00e7o correspondente para o im\\u00f3vel) Ap\\u00f3s a Limpeza nos dados\", \"Distribui\\u00e7\\u00e3o da label MEDV (Pre\\u00e7o correspondente para o im\\u00f3vel) Ap\\u00f3s a Limpeza nos dados\", \"Distribui\\u00e7\\u00e3o da label MEDV (Pre\\u00e7o correspondente para o im\\u00f3vel) Ap\\u00f3s a Limpeza nos dados\", \"Distribui\\u00e7\\u00e3o da label MEDV (Pre\\u00e7o correspondente para o im\\u00f3vel) Ap\\u00f3s a Limpeza nos dados\", \"Distribui\\u00e7\\u00e3o da label MEDV (Pre\\u00e7o correspondente para o im\\u00f3vel) Ap\\u00f3s a Limpeza nos dados\", \"Distribui\\u00e7\\u00e3o da label MEDV (Pre\\u00e7o correspondente para o im\\u00f3vel) Ap\\u00f3s a Limpeza nos dados\", \"Distribui\\u00e7\\u00e3o da label MEDV (Pre\\u00e7o correspondente para o im\\u00f3vel) Ap\\u00f3s a Limpeza nos dados\", \"Distribui\\u00e7\\u00e3o da label MEDV (Pre\\u00e7o correspondente para o im\\u00f3vel) Ap\\u00f3s a Limpeza nos dados\", \"Distribui\\u00e7\\u00e3o da label MEDV (Pre\\u00e7o correspondente para o im\\u00f3vel) Ap\\u00f3s a Limpeza nos dados\", \"Distribui\\u00e7\\u00e3o da label MEDV (Pre\\u00e7o correspondente para o im\\u00f3vel) Ap\\u00f3s a Limpeza nos dados\", \"Distribui\\u00e7\\u00e3o da label MEDV (Pre\\u00e7o correspondente para o im\\u00f3vel) Ap\\u00f3s a Limpeza nos dados\", \"Distribui\\u00e7\\u00e3o da label MEDV (Pre\\u00e7o correspondente para o im\\u00f3vel) Ap\\u00f3s a Limpeza nos dados\", \"Distribui\\u00e7\\u00e3o da label MEDV (Pre\\u00e7o correspondente para o im\\u00f3vel) Ap\\u00f3s a Limpeza nos dados\", \"Distribui\\u00e7\\u00e3o da label MEDV (Pre\\u00e7o correspondente para o im\\u00f3vel) Ap\\u00f3s a Limpeza nos dados\", \"Distribui\\u00e7\\u00e3o da label MEDV (Pre\\u00e7o correspondente para o im\\u00f3vel) Ap\\u00f3s a Limpeza nos dados\", \"Distribui\\u00e7\\u00e3o da label MEDV (Pre\\u00e7o correspondente para o im\\u00f3vel) Ap\\u00f3s a Limpeza nos dados\", \"Distribui\\u00e7\\u00e3o da label MEDV (Pre\\u00e7o correspondente para o im\\u00f3vel) Ap\\u00f3s a Limpeza nos dados\", \"Distribui\\u00e7\\u00e3o da label MEDV (Pre\\u00e7o correspondente para o im\\u00f3vel) Ap\\u00f3s a Limpeza nos dados\", \"Distribui\\u00e7\\u00e3o da label MEDV (Pre\\u00e7o correspondente para o im\\u00f3vel) Ap\\u00f3s a Limpeza nos dados\", \"Distribui\\u00e7\\u00e3o da label MEDV (Pre\\u00e7o correspondente para o im\\u00f3vel) Ap\\u00f3s a Limpeza nos dados\", \"Distribui\\u00e7\\u00e3o da label MEDV (Pre\\u00e7o correspondente para o im\\u00f3vel) Ap\\u00f3s a Limpeza nos dados\", \"Distribui\\u00e7\\u00e3o da label MEDV (Pre\\u00e7o correspondente para o im\\u00f3vel) Ap\\u00f3s a Limpeza nos dados\", \"Distribui\\u00e7\\u00e3o da label MEDV (Pre\\u00e7o correspondente para o im\\u00f3vel) Ap\\u00f3s a Limpeza nos dados\", \"Distribui\\u00e7\\u00e3o da label MEDV (Pre\\u00e7o correspondente para o im\\u00f3vel) Ap\\u00f3s a Limpeza nos dados\"], \"yaxis\": \"y2\"}],\n",
              "                        {\"barmode\": \"overlay\", \"hovermode\": \"closest\", \"legend\": {\"traceorder\": \"reversed\"}, \"template\": {\"data\": {\"bar\": [{\"error_x\": {\"color\": \"#2a3f5f\"}, \"error_y\": {\"color\": \"#2a3f5f\"}, \"marker\": {\"line\": {\"color\": \"#E5ECF6\", \"width\": 0.5}}, \"type\": \"bar\"}], \"barpolar\": [{\"marker\": {\"line\": {\"color\": \"#E5ECF6\", \"width\": 0.5}}, \"type\": \"barpolar\"}], \"carpet\": [{\"aaxis\": {\"endlinecolor\": \"#2a3f5f\", \"gridcolor\": \"white\", \"linecolor\": \"white\", \"minorgridcolor\": \"white\", \"startlinecolor\": \"#2a3f5f\"}, \"baxis\": {\"endlinecolor\": \"#2a3f5f\", \"gridcolor\": \"white\", \"linecolor\": \"white\", \"minorgridcolor\": \"white\", \"startlinecolor\": \"#2a3f5f\"}, \"type\": \"carpet\"}], \"choropleth\": [{\"colorbar\": {\"outlinewidth\": 0, \"ticks\": \"\"}, \"type\": \"choropleth\"}], \"contour\": [{\"colorbar\": {\"outlinewidth\": 0, \"ticks\": \"\"}, \"colorscale\": [[0.0, \"#0d0887\"], [0.1111111111111111, \"#46039f\"], [0.2222222222222222, \"#7201a8\"], [0.3333333333333333, \"#9c179e\"], [0.4444444444444444, \"#bd3786\"], [0.5555555555555556, \"#d8576b\"], [0.6666666666666666, \"#ed7953\"], [0.7777777777777778, \"#fb9f3a\"], [0.8888888888888888, \"#fdca26\"], [1.0, \"#f0f921\"]], \"type\": \"contour\"}], \"contourcarpet\": [{\"colorbar\": {\"outlinewidth\": 0, \"ticks\": \"\"}, \"type\": \"contourcarpet\"}], \"heatmap\": [{\"colorbar\": {\"outlinewidth\": 0, \"ticks\": \"\"}, \"colorscale\": [[0.0, \"#0d0887\"], [0.1111111111111111, \"#46039f\"], [0.2222222222222222, \"#7201a8\"], [0.3333333333333333, \"#9c179e\"], [0.4444444444444444, \"#bd3786\"], [0.5555555555555556, \"#d8576b\"], [0.6666666666666666, \"#ed7953\"], [0.7777777777777778, \"#fb9f3a\"], [0.8888888888888888, \"#fdca26\"], [1.0, \"#f0f921\"]], \"type\": \"heatmap\"}], \"heatmapgl\": [{\"colorbar\": {\"outlinewidth\": 0, \"ticks\": \"\"}, \"colorscale\": [[0.0, \"#0d0887\"], [0.1111111111111111, \"#46039f\"], [0.2222222222222222, \"#7201a8\"], [0.3333333333333333, \"#9c179e\"], [0.4444444444444444, \"#bd3786\"], [0.5555555555555556, \"#d8576b\"], [0.6666666666666666, \"#ed7953\"], [0.7777777777777778, \"#fb9f3a\"], [0.8888888888888888, \"#fdca26\"], [1.0, \"#f0f921\"]], \"type\": \"heatmapgl\"}], \"histogram\": [{\"marker\": {\"colorbar\": {\"outlinewidth\": 0, \"ticks\": \"\"}}, \"type\": \"histogram\"}], \"histogram2d\": [{\"colorbar\": {\"outlinewidth\": 0, \"ticks\": \"\"}, \"colorscale\": [[0.0, \"#0d0887\"], [0.1111111111111111, \"#46039f\"], [0.2222222222222222, \"#7201a8\"], [0.3333333333333333, \"#9c179e\"], [0.4444444444444444, \"#bd3786\"], [0.5555555555555556, \"#d8576b\"], [0.6666666666666666, \"#ed7953\"], [0.7777777777777778, \"#fb9f3a\"], [0.8888888888888888, \"#fdca26\"], [1.0, \"#f0f921\"]], \"type\": \"histogram2d\"}], \"histogram2dcontour\": [{\"colorbar\": {\"outlinewidth\": 0, \"ticks\": \"\"}, \"colorscale\": [[0.0, \"#0d0887\"], [0.1111111111111111, \"#46039f\"], [0.2222222222222222, \"#7201a8\"], [0.3333333333333333, \"#9c179e\"], [0.4444444444444444, \"#bd3786\"], [0.5555555555555556, \"#d8576b\"], [0.6666666666666666, \"#ed7953\"], [0.7777777777777778, \"#fb9f3a\"], [0.8888888888888888, \"#fdca26\"], [1.0, \"#f0f921\"]], \"type\": \"histogram2dcontour\"}], \"mesh3d\": [{\"colorbar\": {\"outlinewidth\": 0, \"ticks\": \"\"}, \"type\": \"mesh3d\"}], \"parcoords\": [{\"line\": {\"colorbar\": {\"outlinewidth\": 0, \"ticks\": \"\"}}, \"type\": \"parcoords\"}], \"pie\": [{\"automargin\": true, \"type\": \"pie\"}], \"scatter\": [{\"marker\": {\"colorbar\": {\"outlinewidth\": 0, \"ticks\": \"\"}}, \"type\": \"scatter\"}], \"scatter3d\": [{\"line\": {\"colorbar\": {\"outlinewidth\": 0, \"ticks\": \"\"}}, \"marker\": {\"colorbar\": {\"outlinewidth\": 0, \"ticks\": \"\"}}, \"type\": \"scatter3d\"}], \"scattercarpet\": [{\"marker\": {\"colorbar\": {\"outlinewidth\": 0, \"ticks\": \"\"}}, \"type\": \"scattercarpet\"}], \"scattergeo\": [{\"marker\": {\"colorbar\": {\"outlinewidth\": 0, \"ticks\": \"\"}}, \"type\": \"scattergeo\"}], \"scattergl\": [{\"marker\": {\"colorbar\": {\"outlinewidth\": 0, \"ticks\": \"\"}}, \"type\": \"scattergl\"}], \"scattermapbox\": [{\"marker\": {\"colorbar\": {\"outlinewidth\": 0, \"ticks\": \"\"}}, \"type\": \"scattermapbox\"}], \"scatterpolar\": [{\"marker\": {\"colorbar\": {\"outlinewidth\": 0, \"ticks\": \"\"}}, \"type\": \"scatterpolar\"}], \"scatterpolargl\": [{\"marker\": {\"colorbar\": {\"outlinewidth\": 0, \"ticks\": \"\"}}, \"type\": \"scatterpolargl\"}], \"scatterternary\": [{\"marker\": {\"colorbar\": {\"outlinewidth\": 0, \"ticks\": \"\"}}, \"type\": \"scatterternary\"}], \"surface\": [{\"colorbar\": {\"outlinewidth\": 0, \"ticks\": \"\"}, \"colorscale\": [[0.0, \"#0d0887\"], [0.1111111111111111, \"#46039f\"], [0.2222222222222222, \"#7201a8\"], [0.3333333333333333, \"#9c179e\"], [0.4444444444444444, \"#bd3786\"], [0.5555555555555556, \"#d8576b\"], [0.6666666666666666, \"#ed7953\"], [0.7777777777777778, \"#fb9f3a\"], [0.8888888888888888, \"#fdca26\"], [1.0, \"#f0f921\"]], \"type\": \"surface\"}], \"table\": [{\"cells\": {\"fill\": {\"color\": \"#EBF0F8\"}, \"line\": {\"color\": \"white\"}}, \"header\": {\"fill\": {\"color\": \"#C8D4E3\"}, \"line\": {\"color\": \"white\"}}, \"type\": \"table\"}]}, \"layout\": {\"annotationdefaults\": {\"arrowcolor\": \"#2a3f5f\", \"arrowhead\": 0, \"arrowwidth\": 1}, \"coloraxis\": {\"colorbar\": {\"outlinewidth\": 0, \"ticks\": \"\"}}, \"colorscale\": {\"diverging\": [[0, \"#8e0152\"], [0.1, \"#c51b7d\"], [0.2, \"#de77ae\"], [0.3, \"#f1b6da\"], [0.4, \"#fde0ef\"], [0.5, \"#f7f7f7\"], [0.6, \"#e6f5d0\"], [0.7, \"#b8e186\"], [0.8, \"#7fbc41\"], [0.9, \"#4d9221\"], [1, \"#276419\"]], \"sequential\": [[0.0, \"#0d0887\"], [0.1111111111111111, \"#46039f\"], [0.2222222222222222, \"#7201a8\"], [0.3333333333333333, \"#9c179e\"], [0.4444444444444444, \"#bd3786\"], [0.5555555555555556, \"#d8576b\"], [0.6666666666666666, \"#ed7953\"], [0.7777777777777778, \"#fb9f3a\"], [0.8888888888888888, \"#fdca26\"], [1.0, \"#f0f921\"]], \"sequentialminus\": [[0.0, \"#0d0887\"], [0.1111111111111111, \"#46039f\"], [0.2222222222222222, \"#7201a8\"], [0.3333333333333333, \"#9c179e\"], [0.4444444444444444, \"#bd3786\"], [0.5555555555555556, \"#d8576b\"], [0.6666666666666666, \"#ed7953\"], [0.7777777777777778, \"#fb9f3a\"], [0.8888888888888888, \"#fdca26\"], [1.0, \"#f0f921\"]]}, \"colorway\": [\"#636efa\", \"#EF553B\", \"#00cc96\", \"#ab63fa\", \"#FFA15A\", \"#19d3f3\", \"#FF6692\", \"#B6E880\", \"#FF97FF\", \"#FECB52\"], \"font\": {\"color\": \"#2a3f5f\"}, \"geo\": {\"bgcolor\": \"white\", \"lakecolor\": \"white\", \"landcolor\": \"#E5ECF6\", \"showlakes\": true, \"showland\": true, \"subunitcolor\": \"white\"}, \"hoverlabel\": {\"align\": \"left\"}, \"hovermode\": \"closest\", \"mapbox\": {\"style\": \"light\"}, \"paper_bgcolor\": \"white\", \"plot_bgcolor\": \"#E5ECF6\", \"polar\": {\"angularaxis\": {\"gridcolor\": \"white\", \"linecolor\": \"white\", \"ticks\": \"\"}, \"bgcolor\": \"#E5ECF6\", \"radialaxis\": {\"gridcolor\": \"white\", \"linecolor\": \"white\", \"ticks\": \"\"}}, \"scene\": {\"xaxis\": {\"backgroundcolor\": \"#E5ECF6\", \"gridcolor\": \"white\", \"gridwidth\": 2, \"linecolor\": \"white\", \"showbackground\": true, \"ticks\": \"\", \"zerolinecolor\": \"white\"}, \"yaxis\": {\"backgroundcolor\": \"#E5ECF6\", \"gridcolor\": \"white\", \"gridwidth\": 2, \"linecolor\": \"white\", \"showbackground\": true, \"ticks\": \"\", \"zerolinecolor\": \"white\"}, \"zaxis\": {\"backgroundcolor\": \"#E5ECF6\", \"gridcolor\": \"white\", \"gridwidth\": 2, \"linecolor\": \"white\", \"showbackground\": true, \"ticks\": \"\", \"zerolinecolor\": \"white\"}}, \"shapedefaults\": {\"line\": {\"color\": \"#2a3f5f\"}}, \"ternary\": {\"aaxis\": {\"gridcolor\": \"white\", \"linecolor\": \"white\", \"ticks\": \"\"}, \"baxis\": {\"gridcolor\": \"white\", \"linecolor\": \"white\", \"ticks\": \"\"}, \"bgcolor\": \"#E5ECF6\", \"caxis\": {\"gridcolor\": \"white\", \"linecolor\": \"white\", \"ticks\": \"\"}}, \"title\": {\"x\": 0.05}, \"xaxis\": {\"automargin\": true, \"gridcolor\": \"white\", \"linecolor\": \"white\", \"ticks\": \"\", \"title\": {\"standoff\": 15}, \"zerolinecolor\": \"white\", \"zerolinewidth\": 2}, \"yaxis\": {\"automargin\": true, \"gridcolor\": \"white\", \"linecolor\": \"white\", \"ticks\": \"\", \"title\": {\"standoff\": 15}, \"zerolinecolor\": \"white\", \"zerolinewidth\": 2}}}, \"xaxis\": {\"anchor\": \"y2\", \"domain\": [0.0, 1.0], \"zeroline\": false}, \"yaxis\": {\"anchor\": \"free\", \"domain\": [0.35, 1], \"position\": 0.0}, \"yaxis2\": {\"anchor\": \"x\", \"domain\": [0, 0.25], \"dtick\": 1, \"showticklabels\": false}},\n",
              "                        {\"responsive\": true}\n",
              "                    ).then(function(){\n",
              "                            \n",
              "var gd = document.getElementById('3e3c9e10-3c4a-4ec8-a018-7b5f3fe7f28c');\n",
              "var x = new MutationObserver(function (mutations, observer) {{\n",
              "        var display = window.getComputedStyle(gd).display;\n",
              "        if (!display || display === 'none') {{\n",
              "            console.log([gd, 'removed!']);\n",
              "            Plotly.purge(gd);\n",
              "            observer.disconnect();\n",
              "        }}\n",
              "}});\n",
              "\n",
              "// Listen for the removal of the full notebook cells\n",
              "var notebookContainer = gd.closest('#notebook-container');\n",
              "if (notebookContainer) {{\n",
              "    x.observe(notebookContainer, {childList: true});\n",
              "}}\n",
              "\n",
              "// Listen for the clearing of the current output cell\n",
              "var outputEl = gd.closest('.output');\n",
              "if (outputEl) {{\n",
              "    x.observe(outputEl, {childList: true});\n",
              "}}\n",
              "\n",
              "                        })\n",
              "                };\n",
              "                \n",
              "            </script>\n",
              "        </div>\n",
              "</body>\n",
              "</html>"
            ]
          },
          "metadata": {
            "tags": []
          }
        }
      ]
    },
    {
      "cell_type": "markdown",
      "metadata": {
        "id": "8erQkrLvX9PO",
        "colab_type": "text"
      },
      "source": [
        "**Histograma Após a limpeza nos dados**"
      ]
    },
    {
      "cell_type": "code",
      "metadata": {
        "id": "FX5QwcyxX8iV",
        "colab_type": "code",
        "outputId": "6ce57c95-b6b1-4117-e752-f0565a321b0e",
        "colab": {
          "base_uri": "https://localhost:8080/",
          "height": 542
        }
      },
      "source": [
        "fig = px.histogram(dados_limp, x=\"MEDV\", nbins=50, opacity=0.50)\n",
        "fig.show()"
      ],
      "execution_count": 0,
      "outputs": [
        {
          "output_type": "display_data",
          "data": {
            "text/html": [
              "<html>\n",
              "<head><meta charset=\"utf-8\" /></head>\n",
              "<body>\n",
              "    <div>\n",
              "            <script src=\"https://cdnjs.cloudflare.com/ajax/libs/mathjax/2.7.5/MathJax.js?config=TeX-AMS-MML_SVG\"></script><script type=\"text/javascript\">if (window.MathJax) {MathJax.Hub.Config({SVG: {font: \"STIX-Web\"}});}</script>\n",
              "                <script type=\"text/javascript\">window.PlotlyConfig = {MathJaxConfig: 'local'};</script>\n",
              "        <script src=\"https://cdn.plot.ly/plotly-latest.min.js\"></script>    \n",
              "            <div id=\"2f579c59-74bd-4edb-96be-9d52ddd91a21\" class=\"plotly-graph-div\" style=\"height:525px; width:100%;\"></div>\n",
              "            <script type=\"text/javascript\">\n",
              "                \n",
              "                    window.PLOTLYENV=window.PLOTLYENV || {};\n",
              "                    \n",
              "                if (document.getElementById(\"2f579c59-74bd-4edb-96be-9d52ddd91a21\")) {\n",
              "                    Plotly.newPlot(\n",
              "                        '2f579c59-74bd-4edb-96be-9d52ddd91a21',\n",
              "                        [{\"alignmentgroup\": \"True\", \"bingroup\": \"x\", \"hoverlabel\": {\"namelength\": 0}, \"hovertemplate\": \"MEDV=%{x}<br>count=%{y}\", \"legendgroup\": \"\", \"marker\": {\"color\": \"#636efa\", \"opacity\": 0.5}, \"name\": \"\", \"nbinsx\": 50, \"offsetgroup\": \"\", \"orientation\": \"v\", \"showlegend\": false, \"type\": \"histogram\", \"x\": [24.0, 21.6, 34.7, 33.4, 36.2, 28.7, 22.9, 27.1, 16.5, 18.9, 15.0, 18.9, 21.7, 20.4, 18.2, 19.9, 23.1, 17.5, 20.2, 18.2, 13.6, 19.6, 15.2, 14.5, 15.6, 13.9, 16.6, 14.8, 18.4, 21.0, 12.7, 14.5, 13.2, 13.1, 13.5, 18.9, 20.0, 21.0, 24.7, 30.8, 34.9, 26.6, 25.3, 24.7, 21.2, 19.3, 20.0, 16.6, 14.4, 19.4, 19.7, 20.5, 25.0, 23.4, 18.9, 35.4, 24.7, 31.6, 23.3, 19.6, 18.7, 16.0, 22.2, 25.0, 33.0, 23.5, 19.4, 22.0, 17.4, 20.9, 24.2, 21.7, 22.8, 23.4, 24.1, 21.4, 20.0, 20.8, 21.2, 20.3, 28.0, 23.9, 24.8, 22.9, 23.9, 26.6, 22.5, 22.2, 23.6, 28.7, 22.6, 22.0, 22.9, 25.0, 20.6, 28.4, 21.4, 38.7, 43.8, 33.2, 27.5, 26.5, 18.6, 19.3, 20.1, 19.5, 19.5, 20.4, 19.8, 19.4, 21.7, 22.8, 18.8, 18.7, 18.5, 18.3, 21.2, 19.2, 20.4, 19.3, 22.0, 20.3, 20.5, 17.3, 18.8, 21.4, 15.7, 16.2, 18.0, 14.3, 19.2, 19.6, 23.0, 18.4, 15.6, 18.1, 17.4, 17.1, 13.3, 17.8, 14.0, 14.4, 13.4, 15.6, 11.8, 13.8, 15.6, 14.6, 17.8, 15.4, 21.5, 19.6, 15.3, 19.4, 17.0, 15.6, 13.1, 41.3, 24.3, 23.3, 27.0, 22.7, 25.0, 23.8, 23.8, 22.3, 17.4, 19.1, 23.1, 23.6, 22.6, 29.4, 23.2, 24.6, 29.9, 37.2, 39.8, 36.2, 37.9, 32.5, 26.4, 29.6, 32.0, 29.8, 34.9, 37.0, 30.5, 36.4, 31.1, 29.1, 33.3, 30.3, 34.6, 34.9, 32.9, 24.1, 42.3, 48.5, 22.6, 24.4, 22.5, 24.4, 20.0, 21.7, 19.3, 22.4, 28.1, 23.7, 25.0, 23.3, 28.7, 21.5, 23.0, 26.7, 21.7, 27.5, 30.1, 44.8, 37.6, 31.6, 46.7, 31.5, 24.3, 31.7, 41.7, 48.3, 29.0, 24.0, 25.1, 31.5, 23.7, 23.3, 22.0, 20.1, 22.2, 23.7, 17.6, 18.5, 24.3, 20.5, 24.5, 26.2, 24.4, 24.8, 29.6, 42.8, 21.9, 20.9, 44.0, 36.0, 30.1, 33.8, 43.1, 48.8, 31.0, 36.5, 22.8, 30.7, 43.5, 20.7, 21.1, 25.2, 24.4, 35.2, 32.4, 32.0, 33.2, 33.1, 29.1, 35.1, 45.4, 35.4, 46.0, 32.2, 22.0, 20.1, 23.2, 22.3, 24.8, 28.5, 37.3, 27.9, 23.9, 21.7, 28.6, 27.1, 20.3, 22.5, 29.0, 24.8, 22.0, 26.4, 33.1, 36.1, 28.4, 33.4, 28.2, 22.8, 20.3, 16.1, 22.1, 19.4, 21.6, 23.8, 16.2, 17.8, 19.8, 23.1, 21.0, 23.8, 23.1, 20.4, 18.5, 25.0, 24.6, 23.0, 22.2, 19.3, 22.6, 19.8, 17.1, 19.4, 22.2, 20.7, 21.1, 19.5, 18.5, 20.6, 19.0, 18.7, 32.7, 16.5, 23.9, 31.2, 17.5, 17.2, 23.1, 24.5, 26.6, 22.9, 24.1, 18.6, 30.1, 18.2, 20.6, 17.8, 21.7, 22.7, 22.6, 25.0, 19.9, 20.8, 16.8, 21.9, 27.5, 21.9, 23.1, 13.8, 13.8, 15.0, 13.9, 13.3, 13.1, 10.2, 10.4, 10.9, 11.3, 12.3, 8.8, 7.2, 10.5, 7.4, 10.2, 11.5, 15.1, 23.2, 9.7, 13.8, 12.7, 13.1, 12.5, 8.5, 5.0, 6.3, 5.6, 7.2, 12.1, 8.3, 8.5, 5.0, 11.9, 27.9, 17.2, 27.5, 15.0, 17.2, 17.9, 16.3, 7.0, 7.2, 7.5, 10.4, 8.8, 8.4, 16.7, 14.2, 20.8, 13.4, 11.7, 8.3, 10.2, 10.9, 11.0, 9.5, 14.5, 14.1, 16.1, 14.3, 11.7, 13.4, 9.6, 8.7, 8.4, 12.8, 10.5, 17.1, 18.4, 15.4, 10.8, 11.8, 14.9, 12.6, 14.1, 13.0, 13.4, 15.2, 16.1, 17.8, 14.9, 14.1, 12.7, 13.5, 14.9, 20.0, 16.4, 17.7, 19.5, 20.2, 21.4, 19.9, 19.0, 19.1, 19.1, 20.1, 19.9, 19.6, 23.2, 29.8, 13.8, 13.3, 16.7, 12.0, 14.6, 21.4, 23.0, 23.7, 25.0, 21.8, 20.6, 21.2, 19.1, 20.6, 15.2, 7.0, 8.1, 13.6, 20.1, 21.8, 24.5, 23.1, 19.7, 18.3, 21.2, 17.5, 16.8, 22.4, 20.6, 23.9, 22.0, 11.9], \"xaxis\": \"x\", \"yaxis\": \"y\"}],\n",
              "                        {\"barmode\": \"relative\", \"legend\": {\"tracegroupgap\": 0}, \"margin\": {\"t\": 60}, \"template\": {\"data\": {\"bar\": [{\"error_x\": {\"color\": \"#2a3f5f\"}, \"error_y\": {\"color\": \"#2a3f5f\"}, \"marker\": {\"line\": {\"color\": \"#E5ECF6\", \"width\": 0.5}}, \"type\": \"bar\"}], \"barpolar\": [{\"marker\": {\"line\": {\"color\": \"#E5ECF6\", \"width\": 0.5}}, \"type\": \"barpolar\"}], \"carpet\": [{\"aaxis\": {\"endlinecolor\": \"#2a3f5f\", \"gridcolor\": \"white\", \"linecolor\": \"white\", \"minorgridcolor\": \"white\", \"startlinecolor\": \"#2a3f5f\"}, \"baxis\": {\"endlinecolor\": \"#2a3f5f\", \"gridcolor\": \"white\", \"linecolor\": \"white\", \"minorgridcolor\": \"white\", \"startlinecolor\": \"#2a3f5f\"}, \"type\": \"carpet\"}], \"choropleth\": [{\"colorbar\": {\"outlinewidth\": 0, \"ticks\": \"\"}, \"type\": \"choropleth\"}], \"contour\": [{\"colorbar\": {\"outlinewidth\": 0, \"ticks\": \"\"}, \"colorscale\": [[0.0, \"#0d0887\"], [0.1111111111111111, \"#46039f\"], [0.2222222222222222, \"#7201a8\"], [0.3333333333333333, \"#9c179e\"], [0.4444444444444444, \"#bd3786\"], [0.5555555555555556, \"#d8576b\"], [0.6666666666666666, \"#ed7953\"], [0.7777777777777778, \"#fb9f3a\"], [0.8888888888888888, \"#fdca26\"], [1.0, \"#f0f921\"]], \"type\": \"contour\"}], \"contourcarpet\": [{\"colorbar\": {\"outlinewidth\": 0, \"ticks\": \"\"}, \"type\": \"contourcarpet\"}], \"heatmap\": [{\"colorbar\": {\"outlinewidth\": 0, \"ticks\": \"\"}, \"colorscale\": [[0.0, \"#0d0887\"], [0.1111111111111111, \"#46039f\"], [0.2222222222222222, \"#7201a8\"], [0.3333333333333333, \"#9c179e\"], [0.4444444444444444, \"#bd3786\"], [0.5555555555555556, \"#d8576b\"], [0.6666666666666666, \"#ed7953\"], [0.7777777777777778, \"#fb9f3a\"], [0.8888888888888888, \"#fdca26\"], [1.0, \"#f0f921\"]], \"type\": \"heatmap\"}], \"heatmapgl\": [{\"colorbar\": {\"outlinewidth\": 0, \"ticks\": \"\"}, \"colorscale\": [[0.0, \"#0d0887\"], [0.1111111111111111, \"#46039f\"], [0.2222222222222222, \"#7201a8\"], [0.3333333333333333, \"#9c179e\"], [0.4444444444444444, \"#bd3786\"], [0.5555555555555556, \"#d8576b\"], [0.6666666666666666, \"#ed7953\"], [0.7777777777777778, \"#fb9f3a\"], [0.8888888888888888, \"#fdca26\"], [1.0, \"#f0f921\"]], \"type\": \"heatmapgl\"}], \"histogram\": [{\"marker\": {\"colorbar\": {\"outlinewidth\": 0, \"ticks\": \"\"}}, \"type\": \"histogram\"}], \"histogram2d\": [{\"colorbar\": {\"outlinewidth\": 0, \"ticks\": \"\"}, \"colorscale\": [[0.0, \"#0d0887\"], [0.1111111111111111, \"#46039f\"], [0.2222222222222222, \"#7201a8\"], [0.3333333333333333, \"#9c179e\"], [0.4444444444444444, \"#bd3786\"], [0.5555555555555556, \"#d8576b\"], [0.6666666666666666, \"#ed7953\"], [0.7777777777777778, \"#fb9f3a\"], [0.8888888888888888, \"#fdca26\"], [1.0, \"#f0f921\"]], \"type\": \"histogram2d\"}], \"histogram2dcontour\": [{\"colorbar\": {\"outlinewidth\": 0, \"ticks\": \"\"}, \"colorscale\": [[0.0, \"#0d0887\"], [0.1111111111111111, \"#46039f\"], [0.2222222222222222, \"#7201a8\"], [0.3333333333333333, \"#9c179e\"], [0.4444444444444444, \"#bd3786\"], [0.5555555555555556, \"#d8576b\"], [0.6666666666666666, \"#ed7953\"], [0.7777777777777778, \"#fb9f3a\"], [0.8888888888888888, \"#fdca26\"], [1.0, \"#f0f921\"]], \"type\": \"histogram2dcontour\"}], \"mesh3d\": [{\"colorbar\": {\"outlinewidth\": 0, \"ticks\": \"\"}, \"type\": \"mesh3d\"}], \"parcoords\": [{\"line\": {\"colorbar\": {\"outlinewidth\": 0, \"ticks\": \"\"}}, \"type\": \"parcoords\"}], \"pie\": [{\"automargin\": true, \"type\": \"pie\"}], \"scatter\": [{\"marker\": {\"colorbar\": {\"outlinewidth\": 0, \"ticks\": \"\"}}, \"type\": \"scatter\"}], \"scatter3d\": [{\"line\": {\"colorbar\": {\"outlinewidth\": 0, \"ticks\": \"\"}}, \"marker\": {\"colorbar\": {\"outlinewidth\": 0, \"ticks\": \"\"}}, \"type\": \"scatter3d\"}], \"scattercarpet\": [{\"marker\": {\"colorbar\": {\"outlinewidth\": 0, \"ticks\": \"\"}}, \"type\": \"scattercarpet\"}], \"scattergeo\": [{\"marker\": {\"colorbar\": {\"outlinewidth\": 0, \"ticks\": \"\"}}, \"type\": \"scattergeo\"}], \"scattergl\": [{\"marker\": {\"colorbar\": {\"outlinewidth\": 0, \"ticks\": \"\"}}, \"type\": \"scattergl\"}], \"scattermapbox\": [{\"marker\": {\"colorbar\": {\"outlinewidth\": 0, \"ticks\": \"\"}}, \"type\": \"scattermapbox\"}], \"scatterpolar\": [{\"marker\": {\"colorbar\": {\"outlinewidth\": 0, \"ticks\": \"\"}}, \"type\": \"scatterpolar\"}], \"scatterpolargl\": [{\"marker\": {\"colorbar\": {\"outlinewidth\": 0, \"ticks\": \"\"}}, \"type\": \"scatterpolargl\"}], \"scatterternary\": [{\"marker\": {\"colorbar\": {\"outlinewidth\": 0, \"ticks\": \"\"}}, \"type\": \"scatterternary\"}], \"surface\": [{\"colorbar\": {\"outlinewidth\": 0, \"ticks\": \"\"}, \"colorscale\": [[0.0, \"#0d0887\"], [0.1111111111111111, \"#46039f\"], [0.2222222222222222, \"#7201a8\"], [0.3333333333333333, \"#9c179e\"], [0.4444444444444444, \"#bd3786\"], [0.5555555555555556, \"#d8576b\"], [0.6666666666666666, \"#ed7953\"], [0.7777777777777778, \"#fb9f3a\"], [0.8888888888888888, \"#fdca26\"], [1.0, \"#f0f921\"]], \"type\": \"surface\"}], \"table\": [{\"cells\": {\"fill\": {\"color\": \"#EBF0F8\"}, \"line\": {\"color\": \"white\"}}, \"header\": {\"fill\": {\"color\": \"#C8D4E3\"}, \"line\": {\"color\": \"white\"}}, \"type\": \"table\"}]}, \"layout\": {\"annotationdefaults\": {\"arrowcolor\": \"#2a3f5f\", \"arrowhead\": 0, \"arrowwidth\": 1}, \"coloraxis\": {\"colorbar\": {\"outlinewidth\": 0, \"ticks\": \"\"}}, \"colorscale\": {\"diverging\": [[0, \"#8e0152\"], [0.1, \"#c51b7d\"], [0.2, \"#de77ae\"], [0.3, \"#f1b6da\"], [0.4, \"#fde0ef\"], [0.5, \"#f7f7f7\"], [0.6, \"#e6f5d0\"], [0.7, \"#b8e186\"], [0.8, \"#7fbc41\"], [0.9, \"#4d9221\"], [1, \"#276419\"]], \"sequential\": [[0.0, \"#0d0887\"], [0.1111111111111111, \"#46039f\"], [0.2222222222222222, \"#7201a8\"], [0.3333333333333333, \"#9c179e\"], [0.4444444444444444, \"#bd3786\"], [0.5555555555555556, \"#d8576b\"], [0.6666666666666666, \"#ed7953\"], [0.7777777777777778, \"#fb9f3a\"], [0.8888888888888888, \"#fdca26\"], [1.0, \"#f0f921\"]], \"sequentialminus\": [[0.0, \"#0d0887\"], [0.1111111111111111, \"#46039f\"], [0.2222222222222222, \"#7201a8\"], [0.3333333333333333, \"#9c179e\"], [0.4444444444444444, \"#bd3786\"], [0.5555555555555556, \"#d8576b\"], [0.6666666666666666, \"#ed7953\"], [0.7777777777777778, \"#fb9f3a\"], [0.8888888888888888, \"#fdca26\"], [1.0, \"#f0f921\"]]}, \"colorway\": [\"#636efa\", \"#EF553B\", \"#00cc96\", \"#ab63fa\", \"#FFA15A\", \"#19d3f3\", \"#FF6692\", \"#B6E880\", \"#FF97FF\", \"#FECB52\"], \"font\": {\"color\": \"#2a3f5f\"}, \"geo\": {\"bgcolor\": \"white\", \"lakecolor\": \"white\", \"landcolor\": \"#E5ECF6\", \"showlakes\": true, \"showland\": true, \"subunitcolor\": \"white\"}, \"hoverlabel\": {\"align\": \"left\"}, \"hovermode\": \"closest\", \"mapbox\": {\"style\": \"light\"}, \"paper_bgcolor\": \"white\", \"plot_bgcolor\": \"#E5ECF6\", \"polar\": {\"angularaxis\": {\"gridcolor\": \"white\", \"linecolor\": \"white\", \"ticks\": \"\"}, \"bgcolor\": \"#E5ECF6\", \"radialaxis\": {\"gridcolor\": \"white\", \"linecolor\": \"white\", \"ticks\": \"\"}}, \"scene\": {\"xaxis\": {\"backgroundcolor\": \"#E5ECF6\", \"gridcolor\": \"white\", \"gridwidth\": 2, \"linecolor\": \"white\", \"showbackground\": true, \"ticks\": \"\", \"zerolinecolor\": \"white\"}, \"yaxis\": {\"backgroundcolor\": \"#E5ECF6\", \"gridcolor\": \"white\", \"gridwidth\": 2, \"linecolor\": \"white\", \"showbackground\": true, \"ticks\": \"\", \"zerolinecolor\": \"white\"}, \"zaxis\": {\"backgroundcolor\": \"#E5ECF6\", \"gridcolor\": \"white\", \"gridwidth\": 2, \"linecolor\": \"white\", \"showbackground\": true, \"ticks\": \"\", \"zerolinecolor\": \"white\"}}, \"shapedefaults\": {\"line\": {\"color\": \"#2a3f5f\"}}, \"ternary\": {\"aaxis\": {\"gridcolor\": \"white\", \"linecolor\": \"white\", \"ticks\": \"\"}, \"baxis\": {\"gridcolor\": \"white\", \"linecolor\": \"white\", \"ticks\": \"\"}, \"bgcolor\": \"#E5ECF6\", \"caxis\": {\"gridcolor\": \"white\", \"linecolor\": \"white\", \"ticks\": \"\"}}, \"title\": {\"x\": 0.05}, \"xaxis\": {\"automargin\": true, \"gridcolor\": \"white\", \"linecolor\": \"white\", \"ticks\": \"\", \"title\": {\"standoff\": 15}, \"zerolinecolor\": \"white\", \"zerolinewidth\": 2}, \"yaxis\": {\"automargin\": true, \"gridcolor\": \"white\", \"linecolor\": \"white\", \"ticks\": \"\", \"title\": {\"standoff\": 15}, \"zerolinecolor\": \"white\", \"zerolinewidth\": 2}}}, \"xaxis\": {\"anchor\": \"y\", \"domain\": [0.0, 1.0], \"title\": {\"text\": \"MEDV\"}}, \"yaxis\": {\"anchor\": \"x\", \"domain\": [0.0, 1.0], \"title\": {\"text\": \"count\"}}},\n",
              "                        {\"responsive\": true}\n",
              "                    ).then(function(){\n",
              "                            \n",
              "var gd = document.getElementById('2f579c59-74bd-4edb-96be-9d52ddd91a21');\n",
              "var x = new MutationObserver(function (mutations, observer) {{\n",
              "        var display = window.getComputedStyle(gd).display;\n",
              "        if (!display || display === 'none') {{\n",
              "            console.log([gd, 'removed!']);\n",
              "            Plotly.purge(gd);\n",
              "            observer.disconnect();\n",
              "        }}\n",
              "}});\n",
              "\n",
              "// Listen for the removal of the full notebook cells\n",
              "var notebookContainer = gd.closest('#notebook-container');\n",
              "if (notebookContainer) {{\n",
              "    x.observe(notebookContainer, {childList: true});\n",
              "}}\n",
              "\n",
              "// Listen for the clearing of the current output cell\n",
              "var outputEl = gd.closest('.output');\n",
              "if (outputEl) {{\n",
              "    x.observe(outputEl, {childList: true});\n",
              "}}\n",
              "\n",
              "                        })\n",
              "                };\n",
              "                \n",
              "            </script>\n",
              "        </div>\n",
              "</body>\n",
              "</html>"
            ]
          },
          "metadata": {
            "tags": []
          }
        }
      ]
    },
    {
      "cell_type": "markdown",
      "metadata": {
        "id": "c9qkPL04YPy5",
        "colab_type": "text"
      },
      "source": [
        "**Exibindo novo coeficiente de Pearson**"
      ]
    },
    {
      "cell_type": "code",
      "metadata": {
        "id": "GAytDCQ8YFCn",
        "colab_type": "code",
        "outputId": "c8915259-3ff4-4656-8726-55ca3f4fbd91",
        "colab": {
          "base_uri": "https://localhost:8080/",
          "height": 34
        }
      },
      "source": [
        "stats.skew(dados_limp.MEDV)"
      ],
      "execution_count": 0,
      "outputs": [
        {
          "output_type": "execute_result",
          "data": {
            "text/plain": [
              "0.7732836030909053"
            ]
          },
          "metadata": {
            "tags": []
          },
          "execution_count": 56
        }
      ]
    },
    {
      "cell_type": "markdown",
      "metadata": {
        "id": "ryCYB0DQWe0g",
        "colab_type": "text"
      },
      "source": [
        "# Dados originais x Dados após a Limpeza"
      ]
    },
    {
      "cell_type": "markdown",
      "metadata": {
        "id": "Y1MWCOERXoTo",
        "colab_type": "text"
      },
      "source": [
        "**Distribuição antes da limpeza nos dados**"
      ]
    },
    {
      "cell_type": "code",
      "metadata": {
        "id": "QmBFKbxqVwmY",
        "colab_type": "code",
        "outputId": "603e3377-fbdb-49f9-be6f-6e5696319850",
        "colab": {
          "base_uri": "https://localhost:8080/",
          "height": 542
        }
      },
      "source": [
        "label = ['Distribuição da label MEDV (Preço correspondente para o imóvel) Após a Limpeza nos dados']\n",
        "fig = ff.create_distplot([dados.MEDV], label, bin_size=.2)\n",
        "fig.show()"
      ],
      "execution_count": 0,
      "outputs": [
        {
          "output_type": "display_data",
          "data": {
            "text/html": [
              "<html>\n",
              "<head><meta charset=\"utf-8\" /></head>\n",
              "<body>\n",
              "    <div>\n",
              "            <script src=\"https://cdnjs.cloudflare.com/ajax/libs/mathjax/2.7.5/MathJax.js?config=TeX-AMS-MML_SVG\"></script><script type=\"text/javascript\">if (window.MathJax) {MathJax.Hub.Config({SVG: {font: \"STIX-Web\"}});}</script>\n",
              "                <script type=\"text/javascript\">window.PlotlyConfig = {MathJaxConfig: 'local'};</script>\n",
              "        <script src=\"https://cdn.plot.ly/plotly-latest.min.js\"></script>    \n",
              "            <div id=\"a4861c7a-0fdb-4c21-b1ef-18ac83bddaad\" class=\"plotly-graph-div\" style=\"height:525px; width:100%;\"></div>\n",
              "            <script type=\"text/javascript\">\n",
              "                \n",
              "                    window.PLOTLYENV=window.PLOTLYENV || {};\n",
              "                    \n",
              "                if (document.getElementById(\"a4861c7a-0fdb-4c21-b1ef-18ac83bddaad\")) {\n",
              "                    Plotly.newPlot(\n",
              "                        'a4861c7a-0fdb-4c21-b1ef-18ac83bddaad',\n",
              "                        [{\"autobinx\": false, \"histnorm\": \"probability density\", \"legendgroup\": \"Distribui\\u00e7\\u00e3o da label MEDV (Pre\\u00e7o correspondente para o im\\u00f3vel) Ap\\u00f3s a Limpeza nos dados\", \"marker\": {\"color\": \"rgb(31, 119, 180)\"}, \"name\": \"Distribui\\u00e7\\u00e3o da label MEDV (Pre\\u00e7o correspondente para o im\\u00f3vel) Ap\\u00f3s a Limpeza nos dados\", \"opacity\": 0.7, \"type\": \"histogram\", \"x\": [24.0, 21.6, 34.7, 33.4, 36.2, 28.7, 22.9, 27.1, 16.5, 18.9, 15.0, 18.9, 21.7, 20.4, 18.2, 19.9, 23.1, 17.5, 20.2, 18.2, 13.6, 19.6, 15.2, 14.5, 15.6, 13.9, 16.6, 14.8, 18.4, 21.0, 12.7, 14.5, 13.2, 13.1, 13.5, 18.9, 20.0, 21.0, 24.7, 30.8, 34.9, 26.6, 25.3, 24.7, 21.2, 19.3, 20.0, 16.6, 14.4, 19.4, 19.7, 20.5, 25.0, 23.4, 18.9, 35.4, 24.7, 31.6, 23.3, 19.6, 18.7, 16.0, 22.2, 25.0, 33.0, 23.5, 19.4, 22.0, 17.4, 20.9, 24.2, 21.7, 22.8, 23.4, 24.1, 21.4, 20.0, 20.8, 21.2, 20.3, 28.0, 23.9, 24.8, 22.9, 23.9, 26.6, 22.5, 22.2, 23.6, 28.7, 22.6, 22.0, 22.9, 25.0, 20.6, 28.4, 21.4, 38.7, 43.8, 33.2, 27.5, 26.5, 18.6, 19.3, 20.1, 19.5, 19.5, 20.4, 19.8, 19.4, 21.7, 22.8, 18.8, 18.7, 18.5, 18.3, 21.2, 19.2, 20.4, 19.3, 22.0, 20.3, 20.5, 17.3, 18.8, 21.4, 15.7, 16.2, 18.0, 14.3, 19.2, 19.6, 23.0, 18.4, 15.6, 18.1, 17.4, 17.1, 13.3, 17.8, 14.0, 14.4, 13.4, 15.6, 11.8, 13.8, 15.6, 14.6, 17.8, 15.4, 21.5, 19.6, 15.3, 19.4, 17.0, 15.6, 13.1, 41.3, 24.3, 23.3, 27.0, 50.0, 50.0, 50.0, 22.7, 25.0, 50.0, 23.8, 23.8, 22.3, 17.4, 19.1, 23.1, 23.6, 22.6, 29.4, 23.2, 24.6, 29.9, 37.2, 39.8, 36.2, 37.9, 32.5, 26.4, 29.6, 50.0, 32.0, 29.8, 34.9, 37.0, 30.5, 36.4, 31.1, 29.1, 50.0, 33.3, 30.3, 34.6, 34.9, 32.9, 24.1, 42.3, 48.5, 50.0, 22.6, 24.4, 22.5, 24.4, 20.0, 21.7, 19.3, 22.4, 28.1, 23.7, 25.0, 23.3, 28.7, 21.5, 23.0, 26.7, 21.7, 27.5, 30.1, 44.8, 50.0, 37.6, 31.6, 46.7, 31.5, 24.3, 31.7, 41.7, 48.3, 29.0, 24.0, 25.1, 31.5, 23.7, 23.3, 22.0, 20.1, 22.2, 23.7, 17.6, 18.5, 24.3, 20.5, 24.5, 26.2, 24.4, 24.8, 29.6, 42.8, 21.9, 20.9, 44.0, 50.0, 36.0, 30.1, 33.8, 43.1, 48.8, 31.0, 36.5, 22.8, 30.7, 50.0, 43.5, 20.7, 21.1, 25.2, 24.4, 35.2, 32.4, 32.0, 33.2, 33.1, 29.1, 35.1, 45.4, 35.4, 46.0, 50.0, 32.2, 22.0, 20.1, 23.2, 22.3, 24.8, 28.5, 37.3, 27.9, 23.9, 21.7, 28.6, 27.1, 20.3, 22.5, 29.0, 24.8, 22.0, 26.4, 33.1, 36.1, 28.4, 33.4, 28.2, 22.8, 20.3, 16.1, 22.1, 19.4, 21.6, 23.8, 16.2, 17.8, 19.8, 23.1, 21.0, 23.8, 23.1, 20.4, 18.5, 25.0, 24.6, 23.0, 22.2, 19.3, 22.6, 19.8, 17.1, 19.4, 22.2, 20.7, 21.1, 19.5, 18.5, 20.6, 19.0, 18.7, 32.7, 16.5, 23.9, 31.2, 17.5, 17.2, 23.1, 24.5, 26.6, 22.9, 24.1, 18.6, 30.1, 18.2, 20.6, 17.8, 21.7, 22.7, 22.6, 25.0, 19.9, 20.8, 16.8, 21.9, 27.5, 21.9, 23.1, 50.0, 50.0, 50.0, 50.0, 50.0, 13.8, 13.8, 15.0, 13.9, 13.3, 13.1, 10.2, 10.4, 10.9, 11.3, 12.3, 8.8, 7.2, 10.5, 7.4, 10.2, 11.5, 15.1, 23.2, 9.7, 13.8, 12.7, 13.1, 12.5, 8.5, 5.0, 6.3, 5.6, 7.2, 12.1, 8.3, 8.5, 5.0, 11.9, 27.9, 17.2, 27.5, 15.0, 17.2, 17.9, 16.3, 7.0, 7.2, 7.5, 10.4, 8.8, 8.4, 16.7, 14.2, 20.8, 13.4, 11.7, 8.3, 10.2, 10.9, 11.0, 9.5, 14.5, 14.1, 16.1, 14.3, 11.7, 13.4, 9.6, 8.7, 8.4, 12.8, 10.5, 17.1, 18.4, 15.4, 10.8, 11.8, 14.9, 12.6, 14.1, 13.0, 13.4, 15.2, 16.1, 17.8, 14.9, 14.1, 12.7, 13.5, 14.9, 20.0, 16.4, 17.7, 19.5, 20.2, 21.4, 19.9, 19.0, 19.1, 19.1, 20.1, 19.9, 19.6, 23.2, 29.8, 13.8, 13.3, 16.7, 12.0, 14.6, 21.4, 23.0, 23.7, 25.0, 21.8, 20.6, 21.2, 19.1, 20.6, 15.2, 7.0, 8.1, 13.6, 20.1, 21.8, 24.5, 23.1, 19.7, 18.3, 21.2, 17.5, 16.8, 22.4, 20.6, 23.9, 22.0, 11.9], \"xaxis\": \"x\", \"xbins\": {\"end\": 50.0, \"size\": 0.2, \"start\": 5.0}, \"yaxis\": \"y\"}, {\"legendgroup\": \"Distribui\\u00e7\\u00e3o da label MEDV (Pre\\u00e7o correspondente para o im\\u00f3vel) Ap\\u00f3s a Limpeza nos dados\", \"marker\": {\"color\": \"rgb(31, 119, 180)\"}, \"mode\": \"lines\", \"name\": \"Distribui\\u00e7\\u00e3o da label MEDV (Pre\\u00e7o correspondente para o im\\u00f3vel) Ap\\u00f3s a Limpeza nos dados\", \"showlegend\": false, \"type\": \"scatter\", \"x\": [5.0, 5.09, 5.18, 5.27, 5.36, 5.45, 5.54, 5.63, 5.72, 5.8100000000000005, 5.9, 5.99, 6.08, 6.17, 6.26, 6.35, 6.4399999999999995, 6.53, 6.62, 6.71, 6.8, 6.89, 6.98, 7.07, 7.16, 7.25, 7.34, 7.43, 7.52, 7.609999999999999, 7.7, 7.79, 7.88, 7.970000000000001, 8.06, 8.15, 8.24, 8.33, 8.42, 8.51, 8.6, 8.69, 8.78, 8.870000000000001, 8.96, 9.05, 9.14, 9.23, 9.32, 9.41, 9.5, 9.59, 9.68, 9.77, 9.86, 9.95, 10.04, 10.129999999999999, 10.219999999999999, 10.309999999999999, 10.4, 10.49, 10.58, 10.67, 10.76, 10.85, 10.940000000000001, 11.030000000000001, 11.120000000000001, 11.21, 11.3, 11.39, 11.48, 11.57, 11.66, 11.75, 11.84, 11.93, 12.02, 12.11, 12.2, 12.29, 12.379999999999999, 12.469999999999999, 12.559999999999999, 12.65, 12.74, 12.83, 12.92, 13.01, 13.1, 13.19, 13.28, 13.37, 13.46, 13.55, 13.64, 13.73, 13.82, 13.91, 14.0, 14.09, 14.18, 14.27, 14.36, 14.45, 14.54, 14.63, 14.72, 14.81, 14.9, 14.99, 15.08, 15.17, 15.26, 15.35, 15.44, 15.53, 15.62, 15.71, 15.8, 15.89, 15.98, 16.07, 16.16, 16.25, 16.34, 16.43, 16.52, 16.61, 16.7, 16.79, 16.880000000000003, 16.97, 17.060000000000002, 17.15, 17.240000000000002, 17.33, 17.42, 17.509999999999998, 17.6, 17.689999999999998, 17.78, 17.869999999999997, 17.96, 18.05, 18.14, 18.23, 18.32, 18.41, 18.5, 18.59, 18.68, 18.77, 18.86, 18.95, 19.04, 19.130000000000003, 19.22, 19.310000000000002, 19.4, 19.490000000000002, 19.58, 19.67, 19.759999999999998, 19.85, 19.939999999999998, 20.03, 20.119999999999997, 20.21, 20.3, 20.39, 20.48, 20.57, 20.66, 20.75, 20.84, 20.93, 21.02, 21.11, 21.2, 21.29, 21.38, 21.47, 21.56, 21.65, 21.74, 21.83, 21.92, 22.01, 22.1, 22.19, 22.28, 22.37, 22.46, 22.55, 22.64, 22.73, 22.82, 22.91, 23.0, 23.09, 23.18, 23.27, 23.36, 23.45, 23.54, 23.63, 23.72, 23.81, 23.9, 23.99, 24.08, 24.17, 24.26, 24.35, 24.44, 24.53, 24.62, 24.71, 24.8, 24.89, 24.98, 25.07, 25.16, 25.25, 25.34, 25.43, 25.52, 25.61, 25.7, 25.79, 25.88, 25.97, 26.06, 26.15, 26.24, 26.33, 26.42, 26.51, 26.6, 26.69, 26.78, 26.87, 26.96, 27.05, 27.14, 27.23, 27.32, 27.41, 27.5, 27.59, 27.68, 27.77, 27.86, 27.95, 28.04, 28.13, 28.22, 28.31, 28.4, 28.49, 28.58, 28.67, 28.76, 28.85, 28.94, 29.03, 29.12, 29.21, 29.3, 29.39, 29.48, 29.57, 29.66, 29.75, 29.84, 29.93, 30.02, 30.11, 30.2, 30.29, 30.38, 30.47, 30.56, 30.65, 30.74, 30.83, 30.92, 31.01, 31.1, 31.19, 31.28, 31.37, 31.46, 31.55, 31.64, 31.73, 31.82, 31.91, 32.0, 32.09, 32.18, 32.269999999999996, 32.36, 32.45, 32.54, 32.629999999999995, 32.72, 32.81, 32.9, 32.989999999999995, 33.08, 33.17, 33.260000000000005, 33.35, 33.44, 33.53, 33.620000000000005, 33.71, 33.8, 33.89, 33.980000000000004, 34.07, 34.16, 34.25, 34.34, 34.43, 34.519999999999996, 34.61, 34.7, 34.79, 34.879999999999995, 34.97, 35.06, 35.15, 35.239999999999995, 35.33, 35.42, 35.510000000000005, 35.6, 35.69, 35.78, 35.870000000000005, 35.96, 36.05, 36.14, 36.230000000000004, 36.32, 36.41, 36.5, 36.59, 36.68, 36.769999999999996, 36.86, 36.95, 37.04, 37.13, 37.22, 37.31, 37.4, 37.49, 37.58, 37.67, 37.76, 37.85, 37.94, 38.03, 38.12, 38.21, 38.3, 38.39, 38.48, 38.57, 38.66, 38.75, 38.84, 38.93, 39.02, 39.11, 39.2, 39.29, 39.38, 39.47, 39.56, 39.65, 39.74, 39.83, 39.92, 40.01, 40.1, 40.19, 40.28, 40.37, 40.46, 40.55, 40.64, 40.73, 40.82, 40.91, 41.0, 41.09, 41.18, 41.27, 41.36, 41.45, 41.54, 41.63, 41.72, 41.81, 41.9, 41.99, 42.08, 42.17, 42.26, 42.35, 42.44, 42.53, 42.62, 42.71, 42.8, 42.89, 42.98, 43.07, 43.16, 43.25, 43.34, 43.43, 43.52, 43.61, 43.7, 43.79, 43.88, 43.97, 44.06, 44.15, 44.24, 44.33, 44.42, 44.51, 44.6, 44.69, 44.78, 44.87, 44.96, 45.05, 45.14, 45.23, 45.32, 45.41, 45.5, 45.59, 45.68, 45.77, 45.86, 45.95, 46.04, 46.13, 46.22, 46.31, 46.4, 46.49, 46.58, 46.67, 46.76, 46.85, 46.94, 47.03, 47.12, 47.21, 47.3, 47.39, 47.48, 47.57, 47.66, 47.75, 47.84, 47.93, 48.02, 48.11, 48.2, 48.29, 48.38, 48.47, 48.56, 48.65, 48.74, 48.83, 48.92, 49.01, 49.1, 49.19, 49.28, 49.37, 49.46, 49.55, 49.64, 49.73, 49.82, 49.91], \"xaxis\": \"x\", \"y\": [0.004654501269325038, 0.004817597615044198, 0.0049834657544565635, 0.0051520479046582475, 0.0053232851656982915, 0.005497117926215968, 0.005673486282360313, 0.005852330467446344, 0.006033591289607829, 0.006217210574525057, 0.006403131610140187, 0.006591299590125024, 0.006781662052738092, 0.006974169311602868, 0.007168774874858018, 0.0073654358490762625, 0.007564113324322467, 0.007764772736725352, 0.007967384204972606, 0.008171922837206757, 0.008378369004900504, 0.008586708580425371, 0.008796933135197296, 0.009009040095486812, 0.009223032853219753, 0.009438920829365958, 0.009656719487817511, 0.009876450297993137, 0.010098140644769582, 0.010321823684732315, 0.010547538148154017, 0.010775328086547246, 0.011005242566094562, 0.011237335307731253, 0.011471664275139525, 0.011708291212404107, 0.011947281133573658, 0.012188701766865824, 0.01243262295674128, 0.01267911602754949, 0.012928253112910803, 0.013180106455441461, 0.0134347476818451, 0.013692247058781732, 0.013952672735278046, 0.014216089977757095, 0.014482560404036261, 0.01475214122286604, 0.015024884485754817, 0.015300836357942998, 0.015580036415450499, 0.015862516975122403, 0.016148302464536007, 0.016437408838507403, 0.016729843048745762, 0.01702560257294834, 0.017324675009309048, 0.01762703774202902, 0.017932657682970116, 0.018241491094084412, 0.01855348349468619, 0.018868569657012366, 0.019186673692845317, 0.019507709233254348, 0.019831579702753274, 0.02015817868837777, 0.02048739040336302, 0.020819090244257533, 0.02115314543944876, 0.021489415786208898, 0.02182775447250222, 0.02216800897893671, 0.022510022055401042, 0.02285363276611116, 0.02319867759600714, 0.023544991610699346, 0.023892409661470444, 0.024240767626205046, 0.024589903676548643, 0.024939659561099593, 0.0252898818940177, 0.02564042343809789, 0.02599114437111107, 0.026341913524062427, 0.026692609579962844, 0.027043122221755325, 0.02739335321818644, 0.027743217436664604, 0.028092643772501546, 0.028441575984390215, 0.028789973426529187, 0.029137811668456914, 0.02948508299440547, 0.029831796774816868, 0.030177979703579928, 0.03052367589553446, 0.030868946839845313, 0.03121387120596135, 0.031558544500035604, 0.03190307857088226, 0.032247600965772324, 0.03259225413761326, 0.0329371945063058, 0.0332825913783125, 0.03362862572969657, 0.03397548885908214, 0.03432338091814012, 0.03467250932830274, 0.03502308709344627, 0.03537533101924407, 0.03572945985077081, 0.03608569234072596, 0.03644424526133055, 0.03680533137353091, 0.03716915736760752, 0.03753592178963434, 0.037905812968458165, 0.038279006957966356, 0.03865566550938418, 0.03903593408818899, 0.039419939949948996, 0.03980779028899273, 0.040199570473293075, 0.04059534237831531, 0.040995142831834336, 0.04139898218088273, 0.04180684299105441, 0.04221867888736954, 0.04263441354481393, 0.043053939835511854, 0.04347711913828688, 0.04390378081512241, 0.04433372185776501, 0.04476670670643175, 0.045202467241301024, 0.04564070294619594, 0.04608108124262534, 0.04652323799113852, 0.046966778155791915, 0.04741127662642518, 0.04785627919241638, 0.04830130366063461, 0.04874584110944799, 0.04918935726987702, 0.049631294024319775, 0.05007107101271485, 0.050508087335561135, 0.050941723342875715, 0.05137134249794873, 0.05179629330464328, 0.05221591128698893, 0.05262952100992509, 0.053036438130262084, 0.05343597146723625, 0.05382742508243403, 0.05421010035934257, 0.054583298073338844, 0.054946320443549454, 0.05529847315868522, 0.05563906736967126, 0.05596742164263799, 0.056282863866606955, 0.05658473311097677, 0.056872381428686926, 0.057145175601690516, 0.05740249882609756, 0.05764375233504214, 0.057868356957974314, 0.058075754615668905, 0.05826540975077385, 0.05843681069417984, 0.05858947096787978, 0.05872293052529272, 0.058836756930251935, 0.05893054647599934, 0.05900392524558659, 0.05905655011506041, 0.059088109700707526, 0.059098325251457355, 0.05908695148729415, 0.059053777384220726, 0.05899862690595083, 0.05892135968209627, 0.05882187163216685, 0.058700095534225734, 0.058556001536552924, 0.05838959761017407, 0.05820092993962313, 0.057990083248838156, 0.05775718105864779, 0.05750238587190758, 0.057225899281994674, 0.05692796200008272, 0.05660885379639917, 0.056268893350527004, 0.055908438005756046, 0.055527883422522635, 0.055127663126104245, 0.05470824794396008, 0.05427014532843197, 0.05381389856094083, 0.05334008583433104, 0.05284931921062629, 0.05234224345215844, 0.05181953472481193, 0.05128189917298199, 0.050730071366764974, 0.05016481262287663, 0.04958690920181418, 0.04899717038483335, 0.04839642643538403, 0.047785526450730594, 0.04716533611055688, 0.04653673533041089, 0.045900615828865135, 0.045257878618242264, 0.04460943142967107, 0.043956186084078266, 0.043299055821480845, 0.04263895260160662, 0.04197678438943073, 0.041313452439662716, 0.040649848594546734, 0.03998685260954013, 0.039325329521509626, 0.038666127074026044, 0.03801007321414866, 0.03735797367476759, 0.036710609656121114, 0.03606873561952747, 0.03543307720567256, 0.03480432928898399, 0.034183154178704565, 0.03357017997626593, 0.03296599909746401, 0.03237116696676503, 0.03178620088983596, 0.031211579109108913, 0.03064774004586839, 0.030095081731008347, 0.029553961425253444, 0.029024695428294053, 0.0285075590749554, 0.02800278691522534, 0.027510573073712925, 0.027031071782913065, 0.02656439808352293, 0.026110628684002834, 0.025669802970607076, 0.025241924158237096, 0.024826960571695963, 0.02442484704625614, 0.024035486435894718, 0.02365875121710536, 0.023294485175865253, 0.022942505165118046, 0.02260260292003011, 0.02227454691828367, 0.021958084272784086, 0.02165294264437475, 0.02135883216246584, 0.02107544734188699, 0.02080246898476052, 0.020539566056754256, 0.02028639752770218, 0.0200426141672686, 0.019807860287068386, 0.019581775421432145, 0.019363995939812507, 0.019154156584656468, 0.018951891929409315, 0.01875683775216098, 0.01856863232128512, 0.018386917590249154, 0.018211340299581127, 0.018041552984760338, 0.01787721488954749, 0.01771799278498073, 0.017563561694932266, 0.017413605529742228, 0.01726781763001874, 0.017125901223214213, 0.016987569796054904, 0.016852547386314053, 0.0167205687977774, 0.01659137974255436, 0.0164647369151394, 0.016340408002827832, 0.016218171637240403, 0.016097817291813508, 0.01597914513017024, 0.015861965810303857, 0.015746100249483527, 0.015631379354734957, 0.015517643723660204, 0.015404743320243818, 0.015292537130150871, 0.01518089279985917, 0.015069686263786559, 0.014958801363377211, 0.014848129461901954, 0.014737569058508608, 0.014627025404832057, 0.01451641012724237, 0.014405640857574661, 0.014294640874947823, 0.0141833387610427, 0.014071668070974748, 0.013959567021662345, 0.013846978199360668, 0.01373384828780327, 0.013620127818168909, 0.013505770941871057, 0.013390735226950773, 0.013274981478641557, 0.01315847358446701, 0.013041178384028369, 0.012923065563439766, 0.012804107574174467, 0.01268427957589498, 0.012563559402654967, 0.012441927551680545, 0.012319367193764195, 0.012195864204135686, 0.01207140721251294, 0.011945987670880802, 0.01181959993739969, 0.011692241374708107, 0.011563912460756259, 0.011434616910190884, 0.011304361804207498, 0.011173157726694385, 0.011041018904416089, 0.010907963348921669, 0.010774012997817838, 0.010639193853018002, 0.010503536113568274, 0.010367074300659381, 0.010229847372461194, 0.010091898826463575, 0.009953276787075022, 0.009814034076317429, 0.009674228265563077, 0.009533921706386424, 0.009393181538749532, 0.00925207967490378, 0.00911069275757237, 0.008969102091175109, 0.008827393545069551, 0.008685657428007343, 0.008543988333241647, 0.008402484953966845, 0.008261249869025392, 0.008120389299074673, 0.007980012833668426, 0.007840233129968547, 0.007701165584063644, 0.0075629279761259835, 0.007425640090888427, 0.007289423315162497, 0.007154400214349013, 0.007020694090107741, 0.0068884285215542185, 0.006757726892534536, 0.006628711907694289, 0.006501505100201213, 0.006376226334104101, 0.006252993304408973, 0.006131921038029677, 0.006013121398819861, 0.00589670259991964, 0.005782768726649606, 0.005671419273160318, 0.005562748695994227, 0.00545684598764251, 0.005353794273079136, 0.0052536704321326875, 0.005156544750410869, 0.005062480601327162, 0.00497153416159351, 0.004883754162338823, 0.00479918167779341, 0.0047178499532438975, 0.0046397842737157646, 0.004565001874581145, 0.00449351189502205, 0.004425315375003455, 0.004360405296131013, 0.004298766666484288, 0.0042403766492324245, 0.004185204734555056, 0.004133212954110686, 0.004084356137017982, 0.0040385822060455805, 0.00399583251244343, 0.003956042207596329, 0.003919140649438234, 0.003885051841336871, 0.0038536949009420874, 0.003824984556290687, 0.003798831666274975, 0.0037751437624139943, 0.0037538256087152034, 0.003734779776281728, 0.003717907229206214, 0.003703107918197624, 0.003690281378312278, 0.003679327327105297, 0.0036701462594837006, 0.0036626400355277253, 0.0036567124575525916, 0.00365226983270892, 0.003649221517466157, 0.003647480440389579, 0.003646963599707564, 0.003647592532271457, 0.0036492937506353174, 0.0036519991451267764, 0.003655646347942616, 0.0036601790564832833, 0.003665547313338663, 0.0036717077405527283, 0.003678623726026392, 0.003686265560165538, 0.003694610521143963, 0.003703642907428228, 0.0037133540165021355, 0.0037237420690320903, 0.003734812078029714, 0.003746575662893855, 0.003759050808549264, 0.003772261570242496, 0.003786237724905498, 0.0038010143703524316, 0.0038166314739338006, 0.003833133372632175, 0.003850568226943635, 0.0038689874312466477, 0.003888444983712959, 0.003908996819161093, 0.003930700108589562, 0.003953612529451496, 0.0039777915110421015, 0.004003293459662859, 0.004030172968498134, 0.004058482017388864, 0.00408826916791036, 0.004119578759355016, 0.004152450111382194, 0.004186916739224661, 0.004223005587430472, 0.004260736288169009, 0.004300120450137372, 0.004341160984066785, 0.004383851470745662, 0.004428175577345986, 0.004474106527660266, 0.004521606631628286, 0.00457062687925432, 0.004621106603688097, 0.004672973217865855, 0.004726142028683729, 0.004780516132204985, 0.004835986392888756, 0.004892431509272383, 0.004949718167947056, 0.00500770128703946, 0.005066224349756725, 0.005125119827871296, 0.005184209694323432, 0.005243306023406152, 0.005302211676278269, 0.005360721068830642, 0.005418621018217207, 0.005475691663661123, 0.005531707456466072, 0.005586438213508803, 0.005639650227870069, 0.005691107429682576, 0.005740572589743962, 0.005787808557966347, 0.005832579528316927, 0.00587465232155284, 0.005913797676771873, 0.005949791542593686, 0.005982416358656668, 0.006011462318066907, 0.006036728601469094, 0.006058024573526216, 0.006075170932795196, 0.00608800080626893, 0.006096360780219075, 0.006100111859416672, 0.0060991303473248, 0.00609330864044536, 0.00608255593065487, 0.006066798810076303, 0.006045981773798579, 0.00602006761656481, 0.005989037720397379], \"yaxis\": \"y\"}, {\"legendgroup\": \"Distribui\\u00e7\\u00e3o da label MEDV (Pre\\u00e7o correspondente para o im\\u00f3vel) Ap\\u00f3s a Limpeza nos dados\", \"marker\": {\"color\": \"rgb(31, 119, 180)\", \"symbol\": \"line-ns-open\"}, \"mode\": \"markers\", \"name\": \"Distribui\\u00e7\\u00e3o da label MEDV (Pre\\u00e7o correspondente para o im\\u00f3vel) Ap\\u00f3s a Limpeza nos dados\", \"showlegend\": false, \"type\": \"scatter\", \"x\": [24.0, 21.6, 34.7, 33.4, 36.2, 28.7, 22.9, 27.1, 16.5, 18.9, 15.0, 18.9, 21.7, 20.4, 18.2, 19.9, 23.1, 17.5, 20.2, 18.2, 13.6, 19.6, 15.2, 14.5, 15.6, 13.9, 16.6, 14.8, 18.4, 21.0, 12.7, 14.5, 13.2, 13.1, 13.5, 18.9, 20.0, 21.0, 24.7, 30.8, 34.9, 26.6, 25.3, 24.7, 21.2, 19.3, 20.0, 16.6, 14.4, 19.4, 19.7, 20.5, 25.0, 23.4, 18.9, 35.4, 24.7, 31.6, 23.3, 19.6, 18.7, 16.0, 22.2, 25.0, 33.0, 23.5, 19.4, 22.0, 17.4, 20.9, 24.2, 21.7, 22.8, 23.4, 24.1, 21.4, 20.0, 20.8, 21.2, 20.3, 28.0, 23.9, 24.8, 22.9, 23.9, 26.6, 22.5, 22.2, 23.6, 28.7, 22.6, 22.0, 22.9, 25.0, 20.6, 28.4, 21.4, 38.7, 43.8, 33.2, 27.5, 26.5, 18.6, 19.3, 20.1, 19.5, 19.5, 20.4, 19.8, 19.4, 21.7, 22.8, 18.8, 18.7, 18.5, 18.3, 21.2, 19.2, 20.4, 19.3, 22.0, 20.3, 20.5, 17.3, 18.8, 21.4, 15.7, 16.2, 18.0, 14.3, 19.2, 19.6, 23.0, 18.4, 15.6, 18.1, 17.4, 17.1, 13.3, 17.8, 14.0, 14.4, 13.4, 15.6, 11.8, 13.8, 15.6, 14.6, 17.8, 15.4, 21.5, 19.6, 15.3, 19.4, 17.0, 15.6, 13.1, 41.3, 24.3, 23.3, 27.0, 50.0, 50.0, 50.0, 22.7, 25.0, 50.0, 23.8, 23.8, 22.3, 17.4, 19.1, 23.1, 23.6, 22.6, 29.4, 23.2, 24.6, 29.9, 37.2, 39.8, 36.2, 37.9, 32.5, 26.4, 29.6, 50.0, 32.0, 29.8, 34.9, 37.0, 30.5, 36.4, 31.1, 29.1, 50.0, 33.3, 30.3, 34.6, 34.9, 32.9, 24.1, 42.3, 48.5, 50.0, 22.6, 24.4, 22.5, 24.4, 20.0, 21.7, 19.3, 22.4, 28.1, 23.7, 25.0, 23.3, 28.7, 21.5, 23.0, 26.7, 21.7, 27.5, 30.1, 44.8, 50.0, 37.6, 31.6, 46.7, 31.5, 24.3, 31.7, 41.7, 48.3, 29.0, 24.0, 25.1, 31.5, 23.7, 23.3, 22.0, 20.1, 22.2, 23.7, 17.6, 18.5, 24.3, 20.5, 24.5, 26.2, 24.4, 24.8, 29.6, 42.8, 21.9, 20.9, 44.0, 50.0, 36.0, 30.1, 33.8, 43.1, 48.8, 31.0, 36.5, 22.8, 30.7, 50.0, 43.5, 20.7, 21.1, 25.2, 24.4, 35.2, 32.4, 32.0, 33.2, 33.1, 29.1, 35.1, 45.4, 35.4, 46.0, 50.0, 32.2, 22.0, 20.1, 23.2, 22.3, 24.8, 28.5, 37.3, 27.9, 23.9, 21.7, 28.6, 27.1, 20.3, 22.5, 29.0, 24.8, 22.0, 26.4, 33.1, 36.1, 28.4, 33.4, 28.2, 22.8, 20.3, 16.1, 22.1, 19.4, 21.6, 23.8, 16.2, 17.8, 19.8, 23.1, 21.0, 23.8, 23.1, 20.4, 18.5, 25.0, 24.6, 23.0, 22.2, 19.3, 22.6, 19.8, 17.1, 19.4, 22.2, 20.7, 21.1, 19.5, 18.5, 20.6, 19.0, 18.7, 32.7, 16.5, 23.9, 31.2, 17.5, 17.2, 23.1, 24.5, 26.6, 22.9, 24.1, 18.6, 30.1, 18.2, 20.6, 17.8, 21.7, 22.7, 22.6, 25.0, 19.9, 20.8, 16.8, 21.9, 27.5, 21.9, 23.1, 50.0, 50.0, 50.0, 50.0, 50.0, 13.8, 13.8, 15.0, 13.9, 13.3, 13.1, 10.2, 10.4, 10.9, 11.3, 12.3, 8.8, 7.2, 10.5, 7.4, 10.2, 11.5, 15.1, 23.2, 9.7, 13.8, 12.7, 13.1, 12.5, 8.5, 5.0, 6.3, 5.6, 7.2, 12.1, 8.3, 8.5, 5.0, 11.9, 27.9, 17.2, 27.5, 15.0, 17.2, 17.9, 16.3, 7.0, 7.2, 7.5, 10.4, 8.8, 8.4, 16.7, 14.2, 20.8, 13.4, 11.7, 8.3, 10.2, 10.9, 11.0, 9.5, 14.5, 14.1, 16.1, 14.3, 11.7, 13.4, 9.6, 8.7, 8.4, 12.8, 10.5, 17.1, 18.4, 15.4, 10.8, 11.8, 14.9, 12.6, 14.1, 13.0, 13.4, 15.2, 16.1, 17.8, 14.9, 14.1, 12.7, 13.5, 14.9, 20.0, 16.4, 17.7, 19.5, 20.2, 21.4, 19.9, 19.0, 19.1, 19.1, 20.1, 19.9, 19.6, 23.2, 29.8, 13.8, 13.3, 16.7, 12.0, 14.6, 21.4, 23.0, 23.7, 25.0, 21.8, 20.6, 21.2, 19.1, 20.6, 15.2, 7.0, 8.1, 13.6, 20.1, 21.8, 24.5, 23.1, 19.7, 18.3, 21.2, 17.5, 16.8, 22.4, 20.6, 23.9, 22.0, 11.9], \"xaxis\": \"x\", \"y\": [\"Distribui\\u00e7\\u00e3o da label MEDV (Pre\\u00e7o correspondente para o im\\u00f3vel) Ap\\u00f3s a Limpeza nos dados\", \"Distribui\\u00e7\\u00e3o da label MEDV (Pre\\u00e7o correspondente para o im\\u00f3vel) Ap\\u00f3s a Limpeza nos dados\", \"Distribui\\u00e7\\u00e3o da label MEDV (Pre\\u00e7o correspondente para o im\\u00f3vel) Ap\\u00f3s a Limpeza nos dados\", \"Distribui\\u00e7\\u00e3o da label MEDV (Pre\\u00e7o correspondente para o im\\u00f3vel) Ap\\u00f3s a Limpeza nos dados\", \"Distribui\\u00e7\\u00e3o da label MEDV (Pre\\u00e7o correspondente para o im\\u00f3vel) Ap\\u00f3s a Limpeza nos dados\", \"Distribui\\u00e7\\u00e3o da label MEDV (Pre\\u00e7o correspondente para o im\\u00f3vel) Ap\\u00f3s a Limpeza nos dados\", \"Distribui\\u00e7\\u00e3o da label MEDV (Pre\\u00e7o correspondente para o im\\u00f3vel) Ap\\u00f3s a Limpeza nos dados\", \"Distribui\\u00e7\\u00e3o da label MEDV (Pre\\u00e7o correspondente para o im\\u00f3vel) Ap\\u00f3s a Limpeza nos dados\", \"Distribui\\u00e7\\u00e3o da label MEDV (Pre\\u00e7o correspondente para o im\\u00f3vel) Ap\\u00f3s a Limpeza nos dados\", \"Distribui\\u00e7\\u00e3o da label MEDV (Pre\\u00e7o correspondente para o im\\u00f3vel) Ap\\u00f3s a Limpeza nos dados\", \"Distribui\\u00e7\\u00e3o da label MEDV (Pre\\u00e7o correspondente para o im\\u00f3vel) Ap\\u00f3s a Limpeza nos dados\", \"Distribui\\u00e7\\u00e3o da label MEDV (Pre\\u00e7o correspondente para o im\\u00f3vel) Ap\\u00f3s a Limpeza nos dados\", \"Distribui\\u00e7\\u00e3o da label MEDV (Pre\\u00e7o correspondente para o im\\u00f3vel) Ap\\u00f3s a Limpeza nos dados\", \"Distribui\\u00e7\\u00e3o da label MEDV (Pre\\u00e7o correspondente para o im\\u00f3vel) Ap\\u00f3s a Limpeza nos dados\", \"Distribui\\u00e7\\u00e3o da label MEDV (Pre\\u00e7o correspondente para o im\\u00f3vel) Ap\\u00f3s a Limpeza nos dados\", \"Distribui\\u00e7\\u00e3o da label MEDV (Pre\\u00e7o correspondente para o im\\u00f3vel) Ap\\u00f3s a Limpeza nos dados\", \"Distribui\\u00e7\\u00e3o da label MEDV (Pre\\u00e7o correspondente para o im\\u00f3vel) Ap\\u00f3s a Limpeza nos dados\", \"Distribui\\u00e7\\u00e3o da label MEDV (Pre\\u00e7o correspondente para o im\\u00f3vel) Ap\\u00f3s a Limpeza nos dados\", \"Distribui\\u00e7\\u00e3o da label MEDV (Pre\\u00e7o correspondente para o im\\u00f3vel) Ap\\u00f3s a Limpeza nos dados\", \"Distribui\\u00e7\\u00e3o da label MEDV (Pre\\u00e7o correspondente para o im\\u00f3vel) Ap\\u00f3s a Limpeza nos dados\", \"Distribui\\u00e7\\u00e3o da label MEDV (Pre\\u00e7o correspondente para o im\\u00f3vel) Ap\\u00f3s a Limpeza nos dados\", \"Distribui\\u00e7\\u00e3o da label MEDV (Pre\\u00e7o correspondente para o im\\u00f3vel) Ap\\u00f3s a Limpeza nos dados\", \"Distribui\\u00e7\\u00e3o da label MEDV (Pre\\u00e7o correspondente para o im\\u00f3vel) Ap\\u00f3s a Limpeza nos dados\", \"Distribui\\u00e7\\u00e3o da label MEDV (Pre\\u00e7o correspondente para o im\\u00f3vel) Ap\\u00f3s a Limpeza nos dados\", \"Distribui\\u00e7\\u00e3o da label MEDV (Pre\\u00e7o correspondente para o im\\u00f3vel) Ap\\u00f3s a Limpeza nos dados\", \"Distribui\\u00e7\\u00e3o da label MEDV (Pre\\u00e7o correspondente para o im\\u00f3vel) Ap\\u00f3s a Limpeza nos dados\", \"Distribui\\u00e7\\u00e3o da label MEDV (Pre\\u00e7o correspondente para o im\\u00f3vel) Ap\\u00f3s a Limpeza nos dados\", \"Distribui\\u00e7\\u00e3o da label MEDV (Pre\\u00e7o correspondente para o im\\u00f3vel) Ap\\u00f3s a Limpeza nos dados\", \"Distribui\\u00e7\\u00e3o da label MEDV (Pre\\u00e7o correspondente para o im\\u00f3vel) Ap\\u00f3s a Limpeza nos dados\", \"Distribui\\u00e7\\u00e3o da label MEDV (Pre\\u00e7o correspondente para o im\\u00f3vel) Ap\\u00f3s a Limpeza nos dados\", \"Distribui\\u00e7\\u00e3o da label MEDV (Pre\\u00e7o correspondente para o im\\u00f3vel) Ap\\u00f3s a Limpeza nos dados\", \"Distribui\\u00e7\\u00e3o da label MEDV (Pre\\u00e7o correspondente para o im\\u00f3vel) Ap\\u00f3s a Limpeza nos dados\", \"Distribui\\u00e7\\u00e3o da label MEDV (Pre\\u00e7o correspondente para o im\\u00f3vel) Ap\\u00f3s a Limpeza nos dados\", \"Distribui\\u00e7\\u00e3o da label MEDV (Pre\\u00e7o correspondente para o im\\u00f3vel) Ap\\u00f3s a Limpeza nos dados\", \"Distribui\\u00e7\\u00e3o da label MEDV (Pre\\u00e7o correspondente para o im\\u00f3vel) Ap\\u00f3s a Limpeza nos dados\", \"Distribui\\u00e7\\u00e3o da label MEDV (Pre\\u00e7o correspondente para o im\\u00f3vel) Ap\\u00f3s a Limpeza nos dados\", \"Distribui\\u00e7\\u00e3o da label MEDV (Pre\\u00e7o correspondente para o im\\u00f3vel) Ap\\u00f3s a Limpeza nos dados\", \"Distribui\\u00e7\\u00e3o da label MEDV (Pre\\u00e7o correspondente para o im\\u00f3vel) Ap\\u00f3s a Limpeza nos dados\", \"Distribui\\u00e7\\u00e3o da label MEDV (Pre\\u00e7o correspondente para o im\\u00f3vel) Ap\\u00f3s a Limpeza nos dados\", \"Distribui\\u00e7\\u00e3o da label MEDV (Pre\\u00e7o correspondente para o im\\u00f3vel) Ap\\u00f3s a Limpeza nos dados\", \"Distribui\\u00e7\\u00e3o da label MEDV (Pre\\u00e7o correspondente para o im\\u00f3vel) Ap\\u00f3s a Limpeza nos dados\", \"Distribui\\u00e7\\u00e3o da label MEDV (Pre\\u00e7o correspondente para o im\\u00f3vel) Ap\\u00f3s a Limpeza nos dados\", \"Distribui\\u00e7\\u00e3o da label MEDV (Pre\\u00e7o correspondente para o im\\u00f3vel) Ap\\u00f3s a Limpeza nos dados\", \"Distribui\\u00e7\\u00e3o da label MEDV (Pre\\u00e7o correspondente para o im\\u00f3vel) Ap\\u00f3s a Limpeza nos dados\", \"Distribui\\u00e7\\u00e3o da label MEDV (Pre\\u00e7o correspondente para o im\\u00f3vel) Ap\\u00f3s a Limpeza nos dados\", \"Distribui\\u00e7\\u00e3o da label MEDV (Pre\\u00e7o correspondente para o im\\u00f3vel) Ap\\u00f3s a Limpeza nos dados\", \"Distribui\\u00e7\\u00e3o da label MEDV (Pre\\u00e7o correspondente para o im\\u00f3vel) Ap\\u00f3s a Limpeza nos dados\", \"Distribui\\u00e7\\u00e3o da label MEDV (Pre\\u00e7o correspondente para o im\\u00f3vel) Ap\\u00f3s a Limpeza nos dados\", \"Distribui\\u00e7\\u00e3o da label MEDV (Pre\\u00e7o correspondente para o im\\u00f3vel) Ap\\u00f3s a Limpeza nos dados\", \"Distribui\\u00e7\\u00e3o da label MEDV (Pre\\u00e7o correspondente para o im\\u00f3vel) Ap\\u00f3s a Limpeza nos dados\", \"Distribui\\u00e7\\u00e3o da label MEDV (Pre\\u00e7o correspondente para o im\\u00f3vel) Ap\\u00f3s a Limpeza nos dados\", \"Distribui\\u00e7\\u00e3o da label MEDV (Pre\\u00e7o correspondente para o im\\u00f3vel) Ap\\u00f3s a Limpeza nos dados\", \"Distribui\\u00e7\\u00e3o da label MEDV (Pre\\u00e7o correspondente para o im\\u00f3vel) Ap\\u00f3s a Limpeza nos dados\", \"Distribui\\u00e7\\u00e3o da label MEDV (Pre\\u00e7o correspondente para o im\\u00f3vel) Ap\\u00f3s a Limpeza nos dados\", \"Distribui\\u00e7\\u00e3o da label MEDV (Pre\\u00e7o correspondente para o im\\u00f3vel) Ap\\u00f3s a Limpeza nos dados\", \"Distribui\\u00e7\\u00e3o da label MEDV (Pre\\u00e7o correspondente para o im\\u00f3vel) Ap\\u00f3s a Limpeza nos dados\", \"Distribui\\u00e7\\u00e3o da label MEDV (Pre\\u00e7o correspondente para o im\\u00f3vel) Ap\\u00f3s a Limpeza nos dados\", \"Distribui\\u00e7\\u00e3o da label MEDV (Pre\\u00e7o correspondente para o im\\u00f3vel) Ap\\u00f3s a Limpeza nos dados\", \"Distribui\\u00e7\\u00e3o da label MEDV (Pre\\u00e7o correspondente para o im\\u00f3vel) Ap\\u00f3s a Limpeza nos dados\", \"Distribui\\u00e7\\u00e3o da label MEDV (Pre\\u00e7o correspondente para o im\\u00f3vel) Ap\\u00f3s a Limpeza nos dados\", \"Distribui\\u00e7\\u00e3o da label MEDV (Pre\\u00e7o correspondente para o im\\u00f3vel) Ap\\u00f3s a Limpeza nos dados\", \"Distribui\\u00e7\\u00e3o da label MEDV (Pre\\u00e7o correspondente para o im\\u00f3vel) Ap\\u00f3s a Limpeza nos dados\", \"Distribui\\u00e7\\u00e3o da label MEDV (Pre\\u00e7o correspondente para o im\\u00f3vel) Ap\\u00f3s a Limpeza nos dados\", \"Distribui\\u00e7\\u00e3o da label MEDV (Pre\\u00e7o correspondente para o im\\u00f3vel) Ap\\u00f3s a Limpeza nos dados\", \"Distribui\\u00e7\\u00e3o da label MEDV (Pre\\u00e7o correspondente para o im\\u00f3vel) Ap\\u00f3s a Limpeza nos dados\", \"Distribui\\u00e7\\u00e3o da label MEDV (Pre\\u00e7o correspondente para o im\\u00f3vel) Ap\\u00f3s a Limpeza nos dados\", \"Distribui\\u00e7\\u00e3o da label MEDV (Pre\\u00e7o correspondente para o im\\u00f3vel) Ap\\u00f3s a Limpeza nos dados\", \"Distribui\\u00e7\\u00e3o da label MEDV (Pre\\u00e7o correspondente para o im\\u00f3vel) Ap\\u00f3s a Limpeza nos dados\", \"Distribui\\u00e7\\u00e3o da label MEDV (Pre\\u00e7o correspondente para o im\\u00f3vel) Ap\\u00f3s a Limpeza nos dados\", \"Distribui\\u00e7\\u00e3o da label MEDV (Pre\\u00e7o correspondente para o im\\u00f3vel) Ap\\u00f3s a Limpeza nos dados\", \"Distribui\\u00e7\\u00e3o da label MEDV (Pre\\u00e7o correspondente para o im\\u00f3vel) Ap\\u00f3s a Limpeza nos dados\", \"Distribui\\u00e7\\u00e3o da label MEDV (Pre\\u00e7o correspondente para o im\\u00f3vel) Ap\\u00f3s a Limpeza nos dados\", \"Distribui\\u00e7\\u00e3o da label MEDV (Pre\\u00e7o correspondente para o im\\u00f3vel) Ap\\u00f3s a Limpeza nos dados\", \"Distribui\\u00e7\\u00e3o da label MEDV (Pre\\u00e7o correspondente para o im\\u00f3vel) Ap\\u00f3s a Limpeza nos dados\", \"Distribui\\u00e7\\u00e3o da label MEDV (Pre\\u00e7o correspondente para o im\\u00f3vel) Ap\\u00f3s a Limpeza nos dados\", \"Distribui\\u00e7\\u00e3o da label MEDV (Pre\\u00e7o correspondente para o im\\u00f3vel) Ap\\u00f3s a Limpeza nos dados\", \"Distribui\\u00e7\\u00e3o da label MEDV (Pre\\u00e7o correspondente para o im\\u00f3vel) Ap\\u00f3s a Limpeza nos dados\", \"Distribui\\u00e7\\u00e3o da label MEDV (Pre\\u00e7o correspondente para o im\\u00f3vel) Ap\\u00f3s a Limpeza nos dados\", \"Distribui\\u00e7\\u00e3o da label MEDV (Pre\\u00e7o correspondente para o im\\u00f3vel) Ap\\u00f3s a Limpeza nos dados\", \"Distribui\\u00e7\\u00e3o da label MEDV (Pre\\u00e7o correspondente para o im\\u00f3vel) Ap\\u00f3s a Limpeza nos dados\", \"Distribui\\u00e7\\u00e3o da label MEDV (Pre\\u00e7o correspondente para o im\\u00f3vel) Ap\\u00f3s a Limpeza nos dados\", \"Distribui\\u00e7\\u00e3o da label MEDV (Pre\\u00e7o correspondente para o im\\u00f3vel) Ap\\u00f3s a Limpeza nos dados\", \"Distribui\\u00e7\\u00e3o da label MEDV (Pre\\u00e7o correspondente para o im\\u00f3vel) Ap\\u00f3s a Limpeza nos dados\", \"Distribui\\u00e7\\u00e3o da label MEDV (Pre\\u00e7o correspondente para o im\\u00f3vel) Ap\\u00f3s a Limpeza nos dados\", \"Distribui\\u00e7\\u00e3o da label MEDV (Pre\\u00e7o correspondente para o im\\u00f3vel) Ap\\u00f3s a Limpeza nos dados\", \"Distribui\\u00e7\\u00e3o da label MEDV (Pre\\u00e7o correspondente para o im\\u00f3vel) Ap\\u00f3s a Limpeza nos dados\", \"Distribui\\u00e7\\u00e3o da label MEDV (Pre\\u00e7o correspondente para o im\\u00f3vel) Ap\\u00f3s a Limpeza nos dados\", \"Distribui\\u00e7\\u00e3o da label MEDV (Pre\\u00e7o correspondente para o im\\u00f3vel) Ap\\u00f3s a Limpeza nos dados\", \"Distribui\\u00e7\\u00e3o da label MEDV (Pre\\u00e7o correspondente para o im\\u00f3vel) Ap\\u00f3s a Limpeza nos dados\", \"Distribui\\u00e7\\u00e3o da label MEDV (Pre\\u00e7o correspondente para o im\\u00f3vel) Ap\\u00f3s a Limpeza nos dados\", \"Distribui\\u00e7\\u00e3o da label MEDV (Pre\\u00e7o correspondente para o im\\u00f3vel) Ap\\u00f3s a Limpeza nos dados\", \"Distribui\\u00e7\\u00e3o da label MEDV (Pre\\u00e7o correspondente para o im\\u00f3vel) Ap\\u00f3s a Limpeza nos dados\", \"Distribui\\u00e7\\u00e3o da label MEDV (Pre\\u00e7o correspondente para o im\\u00f3vel) Ap\\u00f3s a Limpeza nos dados\", \"Distribui\\u00e7\\u00e3o da label MEDV (Pre\\u00e7o correspondente para o im\\u00f3vel) Ap\\u00f3s a Limpeza nos dados\", \"Distribui\\u00e7\\u00e3o da label MEDV (Pre\\u00e7o correspondente para o im\\u00f3vel) Ap\\u00f3s a Limpeza nos dados\", \"Distribui\\u00e7\\u00e3o da label MEDV (Pre\\u00e7o correspondente para o im\\u00f3vel) Ap\\u00f3s a Limpeza nos dados\", \"Distribui\\u00e7\\u00e3o da label MEDV (Pre\\u00e7o correspondente para o im\\u00f3vel) Ap\\u00f3s a Limpeza nos dados\", \"Distribui\\u00e7\\u00e3o da label MEDV (Pre\\u00e7o correspondente para o im\\u00f3vel) Ap\\u00f3s a Limpeza nos dados\", \"Distribui\\u00e7\\u00e3o da label MEDV (Pre\\u00e7o correspondente para o im\\u00f3vel) Ap\\u00f3s a Limpeza nos dados\", \"Distribui\\u00e7\\u00e3o da label MEDV (Pre\\u00e7o correspondente para o im\\u00f3vel) Ap\\u00f3s a Limpeza nos dados\", \"Distribui\\u00e7\\u00e3o da label MEDV (Pre\\u00e7o correspondente para o im\\u00f3vel) Ap\\u00f3s a Limpeza nos dados\", \"Distribui\\u00e7\\u00e3o da label MEDV (Pre\\u00e7o correspondente para o im\\u00f3vel) Ap\\u00f3s a Limpeza nos dados\", \"Distribui\\u00e7\\u00e3o da label MEDV (Pre\\u00e7o correspondente para o im\\u00f3vel) Ap\\u00f3s a Limpeza nos dados\", \"Distribui\\u00e7\\u00e3o da label MEDV (Pre\\u00e7o correspondente para o im\\u00f3vel) Ap\\u00f3s a Limpeza nos dados\", \"Distribui\\u00e7\\u00e3o da label MEDV (Pre\\u00e7o correspondente para o im\\u00f3vel) Ap\\u00f3s a Limpeza nos dados\", \"Distribui\\u00e7\\u00e3o da label MEDV (Pre\\u00e7o correspondente para o im\\u00f3vel) Ap\\u00f3s a Limpeza nos dados\", \"Distribui\\u00e7\\u00e3o da label MEDV (Pre\\u00e7o correspondente para o im\\u00f3vel) Ap\\u00f3s a Limpeza nos dados\", \"Distribui\\u00e7\\u00e3o da label MEDV (Pre\\u00e7o correspondente para o im\\u00f3vel) Ap\\u00f3s a Limpeza nos dados\", \"Distribui\\u00e7\\u00e3o da label MEDV (Pre\\u00e7o correspondente para o im\\u00f3vel) Ap\\u00f3s a Limpeza nos dados\", \"Distribui\\u00e7\\u00e3o da label MEDV (Pre\\u00e7o correspondente para o im\\u00f3vel) Ap\\u00f3s a Limpeza nos dados\", \"Distribui\\u00e7\\u00e3o da label MEDV (Pre\\u00e7o correspondente para o im\\u00f3vel) Ap\\u00f3s a Limpeza nos dados\", \"Distribui\\u00e7\\u00e3o da label MEDV (Pre\\u00e7o correspondente para o im\\u00f3vel) Ap\\u00f3s a Limpeza nos dados\", \"Distribui\\u00e7\\u00e3o da label MEDV (Pre\\u00e7o correspondente para o im\\u00f3vel) Ap\\u00f3s a Limpeza nos dados\", \"Distribui\\u00e7\\u00e3o da label MEDV (Pre\\u00e7o correspondente para o im\\u00f3vel) Ap\\u00f3s a Limpeza nos dados\", \"Distribui\\u00e7\\u00e3o da label MEDV (Pre\\u00e7o correspondente para o im\\u00f3vel) Ap\\u00f3s a Limpeza nos dados\", \"Distribui\\u00e7\\u00e3o da label MEDV (Pre\\u00e7o correspondente para o im\\u00f3vel) Ap\\u00f3s a Limpeza nos dados\", \"Distribui\\u00e7\\u00e3o da label MEDV (Pre\\u00e7o correspondente para o im\\u00f3vel) Ap\\u00f3s a Limpeza nos dados\", \"Distribui\\u00e7\\u00e3o da label MEDV (Pre\\u00e7o correspondente para o im\\u00f3vel) Ap\\u00f3s a Limpeza nos dados\", \"Distribui\\u00e7\\u00e3o da label MEDV (Pre\\u00e7o correspondente para o im\\u00f3vel) Ap\\u00f3s a Limpeza nos dados\", \"Distribui\\u00e7\\u00e3o da label MEDV (Pre\\u00e7o correspondente para o im\\u00f3vel) Ap\\u00f3s a Limpeza nos dados\", \"Distribui\\u00e7\\u00e3o da label MEDV (Pre\\u00e7o correspondente para o im\\u00f3vel) Ap\\u00f3s a Limpeza nos dados\", \"Distribui\\u00e7\\u00e3o da label MEDV (Pre\\u00e7o correspondente para o im\\u00f3vel) Ap\\u00f3s a Limpeza nos dados\", \"Distribui\\u00e7\\u00e3o da label MEDV (Pre\\u00e7o correspondente para o im\\u00f3vel) Ap\\u00f3s a Limpeza nos dados\", \"Distribui\\u00e7\\u00e3o da label MEDV (Pre\\u00e7o correspondente para o im\\u00f3vel) Ap\\u00f3s a Limpeza nos dados\", \"Distribui\\u00e7\\u00e3o da label MEDV (Pre\\u00e7o correspondente para o im\\u00f3vel) Ap\\u00f3s a Limpeza nos dados\", \"Distribui\\u00e7\\u00e3o da label MEDV (Pre\\u00e7o correspondente para o im\\u00f3vel) Ap\\u00f3s a Limpeza nos dados\", \"Distribui\\u00e7\\u00e3o da label MEDV (Pre\\u00e7o correspondente para o im\\u00f3vel) Ap\\u00f3s a Limpeza nos dados\", \"Distribui\\u00e7\\u00e3o da label MEDV (Pre\\u00e7o correspondente para o im\\u00f3vel) Ap\\u00f3s a Limpeza nos dados\", \"Distribui\\u00e7\\u00e3o da label MEDV (Pre\\u00e7o correspondente para o im\\u00f3vel) Ap\\u00f3s a Limpeza nos dados\", \"Distribui\\u00e7\\u00e3o da label MEDV (Pre\\u00e7o correspondente para o im\\u00f3vel) Ap\\u00f3s a Limpeza nos dados\", \"Distribui\\u00e7\\u00e3o da label MEDV (Pre\\u00e7o correspondente para o im\\u00f3vel) Ap\\u00f3s a Limpeza nos dados\", \"Distribui\\u00e7\\u00e3o da label MEDV (Pre\\u00e7o correspondente para o im\\u00f3vel) Ap\\u00f3s a Limpeza nos dados\", \"Distribui\\u00e7\\u00e3o da label MEDV (Pre\\u00e7o correspondente para o im\\u00f3vel) Ap\\u00f3s a Limpeza nos dados\", \"Distribui\\u00e7\\u00e3o da label MEDV (Pre\\u00e7o correspondente para o im\\u00f3vel) Ap\\u00f3s a Limpeza nos dados\", \"Distribui\\u00e7\\u00e3o da label MEDV (Pre\\u00e7o correspondente para o im\\u00f3vel) Ap\\u00f3s a Limpeza nos dados\", \"Distribui\\u00e7\\u00e3o da label MEDV (Pre\\u00e7o correspondente para o im\\u00f3vel) Ap\\u00f3s a Limpeza nos dados\", \"Distribui\\u00e7\\u00e3o da label MEDV (Pre\\u00e7o correspondente para o im\\u00f3vel) Ap\\u00f3s a Limpeza nos dados\", \"Distribui\\u00e7\\u00e3o da label MEDV (Pre\\u00e7o correspondente para o im\\u00f3vel) Ap\\u00f3s a Limpeza nos dados\", \"Distribui\\u00e7\\u00e3o da label MEDV (Pre\\u00e7o correspondente para o im\\u00f3vel) Ap\\u00f3s a Limpeza nos dados\", \"Distribui\\u00e7\\u00e3o da label MEDV (Pre\\u00e7o correspondente para o im\\u00f3vel) Ap\\u00f3s a Limpeza nos dados\", \"Distribui\\u00e7\\u00e3o da label MEDV (Pre\\u00e7o correspondente para o im\\u00f3vel) Ap\\u00f3s a Limpeza nos dados\", \"Distribui\\u00e7\\u00e3o da label MEDV (Pre\\u00e7o correspondente para o im\\u00f3vel) Ap\\u00f3s a Limpeza nos dados\", \"Distribui\\u00e7\\u00e3o da label MEDV (Pre\\u00e7o correspondente para o im\\u00f3vel) Ap\\u00f3s a Limpeza nos dados\", \"Distribui\\u00e7\\u00e3o da label MEDV (Pre\\u00e7o correspondente para o im\\u00f3vel) Ap\\u00f3s a Limpeza nos dados\", \"Distribui\\u00e7\\u00e3o da label MEDV (Pre\\u00e7o correspondente para o im\\u00f3vel) Ap\\u00f3s a Limpeza nos dados\", \"Distribui\\u00e7\\u00e3o da label MEDV (Pre\\u00e7o correspondente para o im\\u00f3vel) Ap\\u00f3s a Limpeza nos dados\", \"Distribui\\u00e7\\u00e3o da label MEDV (Pre\\u00e7o correspondente para o im\\u00f3vel) Ap\\u00f3s a Limpeza nos dados\", \"Distribui\\u00e7\\u00e3o da label MEDV (Pre\\u00e7o correspondente para o im\\u00f3vel) Ap\\u00f3s a Limpeza nos dados\", \"Distribui\\u00e7\\u00e3o da label MEDV (Pre\\u00e7o correspondente para o im\\u00f3vel) Ap\\u00f3s a Limpeza nos dados\", \"Distribui\\u00e7\\u00e3o da label MEDV (Pre\\u00e7o correspondente para o im\\u00f3vel) Ap\\u00f3s a Limpeza nos dados\", \"Distribui\\u00e7\\u00e3o da label MEDV (Pre\\u00e7o correspondente para o im\\u00f3vel) Ap\\u00f3s a Limpeza nos dados\", \"Distribui\\u00e7\\u00e3o da label MEDV (Pre\\u00e7o correspondente para o im\\u00f3vel) Ap\\u00f3s a Limpeza nos dados\", \"Distribui\\u00e7\\u00e3o da label MEDV (Pre\\u00e7o correspondente para o im\\u00f3vel) Ap\\u00f3s a Limpeza nos dados\", \"Distribui\\u00e7\\u00e3o da label MEDV (Pre\\u00e7o correspondente para o im\\u00f3vel) Ap\\u00f3s a Limpeza nos dados\", \"Distribui\\u00e7\\u00e3o da label MEDV (Pre\\u00e7o correspondente para o im\\u00f3vel) Ap\\u00f3s a Limpeza nos dados\", \"Distribui\\u00e7\\u00e3o da label MEDV (Pre\\u00e7o correspondente para o im\\u00f3vel) Ap\\u00f3s a Limpeza nos dados\", \"Distribui\\u00e7\\u00e3o da label MEDV (Pre\\u00e7o correspondente para o im\\u00f3vel) Ap\\u00f3s a Limpeza nos dados\", \"Distribui\\u00e7\\u00e3o da label MEDV (Pre\\u00e7o correspondente para o im\\u00f3vel) Ap\\u00f3s a Limpeza nos dados\", \"Distribui\\u00e7\\u00e3o da label MEDV (Pre\\u00e7o correspondente para o im\\u00f3vel) Ap\\u00f3s a Limpeza nos dados\", \"Distribui\\u00e7\\u00e3o da label MEDV (Pre\\u00e7o correspondente para o im\\u00f3vel) Ap\\u00f3s a Limpeza nos dados\", \"Distribui\\u00e7\\u00e3o da label MEDV (Pre\\u00e7o correspondente para o im\\u00f3vel) Ap\\u00f3s a Limpeza nos dados\", \"Distribui\\u00e7\\u00e3o da label MEDV (Pre\\u00e7o correspondente para o im\\u00f3vel) Ap\\u00f3s a Limpeza nos dados\", \"Distribui\\u00e7\\u00e3o da label MEDV (Pre\\u00e7o correspondente para o im\\u00f3vel) Ap\\u00f3s a Limpeza nos dados\", \"Distribui\\u00e7\\u00e3o da label MEDV (Pre\\u00e7o correspondente para o im\\u00f3vel) Ap\\u00f3s a Limpeza nos dados\", \"Distribui\\u00e7\\u00e3o da label MEDV (Pre\\u00e7o correspondente para o im\\u00f3vel) Ap\\u00f3s a Limpeza nos dados\", \"Distribui\\u00e7\\u00e3o da label MEDV (Pre\\u00e7o correspondente para o im\\u00f3vel) Ap\\u00f3s a Limpeza nos dados\", \"Distribui\\u00e7\\u00e3o da label MEDV (Pre\\u00e7o correspondente para o im\\u00f3vel) Ap\\u00f3s a Limpeza nos dados\", \"Distribui\\u00e7\\u00e3o da label MEDV (Pre\\u00e7o correspondente para o im\\u00f3vel) Ap\\u00f3s a Limpeza nos dados\", \"Distribui\\u00e7\\u00e3o da label MEDV (Pre\\u00e7o correspondente para o im\\u00f3vel) Ap\\u00f3s a Limpeza nos dados\", \"Distribui\\u00e7\\u00e3o da label MEDV (Pre\\u00e7o correspondente para o im\\u00f3vel) Ap\\u00f3s a Limpeza nos dados\", \"Distribui\\u00e7\\u00e3o da label MEDV (Pre\\u00e7o correspondente para o im\\u00f3vel) Ap\\u00f3s a Limpeza nos dados\", \"Distribui\\u00e7\\u00e3o da label MEDV (Pre\\u00e7o correspondente para o im\\u00f3vel) Ap\\u00f3s a Limpeza nos dados\", \"Distribui\\u00e7\\u00e3o da label MEDV (Pre\\u00e7o correspondente para o im\\u00f3vel) Ap\\u00f3s a Limpeza nos dados\", \"Distribui\\u00e7\\u00e3o da label MEDV (Pre\\u00e7o correspondente para o im\\u00f3vel) Ap\\u00f3s a Limpeza nos dados\", \"Distribui\\u00e7\\u00e3o da label MEDV (Pre\\u00e7o correspondente para o im\\u00f3vel) Ap\\u00f3s a Limpeza nos dados\", \"Distribui\\u00e7\\u00e3o da label MEDV (Pre\\u00e7o correspondente para o im\\u00f3vel) Ap\\u00f3s a Limpeza nos dados\", \"Distribui\\u00e7\\u00e3o da label MEDV (Pre\\u00e7o correspondente para o im\\u00f3vel) Ap\\u00f3s a Limpeza nos dados\", \"Distribui\\u00e7\\u00e3o da label MEDV (Pre\\u00e7o correspondente para o im\\u00f3vel) Ap\\u00f3s a Limpeza nos dados\", \"Distribui\\u00e7\\u00e3o da label MEDV (Pre\\u00e7o correspondente para o im\\u00f3vel) Ap\\u00f3s a Limpeza nos dados\", \"Distribui\\u00e7\\u00e3o da label MEDV (Pre\\u00e7o correspondente para o im\\u00f3vel) Ap\\u00f3s a Limpeza nos dados\", \"Distribui\\u00e7\\u00e3o da label MEDV (Pre\\u00e7o correspondente para o im\\u00f3vel) Ap\\u00f3s a Limpeza nos dados\", \"Distribui\\u00e7\\u00e3o da label MEDV (Pre\\u00e7o correspondente para o im\\u00f3vel) Ap\\u00f3s a Limpeza nos dados\", \"Distribui\\u00e7\\u00e3o da label MEDV (Pre\\u00e7o correspondente para o im\\u00f3vel) Ap\\u00f3s a Limpeza nos dados\", \"Distribui\\u00e7\\u00e3o da label MEDV (Pre\\u00e7o correspondente para o im\\u00f3vel) Ap\\u00f3s a Limpeza nos dados\", \"Distribui\\u00e7\\u00e3o da label MEDV (Pre\\u00e7o correspondente para o im\\u00f3vel) Ap\\u00f3s a Limpeza nos dados\", \"Distribui\\u00e7\\u00e3o da label MEDV (Pre\\u00e7o correspondente para o im\\u00f3vel) Ap\\u00f3s a Limpeza nos dados\", \"Distribui\\u00e7\\u00e3o da label MEDV (Pre\\u00e7o correspondente para o im\\u00f3vel) Ap\\u00f3s a Limpeza nos dados\", \"Distribui\\u00e7\\u00e3o da label MEDV (Pre\\u00e7o correspondente para o im\\u00f3vel) Ap\\u00f3s a Limpeza nos dados\", \"Distribui\\u00e7\\u00e3o da label MEDV (Pre\\u00e7o correspondente para o im\\u00f3vel) Ap\\u00f3s a Limpeza nos dados\", \"Distribui\\u00e7\\u00e3o da label MEDV (Pre\\u00e7o correspondente para o im\\u00f3vel) Ap\\u00f3s a Limpeza nos dados\", \"Distribui\\u00e7\\u00e3o da label MEDV (Pre\\u00e7o correspondente para o im\\u00f3vel) Ap\\u00f3s a Limpeza nos dados\", \"Distribui\\u00e7\\u00e3o da label MEDV (Pre\\u00e7o correspondente para o im\\u00f3vel) Ap\\u00f3s a Limpeza nos dados\", \"Distribui\\u00e7\\u00e3o da label MEDV (Pre\\u00e7o correspondente para o im\\u00f3vel) Ap\\u00f3s a Limpeza nos dados\", \"Distribui\\u00e7\\u00e3o da label MEDV (Pre\\u00e7o correspondente para o im\\u00f3vel) Ap\\u00f3s a Limpeza nos dados\", \"Distribui\\u00e7\\u00e3o da label MEDV (Pre\\u00e7o correspondente para o im\\u00f3vel) Ap\\u00f3s a Limpeza nos dados\", \"Distribui\\u00e7\\u00e3o da label MEDV (Pre\\u00e7o correspondente para o im\\u00f3vel) Ap\\u00f3s a Limpeza nos dados\", \"Distribui\\u00e7\\u00e3o da label MEDV (Pre\\u00e7o correspondente para o im\\u00f3vel) Ap\\u00f3s a Limpeza nos dados\", \"Distribui\\u00e7\\u00e3o da label MEDV (Pre\\u00e7o correspondente para o im\\u00f3vel) Ap\\u00f3s a Limpeza nos dados\", \"Distribui\\u00e7\\u00e3o da label MEDV (Pre\\u00e7o correspondente para o im\\u00f3vel) Ap\\u00f3s a Limpeza nos dados\", \"Distribui\\u00e7\\u00e3o da label MEDV (Pre\\u00e7o correspondente para o im\\u00f3vel) Ap\\u00f3s a Limpeza nos dados\", \"Distribui\\u00e7\\u00e3o da label MEDV (Pre\\u00e7o correspondente para o im\\u00f3vel) Ap\\u00f3s a Limpeza nos dados\", \"Distribui\\u00e7\\u00e3o da label MEDV (Pre\\u00e7o correspondente para o im\\u00f3vel) Ap\\u00f3s a Limpeza nos dados\", \"Distribui\\u00e7\\u00e3o da label MEDV (Pre\\u00e7o correspondente para o im\\u00f3vel) Ap\\u00f3s a Limpeza nos dados\", \"Distribui\\u00e7\\u00e3o da label MEDV (Pre\\u00e7o correspondente para o im\\u00f3vel) Ap\\u00f3s a Limpeza nos dados\", \"Distribui\\u00e7\\u00e3o da label MEDV (Pre\\u00e7o correspondente para o im\\u00f3vel) Ap\\u00f3s a Limpeza nos dados\", \"Distribui\\u00e7\\u00e3o da label MEDV (Pre\\u00e7o correspondente para o im\\u00f3vel) Ap\\u00f3s a Limpeza nos dados\", \"Distribui\\u00e7\\u00e3o da label MEDV (Pre\\u00e7o correspondente para o im\\u00f3vel) Ap\\u00f3s a Limpeza nos dados\", \"Distribui\\u00e7\\u00e3o da label MEDV (Pre\\u00e7o correspondente para o im\\u00f3vel) Ap\\u00f3s a Limpeza nos dados\", \"Distribui\\u00e7\\u00e3o da label MEDV (Pre\\u00e7o correspondente para o im\\u00f3vel) Ap\\u00f3s a Limpeza nos dados\", \"Distribui\\u00e7\\u00e3o da label MEDV (Pre\\u00e7o correspondente para o im\\u00f3vel) Ap\\u00f3s a Limpeza nos dados\", \"Distribui\\u00e7\\u00e3o da label MEDV (Pre\\u00e7o correspondente para o im\\u00f3vel) Ap\\u00f3s a Limpeza nos dados\", \"Distribui\\u00e7\\u00e3o da label MEDV (Pre\\u00e7o correspondente para o im\\u00f3vel) Ap\\u00f3s a Limpeza nos dados\", \"Distribui\\u00e7\\u00e3o da label MEDV (Pre\\u00e7o correspondente para o im\\u00f3vel) Ap\\u00f3s a Limpeza nos dados\", \"Distribui\\u00e7\\u00e3o da label MEDV (Pre\\u00e7o correspondente para o im\\u00f3vel) Ap\\u00f3s a Limpeza nos dados\", \"Distribui\\u00e7\\u00e3o da label MEDV (Pre\\u00e7o correspondente para o im\\u00f3vel) Ap\\u00f3s a Limpeza nos dados\", \"Distribui\\u00e7\\u00e3o da label MEDV (Pre\\u00e7o correspondente para o im\\u00f3vel) Ap\\u00f3s a Limpeza nos dados\", \"Distribui\\u00e7\\u00e3o da label MEDV (Pre\\u00e7o correspondente para o im\\u00f3vel) Ap\\u00f3s a Limpeza nos dados\", \"Distribui\\u00e7\\u00e3o da label MEDV (Pre\\u00e7o correspondente para o im\\u00f3vel) Ap\\u00f3s a Limpeza nos dados\", \"Distribui\\u00e7\\u00e3o da label MEDV (Pre\\u00e7o correspondente para o im\\u00f3vel) Ap\\u00f3s a Limpeza nos dados\", \"Distribui\\u00e7\\u00e3o da label MEDV (Pre\\u00e7o correspondente para o im\\u00f3vel) Ap\\u00f3s a Limpeza nos dados\", \"Distribui\\u00e7\\u00e3o da label MEDV (Pre\\u00e7o correspondente para o im\\u00f3vel) Ap\\u00f3s a Limpeza nos dados\", \"Distribui\\u00e7\\u00e3o da label MEDV (Pre\\u00e7o correspondente para o im\\u00f3vel) Ap\\u00f3s a Limpeza nos dados\", \"Distribui\\u00e7\\u00e3o da label MEDV (Pre\\u00e7o correspondente para o im\\u00f3vel) Ap\\u00f3s a Limpeza nos dados\", \"Distribui\\u00e7\\u00e3o da label MEDV (Pre\\u00e7o correspondente para o im\\u00f3vel) Ap\\u00f3s a Limpeza nos dados\", \"Distribui\\u00e7\\u00e3o da label MEDV (Pre\\u00e7o correspondente para o im\\u00f3vel) Ap\\u00f3s a Limpeza nos dados\", \"Distribui\\u00e7\\u00e3o da label MEDV (Pre\\u00e7o correspondente para o im\\u00f3vel) Ap\\u00f3s a Limpeza nos dados\", \"Distribui\\u00e7\\u00e3o da label MEDV (Pre\\u00e7o correspondente para o im\\u00f3vel) Ap\\u00f3s a Limpeza nos dados\", \"Distribui\\u00e7\\u00e3o da label MEDV (Pre\\u00e7o correspondente para o im\\u00f3vel) Ap\\u00f3s a Limpeza nos dados\", \"Distribui\\u00e7\\u00e3o da label MEDV (Pre\\u00e7o correspondente para o im\\u00f3vel) Ap\\u00f3s a Limpeza nos dados\", \"Distribui\\u00e7\\u00e3o da label MEDV (Pre\\u00e7o correspondente para o im\\u00f3vel) Ap\\u00f3s a Limpeza nos dados\", \"Distribui\\u00e7\\u00e3o da label MEDV (Pre\\u00e7o correspondente para o im\\u00f3vel) Ap\\u00f3s a Limpeza nos dados\", \"Distribui\\u00e7\\u00e3o da label MEDV (Pre\\u00e7o correspondente para o im\\u00f3vel) Ap\\u00f3s a Limpeza nos dados\", \"Distribui\\u00e7\\u00e3o da label MEDV (Pre\\u00e7o correspondente para o im\\u00f3vel) Ap\\u00f3s a Limpeza nos dados\", \"Distribui\\u00e7\\u00e3o da label MEDV (Pre\\u00e7o correspondente para o im\\u00f3vel) Ap\\u00f3s a Limpeza nos dados\", \"Distribui\\u00e7\\u00e3o da label MEDV (Pre\\u00e7o correspondente para o im\\u00f3vel) Ap\\u00f3s a Limpeza nos dados\", \"Distribui\\u00e7\\u00e3o da label MEDV (Pre\\u00e7o correspondente para o im\\u00f3vel) Ap\\u00f3s a Limpeza nos dados\", \"Distribui\\u00e7\\u00e3o da label MEDV (Pre\\u00e7o correspondente para o im\\u00f3vel) Ap\\u00f3s a Limpeza nos dados\", \"Distribui\\u00e7\\u00e3o da label MEDV (Pre\\u00e7o correspondente para o im\\u00f3vel) Ap\\u00f3s a Limpeza nos dados\", \"Distribui\\u00e7\\u00e3o da label MEDV (Pre\\u00e7o correspondente para o im\\u00f3vel) Ap\\u00f3s a Limpeza nos dados\", \"Distribui\\u00e7\\u00e3o da label MEDV (Pre\\u00e7o correspondente para o im\\u00f3vel) Ap\\u00f3s a Limpeza nos dados\", \"Distribui\\u00e7\\u00e3o da label MEDV (Pre\\u00e7o correspondente para o im\\u00f3vel) Ap\\u00f3s a Limpeza nos dados\", \"Distribui\\u00e7\\u00e3o da label MEDV (Pre\\u00e7o correspondente para o im\\u00f3vel) Ap\\u00f3s a Limpeza nos dados\", \"Distribui\\u00e7\\u00e3o da label MEDV (Pre\\u00e7o correspondente para o im\\u00f3vel) Ap\\u00f3s a Limpeza nos dados\", \"Distribui\\u00e7\\u00e3o da label MEDV (Pre\\u00e7o correspondente para o im\\u00f3vel) Ap\\u00f3s a Limpeza nos dados\", \"Distribui\\u00e7\\u00e3o da label MEDV (Pre\\u00e7o correspondente para o im\\u00f3vel) Ap\\u00f3s a Limpeza nos dados\", \"Distribui\\u00e7\\u00e3o da label MEDV (Pre\\u00e7o correspondente para o im\\u00f3vel) Ap\\u00f3s a Limpeza nos dados\", \"Distribui\\u00e7\\u00e3o da label MEDV (Pre\\u00e7o correspondente para o im\\u00f3vel) Ap\\u00f3s a Limpeza nos dados\", \"Distribui\\u00e7\\u00e3o da label MEDV (Pre\\u00e7o correspondente para o im\\u00f3vel) Ap\\u00f3s a Limpeza nos dados\", \"Distribui\\u00e7\\u00e3o da label MEDV (Pre\\u00e7o correspondente para o im\\u00f3vel) Ap\\u00f3s a Limpeza nos dados\", \"Distribui\\u00e7\\u00e3o da label MEDV (Pre\\u00e7o correspondente para o im\\u00f3vel) Ap\\u00f3s a Limpeza nos dados\", \"Distribui\\u00e7\\u00e3o da label MEDV (Pre\\u00e7o correspondente para o im\\u00f3vel) Ap\\u00f3s a Limpeza nos dados\", \"Distribui\\u00e7\\u00e3o da label MEDV (Pre\\u00e7o correspondente para o im\\u00f3vel) Ap\\u00f3s a Limpeza nos dados\", \"Distribui\\u00e7\\u00e3o da label MEDV (Pre\\u00e7o correspondente para o im\\u00f3vel) Ap\\u00f3s a Limpeza nos dados\", \"Distribui\\u00e7\\u00e3o da label MEDV (Pre\\u00e7o correspondente para o im\\u00f3vel) Ap\\u00f3s a Limpeza nos dados\", \"Distribui\\u00e7\\u00e3o da label MEDV (Pre\\u00e7o correspondente para o im\\u00f3vel) Ap\\u00f3s a Limpeza nos dados\", \"Distribui\\u00e7\\u00e3o da label MEDV (Pre\\u00e7o correspondente para o im\\u00f3vel) Ap\\u00f3s a Limpeza nos dados\", \"Distribui\\u00e7\\u00e3o da label MEDV (Pre\\u00e7o correspondente para o im\\u00f3vel) Ap\\u00f3s a Limpeza nos dados\", \"Distribui\\u00e7\\u00e3o da label MEDV (Pre\\u00e7o correspondente para o im\\u00f3vel) Ap\\u00f3s a Limpeza nos dados\", \"Distribui\\u00e7\\u00e3o da label MEDV (Pre\\u00e7o correspondente para o im\\u00f3vel) Ap\\u00f3s a Limpeza nos dados\", \"Distribui\\u00e7\\u00e3o da label MEDV (Pre\\u00e7o correspondente para o im\\u00f3vel) Ap\\u00f3s a Limpeza nos dados\", \"Distribui\\u00e7\\u00e3o da label MEDV (Pre\\u00e7o correspondente para o im\\u00f3vel) Ap\\u00f3s a Limpeza nos dados\", \"Distribui\\u00e7\\u00e3o da label MEDV (Pre\\u00e7o correspondente para o im\\u00f3vel) Ap\\u00f3s a Limpeza nos dados\", \"Distribui\\u00e7\\u00e3o da label MEDV (Pre\\u00e7o correspondente para o im\\u00f3vel) Ap\\u00f3s a Limpeza nos dados\", \"Distribui\\u00e7\\u00e3o da label MEDV (Pre\\u00e7o correspondente para o im\\u00f3vel) Ap\\u00f3s a Limpeza nos dados\", \"Distribui\\u00e7\\u00e3o da label MEDV (Pre\\u00e7o correspondente para o im\\u00f3vel) Ap\\u00f3s a Limpeza nos dados\", \"Distribui\\u00e7\\u00e3o da label MEDV (Pre\\u00e7o correspondente para o im\\u00f3vel) Ap\\u00f3s a Limpeza nos dados\", \"Distribui\\u00e7\\u00e3o da label MEDV (Pre\\u00e7o correspondente para o im\\u00f3vel) Ap\\u00f3s a Limpeza nos dados\", \"Distribui\\u00e7\\u00e3o da label MEDV (Pre\\u00e7o correspondente para o im\\u00f3vel) Ap\\u00f3s a Limpeza nos dados\", \"Distribui\\u00e7\\u00e3o da label MEDV (Pre\\u00e7o correspondente para o im\\u00f3vel) Ap\\u00f3s a Limpeza nos dados\", \"Distribui\\u00e7\\u00e3o da label MEDV (Pre\\u00e7o correspondente para o im\\u00f3vel) Ap\\u00f3s a Limpeza nos dados\", \"Distribui\\u00e7\\u00e3o da label MEDV (Pre\\u00e7o correspondente para o im\\u00f3vel) Ap\\u00f3s a Limpeza nos dados\", \"Distribui\\u00e7\\u00e3o da label MEDV (Pre\\u00e7o correspondente para o im\\u00f3vel) Ap\\u00f3s a Limpeza nos dados\", \"Distribui\\u00e7\\u00e3o da label MEDV (Pre\\u00e7o correspondente para o im\\u00f3vel) Ap\\u00f3s a Limpeza nos dados\", \"Distribui\\u00e7\\u00e3o da label MEDV (Pre\\u00e7o correspondente para o im\\u00f3vel) Ap\\u00f3s a Limpeza nos dados\", \"Distribui\\u00e7\\u00e3o da label MEDV (Pre\\u00e7o correspondente para o im\\u00f3vel) Ap\\u00f3s a Limpeza nos dados\", \"Distribui\\u00e7\\u00e3o da label MEDV (Pre\\u00e7o correspondente para o im\\u00f3vel) Ap\\u00f3s a Limpeza nos dados\", \"Distribui\\u00e7\\u00e3o da label MEDV (Pre\\u00e7o correspondente para o im\\u00f3vel) Ap\\u00f3s a Limpeza nos dados\", \"Distribui\\u00e7\\u00e3o da label MEDV (Pre\\u00e7o correspondente para o im\\u00f3vel) Ap\\u00f3s a Limpeza nos dados\", \"Distribui\\u00e7\\u00e3o da label MEDV (Pre\\u00e7o correspondente para o im\\u00f3vel) Ap\\u00f3s a Limpeza nos dados\", \"Distribui\\u00e7\\u00e3o da label MEDV (Pre\\u00e7o correspondente para o im\\u00f3vel) Ap\\u00f3s a Limpeza nos dados\", \"Distribui\\u00e7\\u00e3o da label MEDV (Pre\\u00e7o correspondente para o im\\u00f3vel) Ap\\u00f3s a Limpeza nos dados\", \"Distribui\\u00e7\\u00e3o da label MEDV (Pre\\u00e7o correspondente para o im\\u00f3vel) Ap\\u00f3s a Limpeza nos dados\", \"Distribui\\u00e7\\u00e3o da label MEDV (Pre\\u00e7o correspondente para o im\\u00f3vel) Ap\\u00f3s a Limpeza nos dados\", \"Distribui\\u00e7\\u00e3o da label MEDV (Pre\\u00e7o correspondente para o im\\u00f3vel) Ap\\u00f3s a Limpeza nos dados\", \"Distribui\\u00e7\\u00e3o da label MEDV (Pre\\u00e7o correspondente para o im\\u00f3vel) Ap\\u00f3s a Limpeza nos dados\", \"Distribui\\u00e7\\u00e3o da label MEDV (Pre\\u00e7o correspondente para o im\\u00f3vel) Ap\\u00f3s a Limpeza nos dados\", \"Distribui\\u00e7\\u00e3o da label MEDV (Pre\\u00e7o correspondente para o im\\u00f3vel) Ap\\u00f3s a Limpeza nos dados\", \"Distribui\\u00e7\\u00e3o da label MEDV (Pre\\u00e7o correspondente para o im\\u00f3vel) Ap\\u00f3s a Limpeza nos dados\", \"Distribui\\u00e7\\u00e3o da label MEDV (Pre\\u00e7o correspondente para o im\\u00f3vel) Ap\\u00f3s a Limpeza nos dados\", \"Distribui\\u00e7\\u00e3o da label MEDV (Pre\\u00e7o correspondente para o im\\u00f3vel) Ap\\u00f3s a Limpeza nos dados\", \"Distribui\\u00e7\\u00e3o da label MEDV (Pre\\u00e7o correspondente para o im\\u00f3vel) Ap\\u00f3s a Limpeza nos dados\", \"Distribui\\u00e7\\u00e3o da label MEDV (Pre\\u00e7o correspondente para o im\\u00f3vel) Ap\\u00f3s a Limpeza nos dados\", \"Distribui\\u00e7\\u00e3o da label MEDV (Pre\\u00e7o correspondente para o im\\u00f3vel) Ap\\u00f3s a Limpeza nos dados\", \"Distribui\\u00e7\\u00e3o da label MEDV (Pre\\u00e7o correspondente para o im\\u00f3vel) Ap\\u00f3s a Limpeza nos dados\", \"Distribui\\u00e7\\u00e3o da label MEDV (Pre\\u00e7o correspondente para o im\\u00f3vel) Ap\\u00f3s a Limpeza nos dados\", \"Distribui\\u00e7\\u00e3o da label MEDV (Pre\\u00e7o correspondente para o im\\u00f3vel) Ap\\u00f3s a Limpeza nos dados\", \"Distribui\\u00e7\\u00e3o da label MEDV (Pre\\u00e7o correspondente para o im\\u00f3vel) Ap\\u00f3s a Limpeza nos dados\", \"Distribui\\u00e7\\u00e3o da label MEDV (Pre\\u00e7o correspondente para o im\\u00f3vel) Ap\\u00f3s a Limpeza nos dados\", \"Distribui\\u00e7\\u00e3o da label MEDV (Pre\\u00e7o correspondente para o im\\u00f3vel) Ap\\u00f3s a Limpeza nos dados\", \"Distribui\\u00e7\\u00e3o da label MEDV (Pre\\u00e7o correspondente para o im\\u00f3vel) Ap\\u00f3s a Limpeza nos dados\", \"Distribui\\u00e7\\u00e3o da label MEDV (Pre\\u00e7o correspondente para o im\\u00f3vel) Ap\\u00f3s a Limpeza nos dados\", \"Distribui\\u00e7\\u00e3o da label MEDV (Pre\\u00e7o correspondente para o im\\u00f3vel) Ap\\u00f3s a Limpeza nos dados\", \"Distribui\\u00e7\\u00e3o da label MEDV (Pre\\u00e7o correspondente para o im\\u00f3vel) Ap\\u00f3s a Limpeza nos dados\", \"Distribui\\u00e7\\u00e3o da label MEDV (Pre\\u00e7o correspondente para o im\\u00f3vel) Ap\\u00f3s a Limpeza nos dados\", \"Distribui\\u00e7\\u00e3o da label MEDV (Pre\\u00e7o correspondente para o im\\u00f3vel) Ap\\u00f3s a Limpeza nos dados\", \"Distribui\\u00e7\\u00e3o da label MEDV (Pre\\u00e7o correspondente para o im\\u00f3vel) Ap\\u00f3s a Limpeza nos dados\", \"Distribui\\u00e7\\u00e3o da label MEDV (Pre\\u00e7o correspondente para o im\\u00f3vel) Ap\\u00f3s a Limpeza nos dados\", \"Distribui\\u00e7\\u00e3o da label MEDV (Pre\\u00e7o correspondente para o im\\u00f3vel) Ap\\u00f3s a Limpeza nos dados\", \"Distribui\\u00e7\\u00e3o da label MEDV (Pre\\u00e7o correspondente para o im\\u00f3vel) Ap\\u00f3s a Limpeza nos dados\", \"Distribui\\u00e7\\u00e3o da label MEDV (Pre\\u00e7o correspondente para o im\\u00f3vel) Ap\\u00f3s a Limpeza nos dados\", \"Distribui\\u00e7\\u00e3o da label MEDV (Pre\\u00e7o correspondente para o im\\u00f3vel) Ap\\u00f3s a Limpeza nos dados\", \"Distribui\\u00e7\\u00e3o da label MEDV (Pre\\u00e7o correspondente para o im\\u00f3vel) Ap\\u00f3s a Limpeza nos dados\", \"Distribui\\u00e7\\u00e3o da label MEDV (Pre\\u00e7o correspondente para o im\\u00f3vel) Ap\\u00f3s a Limpeza nos dados\", \"Distribui\\u00e7\\u00e3o da label MEDV (Pre\\u00e7o correspondente para o im\\u00f3vel) Ap\\u00f3s a Limpeza nos dados\", \"Distribui\\u00e7\\u00e3o da label MEDV (Pre\\u00e7o correspondente para o im\\u00f3vel) Ap\\u00f3s a Limpeza nos dados\", \"Distribui\\u00e7\\u00e3o da label MEDV (Pre\\u00e7o correspondente para o im\\u00f3vel) Ap\\u00f3s a Limpeza nos dados\", \"Distribui\\u00e7\\u00e3o da label MEDV (Pre\\u00e7o correspondente para o im\\u00f3vel) Ap\\u00f3s a Limpeza nos dados\", \"Distribui\\u00e7\\u00e3o da label MEDV (Pre\\u00e7o correspondente para o im\\u00f3vel) Ap\\u00f3s a Limpeza nos dados\", \"Distribui\\u00e7\\u00e3o da label MEDV (Pre\\u00e7o correspondente para o im\\u00f3vel) Ap\\u00f3s a Limpeza nos dados\", \"Distribui\\u00e7\\u00e3o da label MEDV (Pre\\u00e7o correspondente para o im\\u00f3vel) Ap\\u00f3s a Limpeza nos dados\", \"Distribui\\u00e7\\u00e3o da label MEDV (Pre\\u00e7o correspondente para o im\\u00f3vel) Ap\\u00f3s a Limpeza nos dados\", \"Distribui\\u00e7\\u00e3o da label MEDV (Pre\\u00e7o correspondente para o im\\u00f3vel) Ap\\u00f3s a Limpeza nos dados\", \"Distribui\\u00e7\\u00e3o da label MEDV (Pre\\u00e7o correspondente para o im\\u00f3vel) Ap\\u00f3s a Limpeza nos dados\", \"Distribui\\u00e7\\u00e3o da label MEDV (Pre\\u00e7o correspondente para o im\\u00f3vel) Ap\\u00f3s a Limpeza nos dados\", \"Distribui\\u00e7\\u00e3o da label MEDV (Pre\\u00e7o correspondente para o im\\u00f3vel) Ap\\u00f3s a Limpeza nos dados\", \"Distribui\\u00e7\\u00e3o da label MEDV (Pre\\u00e7o correspondente para o im\\u00f3vel) Ap\\u00f3s a Limpeza nos dados\", \"Distribui\\u00e7\\u00e3o da label MEDV (Pre\\u00e7o correspondente para o im\\u00f3vel) Ap\\u00f3s a Limpeza nos dados\", \"Distribui\\u00e7\\u00e3o da label MEDV (Pre\\u00e7o correspondente para o im\\u00f3vel) Ap\\u00f3s a Limpeza nos dados\", \"Distribui\\u00e7\\u00e3o da label MEDV (Pre\\u00e7o correspondente para o im\\u00f3vel) Ap\\u00f3s a Limpeza nos dados\", \"Distribui\\u00e7\\u00e3o da label MEDV (Pre\\u00e7o correspondente para o im\\u00f3vel) Ap\\u00f3s a Limpeza nos dados\", \"Distribui\\u00e7\\u00e3o da label MEDV (Pre\\u00e7o correspondente para o im\\u00f3vel) Ap\\u00f3s a Limpeza nos dados\", \"Distribui\\u00e7\\u00e3o da label MEDV (Pre\\u00e7o correspondente para o im\\u00f3vel) Ap\\u00f3s a Limpeza nos dados\", \"Distribui\\u00e7\\u00e3o da label MEDV (Pre\\u00e7o correspondente para o im\\u00f3vel) Ap\\u00f3s a Limpeza nos dados\", \"Distribui\\u00e7\\u00e3o da label MEDV (Pre\\u00e7o correspondente para o im\\u00f3vel) Ap\\u00f3s a Limpeza nos dados\", \"Distribui\\u00e7\\u00e3o da label MEDV (Pre\\u00e7o correspondente para o im\\u00f3vel) Ap\\u00f3s a Limpeza nos dados\", \"Distribui\\u00e7\\u00e3o da label MEDV (Pre\\u00e7o correspondente para o im\\u00f3vel) Ap\\u00f3s a Limpeza nos dados\", \"Distribui\\u00e7\\u00e3o da label MEDV (Pre\\u00e7o correspondente para o im\\u00f3vel) Ap\\u00f3s a Limpeza nos dados\", \"Distribui\\u00e7\\u00e3o da label MEDV (Pre\\u00e7o correspondente para o im\\u00f3vel) Ap\\u00f3s a Limpeza nos dados\", \"Distribui\\u00e7\\u00e3o da label MEDV (Pre\\u00e7o correspondente para o im\\u00f3vel) Ap\\u00f3s a Limpeza nos dados\", \"Distribui\\u00e7\\u00e3o da label MEDV (Pre\\u00e7o correspondente para o im\\u00f3vel) Ap\\u00f3s a Limpeza nos dados\", \"Distribui\\u00e7\\u00e3o da label MEDV (Pre\\u00e7o correspondente para o im\\u00f3vel) Ap\\u00f3s a Limpeza nos dados\", \"Distribui\\u00e7\\u00e3o da label MEDV (Pre\\u00e7o correspondente para o im\\u00f3vel) Ap\\u00f3s a Limpeza nos dados\", \"Distribui\\u00e7\\u00e3o da label MEDV (Pre\\u00e7o correspondente para o im\\u00f3vel) Ap\\u00f3s a Limpeza nos dados\", \"Distribui\\u00e7\\u00e3o da label MEDV (Pre\\u00e7o correspondente para o im\\u00f3vel) Ap\\u00f3s a Limpeza nos dados\", \"Distribui\\u00e7\\u00e3o da label MEDV (Pre\\u00e7o correspondente para o im\\u00f3vel) Ap\\u00f3s a Limpeza nos dados\", \"Distribui\\u00e7\\u00e3o da label MEDV (Pre\\u00e7o correspondente para o im\\u00f3vel) Ap\\u00f3s a Limpeza nos dados\", \"Distribui\\u00e7\\u00e3o da label MEDV (Pre\\u00e7o correspondente para o im\\u00f3vel) Ap\\u00f3s a Limpeza nos dados\", \"Distribui\\u00e7\\u00e3o da label MEDV (Pre\\u00e7o correspondente para o im\\u00f3vel) Ap\\u00f3s a Limpeza nos dados\", \"Distribui\\u00e7\\u00e3o da label MEDV (Pre\\u00e7o correspondente para o im\\u00f3vel) Ap\\u00f3s a Limpeza nos dados\", \"Distribui\\u00e7\\u00e3o da label MEDV (Pre\\u00e7o correspondente para o im\\u00f3vel) Ap\\u00f3s a Limpeza nos dados\", \"Distribui\\u00e7\\u00e3o da label MEDV (Pre\\u00e7o correspondente para o im\\u00f3vel) Ap\\u00f3s a Limpeza nos dados\", \"Distribui\\u00e7\\u00e3o da label MEDV (Pre\\u00e7o correspondente para o im\\u00f3vel) Ap\\u00f3s a Limpeza nos dados\", \"Distribui\\u00e7\\u00e3o da label MEDV (Pre\\u00e7o correspondente para o im\\u00f3vel) Ap\\u00f3s a Limpeza nos dados\", \"Distribui\\u00e7\\u00e3o da label MEDV (Pre\\u00e7o correspondente para o im\\u00f3vel) Ap\\u00f3s a Limpeza nos dados\", \"Distribui\\u00e7\\u00e3o da label MEDV (Pre\\u00e7o correspondente para o im\\u00f3vel) Ap\\u00f3s a Limpeza nos dados\", \"Distribui\\u00e7\\u00e3o da label MEDV (Pre\\u00e7o correspondente para o im\\u00f3vel) Ap\\u00f3s a Limpeza nos dados\", \"Distribui\\u00e7\\u00e3o da label MEDV (Pre\\u00e7o correspondente para o im\\u00f3vel) Ap\\u00f3s a Limpeza nos dados\", \"Distribui\\u00e7\\u00e3o da label MEDV (Pre\\u00e7o correspondente para o im\\u00f3vel) Ap\\u00f3s a Limpeza nos dados\", \"Distribui\\u00e7\\u00e3o da label MEDV (Pre\\u00e7o correspondente para o im\\u00f3vel) Ap\\u00f3s a Limpeza nos dados\", \"Distribui\\u00e7\\u00e3o da label MEDV (Pre\\u00e7o correspondente para o im\\u00f3vel) Ap\\u00f3s a Limpeza nos dados\", \"Distribui\\u00e7\\u00e3o da label MEDV (Pre\\u00e7o correspondente para o im\\u00f3vel) Ap\\u00f3s a Limpeza nos dados\", \"Distribui\\u00e7\\u00e3o da label MEDV (Pre\\u00e7o correspondente para o im\\u00f3vel) Ap\\u00f3s a Limpeza nos dados\", \"Distribui\\u00e7\\u00e3o da label MEDV (Pre\\u00e7o correspondente para o im\\u00f3vel) Ap\\u00f3s a Limpeza nos dados\", \"Distribui\\u00e7\\u00e3o da label MEDV (Pre\\u00e7o correspondente para o im\\u00f3vel) Ap\\u00f3s a Limpeza nos dados\", \"Distribui\\u00e7\\u00e3o da label MEDV (Pre\\u00e7o correspondente para o im\\u00f3vel) Ap\\u00f3s a Limpeza nos dados\", \"Distribui\\u00e7\\u00e3o da label MEDV (Pre\\u00e7o correspondente para o im\\u00f3vel) Ap\\u00f3s a Limpeza nos dados\", \"Distribui\\u00e7\\u00e3o da label MEDV (Pre\\u00e7o correspondente para o im\\u00f3vel) Ap\\u00f3s a Limpeza nos dados\", \"Distribui\\u00e7\\u00e3o da label MEDV (Pre\\u00e7o correspondente para o im\\u00f3vel) Ap\\u00f3s a Limpeza nos dados\", \"Distribui\\u00e7\\u00e3o da label MEDV (Pre\\u00e7o correspondente para o im\\u00f3vel) Ap\\u00f3s a Limpeza nos dados\", \"Distribui\\u00e7\\u00e3o da label MEDV (Pre\\u00e7o correspondente para o im\\u00f3vel) Ap\\u00f3s a Limpeza nos dados\", \"Distribui\\u00e7\\u00e3o da label MEDV (Pre\\u00e7o correspondente para o im\\u00f3vel) Ap\\u00f3s a Limpeza nos dados\", \"Distribui\\u00e7\\u00e3o da label MEDV (Pre\\u00e7o correspondente para o im\\u00f3vel) Ap\\u00f3s a Limpeza nos dados\", \"Distribui\\u00e7\\u00e3o da label MEDV (Pre\\u00e7o correspondente para o im\\u00f3vel) Ap\\u00f3s a Limpeza nos dados\", \"Distribui\\u00e7\\u00e3o da label MEDV (Pre\\u00e7o correspondente para o im\\u00f3vel) Ap\\u00f3s a Limpeza nos dados\", \"Distribui\\u00e7\\u00e3o da label MEDV (Pre\\u00e7o correspondente para o im\\u00f3vel) Ap\\u00f3s a Limpeza nos dados\", \"Distribui\\u00e7\\u00e3o da label MEDV (Pre\\u00e7o correspondente para o im\\u00f3vel) Ap\\u00f3s a Limpeza nos dados\", \"Distribui\\u00e7\\u00e3o da label MEDV (Pre\\u00e7o correspondente para o im\\u00f3vel) Ap\\u00f3s a Limpeza nos dados\", \"Distribui\\u00e7\\u00e3o da label MEDV (Pre\\u00e7o correspondente para o im\\u00f3vel) Ap\\u00f3s a Limpeza nos dados\", \"Distribui\\u00e7\\u00e3o da label MEDV (Pre\\u00e7o correspondente para o im\\u00f3vel) Ap\\u00f3s a Limpeza nos dados\", \"Distribui\\u00e7\\u00e3o da label MEDV (Pre\\u00e7o correspondente para o im\\u00f3vel) Ap\\u00f3s a Limpeza nos dados\", \"Distribui\\u00e7\\u00e3o da label MEDV (Pre\\u00e7o correspondente para o im\\u00f3vel) Ap\\u00f3s a Limpeza nos dados\", \"Distribui\\u00e7\\u00e3o da label MEDV (Pre\\u00e7o correspondente para o im\\u00f3vel) Ap\\u00f3s a Limpeza nos dados\", \"Distribui\\u00e7\\u00e3o da label MEDV (Pre\\u00e7o correspondente para o im\\u00f3vel) Ap\\u00f3s a Limpeza nos dados\", \"Distribui\\u00e7\\u00e3o da label MEDV (Pre\\u00e7o correspondente para o im\\u00f3vel) Ap\\u00f3s a Limpeza nos dados\", \"Distribui\\u00e7\\u00e3o da label MEDV (Pre\\u00e7o correspondente para o im\\u00f3vel) Ap\\u00f3s a Limpeza nos dados\", \"Distribui\\u00e7\\u00e3o da label MEDV (Pre\\u00e7o correspondente para o im\\u00f3vel) Ap\\u00f3s a Limpeza nos dados\", \"Distribui\\u00e7\\u00e3o da label MEDV (Pre\\u00e7o correspondente para o im\\u00f3vel) Ap\\u00f3s a Limpeza nos dados\", \"Distribui\\u00e7\\u00e3o da label MEDV (Pre\\u00e7o correspondente para o im\\u00f3vel) Ap\\u00f3s a Limpeza nos dados\", \"Distribui\\u00e7\\u00e3o da label MEDV (Pre\\u00e7o correspondente para o im\\u00f3vel) Ap\\u00f3s a Limpeza nos dados\", \"Distribui\\u00e7\\u00e3o da label MEDV (Pre\\u00e7o correspondente para o im\\u00f3vel) Ap\\u00f3s a Limpeza nos dados\", \"Distribui\\u00e7\\u00e3o da label MEDV (Pre\\u00e7o correspondente para o im\\u00f3vel) Ap\\u00f3s a Limpeza nos dados\", \"Distribui\\u00e7\\u00e3o da label MEDV (Pre\\u00e7o correspondente para o im\\u00f3vel) Ap\\u00f3s a Limpeza nos dados\", \"Distribui\\u00e7\\u00e3o da label MEDV (Pre\\u00e7o correspondente para o im\\u00f3vel) Ap\\u00f3s a Limpeza nos dados\", \"Distribui\\u00e7\\u00e3o da label MEDV (Pre\\u00e7o correspondente para o im\\u00f3vel) Ap\\u00f3s a Limpeza nos dados\", \"Distribui\\u00e7\\u00e3o da label MEDV (Pre\\u00e7o correspondente para o im\\u00f3vel) Ap\\u00f3s a Limpeza nos dados\", \"Distribui\\u00e7\\u00e3o da label MEDV (Pre\\u00e7o correspondente para o im\\u00f3vel) Ap\\u00f3s a Limpeza nos dados\", \"Distribui\\u00e7\\u00e3o da label MEDV (Pre\\u00e7o correspondente para o im\\u00f3vel) Ap\\u00f3s a Limpeza nos dados\", \"Distribui\\u00e7\\u00e3o da label MEDV (Pre\\u00e7o correspondente para o im\\u00f3vel) Ap\\u00f3s a Limpeza nos dados\", \"Distribui\\u00e7\\u00e3o da label MEDV (Pre\\u00e7o correspondente para o im\\u00f3vel) Ap\\u00f3s a Limpeza nos dados\", \"Distribui\\u00e7\\u00e3o da label MEDV (Pre\\u00e7o correspondente para o im\\u00f3vel) Ap\\u00f3s a Limpeza nos dados\", \"Distribui\\u00e7\\u00e3o da label MEDV (Pre\\u00e7o correspondente para o im\\u00f3vel) Ap\\u00f3s a Limpeza nos dados\", \"Distribui\\u00e7\\u00e3o da label MEDV (Pre\\u00e7o correspondente para o im\\u00f3vel) Ap\\u00f3s a Limpeza nos dados\", \"Distribui\\u00e7\\u00e3o da label MEDV (Pre\\u00e7o correspondente para o im\\u00f3vel) Ap\\u00f3s a Limpeza nos dados\", \"Distribui\\u00e7\\u00e3o da label MEDV (Pre\\u00e7o correspondente para o im\\u00f3vel) Ap\\u00f3s a Limpeza nos dados\", \"Distribui\\u00e7\\u00e3o da label MEDV (Pre\\u00e7o correspondente para o im\\u00f3vel) Ap\\u00f3s a Limpeza nos dados\", \"Distribui\\u00e7\\u00e3o da label MEDV (Pre\\u00e7o correspondente para o im\\u00f3vel) Ap\\u00f3s a Limpeza nos dados\", \"Distribui\\u00e7\\u00e3o da label MEDV (Pre\\u00e7o correspondente para o im\\u00f3vel) Ap\\u00f3s a Limpeza nos dados\", \"Distribui\\u00e7\\u00e3o da label MEDV (Pre\\u00e7o correspondente para o im\\u00f3vel) Ap\\u00f3s a Limpeza nos dados\", \"Distribui\\u00e7\\u00e3o da label MEDV (Pre\\u00e7o correspondente para o im\\u00f3vel) Ap\\u00f3s a Limpeza nos dados\", \"Distribui\\u00e7\\u00e3o da label MEDV (Pre\\u00e7o correspondente para o im\\u00f3vel) Ap\\u00f3s a Limpeza nos dados\", \"Distribui\\u00e7\\u00e3o da label MEDV (Pre\\u00e7o correspondente para o im\\u00f3vel) Ap\\u00f3s a Limpeza nos dados\", \"Distribui\\u00e7\\u00e3o da label MEDV (Pre\\u00e7o correspondente para o im\\u00f3vel) Ap\\u00f3s a Limpeza nos dados\", \"Distribui\\u00e7\\u00e3o da label MEDV (Pre\\u00e7o correspondente para o im\\u00f3vel) Ap\\u00f3s a Limpeza nos dados\", \"Distribui\\u00e7\\u00e3o da label MEDV (Pre\\u00e7o correspondente para o im\\u00f3vel) Ap\\u00f3s a Limpeza nos dados\", \"Distribui\\u00e7\\u00e3o da label MEDV (Pre\\u00e7o correspondente para o im\\u00f3vel) Ap\\u00f3s a Limpeza nos dados\", \"Distribui\\u00e7\\u00e3o da label MEDV (Pre\\u00e7o correspondente para o im\\u00f3vel) Ap\\u00f3s a Limpeza nos dados\", \"Distribui\\u00e7\\u00e3o da label MEDV (Pre\\u00e7o correspondente para o im\\u00f3vel) Ap\\u00f3s a Limpeza nos dados\", \"Distribui\\u00e7\\u00e3o da label MEDV (Pre\\u00e7o correspondente para o im\\u00f3vel) Ap\\u00f3s a Limpeza nos dados\", \"Distribui\\u00e7\\u00e3o da label MEDV (Pre\\u00e7o correspondente para o im\\u00f3vel) Ap\\u00f3s a Limpeza nos dados\", \"Distribui\\u00e7\\u00e3o da label MEDV (Pre\\u00e7o correspondente para o im\\u00f3vel) Ap\\u00f3s a Limpeza nos dados\", \"Distribui\\u00e7\\u00e3o da label MEDV (Pre\\u00e7o correspondente para o im\\u00f3vel) Ap\\u00f3s a Limpeza nos dados\", \"Distribui\\u00e7\\u00e3o da label MEDV (Pre\\u00e7o correspondente para o im\\u00f3vel) Ap\\u00f3s a Limpeza nos dados\", \"Distribui\\u00e7\\u00e3o da label MEDV (Pre\\u00e7o correspondente para o im\\u00f3vel) Ap\\u00f3s a Limpeza nos dados\", \"Distribui\\u00e7\\u00e3o da label MEDV (Pre\\u00e7o correspondente para o im\\u00f3vel) Ap\\u00f3s a Limpeza nos dados\", \"Distribui\\u00e7\\u00e3o da label MEDV (Pre\\u00e7o correspondente para o im\\u00f3vel) Ap\\u00f3s a Limpeza nos dados\", \"Distribui\\u00e7\\u00e3o da label MEDV (Pre\\u00e7o correspondente para o im\\u00f3vel) Ap\\u00f3s a Limpeza nos dados\", \"Distribui\\u00e7\\u00e3o da label MEDV (Pre\\u00e7o correspondente para o im\\u00f3vel) Ap\\u00f3s a Limpeza nos dados\", \"Distribui\\u00e7\\u00e3o da label MEDV (Pre\\u00e7o correspondente para o im\\u00f3vel) Ap\\u00f3s a Limpeza nos dados\", \"Distribui\\u00e7\\u00e3o da label MEDV (Pre\\u00e7o correspondente para o im\\u00f3vel) Ap\\u00f3s a Limpeza nos dados\", \"Distribui\\u00e7\\u00e3o da label MEDV (Pre\\u00e7o correspondente para o im\\u00f3vel) Ap\\u00f3s a Limpeza nos dados\", \"Distribui\\u00e7\\u00e3o da label MEDV (Pre\\u00e7o correspondente para o im\\u00f3vel) Ap\\u00f3s a Limpeza nos dados\", \"Distribui\\u00e7\\u00e3o da label MEDV (Pre\\u00e7o correspondente para o im\\u00f3vel) Ap\\u00f3s a Limpeza nos dados\", \"Distribui\\u00e7\\u00e3o da label MEDV (Pre\\u00e7o correspondente para o im\\u00f3vel) Ap\\u00f3s a Limpeza nos dados\", \"Distribui\\u00e7\\u00e3o da label MEDV (Pre\\u00e7o correspondente para o im\\u00f3vel) Ap\\u00f3s a Limpeza nos dados\", \"Distribui\\u00e7\\u00e3o da label MEDV (Pre\\u00e7o correspondente para o im\\u00f3vel) Ap\\u00f3s a Limpeza nos dados\", \"Distribui\\u00e7\\u00e3o da label MEDV (Pre\\u00e7o correspondente para o im\\u00f3vel) Ap\\u00f3s a Limpeza nos dados\", \"Distribui\\u00e7\\u00e3o da label MEDV (Pre\\u00e7o correspondente para o im\\u00f3vel) Ap\\u00f3s a Limpeza nos dados\", \"Distribui\\u00e7\\u00e3o da label MEDV (Pre\\u00e7o correspondente para o im\\u00f3vel) Ap\\u00f3s a Limpeza nos dados\", \"Distribui\\u00e7\\u00e3o da label MEDV (Pre\\u00e7o correspondente para o im\\u00f3vel) Ap\\u00f3s a Limpeza nos dados\", \"Distribui\\u00e7\\u00e3o da label MEDV (Pre\\u00e7o correspondente para o im\\u00f3vel) Ap\\u00f3s a Limpeza nos dados\", \"Distribui\\u00e7\\u00e3o da label MEDV (Pre\\u00e7o correspondente para o im\\u00f3vel) Ap\\u00f3s a Limpeza nos dados\", \"Distribui\\u00e7\\u00e3o da label MEDV (Pre\\u00e7o correspondente para o im\\u00f3vel) Ap\\u00f3s a Limpeza nos dados\", \"Distribui\\u00e7\\u00e3o da label MEDV (Pre\\u00e7o correspondente para o im\\u00f3vel) Ap\\u00f3s a Limpeza nos dados\", \"Distribui\\u00e7\\u00e3o da label MEDV (Pre\\u00e7o correspondente para o im\\u00f3vel) Ap\\u00f3s a Limpeza nos dados\", \"Distribui\\u00e7\\u00e3o da label MEDV (Pre\\u00e7o correspondente para o im\\u00f3vel) Ap\\u00f3s a Limpeza nos dados\", \"Distribui\\u00e7\\u00e3o da label MEDV (Pre\\u00e7o correspondente para o im\\u00f3vel) Ap\\u00f3s a Limpeza nos dados\", \"Distribui\\u00e7\\u00e3o da label MEDV (Pre\\u00e7o correspondente para o im\\u00f3vel) Ap\\u00f3s a Limpeza nos dados\", \"Distribui\\u00e7\\u00e3o da label MEDV (Pre\\u00e7o correspondente para o im\\u00f3vel) Ap\\u00f3s a Limpeza nos dados\", \"Distribui\\u00e7\\u00e3o da label MEDV (Pre\\u00e7o correspondente para o im\\u00f3vel) Ap\\u00f3s a Limpeza nos dados\", \"Distribui\\u00e7\\u00e3o da label MEDV (Pre\\u00e7o correspondente para o im\\u00f3vel) Ap\\u00f3s a Limpeza nos dados\", \"Distribui\\u00e7\\u00e3o da label MEDV (Pre\\u00e7o correspondente para o im\\u00f3vel) Ap\\u00f3s a Limpeza nos dados\", \"Distribui\\u00e7\\u00e3o da label MEDV (Pre\\u00e7o correspondente para o im\\u00f3vel) Ap\\u00f3s a Limpeza nos dados\", \"Distribui\\u00e7\\u00e3o da label MEDV (Pre\\u00e7o correspondente para o im\\u00f3vel) Ap\\u00f3s a Limpeza nos dados\", \"Distribui\\u00e7\\u00e3o da label MEDV (Pre\\u00e7o correspondente para o im\\u00f3vel) Ap\\u00f3s a Limpeza nos dados\", \"Distribui\\u00e7\\u00e3o da label MEDV (Pre\\u00e7o correspondente para o im\\u00f3vel) Ap\\u00f3s a Limpeza nos dados\", \"Distribui\\u00e7\\u00e3o da label MEDV (Pre\\u00e7o correspondente para o im\\u00f3vel) Ap\\u00f3s a Limpeza nos dados\", \"Distribui\\u00e7\\u00e3o da label MEDV (Pre\\u00e7o correspondente para o im\\u00f3vel) Ap\\u00f3s a Limpeza nos dados\", \"Distribui\\u00e7\\u00e3o da label MEDV (Pre\\u00e7o correspondente para o im\\u00f3vel) Ap\\u00f3s a Limpeza nos dados\", \"Distribui\\u00e7\\u00e3o da label MEDV (Pre\\u00e7o correspondente para o im\\u00f3vel) Ap\\u00f3s a Limpeza nos dados\", \"Distribui\\u00e7\\u00e3o da label MEDV (Pre\\u00e7o correspondente para o im\\u00f3vel) Ap\\u00f3s a Limpeza nos dados\", \"Distribui\\u00e7\\u00e3o da label MEDV (Pre\\u00e7o correspondente para o im\\u00f3vel) Ap\\u00f3s a Limpeza nos dados\", \"Distribui\\u00e7\\u00e3o da label MEDV (Pre\\u00e7o correspondente para o im\\u00f3vel) Ap\\u00f3s a Limpeza nos dados\", \"Distribui\\u00e7\\u00e3o da label MEDV (Pre\\u00e7o correspondente para o im\\u00f3vel) Ap\\u00f3s a Limpeza nos dados\", \"Distribui\\u00e7\\u00e3o da label MEDV (Pre\\u00e7o correspondente para o im\\u00f3vel) Ap\\u00f3s a Limpeza nos dados\", \"Distribui\\u00e7\\u00e3o da label MEDV (Pre\\u00e7o correspondente para o im\\u00f3vel) Ap\\u00f3s a Limpeza nos dados\", \"Distribui\\u00e7\\u00e3o da label MEDV (Pre\\u00e7o correspondente para o im\\u00f3vel) Ap\\u00f3s a Limpeza nos dados\", \"Distribui\\u00e7\\u00e3o da label MEDV (Pre\\u00e7o correspondente para o im\\u00f3vel) Ap\\u00f3s a Limpeza nos dados\", \"Distribui\\u00e7\\u00e3o da label MEDV (Pre\\u00e7o correspondente para o im\\u00f3vel) Ap\\u00f3s a Limpeza nos dados\", \"Distribui\\u00e7\\u00e3o da label MEDV (Pre\\u00e7o correspondente para o im\\u00f3vel) Ap\\u00f3s a Limpeza nos dados\", \"Distribui\\u00e7\\u00e3o da label MEDV (Pre\\u00e7o correspondente para o im\\u00f3vel) Ap\\u00f3s a Limpeza nos dados\", \"Distribui\\u00e7\\u00e3o da label MEDV (Pre\\u00e7o correspondente para o im\\u00f3vel) Ap\\u00f3s a Limpeza nos dados\", \"Distribui\\u00e7\\u00e3o da label MEDV (Pre\\u00e7o correspondente para o im\\u00f3vel) Ap\\u00f3s a Limpeza nos dados\", \"Distribui\\u00e7\\u00e3o da label MEDV (Pre\\u00e7o correspondente para o im\\u00f3vel) Ap\\u00f3s a Limpeza nos dados\", \"Distribui\\u00e7\\u00e3o da label MEDV (Pre\\u00e7o correspondente para o im\\u00f3vel) Ap\\u00f3s a Limpeza nos dados\", \"Distribui\\u00e7\\u00e3o da label MEDV (Pre\\u00e7o correspondente para o im\\u00f3vel) Ap\\u00f3s a Limpeza nos dados\", \"Distribui\\u00e7\\u00e3o da label MEDV (Pre\\u00e7o correspondente para o im\\u00f3vel) Ap\\u00f3s a Limpeza nos dados\", \"Distribui\\u00e7\\u00e3o da label MEDV (Pre\\u00e7o correspondente para o im\\u00f3vel) Ap\\u00f3s a Limpeza nos dados\", \"Distribui\\u00e7\\u00e3o da label MEDV (Pre\\u00e7o correspondente para o im\\u00f3vel) Ap\\u00f3s a Limpeza nos dados\", \"Distribui\\u00e7\\u00e3o da label MEDV (Pre\\u00e7o correspondente para o im\\u00f3vel) Ap\\u00f3s a Limpeza nos dados\", \"Distribui\\u00e7\\u00e3o da label MEDV (Pre\\u00e7o correspondente para o im\\u00f3vel) Ap\\u00f3s a Limpeza nos dados\", \"Distribui\\u00e7\\u00e3o da label MEDV (Pre\\u00e7o correspondente para o im\\u00f3vel) Ap\\u00f3s a Limpeza nos dados\", \"Distribui\\u00e7\\u00e3o da label MEDV (Pre\\u00e7o correspondente para o im\\u00f3vel) Ap\\u00f3s a Limpeza nos dados\", \"Distribui\\u00e7\\u00e3o da label MEDV (Pre\\u00e7o correspondente para o im\\u00f3vel) Ap\\u00f3s a Limpeza nos dados\", \"Distribui\\u00e7\\u00e3o da label MEDV (Pre\\u00e7o correspondente para o im\\u00f3vel) Ap\\u00f3s a Limpeza nos dados\", \"Distribui\\u00e7\\u00e3o da label MEDV (Pre\\u00e7o correspondente para o im\\u00f3vel) Ap\\u00f3s a Limpeza nos dados\", \"Distribui\\u00e7\\u00e3o da label MEDV (Pre\\u00e7o correspondente para o im\\u00f3vel) Ap\\u00f3s a Limpeza nos dados\", \"Distribui\\u00e7\\u00e3o da label MEDV (Pre\\u00e7o correspondente para o im\\u00f3vel) Ap\\u00f3s a Limpeza nos dados\", \"Distribui\\u00e7\\u00e3o da label MEDV (Pre\\u00e7o correspondente para o im\\u00f3vel) Ap\\u00f3s a Limpeza nos dados\", \"Distribui\\u00e7\\u00e3o da label MEDV (Pre\\u00e7o correspondente para o im\\u00f3vel) Ap\\u00f3s a Limpeza nos dados\", \"Distribui\\u00e7\\u00e3o da label MEDV (Pre\\u00e7o correspondente para o im\\u00f3vel) Ap\\u00f3s a Limpeza nos dados\", \"Distribui\\u00e7\\u00e3o da label MEDV (Pre\\u00e7o correspondente para o im\\u00f3vel) Ap\\u00f3s a Limpeza nos dados\", \"Distribui\\u00e7\\u00e3o da label MEDV (Pre\\u00e7o correspondente para o im\\u00f3vel) Ap\\u00f3s a Limpeza nos dados\", \"Distribui\\u00e7\\u00e3o da label MEDV (Pre\\u00e7o correspondente para o im\\u00f3vel) Ap\\u00f3s a Limpeza nos dados\", \"Distribui\\u00e7\\u00e3o da label MEDV (Pre\\u00e7o correspondente para o im\\u00f3vel) Ap\\u00f3s a Limpeza nos dados\", \"Distribui\\u00e7\\u00e3o da label MEDV (Pre\\u00e7o correspondente para o im\\u00f3vel) Ap\\u00f3s a Limpeza nos dados\", \"Distribui\\u00e7\\u00e3o da label MEDV (Pre\\u00e7o correspondente para o im\\u00f3vel) Ap\\u00f3s a Limpeza nos dados\", \"Distribui\\u00e7\\u00e3o da label MEDV (Pre\\u00e7o correspondente para o im\\u00f3vel) Ap\\u00f3s a Limpeza nos dados\", \"Distribui\\u00e7\\u00e3o da label MEDV (Pre\\u00e7o correspondente para o im\\u00f3vel) Ap\\u00f3s a Limpeza nos dados\", \"Distribui\\u00e7\\u00e3o da label MEDV (Pre\\u00e7o correspondente para o im\\u00f3vel) Ap\\u00f3s a Limpeza nos dados\", \"Distribui\\u00e7\\u00e3o da label MEDV (Pre\\u00e7o correspondente para o im\\u00f3vel) Ap\\u00f3s a Limpeza nos dados\", \"Distribui\\u00e7\\u00e3o da label MEDV (Pre\\u00e7o correspondente para o im\\u00f3vel) Ap\\u00f3s a Limpeza nos dados\", \"Distribui\\u00e7\\u00e3o da label MEDV (Pre\\u00e7o correspondente para o im\\u00f3vel) Ap\\u00f3s a Limpeza nos dados\", \"Distribui\\u00e7\\u00e3o da label MEDV (Pre\\u00e7o correspondente para o im\\u00f3vel) Ap\\u00f3s a Limpeza nos dados\", \"Distribui\\u00e7\\u00e3o da label MEDV (Pre\\u00e7o correspondente para o im\\u00f3vel) Ap\\u00f3s a Limpeza nos dados\", \"Distribui\\u00e7\\u00e3o da label MEDV (Pre\\u00e7o correspondente para o im\\u00f3vel) Ap\\u00f3s a Limpeza nos dados\", \"Distribui\\u00e7\\u00e3o da label MEDV (Pre\\u00e7o correspondente para o im\\u00f3vel) Ap\\u00f3s a Limpeza nos dados\"], \"yaxis\": \"y2\"}],\n",
              "                        {\"barmode\": \"overlay\", \"hovermode\": \"closest\", \"legend\": {\"traceorder\": \"reversed\"}, \"template\": {\"data\": {\"bar\": [{\"error_x\": {\"color\": \"#2a3f5f\"}, \"error_y\": {\"color\": \"#2a3f5f\"}, \"marker\": {\"line\": {\"color\": \"#E5ECF6\", \"width\": 0.5}}, \"type\": \"bar\"}], \"barpolar\": [{\"marker\": {\"line\": {\"color\": \"#E5ECF6\", \"width\": 0.5}}, \"type\": \"barpolar\"}], \"carpet\": [{\"aaxis\": {\"endlinecolor\": \"#2a3f5f\", \"gridcolor\": \"white\", \"linecolor\": \"white\", \"minorgridcolor\": \"white\", \"startlinecolor\": \"#2a3f5f\"}, \"baxis\": {\"endlinecolor\": \"#2a3f5f\", \"gridcolor\": \"white\", \"linecolor\": \"white\", \"minorgridcolor\": \"white\", \"startlinecolor\": \"#2a3f5f\"}, \"type\": \"carpet\"}], \"choropleth\": [{\"colorbar\": {\"outlinewidth\": 0, \"ticks\": \"\"}, \"type\": \"choropleth\"}], \"contour\": [{\"colorbar\": {\"outlinewidth\": 0, \"ticks\": \"\"}, \"colorscale\": [[0.0, \"#0d0887\"], [0.1111111111111111, \"#46039f\"], [0.2222222222222222, \"#7201a8\"], [0.3333333333333333, \"#9c179e\"], [0.4444444444444444, \"#bd3786\"], [0.5555555555555556, \"#d8576b\"], [0.6666666666666666, \"#ed7953\"], [0.7777777777777778, \"#fb9f3a\"], [0.8888888888888888, \"#fdca26\"], [1.0, \"#f0f921\"]], \"type\": \"contour\"}], \"contourcarpet\": [{\"colorbar\": {\"outlinewidth\": 0, \"ticks\": \"\"}, \"type\": \"contourcarpet\"}], \"heatmap\": [{\"colorbar\": {\"outlinewidth\": 0, \"ticks\": \"\"}, \"colorscale\": [[0.0, \"#0d0887\"], [0.1111111111111111, \"#46039f\"], [0.2222222222222222, \"#7201a8\"], [0.3333333333333333, \"#9c179e\"], [0.4444444444444444, \"#bd3786\"], [0.5555555555555556, \"#d8576b\"], [0.6666666666666666, \"#ed7953\"], [0.7777777777777778, \"#fb9f3a\"], [0.8888888888888888, \"#fdca26\"], [1.0, \"#f0f921\"]], \"type\": \"heatmap\"}], \"heatmapgl\": [{\"colorbar\": {\"outlinewidth\": 0, \"ticks\": \"\"}, \"colorscale\": [[0.0, \"#0d0887\"], [0.1111111111111111, \"#46039f\"], [0.2222222222222222, \"#7201a8\"], [0.3333333333333333, \"#9c179e\"], [0.4444444444444444, \"#bd3786\"], [0.5555555555555556, \"#d8576b\"], [0.6666666666666666, \"#ed7953\"], [0.7777777777777778, \"#fb9f3a\"], [0.8888888888888888, \"#fdca26\"], [1.0, \"#f0f921\"]], \"type\": \"heatmapgl\"}], \"histogram\": [{\"marker\": {\"colorbar\": {\"outlinewidth\": 0, \"ticks\": \"\"}}, \"type\": \"histogram\"}], \"histogram2d\": [{\"colorbar\": {\"outlinewidth\": 0, \"ticks\": \"\"}, \"colorscale\": [[0.0, \"#0d0887\"], [0.1111111111111111, \"#46039f\"], [0.2222222222222222, \"#7201a8\"], [0.3333333333333333, \"#9c179e\"], [0.4444444444444444, \"#bd3786\"], [0.5555555555555556, \"#d8576b\"], [0.6666666666666666, \"#ed7953\"], [0.7777777777777778, \"#fb9f3a\"], [0.8888888888888888, \"#fdca26\"], [1.0, \"#f0f921\"]], \"type\": \"histogram2d\"}], \"histogram2dcontour\": [{\"colorbar\": {\"outlinewidth\": 0, \"ticks\": \"\"}, \"colorscale\": [[0.0, \"#0d0887\"], [0.1111111111111111, \"#46039f\"], [0.2222222222222222, \"#7201a8\"], [0.3333333333333333, \"#9c179e\"], [0.4444444444444444, \"#bd3786\"], [0.5555555555555556, \"#d8576b\"], [0.6666666666666666, \"#ed7953\"], [0.7777777777777778, \"#fb9f3a\"], [0.8888888888888888, \"#fdca26\"], [1.0, \"#f0f921\"]], \"type\": \"histogram2dcontour\"}], \"mesh3d\": [{\"colorbar\": {\"outlinewidth\": 0, \"ticks\": \"\"}, \"type\": \"mesh3d\"}], \"parcoords\": [{\"line\": {\"colorbar\": {\"outlinewidth\": 0, \"ticks\": \"\"}}, \"type\": \"parcoords\"}], \"pie\": [{\"automargin\": true, \"type\": \"pie\"}], \"scatter\": [{\"marker\": {\"colorbar\": {\"outlinewidth\": 0, \"ticks\": \"\"}}, \"type\": \"scatter\"}], \"scatter3d\": [{\"line\": {\"colorbar\": {\"outlinewidth\": 0, \"ticks\": \"\"}}, \"marker\": {\"colorbar\": {\"outlinewidth\": 0, \"ticks\": \"\"}}, \"type\": \"scatter3d\"}], \"scattercarpet\": [{\"marker\": {\"colorbar\": {\"outlinewidth\": 0, \"ticks\": \"\"}}, \"type\": \"scattercarpet\"}], \"scattergeo\": [{\"marker\": {\"colorbar\": {\"outlinewidth\": 0, \"ticks\": \"\"}}, \"type\": \"scattergeo\"}], \"scattergl\": [{\"marker\": {\"colorbar\": {\"outlinewidth\": 0, \"ticks\": \"\"}}, \"type\": \"scattergl\"}], \"scattermapbox\": [{\"marker\": {\"colorbar\": {\"outlinewidth\": 0, \"ticks\": \"\"}}, \"type\": \"scattermapbox\"}], \"scatterpolar\": [{\"marker\": {\"colorbar\": {\"outlinewidth\": 0, \"ticks\": \"\"}}, \"type\": \"scatterpolar\"}], \"scatterpolargl\": [{\"marker\": {\"colorbar\": {\"outlinewidth\": 0, \"ticks\": \"\"}}, \"type\": \"scatterpolargl\"}], \"scatterternary\": [{\"marker\": {\"colorbar\": {\"outlinewidth\": 0, \"ticks\": \"\"}}, \"type\": \"scatterternary\"}], \"surface\": [{\"colorbar\": {\"outlinewidth\": 0, \"ticks\": \"\"}, \"colorscale\": [[0.0, \"#0d0887\"], [0.1111111111111111, \"#46039f\"], [0.2222222222222222, \"#7201a8\"], [0.3333333333333333, \"#9c179e\"], [0.4444444444444444, \"#bd3786\"], [0.5555555555555556, \"#d8576b\"], [0.6666666666666666, \"#ed7953\"], [0.7777777777777778, \"#fb9f3a\"], [0.8888888888888888, \"#fdca26\"], [1.0, \"#f0f921\"]], \"type\": \"surface\"}], \"table\": [{\"cells\": {\"fill\": {\"color\": \"#EBF0F8\"}, \"line\": {\"color\": \"white\"}}, \"header\": {\"fill\": {\"color\": \"#C8D4E3\"}, \"line\": {\"color\": \"white\"}}, \"type\": \"table\"}]}, \"layout\": {\"annotationdefaults\": {\"arrowcolor\": \"#2a3f5f\", \"arrowhead\": 0, \"arrowwidth\": 1}, \"coloraxis\": {\"colorbar\": {\"outlinewidth\": 0, \"ticks\": \"\"}}, \"colorscale\": {\"diverging\": [[0, \"#8e0152\"], [0.1, \"#c51b7d\"], [0.2, \"#de77ae\"], [0.3, \"#f1b6da\"], [0.4, \"#fde0ef\"], [0.5, \"#f7f7f7\"], [0.6, \"#e6f5d0\"], [0.7, \"#b8e186\"], [0.8, \"#7fbc41\"], [0.9, \"#4d9221\"], [1, \"#276419\"]], \"sequential\": [[0.0, \"#0d0887\"], [0.1111111111111111, \"#46039f\"], [0.2222222222222222, \"#7201a8\"], [0.3333333333333333, \"#9c179e\"], [0.4444444444444444, \"#bd3786\"], [0.5555555555555556, \"#d8576b\"], [0.6666666666666666, \"#ed7953\"], [0.7777777777777778, \"#fb9f3a\"], [0.8888888888888888, \"#fdca26\"], [1.0, \"#f0f921\"]], \"sequentialminus\": [[0.0, \"#0d0887\"], [0.1111111111111111, \"#46039f\"], [0.2222222222222222, \"#7201a8\"], [0.3333333333333333, \"#9c179e\"], [0.4444444444444444, \"#bd3786\"], [0.5555555555555556, \"#d8576b\"], [0.6666666666666666, \"#ed7953\"], [0.7777777777777778, \"#fb9f3a\"], [0.8888888888888888, \"#fdca26\"], [1.0, \"#f0f921\"]]}, \"colorway\": [\"#636efa\", \"#EF553B\", \"#00cc96\", \"#ab63fa\", \"#FFA15A\", \"#19d3f3\", \"#FF6692\", \"#B6E880\", \"#FF97FF\", \"#FECB52\"], \"font\": {\"color\": \"#2a3f5f\"}, \"geo\": {\"bgcolor\": \"white\", \"lakecolor\": \"white\", \"landcolor\": \"#E5ECF6\", \"showlakes\": true, \"showland\": true, \"subunitcolor\": \"white\"}, \"hoverlabel\": {\"align\": \"left\"}, \"hovermode\": \"closest\", \"mapbox\": {\"style\": \"light\"}, \"paper_bgcolor\": \"white\", \"plot_bgcolor\": \"#E5ECF6\", \"polar\": {\"angularaxis\": {\"gridcolor\": \"white\", \"linecolor\": \"white\", \"ticks\": \"\"}, \"bgcolor\": \"#E5ECF6\", \"radialaxis\": {\"gridcolor\": \"white\", \"linecolor\": \"white\", \"ticks\": \"\"}}, \"scene\": {\"xaxis\": {\"backgroundcolor\": \"#E5ECF6\", \"gridcolor\": \"white\", \"gridwidth\": 2, \"linecolor\": \"white\", \"showbackground\": true, \"ticks\": \"\", \"zerolinecolor\": \"white\"}, \"yaxis\": {\"backgroundcolor\": \"#E5ECF6\", \"gridcolor\": \"white\", \"gridwidth\": 2, \"linecolor\": \"white\", \"showbackground\": true, \"ticks\": \"\", \"zerolinecolor\": \"white\"}, \"zaxis\": {\"backgroundcolor\": \"#E5ECF6\", \"gridcolor\": \"white\", \"gridwidth\": 2, \"linecolor\": \"white\", \"showbackground\": true, \"ticks\": \"\", \"zerolinecolor\": \"white\"}}, \"shapedefaults\": {\"line\": {\"color\": \"#2a3f5f\"}}, \"ternary\": {\"aaxis\": {\"gridcolor\": \"white\", \"linecolor\": \"white\", \"ticks\": \"\"}, \"baxis\": {\"gridcolor\": \"white\", \"linecolor\": \"white\", \"ticks\": \"\"}, \"bgcolor\": \"#E5ECF6\", \"caxis\": {\"gridcolor\": \"white\", \"linecolor\": \"white\", \"ticks\": \"\"}}, \"title\": {\"x\": 0.05}, \"xaxis\": {\"automargin\": true, \"gridcolor\": \"white\", \"linecolor\": \"white\", \"ticks\": \"\", \"title\": {\"standoff\": 15}, \"zerolinecolor\": \"white\", \"zerolinewidth\": 2}, \"yaxis\": {\"automargin\": true, \"gridcolor\": \"white\", \"linecolor\": \"white\", \"ticks\": \"\", \"title\": {\"standoff\": 15}, \"zerolinecolor\": \"white\", \"zerolinewidth\": 2}}}, \"xaxis\": {\"anchor\": \"y2\", \"domain\": [0.0, 1.0], \"zeroline\": false}, \"yaxis\": {\"anchor\": \"free\", \"domain\": [0.35, 1], \"position\": 0.0}, \"yaxis2\": {\"anchor\": \"x\", \"domain\": [0, 0.25], \"dtick\": 1, \"showticklabels\": false}},\n",
              "                        {\"responsive\": true}\n",
              "                    ).then(function(){\n",
              "                            \n",
              "var gd = document.getElementById('a4861c7a-0fdb-4c21-b1ef-18ac83bddaad');\n",
              "var x = new MutationObserver(function (mutations, observer) {{\n",
              "        var display = window.getComputedStyle(gd).display;\n",
              "        if (!display || display === 'none') {{\n",
              "            console.log([gd, 'removed!']);\n",
              "            Plotly.purge(gd);\n",
              "            observer.disconnect();\n",
              "        }}\n",
              "}});\n",
              "\n",
              "// Listen for the removal of the full notebook cells\n",
              "var notebookContainer = gd.closest('#notebook-container');\n",
              "if (notebookContainer) {{\n",
              "    x.observe(notebookContainer, {childList: true});\n",
              "}}\n",
              "\n",
              "// Listen for the clearing of the current output cell\n",
              "var outputEl = gd.closest('.output');\n",
              "if (outputEl) {{\n",
              "    x.observe(outputEl, {childList: true});\n",
              "}}\n",
              "\n",
              "                        })\n",
              "                };\n",
              "                \n",
              "            </script>\n",
              "        </div>\n",
              "</body>\n",
              "</html>"
            ]
          },
          "metadata": {
            "tags": []
          }
        }
      ]
    },
    {
      "cell_type": "markdown",
      "metadata": {
        "id": "Qpdnv7idXtJ1",
        "colab_type": "text"
      },
      "source": [
        "**Distribuição após a limpeza nos dados**"
      ]
    },
    {
      "cell_type": "code",
      "metadata": {
        "id": "NJtJW9RnWL6A",
        "colab_type": "code",
        "outputId": "15c87ffd-c3a0-4707-c9b9-29995215dc8e",
        "colab": {
          "base_uri": "https://localhost:8080/",
          "height": 542
        }
      },
      "source": [
        "label = ['Distribuição da label MEDV (Preço correspondente para o imóvel) Após a Limpeza nos dados']\n",
        "fig = ff.create_distplot([dados_limp.MEDV], label, bin_size=.2)\n",
        "fig.show()"
      ],
      "execution_count": 0,
      "outputs": [
        {
          "output_type": "display_data",
          "data": {
            "text/html": [
              "<html>\n",
              "<head><meta charset=\"utf-8\" /></head>\n",
              "<body>\n",
              "    <div>\n",
              "            <script src=\"https://cdnjs.cloudflare.com/ajax/libs/mathjax/2.7.5/MathJax.js?config=TeX-AMS-MML_SVG\"></script><script type=\"text/javascript\">if (window.MathJax) {MathJax.Hub.Config({SVG: {font: \"STIX-Web\"}});}</script>\n",
              "                <script type=\"text/javascript\">window.PlotlyConfig = {MathJaxConfig: 'local'};</script>\n",
              "        <script src=\"https://cdn.plot.ly/plotly-latest.min.js\"></script>    \n",
              "            <div id=\"67d6f83d-7e83-4d90-9936-f62c303760da\" class=\"plotly-graph-div\" style=\"height:525px; width:100%;\"></div>\n",
              "            <script type=\"text/javascript\">\n",
              "                \n",
              "                    window.PLOTLYENV=window.PLOTLYENV || {};\n",
              "                    \n",
              "                if (document.getElementById(\"67d6f83d-7e83-4d90-9936-f62c303760da\")) {\n",
              "                    Plotly.newPlot(\n",
              "                        '67d6f83d-7e83-4d90-9936-f62c303760da',\n",
              "                        [{\"autobinx\": false, \"histnorm\": \"probability density\", \"legendgroup\": \"Distribui\\u00e7\\u00e3o da label MEDV (Pre\\u00e7o correspondente para o im\\u00f3vel) Ap\\u00f3s a Limpeza nos dados\", \"marker\": {\"color\": \"rgb(31, 119, 180)\"}, \"name\": \"Distribui\\u00e7\\u00e3o da label MEDV (Pre\\u00e7o correspondente para o im\\u00f3vel) Ap\\u00f3s a Limpeza nos dados\", \"opacity\": 0.7, \"type\": \"histogram\", \"x\": [24.0, 21.6, 34.7, 33.4, 36.2, 28.7, 22.9, 27.1, 16.5, 18.9, 15.0, 18.9, 21.7, 20.4, 18.2, 19.9, 23.1, 17.5, 20.2, 18.2, 13.6, 19.6, 15.2, 14.5, 15.6, 13.9, 16.6, 14.8, 18.4, 21.0, 12.7, 14.5, 13.2, 13.1, 13.5, 18.9, 20.0, 21.0, 24.7, 30.8, 34.9, 26.6, 25.3, 24.7, 21.2, 19.3, 20.0, 16.6, 14.4, 19.4, 19.7, 20.5, 25.0, 23.4, 18.9, 35.4, 24.7, 31.6, 23.3, 19.6, 18.7, 16.0, 22.2, 25.0, 33.0, 23.5, 19.4, 22.0, 17.4, 20.9, 24.2, 21.7, 22.8, 23.4, 24.1, 21.4, 20.0, 20.8, 21.2, 20.3, 28.0, 23.9, 24.8, 22.9, 23.9, 26.6, 22.5, 22.2, 23.6, 28.7, 22.6, 22.0, 22.9, 25.0, 20.6, 28.4, 21.4, 38.7, 43.8, 33.2, 27.5, 26.5, 18.6, 19.3, 20.1, 19.5, 19.5, 20.4, 19.8, 19.4, 21.7, 22.8, 18.8, 18.7, 18.5, 18.3, 21.2, 19.2, 20.4, 19.3, 22.0, 20.3, 20.5, 17.3, 18.8, 21.4, 15.7, 16.2, 18.0, 14.3, 19.2, 19.6, 23.0, 18.4, 15.6, 18.1, 17.4, 17.1, 13.3, 17.8, 14.0, 14.4, 13.4, 15.6, 11.8, 13.8, 15.6, 14.6, 17.8, 15.4, 21.5, 19.6, 15.3, 19.4, 17.0, 15.6, 13.1, 41.3, 24.3, 23.3, 27.0, 22.7, 25.0, 23.8, 23.8, 22.3, 17.4, 19.1, 23.1, 23.6, 22.6, 29.4, 23.2, 24.6, 29.9, 37.2, 39.8, 36.2, 37.9, 32.5, 26.4, 29.6, 32.0, 29.8, 34.9, 37.0, 30.5, 36.4, 31.1, 29.1, 33.3, 30.3, 34.6, 34.9, 32.9, 24.1, 42.3, 48.5, 22.6, 24.4, 22.5, 24.4, 20.0, 21.7, 19.3, 22.4, 28.1, 23.7, 25.0, 23.3, 28.7, 21.5, 23.0, 26.7, 21.7, 27.5, 30.1, 44.8, 37.6, 31.6, 46.7, 31.5, 24.3, 31.7, 41.7, 48.3, 29.0, 24.0, 25.1, 31.5, 23.7, 23.3, 22.0, 20.1, 22.2, 23.7, 17.6, 18.5, 24.3, 20.5, 24.5, 26.2, 24.4, 24.8, 29.6, 42.8, 21.9, 20.9, 44.0, 36.0, 30.1, 33.8, 43.1, 48.8, 31.0, 36.5, 22.8, 30.7, 43.5, 20.7, 21.1, 25.2, 24.4, 35.2, 32.4, 32.0, 33.2, 33.1, 29.1, 35.1, 45.4, 35.4, 46.0, 32.2, 22.0, 20.1, 23.2, 22.3, 24.8, 28.5, 37.3, 27.9, 23.9, 21.7, 28.6, 27.1, 20.3, 22.5, 29.0, 24.8, 22.0, 26.4, 33.1, 36.1, 28.4, 33.4, 28.2, 22.8, 20.3, 16.1, 22.1, 19.4, 21.6, 23.8, 16.2, 17.8, 19.8, 23.1, 21.0, 23.8, 23.1, 20.4, 18.5, 25.0, 24.6, 23.0, 22.2, 19.3, 22.6, 19.8, 17.1, 19.4, 22.2, 20.7, 21.1, 19.5, 18.5, 20.6, 19.0, 18.7, 32.7, 16.5, 23.9, 31.2, 17.5, 17.2, 23.1, 24.5, 26.6, 22.9, 24.1, 18.6, 30.1, 18.2, 20.6, 17.8, 21.7, 22.7, 22.6, 25.0, 19.9, 20.8, 16.8, 21.9, 27.5, 21.9, 23.1, 13.8, 13.8, 15.0, 13.9, 13.3, 13.1, 10.2, 10.4, 10.9, 11.3, 12.3, 8.8, 7.2, 10.5, 7.4, 10.2, 11.5, 15.1, 23.2, 9.7, 13.8, 12.7, 13.1, 12.5, 8.5, 5.0, 6.3, 5.6, 7.2, 12.1, 8.3, 8.5, 5.0, 11.9, 27.9, 17.2, 27.5, 15.0, 17.2, 17.9, 16.3, 7.0, 7.2, 7.5, 10.4, 8.8, 8.4, 16.7, 14.2, 20.8, 13.4, 11.7, 8.3, 10.2, 10.9, 11.0, 9.5, 14.5, 14.1, 16.1, 14.3, 11.7, 13.4, 9.6, 8.7, 8.4, 12.8, 10.5, 17.1, 18.4, 15.4, 10.8, 11.8, 14.9, 12.6, 14.1, 13.0, 13.4, 15.2, 16.1, 17.8, 14.9, 14.1, 12.7, 13.5, 14.9, 20.0, 16.4, 17.7, 19.5, 20.2, 21.4, 19.9, 19.0, 19.1, 19.1, 20.1, 19.9, 19.6, 23.2, 29.8, 13.8, 13.3, 16.7, 12.0, 14.6, 21.4, 23.0, 23.7, 25.0, 21.8, 20.6, 21.2, 19.1, 20.6, 15.2, 7.0, 8.1, 13.6, 20.1, 21.8, 24.5, 23.1, 19.7, 18.3, 21.2, 17.5, 16.8, 22.4, 20.6, 23.9, 22.0, 11.9], \"xaxis\": \"x\", \"xbins\": {\"end\": 48.8, \"size\": 0.2, \"start\": 5.0}, \"yaxis\": \"y\"}, {\"legendgroup\": \"Distribui\\u00e7\\u00e3o da label MEDV (Pre\\u00e7o correspondente para o im\\u00f3vel) Ap\\u00f3s a Limpeza nos dados\", \"marker\": {\"color\": \"rgb(31, 119, 180)\"}, \"mode\": \"lines\", \"name\": \"Distribui\\u00e7\\u00e3o da label MEDV (Pre\\u00e7o correspondente para o im\\u00f3vel) Ap\\u00f3s a Limpeza nos dados\", \"showlegend\": false, \"type\": \"scatter\", \"x\": [5.0, 5.0876, 5.1752, 5.2628, 5.3504, 5.438, 5.5256, 5.6132, 5.7008, 5.7884, 5.876, 5.9636, 6.0512, 6.1388, 6.2264, 6.314, 6.4016, 6.4892, 6.5768, 6.6644, 6.752, 6.8396, 6.9272, 7.0148, 7.102399999999999, 7.1899999999999995, 7.2776, 7.3652, 7.4528, 7.5404, 7.628, 7.7156, 7.8032, 7.8908, 7.9784, 8.065999999999999, 8.1536, 8.2412, 8.3288, 8.4164, 8.504, 8.5916, 8.6792, 8.7668, 8.8544, 8.942, 9.0296, 9.1172, 9.204799999999999, 9.2924, 9.379999999999999, 9.4676, 9.5552, 9.6428, 9.7304, 9.818, 9.9056, 9.9932, 10.0808, 10.168399999999998, 10.256, 10.343599999999999, 10.4312, 10.518799999999999, 10.6064, 10.693999999999999, 10.7816, 10.8692, 10.9568, 11.0444, 11.132, 11.2196, 11.3072, 11.3948, 11.482399999999998, 11.57, 11.657599999999999, 11.7452, 11.832799999999999, 11.9204, 12.008, 12.0956, 12.1832, 12.2708, 12.3584, 12.445999999999998, 12.5336, 12.6212, 12.7088, 12.796399999999998, 12.884, 12.971599999999999, 13.0592, 13.146799999999999, 13.234399999999999, 13.322, 13.4096, 13.4972, 13.5848, 13.6724, 13.76, 13.847599999999998, 13.935199999999998, 14.0228, 14.1104, 14.198, 14.285599999999999, 14.373199999999999, 14.460799999999999, 14.548399999999999, 14.636, 14.7236, 14.8112, 14.8988, 14.9864, 15.074, 15.161599999999998, 15.249199999999998, 15.336799999999998, 15.4244, 15.512, 15.599599999999999, 15.687199999999999, 15.774799999999999, 15.8624, 15.95, 16.037599999999998, 16.1252, 16.2128, 16.3004, 16.387999999999998, 16.4756, 16.5632, 16.650799999999997, 16.7384, 16.826, 16.9136, 17.001199999999997, 17.0888, 17.1764, 17.264, 17.351599999999998, 17.4392, 17.5268, 17.6144, 17.701999999999998, 17.7896, 17.8772, 17.964799999999997, 18.0524, 18.14, 18.2276, 18.315199999999997, 18.4028, 18.4904, 18.578, 18.665599999999998, 18.7532, 18.8408, 18.9284, 19.016, 19.1036, 19.1912, 19.278799999999997, 19.3664, 19.454, 19.5416, 19.629199999999997, 19.7168, 19.8044, 19.891999999999996, 19.979599999999998, 20.0672, 20.1548, 20.2424, 20.33, 20.4176, 20.5052, 20.592799999999997, 20.6804, 20.768, 20.8556, 20.943199999999997, 21.0308, 21.1184, 21.206, 21.293599999999998, 21.3812, 21.468799999999998, 21.556399999999996, 21.644, 21.7316, 21.8192, 21.9068, 21.9944, 22.082, 22.1696, 22.257199999999997, 22.3448, 22.432399999999998, 22.52, 22.607599999999998, 22.695199999999996, 22.782799999999998, 22.870399999999997, 22.958, 23.0456, 23.1332, 23.2208, 23.3084, 23.396, 23.4836, 23.571199999999997, 23.6588, 23.746399999999998, 23.834, 23.921599999999998, 24.009199999999996, 24.096799999999998, 24.184399999999997, 24.272, 24.359599999999997, 24.4472, 24.5348, 24.6224, 24.71, 24.7976, 24.885199999999998, 24.9728, 25.060399999999998, 25.148, 25.235599999999998, 25.323199999999996, 25.4108, 25.498399999999997, 25.586, 25.673599999999997, 25.7612, 25.8488, 25.9364, 26.024, 26.1116, 26.199199999999998, 26.2868, 26.374399999999998, 26.462, 26.549599999999998, 26.637199999999996, 26.7248, 26.812399999999997, 26.9, 26.987599999999997, 27.0752, 27.1628, 27.2504, 27.338, 27.4256, 27.513199999999998, 27.6008, 27.688399999999998, 27.776, 27.863599999999998, 27.951199999999996, 28.0388, 28.126399999999997, 28.214, 28.301599999999997, 28.389199999999995, 28.4768, 28.5644, 28.652, 28.7396, 28.827199999999998, 28.9148, 29.002399999999998, 29.09, 29.177599999999998, 29.265199999999997, 29.3528, 29.440399999999997, 29.528, 29.615599999999997, 29.703199999999995, 29.7908, 29.8784, 29.966, 30.0536, 30.141199999999998, 30.2288, 30.316399999999998, 30.404, 30.4916, 30.579199999999997, 30.6668, 30.754399999999997, 30.842, 30.929599999999997, 31.017199999999995, 31.1048, 31.1924, 31.28, 31.3676, 31.455199999999998, 31.5428, 31.630399999999998, 31.718, 31.8056, 31.893199999999997, 31.9808, 32.0684, 32.156, 32.2436, 32.331199999999995, 32.418800000000005, 32.5064, 32.594, 32.6816, 32.7692, 32.8568, 32.9444, 33.032, 33.1196, 33.2072, 33.294799999999995, 33.3824, 33.47, 33.557599999999994, 33.645199999999996, 33.7328, 33.8204, 33.908, 33.995599999999996, 34.0832, 34.1708, 34.258399999999995, 34.346, 34.4336, 34.52119999999999, 34.6088, 34.6964, 34.78399999999999, 34.8716, 34.959199999999996, 35.0468, 35.1344, 35.221999999999994, 35.3096, 35.3972, 35.4848, 35.5724, 35.66, 35.7476, 35.8352, 35.922799999999995, 36.0104, 36.098, 36.185599999999994, 36.273199999999996, 36.3608, 36.4484, 36.536, 36.623599999999996, 36.7112, 36.7988, 36.886399999999995, 36.974, 37.0616, 37.1492, 37.2368, 37.3244, 37.412, 37.4996, 37.587199999999996, 37.6748, 37.7624, 37.85, 37.937599999999996, 38.0252, 38.11279999999999, 38.2004, 38.288, 38.3756, 38.4632, 38.550799999999995, 38.6384, 38.726, 38.8136, 38.901199999999996, 38.9888, 39.07639999999999, 39.164, 39.251599999999996, 39.3392, 39.42679999999999, 39.514399999999995, 39.602, 39.6896, 39.7772, 39.864799999999995, 39.9524, 40.04, 40.1276, 40.215199999999996, 40.3028, 40.39039999999999, 40.478, 40.565599999999996, 40.6532, 40.74079999999999, 40.828399999999995, 40.916, 41.0036, 41.0912, 41.178799999999995, 41.2664, 41.354, 41.4416, 41.529199999999996, 41.6168, 41.70439999999999, 41.792, 41.879599999999996, 41.9672, 42.05479999999999, 42.142399999999995, 42.23, 42.3176, 42.405199999999994, 42.492799999999995, 42.5804, 42.668, 42.7556, 42.843199999999996, 42.9308, 43.01839999999999, 43.106, 43.193599999999996, 43.2812, 43.36879999999999, 43.456399999999995, 43.544, 43.6316, 43.719199999999994, 43.806799999999996, 43.8944, 43.982, 44.0696, 44.157199999999996, 44.2448, 44.33239999999999, 44.42, 44.5076, 44.5952, 44.68279999999999, 44.770399999999995, 44.858, 44.9456, 45.033199999999994, 45.120799999999996, 45.2084, 45.296, 45.3836, 45.471199999999996, 45.5588, 45.64639999999999, 45.734, 45.8216, 45.9092, 45.99679999999999, 46.084399999999995, 46.172, 46.2596, 46.347199999999994, 46.434799999999996, 46.5224, 46.61, 46.6976, 46.785199999999996, 46.8728, 46.96039999999999, 47.048, 47.1356, 47.2232, 47.31079999999999, 47.398399999999995, 47.486, 47.5736, 47.661199999999994, 47.748799999999996, 47.8364, 47.924, 48.0116, 48.099199999999996, 48.1868, 48.27439999999999, 48.362, 48.4496, 48.5372, 48.62479999999999, 48.712399999999995], \"xaxis\": \"x\", \"y\": [0.004460080062174443, 0.004633125349405788, 0.004809228145530562, 0.0049882786610059736, 0.005170162520386921, 0.005354761382187012, 0.005541953609527673, 0.005731614989182483, 0.005923619496060564, 0.006117840099601672, 0.006314149607981194, 0.0065124215454532095, 0.006712531057600488, 0.006914355838718661, 0.007117777075046488, 0.007322680397070594, 0.007528956833690593, 0.0077365037606353495, 0.007945225835180347, 0.008155035908936969, 0.00836585591027253, 0.008577617687780896, 0.00879026380616291, 0.009003748285897329, 0.009218037278189404, 0.009433109666880232, 0.009648957589284007, 0.009865586868295554, 0.010083017348575253, 0.010301283130171266, 0.010520432693577955, 0.010740528910950524, 0.01096164893899479, 0.011183883989923126, 0.01140733897780533, 0.011632132038640719, 0.011858393923527102, 0.01208626726539423, 0.012315905720896282, 0.012547472990209032, 0.012781141718643918, 0.013017092285162069, 0.01325551148403698, 0.013496591107063173, 0.013740526434830992, 0.01398751464667206, 0.014237753159916489, 0.014491437910081586, 0.014748761584521097, 0.015009911822895787, 0.015275069398568769, 0.0155444063956768, 0.015818084397168117, 0.016096252699526175, 0.01637904657020454, 0.016666585563977356, 0.016958971914454907, 0.01725628901692106, 0.017558600018412654, 0.01786594653057872, 0.01817834748032666, 0.018495798112582482, 0.018818269158662613, 0.019145706182776875, 0.01947802911806102, 0.01981513200227159, 0.020156882921879303, 0.020503124171767917, 0.020853672636100298, 0.02120832039415685, 0.021566835553098674, 0.021928963307669417, 0.022294427224844926, 0.022662930749378175, 0.023034158924093835, 0.023407780316674568, 0.023783449142573552, 0.024160807571602997, 0.02453948820371207, 0.02491911669749499, 0.02529931453308993, 0.02567970188936066, 0.02605990061361739, 0.026439537260651836, 0.026818246176558067, 0.027195672601699458, 0.02757147576628258, 0.027945331951330886, 0.028316937487421267, 0.028686011663372486, 0.029052299517164433, 0.02941557448172228, 0.02977564085883461, 0.03013233609537514, 0.030485532837176102, 0.03083514073734056, 0.03118110799748036, 0.03152342262230619, 0.03186211337017201, 0.03219725038455682, 0.03252894549404454, 0.03285735217110562, 0.03318266514287252, 0.03350511965010099, 0.033824990353601064, 0.03414258989056445, 0.03445826708638653, 0.034772404830740976, 0.035085417629789825, 0.03539774884945934, 0.03570986766765868, 0.03602226575612953, 0.036335453715258655, 0.036649957287638694, 0.03696631337839529, 0.037285065912285455, 0.03760676155929601, 0.03793194536190773, 0.03826115629832486, 0.038594922816793824, 0.03893375837662634, 0.03927815703170965, 0.0396285890921123, 0.03998549689888769, 0.04034929074633698, 0.0407203449848307, 0.04109899433580216, 0.04148553044874919, 0.04188019872800437, 0.0422831954547058, 0.04269466522681047, 0.043114698737200974, 0.04354333090693532, 0.04398053938753566, 0.04442624344292221, 0.04488030321820613, 0.04534251939910267, 0.04581263326223541, 0.04629032711312384, 0.04677522510520136, 0.04726689442984897, 0.047764846864172504, 0.04826854066014676, 0.04877738275582289, 0.04929073128657611, 0.0498078983719021, 0.050328153151061664, 0.05085072503896397, 0.05137480717208959, 0.051899560012987456, 0.05242411508098064, 0.05294757877616367, 0.05346903626359775, 0.053987555384805465, 0.05450219056422735, 0.05501198667923292, 0.05551598286355679, 0.056013216215653916, 0.0565027253853987, 0.05698355401479145, 0.05745475401082883, 0.05791538863143237, 0.05836453536825988, 0.058801288613317015, 0.05922476209950532, 0.059634091108533425, 0.060028434442935354, 0.06040697616226691, 0.060768927086786904, 0.06111352607509091, 0.06144004108516319, 0.061747770031114244, 0.06203604145045827, 0.062304214999082834, 0.06255168179306952, 0.06277786461819239, 0.06298221802922842, 0.0631642283621443, 0.0633234136827592, 0.06345932369561146, 0.06357153963647964, 0.06365967417133385, 0.0637233713234054, 0.06376230644861951, 0.06377618627780861, 0.06376474904198708, 0.06372776469450725, 0.06366503524121886, 0.06357639518680633, 0.06346171210237816, 0.0633208873161346, 0.06315385672562461, 0.06296059172675691, 0.06274110025141241, 0.06249542790226539, 0.062223659170315956, 0.06192591871771412, 0.06160237270576309, 0.0612532301455783, 0.0608787442467769, 0.06047921373784163, 0.06005498413043968, 0.05960644889904502, 0.059134050546701684, 0.05863828152771077, 0.058119684998414065, 0.05757885536810423, 0.05701643862338421, 0.056433132401034106, 0.05582968578659549, 0.05520689881841622, 0.0545656216797967, 0.05390675356509558, 0.05323124120914008, 0.052540077073012385, 0.0518342971831888, 0.05111497862503299, 0.05038323669575545, 0.04964022172606267, 0.0488871155838059, 0.04812512787691273, 0.04735549187671921, 0.0465794601864414, 0.04579830018289508, 0.0450132892626384, 0.0442257099264369, 0.04343684473829022, 0.04264797119719081, 0.04186035656127102, 0.041075252665029184, 0.04029389077087848, 0.039517476496342, 0.03874718485781457, 0.037984155470935144, 0.037229487946277964, 0.03648423751728883, 0.03574941093520157, 0.03502596266308277, 0.03431479139822155, 0.03361673694883492, 0.032932577487547084, 0.03226302720036169, 0.031608734345942274, 0.03097027973598302, 0.030348175643351922, 0.029742865140566312, 0.029154721867073522, 0.028584050219802173, 0.028031085957568907, 0.02749599720622524, 0.026978885847936163, 0.02647978927475096, 0.025998682483679147, 0.025535480487854086, 0.025090041016077907, 0.024662167471113966, 0.02425161211553876, 0.023858079452793387, 0.02348122977028966, 0.023120682811025913, 0.022776021540140655, 0.022446795973176847, 0.02213252703351662, 0.02183271040746581, 0.02154682036679134, 0.02127431353011291, 0.0210146325363985, 0.020767209605875164, 0.020531469965907524, 0.020306835121787107, 0.020092725954871223, 0.019888565633084478, 0.01969378232140677, 0.019507811682587084, 0.019330099160911222, 0.019160102044378343, 0.01899729130308175, 0.018841153203913212, 0.018691190703897704, 0.018546924626489585, 0.018407894627014844, 0.018273659955101763, 0.018143800023400703, 0.01801791479314544, 0.017895624988143243, 0.017776572149607546, 0.017660418544858295, 0.01754684694332565, 0.017435560273501023, 0.01732628117450691, 0.017218751455805717, 0.0171127314782612, 0.01700799946931502, 0.01690435078446632, 0.016801597126559438, 0.016699565733616587, 0.01659809854511395, 0.016497051355715154, 0.016396292964557125, 0.016295704327257785, 0.016195177716889476, 0.016094615899260794, 0.015993931326981996, 0.015893045355970633, 0.01579188748729358, 0.01569039463655129, 0.015588510432393225, 0.01548618454521861, 0.015383372046664909, 0.015280032800119733, 0.015176130882208958, 0.015071634035013527, 0.014966513148642795, 0.014860741773739958, 0.014754295663508152, 0.014647152344911703, 0.014539290718824172, 0.014430690689044711, 0.014321332820283325, 0.01421119802540985, 0.0141002672824603, 0.013988521382089683, 0.013875940706339535, 0.013762505039744351, 0.013648193413923844, 0.013532983986893002, 0.0134168539583577, 0.01329977952225243, 0.013181735857709178, 0.013062697159522138, 0.01294263670899448, 0.012821526985815533, 0.012699339821327225, 0.012576046593198786, 0.012451618461141388, 0.012326026642871057, 0.012199242729068938, 0.012071239035607298, 0.011941988990809671, 0.01181146755501089, 0.011679651669177327, 0.011546520728860052, 0.011412057079281774, 0.01127624652692159, 0.011139078862562284, 0.01100054839041281, 0.010860654457622732, 0.010719401978270952, 0.010576801945742662, 0.010432871927313007, 0.010287636534734657, 0.01014112786468183, 0.009993385903036937, 0.00984445888721655, 0.00969440362101852, 0.009543285736831653, 0.009391179900474875, 0.009238169954424141, 0.009084348995732607, 0.008929819385546961, 0.008774692687765439, 0.0086190895350572, 0.008463139421166124, 0.008306980419140969, 0.008150758825862147, 0.007994628733962733, 0.007838751532959464, 0.007683295342110263, 0.007528434378188282, 0.007374348262004156, 0.007221221268107513, 0.007069241522652332, 0.006918600154910893, 0.006769490408364632, 0.006622106717682058, 0.006476643758211844, 0.00633329547486989, 0.006192254097483979, 0.006053709149773789, 0.005917846459192586, 0.005784847174838013, 0.005654886800554939, 0.005528134250208281, 0.0054047509318984905, 0.005284889867631189, 0.00516869485464159, 0.005056299674214499, 0.004947827353439569, 0.004843389484903444, 0.004743085608848589, 0.004647002661830957, 0.004555214495388536, 0.004467781467694649, 0.004384750110621685, 0.004306152874083209, 0.004232007948963638, 0.004162319169386702, 0.00409707599452194, 0.004036253569586302, 0.0039798128651687276, 0.003927700893492746, 0.0038798509997389654, 0.003836183226078051, 0.0037966047456180203, 0.0037610103630497356, 0.0037292830783824354, 0.0037012947098000017, 0.003676906571338218, 0.003655970200785917, 0.003638328132948987, 0.0036238147131866763, 0.0036122569459349587, 0.0036034753727726193, 0.0035972849744621265, 0.0035934960913095028, 0.003591915356135685, 0.0035923466341350884, 0.003594591963916438, 0.003598452494074524, 0.00360372940972966, 0.003610224843593607, 0.003617742766274913, 0.0036260898507229516, 0.0036350763059267753, 0.003644516675230612, 0.0036542305949018115, 0.0036640435088865684, 0.0036737873360130915, 0.0036833010862479657, 0.0036924314229781997, 0.003701033168675787, 0.0037089697517015507, 0.0037161135924178544, 0.0037223464272029237, 0.0037275595693899667, 0.003731654106589601, 0.003734541034290943, 0.0037361413260722054, 0.003736385941183068, 0.0037352157706850584, 0.003732581523749794, 0.0037284435561155274, 0.0037227716430866522, 0.0037155446998264462, 0.0037067504520370297, 0.003696385060440375, 0.0036844527027674, 0.003670965117226758, 0.0036559411116586487, 0.0036394060427803487, 0.003621391270097187, 0.003601933589184486, 0.0035810746491409594, 0.003558860359072048, 0.0035353402884811865, 0.003510567066428805, 0.0034845957842621657, 0.0034574834066244805, 0.003429288195319953, 0.003400069150442924, 0.0033698854729755446, 0.003338796052820935, 0.0033068589859689347, 0.0032741311241918855, 0.0032406676603403024, 0.0032065217519553903, 0.0031717441855403415, 0.003136383083437697, 0.0031004836548496743, 0.0030640879921151856, 0.003027234912925505, 0.0029899598487235484, 0.002952294779094029, 0.002914268211516656, 0.002875905205427195, 0.0028372274391146664, 0.0027982533175821872, 0.00275899811911775, 0.002719474177963236, 0.002679691100139606, 0.002639656009186341, 0.0025993738183079517, 0.00255884752519175, 0.0025180785255730824, 0.0024770669414774325, 0.002435811959966799, 0.002394312178160436, 0.0023525659502890337, 0.0023105717325768924, 0.002268328421828002, 0.00222583568371873, 0.002183094266970563, 0.002140106299788801, 0.0020968755652051147, 0.002053407752250421, 0.002009710680205409, 0.001965794493526578, 0.0019216718254199342, 0.0018773579284292444, 0.0018328707708148047], \"yaxis\": \"y\"}, {\"legendgroup\": \"Distribui\\u00e7\\u00e3o da label MEDV (Pre\\u00e7o correspondente para o im\\u00f3vel) Ap\\u00f3s a Limpeza nos dados\", \"marker\": {\"color\": \"rgb(31, 119, 180)\", \"symbol\": \"line-ns-open\"}, \"mode\": \"markers\", \"name\": \"Distribui\\u00e7\\u00e3o da label MEDV (Pre\\u00e7o correspondente para o im\\u00f3vel) Ap\\u00f3s a Limpeza nos dados\", \"showlegend\": false, \"type\": \"scatter\", \"x\": [24.0, 21.6, 34.7, 33.4, 36.2, 28.7, 22.9, 27.1, 16.5, 18.9, 15.0, 18.9, 21.7, 20.4, 18.2, 19.9, 23.1, 17.5, 20.2, 18.2, 13.6, 19.6, 15.2, 14.5, 15.6, 13.9, 16.6, 14.8, 18.4, 21.0, 12.7, 14.5, 13.2, 13.1, 13.5, 18.9, 20.0, 21.0, 24.7, 30.8, 34.9, 26.6, 25.3, 24.7, 21.2, 19.3, 20.0, 16.6, 14.4, 19.4, 19.7, 20.5, 25.0, 23.4, 18.9, 35.4, 24.7, 31.6, 23.3, 19.6, 18.7, 16.0, 22.2, 25.0, 33.0, 23.5, 19.4, 22.0, 17.4, 20.9, 24.2, 21.7, 22.8, 23.4, 24.1, 21.4, 20.0, 20.8, 21.2, 20.3, 28.0, 23.9, 24.8, 22.9, 23.9, 26.6, 22.5, 22.2, 23.6, 28.7, 22.6, 22.0, 22.9, 25.0, 20.6, 28.4, 21.4, 38.7, 43.8, 33.2, 27.5, 26.5, 18.6, 19.3, 20.1, 19.5, 19.5, 20.4, 19.8, 19.4, 21.7, 22.8, 18.8, 18.7, 18.5, 18.3, 21.2, 19.2, 20.4, 19.3, 22.0, 20.3, 20.5, 17.3, 18.8, 21.4, 15.7, 16.2, 18.0, 14.3, 19.2, 19.6, 23.0, 18.4, 15.6, 18.1, 17.4, 17.1, 13.3, 17.8, 14.0, 14.4, 13.4, 15.6, 11.8, 13.8, 15.6, 14.6, 17.8, 15.4, 21.5, 19.6, 15.3, 19.4, 17.0, 15.6, 13.1, 41.3, 24.3, 23.3, 27.0, 22.7, 25.0, 23.8, 23.8, 22.3, 17.4, 19.1, 23.1, 23.6, 22.6, 29.4, 23.2, 24.6, 29.9, 37.2, 39.8, 36.2, 37.9, 32.5, 26.4, 29.6, 32.0, 29.8, 34.9, 37.0, 30.5, 36.4, 31.1, 29.1, 33.3, 30.3, 34.6, 34.9, 32.9, 24.1, 42.3, 48.5, 22.6, 24.4, 22.5, 24.4, 20.0, 21.7, 19.3, 22.4, 28.1, 23.7, 25.0, 23.3, 28.7, 21.5, 23.0, 26.7, 21.7, 27.5, 30.1, 44.8, 37.6, 31.6, 46.7, 31.5, 24.3, 31.7, 41.7, 48.3, 29.0, 24.0, 25.1, 31.5, 23.7, 23.3, 22.0, 20.1, 22.2, 23.7, 17.6, 18.5, 24.3, 20.5, 24.5, 26.2, 24.4, 24.8, 29.6, 42.8, 21.9, 20.9, 44.0, 36.0, 30.1, 33.8, 43.1, 48.8, 31.0, 36.5, 22.8, 30.7, 43.5, 20.7, 21.1, 25.2, 24.4, 35.2, 32.4, 32.0, 33.2, 33.1, 29.1, 35.1, 45.4, 35.4, 46.0, 32.2, 22.0, 20.1, 23.2, 22.3, 24.8, 28.5, 37.3, 27.9, 23.9, 21.7, 28.6, 27.1, 20.3, 22.5, 29.0, 24.8, 22.0, 26.4, 33.1, 36.1, 28.4, 33.4, 28.2, 22.8, 20.3, 16.1, 22.1, 19.4, 21.6, 23.8, 16.2, 17.8, 19.8, 23.1, 21.0, 23.8, 23.1, 20.4, 18.5, 25.0, 24.6, 23.0, 22.2, 19.3, 22.6, 19.8, 17.1, 19.4, 22.2, 20.7, 21.1, 19.5, 18.5, 20.6, 19.0, 18.7, 32.7, 16.5, 23.9, 31.2, 17.5, 17.2, 23.1, 24.5, 26.6, 22.9, 24.1, 18.6, 30.1, 18.2, 20.6, 17.8, 21.7, 22.7, 22.6, 25.0, 19.9, 20.8, 16.8, 21.9, 27.5, 21.9, 23.1, 13.8, 13.8, 15.0, 13.9, 13.3, 13.1, 10.2, 10.4, 10.9, 11.3, 12.3, 8.8, 7.2, 10.5, 7.4, 10.2, 11.5, 15.1, 23.2, 9.7, 13.8, 12.7, 13.1, 12.5, 8.5, 5.0, 6.3, 5.6, 7.2, 12.1, 8.3, 8.5, 5.0, 11.9, 27.9, 17.2, 27.5, 15.0, 17.2, 17.9, 16.3, 7.0, 7.2, 7.5, 10.4, 8.8, 8.4, 16.7, 14.2, 20.8, 13.4, 11.7, 8.3, 10.2, 10.9, 11.0, 9.5, 14.5, 14.1, 16.1, 14.3, 11.7, 13.4, 9.6, 8.7, 8.4, 12.8, 10.5, 17.1, 18.4, 15.4, 10.8, 11.8, 14.9, 12.6, 14.1, 13.0, 13.4, 15.2, 16.1, 17.8, 14.9, 14.1, 12.7, 13.5, 14.9, 20.0, 16.4, 17.7, 19.5, 20.2, 21.4, 19.9, 19.0, 19.1, 19.1, 20.1, 19.9, 19.6, 23.2, 29.8, 13.8, 13.3, 16.7, 12.0, 14.6, 21.4, 23.0, 23.7, 25.0, 21.8, 20.6, 21.2, 19.1, 20.6, 15.2, 7.0, 8.1, 13.6, 20.1, 21.8, 24.5, 23.1, 19.7, 18.3, 21.2, 17.5, 16.8, 22.4, 20.6, 23.9, 22.0, 11.9], \"xaxis\": \"x\", \"y\": [\"Distribui\\u00e7\\u00e3o da label MEDV (Pre\\u00e7o correspondente para o im\\u00f3vel) Ap\\u00f3s a Limpeza nos dados\", \"Distribui\\u00e7\\u00e3o da label MEDV (Pre\\u00e7o correspondente para o im\\u00f3vel) Ap\\u00f3s a Limpeza nos dados\", \"Distribui\\u00e7\\u00e3o da label MEDV (Pre\\u00e7o correspondente para o im\\u00f3vel) Ap\\u00f3s a Limpeza nos dados\", \"Distribui\\u00e7\\u00e3o da label MEDV (Pre\\u00e7o correspondente para o im\\u00f3vel) Ap\\u00f3s a Limpeza nos dados\", \"Distribui\\u00e7\\u00e3o da label MEDV (Pre\\u00e7o correspondente para o im\\u00f3vel) Ap\\u00f3s a Limpeza nos dados\", \"Distribui\\u00e7\\u00e3o da label MEDV (Pre\\u00e7o correspondente para o im\\u00f3vel) Ap\\u00f3s a Limpeza nos dados\", \"Distribui\\u00e7\\u00e3o da label MEDV (Pre\\u00e7o correspondente para o im\\u00f3vel) Ap\\u00f3s a Limpeza nos dados\", \"Distribui\\u00e7\\u00e3o da label MEDV (Pre\\u00e7o correspondente para o im\\u00f3vel) Ap\\u00f3s a Limpeza nos dados\", \"Distribui\\u00e7\\u00e3o da label MEDV (Pre\\u00e7o correspondente para o im\\u00f3vel) Ap\\u00f3s a Limpeza nos dados\", \"Distribui\\u00e7\\u00e3o da label MEDV (Pre\\u00e7o correspondente para o im\\u00f3vel) Ap\\u00f3s a Limpeza nos dados\", \"Distribui\\u00e7\\u00e3o da label MEDV (Pre\\u00e7o correspondente para o im\\u00f3vel) Ap\\u00f3s a Limpeza nos dados\", \"Distribui\\u00e7\\u00e3o da label MEDV (Pre\\u00e7o correspondente para o im\\u00f3vel) Ap\\u00f3s a Limpeza nos dados\", \"Distribui\\u00e7\\u00e3o da label MEDV (Pre\\u00e7o correspondente para o im\\u00f3vel) Ap\\u00f3s a Limpeza nos dados\", \"Distribui\\u00e7\\u00e3o da label MEDV (Pre\\u00e7o correspondente para o im\\u00f3vel) Ap\\u00f3s a Limpeza nos dados\", \"Distribui\\u00e7\\u00e3o da label MEDV (Pre\\u00e7o correspondente para o im\\u00f3vel) Ap\\u00f3s a Limpeza nos dados\", \"Distribui\\u00e7\\u00e3o da label MEDV (Pre\\u00e7o correspondente para o im\\u00f3vel) Ap\\u00f3s a Limpeza nos dados\", \"Distribui\\u00e7\\u00e3o da label MEDV (Pre\\u00e7o correspondente para o im\\u00f3vel) Ap\\u00f3s a Limpeza nos dados\", \"Distribui\\u00e7\\u00e3o da label MEDV (Pre\\u00e7o correspondente para o im\\u00f3vel) Ap\\u00f3s a Limpeza nos dados\", \"Distribui\\u00e7\\u00e3o da label MEDV (Pre\\u00e7o correspondente para o im\\u00f3vel) Ap\\u00f3s a Limpeza nos dados\", \"Distribui\\u00e7\\u00e3o da label MEDV (Pre\\u00e7o correspondente para o im\\u00f3vel) Ap\\u00f3s a Limpeza nos dados\", \"Distribui\\u00e7\\u00e3o da label MEDV (Pre\\u00e7o correspondente para o im\\u00f3vel) Ap\\u00f3s a Limpeza nos dados\", \"Distribui\\u00e7\\u00e3o da label MEDV (Pre\\u00e7o correspondente para o im\\u00f3vel) Ap\\u00f3s a Limpeza nos dados\", \"Distribui\\u00e7\\u00e3o da label MEDV (Pre\\u00e7o correspondente para o im\\u00f3vel) Ap\\u00f3s a Limpeza nos dados\", \"Distribui\\u00e7\\u00e3o da label MEDV (Pre\\u00e7o correspondente para o im\\u00f3vel) Ap\\u00f3s a Limpeza nos dados\", \"Distribui\\u00e7\\u00e3o da label MEDV (Pre\\u00e7o correspondente para o im\\u00f3vel) Ap\\u00f3s a Limpeza nos dados\", \"Distribui\\u00e7\\u00e3o da label MEDV (Pre\\u00e7o correspondente para o im\\u00f3vel) Ap\\u00f3s a Limpeza nos dados\", \"Distribui\\u00e7\\u00e3o da label MEDV (Pre\\u00e7o correspondente para o im\\u00f3vel) Ap\\u00f3s a Limpeza nos dados\", \"Distribui\\u00e7\\u00e3o da label MEDV (Pre\\u00e7o correspondente para o im\\u00f3vel) Ap\\u00f3s a Limpeza nos dados\", \"Distribui\\u00e7\\u00e3o da label MEDV (Pre\\u00e7o correspondente para o im\\u00f3vel) Ap\\u00f3s a Limpeza nos dados\", \"Distribui\\u00e7\\u00e3o da label MEDV (Pre\\u00e7o correspondente para o im\\u00f3vel) Ap\\u00f3s a Limpeza nos dados\", \"Distribui\\u00e7\\u00e3o da label MEDV (Pre\\u00e7o correspondente para o im\\u00f3vel) Ap\\u00f3s a Limpeza nos dados\", \"Distribui\\u00e7\\u00e3o da label MEDV (Pre\\u00e7o correspondente para o im\\u00f3vel) Ap\\u00f3s a Limpeza nos dados\", \"Distribui\\u00e7\\u00e3o da label MEDV (Pre\\u00e7o correspondente para o im\\u00f3vel) Ap\\u00f3s a Limpeza nos dados\", \"Distribui\\u00e7\\u00e3o da label MEDV (Pre\\u00e7o correspondente para o im\\u00f3vel) Ap\\u00f3s a Limpeza nos dados\", \"Distribui\\u00e7\\u00e3o da label MEDV (Pre\\u00e7o correspondente para o im\\u00f3vel) Ap\\u00f3s a Limpeza nos dados\", \"Distribui\\u00e7\\u00e3o da label MEDV (Pre\\u00e7o correspondente para o im\\u00f3vel) Ap\\u00f3s a Limpeza nos dados\", \"Distribui\\u00e7\\u00e3o da label MEDV (Pre\\u00e7o correspondente para o im\\u00f3vel) Ap\\u00f3s a Limpeza nos dados\", \"Distribui\\u00e7\\u00e3o da label MEDV (Pre\\u00e7o correspondente para o im\\u00f3vel) Ap\\u00f3s a Limpeza nos dados\", \"Distribui\\u00e7\\u00e3o da label MEDV (Pre\\u00e7o correspondente para o im\\u00f3vel) Ap\\u00f3s a Limpeza nos dados\", \"Distribui\\u00e7\\u00e3o da label MEDV (Pre\\u00e7o correspondente para o im\\u00f3vel) Ap\\u00f3s a Limpeza nos dados\", \"Distribui\\u00e7\\u00e3o da label MEDV (Pre\\u00e7o correspondente para o im\\u00f3vel) Ap\\u00f3s a Limpeza nos dados\", \"Distribui\\u00e7\\u00e3o da label MEDV (Pre\\u00e7o correspondente para o im\\u00f3vel) Ap\\u00f3s a Limpeza nos dados\", \"Distribui\\u00e7\\u00e3o da label MEDV (Pre\\u00e7o correspondente para o im\\u00f3vel) Ap\\u00f3s a Limpeza nos dados\", \"Distribui\\u00e7\\u00e3o da label MEDV (Pre\\u00e7o correspondente para o im\\u00f3vel) Ap\\u00f3s a Limpeza nos dados\", \"Distribui\\u00e7\\u00e3o da label MEDV (Pre\\u00e7o correspondente para o im\\u00f3vel) Ap\\u00f3s a Limpeza nos dados\", \"Distribui\\u00e7\\u00e3o da label MEDV (Pre\\u00e7o correspondente para o im\\u00f3vel) Ap\\u00f3s a Limpeza nos dados\", \"Distribui\\u00e7\\u00e3o da label MEDV (Pre\\u00e7o correspondente para o im\\u00f3vel) Ap\\u00f3s a Limpeza nos dados\", \"Distribui\\u00e7\\u00e3o da label MEDV (Pre\\u00e7o correspondente para o im\\u00f3vel) Ap\\u00f3s a Limpeza nos dados\", \"Distribui\\u00e7\\u00e3o da label MEDV (Pre\\u00e7o correspondente para o im\\u00f3vel) Ap\\u00f3s a Limpeza nos dados\", \"Distribui\\u00e7\\u00e3o da label MEDV (Pre\\u00e7o correspondente para o im\\u00f3vel) Ap\\u00f3s a Limpeza nos dados\", \"Distribui\\u00e7\\u00e3o da label MEDV (Pre\\u00e7o correspondente para o im\\u00f3vel) Ap\\u00f3s a Limpeza nos dados\", \"Distribui\\u00e7\\u00e3o da label MEDV (Pre\\u00e7o correspondente para o im\\u00f3vel) Ap\\u00f3s a Limpeza nos dados\", \"Distribui\\u00e7\\u00e3o da label MEDV (Pre\\u00e7o correspondente para o im\\u00f3vel) Ap\\u00f3s a Limpeza nos dados\", \"Distribui\\u00e7\\u00e3o da label MEDV (Pre\\u00e7o correspondente para o im\\u00f3vel) Ap\\u00f3s a Limpeza nos dados\", \"Distribui\\u00e7\\u00e3o da label MEDV (Pre\\u00e7o correspondente para o im\\u00f3vel) Ap\\u00f3s a Limpeza nos dados\", \"Distribui\\u00e7\\u00e3o da label MEDV (Pre\\u00e7o correspondente para o im\\u00f3vel) Ap\\u00f3s a Limpeza nos dados\", \"Distribui\\u00e7\\u00e3o da label MEDV (Pre\\u00e7o correspondente para o im\\u00f3vel) Ap\\u00f3s a Limpeza nos dados\", \"Distribui\\u00e7\\u00e3o da label MEDV (Pre\\u00e7o correspondente para o im\\u00f3vel) Ap\\u00f3s a Limpeza nos dados\", \"Distribui\\u00e7\\u00e3o da label MEDV (Pre\\u00e7o correspondente para o im\\u00f3vel) Ap\\u00f3s a Limpeza nos dados\", \"Distribui\\u00e7\\u00e3o da label MEDV (Pre\\u00e7o correspondente para o im\\u00f3vel) Ap\\u00f3s a Limpeza nos dados\", \"Distribui\\u00e7\\u00e3o da label MEDV (Pre\\u00e7o correspondente para o im\\u00f3vel) Ap\\u00f3s a Limpeza nos dados\", \"Distribui\\u00e7\\u00e3o da label MEDV (Pre\\u00e7o correspondente para o im\\u00f3vel) Ap\\u00f3s a Limpeza nos dados\", \"Distribui\\u00e7\\u00e3o da label MEDV (Pre\\u00e7o correspondente para o im\\u00f3vel) Ap\\u00f3s a Limpeza nos dados\", \"Distribui\\u00e7\\u00e3o da label MEDV (Pre\\u00e7o correspondente para o im\\u00f3vel) Ap\\u00f3s a Limpeza nos dados\", \"Distribui\\u00e7\\u00e3o da label MEDV (Pre\\u00e7o correspondente para o im\\u00f3vel) Ap\\u00f3s a Limpeza nos dados\", \"Distribui\\u00e7\\u00e3o da label MEDV (Pre\\u00e7o correspondente para o im\\u00f3vel) Ap\\u00f3s a Limpeza nos dados\", \"Distribui\\u00e7\\u00e3o da label MEDV (Pre\\u00e7o correspondente para o im\\u00f3vel) Ap\\u00f3s a Limpeza nos dados\", \"Distribui\\u00e7\\u00e3o da label MEDV (Pre\\u00e7o correspondente para o im\\u00f3vel) Ap\\u00f3s a Limpeza nos dados\", \"Distribui\\u00e7\\u00e3o da label MEDV (Pre\\u00e7o correspondente para o im\\u00f3vel) Ap\\u00f3s a Limpeza nos dados\", \"Distribui\\u00e7\\u00e3o da label MEDV (Pre\\u00e7o correspondente para o im\\u00f3vel) Ap\\u00f3s a Limpeza nos dados\", \"Distribui\\u00e7\\u00e3o da label MEDV (Pre\\u00e7o correspondente para o im\\u00f3vel) Ap\\u00f3s a Limpeza nos dados\", \"Distribui\\u00e7\\u00e3o da label MEDV (Pre\\u00e7o correspondente para o im\\u00f3vel) Ap\\u00f3s a Limpeza nos dados\", \"Distribui\\u00e7\\u00e3o da label MEDV (Pre\\u00e7o correspondente para o im\\u00f3vel) Ap\\u00f3s a Limpeza nos dados\", \"Distribui\\u00e7\\u00e3o da label MEDV (Pre\\u00e7o correspondente para o im\\u00f3vel) Ap\\u00f3s a Limpeza nos dados\", \"Distribui\\u00e7\\u00e3o da label MEDV (Pre\\u00e7o correspondente para o im\\u00f3vel) Ap\\u00f3s a Limpeza nos dados\", \"Distribui\\u00e7\\u00e3o da label MEDV (Pre\\u00e7o correspondente para o im\\u00f3vel) Ap\\u00f3s a Limpeza nos dados\", \"Distribui\\u00e7\\u00e3o da label MEDV (Pre\\u00e7o correspondente para o im\\u00f3vel) Ap\\u00f3s a Limpeza nos dados\", \"Distribui\\u00e7\\u00e3o da label MEDV (Pre\\u00e7o correspondente para o im\\u00f3vel) Ap\\u00f3s a Limpeza nos dados\", \"Distribui\\u00e7\\u00e3o da label MEDV (Pre\\u00e7o correspondente para o im\\u00f3vel) Ap\\u00f3s a Limpeza nos dados\", \"Distribui\\u00e7\\u00e3o da label MEDV (Pre\\u00e7o correspondente para o im\\u00f3vel) Ap\\u00f3s a Limpeza nos dados\", \"Distribui\\u00e7\\u00e3o da label MEDV (Pre\\u00e7o correspondente para o im\\u00f3vel) Ap\\u00f3s a Limpeza nos dados\", \"Distribui\\u00e7\\u00e3o da label MEDV (Pre\\u00e7o correspondente para o im\\u00f3vel) Ap\\u00f3s a Limpeza nos dados\", \"Distribui\\u00e7\\u00e3o da label MEDV (Pre\\u00e7o correspondente para o im\\u00f3vel) Ap\\u00f3s a Limpeza nos dados\", \"Distribui\\u00e7\\u00e3o da label MEDV (Pre\\u00e7o correspondente para o im\\u00f3vel) Ap\\u00f3s a Limpeza nos dados\", \"Distribui\\u00e7\\u00e3o da label MEDV (Pre\\u00e7o correspondente para o im\\u00f3vel) Ap\\u00f3s a Limpeza nos dados\", \"Distribui\\u00e7\\u00e3o da label MEDV (Pre\\u00e7o correspondente para o im\\u00f3vel) Ap\\u00f3s a Limpeza nos dados\", \"Distribui\\u00e7\\u00e3o da label MEDV (Pre\\u00e7o correspondente para o im\\u00f3vel) Ap\\u00f3s a Limpeza nos dados\", \"Distribui\\u00e7\\u00e3o da label MEDV (Pre\\u00e7o correspondente para o im\\u00f3vel) Ap\\u00f3s a Limpeza nos dados\", \"Distribui\\u00e7\\u00e3o da label MEDV (Pre\\u00e7o correspondente para o im\\u00f3vel) Ap\\u00f3s a Limpeza nos dados\", \"Distribui\\u00e7\\u00e3o da label MEDV (Pre\\u00e7o correspondente para o im\\u00f3vel) Ap\\u00f3s a Limpeza nos dados\", \"Distribui\\u00e7\\u00e3o da label MEDV (Pre\\u00e7o correspondente para o im\\u00f3vel) Ap\\u00f3s a Limpeza nos dados\", \"Distribui\\u00e7\\u00e3o da label MEDV (Pre\\u00e7o correspondente para o im\\u00f3vel) Ap\\u00f3s a Limpeza nos dados\", \"Distribui\\u00e7\\u00e3o da label MEDV (Pre\\u00e7o correspondente para o im\\u00f3vel) Ap\\u00f3s a Limpeza nos dados\", \"Distribui\\u00e7\\u00e3o da label MEDV (Pre\\u00e7o correspondente para o im\\u00f3vel) Ap\\u00f3s a Limpeza nos dados\", \"Distribui\\u00e7\\u00e3o da label MEDV (Pre\\u00e7o correspondente para o im\\u00f3vel) Ap\\u00f3s a Limpeza nos dados\", \"Distribui\\u00e7\\u00e3o da label MEDV (Pre\\u00e7o correspondente para o im\\u00f3vel) Ap\\u00f3s a Limpeza nos dados\", \"Distribui\\u00e7\\u00e3o da label MEDV (Pre\\u00e7o correspondente para o im\\u00f3vel) Ap\\u00f3s a Limpeza nos dados\", \"Distribui\\u00e7\\u00e3o da label MEDV (Pre\\u00e7o correspondente para o im\\u00f3vel) Ap\\u00f3s a Limpeza nos dados\", \"Distribui\\u00e7\\u00e3o da label MEDV (Pre\\u00e7o correspondente para o im\\u00f3vel) Ap\\u00f3s a Limpeza nos dados\", \"Distribui\\u00e7\\u00e3o da label MEDV (Pre\\u00e7o correspondente para o im\\u00f3vel) Ap\\u00f3s a Limpeza nos dados\", \"Distribui\\u00e7\\u00e3o da label MEDV (Pre\\u00e7o correspondente para o im\\u00f3vel) Ap\\u00f3s a Limpeza nos dados\", \"Distribui\\u00e7\\u00e3o da label MEDV (Pre\\u00e7o correspondente para o im\\u00f3vel) Ap\\u00f3s a Limpeza nos dados\", \"Distribui\\u00e7\\u00e3o da label MEDV (Pre\\u00e7o correspondente para o im\\u00f3vel) Ap\\u00f3s a Limpeza nos dados\", \"Distribui\\u00e7\\u00e3o da label MEDV (Pre\\u00e7o correspondente para o im\\u00f3vel) Ap\\u00f3s a Limpeza nos dados\", \"Distribui\\u00e7\\u00e3o da label MEDV (Pre\\u00e7o correspondente para o im\\u00f3vel) Ap\\u00f3s a Limpeza nos dados\", \"Distribui\\u00e7\\u00e3o da label MEDV (Pre\\u00e7o correspondente para o im\\u00f3vel) Ap\\u00f3s a Limpeza nos dados\", \"Distribui\\u00e7\\u00e3o da label MEDV (Pre\\u00e7o correspondente para o im\\u00f3vel) Ap\\u00f3s a Limpeza nos dados\", \"Distribui\\u00e7\\u00e3o da label MEDV (Pre\\u00e7o correspondente para o im\\u00f3vel) Ap\\u00f3s a Limpeza nos dados\", \"Distribui\\u00e7\\u00e3o da label MEDV (Pre\\u00e7o correspondente para o im\\u00f3vel) Ap\\u00f3s a Limpeza nos dados\", \"Distribui\\u00e7\\u00e3o da label MEDV (Pre\\u00e7o correspondente para o im\\u00f3vel) Ap\\u00f3s a Limpeza nos dados\", \"Distribui\\u00e7\\u00e3o da label MEDV (Pre\\u00e7o correspondente para o im\\u00f3vel) Ap\\u00f3s a Limpeza nos dados\", \"Distribui\\u00e7\\u00e3o da label MEDV (Pre\\u00e7o correspondente para o im\\u00f3vel) Ap\\u00f3s a Limpeza nos dados\", \"Distribui\\u00e7\\u00e3o da label MEDV (Pre\\u00e7o correspondente para o im\\u00f3vel) Ap\\u00f3s a Limpeza nos dados\", \"Distribui\\u00e7\\u00e3o da label MEDV (Pre\\u00e7o correspondente para o im\\u00f3vel) Ap\\u00f3s a Limpeza nos dados\", \"Distribui\\u00e7\\u00e3o da label MEDV (Pre\\u00e7o correspondente para o im\\u00f3vel) Ap\\u00f3s a Limpeza nos dados\", \"Distribui\\u00e7\\u00e3o da label MEDV (Pre\\u00e7o correspondente para o im\\u00f3vel) Ap\\u00f3s a Limpeza nos dados\", \"Distribui\\u00e7\\u00e3o da label MEDV (Pre\\u00e7o correspondente para o im\\u00f3vel) Ap\\u00f3s a Limpeza nos dados\", \"Distribui\\u00e7\\u00e3o da label MEDV (Pre\\u00e7o correspondente para o im\\u00f3vel) Ap\\u00f3s a Limpeza nos dados\", \"Distribui\\u00e7\\u00e3o da label MEDV (Pre\\u00e7o correspondente para o im\\u00f3vel) Ap\\u00f3s a Limpeza nos dados\", \"Distribui\\u00e7\\u00e3o da label MEDV (Pre\\u00e7o correspondente para o im\\u00f3vel) Ap\\u00f3s a Limpeza nos dados\", \"Distribui\\u00e7\\u00e3o da label MEDV (Pre\\u00e7o correspondente para o im\\u00f3vel) Ap\\u00f3s a Limpeza nos dados\", \"Distribui\\u00e7\\u00e3o da label MEDV (Pre\\u00e7o correspondente para o im\\u00f3vel) Ap\\u00f3s a Limpeza nos dados\", \"Distribui\\u00e7\\u00e3o da label MEDV (Pre\\u00e7o correspondente para o im\\u00f3vel) Ap\\u00f3s a Limpeza nos dados\", \"Distribui\\u00e7\\u00e3o da label MEDV (Pre\\u00e7o correspondente para o im\\u00f3vel) Ap\\u00f3s a Limpeza nos dados\", \"Distribui\\u00e7\\u00e3o da label MEDV (Pre\\u00e7o correspondente para o im\\u00f3vel) Ap\\u00f3s a Limpeza nos dados\", \"Distribui\\u00e7\\u00e3o da label MEDV (Pre\\u00e7o correspondente para o im\\u00f3vel) Ap\\u00f3s a Limpeza nos dados\", \"Distribui\\u00e7\\u00e3o da label MEDV (Pre\\u00e7o correspondente para o im\\u00f3vel) Ap\\u00f3s a Limpeza nos dados\", \"Distribui\\u00e7\\u00e3o da label MEDV (Pre\\u00e7o correspondente para o im\\u00f3vel) Ap\\u00f3s a Limpeza nos dados\", \"Distribui\\u00e7\\u00e3o da label MEDV (Pre\\u00e7o correspondente para o im\\u00f3vel) Ap\\u00f3s a Limpeza nos dados\", \"Distribui\\u00e7\\u00e3o da label MEDV (Pre\\u00e7o correspondente para o im\\u00f3vel) Ap\\u00f3s a Limpeza nos dados\", \"Distribui\\u00e7\\u00e3o da label MEDV (Pre\\u00e7o correspondente para o im\\u00f3vel) Ap\\u00f3s a Limpeza nos dados\", \"Distribui\\u00e7\\u00e3o da label MEDV (Pre\\u00e7o correspondente para o im\\u00f3vel) Ap\\u00f3s a Limpeza nos dados\", \"Distribui\\u00e7\\u00e3o da label MEDV (Pre\\u00e7o correspondente para o im\\u00f3vel) Ap\\u00f3s a Limpeza nos dados\", \"Distribui\\u00e7\\u00e3o da label MEDV (Pre\\u00e7o correspondente para o im\\u00f3vel) Ap\\u00f3s a Limpeza nos dados\", \"Distribui\\u00e7\\u00e3o da label MEDV (Pre\\u00e7o correspondente para o im\\u00f3vel) Ap\\u00f3s a Limpeza nos dados\", \"Distribui\\u00e7\\u00e3o da label MEDV (Pre\\u00e7o correspondente para o im\\u00f3vel) Ap\\u00f3s a Limpeza nos dados\", \"Distribui\\u00e7\\u00e3o da label MEDV (Pre\\u00e7o correspondente para o im\\u00f3vel) Ap\\u00f3s a Limpeza nos dados\", \"Distribui\\u00e7\\u00e3o da label MEDV (Pre\\u00e7o correspondente para o im\\u00f3vel) Ap\\u00f3s a Limpeza nos dados\", \"Distribui\\u00e7\\u00e3o da label MEDV (Pre\\u00e7o correspondente para o im\\u00f3vel) Ap\\u00f3s a Limpeza nos dados\", \"Distribui\\u00e7\\u00e3o da label MEDV (Pre\\u00e7o correspondente para o im\\u00f3vel) Ap\\u00f3s a Limpeza nos dados\", \"Distribui\\u00e7\\u00e3o da label MEDV (Pre\\u00e7o correspondente para o im\\u00f3vel) Ap\\u00f3s a Limpeza nos dados\", \"Distribui\\u00e7\\u00e3o da label MEDV (Pre\\u00e7o correspondente para o im\\u00f3vel) Ap\\u00f3s a Limpeza nos dados\", \"Distribui\\u00e7\\u00e3o da label MEDV (Pre\\u00e7o correspondente para o im\\u00f3vel) Ap\\u00f3s a Limpeza nos dados\", \"Distribui\\u00e7\\u00e3o da label MEDV (Pre\\u00e7o correspondente para o im\\u00f3vel) Ap\\u00f3s a Limpeza nos dados\", \"Distribui\\u00e7\\u00e3o da label MEDV (Pre\\u00e7o correspondente para o im\\u00f3vel) Ap\\u00f3s a Limpeza nos dados\", \"Distribui\\u00e7\\u00e3o da label MEDV (Pre\\u00e7o correspondente para o im\\u00f3vel) Ap\\u00f3s a Limpeza nos dados\", \"Distribui\\u00e7\\u00e3o da label MEDV (Pre\\u00e7o correspondente para o im\\u00f3vel) Ap\\u00f3s a Limpeza nos dados\", \"Distribui\\u00e7\\u00e3o da label MEDV (Pre\\u00e7o correspondente para o im\\u00f3vel) Ap\\u00f3s a Limpeza nos dados\", \"Distribui\\u00e7\\u00e3o da label MEDV (Pre\\u00e7o correspondente para o im\\u00f3vel) Ap\\u00f3s a Limpeza nos dados\", \"Distribui\\u00e7\\u00e3o da label MEDV (Pre\\u00e7o correspondente para o im\\u00f3vel) Ap\\u00f3s a Limpeza nos dados\", \"Distribui\\u00e7\\u00e3o da label MEDV (Pre\\u00e7o correspondente para o im\\u00f3vel) Ap\\u00f3s a Limpeza nos dados\", \"Distribui\\u00e7\\u00e3o da label MEDV (Pre\\u00e7o correspondente para o im\\u00f3vel) Ap\\u00f3s a Limpeza nos dados\", \"Distribui\\u00e7\\u00e3o da label MEDV (Pre\\u00e7o correspondente para o im\\u00f3vel) Ap\\u00f3s a Limpeza nos dados\", \"Distribui\\u00e7\\u00e3o da label MEDV (Pre\\u00e7o correspondente para o im\\u00f3vel) Ap\\u00f3s a Limpeza nos dados\", \"Distribui\\u00e7\\u00e3o da label MEDV (Pre\\u00e7o correspondente para o im\\u00f3vel) Ap\\u00f3s a Limpeza nos dados\", \"Distribui\\u00e7\\u00e3o da label MEDV (Pre\\u00e7o correspondente para o im\\u00f3vel) Ap\\u00f3s a Limpeza nos dados\", \"Distribui\\u00e7\\u00e3o da label MEDV (Pre\\u00e7o correspondente para o im\\u00f3vel) Ap\\u00f3s a Limpeza nos dados\", \"Distribui\\u00e7\\u00e3o da label MEDV (Pre\\u00e7o correspondente para o im\\u00f3vel) Ap\\u00f3s a Limpeza nos dados\", \"Distribui\\u00e7\\u00e3o da label MEDV (Pre\\u00e7o correspondente para o im\\u00f3vel) Ap\\u00f3s a Limpeza nos dados\", \"Distribui\\u00e7\\u00e3o da label MEDV (Pre\\u00e7o correspondente para o im\\u00f3vel) Ap\\u00f3s a Limpeza nos dados\", \"Distribui\\u00e7\\u00e3o da label MEDV (Pre\\u00e7o correspondente para o im\\u00f3vel) Ap\\u00f3s a Limpeza nos dados\", \"Distribui\\u00e7\\u00e3o da label MEDV (Pre\\u00e7o correspondente para o im\\u00f3vel) Ap\\u00f3s a Limpeza nos dados\", \"Distribui\\u00e7\\u00e3o da label MEDV (Pre\\u00e7o correspondente para o im\\u00f3vel) Ap\\u00f3s a Limpeza nos dados\", \"Distribui\\u00e7\\u00e3o da label MEDV (Pre\\u00e7o correspondente para o im\\u00f3vel) Ap\\u00f3s a Limpeza nos dados\", \"Distribui\\u00e7\\u00e3o da label MEDV (Pre\\u00e7o correspondente para o im\\u00f3vel) Ap\\u00f3s a Limpeza nos dados\", \"Distribui\\u00e7\\u00e3o da label MEDV (Pre\\u00e7o correspondente para o im\\u00f3vel) Ap\\u00f3s a Limpeza nos dados\", \"Distribui\\u00e7\\u00e3o da label MEDV (Pre\\u00e7o correspondente para o im\\u00f3vel) Ap\\u00f3s a Limpeza nos dados\", \"Distribui\\u00e7\\u00e3o da label MEDV (Pre\\u00e7o correspondente para o im\\u00f3vel) Ap\\u00f3s a Limpeza nos dados\", \"Distribui\\u00e7\\u00e3o da label MEDV (Pre\\u00e7o correspondente para o im\\u00f3vel) Ap\\u00f3s a Limpeza nos dados\", \"Distribui\\u00e7\\u00e3o da label MEDV (Pre\\u00e7o correspondente para o im\\u00f3vel) Ap\\u00f3s a Limpeza nos dados\", \"Distribui\\u00e7\\u00e3o da label MEDV (Pre\\u00e7o correspondente para o im\\u00f3vel) Ap\\u00f3s a Limpeza nos dados\", \"Distribui\\u00e7\\u00e3o da label MEDV (Pre\\u00e7o correspondente para o im\\u00f3vel) Ap\\u00f3s a Limpeza nos dados\", \"Distribui\\u00e7\\u00e3o da label MEDV (Pre\\u00e7o correspondente para o im\\u00f3vel) Ap\\u00f3s a Limpeza nos dados\", \"Distribui\\u00e7\\u00e3o da label MEDV (Pre\\u00e7o correspondente para o im\\u00f3vel) Ap\\u00f3s a Limpeza nos dados\", \"Distribui\\u00e7\\u00e3o da label MEDV (Pre\\u00e7o correspondente para o im\\u00f3vel) Ap\\u00f3s a Limpeza nos dados\", \"Distribui\\u00e7\\u00e3o da label MEDV (Pre\\u00e7o correspondente para o im\\u00f3vel) Ap\\u00f3s a Limpeza nos dados\", \"Distribui\\u00e7\\u00e3o da label MEDV (Pre\\u00e7o correspondente para o im\\u00f3vel) Ap\\u00f3s a Limpeza nos dados\", \"Distribui\\u00e7\\u00e3o da label MEDV (Pre\\u00e7o correspondente para o im\\u00f3vel) Ap\\u00f3s a Limpeza nos dados\", \"Distribui\\u00e7\\u00e3o da label MEDV (Pre\\u00e7o correspondente para o im\\u00f3vel) Ap\\u00f3s a Limpeza nos dados\", \"Distribui\\u00e7\\u00e3o da label MEDV (Pre\\u00e7o correspondente para o im\\u00f3vel) Ap\\u00f3s a Limpeza nos dados\", \"Distribui\\u00e7\\u00e3o da label MEDV (Pre\\u00e7o correspondente para o im\\u00f3vel) Ap\\u00f3s a Limpeza nos dados\", \"Distribui\\u00e7\\u00e3o da label MEDV (Pre\\u00e7o correspondente para o im\\u00f3vel) Ap\\u00f3s a Limpeza nos dados\", \"Distribui\\u00e7\\u00e3o da label MEDV (Pre\\u00e7o correspondente para o im\\u00f3vel) Ap\\u00f3s a Limpeza nos dados\", \"Distribui\\u00e7\\u00e3o da label MEDV (Pre\\u00e7o correspondente para o im\\u00f3vel) Ap\\u00f3s a Limpeza nos dados\", \"Distribui\\u00e7\\u00e3o da label MEDV (Pre\\u00e7o correspondente para o im\\u00f3vel) Ap\\u00f3s a Limpeza nos dados\", \"Distribui\\u00e7\\u00e3o da label MEDV (Pre\\u00e7o correspondente para o im\\u00f3vel) Ap\\u00f3s a Limpeza nos dados\", \"Distribui\\u00e7\\u00e3o da label MEDV (Pre\\u00e7o correspondente para o im\\u00f3vel) Ap\\u00f3s a Limpeza nos dados\", \"Distribui\\u00e7\\u00e3o da label MEDV (Pre\\u00e7o correspondente para o im\\u00f3vel) Ap\\u00f3s a Limpeza nos dados\", \"Distribui\\u00e7\\u00e3o da label MEDV (Pre\\u00e7o correspondente para o im\\u00f3vel) Ap\\u00f3s a Limpeza nos dados\", \"Distribui\\u00e7\\u00e3o da label MEDV (Pre\\u00e7o correspondente para o im\\u00f3vel) Ap\\u00f3s a Limpeza nos dados\", \"Distribui\\u00e7\\u00e3o da label MEDV (Pre\\u00e7o correspondente para o im\\u00f3vel) Ap\\u00f3s a Limpeza nos dados\", \"Distribui\\u00e7\\u00e3o da label MEDV (Pre\\u00e7o correspondente para o im\\u00f3vel) Ap\\u00f3s a Limpeza nos dados\", \"Distribui\\u00e7\\u00e3o da label MEDV (Pre\\u00e7o correspondente para o im\\u00f3vel) Ap\\u00f3s a Limpeza nos dados\", \"Distribui\\u00e7\\u00e3o da label MEDV (Pre\\u00e7o correspondente para o im\\u00f3vel) Ap\\u00f3s a Limpeza nos dados\", \"Distribui\\u00e7\\u00e3o da label MEDV (Pre\\u00e7o correspondente para o im\\u00f3vel) Ap\\u00f3s a Limpeza nos dados\", \"Distribui\\u00e7\\u00e3o da label MEDV (Pre\\u00e7o correspondente para o im\\u00f3vel) Ap\\u00f3s a Limpeza nos dados\", \"Distribui\\u00e7\\u00e3o da label MEDV (Pre\\u00e7o correspondente para o im\\u00f3vel) Ap\\u00f3s a Limpeza nos dados\", \"Distribui\\u00e7\\u00e3o da label MEDV (Pre\\u00e7o correspondente para o im\\u00f3vel) Ap\\u00f3s a Limpeza nos dados\", \"Distribui\\u00e7\\u00e3o da label MEDV (Pre\\u00e7o correspondente para o im\\u00f3vel) Ap\\u00f3s a Limpeza nos dados\", \"Distribui\\u00e7\\u00e3o da label MEDV (Pre\\u00e7o correspondente para o im\\u00f3vel) Ap\\u00f3s a Limpeza nos dados\", \"Distribui\\u00e7\\u00e3o da label MEDV (Pre\\u00e7o correspondente para o im\\u00f3vel) Ap\\u00f3s a Limpeza nos dados\", \"Distribui\\u00e7\\u00e3o da label MEDV (Pre\\u00e7o correspondente para o im\\u00f3vel) Ap\\u00f3s a Limpeza nos dados\", \"Distribui\\u00e7\\u00e3o da label MEDV (Pre\\u00e7o correspondente para o im\\u00f3vel) Ap\\u00f3s a Limpeza nos dados\", \"Distribui\\u00e7\\u00e3o da label MEDV (Pre\\u00e7o correspondente para o im\\u00f3vel) Ap\\u00f3s a Limpeza nos dados\", \"Distribui\\u00e7\\u00e3o da label MEDV (Pre\\u00e7o correspondente para o im\\u00f3vel) Ap\\u00f3s a Limpeza nos dados\", \"Distribui\\u00e7\\u00e3o da label MEDV (Pre\\u00e7o correspondente para o im\\u00f3vel) Ap\\u00f3s a Limpeza nos dados\", \"Distribui\\u00e7\\u00e3o da label MEDV (Pre\\u00e7o correspondente para o im\\u00f3vel) Ap\\u00f3s a Limpeza nos dados\", \"Distribui\\u00e7\\u00e3o da label MEDV (Pre\\u00e7o correspondente para o im\\u00f3vel) Ap\\u00f3s a Limpeza nos dados\", \"Distribui\\u00e7\\u00e3o da label MEDV (Pre\\u00e7o correspondente para o im\\u00f3vel) Ap\\u00f3s a Limpeza nos dados\", \"Distribui\\u00e7\\u00e3o da label MEDV (Pre\\u00e7o correspondente para o im\\u00f3vel) Ap\\u00f3s a Limpeza nos dados\", \"Distribui\\u00e7\\u00e3o da label MEDV (Pre\\u00e7o correspondente para o im\\u00f3vel) Ap\\u00f3s a Limpeza nos dados\", \"Distribui\\u00e7\\u00e3o da label MEDV (Pre\\u00e7o correspondente para o im\\u00f3vel) Ap\\u00f3s a Limpeza nos dados\", \"Distribui\\u00e7\\u00e3o da label MEDV (Pre\\u00e7o correspondente para o im\\u00f3vel) Ap\\u00f3s a Limpeza nos dados\", \"Distribui\\u00e7\\u00e3o da label MEDV (Pre\\u00e7o correspondente para o im\\u00f3vel) Ap\\u00f3s a Limpeza nos dados\", \"Distribui\\u00e7\\u00e3o da label MEDV (Pre\\u00e7o correspondente para o im\\u00f3vel) Ap\\u00f3s a Limpeza nos dados\", \"Distribui\\u00e7\\u00e3o da label MEDV (Pre\\u00e7o correspondente para o im\\u00f3vel) Ap\\u00f3s a Limpeza nos dados\", \"Distribui\\u00e7\\u00e3o da label MEDV (Pre\\u00e7o correspondente para o im\\u00f3vel) Ap\\u00f3s a Limpeza nos dados\", \"Distribui\\u00e7\\u00e3o da label MEDV (Pre\\u00e7o correspondente para o im\\u00f3vel) Ap\\u00f3s a Limpeza nos dados\", \"Distribui\\u00e7\\u00e3o da label MEDV (Pre\\u00e7o correspondente para o im\\u00f3vel) Ap\\u00f3s a Limpeza nos dados\", \"Distribui\\u00e7\\u00e3o da label MEDV (Pre\\u00e7o correspondente para o im\\u00f3vel) Ap\\u00f3s a Limpeza nos dados\", \"Distribui\\u00e7\\u00e3o da label MEDV (Pre\\u00e7o correspondente para o im\\u00f3vel) Ap\\u00f3s a Limpeza nos dados\", \"Distribui\\u00e7\\u00e3o da label MEDV (Pre\\u00e7o correspondente para o im\\u00f3vel) Ap\\u00f3s a Limpeza nos dados\", \"Distribui\\u00e7\\u00e3o da label MEDV (Pre\\u00e7o correspondente para o im\\u00f3vel) Ap\\u00f3s a Limpeza nos dados\", \"Distribui\\u00e7\\u00e3o da label MEDV (Pre\\u00e7o correspondente para o im\\u00f3vel) Ap\\u00f3s a Limpeza nos dados\", \"Distribui\\u00e7\\u00e3o da label MEDV (Pre\\u00e7o correspondente para o im\\u00f3vel) Ap\\u00f3s a Limpeza nos dados\", \"Distribui\\u00e7\\u00e3o da label MEDV (Pre\\u00e7o correspondente para o im\\u00f3vel) Ap\\u00f3s a Limpeza nos dados\", \"Distribui\\u00e7\\u00e3o da label MEDV (Pre\\u00e7o correspondente para o im\\u00f3vel) Ap\\u00f3s a Limpeza nos dados\", \"Distribui\\u00e7\\u00e3o da label MEDV (Pre\\u00e7o correspondente para o im\\u00f3vel) Ap\\u00f3s a Limpeza nos dados\", \"Distribui\\u00e7\\u00e3o da label MEDV (Pre\\u00e7o correspondente para o im\\u00f3vel) Ap\\u00f3s a Limpeza nos dados\", \"Distribui\\u00e7\\u00e3o da label MEDV (Pre\\u00e7o correspondente para o im\\u00f3vel) Ap\\u00f3s a Limpeza nos dados\", \"Distribui\\u00e7\\u00e3o da label MEDV (Pre\\u00e7o correspondente para o im\\u00f3vel) Ap\\u00f3s a Limpeza nos dados\", \"Distribui\\u00e7\\u00e3o da label MEDV (Pre\\u00e7o correspondente para o im\\u00f3vel) Ap\\u00f3s a Limpeza nos dados\", \"Distribui\\u00e7\\u00e3o da label MEDV (Pre\\u00e7o correspondente para o im\\u00f3vel) Ap\\u00f3s a Limpeza nos dados\", \"Distribui\\u00e7\\u00e3o da label MEDV (Pre\\u00e7o correspondente para o im\\u00f3vel) Ap\\u00f3s a Limpeza nos dados\", \"Distribui\\u00e7\\u00e3o da label MEDV (Pre\\u00e7o correspondente para o im\\u00f3vel) Ap\\u00f3s a Limpeza nos dados\", \"Distribui\\u00e7\\u00e3o da label MEDV (Pre\\u00e7o correspondente para o im\\u00f3vel) Ap\\u00f3s a Limpeza nos dados\", \"Distribui\\u00e7\\u00e3o da label MEDV (Pre\\u00e7o correspondente para o im\\u00f3vel) Ap\\u00f3s a Limpeza nos dados\", \"Distribui\\u00e7\\u00e3o da label MEDV (Pre\\u00e7o correspondente para o im\\u00f3vel) Ap\\u00f3s a Limpeza nos dados\", \"Distribui\\u00e7\\u00e3o da label MEDV (Pre\\u00e7o correspondente para o im\\u00f3vel) Ap\\u00f3s a Limpeza nos dados\", \"Distribui\\u00e7\\u00e3o da label MEDV (Pre\\u00e7o correspondente para o im\\u00f3vel) Ap\\u00f3s a Limpeza nos dados\", \"Distribui\\u00e7\\u00e3o da label MEDV (Pre\\u00e7o correspondente para o im\\u00f3vel) Ap\\u00f3s a Limpeza nos dados\", \"Distribui\\u00e7\\u00e3o da label MEDV (Pre\\u00e7o correspondente para o im\\u00f3vel) Ap\\u00f3s a Limpeza nos dados\", \"Distribui\\u00e7\\u00e3o da label MEDV (Pre\\u00e7o correspondente para o im\\u00f3vel) Ap\\u00f3s a Limpeza nos dados\", \"Distribui\\u00e7\\u00e3o da label MEDV (Pre\\u00e7o correspondente para o im\\u00f3vel) Ap\\u00f3s a Limpeza nos dados\", \"Distribui\\u00e7\\u00e3o da label MEDV (Pre\\u00e7o correspondente para o im\\u00f3vel) Ap\\u00f3s a Limpeza nos dados\", \"Distribui\\u00e7\\u00e3o da label MEDV (Pre\\u00e7o correspondente para o im\\u00f3vel) Ap\\u00f3s a Limpeza nos dados\", \"Distribui\\u00e7\\u00e3o da label MEDV (Pre\\u00e7o correspondente para o im\\u00f3vel) Ap\\u00f3s a Limpeza nos dados\", \"Distribui\\u00e7\\u00e3o da label MEDV (Pre\\u00e7o correspondente para o im\\u00f3vel) Ap\\u00f3s a Limpeza nos dados\", \"Distribui\\u00e7\\u00e3o da label MEDV (Pre\\u00e7o correspondente para o im\\u00f3vel) Ap\\u00f3s a Limpeza nos dados\", \"Distribui\\u00e7\\u00e3o da label MEDV (Pre\\u00e7o correspondente para o im\\u00f3vel) Ap\\u00f3s a Limpeza nos dados\", \"Distribui\\u00e7\\u00e3o da label MEDV (Pre\\u00e7o correspondente para o im\\u00f3vel) Ap\\u00f3s a Limpeza nos dados\", \"Distribui\\u00e7\\u00e3o da label MEDV (Pre\\u00e7o correspondente para o im\\u00f3vel) Ap\\u00f3s a Limpeza nos dados\", \"Distribui\\u00e7\\u00e3o da label MEDV (Pre\\u00e7o correspondente para o im\\u00f3vel) Ap\\u00f3s a Limpeza nos dados\", \"Distribui\\u00e7\\u00e3o da label MEDV (Pre\\u00e7o correspondente para o im\\u00f3vel) Ap\\u00f3s a Limpeza nos dados\", \"Distribui\\u00e7\\u00e3o da label MEDV (Pre\\u00e7o correspondente para o im\\u00f3vel) Ap\\u00f3s a Limpeza nos dados\", \"Distribui\\u00e7\\u00e3o da label MEDV (Pre\\u00e7o correspondente para o im\\u00f3vel) Ap\\u00f3s a Limpeza nos dados\", \"Distribui\\u00e7\\u00e3o da label MEDV (Pre\\u00e7o correspondente para o im\\u00f3vel) Ap\\u00f3s a Limpeza nos dados\", \"Distribui\\u00e7\\u00e3o da label MEDV (Pre\\u00e7o correspondente para o im\\u00f3vel) Ap\\u00f3s a Limpeza nos dados\", \"Distribui\\u00e7\\u00e3o da label MEDV (Pre\\u00e7o correspondente para o im\\u00f3vel) Ap\\u00f3s a Limpeza nos dados\", \"Distribui\\u00e7\\u00e3o da label MEDV (Pre\\u00e7o correspondente para o im\\u00f3vel) Ap\\u00f3s a Limpeza nos dados\", \"Distribui\\u00e7\\u00e3o da label MEDV (Pre\\u00e7o correspondente para o im\\u00f3vel) Ap\\u00f3s a Limpeza nos dados\", \"Distribui\\u00e7\\u00e3o da label MEDV (Pre\\u00e7o correspondente para o im\\u00f3vel) Ap\\u00f3s a Limpeza nos dados\", \"Distribui\\u00e7\\u00e3o da label MEDV (Pre\\u00e7o correspondente para o im\\u00f3vel) Ap\\u00f3s a Limpeza nos dados\", \"Distribui\\u00e7\\u00e3o da label MEDV (Pre\\u00e7o correspondente para o im\\u00f3vel) Ap\\u00f3s a Limpeza nos dados\", \"Distribui\\u00e7\\u00e3o da label MEDV (Pre\\u00e7o correspondente para o im\\u00f3vel) Ap\\u00f3s a Limpeza nos dados\", \"Distribui\\u00e7\\u00e3o da label MEDV (Pre\\u00e7o correspondente para o im\\u00f3vel) Ap\\u00f3s a Limpeza nos dados\", \"Distribui\\u00e7\\u00e3o da label MEDV (Pre\\u00e7o correspondente para o im\\u00f3vel) Ap\\u00f3s a Limpeza nos dados\", \"Distribui\\u00e7\\u00e3o da label MEDV (Pre\\u00e7o correspondente para o im\\u00f3vel) Ap\\u00f3s a Limpeza nos dados\", \"Distribui\\u00e7\\u00e3o da label MEDV (Pre\\u00e7o correspondente para o im\\u00f3vel) Ap\\u00f3s a Limpeza nos dados\", \"Distribui\\u00e7\\u00e3o da label MEDV (Pre\\u00e7o correspondente para o im\\u00f3vel) Ap\\u00f3s a Limpeza nos dados\", \"Distribui\\u00e7\\u00e3o da label MEDV (Pre\\u00e7o correspondente para o im\\u00f3vel) Ap\\u00f3s a Limpeza nos dados\", \"Distribui\\u00e7\\u00e3o da label MEDV (Pre\\u00e7o correspondente para o im\\u00f3vel) Ap\\u00f3s a Limpeza nos dados\", \"Distribui\\u00e7\\u00e3o da label MEDV (Pre\\u00e7o correspondente para o im\\u00f3vel) Ap\\u00f3s a Limpeza nos dados\", \"Distribui\\u00e7\\u00e3o da label MEDV (Pre\\u00e7o correspondente para o im\\u00f3vel) Ap\\u00f3s a Limpeza nos dados\", \"Distribui\\u00e7\\u00e3o da label MEDV (Pre\\u00e7o correspondente para o im\\u00f3vel) Ap\\u00f3s a Limpeza nos dados\", \"Distribui\\u00e7\\u00e3o da label MEDV (Pre\\u00e7o correspondente para o im\\u00f3vel) Ap\\u00f3s a Limpeza nos dados\", \"Distribui\\u00e7\\u00e3o da label MEDV (Pre\\u00e7o correspondente para o im\\u00f3vel) Ap\\u00f3s a Limpeza nos dados\", \"Distribui\\u00e7\\u00e3o da label MEDV (Pre\\u00e7o correspondente para o im\\u00f3vel) Ap\\u00f3s a Limpeza nos dados\", \"Distribui\\u00e7\\u00e3o da label MEDV (Pre\\u00e7o correspondente para o im\\u00f3vel) Ap\\u00f3s a Limpeza nos dados\", \"Distribui\\u00e7\\u00e3o da label MEDV (Pre\\u00e7o correspondente para o im\\u00f3vel) Ap\\u00f3s a Limpeza nos dados\", \"Distribui\\u00e7\\u00e3o da label MEDV (Pre\\u00e7o correspondente para o im\\u00f3vel) Ap\\u00f3s a Limpeza nos dados\", \"Distribui\\u00e7\\u00e3o da label MEDV (Pre\\u00e7o correspondente para o im\\u00f3vel) Ap\\u00f3s a Limpeza nos dados\", \"Distribui\\u00e7\\u00e3o da label MEDV (Pre\\u00e7o correspondente para o im\\u00f3vel) Ap\\u00f3s a Limpeza nos dados\", \"Distribui\\u00e7\\u00e3o da label MEDV (Pre\\u00e7o correspondente para o im\\u00f3vel) Ap\\u00f3s a Limpeza nos dados\", \"Distribui\\u00e7\\u00e3o da label MEDV (Pre\\u00e7o correspondente para o im\\u00f3vel) Ap\\u00f3s a Limpeza nos dados\", \"Distribui\\u00e7\\u00e3o da label MEDV (Pre\\u00e7o correspondente para o im\\u00f3vel) Ap\\u00f3s a Limpeza nos dados\", \"Distribui\\u00e7\\u00e3o da label MEDV (Pre\\u00e7o correspondente para o im\\u00f3vel) Ap\\u00f3s a Limpeza nos dados\", \"Distribui\\u00e7\\u00e3o da label MEDV (Pre\\u00e7o correspondente para o im\\u00f3vel) Ap\\u00f3s a Limpeza nos dados\", \"Distribui\\u00e7\\u00e3o da label MEDV (Pre\\u00e7o correspondente para o im\\u00f3vel) Ap\\u00f3s a Limpeza nos dados\", \"Distribui\\u00e7\\u00e3o da label MEDV (Pre\\u00e7o correspondente para o im\\u00f3vel) Ap\\u00f3s a Limpeza nos dados\", \"Distribui\\u00e7\\u00e3o da label MEDV (Pre\\u00e7o correspondente para o im\\u00f3vel) Ap\\u00f3s a Limpeza nos dados\", \"Distribui\\u00e7\\u00e3o da label MEDV (Pre\\u00e7o correspondente para o im\\u00f3vel) Ap\\u00f3s a Limpeza nos dados\", \"Distribui\\u00e7\\u00e3o da label MEDV (Pre\\u00e7o correspondente para o im\\u00f3vel) Ap\\u00f3s a Limpeza nos dados\", \"Distribui\\u00e7\\u00e3o da label MEDV (Pre\\u00e7o correspondente para o im\\u00f3vel) Ap\\u00f3s a Limpeza nos dados\", \"Distribui\\u00e7\\u00e3o da label MEDV (Pre\\u00e7o correspondente para o im\\u00f3vel) Ap\\u00f3s a Limpeza nos dados\", \"Distribui\\u00e7\\u00e3o da label MEDV (Pre\\u00e7o correspondente para o im\\u00f3vel) Ap\\u00f3s a Limpeza nos dados\", \"Distribui\\u00e7\\u00e3o da label MEDV (Pre\\u00e7o correspondente para o im\\u00f3vel) Ap\\u00f3s a Limpeza nos dados\", \"Distribui\\u00e7\\u00e3o da label MEDV (Pre\\u00e7o correspondente para o im\\u00f3vel) Ap\\u00f3s a Limpeza nos dados\", \"Distribui\\u00e7\\u00e3o da label MEDV (Pre\\u00e7o correspondente para o im\\u00f3vel) Ap\\u00f3s a Limpeza nos dados\", \"Distribui\\u00e7\\u00e3o da label MEDV (Pre\\u00e7o correspondente para o im\\u00f3vel) Ap\\u00f3s a Limpeza nos dados\", \"Distribui\\u00e7\\u00e3o da label MEDV (Pre\\u00e7o correspondente para o im\\u00f3vel) Ap\\u00f3s a Limpeza nos dados\", \"Distribui\\u00e7\\u00e3o da label MEDV (Pre\\u00e7o correspondente para o im\\u00f3vel) Ap\\u00f3s a Limpeza nos dados\", \"Distribui\\u00e7\\u00e3o da label MEDV (Pre\\u00e7o correspondente para o im\\u00f3vel) Ap\\u00f3s a Limpeza nos dados\", \"Distribui\\u00e7\\u00e3o da label MEDV (Pre\\u00e7o correspondente para o im\\u00f3vel) Ap\\u00f3s a Limpeza nos dados\", \"Distribui\\u00e7\\u00e3o da label MEDV (Pre\\u00e7o correspondente para o im\\u00f3vel) Ap\\u00f3s a Limpeza nos dados\", \"Distribui\\u00e7\\u00e3o da label MEDV (Pre\\u00e7o correspondente para o im\\u00f3vel) Ap\\u00f3s a Limpeza nos dados\", \"Distribui\\u00e7\\u00e3o da label MEDV (Pre\\u00e7o correspondente para o im\\u00f3vel) Ap\\u00f3s a Limpeza nos dados\", \"Distribui\\u00e7\\u00e3o da label MEDV (Pre\\u00e7o correspondente para o im\\u00f3vel) Ap\\u00f3s a Limpeza nos dados\", \"Distribui\\u00e7\\u00e3o da label MEDV (Pre\\u00e7o correspondente para o im\\u00f3vel) Ap\\u00f3s a Limpeza nos dados\", \"Distribui\\u00e7\\u00e3o da label MEDV (Pre\\u00e7o correspondente para o im\\u00f3vel) Ap\\u00f3s a Limpeza nos dados\", \"Distribui\\u00e7\\u00e3o da label MEDV (Pre\\u00e7o correspondente para o im\\u00f3vel) Ap\\u00f3s a Limpeza nos dados\", \"Distribui\\u00e7\\u00e3o da label MEDV (Pre\\u00e7o correspondente para o im\\u00f3vel) Ap\\u00f3s a Limpeza nos dados\", \"Distribui\\u00e7\\u00e3o da label MEDV (Pre\\u00e7o correspondente para o im\\u00f3vel) Ap\\u00f3s a Limpeza nos dados\", \"Distribui\\u00e7\\u00e3o da label MEDV (Pre\\u00e7o correspondente para o im\\u00f3vel) Ap\\u00f3s a Limpeza nos dados\", \"Distribui\\u00e7\\u00e3o da label MEDV (Pre\\u00e7o correspondente para o im\\u00f3vel) Ap\\u00f3s a Limpeza nos dados\", \"Distribui\\u00e7\\u00e3o da label MEDV (Pre\\u00e7o correspondente para o im\\u00f3vel) Ap\\u00f3s a Limpeza nos dados\", \"Distribui\\u00e7\\u00e3o da label MEDV (Pre\\u00e7o correspondente para o im\\u00f3vel) Ap\\u00f3s a Limpeza nos dados\", \"Distribui\\u00e7\\u00e3o da label MEDV (Pre\\u00e7o correspondente para o im\\u00f3vel) Ap\\u00f3s a Limpeza nos dados\", \"Distribui\\u00e7\\u00e3o da label MEDV (Pre\\u00e7o correspondente para o im\\u00f3vel) Ap\\u00f3s a Limpeza nos dados\", \"Distribui\\u00e7\\u00e3o da label MEDV (Pre\\u00e7o correspondente para o im\\u00f3vel) Ap\\u00f3s a Limpeza nos dados\", \"Distribui\\u00e7\\u00e3o da label MEDV (Pre\\u00e7o correspondente para o im\\u00f3vel) Ap\\u00f3s a Limpeza nos dados\", \"Distribui\\u00e7\\u00e3o da label MEDV (Pre\\u00e7o correspondente para o im\\u00f3vel) Ap\\u00f3s a Limpeza nos dados\", \"Distribui\\u00e7\\u00e3o da label MEDV (Pre\\u00e7o correspondente para o im\\u00f3vel) Ap\\u00f3s a Limpeza nos dados\", \"Distribui\\u00e7\\u00e3o da label MEDV (Pre\\u00e7o correspondente para o im\\u00f3vel) Ap\\u00f3s a Limpeza nos dados\", \"Distribui\\u00e7\\u00e3o da label MEDV (Pre\\u00e7o correspondente para o im\\u00f3vel) Ap\\u00f3s a Limpeza nos dados\", \"Distribui\\u00e7\\u00e3o da label MEDV (Pre\\u00e7o correspondente para o im\\u00f3vel) Ap\\u00f3s a Limpeza nos dados\", \"Distribui\\u00e7\\u00e3o da label MEDV (Pre\\u00e7o correspondente para o im\\u00f3vel) Ap\\u00f3s a Limpeza nos dados\", \"Distribui\\u00e7\\u00e3o da label MEDV (Pre\\u00e7o correspondente para o im\\u00f3vel) Ap\\u00f3s a Limpeza nos dados\", \"Distribui\\u00e7\\u00e3o da label MEDV (Pre\\u00e7o correspondente para o im\\u00f3vel) Ap\\u00f3s a Limpeza nos dados\", \"Distribui\\u00e7\\u00e3o da label MEDV (Pre\\u00e7o correspondente para o im\\u00f3vel) Ap\\u00f3s a Limpeza nos dados\", \"Distribui\\u00e7\\u00e3o da label MEDV (Pre\\u00e7o correspondente para o im\\u00f3vel) Ap\\u00f3s a Limpeza nos dados\", \"Distribui\\u00e7\\u00e3o da label MEDV (Pre\\u00e7o correspondente para o im\\u00f3vel) Ap\\u00f3s a Limpeza nos dados\", \"Distribui\\u00e7\\u00e3o da label MEDV (Pre\\u00e7o correspondente para o im\\u00f3vel) Ap\\u00f3s a Limpeza nos dados\", \"Distribui\\u00e7\\u00e3o da label MEDV (Pre\\u00e7o correspondente para o im\\u00f3vel) Ap\\u00f3s a Limpeza nos dados\", \"Distribui\\u00e7\\u00e3o da label MEDV (Pre\\u00e7o correspondente para o im\\u00f3vel) Ap\\u00f3s a Limpeza nos dados\", \"Distribui\\u00e7\\u00e3o da label MEDV (Pre\\u00e7o correspondente para o im\\u00f3vel) Ap\\u00f3s a Limpeza nos dados\", \"Distribui\\u00e7\\u00e3o da label MEDV (Pre\\u00e7o correspondente para o im\\u00f3vel) Ap\\u00f3s a Limpeza nos dados\", \"Distribui\\u00e7\\u00e3o da label MEDV (Pre\\u00e7o correspondente para o im\\u00f3vel) Ap\\u00f3s a Limpeza nos dados\", \"Distribui\\u00e7\\u00e3o da label MEDV (Pre\\u00e7o correspondente para o im\\u00f3vel) Ap\\u00f3s a Limpeza nos dados\", \"Distribui\\u00e7\\u00e3o da label MEDV (Pre\\u00e7o correspondente para o im\\u00f3vel) Ap\\u00f3s a Limpeza nos dados\", \"Distribui\\u00e7\\u00e3o da label MEDV (Pre\\u00e7o correspondente para o im\\u00f3vel) Ap\\u00f3s a Limpeza nos dados\", \"Distribui\\u00e7\\u00e3o da label MEDV (Pre\\u00e7o correspondente para o im\\u00f3vel) Ap\\u00f3s a Limpeza nos dados\", \"Distribui\\u00e7\\u00e3o da label MEDV (Pre\\u00e7o correspondente para o im\\u00f3vel) Ap\\u00f3s a Limpeza nos dados\", \"Distribui\\u00e7\\u00e3o da label MEDV (Pre\\u00e7o correspondente para o im\\u00f3vel) Ap\\u00f3s a Limpeza nos dados\", \"Distribui\\u00e7\\u00e3o da label MEDV (Pre\\u00e7o correspondente para o im\\u00f3vel) Ap\\u00f3s a Limpeza nos dados\", \"Distribui\\u00e7\\u00e3o da label MEDV (Pre\\u00e7o correspondente para o im\\u00f3vel) Ap\\u00f3s a Limpeza nos dados\", \"Distribui\\u00e7\\u00e3o da label MEDV (Pre\\u00e7o correspondente para o im\\u00f3vel) Ap\\u00f3s a Limpeza nos dados\", \"Distribui\\u00e7\\u00e3o da label MEDV (Pre\\u00e7o correspondente para o im\\u00f3vel) Ap\\u00f3s a Limpeza nos dados\", \"Distribui\\u00e7\\u00e3o da label MEDV (Pre\\u00e7o correspondente para o im\\u00f3vel) Ap\\u00f3s a Limpeza nos dados\", \"Distribui\\u00e7\\u00e3o da label MEDV (Pre\\u00e7o correspondente para o im\\u00f3vel) Ap\\u00f3s a Limpeza nos dados\", \"Distribui\\u00e7\\u00e3o da label MEDV (Pre\\u00e7o correspondente para o im\\u00f3vel) Ap\\u00f3s a Limpeza nos dados\", \"Distribui\\u00e7\\u00e3o da label MEDV (Pre\\u00e7o correspondente para o im\\u00f3vel) Ap\\u00f3s a Limpeza nos dados\", \"Distribui\\u00e7\\u00e3o da label MEDV (Pre\\u00e7o correspondente para o im\\u00f3vel) Ap\\u00f3s a Limpeza nos dados\", \"Distribui\\u00e7\\u00e3o da label MEDV (Pre\\u00e7o correspondente para o im\\u00f3vel) Ap\\u00f3s a Limpeza nos dados\", \"Distribui\\u00e7\\u00e3o da label MEDV (Pre\\u00e7o correspondente para o im\\u00f3vel) Ap\\u00f3s a Limpeza nos dados\", \"Distribui\\u00e7\\u00e3o da label MEDV (Pre\\u00e7o correspondente para o im\\u00f3vel) Ap\\u00f3s a Limpeza nos dados\", \"Distribui\\u00e7\\u00e3o da label MEDV (Pre\\u00e7o correspondente para o im\\u00f3vel) Ap\\u00f3s a Limpeza nos dados\", \"Distribui\\u00e7\\u00e3o da label MEDV (Pre\\u00e7o correspondente para o im\\u00f3vel) Ap\\u00f3s a Limpeza nos dados\", \"Distribui\\u00e7\\u00e3o da label MEDV (Pre\\u00e7o correspondente para o im\\u00f3vel) Ap\\u00f3s a Limpeza nos dados\", \"Distribui\\u00e7\\u00e3o da label MEDV (Pre\\u00e7o correspondente para o im\\u00f3vel) Ap\\u00f3s a Limpeza nos dados\", \"Distribui\\u00e7\\u00e3o da label MEDV (Pre\\u00e7o correspondente para o im\\u00f3vel) Ap\\u00f3s a Limpeza nos dados\", \"Distribui\\u00e7\\u00e3o da label MEDV (Pre\\u00e7o correspondente para o im\\u00f3vel) Ap\\u00f3s a Limpeza nos dados\", \"Distribui\\u00e7\\u00e3o da label MEDV (Pre\\u00e7o correspondente para o im\\u00f3vel) Ap\\u00f3s a Limpeza nos dados\", \"Distribui\\u00e7\\u00e3o da label MEDV (Pre\\u00e7o correspondente para o im\\u00f3vel) Ap\\u00f3s a Limpeza nos dados\", \"Distribui\\u00e7\\u00e3o da label MEDV (Pre\\u00e7o correspondente para o im\\u00f3vel) Ap\\u00f3s a Limpeza nos dados\", \"Distribui\\u00e7\\u00e3o da label MEDV (Pre\\u00e7o correspondente para o im\\u00f3vel) Ap\\u00f3s a Limpeza nos dados\", \"Distribui\\u00e7\\u00e3o da label MEDV (Pre\\u00e7o correspondente para o im\\u00f3vel) Ap\\u00f3s a Limpeza nos dados\", \"Distribui\\u00e7\\u00e3o da label MEDV (Pre\\u00e7o correspondente para o im\\u00f3vel) Ap\\u00f3s a Limpeza nos dados\", \"Distribui\\u00e7\\u00e3o da label MEDV (Pre\\u00e7o correspondente para o im\\u00f3vel) Ap\\u00f3s a Limpeza nos dados\", \"Distribui\\u00e7\\u00e3o da label MEDV (Pre\\u00e7o correspondente para o im\\u00f3vel) Ap\\u00f3s a Limpeza nos dados\", \"Distribui\\u00e7\\u00e3o da label MEDV (Pre\\u00e7o correspondente para o im\\u00f3vel) Ap\\u00f3s a Limpeza nos dados\", \"Distribui\\u00e7\\u00e3o da label MEDV (Pre\\u00e7o correspondente para o im\\u00f3vel) Ap\\u00f3s a Limpeza nos dados\", \"Distribui\\u00e7\\u00e3o da label MEDV (Pre\\u00e7o correspondente para o im\\u00f3vel) Ap\\u00f3s a Limpeza nos dados\", \"Distribui\\u00e7\\u00e3o da label MEDV (Pre\\u00e7o correspondente para o im\\u00f3vel) Ap\\u00f3s a Limpeza nos dados\", \"Distribui\\u00e7\\u00e3o da label MEDV (Pre\\u00e7o correspondente para o im\\u00f3vel) Ap\\u00f3s a Limpeza nos dados\", \"Distribui\\u00e7\\u00e3o da label MEDV (Pre\\u00e7o correspondente para o im\\u00f3vel) Ap\\u00f3s a Limpeza nos dados\", \"Distribui\\u00e7\\u00e3o da label MEDV (Pre\\u00e7o correspondente para o im\\u00f3vel) Ap\\u00f3s a Limpeza nos dados\", \"Distribui\\u00e7\\u00e3o da label MEDV (Pre\\u00e7o correspondente para o im\\u00f3vel) Ap\\u00f3s a Limpeza nos dados\", \"Distribui\\u00e7\\u00e3o da label MEDV (Pre\\u00e7o correspondente para o im\\u00f3vel) Ap\\u00f3s a Limpeza nos dados\", \"Distribui\\u00e7\\u00e3o da label MEDV (Pre\\u00e7o correspondente para o im\\u00f3vel) Ap\\u00f3s a Limpeza nos dados\", \"Distribui\\u00e7\\u00e3o da label MEDV (Pre\\u00e7o correspondente para o im\\u00f3vel) Ap\\u00f3s a Limpeza nos dados\", \"Distribui\\u00e7\\u00e3o da label MEDV (Pre\\u00e7o correspondente para o im\\u00f3vel) Ap\\u00f3s a Limpeza nos dados\", \"Distribui\\u00e7\\u00e3o da label MEDV (Pre\\u00e7o correspondente para o im\\u00f3vel) Ap\\u00f3s a Limpeza nos dados\", \"Distribui\\u00e7\\u00e3o da label MEDV (Pre\\u00e7o correspondente para o im\\u00f3vel) Ap\\u00f3s a Limpeza nos dados\", \"Distribui\\u00e7\\u00e3o da label MEDV (Pre\\u00e7o correspondente para o im\\u00f3vel) Ap\\u00f3s a Limpeza nos dados\", \"Distribui\\u00e7\\u00e3o da label MEDV (Pre\\u00e7o correspondente para o im\\u00f3vel) Ap\\u00f3s a Limpeza nos dados\", \"Distribui\\u00e7\\u00e3o da label MEDV (Pre\\u00e7o correspondente para o im\\u00f3vel) Ap\\u00f3s a Limpeza nos dados\", \"Distribui\\u00e7\\u00e3o da label MEDV (Pre\\u00e7o correspondente para o im\\u00f3vel) Ap\\u00f3s a Limpeza nos dados\", \"Distribui\\u00e7\\u00e3o da label MEDV (Pre\\u00e7o correspondente para o im\\u00f3vel) Ap\\u00f3s a Limpeza nos dados\", \"Distribui\\u00e7\\u00e3o da label MEDV (Pre\\u00e7o correspondente para o im\\u00f3vel) Ap\\u00f3s a Limpeza nos dados\", \"Distribui\\u00e7\\u00e3o da label MEDV (Pre\\u00e7o correspondente para o im\\u00f3vel) Ap\\u00f3s a Limpeza nos dados\", \"Distribui\\u00e7\\u00e3o da label MEDV (Pre\\u00e7o correspondente para o im\\u00f3vel) Ap\\u00f3s a Limpeza nos dados\", \"Distribui\\u00e7\\u00e3o da label MEDV (Pre\\u00e7o correspondente para o im\\u00f3vel) Ap\\u00f3s a Limpeza nos dados\", \"Distribui\\u00e7\\u00e3o da label MEDV (Pre\\u00e7o correspondente para o im\\u00f3vel) Ap\\u00f3s a Limpeza nos dados\", \"Distribui\\u00e7\\u00e3o da label MEDV (Pre\\u00e7o correspondente para o im\\u00f3vel) Ap\\u00f3s a Limpeza nos dados\", \"Distribui\\u00e7\\u00e3o da label MEDV (Pre\\u00e7o correspondente para o im\\u00f3vel) Ap\\u00f3s a Limpeza nos dados\", \"Distribui\\u00e7\\u00e3o da label MEDV (Pre\\u00e7o correspondente para o im\\u00f3vel) Ap\\u00f3s a Limpeza nos dados\", \"Distribui\\u00e7\\u00e3o da label MEDV (Pre\\u00e7o correspondente para o im\\u00f3vel) Ap\\u00f3s a Limpeza nos dados\", \"Distribui\\u00e7\\u00e3o da label MEDV (Pre\\u00e7o correspondente para o im\\u00f3vel) Ap\\u00f3s a Limpeza nos dados\", \"Distribui\\u00e7\\u00e3o da label MEDV (Pre\\u00e7o correspondente para o im\\u00f3vel) Ap\\u00f3s a Limpeza nos dados\", \"Distribui\\u00e7\\u00e3o da label MEDV (Pre\\u00e7o correspondente para o im\\u00f3vel) Ap\\u00f3s a Limpeza nos dados\", \"Distribui\\u00e7\\u00e3o da label MEDV (Pre\\u00e7o correspondente para o im\\u00f3vel) Ap\\u00f3s a Limpeza nos dados\", \"Distribui\\u00e7\\u00e3o da label MEDV (Pre\\u00e7o correspondente para o im\\u00f3vel) Ap\\u00f3s a Limpeza nos dados\", \"Distribui\\u00e7\\u00e3o da label MEDV (Pre\\u00e7o correspondente para o im\\u00f3vel) Ap\\u00f3s a Limpeza nos dados\", \"Distribui\\u00e7\\u00e3o da label MEDV (Pre\\u00e7o correspondente para o im\\u00f3vel) Ap\\u00f3s a Limpeza nos dados\", \"Distribui\\u00e7\\u00e3o da label MEDV (Pre\\u00e7o correspondente para o im\\u00f3vel) Ap\\u00f3s a Limpeza nos dados\", \"Distribui\\u00e7\\u00e3o da label MEDV (Pre\\u00e7o correspondente para o im\\u00f3vel) Ap\\u00f3s a Limpeza nos dados\", \"Distribui\\u00e7\\u00e3o da label MEDV (Pre\\u00e7o correspondente para o im\\u00f3vel) Ap\\u00f3s a Limpeza nos dados\", \"Distribui\\u00e7\\u00e3o da label MEDV (Pre\\u00e7o correspondente para o im\\u00f3vel) Ap\\u00f3s a Limpeza nos dados\", \"Distribui\\u00e7\\u00e3o da label MEDV (Pre\\u00e7o correspondente para o im\\u00f3vel) Ap\\u00f3s a Limpeza nos dados\", \"Distribui\\u00e7\\u00e3o da label MEDV (Pre\\u00e7o correspondente para o im\\u00f3vel) Ap\\u00f3s a Limpeza nos dados\", \"Distribui\\u00e7\\u00e3o da label MEDV (Pre\\u00e7o correspondente para o im\\u00f3vel) Ap\\u00f3s a Limpeza nos dados\", \"Distribui\\u00e7\\u00e3o da label MEDV (Pre\\u00e7o correspondente para o im\\u00f3vel) Ap\\u00f3s a Limpeza nos dados\", \"Distribui\\u00e7\\u00e3o da label MEDV (Pre\\u00e7o correspondente para o im\\u00f3vel) Ap\\u00f3s a Limpeza nos dados\", \"Distribui\\u00e7\\u00e3o da label MEDV (Pre\\u00e7o correspondente para o im\\u00f3vel) Ap\\u00f3s a Limpeza nos dados\", \"Distribui\\u00e7\\u00e3o da label MEDV (Pre\\u00e7o correspondente para o im\\u00f3vel) Ap\\u00f3s a Limpeza nos dados\", \"Distribui\\u00e7\\u00e3o da label MEDV (Pre\\u00e7o correspondente para o im\\u00f3vel) Ap\\u00f3s a Limpeza nos dados\", \"Distribui\\u00e7\\u00e3o da label MEDV (Pre\\u00e7o correspondente para o im\\u00f3vel) Ap\\u00f3s a Limpeza nos dados\", \"Distribui\\u00e7\\u00e3o da label MEDV (Pre\\u00e7o correspondente para o im\\u00f3vel) Ap\\u00f3s a Limpeza nos dados\", \"Distribui\\u00e7\\u00e3o da label MEDV (Pre\\u00e7o correspondente para o im\\u00f3vel) Ap\\u00f3s a Limpeza nos dados\", \"Distribui\\u00e7\\u00e3o da label MEDV (Pre\\u00e7o correspondente para o im\\u00f3vel) Ap\\u00f3s a Limpeza nos dados\", \"Distribui\\u00e7\\u00e3o da label MEDV (Pre\\u00e7o correspondente para o im\\u00f3vel) Ap\\u00f3s a Limpeza nos dados\", \"Distribui\\u00e7\\u00e3o da label MEDV (Pre\\u00e7o correspondente para o im\\u00f3vel) Ap\\u00f3s a Limpeza nos dados\", \"Distribui\\u00e7\\u00e3o da label MEDV (Pre\\u00e7o correspondente para o im\\u00f3vel) Ap\\u00f3s a Limpeza nos dados\", \"Distribui\\u00e7\\u00e3o da label MEDV (Pre\\u00e7o correspondente para o im\\u00f3vel) Ap\\u00f3s a Limpeza nos dados\", \"Distribui\\u00e7\\u00e3o da label MEDV (Pre\\u00e7o correspondente para o im\\u00f3vel) Ap\\u00f3s a Limpeza nos dados\", \"Distribui\\u00e7\\u00e3o da label MEDV (Pre\\u00e7o correspondente para o im\\u00f3vel) Ap\\u00f3s a Limpeza nos dados\", \"Distribui\\u00e7\\u00e3o da label MEDV (Pre\\u00e7o correspondente para o im\\u00f3vel) Ap\\u00f3s a Limpeza nos dados\", \"Distribui\\u00e7\\u00e3o da label MEDV (Pre\\u00e7o correspondente para o im\\u00f3vel) Ap\\u00f3s a Limpeza nos dados\", \"Distribui\\u00e7\\u00e3o da label MEDV (Pre\\u00e7o correspondente para o im\\u00f3vel) Ap\\u00f3s a Limpeza nos dados\", \"Distribui\\u00e7\\u00e3o da label MEDV (Pre\\u00e7o correspondente para o im\\u00f3vel) Ap\\u00f3s a Limpeza nos dados\", \"Distribui\\u00e7\\u00e3o da label MEDV (Pre\\u00e7o correspondente para o im\\u00f3vel) Ap\\u00f3s a Limpeza nos dados\", \"Distribui\\u00e7\\u00e3o da label MEDV (Pre\\u00e7o correspondente para o im\\u00f3vel) Ap\\u00f3s a Limpeza nos dados\", \"Distribui\\u00e7\\u00e3o da label MEDV (Pre\\u00e7o correspondente para o im\\u00f3vel) Ap\\u00f3s a Limpeza nos dados\", \"Distribui\\u00e7\\u00e3o da label MEDV (Pre\\u00e7o correspondente para o im\\u00f3vel) Ap\\u00f3s a Limpeza nos dados\", \"Distribui\\u00e7\\u00e3o da label MEDV (Pre\\u00e7o correspondente para o im\\u00f3vel) Ap\\u00f3s a Limpeza nos dados\", \"Distribui\\u00e7\\u00e3o da label MEDV (Pre\\u00e7o correspondente para o im\\u00f3vel) Ap\\u00f3s a Limpeza nos dados\", \"Distribui\\u00e7\\u00e3o da label MEDV (Pre\\u00e7o correspondente para o im\\u00f3vel) Ap\\u00f3s a Limpeza nos dados\", \"Distribui\\u00e7\\u00e3o da label MEDV (Pre\\u00e7o correspondente para o im\\u00f3vel) Ap\\u00f3s a Limpeza nos dados\", \"Distribui\\u00e7\\u00e3o da label MEDV (Pre\\u00e7o correspondente para o im\\u00f3vel) Ap\\u00f3s a Limpeza nos dados\", \"Distribui\\u00e7\\u00e3o da label MEDV (Pre\\u00e7o correspondente para o im\\u00f3vel) Ap\\u00f3s a Limpeza nos dados\", \"Distribui\\u00e7\\u00e3o da label MEDV (Pre\\u00e7o correspondente para o im\\u00f3vel) Ap\\u00f3s a Limpeza nos dados\", \"Distribui\\u00e7\\u00e3o da label MEDV (Pre\\u00e7o correspondente para o im\\u00f3vel) Ap\\u00f3s a Limpeza nos dados\", \"Distribui\\u00e7\\u00e3o da label MEDV (Pre\\u00e7o correspondente para o im\\u00f3vel) Ap\\u00f3s a Limpeza nos dados\", \"Distribui\\u00e7\\u00e3o da label MEDV (Pre\\u00e7o correspondente para o im\\u00f3vel) Ap\\u00f3s a Limpeza nos dados\", \"Distribui\\u00e7\\u00e3o da label MEDV (Pre\\u00e7o correspondente para o im\\u00f3vel) Ap\\u00f3s a Limpeza nos dados\", \"Distribui\\u00e7\\u00e3o da label MEDV (Pre\\u00e7o correspondente para o im\\u00f3vel) Ap\\u00f3s a Limpeza nos dados\", \"Distribui\\u00e7\\u00e3o da label MEDV (Pre\\u00e7o correspondente para o im\\u00f3vel) Ap\\u00f3s a Limpeza nos dados\", \"Distribui\\u00e7\\u00e3o da label MEDV (Pre\\u00e7o correspondente para o im\\u00f3vel) Ap\\u00f3s a Limpeza nos dados\", \"Distribui\\u00e7\\u00e3o da label MEDV (Pre\\u00e7o correspondente para o im\\u00f3vel) Ap\\u00f3s a Limpeza nos dados\", \"Distribui\\u00e7\\u00e3o da label MEDV (Pre\\u00e7o correspondente para o im\\u00f3vel) Ap\\u00f3s a Limpeza nos dados\", \"Distribui\\u00e7\\u00e3o da label MEDV (Pre\\u00e7o correspondente para o im\\u00f3vel) Ap\\u00f3s a Limpeza nos dados\", \"Distribui\\u00e7\\u00e3o da label MEDV (Pre\\u00e7o correspondente para o im\\u00f3vel) Ap\\u00f3s a Limpeza nos dados\", \"Distribui\\u00e7\\u00e3o da label MEDV (Pre\\u00e7o correspondente para o im\\u00f3vel) Ap\\u00f3s a Limpeza nos dados\", \"Distribui\\u00e7\\u00e3o da label MEDV (Pre\\u00e7o correspondente para o im\\u00f3vel) Ap\\u00f3s a Limpeza nos dados\", \"Distribui\\u00e7\\u00e3o da label MEDV (Pre\\u00e7o correspondente para o im\\u00f3vel) Ap\\u00f3s a Limpeza nos dados\", \"Distribui\\u00e7\\u00e3o da label MEDV (Pre\\u00e7o correspondente para o im\\u00f3vel) Ap\\u00f3s a Limpeza nos dados\", \"Distribui\\u00e7\\u00e3o da label MEDV (Pre\\u00e7o correspondente para o im\\u00f3vel) Ap\\u00f3s a Limpeza nos dados\", \"Distribui\\u00e7\\u00e3o da label MEDV (Pre\\u00e7o correspondente para o im\\u00f3vel) Ap\\u00f3s a Limpeza nos dados\", \"Distribui\\u00e7\\u00e3o da label MEDV (Pre\\u00e7o correspondente para o im\\u00f3vel) Ap\\u00f3s a Limpeza nos dados\", \"Distribui\\u00e7\\u00e3o da label MEDV (Pre\\u00e7o correspondente para o im\\u00f3vel) Ap\\u00f3s a Limpeza nos dados\", \"Distribui\\u00e7\\u00e3o da label MEDV (Pre\\u00e7o correspondente para o im\\u00f3vel) Ap\\u00f3s a Limpeza nos dados\", \"Distribui\\u00e7\\u00e3o da label MEDV (Pre\\u00e7o correspondente para o im\\u00f3vel) Ap\\u00f3s a Limpeza nos dados\", \"Distribui\\u00e7\\u00e3o da label MEDV (Pre\\u00e7o correspondente para o im\\u00f3vel) Ap\\u00f3s a Limpeza nos dados\", \"Distribui\\u00e7\\u00e3o da label MEDV (Pre\\u00e7o correspondente para o im\\u00f3vel) Ap\\u00f3s a Limpeza nos dados\", \"Distribui\\u00e7\\u00e3o da label MEDV (Pre\\u00e7o correspondente para o im\\u00f3vel) Ap\\u00f3s a Limpeza nos dados\", \"Distribui\\u00e7\\u00e3o da label MEDV (Pre\\u00e7o correspondente para o im\\u00f3vel) Ap\\u00f3s a Limpeza nos dados\", \"Distribui\\u00e7\\u00e3o da label MEDV (Pre\\u00e7o correspondente para o im\\u00f3vel) Ap\\u00f3s a Limpeza nos dados\", \"Distribui\\u00e7\\u00e3o da label MEDV (Pre\\u00e7o correspondente para o im\\u00f3vel) Ap\\u00f3s a Limpeza nos dados\", \"Distribui\\u00e7\\u00e3o da label MEDV (Pre\\u00e7o correspondente para o im\\u00f3vel) Ap\\u00f3s a Limpeza nos dados\", \"Distribui\\u00e7\\u00e3o da label MEDV (Pre\\u00e7o correspondente para o im\\u00f3vel) Ap\\u00f3s a Limpeza nos dados\", \"Distribui\\u00e7\\u00e3o da label MEDV (Pre\\u00e7o correspondente para o im\\u00f3vel) Ap\\u00f3s a Limpeza nos dados\", \"Distribui\\u00e7\\u00e3o da label MEDV (Pre\\u00e7o correspondente para o im\\u00f3vel) Ap\\u00f3s a Limpeza nos dados\", \"Distribui\\u00e7\\u00e3o da label MEDV (Pre\\u00e7o correspondente para o im\\u00f3vel) Ap\\u00f3s a Limpeza nos dados\", \"Distribui\\u00e7\\u00e3o da label MEDV (Pre\\u00e7o correspondente para o im\\u00f3vel) Ap\\u00f3s a Limpeza nos dados\", \"Distribui\\u00e7\\u00e3o da label MEDV (Pre\\u00e7o correspondente para o im\\u00f3vel) Ap\\u00f3s a Limpeza nos dados\", \"Distribui\\u00e7\\u00e3o da label MEDV (Pre\\u00e7o correspondente para o im\\u00f3vel) Ap\\u00f3s a Limpeza nos dados\", \"Distribui\\u00e7\\u00e3o da label MEDV (Pre\\u00e7o correspondente para o im\\u00f3vel) Ap\\u00f3s a Limpeza nos dados\", \"Distribui\\u00e7\\u00e3o da label MEDV (Pre\\u00e7o correspondente para o im\\u00f3vel) Ap\\u00f3s a Limpeza nos dados\", \"Distribui\\u00e7\\u00e3o da label MEDV (Pre\\u00e7o correspondente para o im\\u00f3vel) Ap\\u00f3s a Limpeza nos dados\", \"Distribui\\u00e7\\u00e3o da label MEDV (Pre\\u00e7o correspondente para o im\\u00f3vel) Ap\\u00f3s a Limpeza nos dados\", \"Distribui\\u00e7\\u00e3o da label MEDV (Pre\\u00e7o correspondente para o im\\u00f3vel) Ap\\u00f3s a Limpeza nos dados\", \"Distribui\\u00e7\\u00e3o da label MEDV (Pre\\u00e7o correspondente para o im\\u00f3vel) Ap\\u00f3s a Limpeza nos dados\", \"Distribui\\u00e7\\u00e3o da label MEDV (Pre\\u00e7o correspondente para o im\\u00f3vel) Ap\\u00f3s a Limpeza nos dados\", \"Distribui\\u00e7\\u00e3o da label MEDV (Pre\\u00e7o correspondente para o im\\u00f3vel) Ap\\u00f3s a Limpeza nos dados\", \"Distribui\\u00e7\\u00e3o da label MEDV (Pre\\u00e7o correspondente para o im\\u00f3vel) Ap\\u00f3s a Limpeza nos dados\", \"Distribui\\u00e7\\u00e3o da label MEDV (Pre\\u00e7o correspondente para o im\\u00f3vel) Ap\\u00f3s a Limpeza nos dados\", \"Distribui\\u00e7\\u00e3o da label MEDV (Pre\\u00e7o correspondente para o im\\u00f3vel) Ap\\u00f3s a Limpeza nos dados\", \"Distribui\\u00e7\\u00e3o da label MEDV (Pre\\u00e7o correspondente para o im\\u00f3vel) Ap\\u00f3s a Limpeza nos dados\", \"Distribui\\u00e7\\u00e3o da label MEDV (Pre\\u00e7o correspondente para o im\\u00f3vel) Ap\\u00f3s a Limpeza nos dados\"], \"yaxis\": \"y2\"}],\n",
              "                        {\"barmode\": \"overlay\", \"hovermode\": \"closest\", \"legend\": {\"traceorder\": \"reversed\"}, \"template\": {\"data\": {\"bar\": [{\"error_x\": {\"color\": \"#2a3f5f\"}, \"error_y\": {\"color\": \"#2a3f5f\"}, \"marker\": {\"line\": {\"color\": \"#E5ECF6\", \"width\": 0.5}}, \"type\": \"bar\"}], \"barpolar\": [{\"marker\": {\"line\": {\"color\": \"#E5ECF6\", \"width\": 0.5}}, \"type\": \"barpolar\"}], \"carpet\": [{\"aaxis\": {\"endlinecolor\": \"#2a3f5f\", \"gridcolor\": \"white\", \"linecolor\": \"white\", \"minorgridcolor\": \"white\", \"startlinecolor\": \"#2a3f5f\"}, \"baxis\": {\"endlinecolor\": \"#2a3f5f\", \"gridcolor\": \"white\", \"linecolor\": \"white\", \"minorgridcolor\": \"white\", \"startlinecolor\": \"#2a3f5f\"}, \"type\": \"carpet\"}], \"choropleth\": [{\"colorbar\": {\"outlinewidth\": 0, \"ticks\": \"\"}, \"type\": \"choropleth\"}], \"contour\": [{\"colorbar\": {\"outlinewidth\": 0, \"ticks\": \"\"}, \"colorscale\": [[0.0, \"#0d0887\"], [0.1111111111111111, \"#46039f\"], [0.2222222222222222, \"#7201a8\"], [0.3333333333333333, \"#9c179e\"], [0.4444444444444444, \"#bd3786\"], [0.5555555555555556, \"#d8576b\"], [0.6666666666666666, \"#ed7953\"], [0.7777777777777778, \"#fb9f3a\"], [0.8888888888888888, \"#fdca26\"], [1.0, \"#f0f921\"]], \"type\": \"contour\"}], \"contourcarpet\": [{\"colorbar\": {\"outlinewidth\": 0, \"ticks\": \"\"}, \"type\": \"contourcarpet\"}], \"heatmap\": [{\"colorbar\": {\"outlinewidth\": 0, \"ticks\": \"\"}, \"colorscale\": [[0.0, \"#0d0887\"], [0.1111111111111111, \"#46039f\"], [0.2222222222222222, \"#7201a8\"], [0.3333333333333333, \"#9c179e\"], [0.4444444444444444, \"#bd3786\"], [0.5555555555555556, \"#d8576b\"], [0.6666666666666666, \"#ed7953\"], [0.7777777777777778, \"#fb9f3a\"], [0.8888888888888888, \"#fdca26\"], [1.0, \"#f0f921\"]], \"type\": \"heatmap\"}], \"heatmapgl\": [{\"colorbar\": {\"outlinewidth\": 0, \"ticks\": \"\"}, \"colorscale\": [[0.0, \"#0d0887\"], [0.1111111111111111, \"#46039f\"], [0.2222222222222222, \"#7201a8\"], [0.3333333333333333, \"#9c179e\"], [0.4444444444444444, \"#bd3786\"], [0.5555555555555556, \"#d8576b\"], [0.6666666666666666, \"#ed7953\"], [0.7777777777777778, \"#fb9f3a\"], [0.8888888888888888, \"#fdca26\"], [1.0, \"#f0f921\"]], \"type\": \"heatmapgl\"}], \"histogram\": [{\"marker\": {\"colorbar\": {\"outlinewidth\": 0, \"ticks\": \"\"}}, \"type\": \"histogram\"}], \"histogram2d\": [{\"colorbar\": {\"outlinewidth\": 0, \"ticks\": \"\"}, \"colorscale\": [[0.0, \"#0d0887\"], [0.1111111111111111, \"#46039f\"], [0.2222222222222222, \"#7201a8\"], [0.3333333333333333, \"#9c179e\"], [0.4444444444444444, \"#bd3786\"], [0.5555555555555556, \"#d8576b\"], [0.6666666666666666, \"#ed7953\"], [0.7777777777777778, \"#fb9f3a\"], [0.8888888888888888, \"#fdca26\"], [1.0, \"#f0f921\"]], \"type\": \"histogram2d\"}], \"histogram2dcontour\": [{\"colorbar\": {\"outlinewidth\": 0, \"ticks\": \"\"}, \"colorscale\": [[0.0, \"#0d0887\"], [0.1111111111111111, \"#46039f\"], [0.2222222222222222, \"#7201a8\"], [0.3333333333333333, \"#9c179e\"], [0.4444444444444444, \"#bd3786\"], [0.5555555555555556, \"#d8576b\"], [0.6666666666666666, \"#ed7953\"], [0.7777777777777778, \"#fb9f3a\"], [0.8888888888888888, \"#fdca26\"], [1.0, \"#f0f921\"]], \"type\": \"histogram2dcontour\"}], \"mesh3d\": [{\"colorbar\": {\"outlinewidth\": 0, \"ticks\": \"\"}, \"type\": \"mesh3d\"}], \"parcoords\": [{\"line\": {\"colorbar\": {\"outlinewidth\": 0, \"ticks\": \"\"}}, \"type\": \"parcoords\"}], \"pie\": [{\"automargin\": true, \"type\": \"pie\"}], \"scatter\": [{\"marker\": {\"colorbar\": {\"outlinewidth\": 0, \"ticks\": \"\"}}, \"type\": \"scatter\"}], \"scatter3d\": [{\"line\": {\"colorbar\": {\"outlinewidth\": 0, \"ticks\": \"\"}}, \"marker\": {\"colorbar\": {\"outlinewidth\": 0, \"ticks\": \"\"}}, \"type\": \"scatter3d\"}], \"scattercarpet\": [{\"marker\": {\"colorbar\": {\"outlinewidth\": 0, \"ticks\": \"\"}}, \"type\": \"scattercarpet\"}], \"scattergeo\": [{\"marker\": {\"colorbar\": {\"outlinewidth\": 0, \"ticks\": \"\"}}, \"type\": \"scattergeo\"}], \"scattergl\": [{\"marker\": {\"colorbar\": {\"outlinewidth\": 0, \"ticks\": \"\"}}, \"type\": \"scattergl\"}], \"scattermapbox\": [{\"marker\": {\"colorbar\": {\"outlinewidth\": 0, \"ticks\": \"\"}}, \"type\": \"scattermapbox\"}], \"scatterpolar\": [{\"marker\": {\"colorbar\": {\"outlinewidth\": 0, \"ticks\": \"\"}}, \"type\": \"scatterpolar\"}], \"scatterpolargl\": [{\"marker\": {\"colorbar\": {\"outlinewidth\": 0, \"ticks\": \"\"}}, \"type\": \"scatterpolargl\"}], \"scatterternary\": [{\"marker\": {\"colorbar\": {\"outlinewidth\": 0, \"ticks\": \"\"}}, \"type\": \"scatterternary\"}], \"surface\": [{\"colorbar\": {\"outlinewidth\": 0, \"ticks\": \"\"}, \"colorscale\": [[0.0, \"#0d0887\"], [0.1111111111111111, \"#46039f\"], [0.2222222222222222, \"#7201a8\"], [0.3333333333333333, \"#9c179e\"], [0.4444444444444444, \"#bd3786\"], [0.5555555555555556, \"#d8576b\"], [0.6666666666666666, \"#ed7953\"], [0.7777777777777778, \"#fb9f3a\"], [0.8888888888888888, \"#fdca26\"], [1.0, \"#f0f921\"]], \"type\": \"surface\"}], \"table\": [{\"cells\": {\"fill\": {\"color\": \"#EBF0F8\"}, \"line\": {\"color\": \"white\"}}, \"header\": {\"fill\": {\"color\": \"#C8D4E3\"}, \"line\": {\"color\": \"white\"}}, \"type\": \"table\"}]}, \"layout\": {\"annotationdefaults\": {\"arrowcolor\": \"#2a3f5f\", \"arrowhead\": 0, \"arrowwidth\": 1}, \"coloraxis\": {\"colorbar\": {\"outlinewidth\": 0, \"ticks\": \"\"}}, \"colorscale\": {\"diverging\": [[0, \"#8e0152\"], [0.1, \"#c51b7d\"], [0.2, \"#de77ae\"], [0.3, \"#f1b6da\"], [0.4, \"#fde0ef\"], [0.5, \"#f7f7f7\"], [0.6, \"#e6f5d0\"], [0.7, \"#b8e186\"], [0.8, \"#7fbc41\"], [0.9, \"#4d9221\"], [1, \"#276419\"]], \"sequential\": [[0.0, \"#0d0887\"], [0.1111111111111111, \"#46039f\"], [0.2222222222222222, \"#7201a8\"], [0.3333333333333333, \"#9c179e\"], [0.4444444444444444, \"#bd3786\"], [0.5555555555555556, \"#d8576b\"], [0.6666666666666666, \"#ed7953\"], [0.7777777777777778, \"#fb9f3a\"], [0.8888888888888888, \"#fdca26\"], [1.0, \"#f0f921\"]], \"sequentialminus\": [[0.0, \"#0d0887\"], [0.1111111111111111, \"#46039f\"], [0.2222222222222222, \"#7201a8\"], [0.3333333333333333, \"#9c179e\"], [0.4444444444444444, \"#bd3786\"], [0.5555555555555556, \"#d8576b\"], [0.6666666666666666, \"#ed7953\"], [0.7777777777777778, \"#fb9f3a\"], [0.8888888888888888, \"#fdca26\"], [1.0, \"#f0f921\"]]}, \"colorway\": [\"#636efa\", \"#EF553B\", \"#00cc96\", \"#ab63fa\", \"#FFA15A\", \"#19d3f3\", \"#FF6692\", \"#B6E880\", \"#FF97FF\", \"#FECB52\"], \"font\": {\"color\": \"#2a3f5f\"}, \"geo\": {\"bgcolor\": \"white\", \"lakecolor\": \"white\", \"landcolor\": \"#E5ECF6\", \"showlakes\": true, \"showland\": true, \"subunitcolor\": \"white\"}, \"hoverlabel\": {\"align\": \"left\"}, \"hovermode\": \"closest\", \"mapbox\": {\"style\": \"light\"}, \"paper_bgcolor\": \"white\", \"plot_bgcolor\": \"#E5ECF6\", \"polar\": {\"angularaxis\": {\"gridcolor\": \"white\", \"linecolor\": \"white\", \"ticks\": \"\"}, \"bgcolor\": \"#E5ECF6\", \"radialaxis\": {\"gridcolor\": \"white\", \"linecolor\": \"white\", \"ticks\": \"\"}}, \"scene\": {\"xaxis\": {\"backgroundcolor\": \"#E5ECF6\", \"gridcolor\": \"white\", \"gridwidth\": 2, \"linecolor\": \"white\", \"showbackground\": true, \"ticks\": \"\", \"zerolinecolor\": \"white\"}, \"yaxis\": {\"backgroundcolor\": \"#E5ECF6\", \"gridcolor\": \"white\", \"gridwidth\": 2, \"linecolor\": \"white\", \"showbackground\": true, \"ticks\": \"\", \"zerolinecolor\": \"white\"}, \"zaxis\": {\"backgroundcolor\": \"#E5ECF6\", \"gridcolor\": \"white\", \"gridwidth\": 2, \"linecolor\": \"white\", \"showbackground\": true, \"ticks\": \"\", \"zerolinecolor\": \"white\"}}, \"shapedefaults\": {\"line\": {\"color\": \"#2a3f5f\"}}, \"ternary\": {\"aaxis\": {\"gridcolor\": \"white\", \"linecolor\": \"white\", \"ticks\": \"\"}, \"baxis\": {\"gridcolor\": \"white\", \"linecolor\": \"white\", \"ticks\": \"\"}, \"bgcolor\": \"#E5ECF6\", \"caxis\": {\"gridcolor\": \"white\", \"linecolor\": \"white\", \"ticks\": \"\"}}, \"title\": {\"x\": 0.05}, \"xaxis\": {\"automargin\": true, \"gridcolor\": \"white\", \"linecolor\": \"white\", \"ticks\": \"\", \"title\": {\"standoff\": 15}, \"zerolinecolor\": \"white\", \"zerolinewidth\": 2}, \"yaxis\": {\"automargin\": true, \"gridcolor\": \"white\", \"linecolor\": \"white\", \"ticks\": \"\", \"title\": {\"standoff\": 15}, \"zerolinecolor\": \"white\", \"zerolinewidth\": 2}}}, \"xaxis\": {\"anchor\": \"y2\", \"domain\": [0.0, 1.0], \"zeroline\": false}, \"yaxis\": {\"anchor\": \"free\", \"domain\": [0.35, 1], \"position\": 0.0}, \"yaxis2\": {\"anchor\": \"x\", \"domain\": [0, 0.25], \"dtick\": 1, \"showticklabels\": false}},\n",
              "                        {\"responsive\": true}\n",
              "                    ).then(function(){\n",
              "                            \n",
              "var gd = document.getElementById('67d6f83d-7e83-4d90-9936-f62c303760da');\n",
              "var x = new MutationObserver(function (mutations, observer) {{\n",
              "        var display = window.getComputedStyle(gd).display;\n",
              "        if (!display || display === 'none') {{\n",
              "            console.log([gd, 'removed!']);\n",
              "            Plotly.purge(gd);\n",
              "            observer.disconnect();\n",
              "        }}\n",
              "}});\n",
              "\n",
              "// Listen for the removal of the full notebook cells\n",
              "var notebookContainer = gd.closest('#notebook-container');\n",
              "if (notebookContainer) {{\n",
              "    x.observe(notebookContainer, {childList: true});\n",
              "}}\n",
              "\n",
              "// Listen for the clearing of the current output cell\n",
              "var outputEl = gd.closest('.output');\n",
              "if (outputEl) {{\n",
              "    x.observe(outputEl, {childList: true});\n",
              "}}\n",
              "\n",
              "                        })\n",
              "                };\n",
              "                \n",
              "            </script>\n",
              "        </div>\n",
              "</body>\n",
              "</html>"
            ]
          },
          "metadata": {
            "tags": []
          }
        }
      ]
    },
    {
      "cell_type": "code",
      "metadata": {
        "id": "xYNu2p-8XwZr",
        "colab_type": "code",
        "outputId": "522b6c28-5a77-4eb4-94b5-66be69c788fd",
        "colab": {
          "base_uri": "https://localhost:8080/",
          "height": 542
        }
      },
      "source": [
        "fig = px.histogram(dados, x=\"MEDV\", nbins=50, opacity=0.50)\n",
        "fig.show()"
      ],
      "execution_count": 0,
      "outputs": [
        {
          "output_type": "display_data",
          "data": {
            "text/html": [
              "<html>\n",
              "<head><meta charset=\"utf-8\" /></head>\n",
              "<body>\n",
              "    <div>\n",
              "            <script src=\"https://cdnjs.cloudflare.com/ajax/libs/mathjax/2.7.5/MathJax.js?config=TeX-AMS-MML_SVG\"></script><script type=\"text/javascript\">if (window.MathJax) {MathJax.Hub.Config({SVG: {font: \"STIX-Web\"}});}</script>\n",
              "                <script type=\"text/javascript\">window.PlotlyConfig = {MathJaxConfig: 'local'};</script>\n",
              "        <script src=\"https://cdn.plot.ly/plotly-latest.min.js\"></script>    \n",
              "            <div id=\"657c65b2-07e3-4a12-99b9-8eac1ef23408\" class=\"plotly-graph-div\" style=\"height:525px; width:100%;\"></div>\n",
              "            <script type=\"text/javascript\">\n",
              "                \n",
              "                    window.PLOTLYENV=window.PLOTLYENV || {};\n",
              "                    \n",
              "                if (document.getElementById(\"657c65b2-07e3-4a12-99b9-8eac1ef23408\")) {\n",
              "                    Plotly.newPlot(\n",
              "                        '657c65b2-07e3-4a12-99b9-8eac1ef23408',\n",
              "                        [{\"alignmentgroup\": \"True\", \"bingroup\": \"x\", \"hoverlabel\": {\"namelength\": 0}, \"hovertemplate\": \"MEDV=%{x}<br>count=%{y}\", \"legendgroup\": \"\", \"marker\": {\"color\": \"#636efa\", \"opacity\": 0.5}, \"name\": \"\", \"nbinsx\": 50, \"offsetgroup\": \"\", \"orientation\": \"v\", \"showlegend\": false, \"type\": \"histogram\", \"x\": [24.0, 21.6, 34.7, 33.4, 36.2, 28.7, 22.9, 27.1, 16.5, 18.9, 15.0, 18.9, 21.7, 20.4, 18.2, 19.9, 23.1, 17.5, 20.2, 18.2, 13.6, 19.6, 15.2, 14.5, 15.6, 13.9, 16.6, 14.8, 18.4, 21.0, 12.7, 14.5, 13.2, 13.1, 13.5, 18.9, 20.0, 21.0, 24.7, 30.8, 34.9, 26.6, 25.3, 24.7, 21.2, 19.3, 20.0, 16.6, 14.4, 19.4, 19.7, 20.5, 25.0, 23.4, 18.9, 35.4, 24.7, 31.6, 23.3, 19.6, 18.7, 16.0, 22.2, 25.0, 33.0, 23.5, 19.4, 22.0, 17.4, 20.9, 24.2, 21.7, 22.8, 23.4, 24.1, 21.4, 20.0, 20.8, 21.2, 20.3, 28.0, 23.9, 24.8, 22.9, 23.9, 26.6, 22.5, 22.2, 23.6, 28.7, 22.6, 22.0, 22.9, 25.0, 20.6, 28.4, 21.4, 38.7, 43.8, 33.2, 27.5, 26.5, 18.6, 19.3, 20.1, 19.5, 19.5, 20.4, 19.8, 19.4, 21.7, 22.8, 18.8, 18.7, 18.5, 18.3, 21.2, 19.2, 20.4, 19.3, 22.0, 20.3, 20.5, 17.3, 18.8, 21.4, 15.7, 16.2, 18.0, 14.3, 19.2, 19.6, 23.0, 18.4, 15.6, 18.1, 17.4, 17.1, 13.3, 17.8, 14.0, 14.4, 13.4, 15.6, 11.8, 13.8, 15.6, 14.6, 17.8, 15.4, 21.5, 19.6, 15.3, 19.4, 17.0, 15.6, 13.1, 41.3, 24.3, 23.3, 27.0, 50.0, 50.0, 50.0, 22.7, 25.0, 50.0, 23.8, 23.8, 22.3, 17.4, 19.1, 23.1, 23.6, 22.6, 29.4, 23.2, 24.6, 29.9, 37.2, 39.8, 36.2, 37.9, 32.5, 26.4, 29.6, 50.0, 32.0, 29.8, 34.9, 37.0, 30.5, 36.4, 31.1, 29.1, 50.0, 33.3, 30.3, 34.6, 34.9, 32.9, 24.1, 42.3, 48.5, 50.0, 22.6, 24.4, 22.5, 24.4, 20.0, 21.7, 19.3, 22.4, 28.1, 23.7, 25.0, 23.3, 28.7, 21.5, 23.0, 26.7, 21.7, 27.5, 30.1, 44.8, 50.0, 37.6, 31.6, 46.7, 31.5, 24.3, 31.7, 41.7, 48.3, 29.0, 24.0, 25.1, 31.5, 23.7, 23.3, 22.0, 20.1, 22.2, 23.7, 17.6, 18.5, 24.3, 20.5, 24.5, 26.2, 24.4, 24.8, 29.6, 42.8, 21.9, 20.9, 44.0, 50.0, 36.0, 30.1, 33.8, 43.1, 48.8, 31.0, 36.5, 22.8, 30.7, 50.0, 43.5, 20.7, 21.1, 25.2, 24.4, 35.2, 32.4, 32.0, 33.2, 33.1, 29.1, 35.1, 45.4, 35.4, 46.0, 50.0, 32.2, 22.0, 20.1, 23.2, 22.3, 24.8, 28.5, 37.3, 27.9, 23.9, 21.7, 28.6, 27.1, 20.3, 22.5, 29.0, 24.8, 22.0, 26.4, 33.1, 36.1, 28.4, 33.4, 28.2, 22.8, 20.3, 16.1, 22.1, 19.4, 21.6, 23.8, 16.2, 17.8, 19.8, 23.1, 21.0, 23.8, 23.1, 20.4, 18.5, 25.0, 24.6, 23.0, 22.2, 19.3, 22.6, 19.8, 17.1, 19.4, 22.2, 20.7, 21.1, 19.5, 18.5, 20.6, 19.0, 18.7, 32.7, 16.5, 23.9, 31.2, 17.5, 17.2, 23.1, 24.5, 26.6, 22.9, 24.1, 18.6, 30.1, 18.2, 20.6, 17.8, 21.7, 22.7, 22.6, 25.0, 19.9, 20.8, 16.8, 21.9, 27.5, 21.9, 23.1, 50.0, 50.0, 50.0, 50.0, 50.0, 13.8, 13.8, 15.0, 13.9, 13.3, 13.1, 10.2, 10.4, 10.9, 11.3, 12.3, 8.8, 7.2, 10.5, 7.4, 10.2, 11.5, 15.1, 23.2, 9.7, 13.8, 12.7, 13.1, 12.5, 8.5, 5.0, 6.3, 5.6, 7.2, 12.1, 8.3, 8.5, 5.0, 11.9, 27.9, 17.2, 27.5, 15.0, 17.2, 17.9, 16.3, 7.0, 7.2, 7.5, 10.4, 8.8, 8.4, 16.7, 14.2, 20.8, 13.4, 11.7, 8.3, 10.2, 10.9, 11.0, 9.5, 14.5, 14.1, 16.1, 14.3, 11.7, 13.4, 9.6, 8.7, 8.4, 12.8, 10.5, 17.1, 18.4, 15.4, 10.8, 11.8, 14.9, 12.6, 14.1, 13.0, 13.4, 15.2, 16.1, 17.8, 14.9, 14.1, 12.7, 13.5, 14.9, 20.0, 16.4, 17.7, 19.5, 20.2, 21.4, 19.9, 19.0, 19.1, 19.1, 20.1, 19.9, 19.6, 23.2, 29.8, 13.8, 13.3, 16.7, 12.0, 14.6, 21.4, 23.0, 23.7, 25.0, 21.8, 20.6, 21.2, 19.1, 20.6, 15.2, 7.0, 8.1, 13.6, 20.1, 21.8, 24.5, 23.1, 19.7, 18.3, 21.2, 17.5, 16.8, 22.4, 20.6, 23.9, 22.0, 11.9], \"xaxis\": \"x\", \"yaxis\": \"y\"}],\n",
              "                        {\"barmode\": \"relative\", \"legend\": {\"tracegroupgap\": 0}, \"margin\": {\"t\": 60}, \"template\": {\"data\": {\"bar\": [{\"error_x\": {\"color\": \"#2a3f5f\"}, \"error_y\": {\"color\": \"#2a3f5f\"}, \"marker\": {\"line\": {\"color\": \"#E5ECF6\", \"width\": 0.5}}, \"type\": \"bar\"}], \"barpolar\": [{\"marker\": {\"line\": {\"color\": \"#E5ECF6\", \"width\": 0.5}}, \"type\": \"barpolar\"}], \"carpet\": [{\"aaxis\": {\"endlinecolor\": \"#2a3f5f\", \"gridcolor\": \"white\", \"linecolor\": \"white\", \"minorgridcolor\": \"white\", \"startlinecolor\": \"#2a3f5f\"}, \"baxis\": {\"endlinecolor\": \"#2a3f5f\", \"gridcolor\": \"white\", \"linecolor\": \"white\", \"minorgridcolor\": \"white\", \"startlinecolor\": \"#2a3f5f\"}, \"type\": \"carpet\"}], \"choropleth\": [{\"colorbar\": {\"outlinewidth\": 0, \"ticks\": \"\"}, \"type\": \"choropleth\"}], \"contour\": [{\"colorbar\": {\"outlinewidth\": 0, \"ticks\": \"\"}, \"colorscale\": [[0.0, \"#0d0887\"], [0.1111111111111111, \"#46039f\"], [0.2222222222222222, \"#7201a8\"], [0.3333333333333333, \"#9c179e\"], [0.4444444444444444, \"#bd3786\"], [0.5555555555555556, \"#d8576b\"], [0.6666666666666666, \"#ed7953\"], [0.7777777777777778, \"#fb9f3a\"], [0.8888888888888888, \"#fdca26\"], [1.0, \"#f0f921\"]], \"type\": \"contour\"}], \"contourcarpet\": [{\"colorbar\": {\"outlinewidth\": 0, \"ticks\": \"\"}, \"type\": \"contourcarpet\"}], \"heatmap\": [{\"colorbar\": {\"outlinewidth\": 0, \"ticks\": \"\"}, \"colorscale\": [[0.0, \"#0d0887\"], [0.1111111111111111, \"#46039f\"], [0.2222222222222222, \"#7201a8\"], [0.3333333333333333, \"#9c179e\"], [0.4444444444444444, \"#bd3786\"], [0.5555555555555556, \"#d8576b\"], [0.6666666666666666, \"#ed7953\"], [0.7777777777777778, \"#fb9f3a\"], [0.8888888888888888, \"#fdca26\"], [1.0, \"#f0f921\"]], \"type\": \"heatmap\"}], \"heatmapgl\": [{\"colorbar\": {\"outlinewidth\": 0, \"ticks\": \"\"}, \"colorscale\": [[0.0, \"#0d0887\"], [0.1111111111111111, \"#46039f\"], [0.2222222222222222, \"#7201a8\"], [0.3333333333333333, \"#9c179e\"], [0.4444444444444444, \"#bd3786\"], [0.5555555555555556, \"#d8576b\"], [0.6666666666666666, \"#ed7953\"], [0.7777777777777778, \"#fb9f3a\"], [0.8888888888888888, \"#fdca26\"], [1.0, \"#f0f921\"]], \"type\": \"heatmapgl\"}], \"histogram\": [{\"marker\": {\"colorbar\": {\"outlinewidth\": 0, \"ticks\": \"\"}}, \"type\": \"histogram\"}], \"histogram2d\": [{\"colorbar\": {\"outlinewidth\": 0, \"ticks\": \"\"}, \"colorscale\": [[0.0, \"#0d0887\"], [0.1111111111111111, \"#46039f\"], [0.2222222222222222, \"#7201a8\"], [0.3333333333333333, \"#9c179e\"], [0.4444444444444444, \"#bd3786\"], [0.5555555555555556, \"#d8576b\"], [0.6666666666666666, \"#ed7953\"], [0.7777777777777778, \"#fb9f3a\"], [0.8888888888888888, \"#fdca26\"], [1.0, \"#f0f921\"]], \"type\": \"histogram2d\"}], \"histogram2dcontour\": [{\"colorbar\": {\"outlinewidth\": 0, \"ticks\": \"\"}, \"colorscale\": [[0.0, \"#0d0887\"], [0.1111111111111111, \"#46039f\"], [0.2222222222222222, \"#7201a8\"], [0.3333333333333333, \"#9c179e\"], [0.4444444444444444, \"#bd3786\"], [0.5555555555555556, \"#d8576b\"], [0.6666666666666666, \"#ed7953\"], [0.7777777777777778, \"#fb9f3a\"], [0.8888888888888888, \"#fdca26\"], [1.0, \"#f0f921\"]], \"type\": \"histogram2dcontour\"}], \"mesh3d\": [{\"colorbar\": {\"outlinewidth\": 0, \"ticks\": \"\"}, \"type\": \"mesh3d\"}], \"parcoords\": [{\"line\": {\"colorbar\": {\"outlinewidth\": 0, \"ticks\": \"\"}}, \"type\": \"parcoords\"}], \"pie\": [{\"automargin\": true, \"type\": \"pie\"}], \"scatter\": [{\"marker\": {\"colorbar\": {\"outlinewidth\": 0, \"ticks\": \"\"}}, \"type\": \"scatter\"}], \"scatter3d\": [{\"line\": {\"colorbar\": {\"outlinewidth\": 0, \"ticks\": \"\"}}, \"marker\": {\"colorbar\": {\"outlinewidth\": 0, \"ticks\": \"\"}}, \"type\": \"scatter3d\"}], \"scattercarpet\": [{\"marker\": {\"colorbar\": {\"outlinewidth\": 0, \"ticks\": \"\"}}, \"type\": \"scattercarpet\"}], \"scattergeo\": [{\"marker\": {\"colorbar\": {\"outlinewidth\": 0, \"ticks\": \"\"}}, \"type\": \"scattergeo\"}], \"scattergl\": [{\"marker\": {\"colorbar\": {\"outlinewidth\": 0, \"ticks\": \"\"}}, \"type\": \"scattergl\"}], \"scattermapbox\": [{\"marker\": {\"colorbar\": {\"outlinewidth\": 0, \"ticks\": \"\"}}, \"type\": \"scattermapbox\"}], \"scatterpolar\": [{\"marker\": {\"colorbar\": {\"outlinewidth\": 0, \"ticks\": \"\"}}, \"type\": \"scatterpolar\"}], \"scatterpolargl\": [{\"marker\": {\"colorbar\": {\"outlinewidth\": 0, \"ticks\": \"\"}}, \"type\": \"scatterpolargl\"}], \"scatterternary\": [{\"marker\": {\"colorbar\": {\"outlinewidth\": 0, \"ticks\": \"\"}}, \"type\": \"scatterternary\"}], \"surface\": [{\"colorbar\": {\"outlinewidth\": 0, \"ticks\": \"\"}, \"colorscale\": [[0.0, \"#0d0887\"], [0.1111111111111111, \"#46039f\"], [0.2222222222222222, \"#7201a8\"], [0.3333333333333333, \"#9c179e\"], [0.4444444444444444, \"#bd3786\"], [0.5555555555555556, \"#d8576b\"], [0.6666666666666666, \"#ed7953\"], [0.7777777777777778, \"#fb9f3a\"], [0.8888888888888888, \"#fdca26\"], [1.0, \"#f0f921\"]], \"type\": \"surface\"}], \"table\": [{\"cells\": {\"fill\": {\"color\": \"#EBF0F8\"}, \"line\": {\"color\": \"white\"}}, \"header\": {\"fill\": {\"color\": \"#C8D4E3\"}, \"line\": {\"color\": \"white\"}}, \"type\": \"table\"}]}, \"layout\": {\"annotationdefaults\": {\"arrowcolor\": \"#2a3f5f\", \"arrowhead\": 0, \"arrowwidth\": 1}, \"coloraxis\": {\"colorbar\": {\"outlinewidth\": 0, \"ticks\": \"\"}}, \"colorscale\": {\"diverging\": [[0, \"#8e0152\"], [0.1, \"#c51b7d\"], [0.2, \"#de77ae\"], [0.3, \"#f1b6da\"], [0.4, \"#fde0ef\"], [0.5, \"#f7f7f7\"], [0.6, \"#e6f5d0\"], [0.7, \"#b8e186\"], [0.8, \"#7fbc41\"], [0.9, \"#4d9221\"], [1, \"#276419\"]], \"sequential\": [[0.0, \"#0d0887\"], [0.1111111111111111, \"#46039f\"], [0.2222222222222222, \"#7201a8\"], [0.3333333333333333, \"#9c179e\"], [0.4444444444444444, \"#bd3786\"], [0.5555555555555556, \"#d8576b\"], [0.6666666666666666, \"#ed7953\"], [0.7777777777777778, \"#fb9f3a\"], [0.8888888888888888, \"#fdca26\"], [1.0, \"#f0f921\"]], \"sequentialminus\": [[0.0, \"#0d0887\"], [0.1111111111111111, \"#46039f\"], [0.2222222222222222, \"#7201a8\"], [0.3333333333333333, \"#9c179e\"], [0.4444444444444444, \"#bd3786\"], [0.5555555555555556, \"#d8576b\"], [0.6666666666666666, \"#ed7953\"], [0.7777777777777778, \"#fb9f3a\"], [0.8888888888888888, \"#fdca26\"], [1.0, \"#f0f921\"]]}, \"colorway\": [\"#636efa\", \"#EF553B\", \"#00cc96\", \"#ab63fa\", \"#FFA15A\", \"#19d3f3\", \"#FF6692\", \"#B6E880\", \"#FF97FF\", \"#FECB52\"], \"font\": {\"color\": \"#2a3f5f\"}, \"geo\": {\"bgcolor\": \"white\", \"lakecolor\": \"white\", \"landcolor\": \"#E5ECF6\", \"showlakes\": true, \"showland\": true, \"subunitcolor\": \"white\"}, \"hoverlabel\": {\"align\": \"left\"}, \"hovermode\": \"closest\", \"mapbox\": {\"style\": \"light\"}, \"paper_bgcolor\": \"white\", \"plot_bgcolor\": \"#E5ECF6\", \"polar\": {\"angularaxis\": {\"gridcolor\": \"white\", \"linecolor\": \"white\", \"ticks\": \"\"}, \"bgcolor\": \"#E5ECF6\", \"radialaxis\": {\"gridcolor\": \"white\", \"linecolor\": \"white\", \"ticks\": \"\"}}, \"scene\": {\"xaxis\": {\"backgroundcolor\": \"#E5ECF6\", \"gridcolor\": \"white\", \"gridwidth\": 2, \"linecolor\": \"white\", \"showbackground\": true, \"ticks\": \"\", \"zerolinecolor\": \"white\"}, \"yaxis\": {\"backgroundcolor\": \"#E5ECF6\", \"gridcolor\": \"white\", \"gridwidth\": 2, \"linecolor\": \"white\", \"showbackground\": true, \"ticks\": \"\", \"zerolinecolor\": \"white\"}, \"zaxis\": {\"backgroundcolor\": \"#E5ECF6\", \"gridcolor\": \"white\", \"gridwidth\": 2, \"linecolor\": \"white\", \"showbackground\": true, \"ticks\": \"\", \"zerolinecolor\": \"white\"}}, \"shapedefaults\": {\"line\": {\"color\": \"#2a3f5f\"}}, \"ternary\": {\"aaxis\": {\"gridcolor\": \"white\", \"linecolor\": \"white\", \"ticks\": \"\"}, \"baxis\": {\"gridcolor\": \"white\", \"linecolor\": \"white\", \"ticks\": \"\"}, \"bgcolor\": \"#E5ECF6\", \"caxis\": {\"gridcolor\": \"white\", \"linecolor\": \"white\", \"ticks\": \"\"}}, \"title\": {\"x\": 0.05}, \"xaxis\": {\"automargin\": true, \"gridcolor\": \"white\", \"linecolor\": \"white\", \"ticks\": \"\", \"title\": {\"standoff\": 15}, \"zerolinecolor\": \"white\", \"zerolinewidth\": 2}, \"yaxis\": {\"automargin\": true, \"gridcolor\": \"white\", \"linecolor\": \"white\", \"ticks\": \"\", \"title\": {\"standoff\": 15}, \"zerolinecolor\": \"white\", \"zerolinewidth\": 2}}}, \"xaxis\": {\"anchor\": \"y\", \"domain\": [0.0, 1.0], \"title\": {\"text\": \"MEDV\"}}, \"yaxis\": {\"anchor\": \"x\", \"domain\": [0.0, 1.0], \"title\": {\"text\": \"count\"}}},\n",
              "                        {\"responsive\": true}\n",
              "                    ).then(function(){\n",
              "                            \n",
              "var gd = document.getElementById('657c65b2-07e3-4a12-99b9-8eac1ef23408');\n",
              "var x = new MutationObserver(function (mutations, observer) {{\n",
              "        var display = window.getComputedStyle(gd).display;\n",
              "        if (!display || display === 'none') {{\n",
              "            console.log([gd, 'removed!']);\n",
              "            Plotly.purge(gd);\n",
              "            observer.disconnect();\n",
              "        }}\n",
              "}});\n",
              "\n",
              "// Listen for the removal of the full notebook cells\n",
              "var notebookContainer = gd.closest('#notebook-container');\n",
              "if (notebookContainer) {{\n",
              "    x.observe(notebookContainer, {childList: true});\n",
              "}}\n",
              "\n",
              "// Listen for the clearing of the current output cell\n",
              "var outputEl = gd.closest('.output');\n",
              "if (outputEl) {{\n",
              "    x.observe(outputEl, {childList: true});\n",
              "}}\n",
              "\n",
              "                        })\n",
              "                };\n",
              "                \n",
              "            </script>\n",
              "        </div>\n",
              "</body>\n",
              "</html>"
            ]
          },
          "metadata": {
            "tags": []
          }
        }
      ]
    },
    {
      "cell_type": "code",
      "metadata": {
        "id": "wVbqjs8VYE1G",
        "colab_type": "code",
        "outputId": "625c1b35-73fb-4139-a6d1-336678db1b0f",
        "colab": {
          "base_uri": "https://localhost:8080/",
          "height": 542
        }
      },
      "source": [
        "fig = px.histogram(dados_limp, x=\"MEDV\", nbins=50, opacity=0.50)\n",
        "fig.show()"
      ],
      "execution_count": 0,
      "outputs": [
        {
          "output_type": "display_data",
          "data": {
            "text/html": [
              "<html>\n",
              "<head><meta charset=\"utf-8\" /></head>\n",
              "<body>\n",
              "    <div>\n",
              "            <script src=\"https://cdnjs.cloudflare.com/ajax/libs/mathjax/2.7.5/MathJax.js?config=TeX-AMS-MML_SVG\"></script><script type=\"text/javascript\">if (window.MathJax) {MathJax.Hub.Config({SVG: {font: \"STIX-Web\"}});}</script>\n",
              "                <script type=\"text/javascript\">window.PlotlyConfig = {MathJaxConfig: 'local'};</script>\n",
              "        <script src=\"https://cdn.plot.ly/plotly-latest.min.js\"></script>    \n",
              "            <div id=\"34b6be6a-3cc8-4d60-8ce8-8cf6ceb02647\" class=\"plotly-graph-div\" style=\"height:525px; width:100%;\"></div>\n",
              "            <script type=\"text/javascript\">\n",
              "                \n",
              "                    window.PLOTLYENV=window.PLOTLYENV || {};\n",
              "                    \n",
              "                if (document.getElementById(\"34b6be6a-3cc8-4d60-8ce8-8cf6ceb02647\")) {\n",
              "                    Plotly.newPlot(\n",
              "                        '34b6be6a-3cc8-4d60-8ce8-8cf6ceb02647',\n",
              "                        [{\"alignmentgroup\": \"True\", \"bingroup\": \"x\", \"hoverlabel\": {\"namelength\": 0}, \"hovertemplate\": \"MEDV=%{x}<br>count=%{y}\", \"legendgroup\": \"\", \"marker\": {\"color\": \"#636efa\", \"opacity\": 0.5}, \"name\": \"\", \"nbinsx\": 50, \"offsetgroup\": \"\", \"orientation\": \"v\", \"showlegend\": false, \"type\": \"histogram\", \"x\": [24.0, 21.6, 34.7, 33.4, 36.2, 28.7, 22.9, 27.1, 16.5, 18.9, 15.0, 18.9, 21.7, 20.4, 18.2, 19.9, 23.1, 17.5, 20.2, 18.2, 13.6, 19.6, 15.2, 14.5, 15.6, 13.9, 16.6, 14.8, 18.4, 21.0, 12.7, 14.5, 13.2, 13.1, 13.5, 18.9, 20.0, 21.0, 24.7, 30.8, 34.9, 26.6, 25.3, 24.7, 21.2, 19.3, 20.0, 16.6, 14.4, 19.4, 19.7, 20.5, 25.0, 23.4, 18.9, 35.4, 24.7, 31.6, 23.3, 19.6, 18.7, 16.0, 22.2, 25.0, 33.0, 23.5, 19.4, 22.0, 17.4, 20.9, 24.2, 21.7, 22.8, 23.4, 24.1, 21.4, 20.0, 20.8, 21.2, 20.3, 28.0, 23.9, 24.8, 22.9, 23.9, 26.6, 22.5, 22.2, 23.6, 28.7, 22.6, 22.0, 22.9, 25.0, 20.6, 28.4, 21.4, 38.7, 43.8, 33.2, 27.5, 26.5, 18.6, 19.3, 20.1, 19.5, 19.5, 20.4, 19.8, 19.4, 21.7, 22.8, 18.8, 18.7, 18.5, 18.3, 21.2, 19.2, 20.4, 19.3, 22.0, 20.3, 20.5, 17.3, 18.8, 21.4, 15.7, 16.2, 18.0, 14.3, 19.2, 19.6, 23.0, 18.4, 15.6, 18.1, 17.4, 17.1, 13.3, 17.8, 14.0, 14.4, 13.4, 15.6, 11.8, 13.8, 15.6, 14.6, 17.8, 15.4, 21.5, 19.6, 15.3, 19.4, 17.0, 15.6, 13.1, 41.3, 24.3, 23.3, 27.0, 22.7, 25.0, 23.8, 23.8, 22.3, 17.4, 19.1, 23.1, 23.6, 22.6, 29.4, 23.2, 24.6, 29.9, 37.2, 39.8, 36.2, 37.9, 32.5, 26.4, 29.6, 32.0, 29.8, 34.9, 37.0, 30.5, 36.4, 31.1, 29.1, 33.3, 30.3, 34.6, 34.9, 32.9, 24.1, 42.3, 48.5, 22.6, 24.4, 22.5, 24.4, 20.0, 21.7, 19.3, 22.4, 28.1, 23.7, 25.0, 23.3, 28.7, 21.5, 23.0, 26.7, 21.7, 27.5, 30.1, 44.8, 37.6, 31.6, 46.7, 31.5, 24.3, 31.7, 41.7, 48.3, 29.0, 24.0, 25.1, 31.5, 23.7, 23.3, 22.0, 20.1, 22.2, 23.7, 17.6, 18.5, 24.3, 20.5, 24.5, 26.2, 24.4, 24.8, 29.6, 42.8, 21.9, 20.9, 44.0, 36.0, 30.1, 33.8, 43.1, 48.8, 31.0, 36.5, 22.8, 30.7, 43.5, 20.7, 21.1, 25.2, 24.4, 35.2, 32.4, 32.0, 33.2, 33.1, 29.1, 35.1, 45.4, 35.4, 46.0, 32.2, 22.0, 20.1, 23.2, 22.3, 24.8, 28.5, 37.3, 27.9, 23.9, 21.7, 28.6, 27.1, 20.3, 22.5, 29.0, 24.8, 22.0, 26.4, 33.1, 36.1, 28.4, 33.4, 28.2, 22.8, 20.3, 16.1, 22.1, 19.4, 21.6, 23.8, 16.2, 17.8, 19.8, 23.1, 21.0, 23.8, 23.1, 20.4, 18.5, 25.0, 24.6, 23.0, 22.2, 19.3, 22.6, 19.8, 17.1, 19.4, 22.2, 20.7, 21.1, 19.5, 18.5, 20.6, 19.0, 18.7, 32.7, 16.5, 23.9, 31.2, 17.5, 17.2, 23.1, 24.5, 26.6, 22.9, 24.1, 18.6, 30.1, 18.2, 20.6, 17.8, 21.7, 22.7, 22.6, 25.0, 19.9, 20.8, 16.8, 21.9, 27.5, 21.9, 23.1, 13.8, 13.8, 15.0, 13.9, 13.3, 13.1, 10.2, 10.4, 10.9, 11.3, 12.3, 8.8, 7.2, 10.5, 7.4, 10.2, 11.5, 15.1, 23.2, 9.7, 13.8, 12.7, 13.1, 12.5, 8.5, 5.0, 6.3, 5.6, 7.2, 12.1, 8.3, 8.5, 5.0, 11.9, 27.9, 17.2, 27.5, 15.0, 17.2, 17.9, 16.3, 7.0, 7.2, 7.5, 10.4, 8.8, 8.4, 16.7, 14.2, 20.8, 13.4, 11.7, 8.3, 10.2, 10.9, 11.0, 9.5, 14.5, 14.1, 16.1, 14.3, 11.7, 13.4, 9.6, 8.7, 8.4, 12.8, 10.5, 17.1, 18.4, 15.4, 10.8, 11.8, 14.9, 12.6, 14.1, 13.0, 13.4, 15.2, 16.1, 17.8, 14.9, 14.1, 12.7, 13.5, 14.9, 20.0, 16.4, 17.7, 19.5, 20.2, 21.4, 19.9, 19.0, 19.1, 19.1, 20.1, 19.9, 19.6, 23.2, 29.8, 13.8, 13.3, 16.7, 12.0, 14.6, 21.4, 23.0, 23.7, 25.0, 21.8, 20.6, 21.2, 19.1, 20.6, 15.2, 7.0, 8.1, 13.6, 20.1, 21.8, 24.5, 23.1, 19.7, 18.3, 21.2, 17.5, 16.8, 22.4, 20.6, 23.9, 22.0, 11.9], \"xaxis\": \"x\", \"yaxis\": \"y\"}],\n",
              "                        {\"barmode\": \"relative\", \"legend\": {\"tracegroupgap\": 0}, \"margin\": {\"t\": 60}, \"template\": {\"data\": {\"bar\": [{\"error_x\": {\"color\": \"#2a3f5f\"}, \"error_y\": {\"color\": \"#2a3f5f\"}, \"marker\": {\"line\": {\"color\": \"#E5ECF6\", \"width\": 0.5}}, \"type\": \"bar\"}], \"barpolar\": [{\"marker\": {\"line\": {\"color\": \"#E5ECF6\", \"width\": 0.5}}, \"type\": \"barpolar\"}], \"carpet\": [{\"aaxis\": {\"endlinecolor\": \"#2a3f5f\", \"gridcolor\": \"white\", \"linecolor\": \"white\", \"minorgridcolor\": \"white\", \"startlinecolor\": \"#2a3f5f\"}, \"baxis\": {\"endlinecolor\": \"#2a3f5f\", \"gridcolor\": \"white\", \"linecolor\": \"white\", \"minorgridcolor\": \"white\", \"startlinecolor\": \"#2a3f5f\"}, \"type\": \"carpet\"}], \"choropleth\": [{\"colorbar\": {\"outlinewidth\": 0, \"ticks\": \"\"}, \"type\": \"choropleth\"}], \"contour\": [{\"colorbar\": {\"outlinewidth\": 0, \"ticks\": \"\"}, \"colorscale\": [[0.0, \"#0d0887\"], [0.1111111111111111, \"#46039f\"], [0.2222222222222222, \"#7201a8\"], [0.3333333333333333, \"#9c179e\"], [0.4444444444444444, \"#bd3786\"], [0.5555555555555556, \"#d8576b\"], [0.6666666666666666, \"#ed7953\"], [0.7777777777777778, \"#fb9f3a\"], [0.8888888888888888, \"#fdca26\"], [1.0, \"#f0f921\"]], \"type\": \"contour\"}], \"contourcarpet\": [{\"colorbar\": {\"outlinewidth\": 0, \"ticks\": \"\"}, \"type\": \"contourcarpet\"}], \"heatmap\": [{\"colorbar\": {\"outlinewidth\": 0, \"ticks\": \"\"}, \"colorscale\": [[0.0, \"#0d0887\"], [0.1111111111111111, \"#46039f\"], [0.2222222222222222, \"#7201a8\"], [0.3333333333333333, \"#9c179e\"], [0.4444444444444444, \"#bd3786\"], [0.5555555555555556, \"#d8576b\"], [0.6666666666666666, \"#ed7953\"], [0.7777777777777778, \"#fb9f3a\"], [0.8888888888888888, \"#fdca26\"], [1.0, \"#f0f921\"]], \"type\": \"heatmap\"}], \"heatmapgl\": [{\"colorbar\": {\"outlinewidth\": 0, \"ticks\": \"\"}, \"colorscale\": [[0.0, \"#0d0887\"], [0.1111111111111111, \"#46039f\"], [0.2222222222222222, \"#7201a8\"], [0.3333333333333333, \"#9c179e\"], [0.4444444444444444, \"#bd3786\"], [0.5555555555555556, \"#d8576b\"], [0.6666666666666666, \"#ed7953\"], [0.7777777777777778, \"#fb9f3a\"], [0.8888888888888888, \"#fdca26\"], [1.0, \"#f0f921\"]], \"type\": \"heatmapgl\"}], \"histogram\": [{\"marker\": {\"colorbar\": {\"outlinewidth\": 0, \"ticks\": \"\"}}, \"type\": \"histogram\"}], \"histogram2d\": [{\"colorbar\": {\"outlinewidth\": 0, \"ticks\": \"\"}, \"colorscale\": [[0.0, \"#0d0887\"], [0.1111111111111111, \"#46039f\"], [0.2222222222222222, \"#7201a8\"], [0.3333333333333333, \"#9c179e\"], [0.4444444444444444, \"#bd3786\"], [0.5555555555555556, \"#d8576b\"], [0.6666666666666666, \"#ed7953\"], [0.7777777777777778, \"#fb9f3a\"], [0.8888888888888888, \"#fdca26\"], [1.0, \"#f0f921\"]], \"type\": \"histogram2d\"}], \"histogram2dcontour\": [{\"colorbar\": {\"outlinewidth\": 0, \"ticks\": \"\"}, \"colorscale\": [[0.0, \"#0d0887\"], [0.1111111111111111, \"#46039f\"], [0.2222222222222222, \"#7201a8\"], [0.3333333333333333, \"#9c179e\"], [0.4444444444444444, \"#bd3786\"], [0.5555555555555556, \"#d8576b\"], [0.6666666666666666, \"#ed7953\"], [0.7777777777777778, \"#fb9f3a\"], [0.8888888888888888, \"#fdca26\"], [1.0, \"#f0f921\"]], \"type\": \"histogram2dcontour\"}], \"mesh3d\": [{\"colorbar\": {\"outlinewidth\": 0, \"ticks\": \"\"}, \"type\": \"mesh3d\"}], \"parcoords\": [{\"line\": {\"colorbar\": {\"outlinewidth\": 0, \"ticks\": \"\"}}, \"type\": \"parcoords\"}], \"pie\": [{\"automargin\": true, \"type\": \"pie\"}], \"scatter\": [{\"marker\": {\"colorbar\": {\"outlinewidth\": 0, \"ticks\": \"\"}}, \"type\": \"scatter\"}], \"scatter3d\": [{\"line\": {\"colorbar\": {\"outlinewidth\": 0, \"ticks\": \"\"}}, \"marker\": {\"colorbar\": {\"outlinewidth\": 0, \"ticks\": \"\"}}, \"type\": \"scatter3d\"}], \"scattercarpet\": [{\"marker\": {\"colorbar\": {\"outlinewidth\": 0, \"ticks\": \"\"}}, \"type\": \"scattercarpet\"}], \"scattergeo\": [{\"marker\": {\"colorbar\": {\"outlinewidth\": 0, \"ticks\": \"\"}}, \"type\": \"scattergeo\"}], \"scattergl\": [{\"marker\": {\"colorbar\": {\"outlinewidth\": 0, \"ticks\": \"\"}}, \"type\": \"scattergl\"}], \"scattermapbox\": [{\"marker\": {\"colorbar\": {\"outlinewidth\": 0, \"ticks\": \"\"}}, \"type\": \"scattermapbox\"}], \"scatterpolar\": [{\"marker\": {\"colorbar\": {\"outlinewidth\": 0, \"ticks\": \"\"}}, \"type\": \"scatterpolar\"}], \"scatterpolargl\": [{\"marker\": {\"colorbar\": {\"outlinewidth\": 0, \"ticks\": \"\"}}, \"type\": \"scatterpolargl\"}], \"scatterternary\": [{\"marker\": {\"colorbar\": {\"outlinewidth\": 0, \"ticks\": \"\"}}, \"type\": \"scatterternary\"}], \"surface\": [{\"colorbar\": {\"outlinewidth\": 0, \"ticks\": \"\"}, \"colorscale\": [[0.0, \"#0d0887\"], [0.1111111111111111, \"#46039f\"], [0.2222222222222222, \"#7201a8\"], [0.3333333333333333, \"#9c179e\"], [0.4444444444444444, \"#bd3786\"], [0.5555555555555556, \"#d8576b\"], [0.6666666666666666, \"#ed7953\"], [0.7777777777777778, \"#fb9f3a\"], [0.8888888888888888, \"#fdca26\"], [1.0, \"#f0f921\"]], \"type\": \"surface\"}], \"table\": [{\"cells\": {\"fill\": {\"color\": \"#EBF0F8\"}, \"line\": {\"color\": \"white\"}}, \"header\": {\"fill\": {\"color\": \"#C8D4E3\"}, \"line\": {\"color\": \"white\"}}, \"type\": \"table\"}]}, \"layout\": {\"annotationdefaults\": {\"arrowcolor\": \"#2a3f5f\", \"arrowhead\": 0, \"arrowwidth\": 1}, \"coloraxis\": {\"colorbar\": {\"outlinewidth\": 0, \"ticks\": \"\"}}, \"colorscale\": {\"diverging\": [[0, \"#8e0152\"], [0.1, \"#c51b7d\"], [0.2, \"#de77ae\"], [0.3, \"#f1b6da\"], [0.4, \"#fde0ef\"], [0.5, \"#f7f7f7\"], [0.6, \"#e6f5d0\"], [0.7, \"#b8e186\"], [0.8, \"#7fbc41\"], [0.9, \"#4d9221\"], [1, \"#276419\"]], \"sequential\": [[0.0, \"#0d0887\"], [0.1111111111111111, \"#46039f\"], [0.2222222222222222, \"#7201a8\"], [0.3333333333333333, \"#9c179e\"], [0.4444444444444444, \"#bd3786\"], [0.5555555555555556, \"#d8576b\"], [0.6666666666666666, \"#ed7953\"], [0.7777777777777778, \"#fb9f3a\"], [0.8888888888888888, \"#fdca26\"], [1.0, \"#f0f921\"]], \"sequentialminus\": [[0.0, \"#0d0887\"], [0.1111111111111111, \"#46039f\"], [0.2222222222222222, \"#7201a8\"], [0.3333333333333333, \"#9c179e\"], [0.4444444444444444, \"#bd3786\"], [0.5555555555555556, \"#d8576b\"], [0.6666666666666666, \"#ed7953\"], [0.7777777777777778, \"#fb9f3a\"], [0.8888888888888888, \"#fdca26\"], [1.0, \"#f0f921\"]]}, \"colorway\": [\"#636efa\", \"#EF553B\", \"#00cc96\", \"#ab63fa\", \"#FFA15A\", \"#19d3f3\", \"#FF6692\", \"#B6E880\", \"#FF97FF\", \"#FECB52\"], \"font\": {\"color\": \"#2a3f5f\"}, \"geo\": {\"bgcolor\": \"white\", \"lakecolor\": \"white\", \"landcolor\": \"#E5ECF6\", \"showlakes\": true, \"showland\": true, \"subunitcolor\": \"white\"}, \"hoverlabel\": {\"align\": \"left\"}, \"hovermode\": \"closest\", \"mapbox\": {\"style\": \"light\"}, \"paper_bgcolor\": \"white\", \"plot_bgcolor\": \"#E5ECF6\", \"polar\": {\"angularaxis\": {\"gridcolor\": \"white\", \"linecolor\": \"white\", \"ticks\": \"\"}, \"bgcolor\": \"#E5ECF6\", \"radialaxis\": {\"gridcolor\": \"white\", \"linecolor\": \"white\", \"ticks\": \"\"}}, \"scene\": {\"xaxis\": {\"backgroundcolor\": \"#E5ECF6\", \"gridcolor\": \"white\", \"gridwidth\": 2, \"linecolor\": \"white\", \"showbackground\": true, \"ticks\": \"\", \"zerolinecolor\": \"white\"}, \"yaxis\": {\"backgroundcolor\": \"#E5ECF6\", \"gridcolor\": \"white\", \"gridwidth\": 2, \"linecolor\": \"white\", \"showbackground\": true, \"ticks\": \"\", \"zerolinecolor\": \"white\"}, \"zaxis\": {\"backgroundcolor\": \"#E5ECF6\", \"gridcolor\": \"white\", \"gridwidth\": 2, \"linecolor\": \"white\", \"showbackground\": true, \"ticks\": \"\", \"zerolinecolor\": \"white\"}}, \"shapedefaults\": {\"line\": {\"color\": \"#2a3f5f\"}}, \"ternary\": {\"aaxis\": {\"gridcolor\": \"white\", \"linecolor\": \"white\", \"ticks\": \"\"}, \"baxis\": {\"gridcolor\": \"white\", \"linecolor\": \"white\", \"ticks\": \"\"}, \"bgcolor\": \"#E5ECF6\", \"caxis\": {\"gridcolor\": \"white\", \"linecolor\": \"white\", \"ticks\": \"\"}}, \"title\": {\"x\": 0.05}, \"xaxis\": {\"automargin\": true, \"gridcolor\": \"white\", \"linecolor\": \"white\", \"ticks\": \"\", \"title\": {\"standoff\": 15}, \"zerolinecolor\": \"white\", \"zerolinewidth\": 2}, \"yaxis\": {\"automargin\": true, \"gridcolor\": \"white\", \"linecolor\": \"white\", \"ticks\": \"\", \"title\": {\"standoff\": 15}, \"zerolinecolor\": \"white\", \"zerolinewidth\": 2}}}, \"xaxis\": {\"anchor\": \"y\", \"domain\": [0.0, 1.0], \"title\": {\"text\": \"MEDV\"}}, \"yaxis\": {\"anchor\": \"x\", \"domain\": [0.0, 1.0], \"title\": {\"text\": \"count\"}}},\n",
              "                        {\"responsive\": true}\n",
              "                    ).then(function(){\n",
              "                            \n",
              "var gd = document.getElementById('34b6be6a-3cc8-4d60-8ce8-8cf6ceb02647');\n",
              "var x = new MutationObserver(function (mutations, observer) {{\n",
              "        var display = window.getComputedStyle(gd).display;\n",
              "        if (!display || display === 'none') {{\n",
              "            console.log([gd, 'removed!']);\n",
              "            Plotly.purge(gd);\n",
              "            observer.disconnect();\n",
              "        }}\n",
              "}});\n",
              "\n",
              "// Listen for the removal of the full notebook cells\n",
              "var notebookContainer = gd.closest('#notebook-container');\n",
              "if (notebookContainer) {{\n",
              "    x.observe(notebookContainer, {childList: true});\n",
              "}}\n",
              "\n",
              "// Listen for the clearing of the current output cell\n",
              "var outputEl = gd.closest('.output');\n",
              "if (outputEl) {{\n",
              "    x.observe(outputEl, {childList: true});\n",
              "}}\n",
              "\n",
              "                        })\n",
              "                };\n",
              "                \n",
              "            </script>\n",
              "        </div>\n",
              "</body>\n",
              "</html>"
            ]
          },
          "metadata": {
            "tags": []
          }
        }
      ]
    },
    {
      "cell_type": "markdown",
      "metadata": {
        "id": "95zF22dhY8BQ",
        "colab_type": "text"
      },
      "source": [
        "**Coeficiente de Pearson antes da limpeza nos dados**\n"
      ]
    },
    {
      "cell_type": "code",
      "metadata": {
        "id": "xHF1XwJbY8u5",
        "colab_type": "code",
        "outputId": "45fa369a-6b97-4ae8-f386-059a5608700a",
        "colab": {
          "base_uri": "https://localhost:8080/",
          "height": 34
        }
      },
      "source": [
        "stats.skew(dados.MEDV)"
      ],
      "execution_count": 0,
      "outputs": [
        {
          "output_type": "execute_result",
          "data": {
            "text/plain": [
              "1.104810822864635"
            ]
          },
          "metadata": {
            "tags": []
          },
          "execution_count": 57
        }
      ]
    },
    {
      "cell_type": "markdown",
      "metadata": {
        "colab_type": "text",
        "id": "t3GwGh9lYx3F"
      },
      "source": [
        "**Coeficiente de Pearson após da limpeza nos dados**\n"
      ]
    },
    {
      "cell_type": "code",
      "metadata": {
        "colab_type": "code",
        "outputId": "c8915259-3ff4-4656-8726-55ca3f4fbd91",
        "id": "KhE3uIqcYx3I",
        "colab": {
          "base_uri": "https://localhost:8080/",
          "height": 34
        }
      },
      "source": [
        "stats.skew(dados_limp.MEDV)"
      ],
      "execution_count": 0,
      "outputs": [
        {
          "output_type": "execute_result",
          "data": {
            "text/plain": [
              "0.7732836030909053"
            ]
          },
          "metadata": {
            "tags": []
          },
          "execution_count": 56
        }
      ]
    },
    {
      "cell_type": "markdown",
      "metadata": {
        "id": "AL3GEVJgZlTM",
        "colab_type": "text"
      },
      "source": [
        "# Definindo uma Baseline"
      ]
    },
    {
      "cell_type": "markdown",
      "metadata": {
        "id": "l_gmtJa8amSL",
        "colab_type": "text"
      },
      "source": [
        "**Converter os dados (número de quartos) p/ inteiro**"
      ]
    },
    {
      "cell_type": "code",
      "metadata": {
        "id": "5sDXIrp2arFg",
        "colab_type": "code",
        "outputId": "187df5bd-7e65-45d9-9d5e-25e439c0256c",
        "colab": {
          "base_uri": "https://localhost:8080/",
          "height": 204
        }
      },
      "source": [
        "dados_limp.RM = dados_limp.RM.astype(int)\n",
        "dados_limp.head(5)"
      ],
      "execution_count": 0,
      "outputs": [
        {
          "output_type": "execute_result",
          "data": {
            "text/html": [
              "<div>\n",
              "<style scoped>\n",
              "    .dataframe tbody tr th:only-of-type {\n",
              "        vertical-align: middle;\n",
              "    }\n",
              "\n",
              "    .dataframe tbody tr th {\n",
              "        vertical-align: top;\n",
              "    }\n",
              "\n",
              "    .dataframe thead th {\n",
              "        text-align: right;\n",
              "    }\n",
              "</style>\n",
              "<table border=\"1\" class=\"dataframe\">\n",
              "  <thead>\n",
              "    <tr style=\"text-align: right;\">\n",
              "      <th></th>\n",
              "      <th>CRIM</th>\n",
              "      <th>ZN</th>\n",
              "      <th>INDUS</th>\n",
              "      <th>CHAS</th>\n",
              "      <th>NOX</th>\n",
              "      <th>RM</th>\n",
              "      <th>AGE</th>\n",
              "      <th>DIS</th>\n",
              "      <th>RAD</th>\n",
              "      <th>TAX</th>\n",
              "      <th>PTRATIO</th>\n",
              "      <th>B</th>\n",
              "      <th>LSTAT</th>\n",
              "      <th>MEDV</th>\n",
              "    </tr>\n",
              "  </thead>\n",
              "  <tbody>\n",
              "    <tr>\n",
              "      <th>0</th>\n",
              "      <td>0.00632</td>\n",
              "      <td>18.0</td>\n",
              "      <td>2.31</td>\n",
              "      <td>0.0</td>\n",
              "      <td>0.538</td>\n",
              "      <td>6</td>\n",
              "      <td>65.2</td>\n",
              "      <td>4.0900</td>\n",
              "      <td>1.0</td>\n",
              "      <td>296.0</td>\n",
              "      <td>15.3</td>\n",
              "      <td>396.90</td>\n",
              "      <td>4.98</td>\n",
              "      <td>24.0</td>\n",
              "    </tr>\n",
              "    <tr>\n",
              "      <th>1</th>\n",
              "      <td>0.02731</td>\n",
              "      <td>0.0</td>\n",
              "      <td>7.07</td>\n",
              "      <td>0.0</td>\n",
              "      <td>0.469</td>\n",
              "      <td>6</td>\n",
              "      <td>78.9</td>\n",
              "      <td>4.9671</td>\n",
              "      <td>2.0</td>\n",
              "      <td>242.0</td>\n",
              "      <td>17.8</td>\n",
              "      <td>396.90</td>\n",
              "      <td>9.14</td>\n",
              "      <td>21.6</td>\n",
              "    </tr>\n",
              "    <tr>\n",
              "      <th>2</th>\n",
              "      <td>0.02729</td>\n",
              "      <td>0.0</td>\n",
              "      <td>7.07</td>\n",
              "      <td>0.0</td>\n",
              "      <td>0.469</td>\n",
              "      <td>7</td>\n",
              "      <td>61.1</td>\n",
              "      <td>4.9671</td>\n",
              "      <td>2.0</td>\n",
              "      <td>242.0</td>\n",
              "      <td>17.8</td>\n",
              "      <td>392.83</td>\n",
              "      <td>4.03</td>\n",
              "      <td>34.7</td>\n",
              "    </tr>\n",
              "    <tr>\n",
              "      <th>3</th>\n",
              "      <td>0.03237</td>\n",
              "      <td>0.0</td>\n",
              "      <td>2.18</td>\n",
              "      <td>0.0</td>\n",
              "      <td>0.458</td>\n",
              "      <td>6</td>\n",
              "      <td>45.8</td>\n",
              "      <td>6.0622</td>\n",
              "      <td>3.0</td>\n",
              "      <td>222.0</td>\n",
              "      <td>18.7</td>\n",
              "      <td>394.63</td>\n",
              "      <td>2.94</td>\n",
              "      <td>33.4</td>\n",
              "    </tr>\n",
              "    <tr>\n",
              "      <th>4</th>\n",
              "      <td>0.06905</td>\n",
              "      <td>0.0</td>\n",
              "      <td>2.18</td>\n",
              "      <td>0.0</td>\n",
              "      <td>0.458</td>\n",
              "      <td>7</td>\n",
              "      <td>54.2</td>\n",
              "      <td>6.0622</td>\n",
              "      <td>3.0</td>\n",
              "      <td>222.0</td>\n",
              "      <td>18.7</td>\n",
              "      <td>396.90</td>\n",
              "      <td>5.33</td>\n",
              "      <td>36.2</td>\n",
              "    </tr>\n",
              "  </tbody>\n",
              "</table>\n",
              "</div>"
            ],
            "text/plain": [
              "      CRIM    ZN  INDUS  CHAS    NOX  ...    TAX  PTRATIO       B  LSTAT  MEDV\n",
              "0  0.00632  18.0   2.31   0.0  0.538  ...  296.0     15.3  396.90   4.98  24.0\n",
              "1  0.02731   0.0   7.07   0.0  0.469  ...  242.0     17.8  396.90   9.14  21.6\n",
              "2  0.02729   0.0   7.07   0.0  0.469  ...  242.0     17.8  392.83   4.03  34.7\n",
              "3  0.03237   0.0   2.18   0.0  0.458  ...  222.0     18.7  394.63   2.94  33.4\n",
              "4  0.06905   0.0   2.18   0.0  0.458  ...  222.0     18.7  396.90   5.33  36.2\n",
              "\n",
              "[5 rows x 14 columns]"
            ]
          },
          "metadata": {
            "tags": []
          },
          "execution_count": 59
        }
      ]
    },
    {
      "cell_type": "markdown",
      "metadata": {
        "id": "w-99imS5bn59",
        "colab_type": "text"
      },
      "source": [
        "**Verificar que os dados agora estão como inteiros**"
      ]
    },
    {
      "cell_type": "code",
      "metadata": {
        "id": "qHY7r8dLa1Oj",
        "colab_type": "code",
        "outputId": "f5183165-2671-4253-e0f6-be494b6fa784",
        "colab": {
          "base_uri": "https://localhost:8080/",
          "height": 374
        }
      },
      "source": [
        "dados_limp.info()"
      ],
      "execution_count": 0,
      "outputs": [
        {
          "output_type": "stream",
          "text": [
            "<class 'pandas.core.frame.DataFrame'>\n",
            "Int64Index: 490 entries, 0 to 505\n",
            "Data columns (total 14 columns):\n",
            " #   Column   Non-Null Count  Dtype  \n",
            "---  ------   --------------  -----  \n",
            " 0   CRIM     490 non-null    float64\n",
            " 1   ZN       490 non-null    float64\n",
            " 2   INDUS    490 non-null    float64\n",
            " 3   CHAS     490 non-null    float64\n",
            " 4   NOX      490 non-null    float64\n",
            " 5   RM       490 non-null    int64  \n",
            " 6   AGE      490 non-null    float64\n",
            " 7   DIS      490 non-null    float64\n",
            " 8   RAD      490 non-null    float64\n",
            " 9   TAX      490 non-null    float64\n",
            " 10  PTRATIO  490 non-null    float64\n",
            " 11  B        490 non-null    float64\n",
            " 12  LSTAT    490 non-null    float64\n",
            " 13  MEDV     490 non-null    float64\n",
            "dtypes: float64(13), int64(1)\n",
            "memory usage: 57.4 KB\n"
          ],
          "name": "stdout"
        }
      ]
    },
    {
      "cell_type": "code",
      "metadata": {
        "id": "BcSppsipbm6q",
        "colab_type": "code",
        "outputId": "5aea9283-b76f-4972-fb57-f8ce2d25b9a0",
        "colab": {
          "base_uri": "https://localhost:8080/",
          "height": 170
        }
      },
      "source": [
        "dados_limp.RM.describe()"
      ],
      "execution_count": 0,
      "outputs": [
        {
          "output_type": "execute_result",
          "data": {
            "text/plain": [
              "count    490.000000\n",
              "mean       5.740816\n",
              "std        0.737657\n",
              "min        3.000000\n",
              "25%        5.000000\n",
              "50%        6.000000\n",
              "75%        6.000000\n",
              "max        8.000000\n",
              "Name: RM, dtype: float64"
            ]
          },
          "metadata": {
            "tags": []
          },
          "execution_count": 62
        }
      ]
    },
    {
      "cell_type": "markdown",
      "metadata": {
        "id": "Dk-S3wdLcZ5l",
        "colab_type": "text"
      },
      "source": [
        "Iniciando lista vazia para armazenas os valores categorizados dos imóveis"
      ]
    },
    {
      "cell_type": "code",
      "metadata": {
        "id": "yIExiyOTcED4",
        "colab_type": "code",
        "colab": {}
      },
      "source": [
        "categorias = []"
      ],
      "execution_count": 0,
      "outputs": []
    },
    {
      "cell_type": "markdown",
      "metadata": {
        "id": "nKPQL_85b09k",
        "colab_type": "text"
      },
      "source": [
        "**Classificação Manual de Imóveis em: Pequeno, Médio ou Grande**"
      ]
    },
    {
      "cell_type": "code",
      "metadata": {
        "id": "HhsVqKV9bt97",
        "colab_type": "code",
        "colab": {}
      },
      "source": [
        "for i in dados_limp.RM.iteritems():\n",
        "  valor = (i[1])\n",
        "  if valor <= 4:\n",
        "    categorias.append('P')\n",
        "  elif valor > 4 and valor < 7:\n",
        "    categorias.append('M')\n",
        "  elif valor >= 7:\n",
        "    categorias.append('G')\n"
      ],
      "execution_count": 0,
      "outputs": []
    },
    {
      "cell_type": "code",
      "metadata": {
        "id": "ZUoKPReMcfUb",
        "colab_type": "code",
        "outputId": "9f33f319-ebd7-43dd-810b-a409b901e4b6",
        "colab": {
          "base_uri": "https://localhost:8080/",
          "height": 34
        }
      },
      "source": [
        "len(categorias)"
      ],
      "execution_count": 0,
      "outputs": [
        {
          "output_type": "execute_result",
          "data": {
            "text/plain": [
              "490"
            ]
          },
          "metadata": {
            "tags": []
          },
          "execution_count": 80
        }
      ]
    },
    {
      "cell_type": "code",
      "metadata": {
        "id": "IoRm1Jdyc8qT",
        "colab_type": "code",
        "outputId": "eaf803f6-77ac-48ba-ded8-456b2c0b07ce",
        "colab": {
          "base_uri": "https://localhost:8080/",
          "height": 419
        }
      },
      "source": [
        "dados_limp['categorias'] = categorias\n",
        "dados_limp"
      ],
      "execution_count": 0,
      "outputs": [
        {
          "output_type": "execute_result",
          "data": {
            "text/html": [
              "<div>\n",
              "<style scoped>\n",
              "    .dataframe tbody tr th:only-of-type {\n",
              "        vertical-align: middle;\n",
              "    }\n",
              "\n",
              "    .dataframe tbody tr th {\n",
              "        vertical-align: top;\n",
              "    }\n",
              "\n",
              "    .dataframe thead th {\n",
              "        text-align: right;\n",
              "    }\n",
              "</style>\n",
              "<table border=\"1\" class=\"dataframe\">\n",
              "  <thead>\n",
              "    <tr style=\"text-align: right;\">\n",
              "      <th></th>\n",
              "      <th>CRIM</th>\n",
              "      <th>ZN</th>\n",
              "      <th>INDUS</th>\n",
              "      <th>CHAS</th>\n",
              "      <th>NOX</th>\n",
              "      <th>RM</th>\n",
              "      <th>AGE</th>\n",
              "      <th>DIS</th>\n",
              "      <th>RAD</th>\n",
              "      <th>TAX</th>\n",
              "      <th>PTRATIO</th>\n",
              "      <th>B</th>\n",
              "      <th>LSTAT</th>\n",
              "      <th>MEDV</th>\n",
              "      <th>categorias</th>\n",
              "    </tr>\n",
              "  </thead>\n",
              "  <tbody>\n",
              "    <tr>\n",
              "      <th>0</th>\n",
              "      <td>0.00632</td>\n",
              "      <td>18.0</td>\n",
              "      <td>2.31</td>\n",
              "      <td>0.0</td>\n",
              "      <td>0.538</td>\n",
              "      <td>6</td>\n",
              "      <td>65.2</td>\n",
              "      <td>4.0900</td>\n",
              "      <td>1.0</td>\n",
              "      <td>296.0</td>\n",
              "      <td>15.3</td>\n",
              "      <td>396.90</td>\n",
              "      <td>4.98</td>\n",
              "      <td>24.0</td>\n",
              "      <td>M</td>\n",
              "    </tr>\n",
              "    <tr>\n",
              "      <th>1</th>\n",
              "      <td>0.02731</td>\n",
              "      <td>0.0</td>\n",
              "      <td>7.07</td>\n",
              "      <td>0.0</td>\n",
              "      <td>0.469</td>\n",
              "      <td>6</td>\n",
              "      <td>78.9</td>\n",
              "      <td>4.9671</td>\n",
              "      <td>2.0</td>\n",
              "      <td>242.0</td>\n",
              "      <td>17.8</td>\n",
              "      <td>396.90</td>\n",
              "      <td>9.14</td>\n",
              "      <td>21.6</td>\n",
              "      <td>M</td>\n",
              "    </tr>\n",
              "    <tr>\n",
              "      <th>2</th>\n",
              "      <td>0.02729</td>\n",
              "      <td>0.0</td>\n",
              "      <td>7.07</td>\n",
              "      <td>0.0</td>\n",
              "      <td>0.469</td>\n",
              "      <td>7</td>\n",
              "      <td>61.1</td>\n",
              "      <td>4.9671</td>\n",
              "      <td>2.0</td>\n",
              "      <td>242.0</td>\n",
              "      <td>17.8</td>\n",
              "      <td>392.83</td>\n",
              "      <td>4.03</td>\n",
              "      <td>34.7</td>\n",
              "      <td>G</td>\n",
              "    </tr>\n",
              "    <tr>\n",
              "      <th>3</th>\n",
              "      <td>0.03237</td>\n",
              "      <td>0.0</td>\n",
              "      <td>2.18</td>\n",
              "      <td>0.0</td>\n",
              "      <td>0.458</td>\n",
              "      <td>6</td>\n",
              "      <td>45.8</td>\n",
              "      <td>6.0622</td>\n",
              "      <td>3.0</td>\n",
              "      <td>222.0</td>\n",
              "      <td>18.7</td>\n",
              "      <td>394.63</td>\n",
              "      <td>2.94</td>\n",
              "      <td>33.4</td>\n",
              "      <td>M</td>\n",
              "    </tr>\n",
              "    <tr>\n",
              "      <th>4</th>\n",
              "      <td>0.06905</td>\n",
              "      <td>0.0</td>\n",
              "      <td>2.18</td>\n",
              "      <td>0.0</td>\n",
              "      <td>0.458</td>\n",
              "      <td>7</td>\n",
              "      <td>54.2</td>\n",
              "      <td>6.0622</td>\n",
              "      <td>3.0</td>\n",
              "      <td>222.0</td>\n",
              "      <td>18.7</td>\n",
              "      <td>396.90</td>\n",
              "      <td>5.33</td>\n",
              "      <td>36.2</td>\n",
              "      <td>G</td>\n",
              "    </tr>\n",
              "    <tr>\n",
              "      <th>...</th>\n",
              "      <td>...</td>\n",
              "      <td>...</td>\n",
              "      <td>...</td>\n",
              "      <td>...</td>\n",
              "      <td>...</td>\n",
              "      <td>...</td>\n",
              "      <td>...</td>\n",
              "      <td>...</td>\n",
              "      <td>...</td>\n",
              "      <td>...</td>\n",
              "      <td>...</td>\n",
              "      <td>...</td>\n",
              "      <td>...</td>\n",
              "      <td>...</td>\n",
              "      <td>...</td>\n",
              "    </tr>\n",
              "    <tr>\n",
              "      <th>501</th>\n",
              "      <td>0.06263</td>\n",
              "      <td>0.0</td>\n",
              "      <td>11.93</td>\n",
              "      <td>0.0</td>\n",
              "      <td>0.573</td>\n",
              "      <td>6</td>\n",
              "      <td>69.1</td>\n",
              "      <td>2.4786</td>\n",
              "      <td>1.0</td>\n",
              "      <td>273.0</td>\n",
              "      <td>21.0</td>\n",
              "      <td>391.99</td>\n",
              "      <td>9.67</td>\n",
              "      <td>22.4</td>\n",
              "      <td>M</td>\n",
              "    </tr>\n",
              "    <tr>\n",
              "      <th>502</th>\n",
              "      <td>0.04527</td>\n",
              "      <td>0.0</td>\n",
              "      <td>11.93</td>\n",
              "      <td>0.0</td>\n",
              "      <td>0.573</td>\n",
              "      <td>6</td>\n",
              "      <td>76.7</td>\n",
              "      <td>2.2875</td>\n",
              "      <td>1.0</td>\n",
              "      <td>273.0</td>\n",
              "      <td>21.0</td>\n",
              "      <td>396.90</td>\n",
              "      <td>9.08</td>\n",
              "      <td>20.6</td>\n",
              "      <td>M</td>\n",
              "    </tr>\n",
              "    <tr>\n",
              "      <th>503</th>\n",
              "      <td>0.06076</td>\n",
              "      <td>0.0</td>\n",
              "      <td>11.93</td>\n",
              "      <td>0.0</td>\n",
              "      <td>0.573</td>\n",
              "      <td>6</td>\n",
              "      <td>91.0</td>\n",
              "      <td>2.1675</td>\n",
              "      <td>1.0</td>\n",
              "      <td>273.0</td>\n",
              "      <td>21.0</td>\n",
              "      <td>396.90</td>\n",
              "      <td>5.64</td>\n",
              "      <td>23.9</td>\n",
              "      <td>M</td>\n",
              "    </tr>\n",
              "    <tr>\n",
              "      <th>504</th>\n",
              "      <td>0.10959</td>\n",
              "      <td>0.0</td>\n",
              "      <td>11.93</td>\n",
              "      <td>0.0</td>\n",
              "      <td>0.573</td>\n",
              "      <td>6</td>\n",
              "      <td>89.3</td>\n",
              "      <td>2.3889</td>\n",
              "      <td>1.0</td>\n",
              "      <td>273.0</td>\n",
              "      <td>21.0</td>\n",
              "      <td>393.45</td>\n",
              "      <td>6.48</td>\n",
              "      <td>22.0</td>\n",
              "      <td>M</td>\n",
              "    </tr>\n",
              "    <tr>\n",
              "      <th>505</th>\n",
              "      <td>0.04741</td>\n",
              "      <td>0.0</td>\n",
              "      <td>11.93</td>\n",
              "      <td>0.0</td>\n",
              "      <td>0.573</td>\n",
              "      <td>6</td>\n",
              "      <td>80.8</td>\n",
              "      <td>2.5050</td>\n",
              "      <td>1.0</td>\n",
              "      <td>273.0</td>\n",
              "      <td>21.0</td>\n",
              "      <td>396.90</td>\n",
              "      <td>7.88</td>\n",
              "      <td>11.9</td>\n",
              "      <td>M</td>\n",
              "    </tr>\n",
              "  </tbody>\n",
              "</table>\n",
              "<p>490 rows × 15 columns</p>\n",
              "</div>"
            ],
            "text/plain": [
              "        CRIM    ZN  INDUS  CHAS    NOX  ...  PTRATIO       B  LSTAT  MEDV  categorias\n",
              "0    0.00632  18.0   2.31   0.0  0.538  ...     15.3  396.90   4.98  24.0           M\n",
              "1    0.02731   0.0   7.07   0.0  0.469  ...     17.8  396.90   9.14  21.6           M\n",
              "2    0.02729   0.0   7.07   0.0  0.469  ...     17.8  392.83   4.03  34.7           G\n",
              "3    0.03237   0.0   2.18   0.0  0.458  ...     18.7  394.63   2.94  33.4           M\n",
              "4    0.06905   0.0   2.18   0.0  0.458  ...     18.7  396.90   5.33  36.2           G\n",
              "..       ...   ...    ...   ...    ...  ...      ...     ...    ...   ...         ...\n",
              "501  0.06263   0.0  11.93   0.0  0.573  ...     21.0  391.99   9.67  22.4           M\n",
              "502  0.04527   0.0  11.93   0.0  0.573  ...     21.0  396.90   9.08  20.6           M\n",
              "503  0.06076   0.0  11.93   0.0  0.573  ...     21.0  396.90   5.64  23.9           M\n",
              "504  0.10959   0.0  11.93   0.0  0.573  ...     21.0  393.45   6.48  22.0           M\n",
              "505  0.04741   0.0  11.93   0.0  0.573  ...     21.0  396.90   7.88  11.9           M\n",
              "\n",
              "[490 rows x 15 columns]"
            ]
          },
          "metadata": {
            "tags": []
          },
          "execution_count": 81
        }
      ]
    },
    {
      "cell_type": "markdown",
      "metadata": {
        "id": "tb0CO5AtszK9",
        "colab_type": "text"
      },
      "source": [
        "**Verificando a quantidade de valores por Categoria**"
      ]
    },
    {
      "cell_type": "code",
      "metadata": {
        "id": "eiHY7JKudB68",
        "colab_type": "code",
        "outputId": "086e398f-6fd8-4474-e17d-4c96532daa00",
        "colab": {
          "base_uri": "https://localhost:8080/",
          "height": 85
        }
      },
      "source": [
        "dados_limp['categorias'].value_counts()"
      ],
      "execution_count": 0,
      "outputs": [
        {
          "output_type": "execute_result",
          "data": {
            "text/plain": [
              "M    424\n",
              "G     52\n",
              "P     14\n",
              "Name: categorias, dtype: int64"
            ]
          },
          "metadata": {
            "tags": []
          },
          "execution_count": 82
        }
      ]
    },
    {
      "cell_type": "markdown",
      "metadata": {
        "id": "tpCuRzWqs3yR",
        "colab_type": "text"
      },
      "source": [
        "**Calculando a média (por categoria) a partir de método da biblitoeca Numpy**"
      ]
    },
    {
      "cell_type": "code",
      "metadata": {
        "id": "gRvP2YyTeQNA",
        "colab_type": "code",
        "outputId": "2cca2f1c-3b88-41cf-a5de-8f3fdd41aafe",
        "colab": {
          "base_uri": "https://localhost:8080/",
          "height": 102
        }
      },
      "source": [
        "media_categorias = dados_limp.groupby('categorias').mean()['MEDV']\n",
        "media_categorias"
      ],
      "execution_count": 0,
      "outputs": [
        {
          "output_type": "execute_result",
          "data": {
            "text/plain": [
              "categorias\n",
              "G    35.719231\n",
              "M    20.130425\n",
              "P    14.921429\n",
              "Name: MEDV, dtype: float64"
            ]
          },
          "metadata": {
            "tags": []
          },
          "execution_count": 89
        }
      ]
    },
    {
      "cell_type": "markdown",
      "metadata": {
        "id": "eO4cElMvpQsa",
        "colab_type": "text"
      },
      "source": [
        "# Configurando Baseline"
      ]
    },
    {
      "cell_type": "markdown",
      "metadata": {
        "id": "HSpc-CHDs9s-",
        "colab_type": "text"
      },
      "source": [
        "**Criando dicionário com as categorias e os respectivos valores médios (preços) associados**"
      ]
    },
    {
      "cell_type": "code",
      "metadata": {
        "id": "rIYGLuRreyNK",
        "colab_type": "code",
        "colab": {}
      },
      "source": [
        "dic_baseline = {'Grande': media_categorias[0], 'Medio': media_categorias[1], 'Pequeno': media_categorias[2]}"
      ],
      "execution_count": 0,
      "outputs": []
    },
    {
      "cell_type": "code",
      "metadata": {
        "id": "JnAj5_z6mgSZ",
        "colab_type": "code",
        "outputId": "c92a97b5-7722-4413-af64-729cc7cf9487",
        "colab": {
          "base_uri": "https://localhost:8080/",
          "height": 68
        }
      },
      "source": [
        "dic_baseline"
      ],
      "execution_count": 0,
      "outputs": [
        {
          "output_type": "execute_result",
          "data": {
            "text/plain": [
              "{'Grande': 35.71923076923077,\n",
              " 'Médio': 20.1304245283019,\n",
              " 'Pequeno': 14.921428571428574}"
            ]
          },
          "metadata": {
            "tags": []
          },
          "execution_count": 91
        }
      ]
    },
    {
      "cell_type": "markdown",
      "metadata": {
        "id": "srDcAl6vtIdW",
        "colab_type": "text"
      },
      "source": [
        "**Criando função que retorna a categoria em que o imóvel se enquadra a partir do número de quartos**"
      ]
    },
    {
      "cell_type": "code",
      "metadata": {
        "id": "fiIZZp3jmh2W",
        "colab_type": "code",
        "colab": {}
      },
      "source": [
        "def retorna_baseline(num_quartos):\n",
        "  if num_quartos <= 4:\n",
        "   return dic_baseline.get('Pequeno')\n",
        "  elif num_quartos > 4 and num_quartos < 7:\n",
        "   return dic_baseline.get('Medio')\n",
        "  elif num_quartos >= 7:\n",
        "   return dic_baseline.get('Grande')\n"
      ],
      "execution_count": 0,
      "outputs": []
    },
    {
      "cell_type": "code",
      "metadata": {
        "id": "Jg6CEZzknB-z",
        "colab_type": "code",
        "outputId": "998ad041-8cda-4cd6-d7d1-e4825a87863e",
        "colab": {
          "base_uri": "https://localhost:8080/",
          "height": 34
        }
      },
      "source": [
        "retorna_baseline(6)"
      ],
      "execution_count": 0,
      "outputs": [
        {
          "output_type": "execute_result",
          "data": {
            "text/plain": [
              "20.1304245283019"
            ]
          },
          "metadata": {
            "tags": []
          },
          "execution_count": 96
        }
      ]
    },
    {
      "cell_type": "markdown",
      "metadata": {
        "id": "DldEnLXutQdd",
        "colab_type": "text"
      },
      "source": [
        "**Iterando por todas as linhas e a partir da coluna de número de quartos associando um preço médio a este**"
      ]
    },
    {
      "cell_type": "code",
      "metadata": {
        "id": "QiogYDounEah",
        "colab_type": "code",
        "colab": {}
      },
      "source": [
        "for i in dados_limp.RM.iteritems():\n",
        "  num_quartos = i[1]\n",
        "  print('O Número de quartos é: {}, o Valor médio respectivo é: {}'.format(num_quartos, retorna_baseline(num_quartos)))"
      ],
      "execution_count": 0,
      "outputs": []
    },
    {
      "cell_type": "code",
      "metadata": {
        "id": "BxTrRdz3oUWh",
        "colab_type": "code",
        "outputId": "faca01b8-3d9f-4325-9f1d-01036abed4cf",
        "colab": {
          "base_uri": "https://localhost:8080/",
          "height": 204
        }
      },
      "source": [
        "dados_limp.head()"
      ],
      "execution_count": 0,
      "outputs": [
        {
          "output_type": "execute_result",
          "data": {
            "text/html": [
              "<div>\n",
              "<style scoped>\n",
              "    .dataframe tbody tr th:only-of-type {\n",
              "        vertical-align: middle;\n",
              "    }\n",
              "\n",
              "    .dataframe tbody tr th {\n",
              "        vertical-align: top;\n",
              "    }\n",
              "\n",
              "    .dataframe thead th {\n",
              "        text-align: right;\n",
              "    }\n",
              "</style>\n",
              "<table border=\"1\" class=\"dataframe\">\n",
              "  <thead>\n",
              "    <tr style=\"text-align: right;\">\n",
              "      <th></th>\n",
              "      <th>CRIM</th>\n",
              "      <th>ZN</th>\n",
              "      <th>INDUS</th>\n",
              "      <th>CHAS</th>\n",
              "      <th>NOX</th>\n",
              "      <th>RM</th>\n",
              "      <th>AGE</th>\n",
              "      <th>DIS</th>\n",
              "      <th>RAD</th>\n",
              "      <th>TAX</th>\n",
              "      <th>PTRATIO</th>\n",
              "      <th>B</th>\n",
              "      <th>LSTAT</th>\n",
              "      <th>MEDV</th>\n",
              "      <th>categorias</th>\n",
              "    </tr>\n",
              "  </thead>\n",
              "  <tbody>\n",
              "    <tr>\n",
              "      <th>0</th>\n",
              "      <td>0.00632</td>\n",
              "      <td>18.0</td>\n",
              "      <td>2.31</td>\n",
              "      <td>0.0</td>\n",
              "      <td>0.538</td>\n",
              "      <td>6</td>\n",
              "      <td>65.2</td>\n",
              "      <td>4.0900</td>\n",
              "      <td>1.0</td>\n",
              "      <td>296.0</td>\n",
              "      <td>15.3</td>\n",
              "      <td>396.90</td>\n",
              "      <td>4.98</td>\n",
              "      <td>24.0</td>\n",
              "      <td>M</td>\n",
              "    </tr>\n",
              "    <tr>\n",
              "      <th>1</th>\n",
              "      <td>0.02731</td>\n",
              "      <td>0.0</td>\n",
              "      <td>7.07</td>\n",
              "      <td>0.0</td>\n",
              "      <td>0.469</td>\n",
              "      <td>6</td>\n",
              "      <td>78.9</td>\n",
              "      <td>4.9671</td>\n",
              "      <td>2.0</td>\n",
              "      <td>242.0</td>\n",
              "      <td>17.8</td>\n",
              "      <td>396.90</td>\n",
              "      <td>9.14</td>\n",
              "      <td>21.6</td>\n",
              "      <td>M</td>\n",
              "    </tr>\n",
              "    <tr>\n",
              "      <th>2</th>\n",
              "      <td>0.02729</td>\n",
              "      <td>0.0</td>\n",
              "      <td>7.07</td>\n",
              "      <td>0.0</td>\n",
              "      <td>0.469</td>\n",
              "      <td>7</td>\n",
              "      <td>61.1</td>\n",
              "      <td>4.9671</td>\n",
              "      <td>2.0</td>\n",
              "      <td>242.0</td>\n",
              "      <td>17.8</td>\n",
              "      <td>392.83</td>\n",
              "      <td>4.03</td>\n",
              "      <td>34.7</td>\n",
              "      <td>G</td>\n",
              "    </tr>\n",
              "    <tr>\n",
              "      <th>3</th>\n",
              "      <td>0.03237</td>\n",
              "      <td>0.0</td>\n",
              "      <td>2.18</td>\n",
              "      <td>0.0</td>\n",
              "      <td>0.458</td>\n",
              "      <td>6</td>\n",
              "      <td>45.8</td>\n",
              "      <td>6.0622</td>\n",
              "      <td>3.0</td>\n",
              "      <td>222.0</td>\n",
              "      <td>18.7</td>\n",
              "      <td>394.63</td>\n",
              "      <td>2.94</td>\n",
              "      <td>33.4</td>\n",
              "      <td>M</td>\n",
              "    </tr>\n",
              "    <tr>\n",
              "      <th>4</th>\n",
              "      <td>0.06905</td>\n",
              "      <td>0.0</td>\n",
              "      <td>2.18</td>\n",
              "      <td>0.0</td>\n",
              "      <td>0.458</td>\n",
              "      <td>7</td>\n",
              "      <td>54.2</td>\n",
              "      <td>6.0622</td>\n",
              "      <td>3.0</td>\n",
              "      <td>222.0</td>\n",
              "      <td>18.7</td>\n",
              "      <td>396.90</td>\n",
              "      <td>5.33</td>\n",
              "      <td>36.2</td>\n",
              "      <td>G</td>\n",
              "    </tr>\n",
              "  </tbody>\n",
              "</table>\n",
              "</div>"
            ],
            "text/plain": [
              "      CRIM    ZN  INDUS  CHAS    NOX  ...  PTRATIO       B  LSTAT  MEDV  categorias\n",
              "0  0.00632  18.0   2.31   0.0  0.538  ...     15.3  396.90   4.98  24.0           M\n",
              "1  0.02731   0.0   7.07   0.0  0.469  ...     17.8  396.90   9.14  21.6           M\n",
              "2  0.02729   0.0   7.07   0.0  0.469  ...     17.8  392.83   4.03  34.7           G\n",
              "3  0.03237   0.0   2.18   0.0  0.458  ...     18.7  394.63   2.94  33.4           M\n",
              "4  0.06905   0.0   2.18   0.0  0.458  ...     18.7  396.90   5.33  36.2           G\n",
              "\n",
              "[5 rows x 15 columns]"
            ]
          },
          "metadata": {
            "tags": []
          },
          "execution_count": 99
        }
      ]
    }
  ]
}